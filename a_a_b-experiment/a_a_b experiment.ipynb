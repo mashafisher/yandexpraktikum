{
 "cells": [
  {
   "cell_type": "markdown",
   "metadata": {},
   "source": [
    "# Сборный проект № 2"
   ]
  },
  {
   "cell_type": "markdown",
   "metadata": {},
   "source": [
    "## Описание проекта\n",
    "В нашем распоряжении данные стартапа, который продаёт продукты питания. Нужно разобраться, как ведут себя пользователи мобильного приложения. \n",
    "\n",
    "Изучим воронку продаж. Узнаем, как пользователи доходят до покупки. Сколько пользователей доходит до покупки, а сколько — «застревает» на предыдущих шагах? На каких именно?\n",
    "\n",
    "После этого исследуем результаты A/A/B-эксперимента. Дизайнеры захотели поменять шрифты во всём приложении, а менеджеры испугались, что пользователям будет непривычно. Договорились принять решение по результатам A/A/B-теста. Пользователей разбили на 3 группы: 2 контрольные со старыми шрифтами и одну экспериментальную — с новыми. Выясним, какой шрифт лучше.\n",
    "\n",
    "Создание двух групп A вместо одной имеет определённые преимущества. Если две контрольные группы окажутся равны, мы можем быть уверены в точности проведенного тестирования. Если же между значениями A и A будут существенные различия, это поможет обнаружить факторы, которые привели к искажению результатов. Сравнение контрольных групп также помогает понять, сколько времени и данных потребуется для дальнейших тестов.\n",
    "\n",
    "\n",
    "## Структура данных\n",
    "Каждая запись в логе `/datasets/logs_exp.csv` - это действие пользователя, или событие. \n",
    "\n",
    "`EventName` — название события; \n",
    "\n",
    "`DeviceIDHash` — уникальный идентификатор пользователя;\n",
    "\n",
    "`EventTimestamp` — время события;\n",
    "\n",
    "`ExpId` — номер эксперимента: 246 и 247 — контрольные группы, а 248 — экспериментальная."
   ]
  },
  {
   "cell_type": "markdown",
   "metadata": {},
   "source": [
    "## Предобработка данных"
   ]
  },
  {
   "cell_type": "markdown",
   "metadata": {},
   "source": [
    "#### 1. Загружаем библиотеки и изучаем данные"
   ]
  },
  {
   "cell_type": "code",
   "execution_count": 30,
   "metadata": {},
   "outputs": [
    {
     "ename": "ModuleNotFoundError",
     "evalue": "No module named 'plotly'",
     "output_type": "error",
     "traceback": [
      "\u001b[1;31m---------------------------------------------------------------------------\u001b[0m",
      "\u001b[1;31mModuleNotFoundError\u001b[0m                       Traceback (most recent call last)",
      "\u001b[1;32m<ipython-input-30-e2a37bf3fb68>\u001b[0m in \u001b[0;36m<module>\u001b[1;34m\u001b[0m\n\u001b[0;32m      9\u001b[0m \u001b[1;32mfrom\u001b[0m \u001b[0mdatetime\u001b[0m \u001b[1;32mimport\u001b[0m \u001b[0mdatetime\u001b[0m\u001b[1;33m\u001b[0m\u001b[1;33m\u001b[0m\u001b[0m\n\u001b[0;32m     10\u001b[0m \u001b[1;32mfrom\u001b[0m \u001b[0mscipy\u001b[0m\u001b[1;33m.\u001b[0m\u001b[0mstats\u001b[0m \u001b[1;32mimport\u001b[0m \u001b[0mnorm\u001b[0m\u001b[1;33m\u001b[0m\u001b[1;33m\u001b[0m\u001b[0m\n\u001b[1;32m---> 11\u001b[1;33m \u001b[1;32mfrom\u001b[0m \u001b[0mplotly\u001b[0m \u001b[1;32mimport\u001b[0m \u001b[0mgraph_objects\u001b[0m \u001b[1;32mas\u001b[0m \u001b[0mgo\u001b[0m\u001b[1;33m\u001b[0m\u001b[1;33m\u001b[0m\u001b[0m\n\u001b[0m\u001b[0;32m     12\u001b[0m \u001b[1;32mimport\u001b[0m \u001b[0mplotly\u001b[0m\u001b[1;33m.\u001b[0m\u001b[0mexpress\u001b[0m \u001b[1;32mas\u001b[0m \u001b[0mpx\u001b[0m\u001b[1;33m\u001b[0m\u001b[1;33m\u001b[0m\u001b[0m\n",
      "\u001b[1;31mModuleNotFoundError\u001b[0m: No module named 'plotly'"
     ]
    }
   ],
   "source": [
    "import pandas as pd\n",
    "import matplotlib.pyplot as plt\n",
    "import seaborn as sns\n",
    "#следующие библиотеки понадобятся для проверки гипотез и анализа A/B-тестов\n",
    "from scipy import stats as st\n",
    "import numpy as np\n",
    "import math as mth\n",
    "import datetime as dt\n",
    "from datetime import datetime\n",
    "from scipy.stats import norm\n",
    "from plotly import graph_objects as go\n",
    "import plotly.express as px"
   ]
  },
  {
   "cell_type": "code",
   "execution_count": 2,
   "metadata": {},
   "outputs": [],
   "source": [
    "server_path = '/datasets/logs_exp.csv'\n",
    "filename = 'logs_exp.csv'\n",
    "\n",
    "try:\n",
    "    logs = pd.read_csv(filename) \n",
    "except: \n",
    "    logs = pd.read_csv(server_path)"
   ]
  },
  {
   "cell_type": "code",
   "execution_count": 3,
   "metadata": {},
   "outputs": [
    {
     "name": "stdout",
     "output_type": "stream",
     "text": [
      "<class 'pandas.core.frame.DataFrame'>\n",
      "RangeIndex: 244126 entries, 0 to 244125\n",
      "Data columns (total 5 columns):\n",
      " #   Column          Non-Null Count   Dtype \n",
      "---  ------          --------------   ----- \n",
      " 0   Unnamed: 0      244126 non-null  int64 \n",
      " 1   EventName       244126 non-null  object\n",
      " 2   DeviceIDHash    244126 non-null  int64 \n",
      " 3   EventTimestamp  244126 non-null  int64 \n",
      " 4   ExpId           244126 non-null  int64 \n",
      "dtypes: int64(4), object(1)\n",
      "memory usage: 9.3+ MB\n"
     ]
    }
   ],
   "source": [
    "#изучим данные\n",
    "logs.info()"
   ]
  },
  {
   "cell_type": "code",
   "execution_count": 4,
   "metadata": {
    "scrolled": true
   },
   "outputs": [
    {
     "data": {
      "text/html": [
       "<div>\n",
       "<style scoped>\n",
       "    .dataframe tbody tr th:only-of-type {\n",
       "        vertical-align: middle;\n",
       "    }\n",
       "\n",
       "    .dataframe tbody tr th {\n",
       "        vertical-align: top;\n",
       "    }\n",
       "\n",
       "    .dataframe thead th {\n",
       "        text-align: right;\n",
       "    }\n",
       "</style>\n",
       "<table border=\"1\" class=\"dataframe\">\n",
       "  <thead>\n",
       "    <tr style=\"text-align: right;\">\n",
       "      <th></th>\n",
       "      <th>Unnamed: 0</th>\n",
       "      <th>EventName</th>\n",
       "      <th>DeviceIDHash</th>\n",
       "      <th>EventTimestamp</th>\n",
       "      <th>ExpId</th>\n",
       "    </tr>\n",
       "  </thead>\n",
       "  <tbody>\n",
       "    <tr>\n",
       "      <th>0</th>\n",
       "      <td>0</td>\n",
       "      <td>MainScreenAppear</td>\n",
       "      <td>4575588528974610257</td>\n",
       "      <td>1564029816</td>\n",
       "      <td>246</td>\n",
       "    </tr>\n",
       "    <tr>\n",
       "      <th>1</th>\n",
       "      <td>1</td>\n",
       "      <td>MainScreenAppear</td>\n",
       "      <td>7416695313311560658</td>\n",
       "      <td>1564053102</td>\n",
       "      <td>246</td>\n",
       "    </tr>\n",
       "    <tr>\n",
       "      <th>2</th>\n",
       "      <td>2</td>\n",
       "      <td>PaymentScreenSuccessful</td>\n",
       "      <td>3518123091307005509</td>\n",
       "      <td>1564054127</td>\n",
       "      <td>248</td>\n",
       "    </tr>\n",
       "    <tr>\n",
       "      <th>3</th>\n",
       "      <td>3</td>\n",
       "      <td>CartScreenAppear</td>\n",
       "      <td>3518123091307005509</td>\n",
       "      <td>1564054127</td>\n",
       "      <td>248</td>\n",
       "    </tr>\n",
       "    <tr>\n",
       "      <th>4</th>\n",
       "      <td>4</td>\n",
       "      <td>PaymentScreenSuccessful</td>\n",
       "      <td>6217807653094995999</td>\n",
       "      <td>1564055322</td>\n",
       "      <td>248</td>\n",
       "    </tr>\n",
       "  </tbody>\n",
       "</table>\n",
       "</div>"
      ],
      "text/plain": [
       "   Unnamed: 0                EventName         DeviceIDHash  EventTimestamp  \\\n",
       "0           0         MainScreenAppear  4575588528974610257      1564029816   \n",
       "1           1         MainScreenAppear  7416695313311560658      1564053102   \n",
       "2           2  PaymentScreenSuccessful  3518123091307005509      1564054127   \n",
       "3           3         CartScreenAppear  3518123091307005509      1564054127   \n",
       "4           4  PaymentScreenSuccessful  6217807653094995999      1564055322   \n",
       "\n",
       "   ExpId  \n",
       "0    246  \n",
       "1    246  \n",
       "2    248  \n",
       "3    248  \n",
       "4    248  "
      ]
     },
     "execution_count": 4,
     "metadata": {},
     "output_type": "execute_result"
    }
   ],
   "source": [
    "#выводим первые 5 строчек датасета на экран\n",
    "logs.head()"
   ]
  },
  {
   "cell_type": "code",
   "execution_count": 5,
   "metadata": {},
   "outputs": [
    {
     "data": {
      "text/plain": [
       "Unnamed: 0        0\n",
       "EventName         0\n",
       "DeviceIDHash      0\n",
       "EventTimestamp    0\n",
       "ExpId             0\n",
       "dtype: int64"
      ]
     },
     "execution_count": 5,
     "metadata": {},
     "output_type": "execute_result"
    }
   ],
   "source": [
    "#выводим количество пропущенных значений для каждого столбца\n",
    "logs.isna().sum()"
   ]
  },
  {
   "cell_type": "code",
   "execution_count": 6,
   "metadata": {},
   "outputs": [
    {
     "data": {
      "text/plain": [
       "0"
      ]
     },
     "execution_count": 6,
     "metadata": {},
     "output_type": "execute_result"
    }
   ],
   "source": [
    "#проверяем датасет на скрытые дубликаты \n",
    "logs.duplicated().sum()"
   ]
  },
  {
   "cell_type": "code",
   "execution_count": 7,
   "metadata": {},
   "outputs": [
    {
     "name": "stdout",
     "output_type": "stream",
     "text": [
      "0.000% - процент дубликатов от общего количества значений датасета\n"
     ]
    }
   ],
   "source": [
    "#посчитаем процент дубликатов от общего количества значений\n",
    "print(f'{(logs.duplicated().sum()/len(logs)):.3%} - процент дубликатов от общего количества значений датасета')"
   ]
  },
  {
   "cell_type": "code",
   "execution_count": 8,
   "metadata": {},
   "outputs": [],
   "source": [
    "#переименуем столбцы, приведем их к нижнему регистру\n",
    "logs = logs.rename(columns={'EventName':'event_name', 'DeviceIDHash':'device_id', 'EventTimestamp':'sec_time', 'ExpId':'group'})"
   ]
  },
  {
   "cell_type": "code",
   "execution_count": 9,
   "metadata": {},
   "outputs": [],
   "source": [
    "#создаем столбец даты и времени (в столбце EventTimestamp изначально значения были в секундах, перевели их в даты)\n",
    "logs['datetime'] = pd.to_datetime(logs['sec_time'], unit='s')"
   ]
  },
  {
   "cell_type": "code",
   "execution_count": 10,
   "metadata": {},
   "outputs": [],
   "source": [
    "#создаем столбец даты\n",
    "logs['dt'] = pd.to_datetime(logs['datetime']).dt.date"
   ]
  },
  {
   "cell_type": "code",
   "execution_count": 11,
   "metadata": {},
   "outputs": [],
   "source": [
    "#поскольку полные дубликаты составляют несущественную часть датасета, удалим их на данном этапе\n",
    "logs = logs.drop_duplicates()"
   ]
  },
  {
   "cell_type": "code",
   "execution_count": 12,
   "metadata": {
    "scrolled": true
   },
   "outputs": [
    {
     "name": "stdout",
     "output_type": "stream",
     "text": [
      "<class 'pandas.core.frame.DataFrame'>\n",
      "Int64Index: 244126 entries, 0 to 244125\n",
      "Data columns (total 7 columns):\n",
      " #   Column      Non-Null Count   Dtype         \n",
      "---  ------      --------------   -----         \n",
      " 0   Unnamed: 0  244126 non-null  int64         \n",
      " 1   event_name  244126 non-null  object        \n",
      " 2   device_id   244126 non-null  int64         \n",
      " 3   sec_time    244126 non-null  int64         \n",
      " 4   group       244126 non-null  int64         \n",
      " 5   datetime    244126 non-null  datetime64[ns]\n",
      " 6   dt          244126 non-null  object        \n",
      "dtypes: datetime64[ns](1), int64(4), object(2)\n",
      "memory usage: 14.9+ MB\n"
     ]
    }
   ],
   "source": [
    "#повторно выведем первые 5 строк таблицы\n",
    "logs.info()"
   ]
  },
  {
   "cell_type": "markdown",
   "metadata": {},
   "source": [
    "В рамках предварительного анализа мы выявили, что в датасете отсутствуют пропуски, но есть 413 полных дубликатов, поскольку их количество незначительно в разрезе всего датасета, - удалим такие дубликаты. Также мы дополнили датасет двумя новыми столбцами, переименовали столбцы и привели их к нижнему регистру."
   ]
  },
  {
   "cell_type": "markdown",
   "metadata": {},
   "source": [
    "## Исследовательский анализ данных"
   ]
  },
  {
   "cell_type": "markdown",
   "metadata": {},
   "source": [
    "#### 2. Проверим, сколько всего событий в логе"
   ]
  },
  {
   "cell_type": "code",
   "execution_count": 13,
   "metadata": {},
   "outputs": [
    {
     "name": "stdout",
     "output_type": "stream",
     "text": [
      "Всего в логе после предобработки 244126 событий.\n"
     ]
    }
   ],
   "source": [
    "print(f'Всего в логе после предобработки {len(logs)} событий.')"
   ]
  },
  {
   "cell_type": "markdown",
   "metadata": {},
   "source": [
    "#### 3. Проверим, сколько всего пользователей в логе"
   ]
  },
  {
   "cell_type": "code",
   "execution_count": 14,
   "metadata": {},
   "outputs": [
    {
     "name": "stdout",
     "output_type": "stream",
     "text": [
      "Всего пользователей в логе 7551.\n"
     ]
    }
   ],
   "source": [
    "print(f'Всего пользователей в логе {len(logs.device_id.unique())}.')"
   ]
  },
  {
   "cell_type": "markdown",
   "metadata": {},
   "source": [
    "#### 4. Проверим, сколько в среднем событий приходится на пользователя, а также оценим минимальное, максимальное и медианное количество событий, которое совершает пользователь в приложении. "
   ]
  },
  {
   "cell_type": "code",
   "execution_count": 15,
   "metadata": {},
   "outputs": [
    {
     "data": {
      "text/plain": [
       "count    7551.000000\n",
       "mean       32.330287\n",
       "std        65.312344\n",
       "min         1.000000\n",
       "25%         9.000000\n",
       "50%        20.000000\n",
       "75%        37.500000\n",
       "max      2308.000000\n",
       "Name: count, dtype: float64"
      ]
     },
     "metadata": {},
     "output_type": "display_data"
    }
   ],
   "source": [
    "#создадим отдельную переменную events_by_user, чтобы с помощью describe() оценить сразу все значения\n",
    "events_by_user = logs.groupby('device_id').agg(count = ('event_name', 'count')).reset_index()\n",
    "\n",
    "display(events_by_user['count'].describe())"
   ]
  },
  {
   "cell_type": "markdown",
   "metadata": {},
   "source": [
    "В среднем на каждого пользователя приходится по 32 события, медиана - 20 событий, минимальное количество событий - 1, а максимальное целых 2307."
   ]
  },
  {
   "cell_type": "markdown",
   "metadata": {},
   "source": [
    "#### 5. Проверим, данными за какой период мы располагаем. Найдем максимальную и минимальную дату. Построем гистограмму по дате и времени. "
   ]
  },
  {
   "cell_type": "code",
   "execution_count": 16,
   "metadata": {},
   "outputs": [
    {
     "data": {
      "text/html": [
       "<div>\n",
       "<style scoped>\n",
       "    .dataframe tbody tr th:only-of-type {\n",
       "        vertical-align: middle;\n",
       "    }\n",
       "\n",
       "    .dataframe tbody tr th {\n",
       "        vertical-align: top;\n",
       "    }\n",
       "\n",
       "    .dataframe thead th {\n",
       "        text-align: right;\n",
       "    }\n",
       "</style>\n",
       "<table border=\"1\" class=\"dataframe\">\n",
       "  <thead>\n",
       "    <tr style=\"text-align: right;\">\n",
       "      <th></th>\n",
       "      <th>dt</th>\n",
       "    </tr>\n",
       "  </thead>\n",
       "  <tbody>\n",
       "    <tr>\n",
       "      <th>min</th>\n",
       "      <td>2019-07-25</td>\n",
       "    </tr>\n",
       "    <tr>\n",
       "      <th>max</th>\n",
       "      <td>2019-08-07</td>\n",
       "    </tr>\n",
       "  </tbody>\n",
       "</table>\n",
       "</div>"
      ],
      "text/plain": [
       "             dt\n",
       "min  2019-07-25\n",
       "max  2019-08-07"
      ]
     },
     "execution_count": 16,
     "metadata": {},
     "output_type": "execute_result"
    }
   ],
   "source": [
    "#находим максимальную и минимальную дату в датасете по столбцу dt\n",
    "logs.agg({'dt': ['min', 'max']})"
   ]
  },
  {
   "cell_type": "code",
   "execution_count": 17,
   "metadata": {},
   "outputs": [
    {
     "data": {
      "image/png": "[encoded data removed]",
      "text/plain": [
       "<Figure size 1440x360 with 1 Axes>"
      ]
     },
     "metadata": {
      "needs_background": "light"
     },
     "output_type": "display_data"
    }
   ],
   "source": [
    "#строим гистограмму по дате и времени\n",
    "logs['datetime'].hist(figsize=(20,5))\n",
    "plt.ylabel('Количество значений')\n",
    "plt.xlabel('Даты')\n",
    "plt.title('Гистограмма распределения значений по дате и времени')\n",
    "plt.show()"
   ]
  },
  {
   "cell_type": "markdown",
   "metadata": {},
   "source": [
    "Мы обладаем данными за период с \"25\" июля 2019 года по \"07\" августа 2019 года. На построенной гистограмме видим резкий скачок значений с \"01\" августа 2019 года, - вероятно, увеличению количества логов способствовала распродажа продуктов питания, либо какая-то маркетинговая акция, и пользователи активно совершали действия в приложении. Технически в логи новых дней по некоторым пользователям могут «доезжать» события из прошлого — это может «перекашивать данные», что и произошло в нашем случае. Исходя из графика делаем вывод, что данные полные с 01.08.2019, старые данные отбросим ниже."
   ]
  },
  {
   "cell_type": "code",
   "execution_count": 18,
   "metadata": {},
   "outputs": [],
   "source": [
    "#создаем переменную logs_clear, чтобы посчитать много ли событий и пользователей мы потеряли, отбросив старые данные\n",
    "logs_clear = logs.query('dt >= datetime(2019, 8, 1).date()')"
   ]
  },
  {
   "cell_type": "code",
   "execution_count": 19,
   "metadata": {},
   "outputs": [
    {
     "name": "stdout",
     "output_type": "stream",
     "text": [
      "98.84% - доля событий оставшихся данных\n",
      "Всего пользователей в оставшихся данных 7534.\n",
      "group\n",
      "246    2484\n",
      "247    2513\n",
      "248    2537\n",
      "Name: device_id, dtype: int64\n"
     ]
    }
   ],
   "source": [
    "print(f'{(len(logs_clear) / len(logs)):.2%} - доля событий оставшихся данных')\n",
    "print(f'Всего пользователей в оставшихся данных {len(logs_clear.device_id.unique())}.')\n",
    "#проверяем, что у нас есть пользователи из всех трёх экспериментальных групп\n",
    "print(logs_clear.groupby('group')['device_id'].nunique())"
   ]
  },
  {
   "cell_type": "code",
   "execution_count": 20,
   "metadata": {},
   "outputs": [
    {
     "name": "stdout",
     "output_type": "stream",
     "text": [
      "Относительные потери событий после фильтрации: -2828 (-1.2%)\n",
      "Относительные потери уникальных пользователей: -17 (0.2%)\n"
     ]
    }
   ],
   "source": [
    "print('Относительные потери событий после фильтрации:', \n",
    "      len(logs_clear) - len(logs), \n",
    "      '({:.1%})'.format((len(logs_clear) - len(logs))/len(logs)))\n",
    "print(\n",
    "    'Относительные потери уникальных пользователей:', \n",
    "      logs_clear['device_id'].nunique() - logs['device_id'].nunique(), \n",
    "      '({:.1%})'.format((logs['device_id'].nunique()-logs_clear['device_id'].nunique())/logs['device_id'].nunique())\n",
    ")"
   ]
  },
  {
   "cell_type": "markdown",
   "metadata": {},
   "source": [
    "По результатам фильтрации мы теряем 1.2% событий и 0.2% уникальных пользователей."
   ]
  },
  {
   "cell_type": "code",
   "execution_count": 21,
   "metadata": {},
   "outputs": [],
   "source": [
    "#перезапишем logs\n",
    "logs = logs_clear"
   ]
  },
  {
   "cell_type": "markdown",
   "metadata": {},
   "source": [
    "Отбросив логи, записанные в период с \"25\" июля по \"31\" августа мы потеряли менее 2% данных датасета. Всего пользователей в оставшихся данных - 7534, при чем что в изначальном датасете пользователей насчитывалось 7551. Каждая из трех групп попадает в очищенный нами датасет. "
   ]
  },
  {
   "cell_type": "markdown",
   "metadata": {},
   "source": [
    "### Изучение воронки событий"
   ]
  },
  {
   "cell_type": "markdown",
   "metadata": {},
   "source": [
    "#### 6. Изучаем события в логах"
   ]
  },
  {
   "cell_type": "code",
   "execution_count": 22,
   "metadata": {},
   "outputs": [
    {
     "data": {
      "text/plain": [
       "array(['Tutorial', 'MainScreenAppear', 'OffersScreenAppear',\n",
       "       'CartScreenAppear', 'PaymentScreenSuccessful'], dtype=object)"
      ]
     },
     "execution_count": 22,
     "metadata": {},
     "output_type": "execute_result"
    }
   ],
   "source": [
    "#посмотрим, какие события есть в логах\n",
    "logs['event_name'].unique()"
   ]
  },
  {
   "cell_type": "markdown",
   "metadata": {},
   "source": [
    "Итого у нас есть 5 различных событий:\n",
    "- Tutorial (прохождение обучения),\n",
    "- MainScreenAppear (просмотр главной страницы),\n",
    "- OffersScreenAppear (показ товара),\n",
    "- CartScreenAppear (просмотр корзины),\n",
    "- PaymentScreenSuccessful (показ уведомления об успешной оплате)"
   ]
  },
  {
   "cell_type": "markdown",
   "metadata": {},
   "source": [
    "#### 7. Посмотрим частоту событий в логах"
   ]
  },
  {
   "cell_type": "code",
   "execution_count": 23,
   "metadata": {},
   "outputs": [
    {
     "name": "stdout",
     "output_type": "stream",
     "text": [
      "                         Unnamed: 0  device_id  sec_time   group  datetime  \\\n",
      "event_name                                                                   \n",
      "MainScreenAppear             117431     117431    117431  117431    117431   \n",
      "OffersScreenAppear            46350      46350     46350   46350     46350   \n",
      "CartScreenAppear              42365      42365     42365   42365     42365   \n",
      "PaymentScreenSuccessful       34113      34113     34113   34113     34113   \n",
      "Tutorial                       1039       1039      1039    1039      1039   \n",
      "\n",
      "                             dt  \n",
      "event_name                       \n",
      "MainScreenAppear         117431  \n",
      "OffersScreenAppear        46350  \n",
      "CartScreenAppear          42365  \n",
      "PaymentScreenSuccessful   34113  \n",
      "Tutorial                   1039  \n"
     ]
    }
   ],
   "source": [
    "#частота событий в логе\n",
    "print(logs.groupby('event_name').count().sort_values(by='device_id', ascending=False))"
   ]
  },
  {
   "cell_type": "markdown",
   "metadata": {},
   "source": [
    "Больше всего в логах события \"просмотр главной страницы\", затем в 2 раза меньше \"показ товара\", чуть меньше \"просмотр корзины\", и еще меньше \"показ уведомления об успешной оплате\". "
   ]
  },
  {
   "cell_type": "code",
   "execution_count": 24,
   "metadata": {},
   "outputs": [],
   "source": [
    "#посчитаем, сколько пользователей совершали каждое из вышеуказанных событий, отсортируем события по числу пользователей \n",
    "#считаем долю пользователей, которые хоть раз совершали событие\n",
    "funnel = (logs_clear.\n",
    "          groupby('event_name').\n",
    "          agg({'device_id': 'nunique'}).\n",
    "          reset_index().\n",
    "          rename(columns={'device_id' : 'total_users'}).\n",
    "          sort_values(by='total_users', ascending=False))\n",
    "funnel['percent'] = round(funnel['total_users'] / logs['device_id'].nunique() * 100, 2)\n",
    "#используем метод shift() для получения предыдущего значения столбца при оценке конверсии n/n-1\n",
    "percent_initial = funnel['total_users'].shift()\n",
    "#рассчитаем конверсию n/n-1\n",
    "conversion = funnel['total_users']/percent_initial\n",
    "#рассчитаем конверсию из первого шага n/first, используя метод max()\n",
    "conversion_first_step = funnel['total_users']/funnel['total_users'].max()"
   ]
  },
  {
   "cell_type": "markdown",
   "metadata": {},
   "source": [
    "В наших логах мы видим, что обучение проходит всего 11% пользователей, значит - обучение не является обязательным. Также исходя из цифр выше видим, что пользователь не проходит все этапы последовательно, ведь тогда первое событие было бы 100%. "
   ]
  },
  {
   "cell_type": "markdown",
   "metadata": {},
   "source": [
    "Для последующего построения воронки событий не будем учитывать событие 'Tutorial', т.к. оно не является обязательным для совершения оплаты, и помешает нам понять, на каком этапе мы теряем больше всего пользователей. \n",
    "\n",
    "Просмотр главного экрана - событие `MainScreenAppear` может быть не у всех пользователей, т.к. пользователь может приходить в приложение органически по ссылке и попадать сразу на страницу товара, затем положить его в корзину и совершить покупку, в таком случае для совершения покупки ему не требуется просматривать главный экран. "
   ]
  },
  {
   "cell_type": "code",
   "execution_count": 25,
   "metadata": {},
   "outputs": [],
   "source": [
    "#исключаем из ранее созданной нами таблицы событие 'Tutorial'\n",
    "funnel = funnel.query('event_name != \"Tutorial\"')"
   ]
  },
  {
   "cell_type": "markdown",
   "metadata": {},
   "source": [
    "#### 8. По воронке событий посчитаем, какая доля пользователей проходит на следующий шаг воронки (от числа пользователей на предыдущем). То есть для последовательности событий A → B → C посчитаем отношение числа пользователей с событием B к количеству пользователей с событием A, а также отношение числа пользователей с событием C к количеству пользователей с событием B."
   ]
  },
  {
   "cell_type": "code",
   "execution_count": 28,
   "metadata": {},
   "outputs": [
    {
     "ename": "NameError",
     "evalue": "name 'go' is not defined",
     "output_type": "error",
     "traceback": [
      "\u001b[1;31m---------------------------------------------------------------------------\u001b[0m",
      "\u001b[1;31mNameError\u001b[0m                                 Traceback (most recent call last)",
      "\u001b[1;32m<ipython-input-28-22360064001c>\u001b[0m in \u001b[0;36m<module>\u001b[1;34m\u001b[0m\n\u001b[1;32m----> 1\u001b[1;33m fig = go.Figure(go.Funnel(y = funnel['event_name'],\n\u001b[0m\u001b[0;32m      2\u001b[0m                           \u001b[0mx\u001b[0m \u001b[1;33m=\u001b[0m \u001b[0mfunnel\u001b[0m\u001b[1;33m[\u001b[0m\u001b[1;34m'total_users'\u001b[0m\u001b[1;33m]\u001b[0m\u001b[1;33m,\u001b[0m\u001b[1;33m\u001b[0m\u001b[1;33m\u001b[0m\u001b[0m\n\u001b[0;32m      3\u001b[0m                           textinfo = 'value+percent initial+percent previous'))\n\u001b[0;32m      4\u001b[0m \u001b[0mfig\u001b[0m\u001b[1;33m.\u001b[0m\u001b[0mupdate_layout\u001b[0m\u001b[1;33m(\u001b[0m\u001b[0mtitle_text\u001b[0m\u001b[1;33m=\u001b[0m\u001b[1;34m'Воронка событий по количеству пользователей, проходящих на следующий шаг воронки'\u001b[0m\u001b[1;33m)\u001b[0m\u001b[1;33m\u001b[0m\u001b[1;33m\u001b[0m\u001b[0m\n\u001b[0;32m      5\u001b[0m \u001b[0mfig\u001b[0m\u001b[1;33m.\u001b[0m\u001b[0mupdate_layout\u001b[0m\u001b[1;33m(\u001b[0m\u001b[0myaxis_title\u001b[0m\u001b[1;33m=\u001b[0m\u001b[1;34m'События воронки'\u001b[0m\u001b[1;33m)\u001b[0m\u001b[1;33m\u001b[0m\u001b[1;33m\u001b[0m\u001b[0m\n",
      "\u001b[1;31mNameError\u001b[0m: name 'go' is not defined"
     ]
    }
   ],
   "source": [
    "fig = go.Figure(go.Funnel(y = funnel['event_name'],\n",
    "                          x = funnel['total_users'],\n",
    "                          textinfo = 'value+percent initial+percent previous'))\n",
    "fig.update_layout(title_text='Воронка событий по количеству пользователей, проходящих на следующий шаг воронки')\n",
    "fig.update_layout(yaxis_title='События воронки')\n",
    "fig.show(\"png\")"
   ]
  },
  {
   "cell_type": "markdown",
   "metadata": {},
   "source": [
    "Исходя из воронки видим, что больше всего пользователей теряется на этапе показа карточки (после первого шага теряем 38% пользователей). О чем это может говорить? Например, пользователям не нравится интерфейс и они покидают мобильное приложение, не дойдя даже до просмотра карточки товара. Также пользователь может выполнять действия непоследовательно, - минуя просмотр карточки сразу производить оплату, т.к. они заказывают товар постоянно и знают его качества."
   ]
  },
  {
   "cell_type": "markdown",
   "metadata": {},
   "source": [
    "Из 7534 пользователей дошло до покупки 3539, т.е. 46% пользователей - очень хороший результат! "
   ]
  },
  {
   "cell_type": "markdown",
   "metadata": {},
   "source": [
    "### Изучение результатов эксперимента"
   ]
  },
  {
   "cell_type": "markdown",
   "metadata": {},
   "source": [
    "Пользователей разбили на 3 группы: 2 контрольные (246 и 247) со старыми шрифтами и одну (248) экспериментальную — с новыми. \n",
    "Создание двух групп A вместо одной имеет определённые преимущества. Если две контрольные группы окажутся равны, мы можем быть уверены в точности проведенного тестирования. Если же между значениями A и A будут существенные различия, это поможет обнаружить факторы, которые привели к искажению результатов. "
   ]
  },
  {
   "cell_type": "markdown",
   "metadata": {},
   "source": [
    "#### 10. Изучение количества пользователей в каждой экспериментальной группе"
   ]
  },
  {
   "cell_type": "code",
   "execution_count": null,
   "metadata": {},
   "outputs": [],
   "source": [
    "logs.groupby('group')['device_id'].nunique()"
   ]
  },
  {
   "cell_type": "markdown",
   "metadata": {},
   "source": [
    "В экспериментальной группе 246 - 2483 пользователя, в группе 247 - 2512 пользователя, в группе 248 - 2535 пользователей."
   ]
  },
  {
   "cell_type": "code",
   "execution_count": null,
   "metadata": {},
   "outputs": [],
   "source": [
    "#проверяем наличие пользователей, которые попадают в обе группы, а именно в 246 и 247\n",
    "cross_users = logs.groupby('device_id').agg({'group': pd.Series.nunique}).query('group > 1')\n",
    "print(cross_users.count())"
   ]
  },
  {
   "cell_type": "code",
   "execution_count": null,
   "metadata": {},
   "outputs": [],
   "source": [
    "#посмотрим, сколько пользователей каждой группы приходится на событие\n",
    "check_log = logs.pivot_table(index='group', columns='event_name', values='device_id', aggfunc='nunique')\n",
    "display(check_log)"
   ]
  },
  {
   "cell_type": "markdown",
   "metadata": {},
   "source": [
    "#### 11. Подготовим функцию для проведения z-теста, с помощью которой мы будем сравнивать выборки по событиям"
   ]
  },
  {
   "cell_type": "markdown",
   "metadata": {},
   "source": [
    "Функция будет использована для сравнения выборок:\n",
    "\n",
    "1) сравнение выборок по событиям в группах 246 и 247 - 4 теста;\n",
    "\n",
    "2) сравнение выборок по событиям в группах 246 и 248 - 4 теста;\n",
    "\n",
    "3) сравнение выборок по событиям в группах 247 и 248 - 4 теста;\n",
    "\n",
    "4) сравнение выборок 246 + 247 и 248 - 4 теста.\n",
    "\n",
    "В А/В-тестировании проверяем гипотезу о равенстве выборок, но сначала проверим находят ли статистические критерии разницу между выборками 246 и 247 (А/А-тест). Используем Z-тест. \n",
    "\n",
    "Ниже выбран уровень статистической значимости - 0.05. Такой уровень выбран, т.к. при уровне значимости 0.1 каждый десятый раз можно получать ложный результат."
   ]
  },
  {
   "cell_type": "code",
   "execution_count": null,
   "metadata": {},
   "outputs": [],
   "source": [
    "#создаем датафрейм с индексом названия события и колонками название группы + размер группы\n",
    "group = logs.pivot_table(index='event_name', columns='group', values='device_id', aggfunc='nunique')\\\n",
    "             .sort_values(246, ascending=False) #создаем датафрейм с индексом названия события и колонками название группы + размер группы\n",
    "#создаем датафрейм с индексом группы и размером группы\n",
    "values_group = logs.pivot_table(index='group', values = 'device_id', aggfunc = 'nunique')"
   ]
  },
  {
   "cell_type": "code",
   "execution_count": null,
   "metadata": {},
   "outputs": [],
   "source": [
    "#создадим функцию,которая считает статистический тест\n",
    "def calculate_stat_test(successes1, successes2, trials1, trials2, alpha=0.05):\n",
    "    #входные параметры: successes1, successes2 - перешедшие на следующий уровень,\n",
    "# а trials1, trials2 - количество пользователей с предыдущего уровня, alpha - уровень статистической значимости\n",
    "    \n",
    "    # критический уровень статистической значимости c поправкой Бонферрони (выполняем несколько тестов одновременно, \n",
    "    #хотим контролировать вероятность совершения ошибки первого рода, у нас 16 тестов, делим на 16)\n",
    "    bonferroni_alpha = alpha / 16\n",
    "    \n",
    "    p1 = successes1/trials1 #пропорция успехов в первой группе\n",
    "    p2 = successes2/trials2 #пропорция успехов во второй группе\n",
    "    \n",
    "    #пропорция успехов в комбинированном датасете\n",
    "    p_combined = (successes1 + successes2) / (trials1 + trials2)\n",
    "\n",
    "    #разница пропорций в датасетах\n",
    "    difference = p1 - p2\n",
    "\n",
    "    #считаем статистику в ст.отклонениях стандартного нормального распределения\n",
    "    z_value = difference / mth.sqrt(p_combined * (1 - p_combined) * (1/trials1 + 1/trials2))\n",
    " \n",
    "    #задаем стандартное нормальное распределение (среднее 0, ст.отклонение 1)\n",
    "    distr = st.norm(0, 1)  \n",
    "    \n",
    "    #если пропорции равны, разница между ними равна нулю, посчитаем, как далеко статистика уехала от нуля  \n",
    "    #распределение статистики нормальное, вызовем метод cdf()\n",
    "    #статистику возьмем по модулю abs() - чтобы правильный результат был независимо от знака\n",
    "    p_value = (1 - distr.cdf(abs(z_value))) * 2\n",
    "   \n",
    "    print('p-значение: ', p_value)\n",
    "    if p_value < bonferroni_alpha:\n",
    "        print('Отвергаем нулевую гипотезу: между долями есть значимая разница')\n",
    "    else:\n",
    "        print('Не получилось отвергнуть нулевую гипотезу, нет оснований считать доли разными')"
   ]
  },
  {
   "cell_type": "markdown",
   "metadata": {},
   "source": [
    "При расчетах применяем поправку Бонферрони для снижения вероятность ложноположительного результата эксперимента. Поскольку у нас 16 тестов, делим alpha на 16."
   ]
  },
  {
   "cell_type": "markdown",
   "metadata": {},
   "source": [
    "Во всех последующих расчетах ниже значения p-value для событий будут идти в следующем порядке:\n",
    "1. MainScreenAppear\n",
    "2. OffersScreenAppear\n",
    "3. CartScreenAppear\n",
    "4. PaymentScreenSuccessful"
   ]
  },
  {
   "cell_type": "markdown",
   "metadata": {},
   "source": [
    "В дальнейшем с помощью цикла и ранее написанной нами функцией выясним, есть ли статистически значимая разница между исследуемыми группами.\n",
    "\n",
    "**Нулевая гипотеза**: статистически значимой разницы нет, нет оснований считать доли разными.\n",
    "\n",
    "**Альтернативная гипотеза**: разница является статистически значимой, результаты в группах отличаются.\n",
    "\n",
    "\n",
    "Если разницы между выборками не будет обнаружено, то считаем, что изменение шрифтов в мобильном приложении не влияет на взаимодействие пользователей с приложением.\n",
    "Если будет обнаружена статистически значимая разница, то считаем, что изменение шрифтов в мобильном приложении влияет на взаимодействие пользователя с приложением."
   ]
  },
  {
   "cell_type": "markdown",
   "metadata": {},
   "source": [
    "#### 12. Через цикл рассчитаем p-значение для групп 246 и 247 "
   ]
  },
  {
   "cell_type": "code",
   "execution_count": null,
   "metadata": {},
   "outputs": [],
   "source": [
    "for i in group.index:\n",
    "    successes1 = group.loc[i, 246]\n",
    "    trials1 = values_group.loc[246]\n",
    "    successes2 = group.loc[i, 247]\n",
    "    trials2 = values_group.loc[247]\n",
    "    calculate_stat_test(successes1, successes2, trials1, trials2, alpha=0.05)"
   ]
  },
  {
   "cell_type": "markdown",
   "metadata": {},
   "source": [
    "Статистические критерии разницу между выборками 246 и 247 не находят. Также была сделана проверка через сервис: https://www.evanmiller.org/ab-testing/chi-squared.html#, который показал, что нет оснований считать доли разными (дополнительно проверили p-value, меняя значение 'confidence level', и при confidence level 95% и при 90% результат не менялся).  \n",
    "А/А-тест проводится, чтобы убедиться, что результатам эксперимента по изменению шрифта можно доверять. "
   ]
  },
  {
   "cell_type": "markdown",
   "metadata": {},
   "source": [
    "#### 13. Через цикл рассчитаем p-значение для групп 247 и 248"
   ]
  },
  {
   "cell_type": "code",
   "execution_count": null,
   "metadata": {},
   "outputs": [],
   "source": [
    "for i in group.index:\n",
    "    successes1 = group.loc[i, 247]\n",
    "    trials1 = values_group.loc[247]\n",
    "    successes2 = group.loc[i, 248]\n",
    "    trials2 = values_group.loc[248]\n",
    "    calculate_stat_test(successes1, successes2, trials1, trials2, alpha=0.05)"
   ]
  },
  {
   "cell_type": "markdown",
   "metadata": {},
   "source": [
    "При заданном уровне значимости различия между группами 247 и 248 не обнаружились."
   ]
  },
  {
   "cell_type": "markdown",
   "metadata": {},
   "source": [
    "#### 14. Через цикл рассчитаем p-значение для групп 246 и 248"
   ]
  },
  {
   "cell_type": "code",
   "execution_count": null,
   "metadata": {},
   "outputs": [],
   "source": [
    "for i in group.index:\n",
    "    successes1 = group.loc[i, 246]\n",
    "    trials1 = values_group.loc[246]\n",
    "    successes2 = group.loc[i, 248]\n",
    "    trials2 = values_group.loc[248]\n",
    "    calculate_stat_test(successes1, successes2, trials1, trials2, alpha=0.05)"
   ]
  },
  {
   "cell_type": "markdown",
   "metadata": {},
   "source": [
    "Статистические критерии разницу между выборками 246 и 248 не находят."
   ]
  },
  {
   "cell_type": "markdown",
   "metadata": {},
   "source": [
    "#### 15. Через цикл рассчитаем p-значение для групп 246+247 и 248"
   ]
  },
  {
   "cell_type": "code",
   "execution_count": null,
   "metadata": {},
   "outputs": [],
   "source": [
    "for i in group.index:\n",
    "    successes1 = group.loc[i, 246] + group.loc[i, 247]\n",
    "    trials1 = values_group.loc[246] + values_group.loc[247]\n",
    "    successes2 = group.loc[i, 248]\n",
    "    trials2 = values_group.loc[248]\n",
    "    calculate_stat_test(successes1, successes2, trials1, trials2, alpha=0.05)"
   ]
  },
  {
   "cell_type": "markdown",
   "metadata": {},
   "source": [
    "Сравнив группу с изменённым шрифтом с объединенной контрольной группой установили, что нет оснований считать доли разными. "
   ]
  },
  {
   "cell_type": "markdown",
   "metadata": {},
   "source": [
    "Промежуточный вывод:\n",
    "1. Мы сделали 16 проверок статистических гипотез.\n",
    "2. Разбиение на группы работает корректно.\n",
    "3. Ни при одном расчете p-value не было обнаружено разницы между выборками, - это означает, что изменение шрифтов в мобильном приложении не влияет на взаимодействие пользователей с приложением."
   ]
  },
  {
   "cell_type": "markdown",
   "metadata": {},
   "source": [
    "### Итоговый вывод:\n",
    "\n",
    "В ходе исследования мы изучили данные работы мобильного приложения стартапа по продаже продуктов питания. Данные были получены в ходе проведения эксперимента, в рамках которого дизайнеры поменяли штрифты во всем приложении. \n",
    "\n",
    "В процессе предобработки были удалены полные дубликаты, заменены названия столбцов, а также добавлены новые столбцы. По результатам предобработки имеем следующее:\n",
    "- 243713 событий в логах;\n",
    "- 7551 уникальный пользователь;\n",
    "- в среднем на каждого пользователя приходится 32 события.\n",
    "\n",
    "Было установлено, что в логах 5 событий: просмотр главной страницы, просмотр карточки товара, просмотр корзины, обучение и экран с уведомлением об успешной оплате. Пользователи совершают события непоследовательно, - такой вывод мы сделали из воронки на этапе 8. Было принято решение удалить событие \"Tutorial\" до проведения статистических тестов, т.к. событие не является обязательным и не оказывает влияние на остальные события. \n",
    "Для изучения взяли данные с \"01\" августа 2019 года по \"07\" августа 2019 года, т.к. логи за указанный промежуток времени составляют 98.84% всего датасета.\n",
    "Из 7534 пользователей дошло до покупки 3539, т.е. 46% пользователей.\n",
    "\n",
    "В датасете данные 3 экспериментальных групп:\n",
    "- 246 (контрольная группа) - 2483 пользователей;\n",
    "- 247 (контрольная группа) - 2512 пользователей;\n",
    "- 248 (экспериментальная группа) - 2535 пользователей.\n",
    "\n",
    "Мы провели исследование результатов A/A/B-эксперимента.\n",
    "Нулевой гипотезой было предположение, что выбранный дизайнерами шрифт не влияет на взаимодействие пользователей с приложением. Альтернативная гипотеза: изменение шрифта во всем приложении влияет на взаимодействие пользователей с приложением.\n",
    "Отвергнуть нулевую гипотезу не удалось, мы не обнаружили статистически значимой разницы между группами, - шрифт не влияет на взаимодействие пользователя с приложением.\n"
   ]
  }
 ],
 "metadata": {
  "ExecuteTimeLog": [
   {
    "duration": 2038,
    "start_time": "2023-07-04T16:34:35.295Z"
   },
   {
    "duration": 710,
    "start_time": "2023-07-04T16:34:56.443Z"
   },
   {
    "duration": 18,
    "start_time": "2023-07-04T16:35:08.151Z"
   },
   {
    "duration": 11,
    "start_time": "2023-07-04T16:35:31.744Z"
   },
   {
    "duration": 206,
    "start_time": "2023-07-04T16:37:06.131Z"
   },
   {
    "duration": 38,
    "start_time": "2023-07-04T16:37:06.691Z"
   },
   {
    "duration": 23,
    "start_time": "2023-07-04T16:37:16.330Z"
   },
   {
    "duration": 12,
    "start_time": "2023-07-04T16:38:34.717Z"
   },
   {
    "duration": 19,
    "start_time": "2023-07-04T16:39:08.288Z"
   },
   {
    "duration": 55,
    "start_time": "2023-07-04T16:40:04.026Z"
   },
   {
    "duration": 1254,
    "start_time": "2023-07-04T16:40:11.030Z"
   },
   {
    "duration": 201,
    "start_time": "2023-07-04T16:40:12.286Z"
   },
   {
    "duration": 44,
    "start_time": "2023-07-04T16:40:12.491Z"
   },
   {
    "duration": 20,
    "start_time": "2023-07-04T16:40:12.538Z"
   },
   {
    "duration": 24,
    "start_time": "2023-07-04T16:40:12.560Z"
   },
   {
    "duration": 90,
    "start_time": "2023-07-04T16:40:12.586Z"
   },
   {
    "duration": 59,
    "start_time": "2023-07-04T16:42:27.491Z"
   },
   {
    "duration": 21,
    "start_time": "2023-07-04T16:42:36.998Z"
   },
   {
    "duration": 1079,
    "start_time": "2023-07-04T16:44:07.386Z"
   },
   {
    "duration": 163,
    "start_time": "2023-07-04T16:44:08.466Z"
   },
   {
    "duration": 19,
    "start_time": "2023-07-04T16:44:08.631Z"
   },
   {
    "duration": 10,
    "start_time": "2023-07-04T16:44:08.651Z"
   },
   {
    "duration": 13,
    "start_time": "2023-07-04T16:44:08.663Z"
   },
   {
    "duration": 88,
    "start_time": "2023-07-04T16:44:08.677Z"
   },
   {
    "duration": 38,
    "start_time": "2023-07-04T16:44:08.767Z"
   },
   {
    "duration": 15,
    "start_time": "2023-07-04T16:44:08.817Z"
   },
   {
    "duration": 55,
    "start_time": "2023-07-04T16:46:37.343Z"
   },
   {
    "duration": 270,
    "start_time": "2023-07-04T16:46:47.658Z"
   },
   {
    "duration": 90,
    "start_time": "2023-07-04T16:46:52.389Z"
   },
   {
    "duration": 79,
    "start_time": "2023-07-04T16:47:18.827Z"
   },
   {
    "duration": 16,
    "start_time": "2023-07-04T16:49:19.542Z"
   },
   {
    "duration": 91,
    "start_time": "2023-07-04T16:50:05.195Z"
   },
   {
    "duration": 30,
    "start_time": "2023-07-04T16:50:14.791Z"
   },
   {
    "duration": 7551,
    "start_time": "2023-07-04T18:29:41.769Z"
   },
   {
    "duration": 1313,
    "start_time": "2023-07-04T18:29:49.328Z"
   },
   {
    "duration": 39,
    "start_time": "2023-07-04T18:29:50.647Z"
   },
   {
    "duration": 34,
    "start_time": "2023-07-04T18:29:50.688Z"
   },
   {
    "duration": 61,
    "start_time": "2023-07-04T18:29:50.726Z"
   },
   {
    "duration": 153,
    "start_time": "2023-07-04T18:29:50.789Z"
   },
   {
    "duration": 181,
    "start_time": "2023-07-04T18:29:50.944Z"
   },
   {
    "duration": 121,
    "start_time": "2023-07-04T18:29:51.136Z"
   },
   {
    "duration": 26,
    "start_time": "2023-07-04T18:29:51.266Z"
   },
   {
    "duration": 190,
    "start_time": "2023-07-04T18:29:51.293Z"
   },
   {
    "duration": 176,
    "start_time": "2023-07-04T18:29:51.487Z"
   },
   {
    "duration": 31,
    "start_time": "2023-07-04T18:29:51.686Z"
   },
   {
    "duration": 222,
    "start_time": "2023-07-04T18:30:19.460Z"
   },
   {
    "duration": 2851,
    "start_time": "2023-07-04T18:30:39.526Z"
   },
   {
    "duration": 900,
    "start_time": "2023-07-04T18:30:42.380Z"
   },
   {
    "duration": 50,
    "start_time": "2023-07-04T18:30:43.283Z"
   },
   {
    "duration": 20,
    "start_time": "2023-07-04T18:30:43.346Z"
   },
   {
    "duration": 23,
    "start_time": "2023-07-04T18:30:43.369Z"
   },
   {
    "duration": 152,
    "start_time": "2023-07-04T18:30:43.394Z"
   },
   {
    "duration": 88,
    "start_time": "2023-07-04T18:30:43.553Z"
   },
   {
    "duration": 79,
    "start_time": "2023-07-04T18:30:43.646Z"
   },
   {
    "duration": 21,
    "start_time": "2023-07-04T18:30:43.738Z"
   },
   {
    "duration": 153,
    "start_time": "2023-07-04T18:30:43.763Z"
   },
   {
    "duration": 0,
    "start_time": "2023-07-04T18:30:43.921Z"
   },
   {
    "duration": 0,
    "start_time": "2023-07-04T18:30:43.926Z"
   },
   {
    "duration": 16,
    "start_time": "2023-07-04T18:31:36.017Z"
   },
   {
    "duration": 26,
    "start_time": "2023-07-04T18:32:01.351Z"
   },
   {
    "duration": 1980,
    "start_time": "2023-07-04T18:32:27.479Z"
   },
   {
    "duration": 282,
    "start_time": "2023-07-04T18:32:29.464Z"
   },
   {
    "duration": 47,
    "start_time": "2023-07-04T18:32:29.760Z"
   },
   {
    "duration": 61,
    "start_time": "2023-07-04T18:32:29.812Z"
   },
   {
    "duration": 114,
    "start_time": "2023-07-04T18:32:29.883Z"
   },
   {
    "duration": 193,
    "start_time": "2023-07-04T18:32:29.999Z"
   },
   {
    "duration": 122,
    "start_time": "2023-07-04T18:32:30.194Z"
   },
   {
    "duration": 108,
    "start_time": "2023-07-04T18:32:30.320Z"
   },
   {
    "duration": 79,
    "start_time": "2023-07-04T18:32:30.437Z"
   },
   {
    "duration": 351,
    "start_time": "2023-07-04T18:32:30.526Z"
   },
   {
    "duration": 0,
    "start_time": "2023-07-04T18:32:30.891Z"
   },
   {
    "duration": 0,
    "start_time": "2023-07-04T18:32:30.894Z"
   },
   {
    "duration": 23,
    "start_time": "2023-07-04T18:33:03.621Z"
   },
   {
    "duration": 2498,
    "start_time": "2023-07-04T18:33:19.995Z"
   },
   {
    "duration": 1139,
    "start_time": "2023-07-04T18:33:22.506Z"
   },
   {
    "duration": 38,
    "start_time": "2023-07-04T18:33:23.658Z"
   },
   {
    "duration": 44,
    "start_time": "2023-07-04T18:33:23.699Z"
   },
   {
    "duration": 59,
    "start_time": "2023-07-04T18:33:23.750Z"
   },
   {
    "duration": 180,
    "start_time": "2023-07-04T18:33:23.813Z"
   },
   {
    "duration": 137,
    "start_time": "2023-07-04T18:33:23.995Z"
   },
   {
    "duration": 39,
    "start_time": "2023-07-04T18:33:24.138Z"
   },
   {
    "duration": 26,
    "start_time": "2023-07-04T18:33:24.178Z"
   },
   {
    "duration": 213,
    "start_time": "2023-07-04T18:33:24.213Z"
   },
   {
    "duration": 0,
    "start_time": "2023-07-04T18:33:24.429Z"
   },
   {
    "duration": 0,
    "start_time": "2023-07-04T18:33:24.433Z"
   },
   {
    "duration": 80,
    "start_time": "2023-07-04T18:37:41.322Z"
   },
   {
    "duration": 9,
    "start_time": "2023-07-04T18:41:44.718Z"
   },
   {
    "duration": 1317,
    "start_time": "2023-07-04T18:41:48.119Z"
   },
   {
    "duration": 928,
    "start_time": "2023-07-04T18:41:49.450Z"
   },
   {
    "duration": 17,
    "start_time": "2023-07-04T18:41:50.380Z"
   },
   {
    "duration": 38,
    "start_time": "2023-07-04T18:41:50.399Z"
   },
   {
    "duration": 28,
    "start_time": "2023-07-04T18:41:50.449Z"
   },
   {
    "duration": 77,
    "start_time": "2023-07-04T18:41:50.478Z"
   },
   {
    "duration": 60,
    "start_time": "2023-07-04T18:41:50.556Z"
   },
   {
    "duration": 6,
    "start_time": "2023-07-04T18:41:50.617Z"
   },
   {
    "duration": 2171,
    "start_time": "2023-07-04T18:41:50.625Z"
   },
   {
    "duration": 0,
    "start_time": "2023-07-04T18:41:52.798Z"
   },
   {
    "duration": 0,
    "start_time": "2023-07-04T18:41:52.801Z"
   },
   {
    "duration": 0,
    "start_time": "2023-07-04T18:41:52.801Z"
   },
   {
    "duration": 20,
    "start_time": "2023-07-04T18:42:51.530Z"
   },
   {
    "duration": 14,
    "start_time": "2023-07-04T18:43:32.540Z"
   },
   {
    "duration": 119,
    "start_time": "2023-07-04T18:44:40.914Z"
   },
   {
    "duration": 18,
    "start_time": "2023-07-04T18:44:42.715Z"
   },
   {
    "duration": 10,
    "start_time": "2023-07-04T18:45:40.434Z"
   },
   {
    "duration": 1295,
    "start_time": "2023-07-04T18:48:00.950Z"
   },
   {
    "duration": 223,
    "start_time": "2023-07-04T18:48:02.246Z"
   },
   {
    "duration": 58,
    "start_time": "2023-07-04T18:48:02.471Z"
   },
   {
    "duration": 40,
    "start_time": "2023-07-04T18:48:02.546Z"
   },
   {
    "duration": 98,
    "start_time": "2023-07-04T18:48:02.589Z"
   },
   {
    "duration": 140,
    "start_time": "2023-07-04T18:48:02.689Z"
   },
   {
    "duration": 94,
    "start_time": "2023-07-04T18:48:02.831Z"
   },
   {
    "duration": 17,
    "start_time": "2023-07-04T18:48:02.928Z"
   },
   {
    "duration": 17,
    "start_time": "2023-07-04T18:48:02.950Z"
   },
   {
    "duration": 119,
    "start_time": "2023-07-04T18:48:02.969Z"
   },
   {
    "duration": 0,
    "start_time": "2023-07-04T18:48:03.089Z"
   },
   {
    "duration": 0,
    "start_time": "2023-07-04T18:48:03.091Z"
   },
   {
    "duration": 0,
    "start_time": "2023-07-04T18:48:03.092Z"
   },
   {
    "duration": 0,
    "start_time": "2023-07-04T18:48:03.093Z"
   },
   {
    "duration": 0,
    "start_time": "2023-07-04T18:48:03.094Z"
   },
   {
    "duration": 0,
    "start_time": "2023-07-04T18:48:03.095Z"
   },
   {
    "duration": 1314,
    "start_time": "2023-07-04T18:49:37.852Z"
   },
   {
    "duration": 199,
    "start_time": "2023-07-04T18:49:39.168Z"
   },
   {
    "duration": 64,
    "start_time": "2023-07-04T18:49:39.369Z"
   },
   {
    "duration": 22,
    "start_time": "2023-07-04T18:49:39.442Z"
   },
   {
    "duration": 12,
    "start_time": "2023-07-04T18:49:39.467Z"
   },
   {
    "duration": 91,
    "start_time": "2023-07-04T18:49:39.481Z"
   },
   {
    "duration": 87,
    "start_time": "2023-07-04T18:49:39.574Z"
   },
   {
    "duration": 6,
    "start_time": "2023-07-04T18:49:39.663Z"
   },
   {
    "duration": 11,
    "start_time": "2023-07-04T18:49:39.670Z"
   },
   {
    "duration": 13,
    "start_time": "2023-07-04T18:49:39.682Z"
   },
   {
    "duration": 97,
    "start_time": "2023-07-04T18:49:39.697Z"
   },
   {
    "duration": 69,
    "start_time": "2023-07-04T18:49:39.795Z"
   },
   {
    "duration": 22,
    "start_time": "2023-07-04T18:49:39.866Z"
   },
   {
    "duration": 2532,
    "start_time": "2023-07-04T18:49:39.891Z"
   },
   {
    "duration": 0,
    "start_time": "2023-07-04T18:49:42.424Z"
   },
   {
    "duration": 684,
    "start_time": "2023-07-04T18:51:26.841Z"
   },
   {
    "duration": 1215,
    "start_time": "2023-07-04T18:51:46.750Z"
   },
   {
    "duration": 202,
    "start_time": "2023-07-04T18:51:47.967Z"
   },
   {
    "duration": 51,
    "start_time": "2023-07-04T18:51:48.172Z"
   },
   {
    "duration": 33,
    "start_time": "2023-07-04T18:51:48.228Z"
   },
   {
    "duration": 21,
    "start_time": "2023-07-04T18:51:48.266Z"
   },
   {
    "duration": 101,
    "start_time": "2023-07-04T18:51:48.289Z"
   },
   {
    "duration": 103,
    "start_time": "2023-07-04T18:51:48.393Z"
   },
   {
    "duration": 31,
    "start_time": "2023-07-04T18:51:48.498Z"
   },
   {
    "duration": 25,
    "start_time": "2023-07-04T18:51:48.534Z"
   },
   {
    "duration": 13,
    "start_time": "2023-07-04T18:51:48.561Z"
   },
   {
    "duration": 95,
    "start_time": "2023-07-04T18:51:48.576Z"
   },
   {
    "duration": 9,
    "start_time": "2023-07-04T18:51:48.672Z"
   },
   {
    "duration": 6,
    "start_time": "2023-07-04T18:51:48.683Z"
   },
   {
    "duration": 681,
    "start_time": "2023-07-04T18:51:48.692Z"
   },
   {
    "duration": 0,
    "start_time": "2023-07-04T18:51:49.375Z"
   },
   {
    "duration": 0,
    "start_time": "2023-07-04T18:51:49.376Z"
   },
   {
    "duration": 501,
    "start_time": "2023-07-04T18:52:06.135Z"
   },
   {
    "duration": 34,
    "start_time": "2023-07-04T18:54:49.227Z"
   },
   {
    "duration": 114,
    "start_time": "2023-07-04T18:54:55.129Z"
   },
   {
    "duration": 9,
    "start_time": "2023-07-04T18:54:56.489Z"
   },
   {
    "duration": 5,
    "start_time": "2023-07-04T18:54:57.556Z"
   },
   {
    "duration": 565,
    "start_time": "2023-07-04T18:54:58.368Z"
   },
   {
    "duration": 1217,
    "start_time": "2023-07-04T18:56:28.820Z"
   },
   {
    "duration": 211,
    "start_time": "2023-07-04T18:56:30.047Z"
   },
   {
    "duration": 19,
    "start_time": "2023-07-04T18:56:30.264Z"
   },
   {
    "duration": 73,
    "start_time": "2023-07-04T18:56:30.284Z"
   },
   {
    "duration": 90,
    "start_time": "2023-07-04T18:56:30.360Z"
   },
   {
    "duration": 123,
    "start_time": "2023-07-04T18:56:30.458Z"
   },
   {
    "duration": 81,
    "start_time": "2023-07-04T18:56:30.582Z"
   },
   {
    "duration": 69,
    "start_time": "2023-07-04T18:56:30.664Z"
   },
   {
    "duration": 47,
    "start_time": "2023-07-04T18:56:30.736Z"
   },
   {
    "duration": 48,
    "start_time": "2023-07-04T18:56:30.785Z"
   },
   {
    "duration": 197,
    "start_time": "2023-07-04T18:56:30.836Z"
   },
   {
    "duration": 14,
    "start_time": "2023-07-04T18:56:31.046Z"
   },
   {
    "duration": 27,
    "start_time": "2023-07-04T18:56:31.061Z"
   },
   {
    "duration": 775,
    "start_time": "2023-07-04T18:56:31.090Z"
   },
   {
    "duration": 0,
    "start_time": "2023-07-04T18:56:31.866Z"
   },
   {
    "duration": 0,
    "start_time": "2023-07-04T18:56:31.867Z"
   },
   {
    "duration": 1251,
    "start_time": "2023-07-04T18:57:01.250Z"
   },
   {
    "duration": 232,
    "start_time": "2023-07-04T18:57:02.514Z"
   },
   {
    "duration": 28,
    "start_time": "2023-07-04T18:57:02.758Z"
   },
   {
    "duration": 49,
    "start_time": "2023-07-04T18:57:02.788Z"
   },
   {
    "duration": 45,
    "start_time": "2023-07-04T18:57:02.843Z"
   },
   {
    "duration": 138,
    "start_time": "2023-07-04T18:57:02.890Z"
   },
   {
    "duration": 75,
    "start_time": "2023-07-04T18:57:03.040Z"
   },
   {
    "duration": 8,
    "start_time": "2023-07-04T18:57:03.122Z"
   },
   {
    "duration": 38,
    "start_time": "2023-07-04T18:57:03.148Z"
   },
   {
    "duration": 30,
    "start_time": "2023-07-04T18:57:03.187Z"
   },
   {
    "duration": 163,
    "start_time": "2023-07-04T18:57:03.228Z"
   },
   {
    "duration": 20,
    "start_time": "2023-07-04T18:57:03.393Z"
   },
   {
    "duration": 47,
    "start_time": "2023-07-04T18:57:03.414Z"
   },
   {
    "duration": 704,
    "start_time": "2023-07-04T18:57:03.463Z"
   },
   {
    "duration": 0,
    "start_time": "2023-07-04T18:57:04.169Z"
   },
   {
    "duration": 0,
    "start_time": "2023-07-04T18:57:04.170Z"
   },
   {
    "duration": 1252,
    "start_time": "2023-07-04T19:00:11.642Z"
   },
   {
    "duration": 210,
    "start_time": "2023-07-04T19:00:12.896Z"
   },
   {
    "duration": 32,
    "start_time": "2023-07-04T19:00:13.108Z"
   },
   {
    "duration": 37,
    "start_time": "2023-07-04T19:00:13.141Z"
   },
   {
    "duration": 13,
    "start_time": "2023-07-04T19:00:13.180Z"
   },
   {
    "duration": 80,
    "start_time": "2023-07-04T19:00:13.194Z"
   },
   {
    "duration": 88,
    "start_time": "2023-07-04T19:00:13.275Z"
   },
   {
    "duration": 8,
    "start_time": "2023-07-04T19:00:13.364Z"
   },
   {
    "duration": 10,
    "start_time": "2023-07-04T19:00:13.374Z"
   },
   {
    "duration": 2935,
    "start_time": "2023-07-04T19:00:13.386Z"
   },
   {
    "duration": 0,
    "start_time": "2023-07-04T19:00:16.323Z"
   },
   {
    "duration": 0,
    "start_time": "2023-07-04T19:00:16.324Z"
   },
   {
    "duration": 0,
    "start_time": "2023-07-04T19:00:16.329Z"
   },
   {
    "duration": 0,
    "start_time": "2023-07-04T19:00:16.330Z"
   },
   {
    "duration": 0,
    "start_time": "2023-07-04T19:00:16.332Z"
   },
   {
    "duration": 127,
    "start_time": "2023-07-04T19:00:28.814Z"
   },
   {
    "duration": 20,
    "start_time": "2023-07-04T19:00:30.527Z"
   },
   {
    "duration": 104,
    "start_time": "2023-07-04T19:00:56.658Z"
   },
   {
    "duration": 19,
    "start_time": "2023-07-04T19:00:56.941Z"
   },
   {
    "duration": 4,
    "start_time": "2023-07-04T19:01:04.747Z"
   },
   {
    "duration": 540,
    "start_time": "2023-07-04T19:01:12.329Z"
   },
   {
    "duration": 8,
    "start_time": "2023-07-04T19:02:07.855Z"
   },
   {
    "duration": 94,
    "start_time": "2023-07-04T19:02:17.060Z"
   },
   {
    "duration": 14,
    "start_time": "2023-07-04T19:02:17.940Z"
   },
   {
    "duration": 120,
    "start_time": "2023-07-04T19:03:24.646Z"
   },
   {
    "duration": 143,
    "start_time": "2023-07-04T19:04:59.698Z"
   },
   {
    "duration": 108,
    "start_time": "2023-07-04T19:05:37.646Z"
   },
   {
    "duration": 1117,
    "start_time": "2023-07-04T19:06:40.128Z"
   },
   {
    "duration": 178,
    "start_time": "2023-07-04T19:06:41.250Z"
   },
   {
    "duration": 26,
    "start_time": "2023-07-04T19:06:41.429Z"
   },
   {
    "duration": 24,
    "start_time": "2023-07-04T19:06:41.457Z"
   },
   {
    "duration": 19,
    "start_time": "2023-07-04T19:06:41.483Z"
   },
   {
    "duration": 120,
    "start_time": "2023-07-04T19:06:41.504Z"
   },
   {
    "duration": 64,
    "start_time": "2023-07-04T19:06:41.629Z"
   },
   {
    "duration": 22,
    "start_time": "2023-07-04T19:06:41.695Z"
   },
   {
    "duration": 34,
    "start_time": "2023-07-04T19:06:41.723Z"
   },
   {
    "duration": 104,
    "start_time": "2023-07-04T19:06:41.758Z"
   },
   {
    "duration": 122,
    "start_time": "2023-07-04T19:06:41.864Z"
   },
   {
    "duration": 25,
    "start_time": "2023-07-04T19:06:41.988Z"
   },
   {
    "duration": 125,
    "start_time": "2023-07-04T19:06:50.748Z"
   },
   {
    "duration": 33,
    "start_time": "2023-07-04T19:06:57.221Z"
   },
   {
    "duration": 1209,
    "start_time": "2023-07-04T19:11:36.264Z"
   },
   {
    "duration": 211,
    "start_time": "2023-07-04T19:11:37.475Z"
   },
   {
    "duration": 35,
    "start_time": "2023-07-04T19:11:37.687Z"
   },
   {
    "duration": 35,
    "start_time": "2023-07-04T19:11:37.731Z"
   },
   {
    "duration": 19,
    "start_time": "2023-07-04T19:11:37.768Z"
   },
   {
    "duration": 99,
    "start_time": "2023-07-04T19:11:37.789Z"
   },
   {
    "duration": 80,
    "start_time": "2023-07-04T19:11:37.890Z"
   },
   {
    "duration": 6,
    "start_time": "2023-07-04T19:11:37.971Z"
   },
   {
    "duration": 12,
    "start_time": "2023-07-04T19:11:37.978Z"
   },
   {
    "duration": 89,
    "start_time": "2023-07-04T19:11:37.992Z"
   },
   {
    "duration": 159,
    "start_time": "2023-07-04T19:11:38.082Z"
   },
   {
    "duration": 37,
    "start_time": "2023-07-04T19:11:38.251Z"
   },
   {
    "duration": 1395,
    "start_time": "2023-07-04T20:16:51.758Z"
   },
   {
    "duration": 270,
    "start_time": "2023-07-04T20:16:53.154Z"
   },
   {
    "duration": 48,
    "start_time": "2023-07-04T20:16:53.425Z"
   },
   {
    "duration": 39,
    "start_time": "2023-07-04T20:16:53.478Z"
   },
   {
    "duration": 71,
    "start_time": "2023-07-04T20:16:53.525Z"
   },
   {
    "duration": 119,
    "start_time": "2023-07-04T20:16:53.598Z"
   },
   {
    "duration": 105,
    "start_time": "2023-07-04T20:16:53.718Z"
   },
   {
    "duration": 27,
    "start_time": "2023-07-04T20:16:53.824Z"
   },
   {
    "duration": 101,
    "start_time": "2023-07-04T20:16:53.852Z"
   },
   {
    "duration": 143,
    "start_time": "2023-07-04T20:16:53.959Z"
   },
   {
    "duration": 154,
    "start_time": "2023-07-04T20:16:54.104Z"
   },
   {
    "duration": 41,
    "start_time": "2023-07-04T20:16:54.259Z"
   },
   {
    "duration": 8,
    "start_time": "2023-07-04T20:21:14.662Z"
   },
   {
    "duration": 12,
    "start_time": "2023-07-04T20:21:28.178Z"
   },
   {
    "duration": 149,
    "start_time": "2023-07-04T20:22:49.766Z"
   },
   {
    "duration": 125,
    "start_time": "2023-07-04T20:22:58.634Z"
   },
   {
    "duration": 9,
    "start_time": "2023-07-04T20:23:30.525Z"
   },
   {
    "duration": 152,
    "start_time": "2023-07-04T20:25:24.002Z"
   },
   {
    "duration": 22,
    "start_time": "2023-07-04T20:25:30.719Z"
   },
   {
    "duration": 21,
    "start_time": "2023-07-04T20:25:46.125Z"
   },
   {
    "duration": 79,
    "start_time": "2023-07-04T20:25:52.593Z"
   },
   {
    "duration": 11,
    "start_time": "2023-07-04T20:26:59.318Z"
   },
   {
    "duration": 64,
    "start_time": "2023-07-04T20:29:39.673Z"
   },
   {
    "duration": 59,
    "start_time": "2023-07-04T20:31:56.974Z"
   },
   {
    "duration": 63,
    "start_time": "2023-07-04T20:32:02.726Z"
   },
   {
    "duration": 515,
    "start_time": "2023-07-04T20:32:44.160Z"
   },
   {
    "duration": 253,
    "start_time": "2023-07-04T20:32:53.757Z"
   },
   {
    "duration": 257,
    "start_time": "2023-07-04T20:33:01.075Z"
   },
   {
    "duration": 311,
    "start_time": "2023-07-04T20:33:08.680Z"
   },
   {
    "duration": 237,
    "start_time": "2023-07-04T20:33:13.925Z"
   },
   {
    "duration": 333,
    "start_time": "2023-07-04T20:33:17.973Z"
   },
   {
    "duration": 262,
    "start_time": "2023-07-04T20:33:27.525Z"
   },
   {
    "duration": 210,
    "start_time": "2023-07-04T20:33:32.221Z"
   },
   {
    "duration": 229,
    "start_time": "2023-07-04T20:33:38.760Z"
   },
   {
    "duration": 304,
    "start_time": "2023-07-04T20:34:55.321Z"
   },
   {
    "duration": 233,
    "start_time": "2023-07-04T20:40:08.450Z"
   },
   {
    "duration": 477,
    "start_time": "2023-07-04T20:48:57.666Z"
   },
   {
    "duration": 568,
    "start_time": "2023-07-04T20:49:19.968Z"
   },
   {
    "duration": 255,
    "start_time": "2023-07-04T20:49:33.426Z"
   },
   {
    "duration": 94,
    "start_time": "2023-07-04T20:52:52.788Z"
   },
   {
    "duration": 615,
    "start_time": "2023-07-04T20:53:05.870Z"
   },
   {
    "duration": 61,
    "start_time": "2023-07-04T20:55:02.192Z"
   },
   {
    "duration": 77,
    "start_time": "2023-07-04T20:55:56.217Z"
   },
   {
    "duration": 131,
    "start_time": "2023-07-04T20:57:58.220Z"
   },
   {
    "duration": 254,
    "start_time": "2023-07-04T20:58:24.524Z"
   },
   {
    "duration": 146,
    "start_time": "2023-07-04T20:58:32.726Z"
   },
   {
    "duration": 109,
    "start_time": "2023-07-04T20:58:56.147Z"
   },
   {
    "duration": 162,
    "start_time": "2023-07-04T20:59:15.795Z"
   },
   {
    "duration": 1638,
    "start_time": "2023-07-04T20:59:22.757Z"
   },
   {
    "duration": 860,
    "start_time": "2023-07-04T20:59:24.397Z"
   },
   {
    "duration": 20,
    "start_time": "2023-07-04T20:59:25.258Z"
   },
   {
    "duration": 9,
    "start_time": "2023-07-04T20:59:25.279Z"
   },
   {
    "duration": 48,
    "start_time": "2023-07-04T20:59:25.289Z"
   },
   {
    "duration": 124,
    "start_time": "2023-07-04T20:59:25.346Z"
   },
   {
    "duration": 107,
    "start_time": "2023-07-04T20:59:25.472Z"
   },
   {
    "duration": 5,
    "start_time": "2023-07-04T20:59:25.581Z"
   },
   {
    "duration": 70,
    "start_time": "2023-07-04T20:59:25.588Z"
   },
   {
    "duration": 122,
    "start_time": "2023-07-04T20:59:25.660Z"
   },
   {
    "duration": 139,
    "start_time": "2023-07-04T20:59:25.783Z"
   },
   {
    "duration": 51,
    "start_time": "2023-07-04T20:59:25.923Z"
   },
   {
    "duration": 114,
    "start_time": "2023-07-04T20:59:25.982Z"
   },
   {
    "duration": 0,
    "start_time": "2023-07-04T20:59:26.098Z"
   },
   {
    "duration": 0,
    "start_time": "2023-07-04T20:59:26.099Z"
   },
   {
    "duration": 0,
    "start_time": "2023-07-04T20:59:26.100Z"
   },
   {
    "duration": 0,
    "start_time": "2023-07-04T20:59:26.100Z"
   },
   {
    "duration": 0,
    "start_time": "2023-07-04T20:59:26.101Z"
   },
   {
    "duration": 0,
    "start_time": "2023-07-04T20:59:26.101Z"
   },
   {
    "duration": 1330,
    "start_time": "2023-07-04T20:59:54.416Z"
   },
   {
    "duration": 405,
    "start_time": "2023-07-04T20:59:55.748Z"
   },
   {
    "duration": 22,
    "start_time": "2023-07-04T20:59:56.163Z"
   },
   {
    "duration": 11,
    "start_time": "2023-07-04T20:59:56.187Z"
   },
   {
    "duration": 53,
    "start_time": "2023-07-04T20:59:56.217Z"
   },
   {
    "duration": 149,
    "start_time": "2023-07-04T20:59:56.272Z"
   },
   {
    "duration": 76,
    "start_time": "2023-07-04T20:59:56.428Z"
   },
   {
    "duration": 75,
    "start_time": "2023-07-04T20:59:56.506Z"
   },
   {
    "duration": 38,
    "start_time": "2023-07-04T20:59:56.583Z"
   },
   {
    "duration": 31,
    "start_time": "2023-07-04T20:59:56.631Z"
   },
   {
    "duration": 126,
    "start_time": "2023-07-04T20:59:56.665Z"
   },
   {
    "duration": 246,
    "start_time": "2023-07-04T20:59:56.793Z"
   },
   {
    "duration": 36,
    "start_time": "2023-07-04T20:59:57.041Z"
   },
   {
    "duration": 109,
    "start_time": "2023-07-04T20:59:57.078Z"
   },
   {
    "duration": 0,
    "start_time": "2023-07-04T20:59:57.188Z"
   },
   {
    "duration": 0,
    "start_time": "2023-07-04T20:59:57.189Z"
   },
   {
    "duration": 0,
    "start_time": "2023-07-04T20:59:57.190Z"
   },
   {
    "duration": 0,
    "start_time": "2023-07-04T20:59:57.191Z"
   },
   {
    "duration": 0,
    "start_time": "2023-07-04T20:59:57.192Z"
   },
   {
    "duration": 0,
    "start_time": "2023-07-04T20:59:57.193Z"
   },
   {
    "duration": 175,
    "start_time": "2023-07-04T21:00:40.864Z"
   },
   {
    "duration": 1425,
    "start_time": "2023-07-04T21:00:46.997Z"
   },
   {
    "duration": 213,
    "start_time": "2023-07-04T21:00:48.424Z"
   },
   {
    "duration": 30,
    "start_time": "2023-07-04T21:00:48.650Z"
   },
   {
    "duration": 9,
    "start_time": "2023-07-04T21:00:48.682Z"
   },
   {
    "duration": 44,
    "start_time": "2023-07-04T21:00:48.693Z"
   },
   {
    "duration": 114,
    "start_time": "2023-07-04T21:00:48.738Z"
   },
   {
    "duration": 74,
    "start_time": "2023-07-04T21:00:48.854Z"
   },
   {
    "duration": 16,
    "start_time": "2023-07-04T21:00:48.935Z"
   },
   {
    "duration": 24,
    "start_time": "2023-07-04T21:00:48.953Z"
   },
   {
    "duration": 106,
    "start_time": "2023-07-04T21:00:48.978Z"
   },
   {
    "duration": 157,
    "start_time": "2023-07-04T21:00:49.086Z"
   },
   {
    "duration": 38,
    "start_time": "2023-07-04T21:00:49.257Z"
   },
   {
    "duration": 121,
    "start_time": "2023-07-04T21:00:49.296Z"
   },
   {
    "duration": 0,
    "start_time": "2023-07-04T21:00:49.418Z"
   },
   {
    "duration": 0,
    "start_time": "2023-07-04T21:00:49.419Z"
   },
   {
    "duration": 0,
    "start_time": "2023-07-04T21:00:49.420Z"
   },
   {
    "duration": 0,
    "start_time": "2023-07-04T21:00:49.421Z"
   },
   {
    "duration": 0,
    "start_time": "2023-07-04T21:00:49.422Z"
   },
   {
    "duration": 0,
    "start_time": "2023-07-04T21:00:49.425Z"
   },
   {
    "duration": 1153,
    "start_time": "2023-07-04T21:01:20.645Z"
   },
   {
    "duration": 207,
    "start_time": "2023-07-04T21:01:21.818Z"
   },
   {
    "duration": 33,
    "start_time": "2023-07-04T21:01:22.029Z"
   },
   {
    "duration": 16,
    "start_time": "2023-07-04T21:01:22.066Z"
   },
   {
    "duration": 13,
    "start_time": "2023-07-04T21:01:22.084Z"
   },
   {
    "duration": 149,
    "start_time": "2023-07-04T21:01:22.098Z"
   },
   {
    "duration": 73,
    "start_time": "2023-07-04T21:01:22.248Z"
   },
   {
    "duration": 19,
    "start_time": "2023-07-04T21:01:22.334Z"
   },
   {
    "duration": 23,
    "start_time": "2023-07-04T21:01:22.363Z"
   },
   {
    "duration": 172,
    "start_time": "2023-07-04T21:01:22.388Z"
   },
   {
    "duration": 149,
    "start_time": "2023-07-04T21:01:22.562Z"
   },
   {
    "duration": 45,
    "start_time": "2023-07-04T21:01:22.722Z"
   },
   {
    "duration": 3,
    "start_time": "2023-07-04T21:01:22.768Z"
   },
   {
    "duration": 18,
    "start_time": "2023-07-04T21:01:22.774Z"
   },
   {
    "duration": 44,
    "start_time": "2023-07-04T21:01:22.794Z"
   },
   {
    "duration": 35,
    "start_time": "2023-07-04T21:01:22.852Z"
   },
   {
    "duration": 356,
    "start_time": "2023-07-04T21:01:22.889Z"
   },
   {
    "duration": 127,
    "start_time": "2023-07-04T21:01:23.246Z"
   },
   {
    "duration": 65,
    "start_time": "2023-07-04T21:02:57.357Z"
   },
   {
    "duration": 5,
    "start_time": "2023-07-04T21:07:39.642Z"
   },
   {
    "duration": 1488,
    "start_time": "2023-07-04T21:07:44.025Z"
   },
   {
    "duration": 1116,
    "start_time": "2023-07-04T21:07:45.522Z"
   },
   {
    "duration": 29,
    "start_time": "2023-07-04T21:07:46.648Z"
   },
   {
    "duration": 14,
    "start_time": "2023-07-04T21:07:46.678Z"
   },
   {
    "duration": 28,
    "start_time": "2023-07-04T21:07:46.693Z"
   },
   {
    "duration": 119,
    "start_time": "2023-07-04T21:07:46.722Z"
   },
   {
    "duration": 90,
    "start_time": "2023-07-04T21:07:46.843Z"
   },
   {
    "duration": 6,
    "start_time": "2023-07-04T21:07:46.962Z"
   },
   {
    "duration": 24,
    "start_time": "2023-07-04T21:07:46.970Z"
   },
   {
    "duration": 141,
    "start_time": "2023-07-04T21:07:46.996Z"
   },
   {
    "duration": 128,
    "start_time": "2023-07-04T21:07:47.141Z"
   },
   {
    "duration": 55,
    "start_time": "2023-07-04T21:07:47.270Z"
   },
   {
    "duration": 15,
    "start_time": "2023-07-04T21:07:47.342Z"
   },
   {
    "duration": 8,
    "start_time": "2023-07-04T21:07:47.358Z"
   },
   {
    "duration": 9,
    "start_time": "2023-07-04T21:07:47.367Z"
   },
   {
    "duration": 67,
    "start_time": "2023-07-04T21:07:47.378Z"
   },
   {
    "duration": 382,
    "start_time": "2023-07-04T21:07:47.458Z"
   },
   {
    "duration": 66,
    "start_time": "2023-07-04T21:07:47.851Z"
   },
   {
    "duration": 7,
    "start_time": "2023-07-04T21:07:47.918Z"
   },
   {
    "duration": 187,
    "start_time": "2023-07-04T21:07:47.926Z"
   },
   {
    "duration": 5,
    "start_time": "2023-07-04T21:09:13.663Z"
   },
   {
    "duration": 19,
    "start_time": "2023-07-04T21:11:17.451Z"
   },
   {
    "duration": 220,
    "start_time": "2023-07-04T21:12:08.639Z"
   },
   {
    "duration": 18,
    "start_time": "2023-07-04T21:12:29.250Z"
   },
   {
    "duration": 149,
    "start_time": "2023-07-04T21:12:50.098Z"
   },
   {
    "duration": 84,
    "start_time": "2023-07-04T21:14:54.382Z"
   },
   {
    "duration": 51,
    "start_time": "2023-07-04T21:15:09.630Z"
   },
   {
    "duration": 64,
    "start_time": "2023-07-04T21:15:25.133Z"
   },
   {
    "duration": 31,
    "start_time": "2023-07-04T21:15:55.238Z"
   },
   {
    "duration": 20,
    "start_time": "2023-07-04T21:16:50.230Z"
   },
   {
    "duration": 13,
    "start_time": "2023-07-04T21:23:05.534Z"
   },
   {
    "duration": 11,
    "start_time": "2023-07-04T21:23:19.135Z"
   },
   {
    "duration": 70,
    "start_time": "2023-07-04T21:23:28.943Z"
   },
   {
    "duration": 67,
    "start_time": "2023-07-04T21:23:36.727Z"
   },
   {
    "duration": 1258,
    "start_time": "2023-07-05T08:20:40.635Z"
   },
   {
    "duration": 681,
    "start_time": "2023-07-05T08:20:41.895Z"
   },
   {
    "duration": 20,
    "start_time": "2023-07-05T08:20:42.577Z"
   },
   {
    "duration": 9,
    "start_time": "2023-07-05T08:20:42.600Z"
   },
   {
    "duration": 13,
    "start_time": "2023-07-05T08:20:42.611Z"
   },
   {
    "duration": 68,
    "start_time": "2023-07-05T08:20:42.626Z"
   },
   {
    "duration": 53,
    "start_time": "2023-07-05T08:20:42.696Z"
   },
   {
    "duration": 18,
    "start_time": "2023-07-05T08:20:42.750Z"
   },
   {
    "duration": 9,
    "start_time": "2023-07-05T08:20:42.770Z"
   },
   {
    "duration": 69,
    "start_time": "2023-07-05T08:20:42.781Z"
   },
   {
    "duration": 123,
    "start_time": "2023-07-05T08:20:42.852Z"
   },
   {
    "duration": 27,
    "start_time": "2023-07-05T08:20:42.977Z"
   },
   {
    "duration": 4,
    "start_time": "2023-07-05T08:20:43.005Z"
   },
   {
    "duration": 7,
    "start_time": "2023-07-05T08:20:43.011Z"
   },
   {
    "duration": 6,
    "start_time": "2023-07-05T08:20:43.019Z"
   },
   {
    "duration": 68,
    "start_time": "2023-07-05T08:20:43.026Z"
   },
   {
    "duration": 276,
    "start_time": "2023-07-05T08:20:43.095Z"
   },
   {
    "duration": 54,
    "start_time": "2023-07-05T08:20:43.372Z"
   },
   {
    "duration": 4,
    "start_time": "2023-07-05T08:20:43.428Z"
   },
   {
    "duration": 36,
    "start_time": "2023-07-05T08:20:43.433Z"
   },
   {
    "duration": 60,
    "start_time": "2023-07-05T08:20:43.471Z"
   },
   {
    "duration": 45,
    "start_time": "2023-07-05T08:24:12.316Z"
   },
   {
    "duration": 58,
    "start_time": "2023-07-05T08:24:20.950Z"
   },
   {
    "duration": 48,
    "start_time": "2023-07-05T08:24:44.380Z"
   },
   {
    "duration": 38,
    "start_time": "2023-07-05T08:27:06.621Z"
   },
   {
    "duration": 85,
    "start_time": "2023-07-05T08:27:14.117Z"
   },
   {
    "duration": 375,
    "start_time": "2023-07-05T08:31:05.910Z"
   },
   {
    "duration": 1129,
    "start_time": "2023-07-05T08:31:32.435Z"
   },
   {
    "duration": 152,
    "start_time": "2023-07-05T08:31:33.566Z"
   },
   {
    "duration": 21,
    "start_time": "2023-07-05T08:31:33.720Z"
   },
   {
    "duration": 10,
    "start_time": "2023-07-05T08:31:33.743Z"
   },
   {
    "duration": 29,
    "start_time": "2023-07-05T08:31:33.754Z"
   },
   {
    "duration": 62,
    "start_time": "2023-07-05T08:31:33.784Z"
   },
   {
    "duration": 65,
    "start_time": "2023-07-05T08:31:33.848Z"
   },
   {
    "duration": 6,
    "start_time": "2023-07-05T08:31:33.915Z"
   },
   {
    "duration": 21,
    "start_time": "2023-07-05T08:31:33.922Z"
   },
   {
    "duration": 122,
    "start_time": "2023-07-05T08:31:33.946Z"
   },
   {
    "duration": 141,
    "start_time": "2023-07-05T08:31:34.070Z"
   },
   {
    "duration": 30,
    "start_time": "2023-07-05T08:31:34.213Z"
   },
   {
    "duration": 3,
    "start_time": "2023-07-05T08:31:34.245Z"
   },
   {
    "duration": 20,
    "start_time": "2023-07-05T08:31:34.249Z"
   },
   {
    "duration": 5,
    "start_time": "2023-07-05T08:31:34.271Z"
   },
   {
    "duration": 33,
    "start_time": "2023-07-05T08:31:34.277Z"
   },
   {
    "duration": 291,
    "start_time": "2023-07-05T08:31:34.311Z"
   },
   {
    "duration": 64,
    "start_time": "2023-07-05T08:31:34.604Z"
   },
   {
    "duration": 3,
    "start_time": "2023-07-05T08:31:34.670Z"
   },
   {
    "duration": 18,
    "start_time": "2023-07-05T08:31:34.675Z"
   },
   {
    "duration": 49,
    "start_time": "2023-07-05T08:31:34.694Z"
   },
   {
    "duration": 456,
    "start_time": "2023-07-05T08:31:34.744Z"
   },
   {
    "duration": 17,
    "start_time": "2023-07-05T08:33:30.179Z"
   },
   {
    "duration": 1116,
    "start_time": "2023-07-05T08:38:17.048Z"
   },
   {
    "duration": 157,
    "start_time": "2023-07-05T08:38:18.168Z"
   },
   {
    "duration": 21,
    "start_time": "2023-07-05T08:38:18.326Z"
   },
   {
    "duration": 10,
    "start_time": "2023-07-05T08:38:18.348Z"
   },
   {
    "duration": 16,
    "start_time": "2023-07-05T08:38:18.368Z"
   },
   {
    "duration": 66,
    "start_time": "2023-07-05T08:38:18.386Z"
   },
   {
    "duration": 61,
    "start_time": "2023-07-05T08:38:18.468Z"
   },
   {
    "duration": 7,
    "start_time": "2023-07-05T08:38:18.531Z"
   },
   {
    "duration": 29,
    "start_time": "2023-07-05T08:38:18.539Z"
   },
   {
    "duration": 74,
    "start_time": "2023-07-05T08:38:18.569Z"
   },
   {
    "duration": 114,
    "start_time": "2023-07-05T08:38:18.644Z"
   },
   {
    "duration": 27,
    "start_time": "2023-07-05T08:38:18.768Z"
   },
   {
    "duration": 3,
    "start_time": "2023-07-05T08:38:18.796Z"
   },
   {
    "duration": 6,
    "start_time": "2023-07-05T08:38:18.801Z"
   },
   {
    "duration": 5,
    "start_time": "2023-07-05T08:38:18.808Z"
   },
   {
    "duration": 55,
    "start_time": "2023-07-05T08:38:18.814Z"
   },
   {
    "duration": 306,
    "start_time": "2023-07-05T08:38:18.870Z"
   },
   {
    "duration": 59,
    "start_time": "2023-07-05T08:38:19.178Z"
   },
   {
    "duration": 4,
    "start_time": "2023-07-05T08:38:19.239Z"
   },
   {
    "duration": 37,
    "start_time": "2023-07-05T08:38:19.245Z"
   },
   {
    "duration": 39,
    "start_time": "2023-07-05T08:38:19.284Z"
   },
   {
    "duration": 84,
    "start_time": "2023-07-05T08:38:19.324Z"
   },
   {
    "duration": 1015,
    "start_time": "2023-07-05T08:38:19.409Z"
   },
   {
    "duration": 46,
    "start_time": "2023-07-05T08:38:29.287Z"
   },
   {
    "duration": 38,
    "start_time": "2023-07-05T08:39:35.975Z"
   },
   {
    "duration": 35,
    "start_time": "2023-07-05T08:39:39.880Z"
   },
   {
    "duration": 41,
    "start_time": "2023-07-05T08:39:56.919Z"
   },
   {
    "duration": 37,
    "start_time": "2023-07-05T08:40:00.024Z"
   },
   {
    "duration": 53,
    "start_time": "2023-07-05T08:40:13.944Z"
   },
   {
    "duration": 38,
    "start_time": "2023-07-05T08:40:30.774Z"
   },
   {
    "duration": 38,
    "start_time": "2023-07-05T08:41:23.506Z"
   },
   {
    "duration": 37,
    "start_time": "2023-07-05T08:41:26.184Z"
   },
   {
    "duration": 52,
    "start_time": "2023-07-05T08:42:39.056Z"
   },
   {
    "duration": 1126,
    "start_time": "2023-07-05T08:42:44.335Z"
   },
   {
    "duration": 151,
    "start_time": "2023-07-05T08:42:45.463Z"
   },
   {
    "duration": 20,
    "start_time": "2023-07-05T08:42:45.615Z"
   },
   {
    "duration": 11,
    "start_time": "2023-07-05T08:42:45.637Z"
   },
   {
    "duration": 25,
    "start_time": "2023-07-05T08:42:45.649Z"
   },
   {
    "duration": 59,
    "start_time": "2023-07-05T08:42:45.675Z"
   },
   {
    "duration": 69,
    "start_time": "2023-07-05T08:42:45.735Z"
   },
   {
    "duration": 7,
    "start_time": "2023-07-05T08:42:45.805Z"
   },
   {
    "duration": 21,
    "start_time": "2023-07-05T08:42:45.814Z"
   },
   {
    "duration": 84,
    "start_time": "2023-07-05T08:42:45.837Z"
   },
   {
    "duration": 110,
    "start_time": "2023-07-05T08:42:45.923Z"
   },
   {
    "duration": 35,
    "start_time": "2023-07-05T08:42:46.035Z"
   },
   {
    "duration": 2,
    "start_time": "2023-07-05T08:42:46.072Z"
   },
   {
    "duration": 9,
    "start_time": "2023-07-05T08:42:46.076Z"
   },
   {
    "duration": 4,
    "start_time": "2023-07-05T08:42:46.087Z"
   },
   {
    "duration": 31,
    "start_time": "2023-07-05T08:42:46.093Z"
   },
   {
    "duration": 288,
    "start_time": "2023-07-05T08:42:46.125Z"
   },
   {
    "duration": 57,
    "start_time": "2023-07-05T08:42:46.415Z"
   },
   {
    "duration": 4,
    "start_time": "2023-07-05T08:42:46.474Z"
   },
   {
    "duration": 19,
    "start_time": "2023-07-05T08:42:46.479Z"
   },
   {
    "duration": 39,
    "start_time": "2023-07-05T08:42:46.500Z"
   },
   {
    "duration": 71,
    "start_time": "2023-07-05T08:42:46.541Z"
   },
   {
    "duration": 899,
    "start_time": "2023-07-05T08:42:46.614Z"
   },
   {
    "duration": 912,
    "start_time": "2023-07-05T08:44:49.225Z"
   },
   {
    "duration": 1255,
    "start_time": "2023-07-05T08:49:22.888Z"
   },
   {
    "duration": 155,
    "start_time": "2023-07-05T08:49:24.145Z"
   },
   {
    "duration": 19,
    "start_time": "2023-07-05T08:49:24.301Z"
   },
   {
    "duration": 9,
    "start_time": "2023-07-05T08:49:24.322Z"
   },
   {
    "duration": 15,
    "start_time": "2023-07-05T08:49:24.333Z"
   },
   {
    "duration": 70,
    "start_time": "2023-07-05T08:49:24.349Z"
   },
   {
    "duration": 71,
    "start_time": "2023-07-05T08:49:24.420Z"
   },
   {
    "duration": 6,
    "start_time": "2023-07-05T08:49:24.493Z"
   },
   {
    "duration": 10,
    "start_time": "2023-07-05T08:49:24.501Z"
   },
   {
    "duration": 87,
    "start_time": "2023-07-05T08:49:24.512Z"
   },
   {
    "duration": 112,
    "start_time": "2023-07-05T08:49:24.601Z"
   },
   {
    "duration": 25,
    "start_time": "2023-07-05T08:49:24.715Z"
   },
   {
    "duration": 3,
    "start_time": "2023-07-05T08:49:24.742Z"
   },
   {
    "duration": 21,
    "start_time": "2023-07-05T08:49:24.747Z"
   },
   {
    "duration": 5,
    "start_time": "2023-07-05T08:49:24.769Z"
   },
   {
    "duration": 30,
    "start_time": "2023-07-05T08:49:24.775Z"
   },
   {
    "duration": 293,
    "start_time": "2023-07-05T08:49:24.807Z"
   },
   {
    "duration": 51,
    "start_time": "2023-07-05T08:49:25.101Z"
   },
   {
    "duration": 14,
    "start_time": "2023-07-05T08:49:25.154Z"
   },
   {
    "duration": 39,
    "start_time": "2023-07-05T08:49:25.170Z"
   },
   {
    "duration": 35,
    "start_time": "2023-07-05T08:49:25.210Z"
   },
   {
    "duration": 1133,
    "start_time": "2023-07-05T08:49:25.246Z"
   },
   {
    "duration": 0,
    "start_time": "2023-07-05T08:49:26.380Z"
   },
   {
    "duration": 73,
    "start_time": "2023-07-05T08:50:10.901Z"
   },
   {
    "duration": 54,
    "start_time": "2023-07-05T08:50:38.208Z"
   },
   {
    "duration": 49,
    "start_time": "2023-07-05T08:53:25.675Z"
   },
   {
    "duration": 70,
    "start_time": "2023-07-05T08:53:40.469Z"
   },
   {
    "duration": 49,
    "start_time": "2023-07-05T08:53:56.468Z"
   },
   {
    "duration": 7,
    "start_time": "2023-07-05T08:55:11.212Z"
   },
   {
    "duration": 11,
    "start_time": "2023-07-05T08:55:18.443Z"
   },
   {
    "duration": 12,
    "start_time": "2023-07-05T08:56:22.268Z"
   },
   {
    "duration": 14,
    "start_time": "2023-07-05T08:57:11.489Z"
   },
   {
    "duration": 13,
    "start_time": "2023-07-05T08:57:49.132Z"
   },
   {
    "duration": 12,
    "start_time": "2023-07-05T08:57:58.239Z"
   },
   {
    "duration": 20,
    "start_time": "2023-07-05T09:21:56.122Z"
   },
   {
    "duration": 5,
    "start_time": "2023-07-05T09:21:59.629Z"
   },
   {
    "duration": 9,
    "start_time": "2023-07-05T09:23:24.673Z"
   },
   {
    "duration": 79,
    "start_time": "2023-07-05T09:25:46.068Z"
   },
   {
    "duration": 74,
    "start_time": "2023-07-05T09:26:45.468Z"
   },
   {
    "duration": 204,
    "start_time": "2023-07-05T11:24:15.077Z"
   },
   {
    "duration": 1220,
    "start_time": "2023-07-05T11:24:25.284Z"
   },
   {
    "duration": 155,
    "start_time": "2023-07-05T11:24:26.505Z"
   },
   {
    "duration": 24,
    "start_time": "2023-07-05T11:24:26.661Z"
   },
   {
    "duration": 10,
    "start_time": "2023-07-05T11:24:26.687Z"
   },
   {
    "duration": 14,
    "start_time": "2023-07-05T11:24:26.699Z"
   },
   {
    "duration": 86,
    "start_time": "2023-07-05T11:24:26.715Z"
   },
   {
    "duration": 65,
    "start_time": "2023-07-05T11:24:26.803Z"
   },
   {
    "duration": 6,
    "start_time": "2023-07-05T11:24:26.870Z"
   },
   {
    "duration": 10,
    "start_time": "2023-07-05T11:24:26.877Z"
   },
   {
    "duration": 83,
    "start_time": "2023-07-05T11:24:26.890Z"
   },
   {
    "duration": 136,
    "start_time": "2023-07-05T11:24:26.976Z"
   },
   {
    "duration": 27,
    "start_time": "2023-07-05T11:24:27.114Z"
   },
   {
    "duration": 3,
    "start_time": "2023-07-05T11:24:27.143Z"
   },
   {
    "duration": 23,
    "start_time": "2023-07-05T11:24:27.147Z"
   },
   {
    "duration": 16,
    "start_time": "2023-07-05T11:24:27.172Z"
   },
   {
    "duration": 39,
    "start_time": "2023-07-05T11:24:27.190Z"
   },
   {
    "duration": 278,
    "start_time": "2023-07-05T11:24:27.231Z"
   },
   {
    "duration": 62,
    "start_time": "2023-07-05T11:24:27.511Z"
   },
   {
    "duration": 4,
    "start_time": "2023-07-05T11:24:27.574Z"
   },
   {
    "duration": 38,
    "start_time": "2023-07-05T11:24:27.579Z"
   },
   {
    "duration": 51,
    "start_time": "2023-07-05T11:24:27.619Z"
   },
   {
    "duration": 55,
    "start_time": "2023-07-05T11:24:27.671Z"
   },
   {
    "duration": 13,
    "start_time": "2023-07-05T11:24:27.727Z"
   },
   {
    "duration": 35,
    "start_time": "2023-07-05T11:24:27.741Z"
   },
   {
    "duration": 71,
    "start_time": "2023-07-05T11:24:27.778Z"
   },
   {
    "duration": 102,
    "start_time": "2023-07-05T11:24:46.215Z"
   },
   {
    "duration": 3,
    "start_time": "2023-07-05T11:28:41.136Z"
   },
   {
    "duration": 30,
    "start_time": "2023-07-05T11:28:45.943Z"
   },
   {
    "duration": 15,
    "start_time": "2023-07-05T11:30:01.921Z"
   },
   {
    "duration": 10,
    "start_time": "2023-07-05T11:31:05.016Z"
   },
   {
    "duration": 19,
    "start_time": "2023-07-05T11:31:11.310Z"
   },
   {
    "duration": 0,
    "start_time": "2023-07-05T11:31:54.168Z"
   },
   {
    "duration": 0,
    "start_time": "2023-07-05T11:31:54.170Z"
   },
   {
    "duration": 0,
    "start_time": "2023-07-05T11:31:54.171Z"
   },
   {
    "duration": 0,
    "start_time": "2023-07-05T11:31:54.173Z"
   },
   {
    "duration": 0,
    "start_time": "2023-07-05T11:31:54.174Z"
   },
   {
    "duration": 0,
    "start_time": "2023-07-05T11:31:54.175Z"
   },
   {
    "duration": 0,
    "start_time": "2023-07-05T11:31:54.177Z"
   },
   {
    "duration": 0,
    "start_time": "2023-07-05T11:31:54.178Z"
   },
   {
    "duration": 0,
    "start_time": "2023-07-05T11:31:54.180Z"
   },
   {
    "duration": 0,
    "start_time": "2023-07-05T11:31:54.181Z"
   },
   {
    "duration": 0,
    "start_time": "2023-07-05T11:31:54.182Z"
   },
   {
    "duration": 0,
    "start_time": "2023-07-05T11:31:54.183Z"
   },
   {
    "duration": 0,
    "start_time": "2023-07-05T11:31:54.184Z"
   },
   {
    "duration": 1300,
    "start_time": "2023-07-05T11:32:13.482Z"
   },
   {
    "duration": 162,
    "start_time": "2023-07-05T11:32:14.785Z"
   },
   {
    "duration": 23,
    "start_time": "2023-07-05T11:32:14.948Z"
   },
   {
    "duration": 30,
    "start_time": "2023-07-05T11:32:14.973Z"
   },
   {
    "duration": 49,
    "start_time": "2023-07-05T11:32:15.006Z"
   },
   {
    "duration": 83,
    "start_time": "2023-07-05T11:32:15.057Z"
   },
   {
    "duration": 80,
    "start_time": "2023-07-05T11:32:15.143Z"
   },
   {
    "duration": 8,
    "start_time": "2023-07-05T11:32:15.225Z"
   },
   {
    "duration": 32,
    "start_time": "2023-07-05T11:32:15.236Z"
   },
   {
    "duration": 80,
    "start_time": "2023-07-05T11:32:15.270Z"
   },
   {
    "duration": 135,
    "start_time": "2023-07-05T11:32:15.353Z"
   },
   {
    "duration": 33,
    "start_time": "2023-07-05T11:32:15.490Z"
   },
   {
    "duration": 4,
    "start_time": "2023-07-05T11:32:15.525Z"
   },
   {
    "duration": 5,
    "start_time": "2023-07-05T11:32:15.533Z"
   },
   {
    "duration": 32,
    "start_time": "2023-07-05T11:32:15.540Z"
   },
   {
    "duration": 36,
    "start_time": "2023-07-05T11:32:15.573Z"
   },
   {
    "duration": 345,
    "start_time": "2023-07-05T11:32:15.610Z"
   },
   {
    "duration": 64,
    "start_time": "2023-07-05T11:32:15.957Z"
   },
   {
    "duration": 4,
    "start_time": "2023-07-05T11:32:16.023Z"
   },
   {
    "duration": 28,
    "start_time": "2023-07-05T11:32:16.029Z"
   },
   {
    "duration": 42,
    "start_time": "2023-07-05T11:32:16.069Z"
   },
   {
    "duration": 80,
    "start_time": "2023-07-05T11:32:16.112Z"
   },
   {
    "duration": 15,
    "start_time": "2023-07-05T11:32:16.194Z"
   },
   {
    "duration": 6,
    "start_time": "2023-07-05T11:32:16.211Z"
   },
   {
    "duration": 18,
    "start_time": "2023-07-05T11:32:16.219Z"
   },
   {
    "duration": 137,
    "start_time": "2023-07-05T11:32:16.239Z"
   },
   {
    "duration": 1238,
    "start_time": "2023-07-05T12:24:29.669Z"
   },
   {
    "duration": 158,
    "start_time": "2023-07-05T12:24:30.909Z"
   },
   {
    "duration": 25,
    "start_time": "2023-07-05T12:24:31.069Z"
   },
   {
    "duration": 33,
    "start_time": "2023-07-05T12:24:31.097Z"
   },
   {
    "duration": 52,
    "start_time": "2023-07-05T12:24:31.131Z"
   },
   {
    "duration": 86,
    "start_time": "2023-07-05T12:24:31.185Z"
   },
   {
    "duration": 60,
    "start_time": "2023-07-05T12:24:31.272Z"
   },
   {
    "duration": 8,
    "start_time": "2023-07-05T12:24:31.334Z"
   },
   {
    "duration": 28,
    "start_time": "2023-07-05T12:24:31.344Z"
   },
   {
    "duration": 157,
    "start_time": "2023-07-05T12:24:31.376Z"
   },
   {
    "duration": 170,
    "start_time": "2023-07-05T12:24:31.536Z"
   },
   {
    "duration": 47,
    "start_time": "2023-07-05T12:24:31.708Z"
   },
   {
    "duration": 14,
    "start_time": "2023-07-05T12:24:31.756Z"
   },
   {
    "duration": 35,
    "start_time": "2023-07-05T12:24:31.771Z"
   },
   {
    "duration": 9,
    "start_time": "2023-07-05T12:24:31.808Z"
   },
   {
    "duration": 56,
    "start_time": "2023-07-05T12:24:31.819Z"
   },
   {
    "duration": 283,
    "start_time": "2023-07-05T12:24:31.877Z"
   },
   {
    "duration": 73,
    "start_time": "2023-07-05T12:24:32.162Z"
   },
   {
    "duration": 4,
    "start_time": "2023-07-05T12:24:32.238Z"
   },
   {
    "duration": 47,
    "start_time": "2023-07-05T12:24:32.244Z"
   },
   {
    "duration": 38,
    "start_time": "2023-07-05T12:24:32.293Z"
   },
   {
    "duration": 77,
    "start_time": "2023-07-05T12:24:32.332Z"
   },
   {
    "duration": 17,
    "start_time": "2023-07-05T12:24:32.412Z"
   },
   {
    "duration": 9,
    "start_time": "2023-07-05T12:24:32.431Z"
   },
   {
    "duration": 24,
    "start_time": "2023-07-05T12:24:32.442Z"
   },
   {
    "duration": 134,
    "start_time": "2023-07-05T12:24:32.469Z"
   },
   {
    "duration": 461,
    "start_time": "2023-07-05T12:26:58.458Z"
   },
   {
    "duration": 121,
    "start_time": "2023-07-05T12:27:23.133Z"
   },
   {
    "duration": 42,
    "start_time": "2023-07-05T12:27:36.838Z"
   },
   {
    "duration": 40,
    "start_time": "2023-07-05T12:27:57.605Z"
   },
   {
    "duration": 43,
    "start_time": "2023-07-05T12:28:08.712Z"
   },
   {
    "duration": 57,
    "start_time": "2023-07-05T12:28:34.143Z"
   },
   {
    "duration": 1412,
    "start_time": "2023-07-05T15:40:54.547Z"
   },
   {
    "duration": 729,
    "start_time": "2023-07-05T15:40:55.961Z"
   },
   {
    "duration": 21,
    "start_time": "2023-07-05T15:40:56.692Z"
   },
   {
    "duration": 11,
    "start_time": "2023-07-05T15:40:56.714Z"
   },
   {
    "duration": 14,
    "start_time": "2023-07-05T15:40:56.727Z"
   },
   {
    "duration": 73,
    "start_time": "2023-07-05T15:40:56.742Z"
   },
   {
    "duration": 72,
    "start_time": "2023-07-05T15:40:56.816Z"
   },
   {
    "duration": 7,
    "start_time": "2023-07-05T15:40:56.889Z"
   },
   {
    "duration": 10,
    "start_time": "2023-07-05T15:40:56.898Z"
   },
   {
    "duration": 88,
    "start_time": "2023-07-05T15:40:56.910Z"
   },
   {
    "duration": 124,
    "start_time": "2023-07-05T15:40:56.999Z"
   },
   {
    "duration": 24,
    "start_time": "2023-07-05T15:40:57.125Z"
   },
   {
    "duration": 11,
    "start_time": "2023-07-05T15:40:57.151Z"
   },
   {
    "duration": 11,
    "start_time": "2023-07-05T15:40:57.164Z"
   },
   {
    "duration": 5,
    "start_time": "2023-07-05T15:40:57.177Z"
   },
   {
    "duration": 32,
    "start_time": "2023-07-05T15:40:57.184Z"
   },
   {
    "duration": 321,
    "start_time": "2023-07-05T15:40:57.218Z"
   },
   {
    "duration": 66,
    "start_time": "2023-07-05T15:40:57.541Z"
   },
   {
    "duration": 4,
    "start_time": "2023-07-05T15:40:57.609Z"
   },
   {
    "duration": 26,
    "start_time": "2023-07-05T15:40:57.614Z"
   },
   {
    "duration": 50,
    "start_time": "2023-07-05T15:40:57.642Z"
   },
   {
    "duration": 68,
    "start_time": "2023-07-05T15:40:57.693Z"
   },
   {
    "duration": 14,
    "start_time": "2023-07-05T15:40:57.762Z"
   },
   {
    "duration": 5,
    "start_time": "2023-07-05T15:40:57.777Z"
   },
   {
    "duration": 15,
    "start_time": "2023-07-05T15:40:57.784Z"
   },
   {
    "duration": 445,
    "start_time": "2023-07-05T15:40:57.801Z"
   },
   {
    "duration": 44,
    "start_time": "2023-07-05T15:41:25.952Z"
   },
   {
    "duration": 6,
    "start_time": "2023-07-05T15:47:26.495Z"
   },
   {
    "duration": 199,
    "start_time": "2023-07-05T15:50:57.065Z"
   },
   {
    "duration": 15,
    "start_time": "2023-07-05T15:53:41.145Z"
   },
   {
    "duration": 51,
    "start_time": "2023-07-05T15:54:59.190Z"
   },
   {
    "duration": 45,
    "start_time": "2023-07-05T16:14:44.819Z"
   },
   {
    "duration": 43,
    "start_time": "2023-07-05T16:14:57.760Z"
   },
   {
    "duration": 19,
    "start_time": "2023-07-05T16:23:58.430Z"
   },
   {
    "duration": 60,
    "start_time": "2023-07-05T16:24:11.450Z"
   },
   {
    "duration": 52,
    "start_time": "2023-07-05T16:24:35.767Z"
   },
   {
    "duration": 58,
    "start_time": "2023-07-05T16:24:52.329Z"
   },
   {
    "duration": 62,
    "start_time": "2023-07-05T16:25:04.481Z"
   },
   {
    "duration": 61,
    "start_time": "2023-07-05T16:25:24.311Z"
   },
   {
    "duration": 60,
    "start_time": "2023-07-05T16:25:35.864Z"
   },
   {
    "duration": 6,
    "start_time": "2023-07-05T16:25:42.040Z"
   },
   {
    "duration": 53,
    "start_time": "2023-07-05T16:25:50.783Z"
   },
   {
    "duration": 4,
    "start_time": "2023-07-05T16:25:51.286Z"
   },
   {
    "duration": 57,
    "start_time": "2023-07-05T16:25:57.895Z"
   },
   {
    "duration": 5,
    "start_time": "2023-07-05T16:25:59.520Z"
   },
   {
    "duration": 13,
    "start_time": "2023-07-05T16:26:43.008Z"
   },
   {
    "duration": 58,
    "start_time": "2023-07-05T16:26:55.160Z"
   },
   {
    "duration": 61,
    "start_time": "2023-07-05T16:27:22.703Z"
   },
   {
    "duration": 70,
    "start_time": "2023-07-05T16:27:44.815Z"
   },
   {
    "duration": 68,
    "start_time": "2023-07-05T16:30:07.467Z"
   },
   {
    "duration": 7,
    "start_time": "2023-07-05T16:30:10.936Z"
   },
   {
    "duration": 5,
    "start_time": "2023-07-05T16:31:11.190Z"
   },
   {
    "duration": 75,
    "start_time": "2023-07-05T16:31:14.168Z"
   },
   {
    "duration": 4,
    "start_time": "2023-07-05T16:31:15.343Z"
   },
   {
    "duration": 92,
    "start_time": "2023-07-05T16:31:24.040Z"
   },
   {
    "duration": 5,
    "start_time": "2023-07-05T16:31:24.488Z"
   },
   {
    "duration": 4,
    "start_time": "2023-07-05T16:31:30.560Z"
   },
   {
    "duration": 998,
    "start_time": "2023-07-05T16:32:26.853Z"
   },
   {
    "duration": 1005,
    "start_time": "2023-07-05T16:32:33.794Z"
   },
   {
    "duration": 59,
    "start_time": "2023-07-05T16:32:39.544Z"
   },
   {
    "duration": 1087,
    "start_time": "2023-07-05T16:32:40.534Z"
   },
   {
    "duration": 12,
    "start_time": "2023-07-05T16:48:20.637Z"
   },
   {
    "duration": 1268,
    "start_time": "2023-07-05T16:49:37.665Z"
   },
   {
    "duration": 162,
    "start_time": "2023-07-05T16:49:38.935Z"
   },
   {
    "duration": 22,
    "start_time": "2023-07-05T16:49:39.098Z"
   },
   {
    "duration": 12,
    "start_time": "2023-07-05T16:49:39.122Z"
   },
   {
    "duration": 34,
    "start_time": "2023-07-05T16:49:39.135Z"
   },
   {
    "duration": 88,
    "start_time": "2023-07-05T16:49:39.171Z"
   },
   {
    "duration": 68,
    "start_time": "2023-07-05T16:49:39.261Z"
   },
   {
    "duration": 7,
    "start_time": "2023-07-05T16:49:39.331Z"
   },
   {
    "duration": 28,
    "start_time": "2023-07-05T16:49:39.339Z"
   },
   {
    "duration": 74,
    "start_time": "2023-07-05T16:49:39.369Z"
   },
   {
    "duration": 128,
    "start_time": "2023-07-05T16:49:39.459Z"
   },
   {
    "duration": 25,
    "start_time": "2023-07-05T16:49:39.589Z"
   },
   {
    "duration": 4,
    "start_time": "2023-07-05T16:49:39.616Z"
   },
   {
    "duration": 6,
    "start_time": "2023-07-05T16:49:39.621Z"
   },
   {
    "duration": 30,
    "start_time": "2023-07-05T16:49:39.629Z"
   },
   {
    "duration": 31,
    "start_time": "2023-07-05T16:49:39.661Z"
   },
   {
    "duration": 313,
    "start_time": "2023-07-05T16:49:39.694Z"
   },
   {
    "duration": 68,
    "start_time": "2023-07-05T16:49:40.008Z"
   },
   {
    "duration": 4,
    "start_time": "2023-07-05T16:49:40.078Z"
   },
   {
    "duration": 28,
    "start_time": "2023-07-05T16:49:40.084Z"
   },
   {
    "duration": 54,
    "start_time": "2023-07-05T16:49:40.114Z"
   },
   {
    "duration": 56,
    "start_time": "2023-07-05T16:49:40.170Z"
   },
   {
    "duration": 33,
    "start_time": "2023-07-05T16:49:40.228Z"
   },
   {
    "duration": 18,
    "start_time": "2023-07-05T16:49:40.263Z"
   },
   {
    "duration": 468,
    "start_time": "2023-07-05T16:49:40.283Z"
   },
   {
    "duration": 124,
    "start_time": "2023-07-05T16:49:40.753Z"
   },
   {
    "duration": 1168,
    "start_time": "2023-07-05T16:49:40.879Z"
   },
   {
    "duration": 0,
    "start_time": "2023-07-05T16:49:42.049Z"
   },
   {
    "duration": 0,
    "start_time": "2023-07-05T16:49:42.050Z"
   },
   {
    "duration": 19,
    "start_time": "2023-07-05T17:04:19.930Z"
   },
   {
    "duration": 49,
    "start_time": "2023-07-05T17:04:30.465Z"
   },
   {
    "duration": 1532,
    "start_time": "2023-07-05T18:27:30.910Z"
   },
   {
    "duration": 726,
    "start_time": "2023-07-05T18:27:32.445Z"
   },
   {
    "duration": 21,
    "start_time": "2023-07-05T18:27:33.173Z"
   },
   {
    "duration": 11,
    "start_time": "2023-07-05T18:27:33.197Z"
   },
   {
    "duration": 15,
    "start_time": "2023-07-05T18:27:33.210Z"
   },
   {
    "duration": 66,
    "start_time": "2023-07-05T18:27:33.226Z"
   },
   {
    "duration": 81,
    "start_time": "2023-07-05T18:27:33.294Z"
   },
   {
    "duration": 6,
    "start_time": "2023-07-05T18:27:33.377Z"
   },
   {
    "duration": 31,
    "start_time": "2023-07-05T18:27:33.385Z"
   },
   {
    "duration": 90,
    "start_time": "2023-07-05T18:27:33.424Z"
   },
   {
    "duration": 156,
    "start_time": "2023-07-05T18:27:33.516Z"
   },
   {
    "duration": 55,
    "start_time": "2023-07-05T18:27:33.675Z"
   },
   {
    "duration": 5,
    "start_time": "2023-07-05T18:27:33.732Z"
   },
   {
    "duration": 11,
    "start_time": "2023-07-05T18:27:33.740Z"
   },
   {
    "duration": 7,
    "start_time": "2023-07-05T18:27:33.753Z"
   },
   {
    "duration": 71,
    "start_time": "2023-07-05T18:27:33.762Z"
   },
   {
    "duration": 344,
    "start_time": "2023-07-05T18:27:33.836Z"
   },
   {
    "duration": 87,
    "start_time": "2023-07-05T18:27:34.182Z"
   },
   {
    "duration": 6,
    "start_time": "2023-07-05T18:27:34.271Z"
   },
   {
    "duration": 37,
    "start_time": "2023-07-05T18:27:34.279Z"
   },
   {
    "duration": 58,
    "start_time": "2023-07-05T18:27:34.318Z"
   },
   {
    "duration": 97,
    "start_time": "2023-07-05T18:27:34.378Z"
   },
   {
    "duration": 16,
    "start_time": "2023-07-05T18:27:34.476Z"
   },
   {
    "duration": 34,
    "start_time": "2023-07-05T18:27:34.494Z"
   },
   {
    "duration": 622,
    "start_time": "2023-07-05T18:27:34.530Z"
   },
   {
    "duration": 3,
    "start_time": "2023-07-05T18:27:35.154Z"
   },
   {
    "duration": 77,
    "start_time": "2023-07-05T18:27:35.159Z"
   },
   {
    "duration": 61,
    "start_time": "2023-07-05T18:30:55.835Z"
   },
   {
    "duration": 219,
    "start_time": "2023-07-05T18:30:58.139Z"
   },
   {
    "duration": 88,
    "start_time": "2023-07-05T18:31:21.493Z"
   },
   {
    "duration": 65,
    "start_time": "2023-07-05T18:31:34.539Z"
   },
   {
    "duration": 1279,
    "start_time": "2023-07-05T18:32:27.752Z"
   },
   {
    "duration": 156,
    "start_time": "2023-07-05T18:32:29.033Z"
   },
   {
    "duration": 29,
    "start_time": "2023-07-05T18:32:29.191Z"
   },
   {
    "duration": 12,
    "start_time": "2023-07-05T18:32:29.222Z"
   },
   {
    "duration": 23,
    "start_time": "2023-07-05T18:32:29.236Z"
   },
   {
    "duration": 101,
    "start_time": "2023-07-05T18:32:29.261Z"
   },
   {
    "duration": 76,
    "start_time": "2023-07-05T18:32:29.363Z"
   },
   {
    "duration": 7,
    "start_time": "2023-07-05T18:32:29.441Z"
   },
   {
    "duration": 13,
    "start_time": "2023-07-05T18:32:29.450Z"
   },
   {
    "duration": 137,
    "start_time": "2023-07-05T18:32:29.467Z"
   },
   {
    "duration": 180,
    "start_time": "2023-07-05T18:32:29.606Z"
   },
   {
    "duration": 52,
    "start_time": "2023-07-05T18:32:29.789Z"
   },
   {
    "duration": 8,
    "start_time": "2023-07-05T18:32:29.843Z"
   },
   {
    "duration": 8,
    "start_time": "2023-07-05T18:32:29.854Z"
   },
   {
    "duration": 8,
    "start_time": "2023-07-05T18:32:29.867Z"
   },
   {
    "duration": 76,
    "start_time": "2023-07-05T18:32:29.877Z"
   },
   {
    "duration": 376,
    "start_time": "2023-07-05T18:32:29.955Z"
   },
   {
    "duration": 59,
    "start_time": "2023-07-05T18:32:30.333Z"
   },
   {
    "duration": 19,
    "start_time": "2023-07-05T18:32:30.394Z"
   },
   {
    "duration": 59,
    "start_time": "2023-07-05T18:32:30.416Z"
   },
   {
    "duration": 71,
    "start_time": "2023-07-05T18:32:30.478Z"
   },
   {
    "duration": 133,
    "start_time": "2023-07-05T18:32:30.551Z"
   },
   {
    "duration": 117,
    "start_time": "2023-07-05T18:32:30.686Z"
   },
   {
    "duration": 0,
    "start_time": "2023-07-05T18:32:30.805Z"
   },
   {
    "duration": 0,
    "start_time": "2023-07-05T18:32:30.813Z"
   },
   {
    "duration": 0,
    "start_time": "2023-07-05T18:32:30.815Z"
   },
   {
    "duration": 0,
    "start_time": "2023-07-05T18:32:30.816Z"
   },
   {
    "duration": 80,
    "start_time": "2023-07-05T18:32:56.528Z"
   },
   {
    "duration": 23,
    "start_time": "2023-07-05T18:34:12.345Z"
   },
   {
    "duration": 1332,
    "start_time": "2023-07-05T18:34:16.688Z"
   },
   {
    "duration": 174,
    "start_time": "2023-07-05T18:34:18.022Z"
   },
   {
    "duration": 31,
    "start_time": "2023-07-05T18:34:18.198Z"
   },
   {
    "duration": 15,
    "start_time": "2023-07-05T18:34:18.231Z"
   },
   {
    "duration": 21,
    "start_time": "2023-07-05T18:34:18.248Z"
   },
   {
    "duration": 94,
    "start_time": "2023-07-05T18:34:18.271Z"
   },
   {
    "duration": 75,
    "start_time": "2023-07-05T18:34:18.367Z"
   },
   {
    "duration": 8,
    "start_time": "2023-07-05T18:34:18.443Z"
   },
   {
    "duration": 11,
    "start_time": "2023-07-05T18:34:18.452Z"
   },
   {
    "duration": 150,
    "start_time": "2023-07-05T18:34:18.467Z"
   },
   {
    "duration": 158,
    "start_time": "2023-07-05T18:34:18.620Z"
   },
   {
    "duration": 35,
    "start_time": "2023-07-05T18:34:18.779Z"
   },
   {
    "duration": 37,
    "start_time": "2023-07-05T18:34:18.816Z"
   },
   {
    "duration": 66,
    "start_time": "2023-07-05T18:34:18.855Z"
   },
   {
    "duration": 8,
    "start_time": "2023-07-05T18:34:18.923Z"
   },
   {
    "duration": 53,
    "start_time": "2023-07-05T18:34:18.933Z"
   },
   {
    "duration": 340,
    "start_time": "2023-07-05T18:34:18.988Z"
   },
   {
    "duration": 61,
    "start_time": "2023-07-05T18:34:19.330Z"
   },
   {
    "duration": 21,
    "start_time": "2023-07-05T18:34:19.393Z"
   },
   {
    "duration": 21,
    "start_time": "2023-07-05T18:34:19.416Z"
   },
   {
    "duration": 38,
    "start_time": "2023-07-05T18:34:19.439Z"
   },
   {
    "duration": 92,
    "start_time": "2023-07-05T18:34:19.479Z"
   },
   {
    "duration": 44,
    "start_time": "2023-07-05T18:34:19.574Z"
   },
   {
    "duration": 593,
    "start_time": "2023-07-05T18:34:19.621Z"
   },
   {
    "duration": 3,
    "start_time": "2023-07-05T18:34:20.216Z"
   },
   {
    "duration": 130,
    "start_time": "2023-07-05T18:34:20.221Z"
   },
   {
    "duration": 1547,
    "start_time": "2023-07-05T18:34:33.971Z"
   },
   {
    "duration": 1139,
    "start_time": "2023-07-05T18:34:43.525Z"
   },
   {
    "duration": 18,
    "start_time": "2023-07-05T18:34:51.038Z"
   },
   {
    "duration": 4,
    "start_time": "2023-07-05T18:35:24.823Z"
   },
   {
    "duration": 16,
    "start_time": "2023-07-05T18:35:30.936Z"
   },
   {
    "duration": 19,
    "start_time": "2023-07-05T18:35:43.661Z"
   },
   {
    "duration": 18,
    "start_time": "2023-07-05T18:35:50.572Z"
   },
   {
    "duration": 79,
    "start_time": "2023-07-05T18:36:00.619Z"
   },
   {
    "duration": 1632,
    "start_time": "2023-07-05T18:36:39.076Z"
   },
   {
    "duration": 231,
    "start_time": "2023-07-05T18:36:40.711Z"
   },
   {
    "duration": 34,
    "start_time": "2023-07-05T18:36:40.947Z"
   },
   {
    "duration": 14,
    "start_time": "2023-07-05T18:36:40.983Z"
   },
   {
    "duration": 36,
    "start_time": "2023-07-05T18:36:41.000Z"
   },
   {
    "duration": 103,
    "start_time": "2023-07-05T18:36:41.038Z"
   },
   {
    "duration": 102,
    "start_time": "2023-07-05T18:36:41.143Z"
   },
   {
    "duration": 7,
    "start_time": "2023-07-05T18:36:41.248Z"
   },
   {
    "duration": 12,
    "start_time": "2023-07-05T18:36:41.257Z"
   },
   {
    "duration": 146,
    "start_time": "2023-07-05T18:36:41.271Z"
   },
   {
    "duration": 181,
    "start_time": "2023-07-05T18:36:41.421Z"
   },
   {
    "duration": 44,
    "start_time": "2023-07-05T18:36:41.604Z"
   },
   {
    "duration": 5,
    "start_time": "2023-07-05T18:36:41.650Z"
   },
   {
    "duration": 8,
    "start_time": "2023-07-05T18:36:41.659Z"
   },
   {
    "duration": 8,
    "start_time": "2023-07-05T18:36:41.669Z"
   },
   {
    "duration": 81,
    "start_time": "2023-07-05T18:36:41.679Z"
   },
   {
    "duration": 517,
    "start_time": "2023-07-05T18:36:41.763Z"
   },
   {
    "duration": 98,
    "start_time": "2023-07-05T18:36:42.284Z"
   },
   {
    "duration": 5,
    "start_time": "2023-07-05T18:36:42.385Z"
   },
   {
    "duration": 42,
    "start_time": "2023-07-05T18:36:42.393Z"
   },
   {
    "duration": 64,
    "start_time": "2023-07-05T18:36:42.438Z"
   },
   {
    "duration": 107,
    "start_time": "2023-07-05T18:36:42.513Z"
   },
   {
    "duration": 25,
    "start_time": "2023-07-05T18:36:42.623Z"
   },
   {
    "duration": 1269,
    "start_time": "2023-07-05T18:36:42.650Z"
   },
   {
    "duration": 0,
    "start_time": "2023-07-05T18:36:43.921Z"
   },
   {
    "duration": 0,
    "start_time": "2023-07-05T18:36:43.923Z"
   },
   {
    "duration": 0,
    "start_time": "2023-07-05T18:36:43.925Z"
   },
   {
    "duration": 157,
    "start_time": "2023-07-05T18:37:04.280Z"
   },
   {
    "duration": 14,
    "start_time": "2023-07-05T18:38:53.094Z"
   },
   {
    "duration": 10,
    "start_time": "2023-07-05T18:39:05.192Z"
   },
   {
    "duration": 10,
    "start_time": "2023-07-05T18:39:38.315Z"
   },
   {
    "duration": 79,
    "start_time": "2023-07-05T18:44:25.006Z"
   },
   {
    "duration": 51,
    "start_time": "2023-07-05T18:44:51.192Z"
   },
   {
    "duration": 62,
    "start_time": "2023-07-05T18:58:35.412Z"
   },
   {
    "duration": 1003,
    "start_time": "2023-07-05T18:59:31.437Z"
   },
   {
    "duration": 47,
    "start_time": "2023-07-05T18:59:38.332Z"
   },
   {
    "duration": 1073,
    "start_time": "2023-07-05T18:59:39.839Z"
   },
   {
    "duration": 1409,
    "start_time": "2023-07-05T21:50:43.906Z"
   },
   {
    "duration": 1020,
    "start_time": "2023-07-05T21:50:45.317Z"
   },
   {
    "duration": 23,
    "start_time": "2023-07-05T21:50:46.339Z"
   },
   {
    "duration": 12,
    "start_time": "2023-07-05T21:50:46.363Z"
   },
   {
    "duration": 17,
    "start_time": "2023-07-05T21:50:46.378Z"
   },
   {
    "duration": 97,
    "start_time": "2023-07-05T21:50:46.397Z"
   },
   {
    "duration": 83,
    "start_time": "2023-07-05T21:50:46.496Z"
   },
   {
    "duration": 9,
    "start_time": "2023-07-05T21:50:46.581Z"
   },
   {
    "duration": 14,
    "start_time": "2023-07-05T21:50:46.592Z"
   },
   {
    "duration": 103,
    "start_time": "2023-07-05T21:50:46.608Z"
   },
   {
    "duration": 144,
    "start_time": "2023-07-05T21:50:46.713Z"
   },
   {
    "duration": 36,
    "start_time": "2023-07-05T21:50:46.859Z"
   },
   {
    "duration": 4,
    "start_time": "2023-07-05T21:50:46.897Z"
   },
   {
    "duration": 6,
    "start_time": "2023-07-05T21:50:46.905Z"
   },
   {
    "duration": 7,
    "start_time": "2023-07-05T21:50:46.913Z"
   },
   {
    "duration": 61,
    "start_time": "2023-07-05T21:50:46.922Z"
   },
   {
    "duration": 306,
    "start_time": "2023-07-05T21:50:46.985Z"
   },
   {
    "duration": 60,
    "start_time": "2023-07-05T21:50:47.293Z"
   },
   {
    "duration": 5,
    "start_time": "2023-07-05T21:50:47.367Z"
   },
   {
    "duration": 30,
    "start_time": "2023-07-05T21:50:47.373Z"
   },
   {
    "duration": 38,
    "start_time": "2023-07-05T21:50:47.405Z"
   },
   {
    "duration": 72,
    "start_time": "2023-07-05T21:50:47.445Z"
   },
   {
    "duration": 20,
    "start_time": "2023-07-05T21:50:47.520Z"
   },
   {
    "duration": 185,
    "start_time": "2023-07-05T21:50:47.542Z"
   },
   {
    "duration": 58,
    "start_time": "2023-07-05T21:50:47.730Z"
   },
   {
    "duration": 880,
    "start_time": "2023-07-05T21:50:47.790Z"
   },
   {
    "duration": 68,
    "start_time": "2023-07-05T21:50:48.672Z"
   },
   {
    "duration": 0,
    "start_time": "2023-07-05T21:50:48.741Z"
   },
   {
    "duration": 0,
    "start_time": "2023-07-05T21:50:48.742Z"
   },
   {
    "duration": 6,
    "start_time": "2023-07-05T21:59:12.868Z"
   },
   {
    "duration": 86,
    "start_time": "2023-07-05T22:02:39.940Z"
   },
   {
    "duration": 131,
    "start_time": "2023-07-05T22:02:58.819Z"
   },
   {
    "duration": 1405,
    "start_time": "2023-07-05T22:05:57.403Z"
   },
   {
    "duration": 171,
    "start_time": "2023-07-05T22:05:58.811Z"
   },
   {
    "duration": 22,
    "start_time": "2023-07-05T22:05:58.984Z"
   },
   {
    "duration": 11,
    "start_time": "2023-07-05T22:05:59.009Z"
   },
   {
    "duration": 15,
    "start_time": "2023-07-05T22:05:59.022Z"
   },
   {
    "duration": 75,
    "start_time": "2023-07-05T22:05:59.066Z"
   },
   {
    "duration": 85,
    "start_time": "2023-07-05T22:05:59.143Z"
   },
   {
    "duration": 8,
    "start_time": "2023-07-05T22:05:59.230Z"
   },
   {
    "duration": 28,
    "start_time": "2023-07-05T22:05:59.239Z"
   },
   {
    "duration": 76,
    "start_time": "2023-07-05T22:05:59.271Z"
   },
   {
    "duration": 141,
    "start_time": "2023-07-05T22:05:59.349Z"
   },
   {
    "duration": 36,
    "start_time": "2023-07-05T22:05:59.492Z"
   },
   {
    "duration": 5,
    "start_time": "2023-07-05T22:05:59.530Z"
   },
   {
    "duration": 7,
    "start_time": "2023-07-05T22:05:59.537Z"
   },
   {
    "duration": 28,
    "start_time": "2023-07-05T22:05:59.546Z"
   },
   {
    "duration": 32,
    "start_time": "2023-07-05T22:05:59.576Z"
   },
   {
    "duration": 324,
    "start_time": "2023-07-05T22:05:59.610Z"
   },
   {
    "duration": 66,
    "start_time": "2023-07-05T22:05:59.936Z"
   },
   {
    "duration": 5,
    "start_time": "2023-07-05T22:06:00.004Z"
   },
   {
    "duration": 51,
    "start_time": "2023-07-05T22:06:00.011Z"
   },
   {
    "duration": 59,
    "start_time": "2023-07-05T22:06:00.063Z"
   },
   {
    "duration": 77,
    "start_time": "2023-07-05T22:06:00.124Z"
   },
   {
    "duration": 18,
    "start_time": "2023-07-05T22:06:00.203Z"
   },
   {
    "duration": 179,
    "start_time": "2023-07-05T22:06:00.223Z"
   },
   {
    "duration": 37,
    "start_time": "2023-07-05T22:06:00.405Z"
   },
   {
    "duration": 919,
    "start_time": "2023-07-05T22:06:00.466Z"
   },
   {
    "duration": 68,
    "start_time": "2023-07-05T22:06:01.387Z"
   },
   {
    "duration": 0,
    "start_time": "2023-07-05T22:06:01.457Z"
   },
   {
    "duration": 0,
    "start_time": "2023-07-05T22:06:01.458Z"
   },
   {
    "duration": 1320,
    "start_time": "2023-07-05T22:09:04.852Z"
   },
   {
    "duration": 158,
    "start_time": "2023-07-05T22:09:06.174Z"
   },
   {
    "duration": 19,
    "start_time": "2023-07-05T22:09:06.334Z"
   },
   {
    "duration": 16,
    "start_time": "2023-07-05T22:09:06.355Z"
   },
   {
    "duration": 22,
    "start_time": "2023-07-05T22:09:06.373Z"
   },
   {
    "duration": 86,
    "start_time": "2023-07-05T22:09:06.397Z"
   },
   {
    "duration": 68,
    "start_time": "2023-07-05T22:09:06.485Z"
   },
   {
    "duration": 14,
    "start_time": "2023-07-05T22:09:06.555Z"
   },
   {
    "duration": 38,
    "start_time": "2023-07-05T22:09:06.571Z"
   },
   {
    "duration": 94,
    "start_time": "2023-07-05T22:09:06.612Z"
   },
   {
    "duration": 145,
    "start_time": "2023-07-05T22:09:06.707Z"
   },
   {
    "duration": 39,
    "start_time": "2023-07-05T22:09:06.854Z"
   },
   {
    "duration": 3,
    "start_time": "2023-07-05T22:09:06.895Z"
   },
   {
    "duration": 7,
    "start_time": "2023-07-05T22:09:06.900Z"
   },
   {
    "duration": 6,
    "start_time": "2023-07-05T22:09:06.908Z"
   },
   {
    "duration": 56,
    "start_time": "2023-07-05T22:09:06.916Z"
   },
   {
    "duration": 330,
    "start_time": "2023-07-05T22:09:06.974Z"
   },
   {
    "duration": 70,
    "start_time": "2023-07-05T22:09:07.306Z"
   },
   {
    "duration": 4,
    "start_time": "2023-07-05T22:09:07.378Z"
   },
   {
    "duration": 29,
    "start_time": "2023-07-05T22:09:07.384Z"
   },
   {
    "duration": 38,
    "start_time": "2023-07-05T22:09:07.414Z"
   },
   {
    "duration": 72,
    "start_time": "2023-07-05T22:09:07.453Z"
   },
   {
    "duration": 18,
    "start_time": "2023-07-05T22:09:07.527Z"
   },
   {
    "duration": 167,
    "start_time": "2023-07-05T22:09:07.547Z"
   },
   {
    "duration": 58,
    "start_time": "2023-07-05T22:09:07.716Z"
   },
   {
    "duration": 863,
    "start_time": "2023-07-05T22:09:07.776Z"
   },
   {
    "duration": 71,
    "start_time": "2023-07-05T22:09:08.640Z"
   },
   {
    "duration": 0,
    "start_time": "2023-07-05T22:09:08.713Z"
   },
   {
    "duration": 0,
    "start_time": "2023-07-05T22:09:08.714Z"
   },
   {
    "duration": 1293,
    "start_time": "2023-07-05T22:13:02.807Z"
   },
   {
    "duration": 159,
    "start_time": "2023-07-05T22:13:04.102Z"
   },
   {
    "duration": 20,
    "start_time": "2023-07-05T22:13:04.263Z"
   },
   {
    "duration": 11,
    "start_time": "2023-07-05T22:13:04.285Z"
   },
   {
    "duration": 16,
    "start_time": "2023-07-05T22:13:04.298Z"
   },
   {
    "duration": 103,
    "start_time": "2023-07-05T22:13:04.316Z"
   },
   {
    "duration": 65,
    "start_time": "2023-07-05T22:13:04.420Z"
   },
   {
    "duration": 6,
    "start_time": "2023-07-05T22:13:04.487Z"
   },
   {
    "duration": 11,
    "start_time": "2023-07-05T22:13:04.495Z"
   },
   {
    "duration": 91,
    "start_time": "2023-07-05T22:13:04.507Z"
   },
   {
    "duration": 129,
    "start_time": "2023-07-05T22:13:04.600Z"
   },
   {
    "duration": 38,
    "start_time": "2023-07-05T22:13:04.731Z"
   },
   {
    "duration": 3,
    "start_time": "2023-07-05T22:13:04.771Z"
   },
   {
    "duration": 9,
    "start_time": "2023-07-05T22:13:04.777Z"
   },
   {
    "duration": 8,
    "start_time": "2023-07-05T22:13:04.787Z"
   },
   {
    "duration": 32,
    "start_time": "2023-07-05T22:13:04.797Z"
   },
   {
    "duration": 331,
    "start_time": "2023-07-05T22:13:04.831Z"
   },
   {
    "duration": 59,
    "start_time": "2023-07-05T22:13:05.167Z"
   },
   {
    "duration": 5,
    "start_time": "2023-07-05T22:13:05.228Z"
   },
   {
    "duration": 35,
    "start_time": "2023-07-05T22:13:05.234Z"
   },
   {
    "duration": 38,
    "start_time": "2023-07-05T22:13:05.271Z"
   },
   {
    "duration": 83,
    "start_time": "2023-07-05T22:13:05.311Z"
   },
   {
    "duration": 20,
    "start_time": "2023-07-05T22:13:05.396Z"
   },
   {
    "duration": 163,
    "start_time": "2023-07-05T22:13:05.417Z"
   },
   {
    "duration": 37,
    "start_time": "2023-07-05T22:13:05.582Z"
   },
   {
    "duration": 860,
    "start_time": "2023-07-05T22:13:05.666Z"
   },
   {
    "duration": 69,
    "start_time": "2023-07-05T22:13:06.528Z"
   },
   {
    "duration": 0,
    "start_time": "2023-07-05T22:13:06.599Z"
   },
   {
    "duration": 0,
    "start_time": "2023-07-05T22:13:06.600Z"
   },
   {
    "duration": 65,
    "start_time": "2023-07-05T22:13:43.194Z"
   },
   {
    "duration": 1329,
    "start_time": "2023-07-05T22:14:01.453Z"
   },
   {
    "duration": 169,
    "start_time": "2023-07-05T22:14:02.784Z"
   },
   {
    "duration": 24,
    "start_time": "2023-07-05T22:14:02.955Z"
   },
   {
    "duration": 22,
    "start_time": "2023-07-05T22:14:02.980Z"
   },
   {
    "duration": 23,
    "start_time": "2023-07-05T22:14:03.004Z"
   },
   {
    "duration": 85,
    "start_time": "2023-07-05T22:14:03.029Z"
   },
   {
    "duration": 85,
    "start_time": "2023-07-05T22:14:03.115Z"
   },
   {
    "duration": 7,
    "start_time": "2023-07-05T22:14:03.201Z"
   },
   {
    "duration": 22,
    "start_time": "2023-07-05T22:14:03.210Z"
   },
   {
    "duration": 87,
    "start_time": "2023-07-05T22:14:03.233Z"
   },
   {
    "duration": 141,
    "start_time": "2023-07-05T22:14:03.321Z"
   },
   {
    "duration": 26,
    "start_time": "2023-07-05T22:14:03.464Z"
   },
   {
    "duration": 5,
    "start_time": "2023-07-05T22:14:03.492Z"
   },
   {
    "duration": 12,
    "start_time": "2023-07-05T22:14:03.500Z"
   },
   {
    "duration": 5,
    "start_time": "2023-07-05T22:14:03.514Z"
   },
   {
    "duration": 55,
    "start_time": "2023-07-05T22:14:03.520Z"
   },
   {
    "duration": 309,
    "start_time": "2023-07-05T22:14:03.577Z"
   },
   {
    "duration": 59,
    "start_time": "2023-07-05T22:14:03.888Z"
   },
   {
    "duration": 19,
    "start_time": "2023-07-05T22:14:03.948Z"
   },
   {
    "duration": 23,
    "start_time": "2023-07-05T22:14:03.969Z"
   },
   {
    "duration": 40,
    "start_time": "2023-07-05T22:14:03.994Z"
   },
   {
    "duration": 81,
    "start_time": "2023-07-05T22:14:04.036Z"
   },
   {
    "duration": 18,
    "start_time": "2023-07-05T22:14:04.119Z"
   },
   {
    "duration": 204,
    "start_time": "2023-07-05T22:14:04.139Z"
   },
   {
    "duration": 36,
    "start_time": "2023-07-05T22:14:04.346Z"
   },
   {
    "duration": 856,
    "start_time": "2023-07-05T22:14:04.383Z"
   },
   {
    "duration": 81,
    "start_time": "2023-07-05T22:14:05.240Z"
   },
   {
    "duration": 0,
    "start_time": "2023-07-05T22:14:05.322Z"
   },
   {
    "duration": 0,
    "start_time": "2023-07-05T22:14:05.323Z"
   },
   {
    "duration": 1318,
    "start_time": "2023-07-05T22:20:28.131Z"
   },
   {
    "duration": 157,
    "start_time": "2023-07-05T22:20:29.451Z"
   },
   {
    "duration": 20,
    "start_time": "2023-07-05T22:20:29.610Z"
   },
   {
    "duration": 12,
    "start_time": "2023-07-05T22:20:29.632Z"
   },
   {
    "duration": 30,
    "start_time": "2023-07-05T22:20:29.646Z"
   },
   {
    "duration": 98,
    "start_time": "2023-07-05T22:20:29.678Z"
   },
   {
    "duration": 65,
    "start_time": "2023-07-05T22:20:29.778Z"
   },
   {
    "duration": 7,
    "start_time": "2023-07-05T22:20:29.845Z"
   },
   {
    "duration": 22,
    "start_time": "2023-07-05T22:20:29.854Z"
   },
   {
    "duration": 77,
    "start_time": "2023-07-05T22:20:29.879Z"
   },
   {
    "duration": 134,
    "start_time": "2023-07-05T22:20:29.958Z"
   },
   {
    "duration": 31,
    "start_time": "2023-07-05T22:20:30.094Z"
   },
   {
    "duration": 4,
    "start_time": "2023-07-05T22:20:30.127Z"
   },
   {
    "duration": 15,
    "start_time": "2023-07-05T22:20:30.133Z"
   },
   {
    "duration": 20,
    "start_time": "2023-07-05T22:20:30.150Z"
   },
   {
    "duration": 55,
    "start_time": "2023-07-05T22:20:30.171Z"
   },
   {
    "duration": 475,
    "start_time": "2023-07-05T22:20:30.227Z"
   },
   {
    "duration": 72,
    "start_time": "2023-07-05T22:20:30.703Z"
   },
   {
    "duration": 4,
    "start_time": "2023-07-05T22:20:30.777Z"
   },
   {
    "duration": 32,
    "start_time": "2023-07-05T22:20:30.783Z"
   },
   {
    "duration": 74,
    "start_time": "2023-07-05T22:20:30.817Z"
   },
   {
    "duration": 62,
    "start_time": "2023-07-05T22:20:30.893Z"
   },
   {
    "duration": 32,
    "start_time": "2023-07-05T22:20:30.956Z"
   },
   {
    "duration": 228,
    "start_time": "2023-07-05T22:20:30.990Z"
   },
   {
    "duration": 60,
    "start_time": "2023-07-05T22:20:31.219Z"
   },
   {
    "duration": 885,
    "start_time": "2023-07-05T22:20:31.281Z"
   },
   {
    "duration": 64,
    "start_time": "2023-07-05T22:20:32.169Z"
   },
   {
    "duration": 0,
    "start_time": "2023-07-05T22:20:32.235Z"
   },
   {
    "duration": 0,
    "start_time": "2023-07-05T22:20:32.238Z"
   },
   {
    "duration": 1522,
    "start_time": "2023-07-06T08:31:09.766Z"
   },
   {
    "duration": 984,
    "start_time": "2023-07-06T08:31:11.290Z"
   },
   {
    "duration": 24,
    "start_time": "2023-07-06T08:31:12.275Z"
   },
   {
    "duration": 11,
    "start_time": "2023-07-06T08:31:12.301Z"
   },
   {
    "duration": 16,
    "start_time": "2023-07-06T08:31:12.315Z"
   },
   {
    "duration": 88,
    "start_time": "2023-07-06T08:31:12.333Z"
   },
   {
    "duration": 85,
    "start_time": "2023-07-06T08:31:12.423Z"
   },
   {
    "duration": 8,
    "start_time": "2023-07-06T08:31:12.509Z"
   },
   {
    "duration": 36,
    "start_time": "2023-07-06T08:31:12.518Z"
   },
   {
    "duration": 86,
    "start_time": "2023-07-06T08:31:12.556Z"
   },
   {
    "duration": 131,
    "start_time": "2023-07-06T08:31:12.655Z"
   },
   {
    "duration": 30,
    "start_time": "2023-07-06T08:31:12.788Z"
   },
   {
    "duration": 4,
    "start_time": "2023-07-06T08:31:12.820Z"
   },
   {
    "duration": 31,
    "start_time": "2023-07-06T08:31:12.826Z"
   },
   {
    "duration": 7,
    "start_time": "2023-07-06T08:31:12.859Z"
   },
   {
    "duration": 48,
    "start_time": "2023-07-06T08:31:12.868Z"
   },
   {
    "duration": 341,
    "start_time": "2023-07-06T08:31:12.918Z"
   },
   {
    "duration": 63,
    "start_time": "2023-07-06T08:31:13.261Z"
   },
   {
    "duration": 28,
    "start_time": "2023-07-06T08:31:13.326Z"
   },
   {
    "duration": 22,
    "start_time": "2023-07-06T08:31:13.356Z"
   },
   {
    "duration": 40,
    "start_time": "2023-07-06T08:31:13.380Z"
   },
   {
    "duration": 85,
    "start_time": "2023-07-06T08:31:13.422Z"
   },
   {
    "duration": 16,
    "start_time": "2023-07-06T08:31:13.509Z"
   },
   {
    "duration": 176,
    "start_time": "2023-07-06T08:31:13.527Z"
   },
   {
    "duration": 69,
    "start_time": "2023-07-06T08:31:13.705Z"
   },
   {
    "duration": 1068,
    "start_time": "2023-07-06T08:31:13.776Z"
   },
   {
    "duration": 83,
    "start_time": "2023-07-06T08:31:14.846Z"
   },
   {
    "duration": 0,
    "start_time": "2023-07-06T08:31:14.931Z"
   },
   {
    "duration": 0,
    "start_time": "2023-07-06T08:31:14.933Z"
   },
   {
    "duration": 1350,
    "start_time": "2023-07-06T08:45:56.806Z"
   },
   {
    "duration": 168,
    "start_time": "2023-07-06T08:45:58.158Z"
   },
   {
    "duration": 28,
    "start_time": "2023-07-06T08:45:58.327Z"
   },
   {
    "duration": 11,
    "start_time": "2023-07-06T08:45:58.357Z"
   },
   {
    "duration": 17,
    "start_time": "2023-07-06T08:45:58.370Z"
   },
   {
    "duration": 97,
    "start_time": "2023-07-06T08:45:58.388Z"
   },
   {
    "duration": 77,
    "start_time": "2023-07-06T08:45:58.487Z"
   },
   {
    "duration": 7,
    "start_time": "2023-07-06T08:45:58.566Z"
   },
   {
    "duration": 20,
    "start_time": "2023-07-06T08:45:58.574Z"
   },
   {
    "duration": 87,
    "start_time": "2023-07-06T08:45:58.597Z"
   },
   {
    "duration": 136,
    "start_time": "2023-07-06T08:45:58.686Z"
   },
   {
    "duration": 39,
    "start_time": "2023-07-06T08:45:58.823Z"
   },
   {
    "duration": 4,
    "start_time": "2023-07-06T08:45:58.864Z"
   },
   {
    "duration": 8,
    "start_time": "2023-07-06T08:45:58.869Z"
   },
   {
    "duration": 5,
    "start_time": "2023-07-06T08:45:58.879Z"
   },
   {
    "duration": 36,
    "start_time": "2023-07-06T08:45:58.886Z"
   },
   {
    "duration": 326,
    "start_time": "2023-07-06T08:45:58.953Z"
   },
   {
    "duration": 74,
    "start_time": "2023-07-06T08:45:59.281Z"
   },
   {
    "duration": 5,
    "start_time": "2023-07-06T08:45:59.357Z"
   },
   {
    "duration": 28,
    "start_time": "2023-07-06T08:45:59.363Z"
   },
   {
    "duration": 42,
    "start_time": "2023-07-06T08:45:59.393Z"
   },
   {
    "duration": 67,
    "start_time": "2023-07-06T08:45:59.454Z"
   },
   {
    "duration": 39,
    "start_time": "2023-07-06T08:45:59.523Z"
   },
   {
    "duration": 164,
    "start_time": "2023-07-06T08:45:59.564Z"
   },
   {
    "duration": 52,
    "start_time": "2023-07-06T08:45:59.730Z"
   },
   {
    "duration": 1015,
    "start_time": "2023-07-06T08:45:59.784Z"
   },
   {
    "duration": 82,
    "start_time": "2023-07-06T08:46:00.801Z"
   },
   {
    "duration": 0,
    "start_time": "2023-07-06T08:46:00.885Z"
   },
   {
    "duration": 0,
    "start_time": "2023-07-06T08:46:00.886Z"
   },
   {
    "duration": 102,
    "start_time": "2023-07-06T08:54:38.421Z"
   },
   {
    "duration": 6,
    "start_time": "2023-07-06T08:55:08.333Z"
   },
   {
    "duration": 69,
    "start_time": "2023-07-06T08:55:17.808Z"
   },
   {
    "duration": 66,
    "start_time": "2023-07-06T08:55:26.972Z"
   },
   {
    "duration": 68,
    "start_time": "2023-07-06T08:55:39.385Z"
   },
   {
    "duration": 133,
    "start_time": "2023-07-06T08:55:44.950Z"
   },
   {
    "duration": 4,
    "start_time": "2023-07-06T08:55:55.230Z"
   },
   {
    "duration": 876,
    "start_time": "2023-07-06T08:55:59.030Z"
   },
   {
    "duration": 943,
    "start_time": "2023-07-06T09:04:20.160Z"
   },
   {
    "duration": 167,
    "start_time": "2023-07-06T09:04:36.515Z"
   },
   {
    "duration": 157,
    "start_time": "2023-07-06T09:04:42.487Z"
   },
   {
    "duration": 1367,
    "start_time": "2023-07-06T09:04:48.721Z"
   },
   {
    "duration": 199,
    "start_time": "2023-07-06T09:04:50.091Z"
   },
   {
    "duration": 26,
    "start_time": "2023-07-06T09:04:50.292Z"
   },
   {
    "duration": 11,
    "start_time": "2023-07-06T09:04:50.320Z"
   },
   {
    "duration": 38,
    "start_time": "2023-07-06T09:04:50.333Z"
   },
   {
    "duration": 107,
    "start_time": "2023-07-06T09:04:50.374Z"
   },
   {
    "duration": 80,
    "start_time": "2023-07-06T09:04:50.483Z"
   },
   {
    "duration": 10,
    "start_time": "2023-07-06T09:04:50.566Z"
   },
   {
    "duration": 13,
    "start_time": "2023-07-06T09:04:50.579Z"
   },
   {
    "duration": 136,
    "start_time": "2023-07-06T09:04:50.594Z"
   },
   {
    "duration": 165,
    "start_time": "2023-07-06T09:04:50.732Z"
   },
   {
    "duration": 32,
    "start_time": "2023-07-06T09:04:50.899Z"
   },
   {
    "duration": 3,
    "start_time": "2023-07-06T09:04:50.933Z"
   },
   {
    "duration": 10,
    "start_time": "2023-07-06T09:04:50.959Z"
   },
   {
    "duration": 7,
    "start_time": "2023-07-06T09:04:50.971Z"
   },
   {
    "duration": 39,
    "start_time": "2023-07-06T09:04:50.980Z"
   },
   {
    "duration": 396,
    "start_time": "2023-07-06T09:04:51.021Z"
   },
   {
    "duration": 86,
    "start_time": "2023-07-06T09:04:51.419Z"
   },
   {
    "duration": 5,
    "start_time": "2023-07-06T09:04:51.507Z"
   },
   {
    "duration": 26,
    "start_time": "2023-07-06T09:04:51.513Z"
   },
   {
    "duration": 55,
    "start_time": "2023-07-06T09:04:51.554Z"
   },
   {
    "duration": 99,
    "start_time": "2023-07-06T09:04:51.612Z"
   },
   {
    "duration": 21,
    "start_time": "2023-07-06T09:04:51.713Z"
   },
   {
    "duration": 198,
    "start_time": "2023-07-06T09:04:51.736Z"
   },
   {
    "duration": 54,
    "start_time": "2023-07-06T09:04:51.937Z"
   },
   {
    "duration": 1196,
    "start_time": "2023-07-06T09:04:51.992Z"
   },
   {
    "duration": 9,
    "start_time": "2023-07-06T09:04:53.191Z"
   },
   {
    "duration": 160,
    "start_time": "2023-07-06T09:04:53.202Z"
   },
   {
    "duration": 152,
    "start_time": "2023-07-06T09:04:53.365Z"
   },
   {
    "duration": 0,
    "start_time": "2023-07-06T09:04:53.519Z"
   },
   {
    "duration": 0,
    "start_time": "2023-07-06T09:04:53.520Z"
   },
   {
    "duration": 7,
    "start_time": "2023-07-06T09:05:07.528Z"
   },
   {
    "duration": 949,
    "start_time": "2023-07-06T09:05:15.887Z"
   },
   {
    "duration": 135,
    "start_time": "2023-07-06T09:05:59.446Z"
   },
   {
    "duration": 125,
    "start_time": "2023-07-06T09:07:38.462Z"
   },
   {
    "duration": 5,
    "start_time": "2023-07-06T09:10:05.571Z"
   },
   {
    "duration": 1341,
    "start_time": "2023-07-06T09:10:11.359Z"
   },
   {
    "duration": 174,
    "start_time": "2023-07-06T09:10:12.702Z"
   },
   {
    "duration": 23,
    "start_time": "2023-07-06T09:10:12.878Z"
   },
   {
    "duration": 12,
    "start_time": "2023-07-06T09:10:12.904Z"
   },
   {
    "duration": 38,
    "start_time": "2023-07-06T09:10:12.917Z"
   },
   {
    "duration": 71,
    "start_time": "2023-07-06T09:10:12.957Z"
   },
   {
    "duration": 81,
    "start_time": "2023-07-06T09:10:13.030Z"
   },
   {
    "duration": 8,
    "start_time": "2023-07-06T09:10:13.112Z"
   },
   {
    "duration": 12,
    "start_time": "2023-07-06T09:10:13.122Z"
   },
   {
    "duration": 85,
    "start_time": "2023-07-06T09:10:13.154Z"
   },
   {
    "duration": 154,
    "start_time": "2023-07-06T09:10:13.241Z"
   },
   {
    "duration": 32,
    "start_time": "2023-07-06T09:10:13.397Z"
   },
   {
    "duration": 4,
    "start_time": "2023-07-06T09:10:13.431Z"
   },
   {
    "duration": 22,
    "start_time": "2023-07-06T09:10:13.436Z"
   },
   {
    "duration": 6,
    "start_time": "2023-07-06T09:10:13.460Z"
   },
   {
    "duration": 36,
    "start_time": "2023-07-06T09:10:13.468Z"
   },
   {
    "duration": 338,
    "start_time": "2023-07-06T09:10:13.506Z"
   },
   {
    "duration": 70,
    "start_time": "2023-07-06T09:10:13.845Z"
   },
   {
    "duration": 5,
    "start_time": "2023-07-06T09:10:13.917Z"
   },
   {
    "duration": 38,
    "start_time": "2023-07-06T09:10:13.923Z"
   },
   {
    "duration": 44,
    "start_time": "2023-07-06T09:10:13.963Z"
   },
   {
    "duration": 84,
    "start_time": "2023-07-06T09:10:14.008Z"
   },
   {
    "duration": 19,
    "start_time": "2023-07-06T09:10:14.094Z"
   },
   {
    "duration": 182,
    "start_time": "2023-07-06T09:10:14.115Z"
   },
   {
    "duration": 71,
    "start_time": "2023-07-06T09:10:14.299Z"
   },
   {
    "duration": 1006,
    "start_time": "2023-07-06T09:10:14.371Z"
   },
   {
    "duration": 7,
    "start_time": "2023-07-06T09:10:15.379Z"
   },
   {
    "duration": 157,
    "start_time": "2023-07-06T09:10:15.390Z"
   },
   {
    "duration": 9,
    "start_time": "2023-07-06T09:10:15.548Z"
   },
   {
    "duration": 1033,
    "start_time": "2023-07-06T09:10:15.559Z"
   },
   {
    "duration": 1452,
    "start_time": "2023-07-06T09:10:43.539Z"
   },
   {
    "duration": 177,
    "start_time": "2023-07-06T09:10:44.993Z"
   },
   {
    "duration": 23,
    "start_time": "2023-07-06T09:10:45.172Z"
   },
   {
    "duration": 21,
    "start_time": "2023-07-06T09:10:45.198Z"
   },
   {
    "duration": 27,
    "start_time": "2023-07-06T09:10:45.220Z"
   },
   {
    "duration": 101,
    "start_time": "2023-07-06T09:10:45.253Z"
   },
   {
    "duration": 74,
    "start_time": "2023-07-06T09:10:45.355Z"
   },
   {
    "duration": 8,
    "start_time": "2023-07-06T09:10:45.431Z"
   },
   {
    "duration": 12,
    "start_time": "2023-07-06T09:10:45.456Z"
   },
   {
    "duration": 99,
    "start_time": "2023-07-06T09:10:45.471Z"
   },
   {
    "duration": 147,
    "start_time": "2023-07-06T09:10:45.572Z"
   },
   {
    "duration": 40,
    "start_time": "2023-07-06T09:10:45.721Z"
   },
   {
    "duration": 9,
    "start_time": "2023-07-06T09:10:45.763Z"
   },
   {
    "duration": 30,
    "start_time": "2023-07-06T09:10:45.774Z"
   },
   {
    "duration": 21,
    "start_time": "2023-07-06T09:10:45.807Z"
   },
   {
    "duration": 67,
    "start_time": "2023-07-06T09:10:45.830Z"
   },
   {
    "duration": 323,
    "start_time": "2023-07-06T09:10:45.898Z"
   },
   {
    "duration": 101,
    "start_time": "2023-07-06T09:10:46.223Z"
   },
   {
    "duration": 5,
    "start_time": "2023-07-06T09:10:46.326Z"
   },
   {
    "duration": 42,
    "start_time": "2023-07-06T09:10:46.333Z"
   },
   {
    "duration": 96,
    "start_time": "2023-07-06T09:10:46.377Z"
   },
   {
    "duration": 90,
    "start_time": "2023-07-06T09:10:46.476Z"
   },
   {
    "duration": 23,
    "start_time": "2023-07-06T09:10:46.568Z"
   },
   {
    "duration": 211,
    "start_time": "2023-07-06T09:10:46.594Z"
   },
   {
    "duration": 63,
    "start_time": "2023-07-06T09:10:46.808Z"
   },
   {
    "duration": 1029,
    "start_time": "2023-07-06T09:10:46.872Z"
   },
   {
    "duration": 130,
    "start_time": "2023-07-06T09:10:47.903Z"
   },
   {
    "duration": 6,
    "start_time": "2023-07-06T09:10:48.036Z"
   },
   {
    "duration": 28,
    "start_time": "2023-07-06T09:10:48.054Z"
   },
   {
    "duration": 970,
    "start_time": "2023-07-06T09:10:48.084Z"
   },
   {
    "duration": 1193,
    "start_time": "2023-07-06T09:12:24.858Z"
   },
   {
    "duration": 123,
    "start_time": "2023-07-06T09:12:42.059Z"
   },
   {
    "duration": 6,
    "start_time": "2023-07-06T09:12:55.491Z"
   },
   {
    "duration": 5,
    "start_time": "2023-07-06T09:12:56.240Z"
   },
   {
    "duration": 872,
    "start_time": "2023-07-06T09:12:57.400Z"
   },
   {
    "duration": 4,
    "start_time": "2023-07-06T09:13:22.055Z"
   },
   {
    "duration": 845,
    "start_time": "2023-07-06T09:13:24.178Z"
   },
   {
    "duration": 1407,
    "start_time": "2023-07-06T09:18:20.558Z"
   },
   {
    "duration": 184,
    "start_time": "2023-07-06T09:18:21.967Z"
   },
   {
    "duration": 26,
    "start_time": "2023-07-06T09:18:22.155Z"
   },
   {
    "duration": 14,
    "start_time": "2023-07-06T09:18:22.183Z"
   },
   {
    "duration": 56,
    "start_time": "2023-07-06T09:18:22.200Z"
   },
   {
    "duration": 95,
    "start_time": "2023-07-06T09:18:22.259Z"
   },
   {
    "duration": 86,
    "start_time": "2023-07-06T09:18:22.356Z"
   },
   {
    "duration": 8,
    "start_time": "2023-07-06T09:18:22.454Z"
   },
   {
    "duration": 14,
    "start_time": "2023-07-06T09:18:22.466Z"
   },
   {
    "duration": 126,
    "start_time": "2023-07-06T09:18:22.482Z"
   },
   {
    "duration": 197,
    "start_time": "2023-07-06T09:18:22.610Z"
   },
   {
    "duration": 60,
    "start_time": "2023-07-06T09:18:22.809Z"
   },
   {
    "duration": 5,
    "start_time": "2023-07-06T09:18:22.872Z"
   },
   {
    "duration": 8,
    "start_time": "2023-07-06T09:18:22.882Z"
   },
   {
    "duration": 10,
    "start_time": "2023-07-06T09:18:22.892Z"
   },
   {
    "duration": 85,
    "start_time": "2023-07-06T09:18:22.905Z"
   },
   {
    "duration": 358,
    "start_time": "2023-07-06T09:18:22.992Z"
   },
   {
    "duration": 67,
    "start_time": "2023-07-06T09:18:23.354Z"
   },
   {
    "duration": 4,
    "start_time": "2023-07-06T09:18:23.423Z"
   },
   {
    "duration": 22,
    "start_time": "2023-07-06T09:18:23.453Z"
   },
   {
    "duration": 41,
    "start_time": "2023-07-06T09:18:23.477Z"
   },
   {
    "duration": 102,
    "start_time": "2023-07-06T09:18:23.520Z"
   },
   {
    "duration": 37,
    "start_time": "2023-07-06T09:18:23.624Z"
   },
   {
    "duration": 179,
    "start_time": "2023-07-06T09:18:23.663Z"
   },
   {
    "duration": 46,
    "start_time": "2023-07-06T09:18:23.844Z"
   },
   {
    "duration": 1004,
    "start_time": "2023-07-06T09:18:23.892Z"
   },
   {
    "duration": 131,
    "start_time": "2023-07-06T09:18:24.898Z"
   },
   {
    "duration": 7,
    "start_time": "2023-07-06T09:18:25.031Z"
   },
   {
    "duration": 1160,
    "start_time": "2023-07-06T09:18:25.040Z"
   },
   {
    "duration": 0,
    "start_time": "2023-07-06T09:18:26.202Z"
   },
   {
    "duration": 0,
    "start_time": "2023-07-06T09:18:26.203Z"
   },
   {
    "duration": 1374,
    "start_time": "2023-07-06T09:28:18.509Z"
   },
   {
    "duration": 182,
    "start_time": "2023-07-06T09:28:19.885Z"
   },
   {
    "duration": 25,
    "start_time": "2023-07-06T09:28:20.069Z"
   },
   {
    "duration": 13,
    "start_time": "2023-07-06T09:28:20.096Z"
   },
   {
    "duration": 17,
    "start_time": "2023-07-06T09:28:20.110Z"
   },
   {
    "duration": 76,
    "start_time": "2023-07-06T09:28:20.155Z"
   },
   {
    "duration": 84,
    "start_time": "2023-07-06T09:28:20.233Z"
   },
   {
    "duration": 7,
    "start_time": "2023-07-06T09:28:20.319Z"
   },
   {
    "duration": 33,
    "start_time": "2023-07-06T09:28:20.328Z"
   },
   {
    "duration": 102,
    "start_time": "2023-07-06T09:28:20.364Z"
   },
   {
    "duration": 152,
    "start_time": "2023-07-06T09:28:20.468Z"
   },
   {
    "duration": 42,
    "start_time": "2023-07-06T09:28:20.622Z"
   },
   {
    "duration": 4,
    "start_time": "2023-07-06T09:28:20.666Z"
   },
   {
    "duration": 20,
    "start_time": "2023-07-06T09:28:20.672Z"
   },
   {
    "duration": 9,
    "start_time": "2023-07-06T09:28:20.694Z"
   },
   {
    "duration": 62,
    "start_time": "2023-07-06T09:28:20.706Z"
   },
   {
    "duration": 323,
    "start_time": "2023-07-06T09:28:20.770Z"
   },
   {
    "duration": 79,
    "start_time": "2023-07-06T09:28:21.095Z"
   },
   {
    "duration": 5,
    "start_time": "2023-07-06T09:28:21.176Z"
   },
   {
    "duration": 21,
    "start_time": "2023-07-06T09:28:21.183Z"
   },
   {
    "duration": 66,
    "start_time": "2023-07-06T09:28:21.207Z"
   },
   {
    "duration": 66,
    "start_time": "2023-07-06T09:28:21.274Z"
   },
   {
    "duration": 26,
    "start_time": "2023-07-06T09:28:21.341Z"
   },
   {
    "duration": 173,
    "start_time": "2023-07-06T09:28:21.369Z"
   },
   {
    "duration": 36,
    "start_time": "2023-07-06T09:28:21.544Z"
   },
   {
    "duration": 1004,
    "start_time": "2023-07-06T09:28:21.582Z"
   },
   {
    "duration": 144,
    "start_time": "2023-07-06T09:28:22.588Z"
   },
   {
    "duration": 6,
    "start_time": "2023-07-06T09:28:22.735Z"
   },
   {
    "duration": 13,
    "start_time": "2023-07-06T09:28:22.743Z"
   },
   {
    "duration": 958,
    "start_time": "2023-07-06T09:28:22.759Z"
   },
   {
    "duration": 6,
    "start_time": "2023-07-06T09:29:02.585Z"
   },
   {
    "duration": 919,
    "start_time": "2023-07-06T09:29:04.373Z"
   },
   {
    "duration": 5,
    "start_time": "2023-07-06T09:29:19.374Z"
   },
   {
    "duration": 863,
    "start_time": "2023-07-06T09:29:20.366Z"
   },
   {
    "duration": 7,
    "start_time": "2023-07-06T09:30:00.575Z"
   },
   {
    "duration": 1970,
    "start_time": "2023-07-06T09:30:01.477Z"
   },
   {
    "duration": 1499,
    "start_time": "2023-07-06T09:30:11.831Z"
   },
   {
    "duration": 196,
    "start_time": "2023-07-06T09:30:13.332Z"
   },
   {
    "duration": 32,
    "start_time": "2023-07-06T09:30:13.530Z"
   },
   {
    "duration": 19,
    "start_time": "2023-07-06T09:30:13.564Z"
   },
   {
    "duration": 18,
    "start_time": "2023-07-06T09:30:13.587Z"
   },
   {
    "duration": 128,
    "start_time": "2023-07-06T09:30:13.606Z"
   },
   {
    "duration": 80,
    "start_time": "2023-07-06T09:30:13.736Z"
   },
   {
    "duration": 6,
    "start_time": "2023-07-06T09:30:13.818Z"
   },
   {
    "duration": 37,
    "start_time": "2023-07-06T09:30:13.826Z"
   },
   {
    "duration": 97,
    "start_time": "2023-07-06T09:30:13.865Z"
   },
   {
    "duration": 156,
    "start_time": "2023-07-06T09:30:13.964Z"
   },
   {
    "duration": 46,
    "start_time": "2023-07-06T09:30:14.122Z"
   },
   {
    "duration": 7,
    "start_time": "2023-07-06T09:30:14.170Z"
   },
   {
    "duration": 12,
    "start_time": "2023-07-06T09:30:14.181Z"
   },
   {
    "duration": 8,
    "start_time": "2023-07-06T09:30:14.195Z"
   },
   {
    "duration": 82,
    "start_time": "2023-07-06T09:30:14.205Z"
   },
   {
    "duration": 385,
    "start_time": "2023-07-06T09:30:14.289Z"
   },
   {
    "duration": 81,
    "start_time": "2023-07-06T09:30:14.676Z"
   },
   {
    "duration": 12,
    "start_time": "2023-07-06T09:30:14.760Z"
   },
   {
    "duration": 31,
    "start_time": "2023-07-06T09:30:14.774Z"
   },
   {
    "duration": 83,
    "start_time": "2023-07-06T09:30:14.807Z"
   },
   {
    "duration": 100,
    "start_time": "2023-07-06T09:30:14.892Z"
   },
   {
    "duration": 18,
    "start_time": "2023-07-06T09:30:14.994Z"
   },
   {
    "duration": 242,
    "start_time": "2023-07-06T09:30:15.015Z"
   },
   {
    "duration": 99,
    "start_time": "2023-07-06T09:30:15.259Z"
   },
   {
    "duration": 1070,
    "start_time": "2023-07-06T09:30:15.361Z"
   },
   {
    "duration": 164,
    "start_time": "2023-07-06T09:30:16.434Z"
   },
   {
    "duration": 5,
    "start_time": "2023-07-06T09:30:16.600Z"
   },
   {
    "duration": 8,
    "start_time": "2023-07-06T09:30:16.607Z"
   },
   {
    "duration": 1095,
    "start_time": "2023-07-06T09:30:16.617Z"
   },
   {
    "duration": 1458,
    "start_time": "2023-07-06T10:42:18.969Z"
   },
   {
    "duration": 203,
    "start_time": "2023-07-06T10:42:20.430Z"
   },
   {
    "duration": 43,
    "start_time": "2023-07-06T10:42:20.635Z"
   },
   {
    "duration": 20,
    "start_time": "2023-07-06T10:42:20.680Z"
   },
   {
    "duration": 38,
    "start_time": "2023-07-06T10:42:20.704Z"
   },
   {
    "duration": 104,
    "start_time": "2023-07-06T10:42:20.744Z"
   },
   {
    "duration": 78,
    "start_time": "2023-07-06T10:42:20.853Z"
   },
   {
    "duration": 21,
    "start_time": "2023-07-06T10:42:20.933Z"
   },
   {
    "duration": 13,
    "start_time": "2023-07-06T10:42:20.957Z"
   },
   {
    "duration": 133,
    "start_time": "2023-07-06T10:42:20.973Z"
   },
   {
    "duration": 166,
    "start_time": "2023-07-06T10:42:21.108Z"
   },
   {
    "duration": 39,
    "start_time": "2023-07-06T10:42:21.277Z"
   },
   {
    "duration": 7,
    "start_time": "2023-07-06T10:42:21.319Z"
   },
   {
    "duration": 26,
    "start_time": "2023-07-06T10:42:21.329Z"
   },
   {
    "duration": 6,
    "start_time": "2023-07-06T10:42:21.358Z"
   },
   {
    "duration": 79,
    "start_time": "2023-07-06T10:42:21.366Z"
   },
   {
    "duration": 345,
    "start_time": "2023-07-06T10:42:21.447Z"
   },
   {
    "duration": 83,
    "start_time": "2023-07-06T10:42:21.794Z"
   },
   {
    "duration": 7,
    "start_time": "2023-07-06T10:42:21.879Z"
   },
   {
    "duration": 49,
    "start_time": "2023-07-06T10:42:21.888Z"
   },
   {
    "duration": 59,
    "start_time": "2023-07-06T10:42:21.939Z"
   },
   {
    "duration": 82,
    "start_time": "2023-07-06T10:42:22.000Z"
   },
   {
    "duration": 31,
    "start_time": "2023-07-06T10:42:22.084Z"
   },
   {
    "duration": 223,
    "start_time": "2023-07-06T10:42:22.117Z"
   },
   {
    "duration": 53,
    "start_time": "2023-07-06T10:42:22.343Z"
   },
   {
    "duration": 1126,
    "start_time": "2023-07-06T10:42:22.398Z"
   },
   {
    "duration": 131,
    "start_time": "2023-07-06T10:42:23.529Z"
   },
   {
    "duration": 6,
    "start_time": "2023-07-06T10:42:23.662Z"
   },
   {
    "duration": 12,
    "start_time": "2023-07-06T10:42:23.670Z"
   },
   {
    "duration": 1069,
    "start_time": "2023-07-06T10:42:23.684Z"
   },
   {
    "duration": 1529,
    "start_time": "2023-07-06T10:47:16.925Z"
   },
   {
    "duration": 732,
    "start_time": "2023-07-06T10:47:18.456Z"
   },
   {
    "duration": 22,
    "start_time": "2023-07-06T10:47:19.190Z"
   },
   {
    "duration": 11,
    "start_time": "2023-07-06T10:47:19.214Z"
   },
   {
    "duration": 17,
    "start_time": "2023-07-06T10:47:19.227Z"
   },
   {
    "duration": 69,
    "start_time": "2023-07-06T10:47:19.246Z"
   },
   {
    "duration": 68,
    "start_time": "2023-07-06T10:47:19.316Z"
   },
   {
    "duration": 6,
    "start_time": "2023-07-06T10:47:19.385Z"
   },
   {
    "duration": 13,
    "start_time": "2023-07-06T10:47:19.393Z"
   },
   {
    "duration": 97,
    "start_time": "2023-07-06T10:47:19.407Z"
   },
   {
    "duration": 114,
    "start_time": "2023-07-06T10:47:19.506Z"
   },
   {
    "duration": 27,
    "start_time": "2023-07-06T10:47:19.622Z"
   },
   {
    "duration": 4,
    "start_time": "2023-07-06T10:47:19.650Z"
   },
   {
    "duration": 6,
    "start_time": "2023-07-06T10:47:19.669Z"
   },
   {
    "duration": 34,
    "start_time": "2023-07-06T10:47:19.676Z"
   },
   {
    "duration": 47,
    "start_time": "2023-07-06T10:47:19.713Z"
   },
   {
    "duration": 295,
    "start_time": "2023-07-06T10:47:19.762Z"
   },
   {
    "duration": 64,
    "start_time": "2023-07-06T10:47:20.059Z"
   },
   {
    "duration": 4,
    "start_time": "2023-07-06T10:47:20.125Z"
   },
   {
    "duration": 45,
    "start_time": "2023-07-06T10:47:20.130Z"
   },
   {
    "duration": 43,
    "start_time": "2023-07-06T10:47:20.177Z"
   },
   {
    "duration": 68,
    "start_time": "2023-07-06T10:47:20.222Z"
   },
   {
    "duration": 15,
    "start_time": "2023-07-06T10:47:20.292Z"
   },
   {
    "duration": 188,
    "start_time": "2023-07-06T10:47:20.308Z"
   },
   {
    "duration": 37,
    "start_time": "2023-07-06T10:47:20.499Z"
   },
   {
    "duration": 820,
    "start_time": "2023-07-06T10:47:20.569Z"
   },
   {
    "duration": 121,
    "start_time": "2023-07-06T10:47:21.391Z"
   },
   {
    "duration": 6,
    "start_time": "2023-07-06T10:47:21.514Z"
   },
   {
    "duration": 122,
    "start_time": "2023-07-06T10:47:21.522Z"
   },
   {
    "duration": 0,
    "start_time": "2023-07-06T10:47:21.645Z"
   },
   {
    "duration": 0,
    "start_time": "2023-07-06T10:47:21.646Z"
   },
   {
    "duration": 19,
    "start_time": "2023-07-06T10:48:03.626Z"
   },
   {
    "duration": 5,
    "start_time": "2023-07-06T10:50:56.357Z"
   },
   {
    "duration": 1681,
    "start_time": "2023-07-06T10:50:57.222Z"
   },
   {
    "duration": 60,
    "start_time": "2023-07-06T14:23:07.620Z"
   },
   {
    "duration": 1579,
    "start_time": "2023-07-06T14:23:12.893Z"
   },
   {
    "duration": 767,
    "start_time": "2023-07-06T14:23:14.475Z"
   },
   {
    "duration": 25,
    "start_time": "2023-07-06T14:23:15.244Z"
   },
   {
    "duration": 14,
    "start_time": "2023-07-06T14:23:15.271Z"
   },
   {
    "duration": 14,
    "start_time": "2023-07-06T14:23:15.288Z"
   },
   {
    "duration": 90,
    "start_time": "2023-07-06T14:23:15.304Z"
   },
   {
    "duration": 87,
    "start_time": "2023-07-06T14:23:15.396Z"
   },
   {
    "duration": 9,
    "start_time": "2023-07-06T14:23:15.485Z"
   },
   {
    "duration": 24,
    "start_time": "2023-07-06T14:23:15.496Z"
   },
   {
    "duration": 139,
    "start_time": "2023-07-06T14:23:15.523Z"
   },
   {
    "duration": 142,
    "start_time": "2023-07-06T14:23:15.665Z"
   },
   {
    "duration": 26,
    "start_time": "2023-07-06T14:23:15.809Z"
   },
   {
    "duration": 4,
    "start_time": "2023-07-06T14:23:15.837Z"
   },
   {
    "duration": 26,
    "start_time": "2023-07-06T14:23:15.843Z"
   },
   {
    "duration": 8,
    "start_time": "2023-07-06T14:23:15.872Z"
   },
   {
    "duration": 40,
    "start_time": "2023-07-06T14:23:15.883Z"
   },
   {
    "duration": 364,
    "start_time": "2023-07-06T14:23:15.925Z"
   },
   {
    "duration": 86,
    "start_time": "2023-07-06T14:23:16.291Z"
   },
   {
    "duration": 5,
    "start_time": "2023-07-06T14:23:16.379Z"
   },
   {
    "duration": 23,
    "start_time": "2023-07-06T14:23:16.386Z"
   },
   {
    "duration": 53,
    "start_time": "2023-07-06T14:23:16.411Z"
   },
   {
    "duration": 68,
    "start_time": "2023-07-06T14:23:16.466Z"
   },
   {
    "duration": 41,
    "start_time": "2023-07-06T14:23:16.535Z"
   },
   {
    "duration": 173,
    "start_time": "2023-07-06T14:23:16.578Z"
   },
   {
    "duration": 48,
    "start_time": "2023-07-06T14:23:16.753Z"
   },
   {
    "duration": 982,
    "start_time": "2023-07-06T14:23:16.803Z"
   },
   {
    "duration": 129,
    "start_time": "2023-07-06T14:23:17.787Z"
   },
   {
    "duration": 6,
    "start_time": "2023-07-06T14:23:17.918Z"
   },
   {
    "duration": 24,
    "start_time": "2023-07-06T14:23:17.925Z"
   },
   {
    "duration": 4,
    "start_time": "2023-07-06T14:23:17.960Z"
   },
   {
    "duration": 1567,
    "start_time": "2023-07-06T14:23:17.967Z"
   },
   {
    "duration": 5,
    "start_time": "2023-07-06T14:28:02.818Z"
   },
   {
    "duration": 19,
    "start_time": "2023-07-06T14:28:03.602Z"
   },
   {
    "duration": 5,
    "start_time": "2023-07-06T14:32:28.662Z"
   },
   {
    "duration": 12,
    "start_time": "2023-07-06T14:32:30.136Z"
   },
   {
    "duration": 15,
    "start_time": "2023-07-06T14:32:39.173Z"
   },
   {
    "duration": 1305,
    "start_time": "2023-07-06T14:32:45.457Z"
   },
   {
    "duration": 160,
    "start_time": "2023-07-06T14:32:46.764Z"
   },
   {
    "duration": 21,
    "start_time": "2023-07-06T14:32:46.925Z"
   },
   {
    "duration": 18,
    "start_time": "2023-07-06T14:32:46.949Z"
   },
   {
    "duration": 20,
    "start_time": "2023-07-06T14:32:46.969Z"
   },
   {
    "duration": 74,
    "start_time": "2023-07-06T14:32:46.990Z"
   },
   {
    "duration": 68,
    "start_time": "2023-07-06T14:32:47.066Z"
   },
   {
    "duration": 7,
    "start_time": "2023-07-06T14:32:47.136Z"
   },
   {
    "duration": 16,
    "start_time": "2023-07-06T14:32:47.160Z"
   },
   {
    "duration": 87,
    "start_time": "2023-07-06T14:32:47.179Z"
   },
   {
    "duration": 132,
    "start_time": "2023-07-06T14:32:47.268Z"
   },
   {
    "duration": 28,
    "start_time": "2023-07-06T14:32:47.401Z"
   },
   {
    "duration": 8,
    "start_time": "2023-07-06T14:32:47.431Z"
   },
   {
    "duration": 22,
    "start_time": "2023-07-06T14:32:47.440Z"
   },
   {
    "duration": 26,
    "start_time": "2023-07-06T14:32:47.464Z"
   },
   {
    "duration": 32,
    "start_time": "2023-07-06T14:32:47.493Z"
   },
   {
    "duration": 311,
    "start_time": "2023-07-06T14:32:47.527Z"
   },
   {
    "duration": 75,
    "start_time": "2023-07-06T14:32:47.839Z"
   },
   {
    "duration": 4,
    "start_time": "2023-07-06T14:32:47.916Z"
   },
   {
    "duration": 38,
    "start_time": "2023-07-06T14:32:47.922Z"
   },
   {
    "duration": 50,
    "start_time": "2023-07-06T14:32:47.963Z"
   },
   {
    "duration": 79,
    "start_time": "2023-07-06T14:32:48.015Z"
   },
   {
    "duration": 17,
    "start_time": "2023-07-06T14:32:48.096Z"
   },
   {
    "duration": 193,
    "start_time": "2023-07-06T14:32:48.114Z"
   },
   {
    "duration": 35,
    "start_time": "2023-07-06T14:32:48.309Z"
   },
   {
    "duration": 968,
    "start_time": "2023-07-06T14:32:48.360Z"
   },
   {
    "duration": 144,
    "start_time": "2023-07-06T14:32:49.330Z"
   },
   {
    "duration": 6,
    "start_time": "2023-07-06T14:32:49.477Z"
   },
   {
    "duration": 188,
    "start_time": "2023-07-06T14:32:49.486Z"
   },
   {
    "duration": 5,
    "start_time": "2023-07-06T14:33:17.831Z"
   },
   {
    "duration": 20,
    "start_time": "2023-07-06T14:33:18.605Z"
   },
   {
    "duration": 22,
    "start_time": "2023-07-06T14:43:44.697Z"
   },
   {
    "duration": 840,
    "start_time": "2023-07-06T14:44:17.040Z"
   },
   {
    "duration": 20,
    "start_time": "2023-07-06T14:44:24.632Z"
   },
   {
    "duration": 5,
    "start_time": "2023-07-06T14:46:25.086Z"
   },
   {
    "duration": 18,
    "start_time": "2023-07-06T14:46:25.758Z"
   },
   {
    "duration": 6,
    "start_time": "2023-07-06T14:46:41.206Z"
   },
   {
    "duration": 871,
    "start_time": "2023-07-06T14:46:42.560Z"
   },
   {
    "duration": 112,
    "start_time": "2023-07-06T14:47:06.585Z"
   },
   {
    "duration": 5,
    "start_time": "2023-07-06T14:47:08.044Z"
   },
   {
    "duration": 878,
    "start_time": "2023-07-06T14:47:09.029Z"
   },
   {
    "duration": 5,
    "start_time": "2023-07-06T14:47:21.902Z"
   },
   {
    "duration": 22,
    "start_time": "2023-07-06T14:47:22.844Z"
   },
   {
    "duration": 1326,
    "start_time": "2023-07-06T14:48:13.746Z"
   },
   {
    "duration": 159,
    "start_time": "2023-07-06T14:48:15.074Z"
   },
   {
    "duration": 30,
    "start_time": "2023-07-06T14:48:15.235Z"
   },
   {
    "duration": 12,
    "start_time": "2023-07-06T14:48:15.267Z"
   },
   {
    "duration": 24,
    "start_time": "2023-07-06T14:48:15.280Z"
   },
   {
    "duration": 84,
    "start_time": "2023-07-06T14:48:15.305Z"
   },
   {
    "duration": 74,
    "start_time": "2023-07-06T14:48:15.391Z"
   },
   {
    "duration": 7,
    "start_time": "2023-07-06T14:48:15.467Z"
   },
   {
    "duration": 20,
    "start_time": "2023-07-06T14:48:15.476Z"
   },
   {
    "duration": 95,
    "start_time": "2023-07-06T14:48:15.500Z"
   },
   {
    "duration": 140,
    "start_time": "2023-07-06T14:48:15.597Z"
   },
   {
    "duration": 33,
    "start_time": "2023-07-06T14:48:15.740Z"
   },
   {
    "duration": 18,
    "start_time": "2023-07-06T14:48:15.775Z"
   },
   {
    "duration": 27,
    "start_time": "2023-07-06T14:48:15.795Z"
   },
   {
    "duration": 31,
    "start_time": "2023-07-06T14:48:15.824Z"
   },
   {
    "duration": 39,
    "start_time": "2023-07-06T14:48:15.857Z"
   },
   {
    "duration": 306,
    "start_time": "2023-07-06T14:48:15.898Z"
   },
   {
    "duration": 64,
    "start_time": "2023-07-06T14:48:16.206Z"
   },
   {
    "duration": 5,
    "start_time": "2023-07-06T14:48:16.271Z"
   },
   {
    "duration": 33,
    "start_time": "2023-07-06T14:48:16.277Z"
   },
   {
    "duration": 55,
    "start_time": "2023-07-06T14:48:16.312Z"
   },
   {
    "duration": 63,
    "start_time": "2023-07-06T14:48:16.369Z"
   },
   {
    "duration": 30,
    "start_time": "2023-07-06T14:48:16.434Z"
   },
   {
    "duration": 155,
    "start_time": "2023-07-06T14:48:16.466Z"
   },
   {
    "duration": 59,
    "start_time": "2023-07-06T14:48:16.623Z"
   },
   {
    "duration": 917,
    "start_time": "2023-07-06T14:48:16.684Z"
   },
   {
    "duration": 128,
    "start_time": "2023-07-06T14:48:17.603Z"
   },
   {
    "duration": 6,
    "start_time": "2023-07-06T14:48:17.734Z"
   },
   {
    "duration": 54,
    "start_time": "2023-07-06T14:48:17.741Z"
   },
   {
    "duration": 71,
    "start_time": "2023-07-06T14:50:44.401Z"
   },
   {
    "duration": 83,
    "start_time": "2023-07-06T14:50:51.010Z"
   },
   {
    "duration": 219,
    "start_time": "2023-07-06T14:51:25.552Z"
   },
   {
    "duration": 83,
    "start_time": "2023-07-06T14:51:34.996Z"
   },
   {
    "duration": 1287,
    "start_time": "2023-07-06T15:02:24.207Z"
   },
   {
    "duration": 167,
    "start_time": "2023-07-06T15:02:25.497Z"
   },
   {
    "duration": 22,
    "start_time": "2023-07-06T15:02:25.666Z"
   },
   {
    "duration": 10,
    "start_time": "2023-07-06T15:02:25.691Z"
   },
   {
    "duration": 25,
    "start_time": "2023-07-06T15:02:25.703Z"
   },
   {
    "duration": 91,
    "start_time": "2023-07-06T15:02:25.730Z"
   },
   {
    "duration": 78,
    "start_time": "2023-07-06T15:02:25.823Z"
   },
   {
    "duration": 7,
    "start_time": "2023-07-06T15:02:25.903Z"
   },
   {
    "duration": 17,
    "start_time": "2023-07-06T15:02:25.911Z"
   },
   {
    "duration": 110,
    "start_time": "2023-07-06T15:02:25.931Z"
   },
   {
    "duration": 147,
    "start_time": "2023-07-06T15:02:26.043Z"
   },
   {
    "duration": 26,
    "start_time": "2023-07-06T15:02:26.192Z"
   },
   {
    "duration": 4,
    "start_time": "2023-07-06T15:02:26.219Z"
   },
   {
    "duration": 56,
    "start_time": "2023-07-06T15:02:26.224Z"
   },
   {
    "duration": 19,
    "start_time": "2023-07-06T15:02:26.282Z"
   },
   {
    "duration": 70,
    "start_time": "2023-07-06T15:02:26.302Z"
   },
   {
    "duration": 327,
    "start_time": "2023-07-06T15:02:26.374Z"
   },
   {
    "duration": 71,
    "start_time": "2023-07-06T15:02:26.704Z"
   },
   {
    "duration": 4,
    "start_time": "2023-07-06T15:02:26.778Z"
   },
   {
    "duration": 21,
    "start_time": "2023-07-06T15:02:26.784Z"
   },
   {
    "duration": 63,
    "start_time": "2023-07-06T15:02:26.807Z"
   },
   {
    "duration": 62,
    "start_time": "2023-07-06T15:02:26.873Z"
   },
   {
    "duration": 42,
    "start_time": "2023-07-06T15:02:26.937Z"
   },
   {
    "duration": 167,
    "start_time": "2023-07-06T15:02:26.981Z"
   },
   {
    "duration": 52,
    "start_time": "2023-07-06T15:02:27.150Z"
   },
   {
    "duration": 1031,
    "start_time": "2023-07-06T15:02:27.204Z"
   },
   {
    "duration": 94,
    "start_time": "2023-07-06T15:02:28.237Z"
   },
   {
    "duration": 136,
    "start_time": "2023-07-06T15:02:28.335Z"
   },
   {
    "duration": 6,
    "start_time": "2023-07-06T15:02:28.473Z"
   },
   {
    "duration": 50,
    "start_time": "2023-07-06T15:02:28.481Z"
   },
   {
    "duration": 22,
    "start_time": "2023-07-06T15:19:02.135Z"
   },
   {
    "duration": 23,
    "start_time": "2023-07-06T15:21:49.237Z"
   },
   {
    "duration": 57,
    "start_time": "2023-07-06T15:24:08.122Z"
   },
   {
    "duration": 71,
    "start_time": "2023-07-06T15:24:15.430Z"
   },
   {
    "duration": 64,
    "start_time": "2023-07-06T15:28:53.768Z"
   },
   {
    "duration": 1273,
    "start_time": "2023-07-06T15:28:58.998Z"
   },
   {
    "duration": 167,
    "start_time": "2023-07-06T15:29:00.273Z"
   },
   {
    "duration": 26,
    "start_time": "2023-07-06T15:29:00.442Z"
   },
   {
    "duration": 46,
    "start_time": "2023-07-06T15:29:00.471Z"
   },
   {
    "duration": 57,
    "start_time": "2023-07-06T15:29:00.520Z"
   },
   {
    "duration": 107,
    "start_time": "2023-07-06T15:29:00.579Z"
   },
   {
    "duration": 90,
    "start_time": "2023-07-06T15:29:00.688Z"
   },
   {
    "duration": 8,
    "start_time": "2023-07-06T15:29:00.780Z"
   },
   {
    "duration": 53,
    "start_time": "2023-07-06T15:29:00.790Z"
   },
   {
    "duration": 126,
    "start_time": "2023-07-06T15:29:00.845Z"
   },
   {
    "duration": 164,
    "start_time": "2023-07-06T15:29:00.973Z"
   },
   {
    "duration": 36,
    "start_time": "2023-07-06T15:29:01.140Z"
   },
   {
    "duration": 16,
    "start_time": "2023-07-06T15:29:01.178Z"
   },
   {
    "duration": 61,
    "start_time": "2023-07-06T15:29:01.197Z"
   },
   {
    "duration": 51,
    "start_time": "2023-07-06T15:29:01.261Z"
   },
   {
    "duration": 71,
    "start_time": "2023-07-06T15:29:01.314Z"
   },
   {
    "duration": 338,
    "start_time": "2023-07-06T15:29:01.387Z"
   },
   {
    "duration": 78,
    "start_time": "2023-07-06T15:29:01.726Z"
   },
   {
    "duration": 5,
    "start_time": "2023-07-06T15:29:01.806Z"
   },
   {
    "duration": 45,
    "start_time": "2023-07-06T15:29:01.813Z"
   },
   {
    "duration": 64,
    "start_time": "2023-07-06T15:29:01.860Z"
   },
   {
    "duration": 85,
    "start_time": "2023-07-06T15:29:01.926Z"
   },
   {
    "duration": 19,
    "start_time": "2023-07-06T15:29:02.013Z"
   },
   {
    "duration": 180,
    "start_time": "2023-07-06T15:29:02.034Z"
   },
   {
    "duration": 57,
    "start_time": "2023-07-06T15:29:02.217Z"
   },
   {
    "duration": 902,
    "start_time": "2023-07-06T15:29:02.276Z"
   },
   {
    "duration": 85,
    "start_time": "2023-07-06T15:29:03.180Z"
   },
   {
    "duration": 127,
    "start_time": "2023-07-06T15:29:03.267Z"
   },
   {
    "duration": 5,
    "start_time": "2023-07-06T15:29:03.396Z"
   },
   {
    "duration": 23,
    "start_time": "2023-07-06T15:29:03.402Z"
   },
   {
    "duration": 34,
    "start_time": "2023-07-06T15:29:03.427Z"
   },
   {
    "duration": 23,
    "start_time": "2023-07-06T15:29:03.463Z"
   },
   {
    "duration": 74,
    "start_time": "2023-07-06T15:29:03.489Z"
   },
   {
    "duration": 0,
    "start_time": "2023-07-06T15:29:03.565Z"
   },
   {
    "duration": 301,
    "start_time": "2023-07-06T15:38:30.803Z"
   },
   {
    "duration": 24,
    "start_time": "2023-07-06T15:55:13.648Z"
   },
   {
    "duration": 154,
    "start_time": "2023-07-06T16:05:52.998Z"
   },
   {
    "duration": 140,
    "start_time": "2023-07-06T16:06:05.174Z"
   },
   {
    "duration": 5,
    "start_time": "2023-07-06T16:06:06.328Z"
   },
   {
    "duration": 77,
    "start_time": "2023-07-06T16:07:10.421Z"
   },
   {
    "duration": 1386,
    "start_time": "2023-07-06T16:07:15.532Z"
   },
   {
    "duration": 170,
    "start_time": "2023-07-06T16:07:16.920Z"
   },
   {
    "duration": 21,
    "start_time": "2023-07-06T16:07:17.092Z"
   },
   {
    "duration": 15,
    "start_time": "2023-07-06T16:07:17.115Z"
   },
   {
    "duration": 36,
    "start_time": "2023-07-06T16:07:17.131Z"
   },
   {
    "duration": 74,
    "start_time": "2023-07-06T16:07:17.169Z"
   },
   {
    "duration": 82,
    "start_time": "2023-07-06T16:07:17.244Z"
   },
   {
    "duration": 7,
    "start_time": "2023-07-06T16:07:17.328Z"
   },
   {
    "duration": 37,
    "start_time": "2023-07-06T16:07:17.337Z"
   },
   {
    "duration": 108,
    "start_time": "2023-07-06T16:07:17.377Z"
   },
   {
    "duration": 141,
    "start_time": "2023-07-06T16:07:17.487Z"
   },
   {
    "duration": 38,
    "start_time": "2023-07-06T16:07:17.630Z"
   },
   {
    "duration": 5,
    "start_time": "2023-07-06T16:07:17.672Z"
   },
   {
    "duration": 34,
    "start_time": "2023-07-06T16:07:17.679Z"
   },
   {
    "duration": 43,
    "start_time": "2023-07-06T16:07:17.715Z"
   },
   {
    "duration": 47,
    "start_time": "2023-07-06T16:07:17.760Z"
   },
   {
    "duration": 322,
    "start_time": "2023-07-06T16:07:17.809Z"
   },
   {
    "duration": 76,
    "start_time": "2023-07-06T16:07:18.132Z"
   },
   {
    "duration": 5,
    "start_time": "2023-07-06T16:07:18.210Z"
   },
   {
    "duration": 34,
    "start_time": "2023-07-06T16:07:18.216Z"
   },
   {
    "duration": 48,
    "start_time": "2023-07-06T16:07:18.252Z"
   },
   {
    "duration": 83,
    "start_time": "2023-07-06T16:07:18.301Z"
   },
   {
    "duration": 21,
    "start_time": "2023-07-06T16:07:18.386Z"
   },
   {
    "duration": 207,
    "start_time": "2023-07-06T16:07:18.409Z"
   },
   {
    "duration": 57,
    "start_time": "2023-07-06T16:07:18.618Z"
   },
   {
    "duration": 1064,
    "start_time": "2023-07-06T16:07:18.677Z"
   },
   {
    "duration": 98,
    "start_time": "2023-07-06T16:07:19.743Z"
   },
   {
    "duration": 144,
    "start_time": "2023-07-06T16:07:19.844Z"
   },
   {
    "duration": 5,
    "start_time": "2023-07-06T16:07:19.991Z"
   },
   {
    "duration": 91,
    "start_time": "2023-07-06T16:07:19.998Z"
   },
   {
    "duration": 1317,
    "start_time": "2023-07-06T16:07:20.091Z"
   },
   {
    "duration": 0,
    "start_time": "2023-07-06T16:07:21.410Z"
   },
   {
    "duration": 0,
    "start_time": "2023-07-06T16:07:21.411Z"
   },
   {
    "duration": 0,
    "start_time": "2023-07-06T16:07:21.413Z"
   },
   {
    "duration": 112,
    "start_time": "2023-07-06T16:07:41.231Z"
   },
   {
    "duration": 24,
    "start_time": "2023-07-06T16:07:50.247Z"
   },
   {
    "duration": 22,
    "start_time": "2023-07-06T16:07:53.634Z"
   },
   {
    "duration": 89,
    "start_time": "2023-07-06T16:07:56.412Z"
   },
   {
    "duration": 113,
    "start_time": "2023-07-06T16:08:17.733Z"
   },
   {
    "duration": 143,
    "start_time": "2023-07-06T16:14:39.202Z"
   },
   {
    "duration": 19,
    "start_time": "2023-07-06T16:17:36.339Z"
   },
   {
    "duration": 1328,
    "start_time": "2023-07-06T16:17:56.149Z"
   },
   {
    "duration": 170,
    "start_time": "2023-07-06T16:17:57.479Z"
   },
   {
    "duration": 23,
    "start_time": "2023-07-06T16:17:57.651Z"
   },
   {
    "duration": 11,
    "start_time": "2023-07-06T16:17:57.676Z"
   },
   {
    "duration": 19,
    "start_time": "2023-07-06T16:17:57.689Z"
   },
   {
    "duration": 84,
    "start_time": "2023-07-06T16:17:57.710Z"
   },
   {
    "duration": 86,
    "start_time": "2023-07-06T16:17:57.796Z"
   },
   {
    "duration": 7,
    "start_time": "2023-07-06T16:17:57.883Z"
   },
   {
    "duration": 13,
    "start_time": "2023-07-06T16:17:57.892Z"
   },
   {
    "duration": 97,
    "start_time": "2023-07-06T16:17:57.908Z"
   },
   {
    "duration": 148,
    "start_time": "2023-07-06T16:17:58.007Z"
   },
   {
    "duration": 29,
    "start_time": "2023-07-06T16:17:58.157Z"
   },
   {
    "duration": 16,
    "start_time": "2023-07-06T16:17:58.189Z"
   },
   {
    "duration": 22,
    "start_time": "2023-07-06T16:17:58.208Z"
   },
   {
    "duration": 9,
    "start_time": "2023-07-06T16:17:58.232Z"
   },
   {
    "duration": 52,
    "start_time": "2023-07-06T16:17:58.243Z"
   },
   {
    "duration": 297,
    "start_time": "2023-07-06T16:17:58.297Z"
   },
   {
    "duration": 74,
    "start_time": "2023-07-06T16:17:58.596Z"
   },
   {
    "duration": 5,
    "start_time": "2023-07-06T16:17:58.672Z"
   },
   {
    "duration": 26,
    "start_time": "2023-07-06T16:17:58.679Z"
   },
   {
    "duration": 53,
    "start_time": "2023-07-06T16:17:58.708Z"
   },
   {
    "duration": 67,
    "start_time": "2023-07-06T16:17:58.763Z"
   },
   {
    "duration": 42,
    "start_time": "2023-07-06T16:17:58.832Z"
   },
   {
    "duration": 169,
    "start_time": "2023-07-06T16:17:58.876Z"
   },
   {
    "duration": 36,
    "start_time": "2023-07-06T16:17:59.048Z"
   },
   {
    "duration": 947,
    "start_time": "2023-07-06T16:17:59.085Z"
   },
   {
    "duration": 92,
    "start_time": "2023-07-06T16:18:00.034Z"
   },
   {
    "duration": 135,
    "start_time": "2023-07-06T16:18:00.129Z"
   },
   {
    "duration": 6,
    "start_time": "2023-07-06T16:18:00.266Z"
   },
   {
    "duration": 90,
    "start_time": "2023-07-06T16:18:00.273Z"
   },
   {
    "duration": 76,
    "start_time": "2023-07-06T16:18:00.365Z"
   },
   {
    "duration": 52,
    "start_time": "2023-07-06T16:18:00.443Z"
   },
   {
    "duration": 147,
    "start_time": "2023-07-06T16:18:00.497Z"
   },
   {
    "duration": 0,
    "start_time": "2023-07-06T16:18:00.646Z"
   },
   {
    "duration": 39,
    "start_time": "2023-07-06T16:19:03.611Z"
   },
   {
    "duration": 25,
    "start_time": "2023-07-06T16:20:34.727Z"
   },
   {
    "duration": 176,
    "start_time": "2023-07-06T17:18:29.494Z"
   },
   {
    "duration": 8,
    "start_time": "2023-07-06T17:18:30.740Z"
   },
   {
    "duration": 27,
    "start_time": "2023-07-06T17:19:24.996Z"
   },
   {
    "duration": 1463,
    "start_time": "2023-07-06T17:24:07.642Z"
   },
   {
    "duration": 214,
    "start_time": "2023-07-06T17:24:09.160Z"
   },
   {
    "duration": 31,
    "start_time": "2023-07-06T17:24:09.380Z"
   },
   {
    "duration": 12,
    "start_time": "2023-07-06T17:24:09.413Z"
   },
   {
    "duration": 15,
    "start_time": "2023-07-06T17:24:09.427Z"
   },
   {
    "duration": 135,
    "start_time": "2023-07-06T17:24:09.445Z"
   },
   {
    "duration": 97,
    "start_time": "2023-07-06T17:24:09.582Z"
   },
   {
    "duration": 10,
    "start_time": "2023-07-06T17:24:09.680Z"
   },
   {
    "duration": 15,
    "start_time": "2023-07-06T17:24:09.692Z"
   },
   {
    "duration": 97,
    "start_time": "2023-07-06T17:24:09.709Z"
   },
   {
    "duration": 162,
    "start_time": "2023-07-06T17:24:09.808Z"
   },
   {
    "duration": 89,
    "start_time": "2023-07-06T17:24:09.972Z"
   },
   {
    "duration": 19,
    "start_time": "2023-07-06T17:24:10.067Z"
   },
   {
    "duration": 15,
    "start_time": "2023-07-06T17:24:10.092Z"
   },
   {
    "duration": 60,
    "start_time": "2023-07-06T17:24:10.110Z"
   },
   {
    "duration": 92,
    "start_time": "2023-07-06T17:24:10.174Z"
   },
   {
    "duration": 497,
    "start_time": "2023-07-06T17:24:10.268Z"
   },
   {
    "duration": 133,
    "start_time": "2023-07-06T17:24:10.771Z"
   },
   {
    "duration": 5,
    "start_time": "2023-07-06T17:24:10.906Z"
   },
   {
    "duration": 36,
    "start_time": "2023-07-06T17:24:10.913Z"
   },
   {
    "duration": 70,
    "start_time": "2023-07-06T17:24:10.969Z"
   },
   {
    "duration": 70,
    "start_time": "2023-07-06T17:24:11.041Z"
   },
   {
    "duration": 19,
    "start_time": "2023-07-06T17:24:11.113Z"
   },
   {
    "duration": 238,
    "start_time": "2023-07-06T17:24:11.134Z"
   },
   {
    "duration": 92,
    "start_time": "2023-07-06T17:24:11.373Z"
   },
   {
    "duration": 1171,
    "start_time": "2023-07-06T17:24:11.467Z"
   },
   {
    "duration": 131,
    "start_time": "2023-07-06T17:24:12.640Z"
   },
   {
    "duration": 127,
    "start_time": "2023-07-06T17:24:12.777Z"
   },
   {
    "duration": 6,
    "start_time": "2023-07-06T17:24:12.906Z"
   },
   {
    "duration": 136,
    "start_time": "2023-07-06T17:24:12.914Z"
   },
   {
    "duration": 0,
    "start_time": "2023-07-06T17:24:13.051Z"
   },
   {
    "duration": 0,
    "start_time": "2023-07-06T17:24:13.053Z"
   },
   {
    "duration": 0,
    "start_time": "2023-07-06T17:24:13.054Z"
   },
   {
    "duration": 6,
    "start_time": "2023-07-06T17:25:56.016Z"
   },
   {
    "duration": 22,
    "start_time": "2023-07-06T17:26:00.443Z"
   },
   {
    "duration": 1323,
    "start_time": "2023-07-06T17:29:05.406Z"
   },
   {
    "duration": 175,
    "start_time": "2023-07-06T17:29:06.731Z"
   },
   {
    "duration": 22,
    "start_time": "2023-07-06T17:29:06.908Z"
   },
   {
    "duration": 34,
    "start_time": "2023-07-06T17:29:06.932Z"
   },
   {
    "duration": 48,
    "start_time": "2023-07-06T17:29:06.968Z"
   },
   {
    "duration": 86,
    "start_time": "2023-07-06T17:29:07.018Z"
   },
   {
    "duration": 97,
    "start_time": "2023-07-06T17:29:07.106Z"
   },
   {
    "duration": 8,
    "start_time": "2023-07-06T17:29:07.205Z"
   },
   {
    "duration": 14,
    "start_time": "2023-07-06T17:29:07.215Z"
   },
   {
    "duration": 149,
    "start_time": "2023-07-06T17:29:07.233Z"
   },
   {
    "duration": 191,
    "start_time": "2023-07-06T17:29:07.384Z"
   },
   {
    "duration": 30,
    "start_time": "2023-07-06T17:29:07.577Z"
   },
   {
    "duration": 58,
    "start_time": "2023-07-06T17:29:07.609Z"
   },
   {
    "duration": 15,
    "start_time": "2023-07-06T17:29:07.668Z"
   },
   {
    "duration": 7,
    "start_time": "2023-07-06T17:29:07.685Z"
   },
   {
    "duration": 36,
    "start_time": "2023-07-06T17:29:07.694Z"
   },
   {
    "duration": 374,
    "start_time": "2023-07-06T17:29:07.732Z"
   },
   {
    "duration": 67,
    "start_time": "2023-07-06T17:29:08.108Z"
   },
   {
    "duration": 5,
    "start_time": "2023-07-06T17:29:08.176Z"
   },
   {
    "duration": 41,
    "start_time": "2023-07-06T17:29:08.183Z"
   },
   {
    "duration": 47,
    "start_time": "2023-07-06T17:29:08.226Z"
   },
   {
    "duration": 78,
    "start_time": "2023-07-06T17:29:08.275Z"
   },
   {
    "duration": 31,
    "start_time": "2023-07-06T17:29:08.354Z"
   },
   {
    "duration": 251,
    "start_time": "2023-07-06T17:29:08.387Z"
   },
   {
    "duration": 42,
    "start_time": "2023-07-06T17:29:08.640Z"
   },
   {
    "duration": 1548,
    "start_time": "2023-07-06T17:29:08.684Z"
   },
   {
    "duration": 141,
    "start_time": "2023-07-06T17:29:10.234Z"
   },
   {
    "duration": 136,
    "start_time": "2023-07-06T17:29:10.379Z"
   },
   {
    "duration": 9,
    "start_time": "2023-07-06T17:29:10.517Z"
   },
   {
    "duration": 50,
    "start_time": "2023-07-06T17:29:10.533Z"
   },
   {
    "duration": 25,
    "start_time": "2023-07-06T17:29:10.585Z"
   },
   {
    "duration": 72,
    "start_time": "2023-07-06T17:29:10.612Z"
   },
   {
    "duration": 32,
    "start_time": "2023-07-06T17:29:10.686Z"
   },
   {
    "duration": 5,
    "start_time": "2023-07-06T17:30:52.828Z"
   },
   {
    "duration": 138,
    "start_time": "2023-07-06T17:30:56.090Z"
   },
   {
    "duration": 9,
    "start_time": "2023-07-06T17:31:32.189Z"
   },
   {
    "duration": 14,
    "start_time": "2023-07-06T17:31:35.648Z"
   },
   {
    "duration": 5,
    "start_time": "2023-07-06T17:32:11.238Z"
   },
   {
    "duration": 11,
    "start_time": "2023-07-06T17:32:16.310Z"
   },
   {
    "duration": 13,
    "start_time": "2023-07-06T17:32:23.791Z"
   },
   {
    "duration": 1467,
    "start_time": "2023-07-06T17:32:30.295Z"
   },
   {
    "duration": 193,
    "start_time": "2023-07-06T17:32:31.764Z"
   },
   {
    "duration": 35,
    "start_time": "2023-07-06T17:32:31.963Z"
   },
   {
    "duration": 87,
    "start_time": "2023-07-06T17:32:32.001Z"
   },
   {
    "duration": 92,
    "start_time": "2023-07-06T17:32:32.090Z"
   },
   {
    "duration": 166,
    "start_time": "2023-07-06T17:32:32.184Z"
   },
   {
    "duration": 79,
    "start_time": "2023-07-06T17:32:32.352Z"
   },
   {
    "duration": 7,
    "start_time": "2023-07-06T17:32:32.433Z"
   },
   {
    "duration": 36,
    "start_time": "2023-07-06T17:32:32.442Z"
   },
   {
    "duration": 120,
    "start_time": "2023-07-06T17:32:32.484Z"
   },
   {
    "duration": 158,
    "start_time": "2023-07-06T17:32:32.606Z"
   },
   {
    "duration": 44,
    "start_time": "2023-07-06T17:32:32.774Z"
   },
   {
    "duration": 4,
    "start_time": "2023-07-06T17:32:32.820Z"
   },
   {
    "duration": 23,
    "start_time": "2023-07-06T17:32:32.826Z"
   },
   {
    "duration": 33,
    "start_time": "2023-07-06T17:32:32.852Z"
   },
   {
    "duration": 51,
    "start_time": "2023-07-06T17:32:32.886Z"
   },
   {
    "duration": 379,
    "start_time": "2023-07-06T17:32:32.939Z"
   },
   {
    "duration": 83,
    "start_time": "2023-07-06T17:32:33.319Z"
   },
   {
    "duration": 5,
    "start_time": "2023-07-06T17:32:33.406Z"
   },
   {
    "duration": 53,
    "start_time": "2023-07-06T17:32:33.413Z"
   },
   {
    "duration": 65,
    "start_time": "2023-07-06T17:32:33.468Z"
   },
   {
    "duration": 82,
    "start_time": "2023-07-06T17:32:33.535Z"
   },
   {
    "duration": 19,
    "start_time": "2023-07-06T17:32:33.618Z"
   },
   {
    "duration": 192,
    "start_time": "2023-07-06T17:32:33.639Z"
   },
   {
    "duration": 46,
    "start_time": "2023-07-06T17:32:33.834Z"
   },
   {
    "duration": 1143,
    "start_time": "2023-07-06T17:32:33.882Z"
   },
   {
    "duration": 96,
    "start_time": "2023-07-06T17:32:35.027Z"
   },
   {
    "duration": 147,
    "start_time": "2023-07-06T17:32:35.126Z"
   },
   {
    "duration": 9,
    "start_time": "2023-07-06T17:32:35.275Z"
   },
   {
    "duration": 147,
    "start_time": "2023-07-06T17:32:35.286Z"
   },
   {
    "duration": 0,
    "start_time": "2023-07-06T17:32:35.435Z"
   },
   {
    "duration": 0,
    "start_time": "2023-07-06T17:32:35.436Z"
   },
   {
    "duration": 0,
    "start_time": "2023-07-06T17:32:35.436Z"
   },
   {
    "duration": 6,
    "start_time": "2023-07-06T17:34:24.812Z"
   },
   {
    "duration": 17,
    "start_time": "2023-07-06T17:34:26.896Z"
   },
   {
    "duration": 23,
    "start_time": "2023-07-06T17:34:35.028Z"
   },
   {
    "duration": 1325,
    "start_time": "2023-07-06T17:34:46.690Z"
   },
   {
    "duration": 188,
    "start_time": "2023-07-06T17:34:48.017Z"
   },
   {
    "duration": 23,
    "start_time": "2023-07-06T17:34:48.207Z"
   },
   {
    "duration": 37,
    "start_time": "2023-07-06T17:34:48.232Z"
   },
   {
    "duration": 25,
    "start_time": "2023-07-06T17:34:48.273Z"
   },
   {
    "duration": 108,
    "start_time": "2023-07-06T17:34:48.300Z"
   },
   {
    "duration": 86,
    "start_time": "2023-07-06T17:34:48.410Z"
   },
   {
    "duration": 8,
    "start_time": "2023-07-06T17:34:48.498Z"
   },
   {
    "duration": 12,
    "start_time": "2023-07-06T17:34:48.507Z"
   },
   {
    "duration": 110,
    "start_time": "2023-07-06T17:34:48.520Z"
   },
   {
    "duration": 154,
    "start_time": "2023-07-06T17:34:48.632Z"
   },
   {
    "duration": 28,
    "start_time": "2023-07-06T17:34:48.791Z"
   },
   {
    "duration": 4,
    "start_time": "2023-07-06T17:34:48.820Z"
   },
   {
    "duration": 15,
    "start_time": "2023-07-06T17:34:48.827Z"
   },
   {
    "duration": 19,
    "start_time": "2023-07-06T17:34:48.843Z"
   },
   {
    "duration": 46,
    "start_time": "2023-07-06T17:34:48.864Z"
   },
   {
    "duration": 370,
    "start_time": "2023-07-06T17:34:48.912Z"
   },
   {
    "duration": 85,
    "start_time": "2023-07-06T17:34:49.283Z"
   },
   {
    "duration": 8,
    "start_time": "2023-07-06T17:34:49.381Z"
   },
   {
    "duration": 19,
    "start_time": "2023-07-06T17:34:49.396Z"
   },
   {
    "duration": 40,
    "start_time": "2023-07-06T17:34:49.417Z"
   },
   {
    "duration": 83,
    "start_time": "2023-07-06T17:34:49.459Z"
   },
   {
    "duration": 46,
    "start_time": "2023-07-06T17:34:49.543Z"
   },
   {
    "duration": 177,
    "start_time": "2023-07-06T17:34:49.592Z"
   },
   {
    "duration": 90,
    "start_time": "2023-07-06T17:34:49.779Z"
   },
   {
    "duration": 1015,
    "start_time": "2023-07-06T17:34:49.871Z"
   },
   {
    "duration": 82,
    "start_time": "2023-07-06T17:34:50.889Z"
   },
   {
    "duration": 134,
    "start_time": "2023-07-06T17:34:50.977Z"
   },
   {
    "duration": 5,
    "start_time": "2023-07-06T17:34:51.113Z"
   },
   {
    "duration": 69,
    "start_time": "2023-07-06T17:34:51.120Z"
   },
   {
    "duration": 50,
    "start_time": "2023-07-06T17:34:51.193Z"
   },
   {
    "duration": 42,
    "start_time": "2023-07-06T17:34:51.245Z"
   },
   {
    "duration": 22,
    "start_time": "2023-07-06T17:34:51.292Z"
   },
   {
    "duration": 1403,
    "start_time": "2023-07-06T17:35:57.796Z"
   },
   {
    "duration": 200,
    "start_time": "2023-07-06T17:35:59.201Z"
   },
   {
    "duration": 20,
    "start_time": "2023-07-06T17:35:59.404Z"
   },
   {
    "duration": 10,
    "start_time": "2023-07-06T17:35:59.426Z"
   },
   {
    "duration": 40,
    "start_time": "2023-07-06T17:35:59.439Z"
   },
   {
    "duration": 87,
    "start_time": "2023-07-06T17:35:59.487Z"
   },
   {
    "duration": 73,
    "start_time": "2023-07-06T17:35:59.576Z"
   },
   {
    "duration": 16,
    "start_time": "2023-07-06T17:35:59.650Z"
   },
   {
    "duration": 26,
    "start_time": "2023-07-06T17:35:59.677Z"
   },
   {
    "duration": 99,
    "start_time": "2023-07-06T17:35:59.705Z"
   },
   {
    "duration": 147,
    "start_time": "2023-07-06T17:35:59.806Z"
   },
   {
    "duration": 46,
    "start_time": "2023-07-06T17:35:59.955Z"
   },
   {
    "duration": 4,
    "start_time": "2023-07-06T17:36:00.003Z"
   },
   {
    "duration": 45,
    "start_time": "2023-07-06T17:36:00.010Z"
   },
   {
    "duration": 30,
    "start_time": "2023-07-06T17:36:00.057Z"
   },
   {
    "duration": 39,
    "start_time": "2023-07-06T17:36:00.089Z"
   },
   {
    "duration": 339,
    "start_time": "2023-07-06T17:36:00.130Z"
   },
   {
    "duration": 70,
    "start_time": "2023-07-06T17:36:00.470Z"
   },
   {
    "duration": 21,
    "start_time": "2023-07-06T17:36:00.541Z"
   },
   {
    "duration": 55,
    "start_time": "2023-07-06T17:36:00.565Z"
   },
   {
    "duration": 78,
    "start_time": "2023-07-06T17:36:00.621Z"
   },
   {
    "duration": 91,
    "start_time": "2023-07-06T17:36:00.701Z"
   },
   {
    "duration": 24,
    "start_time": "2023-07-06T17:36:00.794Z"
   },
   {
    "duration": 228,
    "start_time": "2023-07-06T17:36:00.819Z"
   },
   {
    "duration": 59,
    "start_time": "2023-07-06T17:36:01.049Z"
   },
   {
    "duration": 1036,
    "start_time": "2023-07-06T17:36:01.110Z"
   },
   {
    "duration": 106,
    "start_time": "2023-07-06T17:36:02.148Z"
   },
   {
    "duration": 142,
    "start_time": "2023-07-06T17:36:02.256Z"
   },
   {
    "duration": 8,
    "start_time": "2023-07-06T17:36:02.402Z"
   },
   {
    "duration": 31,
    "start_time": "2023-07-06T17:36:02.412Z"
   },
   {
    "duration": 48,
    "start_time": "2023-07-06T17:36:02.445Z"
   },
   {
    "duration": 63,
    "start_time": "2023-07-06T17:36:02.500Z"
   },
   {
    "duration": 38,
    "start_time": "2023-07-06T17:36:02.565Z"
   },
   {
    "duration": 1336,
    "start_time": "2023-07-06T17:50:35.393Z"
   },
   {
    "duration": 185,
    "start_time": "2023-07-06T17:50:36.731Z"
   },
   {
    "duration": 44,
    "start_time": "2023-07-06T17:50:36.917Z"
   },
   {
    "duration": 20,
    "start_time": "2023-07-06T17:50:36.963Z"
   },
   {
    "duration": 24,
    "start_time": "2023-07-06T17:50:36.985Z"
   },
   {
    "duration": 84,
    "start_time": "2023-07-06T17:50:37.011Z"
   },
   {
    "duration": 74,
    "start_time": "2023-07-06T17:50:37.097Z"
   },
   {
    "duration": 17,
    "start_time": "2023-07-06T17:50:37.181Z"
   },
   {
    "duration": 18,
    "start_time": "2023-07-06T17:50:37.200Z"
   },
   {
    "duration": 101,
    "start_time": "2023-07-06T17:50:37.219Z"
   },
   {
    "duration": 150,
    "start_time": "2023-07-06T17:50:37.322Z"
   },
   {
    "duration": 39,
    "start_time": "2023-07-06T17:50:37.473Z"
   },
   {
    "duration": 12,
    "start_time": "2023-07-06T17:50:37.514Z"
   },
   {
    "duration": 17,
    "start_time": "2023-07-06T17:50:37.529Z"
   },
   {
    "duration": 15,
    "start_time": "2023-07-06T17:50:37.562Z"
   },
   {
    "duration": 44,
    "start_time": "2023-07-06T17:50:37.579Z"
   },
   {
    "duration": 445,
    "start_time": "2023-07-06T17:50:37.624Z"
   },
   {
    "duration": 70,
    "start_time": "2023-07-06T17:50:38.071Z"
   },
   {
    "duration": 4,
    "start_time": "2023-07-06T17:50:38.143Z"
   },
   {
    "duration": 37,
    "start_time": "2023-07-06T17:50:38.149Z"
   },
   {
    "duration": 46,
    "start_time": "2023-07-06T17:50:38.189Z"
   },
   {
    "duration": 78,
    "start_time": "2023-07-06T17:50:38.237Z"
   },
   {
    "duration": 20,
    "start_time": "2023-07-06T17:50:38.316Z"
   },
   {
    "duration": 206,
    "start_time": "2023-07-06T17:50:38.337Z"
   },
   {
    "duration": 48,
    "start_time": "2023-07-06T17:50:38.546Z"
   },
   {
    "duration": 1056,
    "start_time": "2023-07-06T17:50:38.595Z"
   },
   {
    "duration": 104,
    "start_time": "2023-07-06T17:50:39.653Z"
   },
   {
    "duration": 142,
    "start_time": "2023-07-06T17:50:39.759Z"
   },
   {
    "duration": 7,
    "start_time": "2023-07-06T17:50:39.903Z"
   },
   {
    "duration": 41,
    "start_time": "2023-07-06T17:50:39.911Z"
   },
   {
    "duration": 31,
    "start_time": "2023-07-06T17:50:39.954Z"
   },
   {
    "duration": 25,
    "start_time": "2023-07-06T17:50:39.986Z"
   },
   {
    "duration": 20,
    "start_time": "2023-07-06T17:50:40.013Z"
   },
   {
    "duration": 1557,
    "start_time": "2023-07-07T17:51:59.633Z"
   },
   {
    "duration": 995,
    "start_time": "2023-07-07T17:52:01.194Z"
   },
   {
    "duration": 28,
    "start_time": "2023-07-07T17:52:02.192Z"
   },
   {
    "duration": 16,
    "start_time": "2023-07-07T17:52:02.222Z"
   },
   {
    "duration": 47,
    "start_time": "2023-07-07T17:52:02.241Z"
   },
   {
    "duration": 94,
    "start_time": "2023-07-07T17:52:02.290Z"
   },
   {
    "duration": 81,
    "start_time": "2023-07-07T17:52:02.386Z"
   },
   {
    "duration": 7,
    "start_time": "2023-07-07T17:52:02.469Z"
   },
   {
    "duration": 11,
    "start_time": "2023-07-07T17:52:02.478Z"
   },
   {
    "duration": 91,
    "start_time": "2023-07-07T17:52:02.491Z"
   },
   {
    "duration": 131,
    "start_time": "2023-07-07T17:52:02.583Z"
   },
   {
    "duration": 27,
    "start_time": "2023-07-07T17:52:02.716Z"
   },
   {
    "duration": 3,
    "start_time": "2023-07-07T17:52:02.745Z"
   },
   {
    "duration": 25,
    "start_time": "2023-07-07T17:52:02.751Z"
   },
   {
    "duration": 8,
    "start_time": "2023-07-07T17:52:02.778Z"
   },
   {
    "duration": 53,
    "start_time": "2023-07-07T17:52:02.787Z"
   },
   {
    "duration": 316,
    "start_time": "2023-07-07T17:52:02.842Z"
   },
   {
    "duration": 28,
    "start_time": "2023-07-07T17:52:03.160Z"
   },
   {
    "duration": 50,
    "start_time": "2023-07-07T17:52:03.190Z"
   },
   {
    "duration": 5,
    "start_time": "2023-07-07T17:52:03.243Z"
   },
   {
    "duration": 38,
    "start_time": "2023-07-07T17:52:03.250Z"
   },
   {
    "duration": 51,
    "start_time": "2023-07-07T17:52:03.290Z"
   },
   {
    "duration": 71,
    "start_time": "2023-07-07T17:52:03.343Z"
   },
   {
    "duration": 5,
    "start_time": "2023-07-07T17:52:03.416Z"
   },
   {
    "duration": 34,
    "start_time": "2023-07-07T17:52:03.423Z"
   },
   {
    "duration": 385,
    "start_time": "2023-07-07T17:52:03.459Z"
   },
   {
    "duration": 86,
    "start_time": "2023-07-07T17:52:03.849Z"
   },
   {
    "duration": 903,
    "start_time": "2023-07-07T17:52:03.938Z"
   },
   {
    "duration": 87,
    "start_time": "2023-07-07T17:52:04.842Z"
   },
   {
    "duration": 123,
    "start_time": "2023-07-07T17:52:04.931Z"
   },
   {
    "duration": 5,
    "start_time": "2023-07-07T17:52:05.056Z"
   },
   {
    "duration": 62,
    "start_time": "2023-07-07T17:52:05.063Z"
   },
   {
    "duration": 33,
    "start_time": "2023-07-07T17:52:05.127Z"
   },
   {
    "duration": 21,
    "start_time": "2023-07-07T17:52:05.161Z"
   },
   {
    "duration": 32,
    "start_time": "2023-07-07T17:52:05.183Z"
   },
   {
    "duration": 1359,
    "start_time": "2023-07-08T06:44:10.870Z"
   },
   {
    "duration": 461,
    "start_time": "2023-07-08T06:44:12.231Z"
   },
   {
    "duration": 19,
    "start_time": "2023-07-08T06:44:12.694Z"
   },
   {
    "duration": 10,
    "start_time": "2023-07-08T06:44:12.714Z"
   },
   {
    "duration": 12,
    "start_time": "2023-07-08T06:44:12.726Z"
   },
   {
    "duration": 76,
    "start_time": "2023-07-08T06:44:12.739Z"
   },
   {
    "duration": 57,
    "start_time": "2023-07-08T06:44:12.816Z"
   },
   {
    "duration": 7,
    "start_time": "2023-07-08T06:44:12.874Z"
   },
   {
    "duration": 9,
    "start_time": "2023-07-08T06:44:12.883Z"
   },
   {
    "duration": 81,
    "start_time": "2023-07-08T06:44:12.893Z"
   },
   {
    "duration": 126,
    "start_time": "2023-07-08T06:44:12.976Z"
   },
   {
    "duration": 29,
    "start_time": "2023-07-08T06:44:13.104Z"
   },
   {
    "duration": 4,
    "start_time": "2023-07-08T06:44:13.134Z"
   },
   {
    "duration": 17,
    "start_time": "2023-07-08T06:44:13.154Z"
   },
   {
    "duration": 7,
    "start_time": "2023-07-08T06:44:13.172Z"
   },
   {
    "duration": 30,
    "start_time": "2023-07-08T06:44:13.181Z"
   },
   {
    "duration": 288,
    "start_time": "2023-07-08T06:44:13.213Z"
   },
   {
    "duration": 22,
    "start_time": "2023-07-08T06:44:13.504Z"
   },
   {
    "duration": 48,
    "start_time": "2023-07-08T06:44:13.528Z"
   },
   {
    "duration": 5,
    "start_time": "2023-07-08T06:44:13.578Z"
   },
   {
    "duration": 23,
    "start_time": "2023-07-08T06:44:13.585Z"
   },
   {
    "duration": 50,
    "start_time": "2023-07-08T06:44:13.610Z"
   },
   {
    "duration": 55,
    "start_time": "2023-07-08T06:44:13.662Z"
   },
   {
    "duration": 4,
    "start_time": "2023-07-08T06:44:13.718Z"
   },
   {
    "duration": 29,
    "start_time": "2023-07-08T06:44:13.724Z"
   },
   {
    "duration": 144,
    "start_time": "2023-07-08T06:44:13.754Z"
   },
   {
    "duration": 52,
    "start_time": "2023-07-08T06:44:13.902Z"
   },
   {
    "duration": 755,
    "start_time": "2023-07-08T06:44:13.955Z"
   },
   {
    "duration": 83,
    "start_time": "2023-07-08T06:44:14.711Z"
   },
   {
    "duration": 108,
    "start_time": "2023-07-08T06:44:14.796Z"
   },
   {
    "duration": 5,
    "start_time": "2023-07-08T06:44:14.906Z"
   },
   {
    "duration": 24,
    "start_time": "2023-07-08T06:44:14.913Z"
   },
   {
    "duration": 24,
    "start_time": "2023-07-08T06:44:14.938Z"
   },
   {
    "duration": 17,
    "start_time": "2023-07-08T06:44:14.964Z"
   },
   {
    "duration": 17,
    "start_time": "2023-07-08T06:44:14.983Z"
   },
   {
    "duration": 1269,
    "start_time": "2023-07-08T06:51:41.397Z"
   },
   {
    "duration": 155,
    "start_time": "2023-07-08T06:51:42.668Z"
   },
   {
    "duration": 21,
    "start_time": "2023-07-08T06:51:42.824Z"
   },
   {
    "duration": 14,
    "start_time": "2023-07-08T06:51:42.847Z"
   },
   {
    "duration": 14,
    "start_time": "2023-07-08T06:51:42.863Z"
   },
   {
    "duration": 94,
    "start_time": "2023-07-08T06:51:42.878Z"
   },
   {
    "duration": 66,
    "start_time": "2023-07-08T06:51:42.974Z"
   },
   {
    "duration": 8,
    "start_time": "2023-07-08T06:51:43.053Z"
   },
   {
    "duration": 19,
    "start_time": "2023-07-08T06:51:43.063Z"
   },
   {
    "duration": 88,
    "start_time": "2023-07-08T06:51:43.085Z"
   },
   {
    "duration": 130,
    "start_time": "2023-07-08T06:51:43.174Z"
   },
   {
    "duration": 28,
    "start_time": "2023-07-08T06:51:43.305Z"
   },
   {
    "duration": 18,
    "start_time": "2023-07-08T06:51:43.335Z"
   },
   {
    "duration": 13,
    "start_time": "2023-07-08T06:51:43.355Z"
   },
   {
    "duration": 20,
    "start_time": "2023-07-08T06:51:43.370Z"
   },
   {
    "duration": 28,
    "start_time": "2023-07-08T06:51:43.393Z"
   },
   {
    "duration": 334,
    "start_time": "2023-07-08T06:51:43.422Z"
   },
   {
    "duration": 24,
    "start_time": "2023-07-08T06:51:43.758Z"
   },
   {
    "duration": 36,
    "start_time": "2023-07-08T06:51:43.784Z"
   },
   {
    "duration": 4,
    "start_time": "2023-07-08T06:51:43.822Z"
   },
   {
    "duration": 17,
    "start_time": "2023-07-08T06:51:43.851Z"
   },
   {
    "duration": 39,
    "start_time": "2023-07-08T06:51:43.871Z"
   },
   {
    "duration": 98,
    "start_time": "2023-07-08T06:51:43.912Z"
   },
   {
    "duration": 5,
    "start_time": "2023-07-08T06:51:44.012Z"
   },
   {
    "duration": 20,
    "start_time": "2023-07-08T06:51:44.018Z"
   },
   {
    "duration": 237,
    "start_time": "2023-07-08T06:51:44.040Z"
   },
   {
    "duration": 41,
    "start_time": "2023-07-08T06:51:44.279Z"
   },
   {
    "duration": 1279,
    "start_time": "2023-07-08T06:51:44.323Z"
   },
   {
    "duration": 116,
    "start_time": "2023-07-08T06:51:45.604Z"
   },
   {
    "duration": 147,
    "start_time": "2023-07-08T06:51:45.722Z"
   },
   {
    "duration": 7,
    "start_time": "2023-07-08T06:51:45.872Z"
   },
   {
    "duration": 50,
    "start_time": "2023-07-08T06:51:45.882Z"
   },
   {
    "duration": 35,
    "start_time": "2023-07-08T06:51:45.934Z"
   },
   {
    "duration": 22,
    "start_time": "2023-07-08T06:51:45.971Z"
   },
   {
    "duration": 23,
    "start_time": "2023-07-08T06:51:45.995Z"
   },
   {
    "duration": 4,
    "start_time": "2023-07-08T06:56:42.625Z"
   },
   {
    "duration": 160,
    "start_time": "2023-07-08T06:56:43.872Z"
   },
   {
    "duration": 4,
    "start_time": "2023-07-08T07:09:31.534Z"
   },
   {
    "duration": 1443,
    "start_time": "2023-07-08T07:11:26.747Z"
   },
   {
    "duration": 187,
    "start_time": "2023-07-08T07:11:28.193Z"
   },
   {
    "duration": 26,
    "start_time": "2023-07-08T07:11:28.382Z"
   },
   {
    "duration": 14,
    "start_time": "2023-07-08T07:11:28.411Z"
   },
   {
    "duration": 40,
    "start_time": "2023-07-08T07:11:28.427Z"
   },
   {
    "duration": 116,
    "start_time": "2023-07-08T07:11:28.469Z"
   },
   {
    "duration": 90,
    "start_time": "2023-07-08T07:11:28.587Z"
   },
   {
    "duration": 8,
    "start_time": "2023-07-08T07:11:28.680Z"
   },
   {
    "duration": 24,
    "start_time": "2023-07-08T07:11:28.690Z"
   },
   {
    "duration": 110,
    "start_time": "2023-07-08T07:11:28.717Z"
   },
   {
    "duration": 148,
    "start_time": "2023-07-08T07:11:28.830Z"
   },
   {
    "duration": 36,
    "start_time": "2023-07-08T07:11:28.980Z"
   },
   {
    "duration": 21,
    "start_time": "2023-07-08T07:11:29.018Z"
   },
   {
    "duration": 15,
    "start_time": "2023-07-08T07:11:29.041Z"
   },
   {
    "duration": 12,
    "start_time": "2023-07-08T07:11:29.058Z"
   },
   {
    "duration": 34,
    "start_time": "2023-07-08T07:11:29.072Z"
   },
   {
    "duration": 359,
    "start_time": "2023-07-08T07:11:29.108Z"
   },
   {
    "duration": 24,
    "start_time": "2023-07-08T07:11:29.468Z"
   },
   {
    "duration": 38,
    "start_time": "2023-07-08T07:11:29.494Z"
   },
   {
    "duration": 4,
    "start_time": "2023-07-08T07:11:29.552Z"
   },
   {
    "duration": 23,
    "start_time": "2023-07-08T07:11:29.558Z"
   },
   {
    "duration": 38,
    "start_time": "2023-07-08T07:11:29.583Z"
   },
   {
    "duration": 87,
    "start_time": "2023-07-08T07:11:29.623Z"
   },
   {
    "duration": 5,
    "start_time": "2023-07-08T07:11:29.712Z"
   },
   {
    "duration": 45,
    "start_time": "2023-07-08T07:11:29.719Z"
   },
   {
    "duration": 160,
    "start_time": "2023-07-08T07:11:29.766Z"
   },
   {
    "duration": 35,
    "start_time": "2023-07-08T07:11:29.929Z"
   },
   {
    "duration": 1041,
    "start_time": "2023-07-08T07:11:29.967Z"
   },
   {
    "duration": 120,
    "start_time": "2023-07-08T07:11:31.010Z"
   },
   {
    "duration": 170,
    "start_time": "2023-07-08T07:11:31.137Z"
   },
   {
    "duration": 7,
    "start_time": "2023-07-08T07:11:31.309Z"
   },
   {
    "duration": 85,
    "start_time": "2023-07-08T07:11:31.318Z"
   },
   {
    "duration": 81,
    "start_time": "2023-07-08T07:11:31.405Z"
   },
   {
    "duration": 43,
    "start_time": "2023-07-08T07:11:31.488Z"
   },
   {
    "duration": 91,
    "start_time": "2023-07-08T07:11:31.532Z"
   },
   {
    "duration": 70,
    "start_time": "2023-07-08T07:41:01.001Z"
   },
   {
    "duration": 30,
    "start_time": "2023-07-08T07:41:31.791Z"
   },
   {
    "duration": 29,
    "start_time": "2023-07-08T07:43:56.675Z"
   },
   {
    "duration": 196,
    "start_time": "2023-07-08T07:51:37.149Z"
   },
   {
    "duration": 1743,
    "start_time": "2023-07-08T07:51:46.441Z"
   },
   {
    "duration": 185,
    "start_time": "2023-07-08T07:51:48.187Z"
   },
   {
    "duration": 32,
    "start_time": "2023-07-08T07:51:48.374Z"
   },
   {
    "duration": 14,
    "start_time": "2023-07-08T07:51:48.409Z"
   },
   {
    "duration": 26,
    "start_time": "2023-07-08T07:51:48.425Z"
   },
   {
    "duration": 163,
    "start_time": "2023-07-08T07:51:48.453Z"
   },
   {
    "duration": 95,
    "start_time": "2023-07-08T07:51:48.618Z"
   },
   {
    "duration": 8,
    "start_time": "2023-07-08T07:51:48.716Z"
   },
   {
    "duration": 33,
    "start_time": "2023-07-08T07:51:48.726Z"
   },
   {
    "duration": 179,
    "start_time": "2023-07-08T07:51:48.763Z"
   },
   {
    "duration": 172,
    "start_time": "2023-07-08T07:51:48.945Z"
   },
   {
    "duration": 49,
    "start_time": "2023-07-08T07:51:49.119Z"
   },
   {
    "duration": 5,
    "start_time": "2023-07-08T07:51:49.170Z"
   },
   {
    "duration": 59,
    "start_time": "2023-07-08T07:51:49.177Z"
   },
   {
    "duration": 93,
    "start_time": "2023-07-08T07:51:49.238Z"
   },
   {
    "duration": 170,
    "start_time": "2023-07-08T07:51:49.333Z"
   },
   {
    "duration": 0,
    "start_time": "2023-07-08T07:51:49.505Z"
   },
   {
    "duration": 0,
    "start_time": "2023-07-08T07:51:49.508Z"
   },
   {
    "duration": 0,
    "start_time": "2023-07-08T07:51:49.509Z"
   },
   {
    "duration": 0,
    "start_time": "2023-07-08T07:51:49.511Z"
   },
   {
    "duration": 0,
    "start_time": "2023-07-08T07:51:49.512Z"
   },
   {
    "duration": 0,
    "start_time": "2023-07-08T07:51:49.513Z"
   },
   {
    "duration": 0,
    "start_time": "2023-07-08T07:51:49.514Z"
   },
   {
    "duration": 0,
    "start_time": "2023-07-08T07:51:49.515Z"
   },
   {
    "duration": 0,
    "start_time": "2023-07-08T07:51:49.516Z"
   },
   {
    "duration": 0,
    "start_time": "2023-07-08T07:51:49.517Z"
   },
   {
    "duration": 0,
    "start_time": "2023-07-08T07:51:49.519Z"
   },
   {
    "duration": 0,
    "start_time": "2023-07-08T07:51:49.519Z"
   },
   {
    "duration": 0,
    "start_time": "2023-07-08T07:51:49.526Z"
   },
   {
    "duration": 0,
    "start_time": "2023-07-08T07:51:49.527Z"
   },
   {
    "duration": 0,
    "start_time": "2023-07-08T07:51:49.528Z"
   },
   {
    "duration": 0,
    "start_time": "2023-07-08T07:51:49.529Z"
   },
   {
    "duration": 0,
    "start_time": "2023-07-08T07:51:49.530Z"
   },
   {
    "duration": 0,
    "start_time": "2023-07-08T07:51:49.531Z"
   },
   {
    "duration": 0,
    "start_time": "2023-07-08T07:51:49.532Z"
   },
   {
    "duration": 0,
    "start_time": "2023-07-08T07:51:49.534Z"
   },
   {
    "duration": 20,
    "start_time": "2023-07-08T07:52:24.741Z"
   },
   {
    "duration": 18,
    "start_time": "2023-07-08T08:04:13.350Z"
   },
   {
    "duration": 13,
    "start_time": "2023-07-08T08:09:45.400Z"
   },
   {
    "duration": 13,
    "start_time": "2023-07-08T08:09:52.140Z"
   },
   {
    "duration": 13,
    "start_time": "2023-07-08T08:10:00.143Z"
   },
   {
    "duration": 55,
    "start_time": "2023-07-08T08:15:20.989Z"
   },
   {
    "duration": 354,
    "start_time": "2023-07-08T08:20:59.087Z"
   },
   {
    "duration": 353,
    "start_time": "2023-07-08T08:21:30.185Z"
   },
   {
    "duration": 453,
    "start_time": "2023-07-08T08:23:07.447Z"
   },
   {
    "duration": 547,
    "start_time": "2023-07-08T08:23:35.519Z"
   },
   {
    "duration": 421,
    "start_time": "2023-07-08T08:23:46.229Z"
   },
   {
    "duration": 2083,
    "start_time": "2023-07-08T08:27:46.009Z"
   },
   {
    "duration": 270,
    "start_time": "2023-07-08T08:27:48.104Z"
   },
   {
    "duration": 45,
    "start_time": "2023-07-08T08:27:48.383Z"
   },
   {
    "duration": 35,
    "start_time": "2023-07-08T08:27:48.436Z"
   },
   {
    "duration": 165,
    "start_time": "2023-07-08T08:27:48.483Z"
   },
   {
    "duration": 236,
    "start_time": "2023-07-08T08:27:48.655Z"
   },
   {
    "duration": 136,
    "start_time": "2023-07-08T08:27:48.898Z"
   },
   {
    "duration": 101,
    "start_time": "2023-07-08T08:27:49.042Z"
   },
   {
    "duration": 87,
    "start_time": "2023-07-08T08:27:49.150Z"
   },
   {
    "duration": 195,
    "start_time": "2023-07-08T08:27:49.245Z"
   },
   {
    "duration": 189,
    "start_time": "2023-07-08T08:27:49.444Z"
   },
   {
    "duration": 61,
    "start_time": "2023-07-08T08:27:49.636Z"
   },
   {
    "duration": 29,
    "start_time": "2023-07-08T08:27:49.700Z"
   },
   {
    "duration": 65,
    "start_time": "2023-07-08T08:27:49.733Z"
   },
   {
    "duration": 80,
    "start_time": "2023-07-08T08:27:49.801Z"
   },
   {
    "duration": 60,
    "start_time": "2023-07-08T08:27:49.883Z"
   },
   {
    "duration": 470,
    "start_time": "2023-07-08T08:27:49.946Z"
   },
   {
    "duration": 42,
    "start_time": "2023-07-08T08:27:50.421Z"
   },
   {
    "duration": 134,
    "start_time": "2023-07-08T08:27:50.471Z"
   },
   {
    "duration": 25,
    "start_time": "2023-07-08T08:27:50.619Z"
   },
   {
    "duration": 80,
    "start_time": "2023-07-08T08:27:50.646Z"
   },
   {
    "duration": 56,
    "start_time": "2023-07-08T08:27:50.730Z"
   },
   {
    "duration": 123,
    "start_time": "2023-07-08T08:27:50.788Z"
   },
   {
    "duration": 7,
    "start_time": "2023-07-08T08:27:50.914Z"
   },
   {
    "duration": 83,
    "start_time": "2023-07-08T08:27:50.923Z"
   },
   {
    "duration": 268,
    "start_time": "2023-07-08T08:27:51.008Z"
   },
   {
    "duration": 81,
    "start_time": "2023-07-08T08:27:51.279Z"
   },
   {
    "duration": 1353,
    "start_time": "2023-07-08T08:27:51.362Z"
   },
   {
    "duration": 125,
    "start_time": "2023-07-08T08:27:52.718Z"
   },
   {
    "duration": 174,
    "start_time": "2023-07-08T08:27:52.845Z"
   },
   {
    "duration": 7,
    "start_time": "2023-07-08T08:27:53.022Z"
   },
   {
    "duration": 48,
    "start_time": "2023-07-08T08:27:53.031Z"
   },
   {
    "duration": 51,
    "start_time": "2023-07-08T08:27:53.082Z"
   },
   {
    "duration": 30,
    "start_time": "2023-07-08T08:27:53.138Z"
   },
   {
    "duration": 63,
    "start_time": "2023-07-08T08:27:53.170Z"
   },
   {
    "duration": 160,
    "start_time": "2023-07-08T08:39:35.220Z"
   },
   {
    "duration": 1052,
    "start_time": "2023-07-08T08:41:56.641Z"
   },
   {
    "duration": 74,
    "start_time": "2023-07-08T08:42:57.207Z"
   },
   {
    "duration": 39,
    "start_time": "2023-07-08T08:44:53.206Z"
   },
   {
    "duration": 52,
    "start_time": "2023-07-08T08:45:24.950Z"
   },
   {
    "duration": 1672,
    "start_time": "2023-07-08T08:47:52.334Z"
   },
   {
    "duration": 188,
    "start_time": "2023-07-08T08:47:54.009Z"
   },
   {
    "duration": 26,
    "start_time": "2023-07-08T08:47:54.199Z"
   },
   {
    "duration": 30,
    "start_time": "2023-07-08T08:47:54.228Z"
   },
   {
    "duration": 67,
    "start_time": "2023-07-08T08:47:54.260Z"
   },
   {
    "duration": 89,
    "start_time": "2023-07-08T08:47:54.329Z"
   },
   {
    "duration": 101,
    "start_time": "2023-07-08T08:47:54.420Z"
   },
   {
    "duration": 8,
    "start_time": "2023-07-08T08:47:54.523Z"
   },
   {
    "duration": 27,
    "start_time": "2023-07-08T08:47:54.533Z"
   },
   {
    "duration": 130,
    "start_time": "2023-07-08T08:47:54.575Z"
   },
   {
    "duration": 187,
    "start_time": "2023-07-08T08:47:54.707Z"
   },
   {
    "duration": 41,
    "start_time": "2023-07-08T08:47:54.896Z"
   },
   {
    "duration": 4,
    "start_time": "2023-07-08T08:47:54.939Z"
   },
   {
    "duration": 36,
    "start_time": "2023-07-08T08:47:54.955Z"
   },
   {
    "duration": 84,
    "start_time": "2023-07-08T08:47:54.993Z"
   },
   {
    "duration": 50,
    "start_time": "2023-07-08T08:47:55.079Z"
   },
   {
    "duration": 474,
    "start_time": "2023-07-08T08:47:55.131Z"
   },
   {
    "duration": 28,
    "start_time": "2023-07-08T08:47:55.607Z"
   },
   {
    "duration": 114,
    "start_time": "2023-07-08T08:47:55.637Z"
   },
   {
    "duration": 176,
    "start_time": "2023-07-08T08:47:55.757Z"
   },
   {
    "duration": 0,
    "start_time": "2023-07-08T08:47:55.935Z"
   },
   {
    "duration": 0,
    "start_time": "2023-07-08T08:47:55.936Z"
   },
   {
    "duration": 0,
    "start_time": "2023-07-08T08:47:55.938Z"
   },
   {
    "duration": 0,
    "start_time": "2023-07-08T08:47:55.939Z"
   },
   {
    "duration": 0,
    "start_time": "2023-07-08T08:47:55.940Z"
   },
   {
    "duration": 0,
    "start_time": "2023-07-08T08:47:55.953Z"
   },
   {
    "duration": 0,
    "start_time": "2023-07-08T08:47:55.955Z"
   },
   {
    "duration": 0,
    "start_time": "2023-07-08T08:47:55.956Z"
   },
   {
    "duration": 0,
    "start_time": "2023-07-08T08:47:55.957Z"
   },
   {
    "duration": 0,
    "start_time": "2023-07-08T08:47:55.959Z"
   },
   {
    "duration": 0,
    "start_time": "2023-07-08T08:47:55.960Z"
   },
   {
    "duration": 0,
    "start_time": "2023-07-08T08:47:55.962Z"
   },
   {
    "duration": 0,
    "start_time": "2023-07-08T08:47:55.963Z"
   },
   {
    "duration": 0,
    "start_time": "2023-07-08T08:47:55.964Z"
   },
   {
    "duration": 0,
    "start_time": "2023-07-08T08:47:55.966Z"
   },
   {
    "duration": 0,
    "start_time": "2023-07-08T08:47:55.967Z"
   },
   {
    "duration": 331,
    "start_time": "2023-07-08T08:49:15.397Z"
   },
   {
    "duration": 63,
    "start_time": "2023-07-08T08:49:31.440Z"
   },
   {
    "duration": 41,
    "start_time": "2023-07-08T08:49:43.336Z"
   },
   {
    "duration": 61,
    "start_time": "2023-07-08T08:52:18.382Z"
   },
   {
    "duration": 46,
    "start_time": "2023-07-08T08:52:52.891Z"
   },
   {
    "duration": 58,
    "start_time": "2023-07-08T09:32:02.131Z"
   },
   {
    "duration": 14,
    "start_time": "2023-07-08T09:35:42.791Z"
   },
   {
    "duration": 10,
    "start_time": "2023-07-08T09:35:53.112Z"
   },
   {
    "duration": 147,
    "start_time": "2023-07-08T09:37:22.292Z"
   },
   {
    "duration": 18,
    "start_time": "2023-07-08T09:37:38.840Z"
   },
   {
    "duration": 3809,
    "start_time": "2023-07-08T09:41:00.331Z"
   },
   {
    "duration": 203,
    "start_time": "2023-07-08T09:41:04.142Z"
   },
   {
    "duration": 35,
    "start_time": "2023-07-08T09:41:04.346Z"
   },
   {
    "duration": 21,
    "start_time": "2023-07-08T09:41:04.383Z"
   },
   {
    "duration": 24,
    "start_time": "2023-07-08T09:41:04.405Z"
   },
   {
    "duration": 69,
    "start_time": "2023-07-08T09:41:04.430Z"
   },
   {
    "duration": 69,
    "start_time": "2023-07-08T09:41:04.500Z"
   },
   {
    "duration": 10,
    "start_time": "2023-07-08T09:41:04.570Z"
   },
   {
    "duration": 18,
    "start_time": "2023-07-08T09:41:04.581Z"
   },
   {
    "duration": 103,
    "start_time": "2023-07-08T09:41:04.601Z"
   },
   {
    "duration": 144,
    "start_time": "2023-07-08T09:41:04.705Z"
   },
   {
    "duration": 40,
    "start_time": "2023-07-08T09:41:04.851Z"
   },
   {
    "duration": 9,
    "start_time": "2023-07-08T09:41:04.893Z"
   },
   {
    "duration": 8,
    "start_time": "2023-07-08T09:41:04.904Z"
   },
   {
    "duration": 54,
    "start_time": "2023-07-08T09:41:04.913Z"
   },
   {
    "duration": 38,
    "start_time": "2023-07-08T09:41:04.969Z"
   },
   {
    "duration": 479,
    "start_time": "2023-07-08T09:41:05.009Z"
   },
   {
    "duration": 26,
    "start_time": "2023-07-08T09:41:05.490Z"
   },
   {
    "duration": 63,
    "start_time": "2023-07-08T09:41:05.519Z"
   },
   {
    "duration": 140,
    "start_time": "2023-07-08T09:41:05.584Z"
   },
   {
    "duration": 0,
    "start_time": "2023-07-08T09:41:05.726Z"
   },
   {
    "duration": 0,
    "start_time": "2023-07-08T09:41:05.727Z"
   },
   {
    "duration": 0,
    "start_time": "2023-07-08T09:41:05.728Z"
   },
   {
    "duration": 0,
    "start_time": "2023-07-08T09:41:05.729Z"
   },
   {
    "duration": 0,
    "start_time": "2023-07-08T09:41:05.731Z"
   },
   {
    "duration": 0,
    "start_time": "2023-07-08T09:41:05.731Z"
   },
   {
    "duration": 0,
    "start_time": "2023-07-08T09:41:05.732Z"
   },
   {
    "duration": 0,
    "start_time": "2023-07-08T09:41:05.754Z"
   },
   {
    "duration": 0,
    "start_time": "2023-07-08T09:41:05.755Z"
   },
   {
    "duration": 0,
    "start_time": "2023-07-08T09:41:05.755Z"
   },
   {
    "duration": 0,
    "start_time": "2023-07-08T09:41:05.756Z"
   },
   {
    "duration": 0,
    "start_time": "2023-07-08T09:41:05.757Z"
   },
   {
    "duration": 0,
    "start_time": "2023-07-08T09:41:05.757Z"
   },
   {
    "duration": 0,
    "start_time": "2023-07-08T09:41:05.760Z"
   },
   {
    "duration": 0,
    "start_time": "2023-07-08T09:41:05.761Z"
   },
   {
    "duration": 3,
    "start_time": "2023-07-08T09:41:51.297Z"
   },
   {
    "duration": 1421,
    "start_time": "2023-07-08T09:41:56.120Z"
   },
   {
    "duration": 185,
    "start_time": "2023-07-08T09:41:57.543Z"
   },
   {
    "duration": 41,
    "start_time": "2023-07-08T09:41:57.730Z"
   },
   {
    "duration": 14,
    "start_time": "2023-07-08T09:41:57.777Z"
   },
   {
    "duration": 18,
    "start_time": "2023-07-08T09:41:57.793Z"
   },
   {
    "duration": 74,
    "start_time": "2023-07-08T09:41:57.812Z"
   },
   {
    "duration": 86,
    "start_time": "2023-07-08T09:41:57.889Z"
   },
   {
    "duration": 8,
    "start_time": "2023-07-08T09:41:57.976Z"
   },
   {
    "duration": 20,
    "start_time": "2023-07-08T09:41:57.986Z"
   },
   {
    "duration": 131,
    "start_time": "2023-07-08T09:41:58.009Z"
   },
   {
    "duration": 182,
    "start_time": "2023-07-08T09:41:58.143Z"
   },
   {
    "duration": 52,
    "start_time": "2023-07-08T09:41:58.329Z"
   },
   {
    "duration": 8,
    "start_time": "2023-07-08T09:41:58.385Z"
   },
   {
    "duration": 12,
    "start_time": "2023-07-08T09:41:58.396Z"
   },
   {
    "duration": 62,
    "start_time": "2023-07-08T09:41:58.411Z"
   },
   {
    "duration": 45,
    "start_time": "2023-07-08T09:41:58.475Z"
   },
   {
    "duration": 379,
    "start_time": "2023-07-08T09:41:58.523Z"
   },
   {
    "duration": 26,
    "start_time": "2023-07-08T09:41:58.904Z"
   },
   {
    "duration": 63,
    "start_time": "2023-07-08T09:41:58.931Z"
   },
   {
    "duration": 4,
    "start_time": "2023-07-08T09:41:58.997Z"
   },
   {
    "duration": 13,
    "start_time": "2023-07-08T09:41:59.003Z"
   },
   {
    "duration": 23,
    "start_time": "2023-07-08T09:41:59.017Z"
   },
   {
    "duration": 68,
    "start_time": "2023-07-08T09:41:59.041Z"
   },
   {
    "duration": 90,
    "start_time": "2023-07-08T09:41:59.111Z"
   },
   {
    "duration": 5,
    "start_time": "2023-07-08T09:41:59.203Z"
   },
   {
    "duration": 219,
    "start_time": "2023-07-08T09:41:59.210Z"
   },
   {
    "duration": 42,
    "start_time": "2023-07-08T09:41:59.432Z"
   },
   {
    "duration": 989,
    "start_time": "2023-07-08T09:41:59.478Z"
   },
   {
    "duration": 101,
    "start_time": "2023-07-08T09:42:00.469Z"
   },
   {
    "duration": 114,
    "start_time": "2023-07-08T09:42:00.584Z"
   },
   {
    "duration": 18,
    "start_time": "2023-07-08T09:42:00.700Z"
   },
   {
    "duration": 278,
    "start_time": "2023-07-08T09:42:00.720Z"
   },
   {
    "duration": 92,
    "start_time": "2023-07-08T09:42:01.000Z"
   },
   {
    "duration": 52,
    "start_time": "2023-07-08T09:42:01.095Z"
   },
   {
    "duration": 45,
    "start_time": "2023-07-08T09:42:01.149Z"
   },
   {
    "duration": 218,
    "start_time": "2023-07-08T09:46:04.582Z"
   },
   {
    "duration": 12,
    "start_time": "2023-07-08T09:46:42.881Z"
   },
   {
    "duration": 42,
    "start_time": "2023-07-08T09:50:13.672Z"
   },
   {
    "duration": 35,
    "start_time": "2023-07-08T10:29:03.506Z"
   },
   {
    "duration": 7642,
    "start_time": "2023-07-08T10:29:10.291Z"
   },
   {
    "duration": 974,
    "start_time": "2023-07-08T10:29:17.935Z"
   },
   {
    "duration": 48,
    "start_time": "2023-07-08T10:29:18.915Z"
   },
   {
    "duration": 19,
    "start_time": "2023-07-08T10:29:18.969Z"
   },
   {
    "duration": 71,
    "start_time": "2023-07-08T10:29:18.994Z"
   },
   {
    "duration": 165,
    "start_time": "2023-07-08T10:29:19.070Z"
   },
   {
    "duration": 193,
    "start_time": "2023-07-08T10:29:19.237Z"
   },
   {
    "duration": 36,
    "start_time": "2023-07-08T10:29:19.433Z"
   },
   {
    "duration": 64,
    "start_time": "2023-07-08T10:29:19.479Z"
   },
   {
    "duration": 125,
    "start_time": "2023-07-08T10:29:19.546Z"
   },
   {
    "duration": 199,
    "start_time": "2023-07-08T10:29:19.673Z"
   },
   {
    "duration": 38,
    "start_time": "2023-07-08T10:29:19.874Z"
   },
   {
    "duration": 14,
    "start_time": "2023-07-08T10:29:19.913Z"
   },
   {
    "duration": 15,
    "start_time": "2023-07-08T10:29:19.929Z"
   },
   {
    "duration": 65,
    "start_time": "2023-07-08T10:29:19.946Z"
   },
   {
    "duration": 130,
    "start_time": "2023-07-08T10:29:20.013Z"
   },
   {
    "duration": 439,
    "start_time": "2023-07-08T10:29:20.145Z"
   },
   {
    "duration": 43,
    "start_time": "2023-07-08T10:29:20.591Z"
   },
   {
    "duration": 76,
    "start_time": "2023-07-08T10:29:20.638Z"
   },
   {
    "duration": 52,
    "start_time": "2023-07-08T10:29:20.719Z"
   },
   {
    "duration": 51,
    "start_time": "2023-07-08T10:29:20.774Z"
   },
   {
    "duration": 65,
    "start_time": "2023-07-08T10:29:20.828Z"
   },
   {
    "duration": 109,
    "start_time": "2023-07-08T10:29:20.898Z"
   },
   {
    "duration": 179,
    "start_time": "2023-07-08T10:29:21.010Z"
   },
   {
    "duration": 9,
    "start_time": "2023-07-08T10:29:21.194Z"
   },
   {
    "duration": 104,
    "start_time": "2023-07-08T10:29:21.208Z"
   },
   {
    "duration": 2127,
    "start_time": "2023-07-08T10:29:21.318Z"
   },
   {
    "duration": 63,
    "start_time": "2023-07-08T10:29:23.448Z"
   },
   {
    "duration": 1127,
    "start_time": "2023-07-08T10:29:23.513Z"
   },
   {
    "duration": 100,
    "start_time": "2023-07-08T10:29:24.645Z"
   },
   {
    "duration": 128,
    "start_time": "2023-07-08T10:29:24.747Z"
   },
   {
    "duration": 11,
    "start_time": "2023-07-08T10:29:24.877Z"
   },
   {
    "duration": 78,
    "start_time": "2023-07-08T10:29:24.890Z"
   },
   {
    "duration": 81,
    "start_time": "2023-07-08T10:29:24.970Z"
   },
   {
    "duration": 42,
    "start_time": "2023-07-08T10:29:25.065Z"
   },
   {
    "duration": 72,
    "start_time": "2023-07-08T10:29:25.111Z"
   },
   {
    "duration": 146,
    "start_time": "2023-07-08T10:33:02.382Z"
   },
   {
    "duration": 2550,
    "start_time": "2023-07-08T10:36:00.080Z"
   },
   {
    "duration": 2847,
    "start_time": "2023-07-08T10:36:14.193Z"
   },
   {
    "duration": 2221,
    "start_time": "2023-07-08T10:37:55.819Z"
   },
   {
    "duration": 2024,
    "start_time": "2023-07-08T10:39:09.440Z"
   },
   {
    "duration": 1472,
    "start_time": "2023-07-08T10:39:19.792Z"
   },
   {
    "duration": 210,
    "start_time": "2023-07-08T10:39:21.267Z"
   },
   {
    "duration": 30,
    "start_time": "2023-07-08T10:39:21.479Z"
   },
   {
    "duration": 29,
    "start_time": "2023-07-08T10:39:21.512Z"
   },
   {
    "duration": 32,
    "start_time": "2023-07-08T10:39:21.543Z"
   },
   {
    "duration": 116,
    "start_time": "2023-07-08T10:39:21.582Z"
   },
   {
    "duration": 77,
    "start_time": "2023-07-08T10:39:21.699Z"
   },
   {
    "duration": 10,
    "start_time": "2023-07-08T10:39:21.778Z"
   },
   {
    "duration": 52,
    "start_time": "2023-07-08T10:39:21.792Z"
   },
   {
    "duration": 113,
    "start_time": "2023-07-08T10:39:21.848Z"
   },
   {
    "duration": 179,
    "start_time": "2023-07-08T10:39:21.963Z"
   },
   {
    "duration": 39,
    "start_time": "2023-07-08T10:39:22.144Z"
   },
   {
    "duration": 27,
    "start_time": "2023-07-08T10:39:22.191Z"
   },
   {
    "duration": 9,
    "start_time": "2023-07-08T10:39:22.220Z"
   },
   {
    "duration": 60,
    "start_time": "2023-07-08T10:39:22.230Z"
   },
   {
    "duration": 39,
    "start_time": "2023-07-08T10:39:22.295Z"
   },
   {
    "duration": 403,
    "start_time": "2023-07-08T10:39:22.336Z"
   },
   {
    "duration": 62,
    "start_time": "2023-07-08T10:39:22.741Z"
   },
   {
    "duration": 38,
    "start_time": "2023-07-08T10:39:22.806Z"
   },
   {
    "duration": 23,
    "start_time": "2023-07-08T10:39:22.846Z"
   },
   {
    "duration": 54,
    "start_time": "2023-07-08T10:39:22.873Z"
   },
   {
    "duration": 48,
    "start_time": "2023-07-08T10:39:22.929Z"
   },
   {
    "duration": 45,
    "start_time": "2023-07-08T10:39:22.994Z"
   },
   {
    "duration": 2292,
    "start_time": "2023-07-08T10:39:23.040Z"
   },
   {
    "duration": 0,
    "start_time": "2023-07-08T10:39:25.335Z"
   },
   {
    "duration": 0,
    "start_time": "2023-07-08T10:39:25.336Z"
   },
   {
    "duration": 0,
    "start_time": "2023-07-08T10:39:25.337Z"
   },
   {
    "duration": 0,
    "start_time": "2023-07-08T10:39:25.340Z"
   },
   {
    "duration": 0,
    "start_time": "2023-07-08T10:39:25.347Z"
   },
   {
    "duration": 0,
    "start_time": "2023-07-08T10:39:25.350Z"
   },
   {
    "duration": 0,
    "start_time": "2023-07-08T10:39:25.358Z"
   },
   {
    "duration": 0,
    "start_time": "2023-07-08T10:39:25.359Z"
   },
   {
    "duration": 0,
    "start_time": "2023-07-08T10:39:25.360Z"
   },
   {
    "duration": 0,
    "start_time": "2023-07-08T10:39:25.371Z"
   },
   {
    "duration": 0,
    "start_time": "2023-07-08T10:39:25.373Z"
   },
   {
    "duration": 0,
    "start_time": "2023-07-08T10:39:25.382Z"
   },
   {
    "duration": 4480,
    "start_time": "2023-07-08T10:39:36.346Z"
   },
   {
    "duration": 67,
    "start_time": "2023-07-08T10:40:12.398Z"
   },
   {
    "duration": 105,
    "start_time": "2023-07-08T10:40:28.845Z"
   },
   {
    "duration": 93,
    "start_time": "2023-07-08T10:40:40.021Z"
   },
   {
    "duration": 1670,
    "start_time": "2023-07-08T10:40:47.315Z"
   },
   {
    "duration": 251,
    "start_time": "2023-07-08T10:40:48.987Z"
   },
   {
    "duration": 47,
    "start_time": "2023-07-08T10:40:49.240Z"
   },
   {
    "duration": 35,
    "start_time": "2023-07-08T10:40:49.291Z"
   },
   {
    "duration": 67,
    "start_time": "2023-07-08T10:40:49.330Z"
   },
   {
    "duration": 183,
    "start_time": "2023-07-08T10:40:49.406Z"
   },
   {
    "duration": 105,
    "start_time": "2023-07-08T10:40:49.600Z"
   },
   {
    "duration": 15,
    "start_time": "2023-07-08T10:40:49.708Z"
   },
   {
    "duration": 33,
    "start_time": "2023-07-08T10:40:49.726Z"
   },
   {
    "duration": 151,
    "start_time": "2023-07-08T10:40:49.768Z"
   },
   {
    "duration": 165,
    "start_time": "2023-07-08T10:40:49.921Z"
   },
   {
    "duration": 44,
    "start_time": "2023-07-08T10:40:50.092Z"
   },
   {
    "duration": 4,
    "start_time": "2023-07-08T10:40:50.138Z"
   },
   {
    "duration": 65,
    "start_time": "2023-07-08T10:40:50.146Z"
   },
   {
    "duration": 82,
    "start_time": "2023-07-08T10:40:50.214Z"
   },
   {
    "duration": 46,
    "start_time": "2023-07-08T10:40:50.298Z"
   },
   {
    "duration": 402,
    "start_time": "2023-07-08T10:40:50.346Z"
   },
   {
    "duration": 40,
    "start_time": "2023-07-08T10:40:50.755Z"
   },
   {
    "duration": 142,
    "start_time": "2023-07-08T10:40:50.796Z"
   },
   {
    "duration": 39,
    "start_time": "2023-07-08T10:40:50.940Z"
   },
   {
    "duration": 41,
    "start_time": "2023-07-08T10:40:50.983Z"
   },
   {
    "duration": 99,
    "start_time": "2023-07-08T10:40:51.026Z"
   },
   {
    "duration": 81,
    "start_time": "2023-07-08T10:40:51.128Z"
   },
   {
    "duration": 87,
    "start_time": "2023-07-08T10:40:51.211Z"
   },
   {
    "duration": 24,
    "start_time": "2023-07-08T10:40:51.300Z"
   },
   {
    "duration": 84,
    "start_time": "2023-07-08T10:40:51.326Z"
   },
   {
    "duration": 187,
    "start_time": "2023-07-08T10:40:51.412Z"
   },
   {
    "duration": 39,
    "start_time": "2023-07-08T10:40:51.601Z"
   },
   {
    "duration": 1034,
    "start_time": "2023-07-08T10:40:51.651Z"
   },
   {
    "duration": 100,
    "start_time": "2023-07-08T10:40:52.687Z"
   },
   {
    "duration": 137,
    "start_time": "2023-07-08T10:40:52.789Z"
   },
   {
    "duration": 6,
    "start_time": "2023-07-08T10:40:52.928Z"
   },
   {
    "duration": 289,
    "start_time": "2023-07-08T10:40:52.936Z"
   },
   {
    "duration": 255,
    "start_time": "2023-07-08T10:40:53.227Z"
   },
   {
    "duration": 174,
    "start_time": "2023-07-08T10:40:53.485Z"
   },
   {
    "duration": 46,
    "start_time": "2023-07-08T10:40:53.662Z"
   },
   {
    "duration": 72,
    "start_time": "2023-07-08T10:41:25.094Z"
   },
   {
    "duration": 72,
    "start_time": "2023-07-08T10:48:08.927Z"
   },
   {
    "duration": 255,
    "start_time": "2023-07-08T10:48:29.577Z"
   },
   {
    "duration": 94,
    "start_time": "2023-07-08T10:48:55.207Z"
   },
   {
    "duration": 10,
    "start_time": "2023-07-08T10:49:07.997Z"
   },
   {
    "duration": 9,
    "start_time": "2023-07-08T10:49:13.821Z"
   },
   {
    "duration": 101,
    "start_time": "2023-07-08T10:49:40.134Z"
   },
   {
    "duration": 12,
    "start_time": "2023-07-08T10:49:44.082Z"
   },
   {
    "duration": 66,
    "start_time": "2023-07-08T10:50:39.721Z"
   },
   {
    "duration": 9,
    "start_time": "2023-07-08T10:50:50.890Z"
   },
   {
    "duration": 6,
    "start_time": "2023-07-08T10:50:53.193Z"
   },
   {
    "duration": 6,
    "start_time": "2023-07-08T10:51:04.882Z"
   },
   {
    "duration": 114,
    "start_time": "2023-07-08T10:53:48.206Z"
   },
   {
    "duration": 98,
    "start_time": "2023-07-08T10:53:53.737Z"
   },
   {
    "duration": 88,
    "start_time": "2023-07-08T10:54:24.090Z"
   },
   {
    "duration": 14,
    "start_time": "2023-07-08T10:54:25.082Z"
   },
   {
    "duration": 6,
    "start_time": "2023-07-08T10:54:26.429Z"
   },
   {
    "duration": 30,
    "start_time": "2023-07-08T10:54:28.846Z"
   },
   {
    "duration": 69,
    "start_time": "2023-07-08T10:54:47.108Z"
   },
   {
    "duration": 13,
    "start_time": "2023-07-08T10:54:48.789Z"
   },
   {
    "duration": 16,
    "start_time": "2023-07-08T10:54:51.063Z"
   },
   {
    "duration": 19,
    "start_time": "2023-07-08T10:54:52.656Z"
   },
   {
    "duration": 1655,
    "start_time": "2023-07-08T10:59:03.465Z"
   },
   {
    "duration": 193,
    "start_time": "2023-07-08T10:59:05.122Z"
   },
   {
    "duration": 29,
    "start_time": "2023-07-08T10:59:05.319Z"
   },
   {
    "duration": 18,
    "start_time": "2023-07-08T10:59:05.351Z"
   },
   {
    "duration": 72,
    "start_time": "2023-07-08T10:59:05.371Z"
   },
   {
    "duration": 154,
    "start_time": "2023-07-08T10:59:05.446Z"
   },
   {
    "duration": 96,
    "start_time": "2023-07-08T10:59:05.603Z"
   },
   {
    "duration": 11,
    "start_time": "2023-07-08T10:59:05.707Z"
   },
   {
    "duration": 15,
    "start_time": "2023-07-08T10:59:05.719Z"
   },
   {
    "duration": 104,
    "start_time": "2023-07-08T10:59:05.737Z"
   },
   {
    "duration": 153,
    "start_time": "2023-07-08T10:59:05.843Z"
   },
   {
    "duration": 36,
    "start_time": "2023-07-08T10:59:05.998Z"
   },
   {
    "duration": 30,
    "start_time": "2023-07-08T10:59:06.036Z"
   },
   {
    "duration": 52,
    "start_time": "2023-07-08T10:59:06.068Z"
   },
   {
    "duration": 88,
    "start_time": "2023-07-08T10:59:06.122Z"
   },
   {
    "duration": 87,
    "start_time": "2023-07-08T10:59:06.224Z"
   },
   {
    "duration": 400,
    "start_time": "2023-07-08T10:59:06.317Z"
   },
   {
    "duration": 29,
    "start_time": "2023-07-08T10:59:06.718Z"
   },
   {
    "duration": 65,
    "start_time": "2023-07-08T10:59:06.749Z"
   },
   {
    "duration": 46,
    "start_time": "2023-07-08T10:59:06.815Z"
   },
   {
    "duration": 6,
    "start_time": "2023-07-08T10:59:06.863Z"
   },
   {
    "duration": 73,
    "start_time": "2023-07-08T10:59:06.871Z"
   },
   {
    "duration": 73,
    "start_time": "2023-07-08T10:59:06.946Z"
   },
   {
    "duration": 95,
    "start_time": "2023-07-08T10:59:07.021Z"
   },
   {
    "duration": 9,
    "start_time": "2023-07-08T10:59:07.118Z"
   },
   {
    "duration": 19,
    "start_time": "2023-07-08T10:59:07.129Z"
   },
   {
    "duration": 70,
    "start_time": "2023-07-08T10:59:07.150Z"
   },
   {
    "duration": 7,
    "start_time": "2023-07-08T10:59:07.225Z"
   },
   {
    "duration": 189,
    "start_time": "2023-07-08T10:59:07.234Z"
   },
   {
    "duration": 0,
    "start_time": "2023-07-08T10:59:07.425Z"
   },
   {
    "duration": 0,
    "start_time": "2023-07-08T10:59:07.427Z"
   },
   {
    "duration": 0,
    "start_time": "2023-07-08T10:59:07.428Z"
   },
   {
    "duration": 0,
    "start_time": "2023-07-08T10:59:07.429Z"
   },
   {
    "duration": 0,
    "start_time": "2023-07-08T10:59:07.430Z"
   },
   {
    "duration": 0,
    "start_time": "2023-07-08T10:59:07.431Z"
   },
   {
    "duration": 0,
    "start_time": "2023-07-08T10:59:07.431Z"
   },
   {
    "duration": 0,
    "start_time": "2023-07-08T10:59:07.432Z"
   },
   {
    "duration": 0,
    "start_time": "2023-07-08T10:59:07.433Z"
   },
   {
    "duration": 1442,
    "start_time": "2023-07-08T11:39:01.162Z"
   },
   {
    "duration": 176,
    "start_time": "2023-07-08T11:39:02.607Z"
   },
   {
    "duration": 22,
    "start_time": "2023-07-08T11:39:02.785Z"
   },
   {
    "duration": 81,
    "start_time": "2023-07-08T11:39:02.808Z"
   },
   {
    "duration": 38,
    "start_time": "2023-07-08T11:39:02.892Z"
   },
   {
    "duration": 84,
    "start_time": "2023-07-08T11:39:02.932Z"
   },
   {
    "duration": 87,
    "start_time": "2023-07-08T11:39:03.018Z"
   },
   {
    "duration": 8,
    "start_time": "2023-07-08T11:39:03.106Z"
   },
   {
    "duration": 17,
    "start_time": "2023-07-08T11:39:03.116Z"
   },
   {
    "duration": 150,
    "start_time": "2023-07-08T11:39:03.135Z"
   },
   {
    "duration": 176,
    "start_time": "2023-07-08T11:39:03.287Z"
   },
   {
    "duration": 44,
    "start_time": "2023-07-08T11:39:03.467Z"
   },
   {
    "duration": 5,
    "start_time": "2023-07-08T11:39:03.512Z"
   },
   {
    "duration": 8,
    "start_time": "2023-07-08T11:39:03.520Z"
   },
   {
    "duration": 66,
    "start_time": "2023-07-08T11:39:03.529Z"
   },
   {
    "duration": 29,
    "start_time": "2023-07-08T11:39:03.596Z"
   },
   {
    "duration": 348,
    "start_time": "2023-07-08T11:39:03.627Z"
   },
   {
    "duration": 29,
    "start_time": "2023-07-08T11:39:03.983Z"
   },
   {
    "duration": 37,
    "start_time": "2023-07-08T11:39:04.014Z"
   },
   {
    "duration": 26,
    "start_time": "2023-07-08T11:39:04.064Z"
   },
   {
    "duration": 21,
    "start_time": "2023-07-08T11:39:04.099Z"
   },
   {
    "duration": 38,
    "start_time": "2023-07-08T11:39:04.123Z"
   },
   {
    "duration": 60,
    "start_time": "2023-07-08T11:39:04.168Z"
   },
   {
    "duration": 85,
    "start_time": "2023-07-08T11:39:04.230Z"
   },
   {
    "duration": 7,
    "start_time": "2023-07-08T11:39:04.317Z"
   },
   {
    "duration": 15,
    "start_time": "2023-07-08T11:39:04.326Z"
   },
   {
    "duration": 44,
    "start_time": "2023-07-08T11:39:04.343Z"
   },
   {
    "duration": 9,
    "start_time": "2023-07-08T11:39:04.390Z"
   },
   {
    "duration": 131,
    "start_time": "2023-07-08T11:39:04.401Z"
   },
   {
    "duration": 0,
    "start_time": "2023-07-08T11:39:04.533Z"
   },
   {
    "duration": 0,
    "start_time": "2023-07-08T11:39:04.535Z"
   },
   {
    "duration": 0,
    "start_time": "2023-07-08T11:39:04.536Z"
   },
   {
    "duration": 0,
    "start_time": "2023-07-08T11:39:04.538Z"
   },
   {
    "duration": 0,
    "start_time": "2023-07-08T11:39:04.539Z"
   },
   {
    "duration": 0,
    "start_time": "2023-07-08T11:39:04.541Z"
   },
   {
    "duration": 0,
    "start_time": "2023-07-08T11:39:04.552Z"
   },
   {
    "duration": 0,
    "start_time": "2023-07-08T11:39:04.554Z"
   },
   {
    "duration": 0,
    "start_time": "2023-07-08T11:39:04.555Z"
   },
   {
    "duration": 285,
    "start_time": "2023-07-08T11:40:15.192Z"
   },
   {
    "duration": 94,
    "start_time": "2023-07-08T11:45:45.193Z"
   },
   {
    "duration": 79,
    "start_time": "2023-07-08T11:45:55.289Z"
   },
   {
    "duration": 1572,
    "start_time": "2023-07-08T11:46:02.313Z"
   },
   {
    "duration": 178,
    "start_time": "2023-07-08T11:46:03.891Z"
   },
   {
    "duration": 27,
    "start_time": "2023-07-08T11:46:04.074Z"
   },
   {
    "duration": 11,
    "start_time": "2023-07-08T11:46:04.104Z"
   },
   {
    "duration": 28,
    "start_time": "2023-07-08T11:46:04.117Z"
   },
   {
    "duration": 91,
    "start_time": "2023-07-08T11:46:04.147Z"
   },
   {
    "duration": 118,
    "start_time": "2023-07-08T11:46:04.241Z"
   },
   {
    "duration": 17,
    "start_time": "2023-07-08T11:46:04.365Z"
   },
   {
    "duration": 28,
    "start_time": "2023-07-08T11:46:04.389Z"
   },
   {
    "duration": 99,
    "start_time": "2023-07-08T11:46:04.420Z"
   },
   {
    "duration": 145,
    "start_time": "2023-07-08T11:46:04.521Z"
   },
   {
    "duration": 40,
    "start_time": "2023-07-08T11:46:04.668Z"
   },
   {
    "duration": 5,
    "start_time": "2023-07-08T11:46:04.710Z"
   },
   {
    "duration": 15,
    "start_time": "2023-07-08T11:46:04.716Z"
   },
   {
    "duration": 58,
    "start_time": "2023-07-08T11:46:04.733Z"
   },
   {
    "duration": 44,
    "start_time": "2023-07-08T11:46:04.794Z"
   },
   {
    "duration": 350,
    "start_time": "2023-07-08T11:46:04.839Z"
   },
   {
    "duration": 24,
    "start_time": "2023-07-08T11:46:05.191Z"
   },
   {
    "duration": 50,
    "start_time": "2023-07-08T11:46:05.218Z"
   },
   {
    "duration": 29,
    "start_time": "2023-07-08T11:46:05.270Z"
   },
   {
    "duration": 5,
    "start_time": "2023-07-08T11:46:05.301Z"
   },
   {
    "duration": 42,
    "start_time": "2023-07-08T11:46:05.309Z"
   },
   {
    "duration": 65,
    "start_time": "2023-07-08T11:46:05.353Z"
   },
   {
    "duration": 94,
    "start_time": "2023-07-08T11:46:05.421Z"
   },
   {
    "duration": 6,
    "start_time": "2023-07-08T11:46:05.517Z"
   },
   {
    "duration": 186,
    "start_time": "2023-07-08T11:46:05.526Z"
   },
   {
    "duration": 64,
    "start_time": "2023-07-08T11:46:05.714Z"
   },
   {
    "duration": 1009,
    "start_time": "2023-07-08T11:46:05.784Z"
   },
   {
    "duration": 95,
    "start_time": "2023-07-08T11:46:06.796Z"
   },
   {
    "duration": 134,
    "start_time": "2023-07-08T11:46:06.894Z"
   },
   {
    "duration": 7,
    "start_time": "2023-07-08T11:46:07.029Z"
   },
   {
    "duration": 45,
    "start_time": "2023-07-08T11:46:07.038Z"
   },
   {
    "duration": 53,
    "start_time": "2023-07-08T11:46:07.085Z"
   },
   {
    "duration": 48,
    "start_time": "2023-07-08T11:46:07.141Z"
   },
   {
    "duration": 40,
    "start_time": "2023-07-08T11:46:07.195Z"
   },
   {
    "duration": 135,
    "start_time": "2023-07-08T11:46:58.005Z"
   },
   {
    "duration": 19,
    "start_time": "2023-07-08T11:47:04.512Z"
   },
   {
    "duration": 14,
    "start_time": "2023-07-08T11:47:19.675Z"
   },
   {
    "duration": 13,
    "start_time": "2023-07-08T11:47:38.626Z"
   },
   {
    "duration": 11,
    "start_time": "2023-07-08T11:47:55.535Z"
   },
   {
    "duration": 6,
    "start_time": "2023-07-08T11:48:10.947Z"
   },
   {
    "duration": 6,
    "start_time": "2023-07-08T11:48:37.326Z"
   },
   {
    "duration": 7,
    "start_time": "2023-07-08T11:48:57.698Z"
   },
   {
    "duration": 73,
    "start_time": "2023-07-08T11:49:40.060Z"
   },
   {
    "duration": 69,
    "start_time": "2023-07-08T11:49:55.482Z"
   },
   {
    "duration": 65,
    "start_time": "2023-07-08T11:50:01.270Z"
   },
   {
    "duration": 6,
    "start_time": "2023-07-08T11:52:49.702Z"
   },
   {
    "duration": 1419,
    "start_time": "2023-07-08T12:14:43.273Z"
   },
   {
    "duration": 220,
    "start_time": "2023-07-08T12:14:44.695Z"
   },
   {
    "duration": 25,
    "start_time": "2023-07-08T12:14:44.917Z"
   },
   {
    "duration": 14,
    "start_time": "2023-07-08T12:14:44.953Z"
   },
   {
    "duration": 32,
    "start_time": "2023-07-08T12:14:44.971Z"
   },
   {
    "duration": 129,
    "start_time": "2023-07-08T12:14:45.006Z"
   },
   {
    "duration": 77,
    "start_time": "2023-07-08T12:14:45.138Z"
   },
   {
    "duration": 9,
    "start_time": "2023-07-08T12:14:45.217Z"
   },
   {
    "duration": 30,
    "start_time": "2023-07-08T12:14:45.229Z"
   },
   {
    "duration": 116,
    "start_time": "2023-07-08T12:14:45.262Z"
   },
   {
    "duration": 144,
    "start_time": "2023-07-08T12:14:45.385Z"
   },
   {
    "duration": 44,
    "start_time": "2023-07-08T12:14:45.531Z"
   },
   {
    "duration": 4,
    "start_time": "2023-07-08T12:14:45.577Z"
   },
   {
    "duration": 8,
    "start_time": "2023-07-08T12:14:45.584Z"
   },
   {
    "duration": 39,
    "start_time": "2023-07-08T12:14:45.593Z"
   },
   {
    "duration": 69,
    "start_time": "2023-07-08T12:14:45.633Z"
   },
   {
    "duration": 346,
    "start_time": "2023-07-08T12:14:45.704Z"
   },
   {
    "duration": 31,
    "start_time": "2023-07-08T12:14:46.052Z"
   },
   {
    "duration": 41,
    "start_time": "2023-07-08T12:14:46.085Z"
   },
   {
    "duration": 53,
    "start_time": "2023-07-08T12:14:46.128Z"
   },
   {
    "duration": 5,
    "start_time": "2023-07-08T12:14:46.183Z"
   },
   {
    "duration": 23,
    "start_time": "2023-07-08T12:14:46.190Z"
   },
   {
    "duration": 61,
    "start_time": "2023-07-08T12:14:46.215Z"
   },
   {
    "duration": 86,
    "start_time": "2023-07-08T12:14:46.279Z"
   },
   {
    "duration": 6,
    "start_time": "2023-07-08T12:14:46.368Z"
   },
   {
    "duration": 205,
    "start_time": "2023-07-08T12:14:46.376Z"
   },
   {
    "duration": 32,
    "start_time": "2023-07-08T12:14:46.583Z"
   },
   {
    "duration": 991,
    "start_time": "2023-07-08T12:14:46.617Z"
   },
   {
    "duration": 89,
    "start_time": "2023-07-08T12:14:47.610Z"
   },
   {
    "duration": 120,
    "start_time": "2023-07-08T12:14:47.701Z"
   },
   {
    "duration": 7,
    "start_time": "2023-07-08T12:14:47.823Z"
   },
   {
    "duration": 44,
    "start_time": "2023-07-08T12:14:47.832Z"
   },
   {
    "duration": 52,
    "start_time": "2023-07-08T12:14:47.878Z"
   },
   {
    "duration": 31,
    "start_time": "2023-07-08T12:14:47.932Z"
   },
   {
    "duration": 32,
    "start_time": "2023-07-08T12:14:47.965Z"
   },
   {
    "duration": 78,
    "start_time": "2023-08-20T18:10:26.006Z"
   },
   {
    "duration": 1579,
    "start_time": "2023-08-20T18:10:33.096Z"
   },
   {
    "duration": 1058,
    "start_time": "2023-08-20T18:10:34.680Z"
   },
   {
    "duration": 25,
    "start_time": "2023-08-20T18:10:35.746Z"
   },
   {
    "duration": 32,
    "start_time": "2023-08-20T18:10:35.774Z"
   },
   {
    "duration": 37,
    "start_time": "2023-08-20T18:10:35.808Z"
   },
   {
    "duration": 96,
    "start_time": "2023-08-20T18:10:35.848Z"
   },
   {
    "duration": 93,
    "start_time": "2023-08-20T18:10:35.946Z"
   },
   {
    "duration": 8,
    "start_time": "2023-08-20T18:10:36.041Z"
   },
   {
    "duration": 44,
    "start_time": "2023-08-20T18:10:36.051Z"
   },
   {
    "duration": 94,
    "start_time": "2023-08-20T18:10:36.098Z"
   },
   {
    "duration": 151,
    "start_time": "2023-08-20T18:10:36.194Z"
   },
   {
    "duration": 38,
    "start_time": "2023-08-20T18:10:36.347Z"
   },
   {
    "duration": 6,
    "start_time": "2023-08-20T18:10:36.387Z"
   },
   {
    "duration": 29,
    "start_time": "2023-08-20T18:10:36.395Z"
   },
   {
    "duration": 59,
    "start_time": "2023-08-20T18:10:36.426Z"
   },
   {
    "duration": 56,
    "start_time": "2023-08-20T18:10:36.488Z"
   },
   {
    "duration": 399,
    "start_time": "2023-08-20T18:10:36.546Z"
   },
   {
    "duration": 33,
    "start_time": "2023-08-20T18:10:36.948Z"
   },
   {
    "duration": 45,
    "start_time": "2023-08-20T18:10:36.982Z"
   },
   {
    "duration": 53,
    "start_time": "2023-08-20T18:10:37.030Z"
   },
   {
    "duration": 5,
    "start_time": "2023-08-20T18:10:37.085Z"
   },
   {
    "duration": 24,
    "start_time": "2023-08-20T18:10:37.093Z"
   },
   {
    "duration": 68,
    "start_time": "2023-08-20T18:10:37.119Z"
   },
   {
    "duration": 103,
    "start_time": "2023-08-20T18:10:37.190Z"
   },
   {
    "duration": 7,
    "start_time": "2023-08-20T18:10:37.295Z"
   },
   {
    "duration": 256,
    "start_time": "2023-08-20T18:10:37.305Z"
   },
   {
    "duration": 47,
    "start_time": "2023-08-20T18:10:37.566Z"
   },
   {
    "duration": 1191,
    "start_time": "2023-08-20T18:10:37.615Z"
   },
   {
    "duration": 128,
    "start_time": "2023-08-20T18:10:38.809Z"
   },
   {
    "duration": 127,
    "start_time": "2023-08-20T18:10:38.940Z"
   },
   {
    "duration": 8,
    "start_time": "2023-08-20T18:10:39.071Z"
   },
   {
    "duration": 52,
    "start_time": "2023-08-20T18:10:39.082Z"
   },
   {
    "duration": 56,
    "start_time": "2023-08-20T18:10:39.137Z"
   },
   {
    "duration": 30,
    "start_time": "2023-08-20T18:10:39.195Z"
   },
   {
    "duration": 61,
    "start_time": "2023-08-20T18:10:39.227Z"
   },
   {
    "duration": 79,
    "start_time": "2023-08-20T18:11:00.079Z"
   }
  ],
  "kernelspec": {
   "display_name": "Python 3",
   "language": "python",
   "name": "python3"
  },
  "language_info": {
   "codemirror_mode": {
    "name": "ipython",
    "version": 3
   },
   "file_extension": ".py",
   "mimetype": "text/x-python",
   "name": "python",
   "nbconvert_exporter": "python",
   "pygments_lexer": "ipython3",
   "version": "3.8.5"
  },
  "toc": {
   "base_numbering": 1,
   "nav_menu": {},
   "number_sections": false,
   "sideBar": true,
   "skip_h1_title": true,
   "title_cell": "Table of Contents",
   "title_sidebar": "Contents",
   "toc_cell": false,
   "toc_position": {
    "height": "calc(100% - 180px)",
    "left": "10px",
    "top": "150px",
    "width": "414px"
   },
   "toc_section_display": true,
   "toc_window_display": false
  }
 },
 "nbformat": 4,
 "nbformat_minor": 2
}
