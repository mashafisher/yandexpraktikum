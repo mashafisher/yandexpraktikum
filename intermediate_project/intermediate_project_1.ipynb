{
 "cells": [
  {
   "cell_type": "markdown",
   "metadata": {},
   "source": [
    "# Исследование закономерностей успешности игр\n",
    "\n",
    "**Описание проекта** \n",
    "\n",
    "В нашем распоряжении исторические данные из открытых источников о продаже игр, оценки пользователей и экспертов, жанры и платформы.\n",
    "\n",
    "Задача: выявить определяющие успешность игры закономерности для планирования рекламной кампании интернет-магазина \"Стримчик\". Нужно отработать принцип работы с данными, который позволит прогнозировать потенциально популярный продукт.\n",
    "\n",
    "В наборе данных попадается аббревиатура ESRB (Entertainment Software Rating Board) — это ассоциация, определяющая возрастной рейтинг компьютерных игр. ESRB оценивает игровой контент и присваивает ему подходящую возрастную категорию, например, «Для взрослых», «Для детей младшего возраста» или «Для подростков».\n",
    "\n",
    "**Описание данных**\n",
    "\n",
    "- Name — название игры\n",
    "- Platform — платформа\n",
    "- Year_of_Release — год выпуска\n",
    "- Genre — жанр игры\n",
    "- NA_sales — продажи в Северной Америке (миллионы проданных копий)\n",
    "- EU_sales — продажи в Европе (миллионы проданных копий)\n",
    "- JP_sales — продажи в Японии (миллионы проданных копий)\n",
    "- Other_sales — продажи в других странах (миллионы проданных копий)\n",
    "- Critic_Score — оценка критиков (максимум 100)\n",
    "- User_Score — оценка пользователей (максимум 10)\n",
    "- Rating — рейтинг от организации ESRB (англ. Entertainment Software Rating Board). Эта ассоциация определяет рейтинг компьютерных игр и присваивает им подходящую возрастную категорию."
   ]
  },
  {
   "cell_type": "markdown",
   "metadata": {},
   "source": [
    "### 1. Открытие файла и изучение общей информации."
   ]
  },
  {
   "cell_type": "markdown",
   "metadata": {},
   "source": [
    "#### 1.1. Импортируем библиотеки, которые понадобятся нам в ходе работы над проектом. Считываем данные из csv-файла в датафрейм и сохраняем в переменную `df`. Путь к файлу: /datasets/games.csv."
   ]
  },
  {
   "cell_type": "code",
   "execution_count": 1,
   "metadata": {},
   "outputs": [],
   "source": [
    "import pandas as pd\n",
    "import matplotlib.pyplot as plt\n",
    "import seaborn as sns\n",
    "import numpy as np\n",
    "from scipy import stats as st\n",
    "import plotly.express as px"
   ]
  },
  {
   "cell_type": "code",
   "execution_count": 2,
   "metadata": {},
   "outputs": [],
   "source": [
    "server_path = '/datasets/games.csv'\n",
    "filename = 'games.csv'\n",
    "\n",
    "try: \n",
    "    df = pd.read_csv(server_path, sep=',')\n",
    "except: \n",
    "    df = pd.read_csv(filename, sep=',')"
   ]
  },
  {
   "cell_type": "markdown",
   "metadata": {},
   "source": [
    "#### 1.2. Выводим первые 20 строчек датафрема `df` на экран."
   ]
  },
  {
   "cell_type": "code",
   "execution_count": 3,
   "metadata": {},
   "outputs": [
    {
     "data": {
      "text/html": [
       "<div>\n",
       "<style scoped>\n",
       "    .dataframe tbody tr th:only-of-type {\n",
       "        vertical-align: middle;\n",
       "    }\n",
       "\n",
       "    .dataframe tbody tr th {\n",
       "        vertical-align: top;\n",
       "    }\n",
       "\n",
       "    .dataframe thead th {\n",
       "        text-align: right;\n",
       "    }\n",
       "</style>\n",
       "<table border=\"1\" class=\"dataframe\">\n",
       "  <thead>\n",
       "    <tr style=\"text-align: right;\">\n",
       "      <th></th>\n",
       "      <th>Unnamed: 0</th>\n",
       "      <th>Name</th>\n",
       "      <th>Platform</th>\n",
       "      <th>Year_of_Release</th>\n",
       "      <th>Genre</th>\n",
       "      <th>NA_sales</th>\n",
       "      <th>EU_sales</th>\n",
       "      <th>JP_sales</th>\n",
       "      <th>Other_sales</th>\n",
       "      <th>Critic_Score</th>\n",
       "      <th>User_Score</th>\n",
       "      <th>Rating</th>\n",
       "    </tr>\n",
       "  </thead>\n",
       "  <tbody>\n",
       "    <tr>\n",
       "      <th>0</th>\n",
       "      <td>0</td>\n",
       "      <td>Wii Sports</td>\n",
       "      <td>Wii</td>\n",
       "      <td>2006.0</td>\n",
       "      <td>Sports</td>\n",
       "      <td>41.36</td>\n",
       "      <td>28.96</td>\n",
       "      <td>3.77</td>\n",
       "      <td>8.45</td>\n",
       "      <td>76.0</td>\n",
       "      <td>8</td>\n",
       "      <td>E</td>\n",
       "    </tr>\n",
       "    <tr>\n",
       "      <th>1</th>\n",
       "      <td>1</td>\n",
       "      <td>Super Mario Bros.</td>\n",
       "      <td>NES</td>\n",
       "      <td>1985.0</td>\n",
       "      <td>Platform</td>\n",
       "      <td>29.08</td>\n",
       "      <td>3.58</td>\n",
       "      <td>6.81</td>\n",
       "      <td>0.77</td>\n",
       "      <td>NaN</td>\n",
       "      <td>NaN</td>\n",
       "      <td>NaN</td>\n",
       "    </tr>\n",
       "    <tr>\n",
       "      <th>2</th>\n",
       "      <td>2</td>\n",
       "      <td>Mario Kart Wii</td>\n",
       "      <td>Wii</td>\n",
       "      <td>2008.0</td>\n",
       "      <td>Racing</td>\n",
       "      <td>15.68</td>\n",
       "      <td>12.76</td>\n",
       "      <td>3.79</td>\n",
       "      <td>3.29</td>\n",
       "      <td>82.0</td>\n",
       "      <td>8.3</td>\n",
       "      <td>E</td>\n",
       "    </tr>\n",
       "    <tr>\n",
       "      <th>3</th>\n",
       "      <td>3</td>\n",
       "      <td>Wii Sports Resort</td>\n",
       "      <td>Wii</td>\n",
       "      <td>2009.0</td>\n",
       "      <td>Sports</td>\n",
       "      <td>15.61</td>\n",
       "      <td>10.93</td>\n",
       "      <td>3.28</td>\n",
       "      <td>2.95</td>\n",
       "      <td>80.0</td>\n",
       "      <td>8</td>\n",
       "      <td>E</td>\n",
       "    </tr>\n",
       "    <tr>\n",
       "      <th>4</th>\n",
       "      <td>4</td>\n",
       "      <td>Pokemon Red/Pokemon Blue</td>\n",
       "      <td>GB</td>\n",
       "      <td>1996.0</td>\n",
       "      <td>Role-Playing</td>\n",
       "      <td>11.27</td>\n",
       "      <td>8.89</td>\n",
       "      <td>10.22</td>\n",
       "      <td>1.00</td>\n",
       "      <td>NaN</td>\n",
       "      <td>NaN</td>\n",
       "      <td>NaN</td>\n",
       "    </tr>\n",
       "    <tr>\n",
       "      <th>5</th>\n",
       "      <td>5</td>\n",
       "      <td>Tetris</td>\n",
       "      <td>GB</td>\n",
       "      <td>1989.0</td>\n",
       "      <td>Puzzle</td>\n",
       "      <td>23.20</td>\n",
       "      <td>2.26</td>\n",
       "      <td>4.22</td>\n",
       "      <td>0.58</td>\n",
       "      <td>NaN</td>\n",
       "      <td>NaN</td>\n",
       "      <td>NaN</td>\n",
       "    </tr>\n",
       "    <tr>\n",
       "      <th>6</th>\n",
       "      <td>6</td>\n",
       "      <td>New Super Mario Bros.</td>\n",
       "      <td>DS</td>\n",
       "      <td>2006.0</td>\n",
       "      <td>Platform</td>\n",
       "      <td>11.28</td>\n",
       "      <td>9.14</td>\n",
       "      <td>6.50</td>\n",
       "      <td>2.88</td>\n",
       "      <td>89.0</td>\n",
       "      <td>8.5</td>\n",
       "      <td>E</td>\n",
       "    </tr>\n",
       "    <tr>\n",
       "      <th>7</th>\n",
       "      <td>7</td>\n",
       "      <td>Wii Play</td>\n",
       "      <td>Wii</td>\n",
       "      <td>2006.0</td>\n",
       "      <td>Misc</td>\n",
       "      <td>13.96</td>\n",
       "      <td>9.18</td>\n",
       "      <td>2.93</td>\n",
       "      <td>2.84</td>\n",
       "      <td>58.0</td>\n",
       "      <td>6.6</td>\n",
       "      <td>E</td>\n",
       "    </tr>\n",
       "    <tr>\n",
       "      <th>8</th>\n",
       "      <td>8</td>\n",
       "      <td>New Super Mario Bros. Wii</td>\n",
       "      <td>Wii</td>\n",
       "      <td>2009.0</td>\n",
       "      <td>Platform</td>\n",
       "      <td>14.44</td>\n",
       "      <td>6.94</td>\n",
       "      <td>4.70</td>\n",
       "      <td>2.24</td>\n",
       "      <td>87.0</td>\n",
       "      <td>8.4</td>\n",
       "      <td>E</td>\n",
       "    </tr>\n",
       "    <tr>\n",
       "      <th>9</th>\n",
       "      <td>9</td>\n",
       "      <td>Duck Hunt</td>\n",
       "      <td>NES</td>\n",
       "      <td>1984.0</td>\n",
       "      <td>Shooter</td>\n",
       "      <td>26.93</td>\n",
       "      <td>0.63</td>\n",
       "      <td>0.28</td>\n",
       "      <td>0.47</td>\n",
       "      <td>NaN</td>\n",
       "      <td>NaN</td>\n",
       "      <td>NaN</td>\n",
       "    </tr>\n",
       "    <tr>\n",
       "      <th>10</th>\n",
       "      <td>10</td>\n",
       "      <td>Nintendogs</td>\n",
       "      <td>DS</td>\n",
       "      <td>2005.0</td>\n",
       "      <td>Simulation</td>\n",
       "      <td>9.05</td>\n",
       "      <td>10.95</td>\n",
       "      <td>1.93</td>\n",
       "      <td>2.74</td>\n",
       "      <td>NaN</td>\n",
       "      <td>NaN</td>\n",
       "      <td>NaN</td>\n",
       "    </tr>\n",
       "    <tr>\n",
       "      <th>11</th>\n",
       "      <td>11</td>\n",
       "      <td>Mario Kart DS</td>\n",
       "      <td>DS</td>\n",
       "      <td>2005.0</td>\n",
       "      <td>Racing</td>\n",
       "      <td>9.71</td>\n",
       "      <td>7.47</td>\n",
       "      <td>4.13</td>\n",
       "      <td>1.90</td>\n",
       "      <td>91.0</td>\n",
       "      <td>8.6</td>\n",
       "      <td>E</td>\n",
       "    </tr>\n",
       "    <tr>\n",
       "      <th>12</th>\n",
       "      <td>12</td>\n",
       "      <td>Pokemon Gold/Pokemon Silver</td>\n",
       "      <td>GB</td>\n",
       "      <td>1999.0</td>\n",
       "      <td>Role-Playing</td>\n",
       "      <td>9.00</td>\n",
       "      <td>6.18</td>\n",
       "      <td>7.20</td>\n",
       "      <td>0.71</td>\n",
       "      <td>NaN</td>\n",
       "      <td>NaN</td>\n",
       "      <td>NaN</td>\n",
       "    </tr>\n",
       "    <tr>\n",
       "      <th>13</th>\n",
       "      <td>13</td>\n",
       "      <td>Wii Fit</td>\n",
       "      <td>Wii</td>\n",
       "      <td>2007.0</td>\n",
       "      <td>Sports</td>\n",
       "      <td>8.92</td>\n",
       "      <td>8.03</td>\n",
       "      <td>3.60</td>\n",
       "      <td>2.15</td>\n",
       "      <td>80.0</td>\n",
       "      <td>7.7</td>\n",
       "      <td>E</td>\n",
       "    </tr>\n",
       "    <tr>\n",
       "      <th>14</th>\n",
       "      <td>14</td>\n",
       "      <td>Kinect Adventures!</td>\n",
       "      <td>X360</td>\n",
       "      <td>2010.0</td>\n",
       "      <td>Misc</td>\n",
       "      <td>15.00</td>\n",
       "      <td>4.89</td>\n",
       "      <td>0.24</td>\n",
       "      <td>1.69</td>\n",
       "      <td>61.0</td>\n",
       "      <td>6.3</td>\n",
       "      <td>E</td>\n",
       "    </tr>\n",
       "    <tr>\n",
       "      <th>15</th>\n",
       "      <td>15</td>\n",
       "      <td>Wii Fit Plus</td>\n",
       "      <td>Wii</td>\n",
       "      <td>2009.0</td>\n",
       "      <td>Sports</td>\n",
       "      <td>9.01</td>\n",
       "      <td>8.49</td>\n",
       "      <td>2.53</td>\n",
       "      <td>1.77</td>\n",
       "      <td>80.0</td>\n",
       "      <td>7.4</td>\n",
       "      <td>E</td>\n",
       "    </tr>\n",
       "    <tr>\n",
       "      <th>16</th>\n",
       "      <td>16</td>\n",
       "      <td>Grand Theft Auto V</td>\n",
       "      <td>PS3</td>\n",
       "      <td>2013.0</td>\n",
       "      <td>Action</td>\n",
       "      <td>7.02</td>\n",
       "      <td>9.09</td>\n",
       "      <td>0.98</td>\n",
       "      <td>3.96</td>\n",
       "      <td>97.0</td>\n",
       "      <td>8.2</td>\n",
       "      <td>M</td>\n",
       "    </tr>\n",
       "    <tr>\n",
       "      <th>17</th>\n",
       "      <td>17</td>\n",
       "      <td>Grand Theft Auto: San Andreas</td>\n",
       "      <td>PS2</td>\n",
       "      <td>2004.0</td>\n",
       "      <td>Action</td>\n",
       "      <td>9.43</td>\n",
       "      <td>0.40</td>\n",
       "      <td>0.41</td>\n",
       "      <td>10.57</td>\n",
       "      <td>95.0</td>\n",
       "      <td>9</td>\n",
       "      <td>M</td>\n",
       "    </tr>\n",
       "    <tr>\n",
       "      <th>18</th>\n",
       "      <td>18</td>\n",
       "      <td>Super Mario World</td>\n",
       "      <td>SNES</td>\n",
       "      <td>1990.0</td>\n",
       "      <td>Platform</td>\n",
       "      <td>12.78</td>\n",
       "      <td>3.75</td>\n",
       "      <td>3.54</td>\n",
       "      <td>0.55</td>\n",
       "      <td>NaN</td>\n",
       "      <td>NaN</td>\n",
       "      <td>NaN</td>\n",
       "    </tr>\n",
       "    <tr>\n",
       "      <th>19</th>\n",
       "      <td>19</td>\n",
       "      <td>Brain Age: Train Your Brain in Minutes a Day</td>\n",
       "      <td>DS</td>\n",
       "      <td>2005.0</td>\n",
       "      <td>Misc</td>\n",
       "      <td>4.74</td>\n",
       "      <td>9.20</td>\n",
       "      <td>4.16</td>\n",
       "      <td>2.04</td>\n",
       "      <td>77.0</td>\n",
       "      <td>7.9</td>\n",
       "      <td>E</td>\n",
       "    </tr>\n",
       "  </tbody>\n",
       "</table>\n",
       "</div>"
      ],
      "text/plain": [
       "    Unnamed: 0                                          Name Platform  \\\n",
       "0            0                                    Wii Sports      Wii   \n",
       "1            1                             Super Mario Bros.      NES   \n",
       "2            2                                Mario Kart Wii      Wii   \n",
       "3            3                             Wii Sports Resort      Wii   \n",
       "4            4                      Pokemon Red/Pokemon Blue       GB   \n",
       "5            5                                        Tetris       GB   \n",
       "6            6                         New Super Mario Bros.       DS   \n",
       "7            7                                      Wii Play      Wii   \n",
       "8            8                     New Super Mario Bros. Wii      Wii   \n",
       "9            9                                     Duck Hunt      NES   \n",
       "10          10                                    Nintendogs       DS   \n",
       "11          11                                 Mario Kart DS       DS   \n",
       "12          12                   Pokemon Gold/Pokemon Silver       GB   \n",
       "13          13                                       Wii Fit      Wii   \n",
       "14          14                            Kinect Adventures!     X360   \n",
       "15          15                                  Wii Fit Plus      Wii   \n",
       "16          16                            Grand Theft Auto V      PS3   \n",
       "17          17                 Grand Theft Auto: San Andreas      PS2   \n",
       "18          18                             Super Mario World     SNES   \n",
       "19          19  Brain Age: Train Your Brain in Minutes a Day       DS   \n",
       "\n",
       "    Year_of_Release         Genre  NA_sales  EU_sales  JP_sales  Other_sales  \\\n",
       "0            2006.0        Sports     41.36     28.96      3.77         8.45   \n",
       "1            1985.0      Platform     29.08      3.58      6.81         0.77   \n",
       "2            2008.0        Racing     15.68     12.76      3.79         3.29   \n",
       "3            2009.0        Sports     15.61     10.93      3.28         2.95   \n",
       "4            1996.0  Role-Playing     11.27      8.89     10.22         1.00   \n",
       "5            1989.0        Puzzle     23.20      2.26      4.22         0.58   \n",
       "6            2006.0      Platform     11.28      9.14      6.50         2.88   \n",
       "7            2006.0          Misc     13.96      9.18      2.93         2.84   \n",
       "8            2009.0      Platform     14.44      6.94      4.70         2.24   \n",
       "9            1984.0       Shooter     26.93      0.63      0.28         0.47   \n",
       "10           2005.0    Simulation      9.05     10.95      1.93         2.74   \n",
       "11           2005.0        Racing      9.71      7.47      4.13         1.90   \n",
       "12           1999.0  Role-Playing      9.00      6.18      7.20         0.71   \n",
       "13           2007.0        Sports      8.92      8.03      3.60         2.15   \n",
       "14           2010.0          Misc     15.00      4.89      0.24         1.69   \n",
       "15           2009.0        Sports      9.01      8.49      2.53         1.77   \n",
       "16           2013.0        Action      7.02      9.09      0.98         3.96   \n",
       "17           2004.0        Action      9.43      0.40      0.41        10.57   \n",
       "18           1990.0      Platform     12.78      3.75      3.54         0.55   \n",
       "19           2005.0          Misc      4.74      9.20      4.16         2.04   \n",
       "\n",
       "    Critic_Score User_Score Rating  \n",
       "0           76.0          8      E  \n",
       "1            NaN        NaN    NaN  \n",
       "2           82.0        8.3      E  \n",
       "3           80.0          8      E  \n",
       "4            NaN        NaN    NaN  \n",
       "5            NaN        NaN    NaN  \n",
       "6           89.0        8.5      E  \n",
       "7           58.0        6.6      E  \n",
       "8           87.0        8.4      E  \n",
       "9            NaN        NaN    NaN  \n",
       "10           NaN        NaN    NaN  \n",
       "11          91.0        8.6      E  \n",
       "12           NaN        NaN    NaN  \n",
       "13          80.0        7.7      E  \n",
       "14          61.0        6.3      E  \n",
       "15          80.0        7.4      E  \n",
       "16          97.0        8.2      M  \n",
       "17          95.0          9      M  \n",
       "18           NaN        NaN    NaN  \n",
       "19          77.0        7.9      E  "
      ]
     },
     "execution_count": 3,
     "metadata": {},
     "output_type": "execute_result"
    }
   ],
   "source": [
    "df.head(20)"
   ]
  },
  {
   "cell_type": "markdown",
   "metadata": {},
   "source": [
    "#### 1.3. Выведем основную информацию о датафрейме с помощью метода `info()`."
   ]
  },
  {
   "cell_type": "code",
   "execution_count": 4,
   "metadata": {},
   "outputs": [
    {
     "name": "stdout",
     "output_type": "stream",
     "text": [
      "<class 'pandas.core.frame.DataFrame'>\n",
      "RangeIndex: 16715 entries, 0 to 16714\n",
      "Data columns (total 12 columns):\n",
      " #   Column           Non-Null Count  Dtype  \n",
      "---  ------           --------------  -----  \n",
      " 0   Unnamed: 0       16715 non-null  int64  \n",
      " 1   Name             16713 non-null  object \n",
      " 2   Platform         16715 non-null  object \n",
      " 3   Year_of_Release  16446 non-null  float64\n",
      " 4   Genre            16713 non-null  object \n",
      " 5   NA_sales         16715 non-null  float64\n",
      " 6   EU_sales         16715 non-null  float64\n",
      " 7   JP_sales         16715 non-null  float64\n",
      " 8   Other_sales      16715 non-null  float64\n",
      " 9   Critic_Score     8137 non-null   float64\n",
      " 10  User_Score       10014 non-null  object \n",
      " 11  Rating           9949 non-null   object \n",
      "dtypes: float64(6), int64(1), object(5)\n",
      "memory usage: 1.5+ MB\n"
     ]
    }
   ],
   "source": [
    "df.info()"
   ]
  },
  {
   "cell_type": "markdown",
   "metadata": {},
   "source": [
    "#### 1.4. Изучим основные характеристики датасета в транспонированном виде методом describe()."
   ]
  },
  {
   "cell_type": "code",
   "execution_count": 5,
   "metadata": {},
   "outputs": [
    {
     "data": {
      "text/html": [
       "<div>\n",
       "<style scoped>\n",
       "    .dataframe tbody tr th:only-of-type {\n",
       "        vertical-align: middle;\n",
       "    }\n",
       "\n",
       "    .dataframe tbody tr th {\n",
       "        vertical-align: top;\n",
       "    }\n",
       "\n",
       "    .dataframe thead th {\n",
       "        text-align: right;\n",
       "    }\n",
       "</style>\n",
       "<table border=\"1\" class=\"dataframe\">\n",
       "  <thead>\n",
       "    <tr style=\"text-align: right;\">\n",
       "      <th></th>\n",
       "      <th>count</th>\n",
       "      <th>mean</th>\n",
       "      <th>std</th>\n",
       "      <th>min</th>\n",
       "      <th>25%</th>\n",
       "      <th>50%</th>\n",
       "      <th>75%</th>\n",
       "      <th>max</th>\n",
       "    </tr>\n",
       "  </thead>\n",
       "  <tbody>\n",
       "    <tr>\n",
       "      <th>Unnamed: 0</th>\n",
       "      <td>16715.0</td>\n",
       "      <td>8357.000000</td>\n",
       "      <td>4825.349210</td>\n",
       "      <td>0.0</td>\n",
       "      <td>4178.5</td>\n",
       "      <td>8357.00</td>\n",
       "      <td>12535.50</td>\n",
       "      <td>16714.00</td>\n",
       "    </tr>\n",
       "    <tr>\n",
       "      <th>Year_of_Release</th>\n",
       "      <td>16446.0</td>\n",
       "      <td>2006.484616</td>\n",
       "      <td>5.877050</td>\n",
       "      <td>1980.0</td>\n",
       "      <td>2003.0</td>\n",
       "      <td>2007.00</td>\n",
       "      <td>2010.00</td>\n",
       "      <td>2016.00</td>\n",
       "    </tr>\n",
       "    <tr>\n",
       "      <th>NA_sales</th>\n",
       "      <td>16715.0</td>\n",
       "      <td>0.263377</td>\n",
       "      <td>0.813604</td>\n",
       "      <td>0.0</td>\n",
       "      <td>0.0</td>\n",
       "      <td>0.08</td>\n",
       "      <td>0.24</td>\n",
       "      <td>41.36</td>\n",
       "    </tr>\n",
       "    <tr>\n",
       "      <th>EU_sales</th>\n",
       "      <td>16715.0</td>\n",
       "      <td>0.145060</td>\n",
       "      <td>0.503339</td>\n",
       "      <td>0.0</td>\n",
       "      <td>0.0</td>\n",
       "      <td>0.02</td>\n",
       "      <td>0.11</td>\n",
       "      <td>28.96</td>\n",
       "    </tr>\n",
       "    <tr>\n",
       "      <th>JP_sales</th>\n",
       "      <td>16715.0</td>\n",
       "      <td>0.077617</td>\n",
       "      <td>0.308853</td>\n",
       "      <td>0.0</td>\n",
       "      <td>0.0</td>\n",
       "      <td>0.00</td>\n",
       "      <td>0.04</td>\n",
       "      <td>10.22</td>\n",
       "    </tr>\n",
       "    <tr>\n",
       "      <th>Other_sales</th>\n",
       "      <td>16715.0</td>\n",
       "      <td>0.047342</td>\n",
       "      <td>0.186731</td>\n",
       "      <td>0.0</td>\n",
       "      <td>0.0</td>\n",
       "      <td>0.01</td>\n",
       "      <td>0.03</td>\n",
       "      <td>10.57</td>\n",
       "    </tr>\n",
       "    <tr>\n",
       "      <th>Critic_Score</th>\n",
       "      <td>8137.0</td>\n",
       "      <td>68.967679</td>\n",
       "      <td>13.938165</td>\n",
       "      <td>13.0</td>\n",
       "      <td>60.0</td>\n",
       "      <td>71.00</td>\n",
       "      <td>79.00</td>\n",
       "      <td>98.00</td>\n",
       "    </tr>\n",
       "  </tbody>\n",
       "</table>\n",
       "</div>"
      ],
      "text/plain": [
       "                   count         mean          std     min     25%      50%  \\\n",
       "Unnamed: 0       16715.0  8357.000000  4825.349210     0.0  4178.5  8357.00   \n",
       "Year_of_Release  16446.0  2006.484616     5.877050  1980.0  2003.0  2007.00   \n",
       "NA_sales         16715.0     0.263377     0.813604     0.0     0.0     0.08   \n",
       "EU_sales         16715.0     0.145060     0.503339     0.0     0.0     0.02   \n",
       "JP_sales         16715.0     0.077617     0.308853     0.0     0.0     0.00   \n",
       "Other_sales      16715.0     0.047342     0.186731     0.0     0.0     0.01   \n",
       "Critic_Score      8137.0    68.967679    13.938165    13.0    60.0    71.00   \n",
       "\n",
       "                      75%       max  \n",
       "Unnamed: 0       12535.50  16714.00  \n",
       "Year_of_Release   2010.00   2016.00  \n",
       "NA_sales             0.24     41.36  \n",
       "EU_sales             0.11     28.96  \n",
       "JP_sales             0.04     10.22  \n",
       "Other_sales          0.03     10.57  \n",
       "Critic_Score        79.00     98.00  "
      ]
     },
     "execution_count": 5,
     "metadata": {},
     "output_type": "execute_result"
    }
   ],
   "source": [
    "df.describe().T"
   ]
  },
  {
   "cell_type": "markdown",
   "metadata": {},
   "source": [
    "#### Промежуточный вывод по результатам первичного исследования данных: \n",
    "- во всех столбцах, кроме столбцов с информацией о проданных копиях, есть пропущенные значения, которые могут повлиять на дальнейший анализ данных;\n",
    "- в столбце 'Year_of_Release' тип данных - float, а должен быть int, а вот в столбце 'User_Score' тип данных object, а должен быть float;\n",
    "- наименования столбцов не приведены к нижнему регистру, что может повлечь ошибки при анализе;\n",
    "- у некоторых игр очень низкие оценки критиков;\n",
    "- самая ранняя дата выхода игры - 1980 г., а самая поздняя дата - 2016 г.;\n",
    "- в столбцах с информацией о продажах игр в регионах есть нулевые значения (вероятно, некоторые игры просто не выставлены на продажу в конкретных регионах мира)."
   ]
  },
  {
   "cell_type": "markdown",
   "metadata": {},
   "source": [
    "### 2. Предобработка данных"
   ]
  },
  {
   "cell_type": "markdown",
   "metadata": {},
   "source": [
    "#### 2.1. Приведем наименования столбцов к нижнему регистру для удобства работы с ними. "
   ]
  },
  {
   "cell_type": "code",
   "execution_count": 6,
   "metadata": {},
   "outputs": [],
   "source": [
    "df.columns = df.columns.str.lower()"
   ]
  },
  {
   "cell_type": "markdown",
   "metadata": {},
   "source": [
    "#### 2.2. Выводим количество пропущенных значений для каждого столбца в процентах."
   ]
  },
  {
   "cell_type": "code",
   "execution_count": 7,
   "metadata": {},
   "outputs": [
    {
     "data": {
      "text/plain": [
       "unnamed: 0         0.000000\n",
       "name               0.000120\n",
       "platform           0.000000\n",
       "year_of_release    0.016093\n",
       "genre              0.000120\n",
       "na_sales           0.000000\n",
       "eu_sales           0.000000\n",
       "jp_sales           0.000000\n",
       "other_sales        0.000000\n",
       "critic_score       0.513192\n",
       "user_score         0.400897\n",
       "rating             0.404786\n",
       "dtype: float64"
      ]
     },
     "execution_count": 7,
     "metadata": {},
     "output_type": "execute_result"
    }
   ],
   "source": [
    "df.isna().sum()/len(df)"
   ]
  },
  {
   "cell_type": "markdown",
   "metadata": {},
   "source": [
    "В столбце `critic_score` пропущено более 50% значений, в столбцах `user_score` и `rating` пропущено около 40%. В столбце `year_of_release` пропущено ~2% значений, в остальных столбцах пропусков меньше 1%. Пропущенные значения отсутствуют только в столбцах с информацией о проданных копиях."
   ]
  },
  {
   "cell_type": "markdown",
   "metadata": {},
   "source": [
    "#### 2.3. Обработка пропусков и их заполнение (при возможности)."
   ]
  },
  {
   "cell_type": "code",
   "execution_count": 8,
   "metadata": {},
   "outputs": [
    {
     "data": {
      "text/html": [
       "<div>\n",
       "<style scoped>\n",
       "    .dataframe tbody tr th:only-of-type {\n",
       "        vertical-align: middle;\n",
       "    }\n",
       "\n",
       "    .dataframe tbody tr th {\n",
       "        vertical-align: top;\n",
       "    }\n",
       "\n",
       "    .dataframe thead th {\n",
       "        text-align: right;\n",
       "    }\n",
       "</style>\n",
       "<table border=\"1\" class=\"dataframe\">\n",
       "  <thead>\n",
       "    <tr style=\"text-align: right;\">\n",
       "      <th></th>\n",
       "      <th>unnamed: 0</th>\n",
       "      <th>name</th>\n",
       "      <th>platform</th>\n",
       "      <th>year_of_release</th>\n",
       "      <th>genre</th>\n",
       "      <th>na_sales</th>\n",
       "      <th>eu_sales</th>\n",
       "      <th>jp_sales</th>\n",
       "      <th>other_sales</th>\n",
       "      <th>critic_score</th>\n",
       "      <th>user_score</th>\n",
       "      <th>rating</th>\n",
       "    </tr>\n",
       "  </thead>\n",
       "  <tbody>\n",
       "    <tr>\n",
       "      <th>659</th>\n",
       "      <td>659</td>\n",
       "      <td>NaN</td>\n",
       "      <td>GEN</td>\n",
       "      <td>1993.0</td>\n",
       "      <td>NaN</td>\n",
       "      <td>1.78</td>\n",
       "      <td>0.53</td>\n",
       "      <td>0.00</td>\n",
       "      <td>0.08</td>\n",
       "      <td>NaN</td>\n",
       "      <td>NaN</td>\n",
       "      <td>NaN</td>\n",
       "    </tr>\n",
       "    <tr>\n",
       "      <th>14244</th>\n",
       "      <td>14244</td>\n",
       "      <td>NaN</td>\n",
       "      <td>GEN</td>\n",
       "      <td>1993.0</td>\n",
       "      <td>NaN</td>\n",
       "      <td>0.00</td>\n",
       "      <td>0.00</td>\n",
       "      <td>0.03</td>\n",
       "      <td>0.00</td>\n",
       "      <td>NaN</td>\n",
       "      <td>NaN</td>\n",
       "      <td>NaN</td>\n",
       "    </tr>\n",
       "  </tbody>\n",
       "</table>\n",
       "</div>"
      ],
      "text/plain": [
       "       unnamed: 0 name platform  year_of_release genre  na_sales  eu_sales  \\\n",
       "659           659  NaN      GEN           1993.0   NaN      1.78      0.53   \n",
       "14244       14244  NaN      GEN           1993.0   NaN      0.00      0.00   \n",
       "\n",
       "       jp_sales  other_sales  critic_score user_score rating  \n",
       "659        0.00         0.08           NaN        NaN    NaN  \n",
       "14244      0.03         0.00           NaN        NaN    NaN  "
      ]
     },
     "execution_count": 8,
     "metadata": {},
     "output_type": "execute_result"
    }
   ],
   "source": [
    "#посмотрим на пропуcки в столбце 'name'\n",
    "df[df['name'].isnull()]"
   ]
  },
  {
   "cell_type": "code",
   "execution_count": 9,
   "metadata": {},
   "outputs": [],
   "source": [
    "#пропуска всего 2, поэтому удалим строки с пропущенными значениями в столбце `name`, заполнить их мы не сможем\n",
    "df.dropna(subset=['name'], inplace=True)"
   ]
  },
  {
   "cell_type": "code",
   "execution_count": 10,
   "metadata": {},
   "outputs": [
    {
     "data": {
      "text/plain": [
       "False    16444\n",
       "True       269\n",
       "Name: year_of_release, dtype: int64"
      ]
     },
     "execution_count": 10,
     "metadata": {},
     "output_type": "execute_result"
    }
   ],
   "source": [
    "#проверим точное количество пропусков в столбце с годом выхода игры\n",
    "df['year_of_release'].isna().value_counts()"
   ]
  },
  {
   "cell_type": "code",
   "execution_count": 11,
   "metadata": {},
   "outputs": [],
   "source": [
    "#пыталась сгруппировать данные, чтобы заполнить пропуски там, где есть наименование и платформа, но не вышло...\n",
    "#предлагаю удалить строки с пропущенными значениями в year_of_release, т.к. их всего 269\n",
    "df.dropna(subset=['year_of_release'], inplace=True)"
   ]
  },
  {
   "cell_type": "code",
   "execution_count": 12,
   "metadata": {},
   "outputs": [],
   "source": [
    "#пропусков в столбце 'critic_score' много, медиану и среднее тут использовать нельзя, поэтому заполним нулями, чтобы перевести во float\n",
    "df['critic_score'] = df['critic_score'].fillna(0)"
   ]
  },
  {
   "cell_type": "code",
   "execution_count": 13,
   "metadata": {},
   "outputs": [
    {
     "data": {
      "text/plain": [
       "array(['8', nan, '8.3', '8.5', '6.6', '8.4', '8.6', '7.7', '6.3', '7.4',\n",
       "       '8.2', '9', '7.9', '8.1', '8.7', '7.1', '3.4', '5.3', '4.8', '3.2',\n",
       "       '8.9', '6.4', '7.8', '7.5', '2.6', '7.2', '9.2', '7', '7.3', '4.3',\n",
       "       '7.6', '5.7', '5', '9.1', '6.5', 'tbd', '8.8', '6.9', '9.4', '6.8',\n",
       "       '6.1', '6.7', '5.4', '4', '4.9', '4.5', '9.3', '6.2', '4.2', '6',\n",
       "       '3.7', '4.1', '5.8', '5.6', '5.5', '4.4', '4.6', '5.9', '3.9',\n",
       "       '3.1', '2.9', '5.2', '3.3', '4.7', '5.1', '3.5', '2.5', '1.9', '3',\n",
       "       '2.7', '2.2', '2', '9.5', '2.1', '3.6', '2.8', '1.8', '3.8', '0',\n",
       "       '1.6', '9.6', '2.4', '1.7', '1.1', '0.3', '1.5', '0.7', '1.2',\n",
       "       '2.3', '0.5', '1.3', '0.2', '0.6', '1.4', '0.9', '1', '9.7'],\n",
       "      dtype=object)"
      ]
     },
     "execution_count": 13,
     "metadata": {},
     "output_type": "execute_result"
    }
   ],
   "source": [
    "#проверяем уникальные значения в столбце 'user_score'\n",
    "df['user_score'].unique()"
   ]
  },
  {
   "cell_type": "code",
   "execution_count": 14,
   "metadata": {},
   "outputs": [],
   "source": [
    "#при выводе уникальных значений столбца 'user_score' видим значение 'tbd' (to be detrmined), что переводится как \"будет определено\"\n",
    "#заменим все tbd в столбце user_score на NaN'ы, т.к. по факту это одно и то же\n",
    "df['user_score'] = df['user_score'].where(\n",
    "    df['user_score'] != 'tbd', np.NaN)"
   ]
  },
  {
   "cell_type": "code",
   "execution_count": 15,
   "metadata": {},
   "outputs": [],
   "source": [
    "#заменим значения NaN в столбце 'rating' на 'unknown', т.к. рейтинг устанавливается индивидуально в каждом конкретном случае\n",
    "df['rating'] = df['rating'].fillna('unknown')"
   ]
  },
  {
   "cell_type": "code",
   "execution_count": 16,
   "metadata": {},
   "outputs": [
    {
     "data": {
      "text/html": [
       "<div>\n",
       "<style scoped>\n",
       "    .dataframe tbody tr th:only-of-type {\n",
       "        vertical-align: middle;\n",
       "    }\n",
       "\n",
       "    .dataframe tbody tr th {\n",
       "        vertical-align: top;\n",
       "    }\n",
       "\n",
       "    .dataframe thead th {\n",
       "        text-align: right;\n",
       "    }\n",
       "</style>\n",
       "<table border=\"1\" class=\"dataframe\">\n",
       "  <thead>\n",
       "    <tr style=\"text-align: right;\">\n",
       "      <th></th>\n",
       "      <th>unnamed: 0</th>\n",
       "      <th>name</th>\n",
       "      <th>platform</th>\n",
       "      <th>year_of_release</th>\n",
       "      <th>genre</th>\n",
       "      <th>na_sales</th>\n",
       "      <th>eu_sales</th>\n",
       "      <th>jp_sales</th>\n",
       "      <th>other_sales</th>\n",
       "      <th>critic_score</th>\n",
       "      <th>user_score</th>\n",
       "      <th>rating</th>\n",
       "    </tr>\n",
       "  </thead>\n",
       "  <tbody>\n",
       "  </tbody>\n",
       "</table>\n",
       "</div>"
      ],
      "text/plain": [
       "Empty DataFrame\n",
       "Columns: [unnamed: 0, name, platform, year_of_release, genre, na_sales, eu_sales, jp_sales, other_sales, critic_score, user_score, rating]\n",
       "Index: []"
      ]
     },
     "execution_count": 16,
     "metadata": {},
     "output_type": "execute_result"
    }
   ],
   "source": [
    "#посчитаем количество пропусков в столбце 'user_score'\n",
    "df[df['user_score'] == 'tbd']\n",
    "#пропуски не заполняем, чтобы значения 'unknown' не мешали переводу во float"
   ]
  },
  {
   "cell_type": "markdown",
   "metadata": {},
   "source": [
    "#### 2.4. Преобразуем типы данных."
   ]
  },
  {
   "cell_type": "code",
   "execution_count": 17,
   "metadata": {},
   "outputs": [],
   "source": [
    "df['year_of_release'] = df['year_of_release'].astype('int')\n",
    "df['user_score'] = df['user_score'].astype('float')\n",
    "df['critic_score'] = df['critic_score'].astype('float')"
   ]
  },
  {
   "cell_type": "code",
   "execution_count": 18,
   "metadata": {},
   "outputs": [
    {
     "data": {
      "text/plain": [
       "unnamed: 0           int64\n",
       "name                object\n",
       "platform            object\n",
       "year_of_release      int32\n",
       "genre               object\n",
       "na_sales           float64\n",
       "eu_sales           float64\n",
       "jp_sales           float64\n",
       "other_sales        float64\n",
       "critic_score       float64\n",
       "user_score         float64\n",
       "rating              object\n",
       "dtype: object"
      ]
     },
     "execution_count": 18,
     "metadata": {},
     "output_type": "execute_result"
    }
   ],
   "source": [
    "#проверяем тип данных после преобразования\n",
    "df.dtypes"
   ]
  },
  {
   "cell_type": "code",
   "execution_count": 19,
   "metadata": {},
   "outputs": [
    {
     "data": {
      "text/plain": [
       "0"
      ]
     },
     "execution_count": 19,
     "metadata": {},
     "output_type": "execute_result"
    }
   ],
   "source": [
    "#проверим наш датасет на полные дубликаты\n",
    "df.duplicated().sum()"
   ]
  },
  {
   "cell_type": "code",
   "execution_count": 20,
   "metadata": {},
   "outputs": [],
   "source": [
    "#проверяем неявные дубликаты\n",
    "#df = df[df.duplicated(subset=['name','platform', 'year_of_release'], keep=False)]\n",
    "#print(df)"
   ]
  },
  {
   "cell_type": "code",
   "execution_count": 21,
   "metadata": {},
   "outputs": [],
   "source": [
    "#видим, что у нас есть неявные дубликаты (задокументировала код выше)\n",
    "#удалим дубликаты в выбранных столбцах\n",
    "df = df.drop_duplicates(['name', 'platform', 'year_of_release'])"
   ]
  },
  {
   "cell_type": "code",
   "execution_count": 22,
   "metadata": {},
   "outputs": [],
   "source": [
    "#проверяем результат работы метода\n",
    "#df = df[df.duplicated(subset=['name','platform', 'year_of_release'], keep=False)]\n",
    "#print(df)"
   ]
  },
  {
   "cell_type": "markdown",
   "metadata": {},
   "source": [
    "**Промежуточный вывод по результатам предобработки данных:** \n",
    "\n",
    "1. Полные дубликаты строк в датасете отсутствуют, однако есть неявные дубликаты, которые мы удалили.  \n",
    "2. Строки с пропусками в столбцах `name` и `year_of_release` удалили, т.к. исключение таких строк не повлияет на последующий анализ, в связи с малым количеством пропущенных значений. Заполнить наименование не представляется возможным. Заполнить год релиза игры в теории возможно, спарсив данные из открытых источников, но в настоящем проекте удаляем строки, где значения отсутствуют.\n",
    "3. Практически равное количество пропусков в столбцах `user_score` и `critic_score`. Поскольку оценка - вещь субъективная, заполнить пропуски медианой или средним мы не можем, поэтому оставляем пропущенные значения. Вероятно, отсутствие значений в этих двух столбцах одновременно может влиять на продажи игры. \n",
    "4. Значения 'tbd' могли появиться в столбце `user_score`, т.к. пользователь еще не успел проставить оценку, либо отказался это делать, поэтому заменили `tbd` на `NaN`.\n",
    "5. Заменили типы значений в столбцах `years_of_release` и `user_score`.\n",
    "6. Пропуски в данных могли возникнуть по следующим причинам:\n",
    "- в столбце `critic_score` видим, что в основном оценки отсутствуют у игр, выпущенных в 90ых - 2000-ых, вероятно, это связано с тем, что игры раньше не оценивались критиками в Интернете, поэтому и нет данных, также оценка может отсутствовать у игр, выпущенных недавно и вошедших в датасет (например, у игр 2015-2016 гг.);\n",
    "- данные в столбце `rating` могут отсутствовать, т.к. сама организация ESRB возникла только в 1994 г., и, соответственно, на оценку игр требуется время, поэтому у игр, выпущенных до 2000 г. часто не указан рейтинг, к тому же, если верить Википедии, организация ESRB определяет рейтинг для ПО в Канаде и США (а у нас в датасете могут быть игры, увидевшие свет в других регионах);\n",
    "- пропуски в столбце `user_score` могли возникнуть по тем же причинам, что и пропуски в столбце `critic_score`, - игра еще не была оценена, либо, если игра выпущена давно, просто не подлежала оценке;\n",
    "- также в датасете есть строки, в которых практически во всех столбцах пропущены значения, вероятно, такие данные попали в датасет случайно;\n",
    "- пропуски в столбце `year_of_release` могли возникнуть из-за реального отсутствия информации о выпуске игры (игра была выпущена давно и данных об авторе/дате выпуска не сохранилось), либо из-за того, что год выпуска просто не был указан."
   ]
  },
  {
   "cell_type": "markdown",
   "metadata": {},
   "source": [
    "#### 2.5. Считаем суммарные продажи во всех регионах и записываем их в отдельный столбец."
   ]
  },
  {
   "cell_type": "code",
   "execution_count": 23,
   "metadata": {},
   "outputs": [],
   "source": [
    "df['sum_world_sales'] = df[[\n",
    "    'na_sales',\n",
    "    'eu_sales',\n",
    "    'jp_sales',\n",
    "    'other_sales'\n",
    "]].sum(axis=1)"
   ]
  },
  {
   "cell_type": "code",
   "execution_count": 24,
   "metadata": {},
   "outputs": [
    {
     "data": {
      "text/html": [
       "<div>\n",
       "<style scoped>\n",
       "    .dataframe tbody tr th:only-of-type {\n",
       "        vertical-align: middle;\n",
       "    }\n",
       "\n",
       "    .dataframe tbody tr th {\n",
       "        vertical-align: top;\n",
       "    }\n",
       "\n",
       "    .dataframe thead th {\n",
       "        text-align: right;\n",
       "    }\n",
       "</style>\n",
       "<table border=\"1\" class=\"dataframe\">\n",
       "  <thead>\n",
       "    <tr style=\"text-align: right;\">\n",
       "      <th></th>\n",
       "      <th>unnamed: 0</th>\n",
       "      <th>name</th>\n",
       "      <th>platform</th>\n",
       "      <th>year_of_release</th>\n",
       "      <th>genre</th>\n",
       "      <th>na_sales</th>\n",
       "      <th>eu_sales</th>\n",
       "      <th>jp_sales</th>\n",
       "      <th>other_sales</th>\n",
       "      <th>critic_score</th>\n",
       "      <th>user_score</th>\n",
       "      <th>rating</th>\n",
       "      <th>sum_world_sales</th>\n",
       "    </tr>\n",
       "  </thead>\n",
       "  <tbody>\n",
       "    <tr>\n",
       "      <th>0</th>\n",
       "      <td>0</td>\n",
       "      <td>Wii Sports</td>\n",
       "      <td>Wii</td>\n",
       "      <td>2006</td>\n",
       "      <td>Sports</td>\n",
       "      <td>41.36</td>\n",
       "      <td>28.96</td>\n",
       "      <td>3.77</td>\n",
       "      <td>8.45</td>\n",
       "      <td>76.0</td>\n",
       "      <td>8.0</td>\n",
       "      <td>E</td>\n",
       "      <td>82.54</td>\n",
       "    </tr>\n",
       "    <tr>\n",
       "      <th>1</th>\n",
       "      <td>1</td>\n",
       "      <td>Super Mario Bros.</td>\n",
       "      <td>NES</td>\n",
       "      <td>1985</td>\n",
       "      <td>Platform</td>\n",
       "      <td>29.08</td>\n",
       "      <td>3.58</td>\n",
       "      <td>6.81</td>\n",
       "      <td>0.77</td>\n",
       "      <td>0.0</td>\n",
       "      <td>NaN</td>\n",
       "      <td>unknown</td>\n",
       "      <td>40.24</td>\n",
       "    </tr>\n",
       "    <tr>\n",
       "      <th>2</th>\n",
       "      <td>2</td>\n",
       "      <td>Mario Kart Wii</td>\n",
       "      <td>Wii</td>\n",
       "      <td>2008</td>\n",
       "      <td>Racing</td>\n",
       "      <td>15.68</td>\n",
       "      <td>12.76</td>\n",
       "      <td>3.79</td>\n",
       "      <td>3.29</td>\n",
       "      <td>82.0</td>\n",
       "      <td>8.3</td>\n",
       "      <td>E</td>\n",
       "      <td>35.52</td>\n",
       "    </tr>\n",
       "    <tr>\n",
       "      <th>3</th>\n",
       "      <td>3</td>\n",
       "      <td>Wii Sports Resort</td>\n",
       "      <td>Wii</td>\n",
       "      <td>2009</td>\n",
       "      <td>Sports</td>\n",
       "      <td>15.61</td>\n",
       "      <td>10.93</td>\n",
       "      <td>3.28</td>\n",
       "      <td>2.95</td>\n",
       "      <td>80.0</td>\n",
       "      <td>8.0</td>\n",
       "      <td>E</td>\n",
       "      <td>32.77</td>\n",
       "    </tr>\n",
       "    <tr>\n",
       "      <th>4</th>\n",
       "      <td>4</td>\n",
       "      <td>Pokemon Red/Pokemon Blue</td>\n",
       "      <td>GB</td>\n",
       "      <td>1996</td>\n",
       "      <td>Role-Playing</td>\n",
       "      <td>11.27</td>\n",
       "      <td>8.89</td>\n",
       "      <td>10.22</td>\n",
       "      <td>1.00</td>\n",
       "      <td>0.0</td>\n",
       "      <td>NaN</td>\n",
       "      <td>unknown</td>\n",
       "      <td>31.38</td>\n",
       "    </tr>\n",
       "  </tbody>\n",
       "</table>\n",
       "</div>"
      ],
      "text/plain": [
       "   unnamed: 0                      name platform  year_of_release  \\\n",
       "0           0                Wii Sports      Wii             2006   \n",
       "1           1         Super Mario Bros.      NES             1985   \n",
       "2           2            Mario Kart Wii      Wii             2008   \n",
       "3           3         Wii Sports Resort      Wii             2009   \n",
       "4           4  Pokemon Red/Pokemon Blue       GB             1996   \n",
       "\n",
       "          genre  na_sales  eu_sales  jp_sales  other_sales  critic_score  \\\n",
       "0        Sports     41.36     28.96      3.77         8.45          76.0   \n",
       "1      Platform     29.08      3.58      6.81         0.77           0.0   \n",
       "2        Racing     15.68     12.76      3.79         3.29          82.0   \n",
       "3        Sports     15.61     10.93      3.28         2.95          80.0   \n",
       "4  Role-Playing     11.27      8.89     10.22         1.00           0.0   \n",
       "\n",
       "   user_score   rating  sum_world_sales  \n",
       "0         8.0        E            82.54  \n",
       "1         NaN  unknown            40.24  \n",
       "2         8.3        E            35.52  \n",
       "3         8.0        E            32.77  \n",
       "4         NaN  unknown            31.38  "
      ]
     },
     "execution_count": 24,
     "metadata": {},
     "output_type": "execute_result"
    }
   ],
   "source": [
    "#выводим первые 5 строк датасета для проверки записи всех изменений \n",
    "df.head()"
   ]
  },
  {
   "cell_type": "markdown",
   "metadata": {},
   "source": [
    "### 3. Исследовательский анализ данных"
   ]
  },
  {
   "cell_type": "markdown",
   "metadata": {},
   "source": [
    "##### В рамках исследовательского анализа мы изучим следующие метрики:\n",
    "1. Выпуск игр в разные годы.\n",
    "2. Изменение продаж по платформам.\n",
    "3. Выбор потенциально прибыльных платформ.\n",
    "4. Изучение влияния на продажи внутри одной платформы отзывов пользователей и критиков. \n",
    "5. Соотнесение выводов с продажами игр на других платформах.\n",
    "6. Изучение распределения игр по жанрам. "
   ]
  },
  {
   "cell_type": "markdown",
   "metadata": {},
   "source": [
    "#### 3.1. Посмотрим данные, содержащиеся в датасете, о выпуске игр в разные годы. "
   ]
  },
  {
   "cell_type": "code",
   "execution_count": 25,
   "metadata": {},
   "outputs": [
    {
     "data": {
      "image/png": "[encoded data removed]",
      "text/plain": [
       "<Figure size 576x360 with 1 Axes>"
      ]
     },
     "metadata": {
      "needs_background": "light"
     },
     "output_type": "display_data"
    }
   ],
   "source": [
    "#применим метод pivot_table, группируем по столбцам с годом выпуска игры и названием, построим график\n",
    "df.pivot_table(index='year_of_release', values='name', aggfunc='count') \\\n",
    "    .reset_index() \\\n",
    "    .plot(x='year_of_release', y='name', kind='bar', figsize=(8, 5),\n",
    "          ylabel='Количество игр',\n",
    "          xlabel='Год выпуска',\n",
    "          title='Выпуск игр в разные годы',\n",
    "          label= 'Игры')\n",
    "plt.show()"
   ]
  },
  {
   "cell_type": "markdown",
   "metadata": {},
   "source": [
    "Исходя из построенного графика можно сделать следующие выводы:\n",
    "\n",
    "1. Активный выпуск игр начался в 1994 году; \n",
    "2. Больше всего релизов пришлось на период с 2002 по 2011 гг., а самый пик - 2008 - 2009 г. Вероятно, это связано с появлением в продаже каких-то абсолютно новых гаджетов, на которых можно запускать игры.\n",
    "\n",
    "Вполне очевидно, что при планировании рекламной кампании на следующий год мы не опираемся на данные о продажах и оценках тридцатилетней давности. Однако, мы не можем опираться только на данные за прошлый и текущий годы, т.к. релизы игр происходят раз в несколько лет, соответственно, необходимо определить, за какой период нам необходимо взять статистику, чтобы проводить анализ. "
   ]
  },
  {
   "cell_type": "markdown",
   "metadata": {},
   "source": [
    "#### 3.2. Исследование изменений продаж по платформам. "
   ]
  },
  {
   "cell_type": "code",
   "execution_count": 26,
   "metadata": {},
   "outputs": [
    {
     "data": {
      "image/png": "[encoded data removed]",
      "text/plain": [
       "<Figure size 1440x720 with 1 Axes>"
      ]
     },
     "metadata": {
      "needs_background": "light"
     },
     "output_type": "display_data"
    }
   ],
   "source": [
    "#построим общий график, чтобы посмотреть, как менялись продажи по платформам\n",
    "df.pivot_table(index='year_of_release', columns='platform', values='sum_world_sales', aggfunc='sum').reset_index().\\\n",
    "plot(x='year_of_release', figsize=(20,10), lw=4, alpha=0.7)\n",
    "plt.title('График изменения продаж по платформам')\n",
    "plt.xlabel('Год релиза') \n",
    "plt.ylabel('Объем продаж')\n",
    "plt.show()"
   ]
  },
  {
   "cell_type": "code",
   "execution_count": 27,
   "metadata": {},
   "outputs": [
    {
     "data": {
      "image/png": "[encoded data removed]",
      "text/plain": [
       "<Figure size 864x648 with 1 Axes>"
      ]
     },
     "metadata": {
      "needs_background": "light"
     },
     "output_type": "display_data"
    }
   ],
   "source": [
    "#посмотрим распределение продаж по платформам\n",
    "df.pivot_table(index='platform',values='sum_world_sales', aggfunc='sum').sort_values(\n",
    "    by='sum_world_sales', ascending=False).plot(kind='bar', figsize=(12, 9))\n",
    "plt.title('Общее распределение продаж по платформам')\n",
    "plt.xlabel('Платформы')\n",
    "plt.ylabel('Объем продаж (в миллионах проданных копий)')\n",
    "plt.show()"
   ]
  },
  {
   "cell_type": "code",
   "execution_count": 28,
   "metadata": {},
   "outputs": [],
   "source": [
    "#видим, что самых популярных платформ - 6, берем их для дальнейшего исследования\n",
    "top_platform = df.pivot_table(index='platform',values='sum_world_sales', aggfunc='sum').sort_values(\n",
    "    by='sum_world_sales', ascending=False).reset_index().head(6)['platform']"
   ]
  },
  {
   "cell_type": "code",
   "execution_count": 29,
   "metadata": {},
   "outputs": [
    {
     "data": {
      "image/png": "[encoded data removed]",
      "text/plain": [
       "<Figure size 1440x720 with 1 Axes>"
      ]
     },
     "metadata": {
      "needs_background": "light"
     },
     "output_type": "display_data"
    }
   ],
   "source": [
    "#построим отдельный график для самых популярных платформ\n",
    "df.query('platform in @top_platform').\\\n",
    "pivot_table(index='year_of_release', columns='platform', values='sum_world_sales', aggfunc='sum').reset_index().\\\n",
    "plot(x='year_of_release', figsize=(20,10))\n",
    "plt.title('График изменения продаж на топ-платформах')\n",
    "plt.xlabel('Год релиза')\n",
    "plt.ylabel('Объем продаж')\n",
    "plt.show()"
   ]
  },
  {
   "cell_type": "code",
   "execution_count": 30,
   "metadata": {},
   "outputs": [
    {
     "name": "stdout",
     "output_type": "stream",
     "text": [
      " Платформа Wii существовала с 2006 до 2016: 10 лет\n",
      " Платформа NES существовала с 1983 до 1994: 11 лет\n",
      " Платформа GB существовала с 1988 до 2001: 13 лет\n",
      " Платформа DS существовала с 2004 до 2013: 9 лет\n",
      " Платформа X360 существовала с 2005 до 2016: 11 лет\n",
      " Платформа PS3 существовала с 2006 до 2016: 10 лет\n",
      " Платформа PS2 существовала с 2000 до 2011: 11 лет\n",
      " Платформа SNES существовала с 1990 до 1999: 9 лет\n",
      " Платформа GBA существовала с 2001 до 2007: 6 лет\n",
      " Платформа PS4 существовала с 2013 до 2016: 3 лет\n",
      " Платформа 3DS существовала с 2011 до 2016: 5 лет\n",
      " Платформа N64 существовала с 1996 до 2001: 5 лет\n",
      " Платформа PS существовала с 1994 до 2003: 9 лет\n",
      " Платформа XB существовала с 2000 до 2008: 8 лет\n",
      " Платформа PC существовала с 1992 до 2016: 24 лет\n",
      " Платформа 2600 существовала с 1980 до 1989: 9 лет\n",
      " Платформа PSP существовала с 2004 до 2013: 9 лет\n",
      " Платформа XOne существовала с 2013 до 2016: 3 лет\n",
      " Платформа WiiU существовала с 2012 до 2016: 4 лет\n",
      " Платформа GC существовала с 2001 до 2007: 6 лет\n",
      " Платформа GEN существовала с 1990 до 1994: 4 лет\n",
      " Платформа DC существовала с 1998 до 2002: 4 лет\n",
      " Платформа PSV существовала с 2011 до 2016: 5 лет\n",
      " Платформа SAT существовала с 1994 до 1998: 4 лет\n",
      " Платформа WS существовала с 1999 до 2001: 2 лет\n",
      " Платформа NG существовала с 1993 до 1995: 2 лет\n"
     ]
    }
   ],
   "source": [
    "#подробнее исследуем, за какой срок появлялись новые и исчезали старые платформы\n",
    "#создаем функцию\n",
    "for platform in df['platform'].unique():\n",
    "    minim = df[(df['platform'] == platform)&(df['sum_world_sales'] >= 0.1)]['year_of_release'].min()\n",
    "    maxim = df[(df['platform'] == platform)&(df['sum_world_sales'] >= 0.1)]['year_of_release'].max()\n",
    "    if platform in df['platform'].unique() and maxim - minim >1:\n",
    "        print(f' Платформа {platform} существовала с {minim} до {maxim}: {maxim - minim} лет' )"
   ]
  },
  {
   "cell_type": "markdown",
   "metadata": {},
   "source": [
    "**После исследования графиков и данных можем сделать следующие промежуточные выводы:**\n",
    "\n",
    "1. Срок жизни платформ в среднем около 8 лет. После выхода платформы она стремительно набирает популярность, а затем популярность со временем падает. Популярность падает в связи с выходом новой платформы (это видно на примере PlayStation). \n",
    "2. По продажам лидируют следующие 6 платформ: PS2, X360, PS3, Wii, DS, PS. Фактически это 3 версии консоли PlayStation, игровая приставка X360 от компании Microsoft, Wii и DS от Nintendo.\n",
    "3. Для последующего анализа берем данные с 2013 года, как наиболее релевантные.\n",
    "4. Для выбора нескольких потенциально прибыльных платформ сопоставим данные с графика с распределением продаж по платформам и сроком жизни платформы. В результате анализа выбор падает на следующие платформы: Wii, X360, PS3, PS4 (как преемник PS3). "
   ]
  },
  {
   "cell_type": "markdown",
   "metadata": {},
   "source": [
    "#### 3.3. Строим график «ящик с усами» по глобальным продажам игр в разбивке по платформам. "
   ]
  },
  {
   "cell_type": "code",
   "execution_count": 31,
   "metadata": {},
   "outputs": [],
   "source": [
    "#делаем срез по релизам, чтобы у нас были актуальные данные (еще раз: берем данные с 2013 по 2016 гг.)\n",
    "year_df = df.query('year_of_release >= 2013')"
   ]
  },
  {
   "cell_type": "code",
   "execution_count": 32,
   "metadata": {},
   "outputs": [
    {
     "data": {
      "image/png": "[encoded data removed]",
      "text/plain": [
       "<Figure size 1166.4x432 with 1 Axes>"
      ]
     },
     "metadata": {
      "needs_background": "light"
     },
     "output_type": "display_data"
    }
   ],
   "source": [
    "# строим график\n",
    "sns.catplot(x=\"platform\", \n",
    "            y='sum_world_sales',\n",
    "            kind=\"box\", \n",
    "            data=year_df,  \n",
    "            height=6, \n",
    "            aspect=2.7)\n",
    "_ = plt.ylim(0, 2)\n",
    "plt.title('Глобальные продажи игр в разбивке по платформам')\n",
    "plt.ylabel('Суммарные продажи во всех регионах')\n",
    "plt.xlabel('Платформы')\n",
    "plt.show()"
   ]
  },
  {
   "cell_type": "markdown",
   "metadata": {},
   "source": [
    "**После исследования графика \"ящик с усами\" мы можем сделать следующие промежуточные выводы:**\n",
    "\n",
    "Подтверждаем ранее сделанный вывод о том, что больше всего продаж приходится на консоли PlayStation, Microsoft и Nintendo. Колоссальные продажи у X360 и PS4.\n",
    "По медианным значениям видим, что игры на PS4 продаются лучше, чем игры на его предшественнике - PS3. "
   ]
  },
  {
   "cell_type": "markdown",
   "metadata": {},
   "source": [
    "#### 3.4. Влияние отзывов пользователей и критиков на продажи внутри одной популярной платформы ."
   ]
  },
  {
   "cell_type": "code",
   "execution_count": 33,
   "metadata": {},
   "outputs": [],
   "source": [
    "#влияние отзывов сначала будем оценивать по платформе PS4, как самой актуальной и популярной\n",
    "#чтобы ниже оценить влияние оценок критиков на продажи уберем нули, которыми мы ранее заполнили пропуски\n",
    "ps4 = df.query('platform == \"PS4\" and (critic_score != 0)')"
   ]
  },
  {
   "cell_type": "code",
   "execution_count": 34,
   "metadata": {},
   "outputs": [
    {
     "data": {
      "image/png": "[encoded data removed]",
      "text/plain": [
       "<Figure size 720x360 with 1 Axes>"
      ]
     },
     "metadata": {
      "needs_background": "light"
     },
     "output_type": "display_data"
    }
   ],
   "source": [
    "#построим диаграмму рассеивания для оценки зависимости продаж игр от отзывов пользователей\n",
    "ps4.plot(x='user_score', y='sum_world_sales', kind='scatter', figsize=(10,5), alpha=0.7)\n",
    "plt.title('Диаграмма рассеяния влияния отзывов пользователей на продажи на платформе PS4')\n",
    "plt.ylabel('Суммарные продажи во всех регионах')\n",
    "plt.xlabel('Оценка пользователей')\n",
    "plt.show()"
   ]
  },
  {
   "cell_type": "code",
   "execution_count": 35,
   "metadata": {},
   "outputs": [
    {
     "name": "stdout",
     "output_type": "stream",
     "text": [
      "Корреляция между отзывами пользователей и продажами для платформы PS4 составляет: -0.03362497596528878\n"
     ]
    }
   ],
   "source": [
    "#посмотрим корреляцию между отзывами пользователей и продажами для платформы PS4\n",
    "print('Корреляция между отзывами пользователей и продажами для платформы PS4 составляет:', \n",
    "      ps4['sum_world_sales'].corr(ps4['user_score']))"
   ]
  },
  {
   "cell_type": "markdown",
   "metadata": {},
   "source": [
    "Исходя из построенной диаграммы рассеяния и посчитанной корреляции можем сделать вывод, что отзывы пользователей не влияют на продажи игр на платформе PS4."
   ]
  },
  {
   "cell_type": "code",
   "execution_count": 36,
   "metadata": {},
   "outputs": [
    {
     "data": {
      "image/png": "[encoded data removed]",
      "text/plain": [
       "<Figure size 720x360 with 1 Axes>"
      ]
     },
     "metadata": {
      "needs_background": "light"
     },
     "output_type": "display_data"
    }
   ],
   "source": [
    "#построим диаграмму рассеивания для оценки зависимости продаж игр от отзывов критиков\n",
    "ps4.plot(x='critic_score', y='sum_world_sales', kind='scatter', figsize=(10,5), alpha=0.7)\n",
    "plt.title('Диаграмма рассеяния влияния отзывов критиков на продажи на платформе PS4')\n",
    "plt.ylabel('Суммарные продажи во всех регионах')\n",
    "plt.xlabel('Оценка критиков')\n",
    "plt.show()"
   ]
  },
  {
   "cell_type": "code",
   "execution_count": 37,
   "metadata": {},
   "outputs": [
    {
     "name": "stdout",
     "output_type": "stream",
     "text": [
      "Корреляция между отзывами критиков и продажами для платформы PS4 составляет: 0.406567902061781\n"
     ]
    }
   ],
   "source": [
    "#посмотрим корреляцию между отзывами критикоы и продажами для платформы PS4\n",
    "print('Корреляция между отзывами критиков и продажами для платформы PS4 составляет:', \n",
    "      ps4['sum_world_sales'].corr(ps4['critic_score']))"
   ]
  },
  {
   "cell_type": "markdown",
   "metadata": {},
   "source": [
    "Исходя из построенной диаграммы рассеяния и посчитанной корреляции можем сделать вывод, что отзывы критиков не сильно влияют на продажи игр на платформе PS4, т.к. корреляция 0.40 говорит о наличии связи, однако не слишком сильной. Выходит, что в некоторых случаях отзывы критиков влияют на продажи игр на конкретной платформе, но не всегда."
   ]
  },
  {
   "cell_type": "code",
   "execution_count": 38,
   "metadata": {},
   "outputs": [
    {
     "name": "stdout",
     "output_type": "stream",
     "text": [
      "\n",
      "PS3:\n",
      "Коэффициент корреляции user_score и sum_world_sales: 0.02\n",
      "Коэффициент корреляции critic_score и sum_world_sales: 0.33\n",
      "\n",
      "X360:\n",
      "Коэффициент корреляции user_score и sum_world_sales: -0.01\n",
      "Коэффициент корреляции critic_score и sum_world_sales: 0.35\n",
      "\n",
      "Wii:\n",
      "Коэффициент корреляции user_score и sum_world_sales: nan\n",
      "Коэффициент корреляции critic_score и sum_world_sales: nan\n"
     ]
    }
   ],
   "source": [
    "#оценим коэффициент коррелляции для ранее выбранных нами платформ с данными с 2013 года\n",
    "for platform in ['PS3', 'X360', 'Wii']:\n",
    "    print('\\n{0}:'.format(platform))\n",
    "    for column in ['user_score', 'critic_score']:\n",
    "        temp = year_df.query('platform == @platform and (user_score != -1) and (critic_score != 0)')\n",
    "        print('Коэффициент корреляции {0} и sum_world_sales: {1}'.\\\n",
    "              format(column, round(temp[column].corr(temp['sum_world_sales']), 2)))"
   ]
  },
  {
   "cell_type": "markdown",
   "metadata": {},
   "source": [
    "Исследованные нами коэффициенты корреляции для платформ PS3, X360 и Wii показывают схожие результаты, как и для платформы PS4. Зависимости между продажами и оценками пользователей не найдено. Зависимость между продажами и оценками критиков слабая. "
   ]
  },
  {
   "cell_type": "markdown",
   "metadata": {},
   "source": [
    "#### 3.5. Изучение общего распределения игр по жанрам."
   ]
  },
  {
   "cell_type": "code",
   "execution_count": 39,
   "metadata": {},
   "outputs": [
    {
     "data": {
      "image/png": "[encoded data removed]",
      "text/plain": [
       "<Figure size 720x360 with 1 Axes>"
      ]
     },
     "metadata": {
      "needs_background": "light"
     },
     "output_type": "display_data"
    }
   ],
   "source": [
    "#посмотрим на суммарный доход игр в разрезе жанров\n",
    "year_df.groupby('genre')['sum_world_sales'].sum().reset_index().sort_values(by = 'sum_world_sales', ascending = False).\\\n",
    "plot(x=\"genre\", y=\"sum_world_sales\", kind='bar', figsize=(10,5), alpha=0.7)\n",
    "plt.title('Суммарный доход игр по жанрам')\n",
    "plt.ylabel('Суммарные продажи во всех регионах')\n",
    "plt.xlabel('Жанр')\n",
    "plt.show()"
   ]
  },
  {
   "cell_type": "code",
   "execution_count": 40,
   "metadata": {},
   "outputs": [
    {
     "data": {
      "image/png": "[encoded data removed]",
      "text/plain": [
       "<Figure size 1166.4x432 with 1 Axes>"
      ]
     },
     "metadata": {
      "needs_background": "light"
     },
     "output_type": "display_data"
    }
   ],
   "source": [
    "#построим график общего распределения игр по жанрам\n",
    "sns.catplot(x=\"genre\", \n",
    "            y='sum_world_sales',\n",
    "            kind=\"box\", \n",
    "            data=year_df,  \n",
    "            height=6, \n",
    "            aspect=2.7)\n",
    "_ = plt.ylim(0, 2)\n",
    "plt.title('График общего распределения игр по жанрам')\n",
    "plt.ylabel('Суммарные продажи во всех регионах')\n",
    "plt.xlabel('Жанры')\n",
    "plt.show()"
   ]
  },
  {
   "cell_type": "markdown",
   "metadata": {},
   "source": [
    "Суммарные продажи самые большие в жанрах Action, Shooter, Sports и Role-Playing. Однако стабильно высокий доход приносят игры из жанра Shooter. За высокими показателями общих продаж может скрываться множество мелких игр с низкими продажами. Также ниже проверим, совпадает ли распределение игр по жанрам в разных регионах мира. "
   ]
  },
  {
   "cell_type": "markdown",
   "metadata": {},
   "source": [
    "### 4. Составляем портрет пользователя в каждом из регионов (NA, EU, JP)."
   ]
  },
  {
   "cell_type": "markdown",
   "metadata": {},
   "source": [
    "Определим для пользователя каждого региона (NA, EU, JP):\n",
    "\n",
    "- cамые популярные платформы (топ-5), опишем различия в долях продаж;\n",
    "- самые популярные жанры (топ-5), поясним разницу;\n",
    "- влияет ли рейтинг ESRB на продажи в отдельном регионе."
   ]
  },
  {
   "cell_type": "code",
   "execution_count": 41,
   "metadata": {},
   "outputs": [],
   "source": [
    "#создадим функцию для создания графиков, чтобы упростить себе жизнь на следующих этапах\n",
    "#для исследования берем данные с 2013 года\n",
    "\n",
    "def user_data(groupby, region_sales, ax):\n",
    "    pivot = year_df.groupby(groupby).agg({region_sales: 'sum'}).sort_values(by=region_sales, ascending=False)[:5]\n",
    "    plot = pivot.plot(kind='bar', ax=axes[ax], \n",
    "                   fontsize=18)"
   ]
  },
  {
   "cell_type": "markdown",
   "metadata": {},
   "source": [
    "#### 4.1. Изучим популярность платформ в разных странах."
   ]
  },
  {
   "cell_type": "code",
   "execution_count": 42,
   "metadata": {},
   "outputs": [
    {
     "data": {
      "image/png": "[encoded data removed]",
      "text/plain": [
       "<Figure size 1800x432 with 3 Axes>"
      ]
     },
     "metadata": {
      "needs_background": "light"
     },
     "output_type": "display_data"
    }
   ],
   "source": [
    "fig, axes = plt.subplots(1, 3, figsize=(25,6))\n",
    "fig.suptitle('Популярность платформ в разных странах')\n",
    "\n",
    "user_data('platform', 'na_sales', 0)\n",
    "plt.title('Популярность платформ в Серверной Америке')\n",
    "plt.ylabel('Суммарные продажи в Северной Америке (млн. копий)')\n",
    "plt.xlabel('Платформы')\n",
    "\n",
    "user_data('platform', 'eu_sales', 1)\n",
    "plt.title('Популярность платформ в Европе')\n",
    "plt.ylabel('Суммарные продажи в Европе (млн. копий)')\n",
    "plt.xlabel('Платформы')\n",
    "\n",
    "user_data('platform', 'jp_sales', 2)\n",
    "plt.title('Популярность платформ в Японии')\n",
    "plt.ylabel('Суммарные продажи в Японии (млн. копий)')\n",
    "plt.xlabel('Платформы')\n",
    "plt.show()"
   ]
  },
  {
   "cell_type": "markdown",
   "metadata": {},
   "source": [
    "В Северной Америке и Европе популярны одни и те же платформы: PS4 является самой популярной в обоих регионах, однако продажи PS4 в Европе намного выше, чем в США, т.к. в США большУю долю рынка занимают платформы Microsoft. \n",
    "В Японии картина совсем другая - лидером по популярности среди платформ является 3DS."
   ]
  },
  {
   "cell_type": "markdown",
   "metadata": {},
   "source": [
    "#### 4.2. Изучим популярность жанров в разных странах."
   ]
  },
  {
   "cell_type": "markdown",
   "metadata": {},
   "source": [
    "В части жанров ситуация схожа с выводами, обозначенными выше: в Северной Америке и Европе одинаково популярны жанры экшн, шутеры и спорт, а в Японии первое место по популярности занимают ролевые игры, однако на втором месте также экшны.  "
   ]
  },
  {
   "cell_type": "code",
   "execution_count": 43,
   "metadata": {},
   "outputs": [
    {
     "data": {
      "image/png": "[encoded data removed]",
      "text/plain": [
       "<Figure size 1800x432 with 3 Axes>"
      ]
     },
     "metadata": {
      "needs_background": "light"
     },
     "output_type": "display_data"
    }
   ],
   "source": [
    "fig, axes = plt.subplots(1, 3, figsize=(25,6))\n",
    "\n",
    "user_data('genre', 'na_sales', 0)\n",
    "axes[0].set_title('Популярность жанров в Северной Америке')\n",
    "axes[0].set_ylabel('Суммарные продажи в Северной Америке (млн. копий)')\n",
    "axes[0].set_xlabel('Жанры')\n",
    "\n",
    "user_data('genre', 'eu_sales', 1)\n",
    "axes[1].set_title('Популярность жанров в Европе')\n",
    "axes[1].set_ylabel('Суммарные продажи в Европе (млн. копий)')\n",
    "axes[1].set_xlabel('Жанры')\n",
    "\n",
    "user_data('genre', 'jp_sales', 2)\n",
    "axes[2].set_title('Популярность жанров в Японии')\n",
    "axes[2].set_ylabel('Суммарные продажи в Японии (млн. копий)')\n",
    "axes[2].set_xlabel('Жанры')\n",
    "\n",
    "plt.show()"
   ]
  },
  {
   "cell_type": "markdown",
   "metadata": {},
   "source": [
    "#### 4.3. Изучим влияние рейтинга ESRB на продажи в отдельном регионе."
   ]
  },
  {
   "cell_type": "code",
   "execution_count": 44,
   "metadata": {},
   "outputs": [
    {
     "data": {
      "text/plain": [
       "array(['M', 'unknown', 'E', 'T', 'E10+'], dtype=object)"
      ]
     },
     "execution_count": 44,
     "metadata": {},
     "output_type": "execute_result"
    }
   ],
   "source": [
    "#посмотрим на уникальные значения рейтинга в столбце 'rating' (только данные с 2013 года)\n",
    "year_df['rating'].unique()"
   ]
  },
  {
   "cell_type": "code",
   "execution_count": 45,
   "metadata": {},
   "outputs": [
    {
     "data": {
      "text/html": [
       "<div>\n",
       "<style scoped>\n",
       "    .dataframe tbody tr th:only-of-type {\n",
       "        vertical-align: middle;\n",
       "    }\n",
       "\n",
       "    .dataframe tbody tr th {\n",
       "        vertical-align: top;\n",
       "    }\n",
       "\n",
       "    .dataframe thead th {\n",
       "        text-align: right;\n",
       "    }\n",
       "</style>\n",
       "<table border=\"1\" class=\"dataframe\">\n",
       "  <thead>\n",
       "    <tr style=\"text-align: right;\">\n",
       "      <th></th>\n",
       "      <th>na_sales</th>\n",
       "    </tr>\n",
       "    <tr>\n",
       "      <th>rating</th>\n",
       "      <th></th>\n",
       "    </tr>\n",
       "  </thead>\n",
       "  <tbody>\n",
       "    <tr>\n",
       "      <th>M</th>\n",
       "      <td>165.21</td>\n",
       "    </tr>\n",
       "    <tr>\n",
       "      <th>unknown</th>\n",
       "      <td>89.42</td>\n",
       "    </tr>\n",
       "    <tr>\n",
       "      <th>E</th>\n",
       "      <td>79.05</td>\n",
       "    </tr>\n",
       "    <tr>\n",
       "      <th>E10+</th>\n",
       "      <td>54.24</td>\n",
       "    </tr>\n",
       "    <tr>\n",
       "      <th>T</th>\n",
       "      <td>49.79</td>\n",
       "    </tr>\n",
       "  </tbody>\n",
       "</table>\n",
       "</div>"
      ],
      "text/plain": [
       "         na_sales\n",
       "rating           \n",
       "M          165.21\n",
       "unknown     89.42\n",
       "E           79.05\n",
       "E10+        54.24\n",
       "T           49.79"
      ]
     },
     "execution_count": 45,
     "metadata": {},
     "output_type": "execute_result"
    }
   ],
   "source": [
    "#посмотрим влияние рейтинга ESRB на продажи в Северной Америке\n",
    "na_rating_pivot_table = pd.pivot_table(year_df, index='rating', values='na_sales',\n",
    "                                        aggfunc='sum').sort_values('na_sales', ascending=False)\n",
    "na_rating_pivot_table"
   ]
  },
  {
   "cell_type": "code",
   "execution_count": 46,
   "metadata": {},
   "outputs": [
    {
     "data": {
      "text/html": [
       "<div>\n",
       "<style scoped>\n",
       "    .dataframe tbody tr th:only-of-type {\n",
       "        vertical-align: middle;\n",
       "    }\n",
       "\n",
       "    .dataframe tbody tr th {\n",
       "        vertical-align: top;\n",
       "    }\n",
       "\n",
       "    .dataframe thead th {\n",
       "        text-align: right;\n",
       "    }\n",
       "</style>\n",
       "<table border=\"1\" class=\"dataframe\">\n",
       "  <thead>\n",
       "    <tr style=\"text-align: right;\">\n",
       "      <th></th>\n",
       "      <th>eu_sales</th>\n",
       "    </tr>\n",
       "    <tr>\n",
       "      <th>rating</th>\n",
       "      <th></th>\n",
       "    </tr>\n",
       "  </thead>\n",
       "  <tbody>\n",
       "    <tr>\n",
       "      <th>M</th>\n",
       "      <td>145.32</td>\n",
       "    </tr>\n",
       "    <tr>\n",
       "      <th>E</th>\n",
       "      <td>83.36</td>\n",
       "    </tr>\n",
       "    <tr>\n",
       "      <th>unknown</th>\n",
       "      <td>78.91</td>\n",
       "    </tr>\n",
       "    <tr>\n",
       "      <th>E10+</th>\n",
       "      <td>42.69</td>\n",
       "    </tr>\n",
       "    <tr>\n",
       "      <th>T</th>\n",
       "      <td>41.95</td>\n",
       "    </tr>\n",
       "  </tbody>\n",
       "</table>\n",
       "</div>"
      ],
      "text/plain": [
       "         eu_sales\n",
       "rating           \n",
       "M          145.32\n",
       "E           83.36\n",
       "unknown     78.91\n",
       "E10+        42.69\n",
       "T           41.95"
      ]
     },
     "execution_count": 46,
     "metadata": {},
     "output_type": "execute_result"
    }
   ],
   "source": [
    "#посмотрим влияние рейтинга ESRB на продажи в Европе\n",
    "eu_rating_pivot_table = pd.pivot_table(year_df, index='rating', values='eu_sales',\n",
    "                                        aggfunc='sum').sort_values('eu_sales', ascending=False)\n",
    "eu_rating_pivot_table"
   ]
  },
  {
   "cell_type": "code",
   "execution_count": 47,
   "metadata": {},
   "outputs": [
    {
     "data": {
      "text/html": [
       "<div>\n",
       "<style scoped>\n",
       "    .dataframe tbody tr th:only-of-type {\n",
       "        vertical-align: middle;\n",
       "    }\n",
       "\n",
       "    .dataframe tbody tr th {\n",
       "        vertical-align: top;\n",
       "    }\n",
       "\n",
       "    .dataframe thead th {\n",
       "        text-align: right;\n",
       "    }\n",
       "</style>\n",
       "<table border=\"1\" class=\"dataframe\">\n",
       "  <thead>\n",
       "    <tr style=\"text-align: right;\">\n",
       "      <th></th>\n",
       "      <th>jp_sales</th>\n",
       "    </tr>\n",
       "    <tr>\n",
       "      <th>rating</th>\n",
       "      <th></th>\n",
       "    </tr>\n",
       "  </thead>\n",
       "  <tbody>\n",
       "    <tr>\n",
       "      <th>unknown</th>\n",
       "      <td>85.05</td>\n",
       "    </tr>\n",
       "    <tr>\n",
       "      <th>T</th>\n",
       "      <td>20.59</td>\n",
       "    </tr>\n",
       "    <tr>\n",
       "      <th>E</th>\n",
       "      <td>15.14</td>\n",
       "    </tr>\n",
       "    <tr>\n",
       "      <th>M</th>\n",
       "      <td>14.11</td>\n",
       "    </tr>\n",
       "    <tr>\n",
       "      <th>E10+</th>\n",
       "      <td>5.89</td>\n",
       "    </tr>\n",
       "  </tbody>\n",
       "</table>\n",
       "</div>"
      ],
      "text/plain": [
       "         jp_sales\n",
       "rating           \n",
       "unknown     85.05\n",
       "T           20.59\n",
       "E           15.14\n",
       "M           14.11\n",
       "E10+         5.89"
      ]
     },
     "execution_count": 47,
     "metadata": {},
     "output_type": "execute_result"
    }
   ],
   "source": [
    "#посмотрим влияние рейтинга ESRB на продажи в Японии\n",
    "jp_rating_pivot_table = pd.pivot_table(year_df, index='rating', values='jp_sales',\n",
    "                                        aggfunc='sum').sort_values('jp_sales', ascending=False)\n",
    "jp_rating_pivot_table"
   ]
  },
  {
   "cell_type": "code",
   "execution_count": 48,
   "metadata": {},
   "outputs": [],
   "source": [
    "#создадим аналогичную функцию,"
   ]
  },
  {
   "cell_type": "markdown",
   "metadata": {},
   "source": [
    "В США и Европе по продажам лидируют игры с рейтингом М - \"для взрослых\", что означает что материалы игры не подходят для лиц младше 17 лет (тут видим прямую взаимосвязь с самыми продаваемыми жанрами в США и ЕС - экшны и шутеры). Примерно одинаковое количество продаж у игр с рейтингом E - \"для всех\". В Японии же самые популярные игры, у которых рейтинг не определен, далее по популярности игры с рейтингом 'T' - \"подросткам\", что означает, что материалы игры подходят для лиц от 13 лет. "
   ]
  },
  {
   "cell_type": "code",
   "execution_count": 49,
   "metadata": {},
   "outputs": [
    {
     "data": {
      "image/png": "[encoded data removed]",
      "text/plain": [
       "<Figure size 1800x432 with 3 Axes>"
      ]
     },
     "metadata": {
      "needs_background": "light"
     },
     "output_type": "display_data"
    }
   ],
   "source": [
    "#используем ранее созданную функцию\n",
    "fig, axes = plt.subplots(1, 3, figsize=(25,6))\n",
    "\n",
    "user_data('rating', 'na_sales', 0)\n",
    "axes[0].set_title('Влияние рейтинга на продажи в Северной Америке')\n",
    "axes[0].set_ylabel('Суммарные продажи в Северной Америке (млн. копий)')\n",
    "axes[0].set_xlabel('Рейтинг')\n",
    "\n",
    "user_data('rating', 'eu_sales', 1)\n",
    "axes[1].set_title('Влияние рейтинга на продажи в Европе')\n",
    "axes[1].set_ylabel('Суммарные продажи в Европе (млн. копий)')\n",
    "axes[1].set_xlabel('Рейтинг')\n",
    "\n",
    "user_data('rating', 'jp_sales', 2)\n",
    "axes[2].set_title('Влияние рейтинга на продажи в Японии')\n",
    "axes[2].set_ylabel('Суммарные продажи в Японии (млн. копий)')\n",
    "axes[2].set_xlabel('Рейтинг')\n",
    "\n",
    "plt.show()"
   ]
  },
  {
   "cell_type": "markdown",
   "metadata": {},
   "source": [
    "### 5. Проверка гипотез"
   ]
  },
  {
   "cell_type": "markdown",
   "metadata": {},
   "source": [
    "Нам необходимо проверить 2 гипотезы, сформулированные заказчиком:\n",
    "- Средние пользовательские рейтинги платформ Xbox One и PC одинаковые;\n",
    "- Средние пользовательские рейтинги жанров Action (англ. «действие», экшен-игры) и Sports (англ. «спортивные соревнования») разные."
   ]
  },
  {
   "cell_type": "markdown",
   "metadata": {},
   "source": [
    "Для проверки гипотез о равенстве средних двух генеральных совокупностей воспользуемся параметрическим тестом - критерием Стьюдента. В нашем случае генеральные совокупности не зависят друг от друга, а исследуемые величины нормально распределены, к тому же у нас в тесте достаточно наблюдений."
   ]
  },
  {
   "cell_type": "markdown",
   "metadata": {},
   "source": [
    "#### 5.1.  Проверка первой гипотезы: \"Средние пользовательские рейтинги платформ Xbox One и PC одинаковые\"."
   ]
  },
  {
   "cell_type": "markdown",
   "metadata": {},
   "source": [
    "H_0: Средние пользовательские рейтинги платформ Xbox One и PC одинаковые.\n",
    "\n",
    "H_a: Средние пользовательские рейтинги платформ Xbox One и PC различаются.\n",
    "Установим порог статистической значимости (alpha) 5%."
   ]
  },
  {
   "cell_type": "code",
   "execution_count": 50,
   "metadata": {},
   "outputs": [
    {
     "name": "stdout",
     "output_type": "stream",
     "text": [
      "p-значение: 0.14012658403611647\n",
      "Не получилось отвергнуть нулевую гипотезу\n"
     ]
    }
   ],
   "source": [
    "#берем стандартную alpha\n",
    "alpha = 0.05\n",
    "\n",
    "#поскольку нам необходимо проверить гипотезу о равенстве среднего двух генеральных совокупностей, то воспользуемся методом scipy.stats.ttest_ind \n",
    "results = st.ttest_ind(year_df.query('platform == \"XOne\" and user_score.isna()==False')['user_score'],\n",
    "                       year_df.query('platform == \"PC\" and user_score.isna()==False')['user_score'])\n",
    "\n",
    "print('p-значение:', results.pvalue)\n",
    "\n",
    "if results.pvalue < alpha:\n",
    "    print('Отвергаем нулевую гипотезу')\n",
    "else:\n",
    "    print('Не получилось отвергнуть нулевую гипотезу') "
   ]
  },
  {
   "cell_type": "code",
   "execution_count": 51,
   "metadata": {},
   "outputs": [
    {
     "data": {
      "text/html": [
       "<div>\n",
       "<style scoped>\n",
       "    .dataframe tbody tr th:only-of-type {\n",
       "        vertical-align: middle;\n",
       "    }\n",
       "\n",
       "    .dataframe tbody tr th {\n",
       "        vertical-align: top;\n",
       "    }\n",
       "\n",
       "    .dataframe thead th {\n",
       "        text-align: right;\n",
       "    }\n",
       "</style>\n",
       "<table border=\"1\" class=\"dataframe\">\n",
       "  <thead>\n",
       "    <tr style=\"text-align: right;\">\n",
       "      <th></th>\n",
       "      <th>user_score</th>\n",
       "    </tr>\n",
       "    <tr>\n",
       "      <th>platform</th>\n",
       "      <th></th>\n",
       "    </tr>\n",
       "  </thead>\n",
       "  <tbody>\n",
       "    <tr>\n",
       "      <th>PC</th>\n",
       "      <td>6.269677</td>\n",
       "    </tr>\n",
       "    <tr>\n",
       "      <th>XOne</th>\n",
       "      <td>6.521429</td>\n",
       "    </tr>\n",
       "  </tbody>\n",
       "</table>\n",
       "</div>"
      ],
      "text/plain": [
       "          user_score\n",
       "platform            \n",
       "PC          6.269677\n",
       "XOne        6.521429"
      ]
     },
     "execution_count": 51,
     "metadata": {},
     "output_type": "execute_result"
    }
   ],
   "source": [
    "#дополнительно сверимся при помощи метода mean()\n",
    "year_df.query('platform == \"XOne\" or platform == \"PC\"').\\\n",
    "pivot_table(index='platform', values='user_score', aggfunc='mean')"
   ]
  },
  {
   "cell_type": "markdown",
   "metadata": {},
   "source": [
    "P-значение является высоким, нулевую гипотезу мы не отвергаем. Можем утверждать, что средние пользовательские рейтинги платформ Xbox One и PC одинаковые. Дополнительная проверка это подтверждает: у PC средняя пользовательская оценка составляет 6.26, а у XOne - 6.52."
   ]
  },
  {
   "cell_type": "markdown",
   "metadata": {},
   "source": [
    "#### 5.2. Проверка второй гипотезы: \"Средние пользовательские рейтинги жанров Action (англ. «действие», экшен-игры) и Sports (англ. «спортивные соревнования») разные.\""
   ]
  },
  {
   "cell_type": "markdown",
   "metadata": {},
   "source": [
    "H_0: Средние пользовательские рейтинги жанров Action (англ. «действие», экшен-игры) и Sports (англ. «спортивные соревнования») одинаковые.\n",
    "H_a: Средние пользовательские рейтинги жанров Action (англ. «действие», экшен-игры) и Sports (англ. «спортивные соревнования») разные.\n",
    "Установим порог статистической значимости (alpha) 5%."
   ]
  },
  {
   "cell_type": "code",
   "execution_count": 52,
   "metadata": {},
   "outputs": [
    {
     "name": "stdout",
     "output_type": "stream",
     "text": [
      "p-значение: 1.0517832389140023e-27\n",
      "Отвергаем нулевую гипотезу\n"
     ]
    }
   ],
   "source": [
    "#берем стандартную alpha\n",
    "alpha = 0.5\n",
    "\n",
    "#поскольку нам необходимо проверить гипотезу о равенстве среднего двух генеральных совокупностей, то воспользуемся методом scipy.stats.ttest_ind \n",
    "results = st.ttest_ind(year_df.query('genre == \"Action\" and user_score.isna()==False')['user_score'],\n",
    "                       year_df.query('genre == \"Sports\" and user_score.isna()==False')['user_score'])\n",
    "\n",
    "print('p-значение:', results.pvalue)\n",
    "\n",
    "if results.pvalue < alpha:\n",
    "    print('Отвергаем нулевую гипотезу')\n",
    "else:\n",
    "    print('Не получилось отвергнуть нулевую гипотезу') "
   ]
  },
  {
   "cell_type": "code",
   "execution_count": 53,
   "metadata": {},
   "outputs": [
    {
     "data": {
      "text/html": [
       "<div>\n",
       "<style scoped>\n",
       "    .dataframe tbody tr th:only-of-type {\n",
       "        vertical-align: middle;\n",
       "    }\n",
       "\n",
       "    .dataframe tbody tr th {\n",
       "        vertical-align: top;\n",
       "    }\n",
       "\n",
       "    .dataframe thead th {\n",
       "        text-align: right;\n",
       "    }\n",
       "</style>\n",
       "<table border=\"1\" class=\"dataframe\">\n",
       "  <thead>\n",
       "    <tr style=\"text-align: right;\">\n",
       "      <th></th>\n",
       "      <th>user_score</th>\n",
       "    </tr>\n",
       "    <tr>\n",
       "      <th>genre</th>\n",
       "      <th></th>\n",
       "    </tr>\n",
       "  </thead>\n",
       "  <tbody>\n",
       "    <tr>\n",
       "      <th>Action</th>\n",
       "      <td>6.837532</td>\n",
       "    </tr>\n",
       "    <tr>\n",
       "      <th>Sports</th>\n",
       "      <td>5.238125</td>\n",
       "    </tr>\n",
       "  </tbody>\n",
       "</table>\n",
       "</div>"
      ],
      "text/plain": [
       "        user_score\n",
       "genre             \n",
       "Action    6.837532\n",
       "Sports    5.238125"
      ]
     },
     "execution_count": 53,
     "metadata": {},
     "output_type": "execute_result"
    }
   ],
   "source": [
    "#дополнительно сверимся при помощи метода mean()\n",
    "year_df.query('genre == \"Action\" or genre == \"Sports\"').\\\n",
    "pivot_table(index='genre', values='user_score', aggfunc='mean')"
   ]
  },
  {
   "cell_type": "markdown",
   "metadata": {},
   "source": [
    "В результате анализа мы видим, что средние пользовательские рейтинги жанров Action (англ. «действие», экшен-игры) и Sports (англ. «спортивные соревнования») разные. Отклоняем нулевую гипотезу и принимаем альтернативную."
   ]
  },
  {
   "cell_type": "markdown",
   "metadata": {},
   "source": [
    "### 6. Общий вывод"
   ]
  },
  {
   "cell_type": "markdown",
   "metadata": {},
   "source": [
    "В рамках проекта по исследованию закономерностей успешности игр мы провели предобработку данных, осуществили исследовательский анализ, составили портрет пользователя в 3 регионах мира: Северная Америка, Европа и Япония, а также проверили 2 гипотезы.\n",
    "\n",
    "В процессе анализа выпуска игр в разные годы установили, что активный выпуск игр начался в 1994 году, а больше всего релизов пришлось на период с 2002 по 2011 гг., также выявили, что срок жизни платформ в среднем около 8 лет. \n",
    "\n",
    "Для прогнозирования рынка на 2017 год брали данные с 2013 по 2016 годы. \n",
    "Было установлено, что:\n",
    "1. Самыми прибыльными платформами являются консоли PlayStation (PS3 и PS4), Microsoft (XOne) и Nintendo (Wii, DS), поэтому в рекламных кампаниях следует сосредоточиться на них (с учетом распределения продаж в исследованных регионах мира).\n",
    "2. Стабильно высокий доход приносят игры жанра Shooter.\n",
    "3. Отзывы критиков и пользователей не влияют на успешные продажи игр, соответственно, на них не ориентируемся. \n",
    "4. Рынки США и Европы кардинально отличаются от рынка Японии: \n",
    "- в США и Европе самыми популярными жанрами игр являются экшны и шутеры, а в Японии пользователи больше всего интересуются жанром role-playing;\n",
    "- в США и Европе больше всего продаж приходится на PS4, при чем в Европе продажи игр для этой платформы выше, чем в США, а в Японии на 3DS;\n",
    "- В США и Европе по продажам лидируют игры с рейтингом М - \"для взрослых\", а в Японии лидируют по продажам игры с неопределенным рейтингом, а следующими в топе являюся игры с рейтингом T - \"подросткам\".\n",
    "\n",
    "*Вывод по сформулированным в начале проекта гипотезам:*\n",
    "1. Можем утверждать, что средние пользовательские рейтинги платформ Xbox One и PC одинаковые.\n",
    "2. Средние пользовательские рейтинги жанров Action и Sports разные."
   ]
  }
 ],
 "metadata": {
  "ExecuteTimeLog": [
   {
    "duration": 2585,
    "start_time": "2023-04-23T11:12:04.820Z"
   },
   {
    "duration": 164,
    "start_time": "2023-04-23T11:13:16.958Z"
   },
   {
    "duration": 22,
    "start_time": "2023-04-23T11:18:23.215Z"
   },
   {
    "duration": 13,
    "start_time": "2023-04-23T11:18:36.024Z"
   },
   {
    "duration": 1526,
    "start_time": "2023-04-23T11:18:40.756Z"
   },
   {
    "duration": 106,
    "start_time": "2023-04-23T11:18:42.285Z"
   },
   {
    "duration": 22,
    "start_time": "2023-04-23T11:18:42.398Z"
   },
   {
    "duration": 102,
    "start_time": "2023-04-23T11:18:59.074Z"
   },
   {
    "duration": 40,
    "start_time": "2023-04-23T11:19:01.216Z"
   },
   {
    "duration": 64,
    "start_time": "2023-04-23T11:20:31.866Z"
   },
   {
    "duration": 88,
    "start_time": "2023-04-23T11:21:19.317Z"
   },
   {
    "duration": 4,
    "start_time": "2023-04-23T11:33:31.569Z"
   },
   {
    "duration": 15,
    "start_time": "2023-04-23T11:34:37.988Z"
   },
   {
    "duration": 197,
    "start_time": "2023-04-23T11:35:08.954Z"
   },
   {
    "duration": 16,
    "start_time": "2023-04-23T11:35:16.254Z"
   },
   {
    "duration": 23,
    "start_time": "2023-04-23T11:43:03.934Z"
   },
   {
    "duration": 6,
    "start_time": "2023-04-23T11:43:27.437Z"
   },
   {
    "duration": 10,
    "start_time": "2023-04-23T11:45:28.441Z"
   },
   {
    "duration": 13,
    "start_time": "2023-04-23T11:45:44.362Z"
   },
   {
    "duration": 13,
    "start_time": "2023-04-23T11:46:37.465Z"
   },
   {
    "duration": 11,
    "start_time": "2023-04-23T11:46:53.112Z"
   },
   {
    "duration": 32,
    "start_time": "2023-04-23T11:47:27.810Z"
   },
   {
    "duration": 36,
    "start_time": "2023-04-23T11:47:46.264Z"
   },
   {
    "duration": 19,
    "start_time": "2023-04-23T11:48:17.227Z"
   },
   {
    "duration": 9,
    "start_time": "2023-04-23T11:48:23.958Z"
   },
   {
    "duration": 1620,
    "start_time": "2023-04-23T11:49:02.260Z"
   },
   {
    "duration": 17,
    "start_time": "2023-04-23T11:49:09.453Z"
   },
   {
    "duration": 1030,
    "start_time": "2023-04-23T11:50:09.815Z"
   },
   {
    "duration": 821,
    "start_time": "2023-04-23T11:50:34.707Z"
   },
   {
    "duration": 32,
    "start_time": "2023-04-23T11:51:08.618Z"
   },
   {
    "duration": 16,
    "start_time": "2023-04-23T11:51:50.801Z"
   },
   {
    "duration": 726,
    "start_time": "2023-04-23T11:52:42.819Z"
   },
   {
    "duration": 51,
    "start_time": "2023-04-23T12:05:13.221Z"
   },
   {
    "duration": 131,
    "start_time": "2023-04-23T12:05:30.308Z"
   },
   {
    "duration": 67,
    "start_time": "2023-04-23T12:05:39.728Z"
   },
   {
    "duration": 49,
    "start_time": "2023-04-23T12:05:47.703Z"
   },
   {
    "duration": 1536,
    "start_time": "2023-04-23T12:05:54.765Z"
   },
   {
    "duration": 70,
    "start_time": "2023-04-23T12:05:56.303Z"
   },
   {
    "duration": 37,
    "start_time": "2023-04-23T12:05:56.375Z"
   },
   {
    "duration": 24,
    "start_time": "2023-04-23T12:05:56.414Z"
   },
   {
    "duration": 127,
    "start_time": "2023-04-23T12:05:56.453Z"
   },
   {
    "duration": 5,
    "start_time": "2023-04-23T12:05:56.582Z"
   },
   {
    "duration": 54,
    "start_time": "2023-04-23T12:05:56.591Z"
   },
   {
    "duration": 29,
    "start_time": "2023-04-23T12:05:56.647Z"
   },
   {
    "duration": 196,
    "start_time": "2023-04-23T12:05:56.678Z"
   },
   {
    "duration": 0,
    "start_time": "2023-04-23T12:05:56.877Z"
   },
   {
    "duration": 47,
    "start_time": "2023-04-23T12:10:34.269Z"
   },
   {
    "duration": 1425,
    "start_time": "2023-04-23T12:11:59.842Z"
   },
   {
    "duration": 9,
    "start_time": "2023-04-23T12:12:20.801Z"
   },
   {
    "duration": 1941,
    "start_time": "2023-04-23T12:12:56.297Z"
   },
   {
    "duration": 980,
    "start_time": "2023-04-23T12:15:12.722Z"
   },
   {
    "duration": 1123,
    "start_time": "2023-04-23T12:15:36.611Z"
   },
   {
    "duration": 44,
    "start_time": "2023-04-23T12:15:57.063Z"
   },
   {
    "duration": 14,
    "start_time": "2023-04-23T12:16:39.646Z"
   },
   {
    "duration": 4,
    "start_time": "2023-04-23T12:19:20.124Z"
   },
   {
    "duration": 13,
    "start_time": "2023-04-23T12:19:35.940Z"
   },
   {
    "duration": 1252,
    "start_time": "2023-04-23T12:20:51.776Z"
   },
   {
    "duration": 54,
    "start_time": "2023-04-23T12:20:53.030Z"
   },
   {
    "duration": 42,
    "start_time": "2023-04-23T12:20:53.087Z"
   },
   {
    "duration": 13,
    "start_time": "2023-04-23T12:20:53.131Z"
   },
   {
    "duration": 39,
    "start_time": "2023-04-23T12:20:53.146Z"
   },
   {
    "duration": 5,
    "start_time": "2023-04-23T12:20:53.187Z"
   },
   {
    "duration": 23,
    "start_time": "2023-04-23T12:20:53.194Z"
   },
   {
    "duration": 32,
    "start_time": "2023-04-23T12:20:53.219Z"
   },
   {
    "duration": 66,
    "start_time": "2023-04-23T14:19:54.617Z"
   },
   {
    "duration": 1387,
    "start_time": "2023-04-23T14:20:01.486Z"
   },
   {
    "duration": 174,
    "start_time": "2023-04-23T14:20:02.875Z"
   },
   {
    "duration": 22,
    "start_time": "2023-04-23T14:20:03.051Z"
   },
   {
    "duration": 12,
    "start_time": "2023-04-23T14:20:03.074Z"
   },
   {
    "duration": 29,
    "start_time": "2023-04-23T14:20:03.088Z"
   },
   {
    "duration": 3,
    "start_time": "2023-04-23T14:20:03.119Z"
   },
   {
    "duration": 14,
    "start_time": "2023-04-23T14:20:03.124Z"
   },
   {
    "duration": 8,
    "start_time": "2023-04-23T14:20:03.140Z"
   },
   {
    "duration": 17,
    "start_time": "2023-04-23T14:20:03.149Z"
   },
   {
    "duration": 97,
    "start_time": "2023-04-23T14:22:01.227Z"
   },
   {
    "duration": 14,
    "start_time": "2023-04-23T14:22:05.036Z"
   },
   {
    "duration": 3,
    "start_time": "2023-04-23T14:24:36.679Z"
   },
   {
    "duration": 1079,
    "start_time": "2023-04-23T14:24:40.018Z"
   },
   {
    "duration": 53,
    "start_time": "2023-04-23T14:24:41.099Z"
   },
   {
    "duration": 35,
    "start_time": "2023-04-23T14:24:41.154Z"
   },
   {
    "duration": 19,
    "start_time": "2023-04-23T14:24:41.192Z"
   },
   {
    "duration": 35,
    "start_time": "2023-04-23T14:24:41.213Z"
   },
   {
    "duration": 3,
    "start_time": "2023-04-23T14:24:41.250Z"
   },
   {
    "duration": 12,
    "start_time": "2023-04-23T14:24:41.255Z"
   },
   {
    "duration": 169,
    "start_time": "2023-04-23T14:24:41.269Z"
   },
   {
    "duration": 0,
    "start_time": "2023-04-23T14:24:41.440Z"
   },
   {
    "duration": 6,
    "start_time": "2023-04-23T14:24:59.792Z"
   },
   {
    "duration": 6,
    "start_time": "2023-04-23T14:25:08.111Z"
   },
   {
    "duration": 4,
    "start_time": "2023-04-23T14:25:21.578Z"
   },
   {
    "duration": 13,
    "start_time": "2023-04-23T14:26:25.878Z"
   },
   {
    "duration": 14,
    "start_time": "2023-04-23T14:28:24.840Z"
   },
   {
    "duration": 16,
    "start_time": "2023-04-23T14:30:37.002Z"
   },
   {
    "duration": 13,
    "start_time": "2023-04-23T14:30:55.933Z"
   },
   {
    "duration": 14,
    "start_time": "2023-04-23T14:31:04.097Z"
   },
   {
    "duration": 6,
    "start_time": "2023-04-23T14:31:25.515Z"
   },
   {
    "duration": 5,
    "start_time": "2023-04-23T14:31:30.547Z"
   },
   {
    "duration": 6,
    "start_time": "2023-04-23T14:31:46.686Z"
   },
   {
    "duration": 1111,
    "start_time": "2023-04-23T14:31:49.818Z"
   },
   {
    "duration": 49,
    "start_time": "2023-04-23T14:31:50.931Z"
   },
   {
    "duration": 25,
    "start_time": "2023-04-23T14:31:50.981Z"
   },
   {
    "duration": 15,
    "start_time": "2023-04-23T14:31:51.007Z"
   },
   {
    "duration": 29,
    "start_time": "2023-04-23T14:31:51.024Z"
   },
   {
    "duration": 3,
    "start_time": "2023-04-23T14:31:51.054Z"
   },
   {
    "duration": 10,
    "start_time": "2023-04-23T14:31:51.059Z"
   },
   {
    "duration": 13,
    "start_time": "2023-04-23T14:31:51.094Z"
   },
   {
    "duration": 11,
    "start_time": "2023-04-23T14:31:51.108Z"
   },
   {
    "duration": 5,
    "start_time": "2023-04-23T14:31:51.120Z"
   },
   {
    "duration": 16,
    "start_time": "2023-04-23T14:31:51.127Z"
   },
   {
    "duration": 27,
    "start_time": "2023-04-23T14:32:20.581Z"
   },
   {
    "duration": 5,
    "start_time": "2023-04-23T14:32:23.507Z"
   },
   {
    "duration": 1095,
    "start_time": "2023-04-23T14:32:30.275Z"
   },
   {
    "duration": 54,
    "start_time": "2023-04-23T14:32:31.372Z"
   },
   {
    "duration": 28,
    "start_time": "2023-04-23T14:32:31.428Z"
   },
   {
    "duration": 33,
    "start_time": "2023-04-23T14:32:31.458Z"
   },
   {
    "duration": 38,
    "start_time": "2023-04-23T14:32:31.494Z"
   },
   {
    "duration": 13,
    "start_time": "2023-04-23T14:32:31.533Z"
   },
   {
    "duration": 29,
    "start_time": "2023-04-23T14:32:31.548Z"
   },
   {
    "duration": 20,
    "start_time": "2023-04-23T14:32:31.579Z"
   },
   {
    "duration": 39,
    "start_time": "2023-04-23T14:32:31.600Z"
   },
   {
    "duration": 23,
    "start_time": "2023-04-23T14:32:31.641Z"
   },
   {
    "duration": 60,
    "start_time": "2023-04-23T14:32:31.665Z"
   },
   {
    "duration": 92,
    "start_time": "2023-04-23T14:35:57.777Z"
   },
   {
    "duration": 7,
    "start_time": "2023-04-23T14:38:33.776Z"
   },
   {
    "duration": 5,
    "start_time": "2023-04-23T14:38:36.077Z"
   },
   {
    "duration": 8,
    "start_time": "2023-04-23T14:38:47.390Z"
   },
   {
    "duration": 7,
    "start_time": "2023-04-23T14:38:48.933Z"
   },
   {
    "duration": 99,
    "start_time": "2023-04-23T14:49:21.133Z"
   },
   {
    "duration": 112,
    "start_time": "2023-04-23T14:50:43.662Z"
   },
   {
    "duration": 84,
    "start_time": "2023-04-23T14:51:14.595Z"
   },
   {
    "duration": 185,
    "start_time": "2023-04-23T14:51:32.291Z"
   },
   {
    "duration": 24,
    "start_time": "2023-04-23T14:53:48.679Z"
   },
   {
    "duration": 21,
    "start_time": "2023-04-23T14:54:22.608Z"
   },
   {
    "duration": 31,
    "start_time": "2023-04-23T14:54:35.408Z"
   },
   {
    "duration": 25,
    "start_time": "2023-04-23T14:55:10.001Z"
   },
   {
    "duration": 5,
    "start_time": "2023-04-23T14:55:28.913Z"
   },
   {
    "duration": 109,
    "start_time": "2023-04-23T14:55:47.608Z"
   },
   {
    "duration": 151,
    "start_time": "2023-04-23T14:55:52.560Z"
   },
   {
    "duration": 10,
    "start_time": "2023-04-23T14:56:02.370Z"
   },
   {
    "duration": 24,
    "start_time": "2023-04-23T14:56:08.832Z"
   },
   {
    "duration": 25,
    "start_time": "2023-04-23T14:57:47.202Z"
   },
   {
    "duration": 19,
    "start_time": "2023-04-23T15:01:12.676Z"
   },
   {
    "duration": 20,
    "start_time": "2023-04-23T15:03:14.857Z"
   },
   {
    "duration": 13893,
    "start_time": "2023-04-23T15:09:51.890Z"
   },
   {
    "duration": 26,
    "start_time": "2023-04-23T15:10:32.944Z"
   },
   {
    "duration": 1094,
    "start_time": "2023-04-23T15:10:54.778Z"
   },
   {
    "duration": 54,
    "start_time": "2023-04-23T15:10:55.873Z"
   },
   {
    "duration": 22,
    "start_time": "2023-04-23T15:10:55.928Z"
   },
   {
    "duration": 12,
    "start_time": "2023-04-23T15:10:55.952Z"
   },
   {
    "duration": 44,
    "start_time": "2023-04-23T15:10:55.966Z"
   },
   {
    "duration": 3,
    "start_time": "2023-04-23T15:10:56.011Z"
   },
   {
    "duration": 16,
    "start_time": "2023-04-23T15:10:56.016Z"
   },
   {
    "duration": 31,
    "start_time": "2023-04-23T15:10:56.034Z"
   },
   {
    "duration": 8,
    "start_time": "2023-04-23T15:10:56.067Z"
   },
   {
    "duration": 18,
    "start_time": "2023-04-23T15:10:56.076Z"
   },
   {
    "duration": 13635,
    "start_time": "2023-04-23T15:10:56.095Z"
   },
   {
    "duration": 20,
    "start_time": "2023-04-23T15:11:09.731Z"
   },
   {
    "duration": 27,
    "start_time": "2023-04-23T15:11:09.752Z"
   },
   {
    "duration": 26248,
    "start_time": "2023-04-23T15:15:31.212Z"
   },
   {
    "duration": 20,
    "start_time": "2023-04-23T15:16:04.818Z"
   },
   {
    "duration": 1126,
    "start_time": "2023-04-23T15:16:11.153Z"
   },
   {
    "duration": 53,
    "start_time": "2023-04-23T15:16:12.281Z"
   },
   {
    "duration": 21,
    "start_time": "2023-04-23T15:16:12.336Z"
   },
   {
    "duration": 21,
    "start_time": "2023-04-23T15:16:12.359Z"
   },
   {
    "duration": 38,
    "start_time": "2023-04-23T15:16:12.382Z"
   },
   {
    "duration": 3,
    "start_time": "2023-04-23T15:16:12.422Z"
   },
   {
    "duration": 17,
    "start_time": "2023-04-23T15:16:12.427Z"
   },
   {
    "duration": 25,
    "start_time": "2023-04-23T15:16:12.446Z"
   },
   {
    "duration": 13,
    "start_time": "2023-04-23T15:16:12.473Z"
   },
   {
    "duration": 41,
    "start_time": "2023-04-23T15:16:12.489Z"
   },
   {
    "duration": 27367,
    "start_time": "2023-04-23T15:16:12.532Z"
   },
   {
    "duration": 22,
    "start_time": "2023-04-23T15:16:39.906Z"
   },
   {
    "duration": 14,
    "start_time": "2023-04-23T15:16:39.929Z"
   },
   {
    "duration": 13,
    "start_time": "2023-04-23T15:22:57.761Z"
   },
   {
    "duration": 3,
    "start_time": "2023-04-23T15:26:18.125Z"
   },
   {
    "duration": 17,
    "start_time": "2023-04-23T15:32:48.719Z"
   },
   {
    "duration": 19,
    "start_time": "2023-04-23T15:32:51.529Z"
   },
   {
    "duration": 1038,
    "start_time": "2023-04-23T15:32:58.320Z"
   },
   {
    "duration": 49,
    "start_time": "2023-04-23T15:32:59.360Z"
   },
   {
    "duration": 21,
    "start_time": "2023-04-23T15:32:59.410Z"
   },
   {
    "duration": 13,
    "start_time": "2023-04-23T15:32:59.433Z"
   },
   {
    "duration": 27,
    "start_time": "2023-04-23T15:32:59.448Z"
   },
   {
    "duration": 3,
    "start_time": "2023-04-23T15:32:59.494Z"
   },
   {
    "duration": 16,
    "start_time": "2023-04-23T15:32:59.498Z"
   },
   {
    "duration": 16,
    "start_time": "2023-04-23T15:32:59.515Z"
   },
   {
    "duration": 9,
    "start_time": "2023-04-23T15:32:59.532Z"
   },
   {
    "duration": 23,
    "start_time": "2023-04-23T15:32:59.542Z"
   },
   {
    "duration": 34,
    "start_time": "2023-04-23T15:32:59.567Z"
   },
   {
    "duration": 18,
    "start_time": "2023-04-23T15:32:59.602Z"
   },
   {
    "duration": 98,
    "start_time": "2023-04-23T15:32:59.622Z"
   },
   {
    "duration": 0,
    "start_time": "2023-04-23T15:32:59.721Z"
   },
   {
    "duration": 0,
    "start_time": "2023-04-23T15:32:59.722Z"
   },
   {
    "duration": 58,
    "start_time": "2023-04-23T15:33:20.351Z"
   },
   {
    "duration": 1023,
    "start_time": "2023-04-23T15:33:39.336Z"
   },
   {
    "duration": 48,
    "start_time": "2023-04-23T15:33:40.360Z"
   },
   {
    "duration": 22,
    "start_time": "2023-04-23T15:33:40.410Z"
   },
   {
    "duration": 13,
    "start_time": "2023-04-23T15:33:40.433Z"
   },
   {
    "duration": 26,
    "start_time": "2023-04-23T15:33:40.448Z"
   },
   {
    "duration": 3,
    "start_time": "2023-04-23T15:33:40.495Z"
   },
   {
    "duration": 13,
    "start_time": "2023-04-23T15:33:40.499Z"
   },
   {
    "duration": 11,
    "start_time": "2023-04-23T15:33:40.513Z"
   },
   {
    "duration": 7,
    "start_time": "2023-04-23T15:33:40.525Z"
   },
   {
    "duration": 24,
    "start_time": "2023-04-23T15:33:40.533Z"
   },
   {
    "duration": 162,
    "start_time": "2023-04-23T15:33:40.559Z"
   },
   {
    "duration": 0,
    "start_time": "2023-04-23T15:33:40.722Z"
   },
   {
    "duration": 0,
    "start_time": "2023-04-23T15:33:40.724Z"
   },
   {
    "duration": 0,
    "start_time": "2023-04-23T15:33:40.725Z"
   },
   {
    "duration": 0,
    "start_time": "2023-04-23T15:33:40.726Z"
   },
   {
    "duration": 11,
    "start_time": "2023-04-23T15:36:01.740Z"
   },
   {
    "duration": 10,
    "start_time": "2023-04-23T15:40:13.733Z"
   },
   {
    "duration": 8,
    "start_time": "2023-04-23T15:40:18.759Z"
   },
   {
    "duration": 8,
    "start_time": "2023-04-23T15:42:32.076Z"
   },
   {
    "duration": 1105,
    "start_time": "2023-04-23T15:44:50.673Z"
   },
   {
    "duration": 49,
    "start_time": "2023-04-23T15:44:51.780Z"
   },
   {
    "duration": 32,
    "start_time": "2023-04-23T15:44:51.831Z"
   },
   {
    "duration": 14,
    "start_time": "2023-04-23T15:44:51.865Z"
   },
   {
    "duration": 35,
    "start_time": "2023-04-23T15:44:51.880Z"
   },
   {
    "duration": 4,
    "start_time": "2023-04-23T15:44:51.917Z"
   },
   {
    "duration": 12,
    "start_time": "2023-04-23T15:44:51.923Z"
   },
   {
    "duration": 13,
    "start_time": "2023-04-23T15:44:51.936Z"
   },
   {
    "duration": 6,
    "start_time": "2023-04-23T15:44:51.951Z"
   },
   {
    "duration": 34,
    "start_time": "2023-04-23T15:44:51.961Z"
   },
   {
    "duration": 9,
    "start_time": "2023-04-23T15:44:51.997Z"
   },
   {
    "duration": 7,
    "start_time": "2023-04-23T15:44:52.008Z"
   },
   {
    "duration": 111,
    "start_time": "2023-04-23T15:44:52.017Z"
   },
   {
    "duration": 1,
    "start_time": "2023-04-23T15:44:52.130Z"
   },
   {
    "duration": 0,
    "start_time": "2023-04-23T15:44:52.132Z"
   },
   {
    "duration": 4,
    "start_time": "2023-04-23T15:46:20.018Z"
   },
   {
    "duration": 8,
    "start_time": "2023-04-23T15:57:02.344Z"
   },
   {
    "duration": 7,
    "start_time": "2023-04-23T15:58:35.368Z"
   },
   {
    "duration": 5,
    "start_time": "2023-04-23T15:59:07.578Z"
   },
   {
    "duration": 1039,
    "start_time": "2023-04-23T15:59:32.251Z"
   },
   {
    "duration": 50,
    "start_time": "2023-04-23T15:59:33.292Z"
   },
   {
    "duration": 29,
    "start_time": "2023-04-23T15:59:33.343Z"
   },
   {
    "duration": 13,
    "start_time": "2023-04-23T15:59:33.374Z"
   },
   {
    "duration": 34,
    "start_time": "2023-04-23T15:59:33.389Z"
   },
   {
    "duration": 3,
    "start_time": "2023-04-23T15:59:33.425Z"
   },
   {
    "duration": 13,
    "start_time": "2023-04-23T15:59:33.430Z"
   },
   {
    "duration": 13,
    "start_time": "2023-04-23T15:59:33.444Z"
   },
   {
    "duration": 16,
    "start_time": "2023-04-23T15:59:33.459Z"
   },
   {
    "duration": 5,
    "start_time": "2023-04-23T15:59:33.495Z"
   },
   {
    "duration": 7,
    "start_time": "2023-04-23T15:59:33.501Z"
   },
   {
    "duration": 16,
    "start_time": "2023-04-23T15:59:33.510Z"
   },
   {
    "duration": 6,
    "start_time": "2023-04-23T15:59:33.527Z"
   },
   {
    "duration": 4,
    "start_time": "2023-04-23T15:59:33.534Z"
   },
   {
    "duration": 15,
    "start_time": "2023-04-23T15:59:33.539Z"
   },
   {
    "duration": 43,
    "start_time": "2023-04-23T15:59:33.555Z"
   },
   {
    "duration": 87,
    "start_time": "2023-04-23T16:00:09.735Z"
   },
   {
    "duration": 13,
    "start_time": "2023-04-23T16:00:19.681Z"
   },
   {
    "duration": 3,
    "start_time": "2023-04-23T16:11:30.217Z"
   },
   {
    "duration": 9,
    "start_time": "2023-04-23T16:16:43.073Z"
   },
   {
    "duration": 7,
    "start_time": "2023-04-23T16:17:02.324Z"
   },
   {
    "duration": 5,
    "start_time": "2023-04-23T16:17:11.954Z"
   },
   {
    "duration": 1281,
    "start_time": "2023-04-23T16:17:28.861Z"
   },
   {
    "duration": 50,
    "start_time": "2023-04-23T16:17:30.144Z"
   },
   {
    "duration": 30,
    "start_time": "2023-04-23T16:17:30.196Z"
   },
   {
    "duration": 20,
    "start_time": "2023-04-23T16:17:30.228Z"
   },
   {
    "duration": 60,
    "start_time": "2023-04-23T16:17:30.250Z"
   },
   {
    "duration": 7,
    "start_time": "2023-04-23T16:17:30.311Z"
   },
   {
    "duration": 32,
    "start_time": "2023-04-23T16:17:30.320Z"
   },
   {
    "duration": 35,
    "start_time": "2023-04-23T16:17:30.354Z"
   },
   {
    "duration": 26,
    "start_time": "2023-04-23T16:17:30.391Z"
   },
   {
    "duration": 31,
    "start_time": "2023-04-23T16:17:30.419Z"
   },
   {
    "duration": 25,
    "start_time": "2023-04-23T16:17:30.452Z"
   },
   {
    "duration": 50,
    "start_time": "2023-04-23T16:17:30.480Z"
   },
   {
    "duration": 30,
    "start_time": "2023-04-23T16:17:30.533Z"
   },
   {
    "duration": 35,
    "start_time": "2023-04-23T16:17:30.565Z"
   },
   {
    "duration": 26,
    "start_time": "2023-04-23T16:17:30.602Z"
   },
   {
    "duration": 26,
    "start_time": "2023-04-23T16:17:30.629Z"
   },
   {
    "duration": 8,
    "start_time": "2023-04-23T16:21:50.876Z"
   },
   {
    "duration": 103,
    "start_time": "2023-04-23T16:25:10.027Z"
   },
   {
    "duration": 5,
    "start_time": "2023-04-23T16:25:17.585Z"
   },
   {
    "duration": 9,
    "start_time": "2023-04-23T16:29:44.291Z"
   },
   {
    "duration": 6,
    "start_time": "2023-04-23T16:30:10.530Z"
   },
   {
    "duration": 5,
    "start_time": "2023-04-23T16:39:13.824Z"
   },
   {
    "duration": 6,
    "start_time": "2023-04-23T16:39:52.030Z"
   },
   {
    "duration": 6,
    "start_time": "2023-04-23T16:40:21.064Z"
   },
   {
    "duration": 8,
    "start_time": "2023-04-23T16:43:28.038Z"
   },
   {
    "duration": 5,
    "start_time": "2023-04-23T16:43:36.828Z"
   },
   {
    "duration": 6,
    "start_time": "2023-04-23T16:46:02.339Z"
   },
   {
    "duration": 15,
    "start_time": "2023-04-23T16:46:12.712Z"
   },
   {
    "duration": 9,
    "start_time": "2023-04-23T16:46:25.561Z"
   },
   {
    "duration": 5,
    "start_time": "2023-04-23T16:46:33.267Z"
   },
   {
    "duration": 1168,
    "start_time": "2023-04-23T16:47:05.118Z"
   },
   {
    "duration": 75,
    "start_time": "2023-04-23T16:47:06.288Z"
   },
   {
    "duration": 21,
    "start_time": "2023-04-23T16:47:06.364Z"
   },
   {
    "duration": 22,
    "start_time": "2023-04-23T16:47:06.386Z"
   },
   {
    "duration": 47,
    "start_time": "2023-04-23T16:47:06.410Z"
   },
   {
    "duration": 3,
    "start_time": "2023-04-23T16:47:06.459Z"
   },
   {
    "duration": 21,
    "start_time": "2023-04-23T16:47:06.464Z"
   },
   {
    "duration": 17,
    "start_time": "2023-04-23T16:47:06.487Z"
   },
   {
    "duration": 9,
    "start_time": "2023-04-23T16:47:06.506Z"
   },
   {
    "duration": 6,
    "start_time": "2023-04-23T16:47:06.517Z"
   },
   {
    "duration": 7,
    "start_time": "2023-04-23T16:47:06.524Z"
   },
   {
    "duration": 9,
    "start_time": "2023-04-23T16:47:06.532Z"
   },
   {
    "duration": 6,
    "start_time": "2023-04-23T16:47:06.543Z"
   },
   {
    "duration": 5,
    "start_time": "2023-04-23T16:47:06.551Z"
   },
   {
    "duration": 6,
    "start_time": "2023-04-23T16:47:06.558Z"
   },
   {
    "duration": 8,
    "start_time": "2023-04-23T16:47:06.600Z"
   },
   {
    "duration": 7,
    "start_time": "2023-04-23T16:47:06.611Z"
   },
   {
    "duration": 4,
    "start_time": "2023-04-23T16:47:06.620Z"
   },
   {
    "duration": 21,
    "start_time": "2023-04-23T16:47:06.626Z"
   },
   {
    "duration": 7,
    "start_time": "2023-04-23T16:47:06.648Z"
   },
   {
    "duration": 14,
    "start_time": "2023-04-23T16:47:06.656Z"
   },
   {
    "duration": 15,
    "start_time": "2023-04-23T16:55:17.014Z"
   },
   {
    "duration": 17,
    "start_time": "2023-04-23T17:00:17.132Z"
   },
   {
    "duration": 5,
    "start_time": "2023-04-23T17:01:26.948Z"
   },
   {
    "duration": 1206,
    "start_time": "2023-04-23T17:01:33.180Z"
   },
   {
    "duration": 68,
    "start_time": "2023-04-23T17:01:34.389Z"
   },
   {
    "duration": 24,
    "start_time": "2023-04-23T17:01:34.459Z"
   },
   {
    "duration": 19,
    "start_time": "2023-04-23T17:01:34.485Z"
   },
   {
    "duration": 32,
    "start_time": "2023-04-23T17:01:34.506Z"
   },
   {
    "duration": 4,
    "start_time": "2023-04-23T17:01:34.540Z"
   },
   {
    "duration": 11,
    "start_time": "2023-04-23T17:01:34.545Z"
   },
   {
    "duration": 12,
    "start_time": "2023-04-23T17:01:34.557Z"
   },
   {
    "duration": 24,
    "start_time": "2023-04-23T17:01:34.570Z"
   },
   {
    "duration": 21,
    "start_time": "2023-04-23T17:01:34.602Z"
   },
   {
    "duration": 9,
    "start_time": "2023-04-23T17:01:34.624Z"
   },
   {
    "duration": 6,
    "start_time": "2023-04-23T17:01:34.634Z"
   },
   {
    "duration": 11,
    "start_time": "2023-04-23T17:01:34.641Z"
   },
   {
    "duration": 6,
    "start_time": "2023-04-23T17:01:34.654Z"
   },
   {
    "duration": 5,
    "start_time": "2023-04-23T17:01:34.662Z"
   },
   {
    "duration": 14,
    "start_time": "2023-04-23T17:01:34.668Z"
   },
   {
    "duration": 9,
    "start_time": "2023-04-23T17:01:34.683Z"
   },
   {
    "duration": 6,
    "start_time": "2023-04-23T17:01:34.694Z"
   },
   {
    "duration": 27,
    "start_time": "2023-04-23T17:01:34.701Z"
   },
   {
    "duration": 6,
    "start_time": "2023-04-23T17:01:34.729Z"
   },
   {
    "duration": 39,
    "start_time": "2023-04-23T17:01:34.737Z"
   },
   {
    "duration": 26,
    "start_time": "2023-04-23T17:01:34.778Z"
   },
   {
    "duration": 1137,
    "start_time": "2023-04-23T17:02:24.357Z"
   },
   {
    "duration": 82,
    "start_time": "2023-04-23T17:02:25.496Z"
   },
   {
    "duration": 40,
    "start_time": "2023-04-23T17:02:25.580Z"
   },
   {
    "duration": 23,
    "start_time": "2023-04-23T17:02:25.623Z"
   },
   {
    "duration": 30,
    "start_time": "2023-04-23T17:02:25.648Z"
   },
   {
    "duration": 4,
    "start_time": "2023-04-23T17:02:25.679Z"
   },
   {
    "duration": 34,
    "start_time": "2023-04-23T17:02:25.684Z"
   },
   {
    "duration": 26,
    "start_time": "2023-04-23T17:02:25.719Z"
   },
   {
    "duration": 9,
    "start_time": "2023-04-23T17:02:25.747Z"
   },
   {
    "duration": 6,
    "start_time": "2023-04-23T17:02:25.761Z"
   },
   {
    "duration": 8,
    "start_time": "2023-04-23T17:02:25.769Z"
   },
   {
    "duration": 8,
    "start_time": "2023-04-23T17:02:25.795Z"
   },
   {
    "duration": 19,
    "start_time": "2023-04-23T17:02:25.805Z"
   },
   {
    "duration": 10,
    "start_time": "2023-04-23T17:02:25.828Z"
   },
   {
    "duration": 7,
    "start_time": "2023-04-23T17:02:25.839Z"
   },
   {
    "duration": 5,
    "start_time": "2023-04-23T17:02:25.847Z"
   },
   {
    "duration": 177,
    "start_time": "2023-04-23T17:02:25.853Z"
   },
   {
    "duration": 0,
    "start_time": "2023-04-23T17:02:26.031Z"
   },
   {
    "duration": 0,
    "start_time": "2023-04-23T17:02:26.033Z"
   },
   {
    "duration": 0,
    "start_time": "2023-04-23T17:02:26.034Z"
   },
   {
    "duration": 0,
    "start_time": "2023-04-23T17:02:26.034Z"
   },
   {
    "duration": 0,
    "start_time": "2023-04-23T17:02:26.037Z"
   },
   {
    "duration": 16,
    "start_time": "2023-04-23T17:02:44.109Z"
   },
   {
    "duration": 1088,
    "start_time": "2023-04-23T17:05:11.914Z"
   },
   {
    "duration": 56,
    "start_time": "2023-04-23T17:05:13.004Z"
   },
   {
    "duration": 22,
    "start_time": "2023-04-23T17:05:13.062Z"
   },
   {
    "duration": 29,
    "start_time": "2023-04-23T17:05:13.085Z"
   },
   {
    "duration": 30,
    "start_time": "2023-04-23T17:05:13.120Z"
   },
   {
    "duration": 3,
    "start_time": "2023-04-23T17:05:13.151Z"
   },
   {
    "duration": 14,
    "start_time": "2023-04-23T17:05:13.155Z"
   },
   {
    "duration": 28,
    "start_time": "2023-04-23T17:05:13.170Z"
   },
   {
    "duration": 14,
    "start_time": "2023-04-23T17:05:13.202Z"
   },
   {
    "duration": 16,
    "start_time": "2023-04-23T17:05:13.219Z"
   },
   {
    "duration": 10,
    "start_time": "2023-04-23T17:05:13.236Z"
   },
   {
    "duration": 5,
    "start_time": "2023-04-23T17:05:13.247Z"
   },
   {
    "duration": 8,
    "start_time": "2023-04-23T17:05:13.253Z"
   },
   {
    "duration": 15,
    "start_time": "2023-04-23T17:05:13.263Z"
   },
   {
    "duration": 15,
    "start_time": "2023-04-23T17:05:13.279Z"
   },
   {
    "duration": 6,
    "start_time": "2023-04-23T17:05:13.301Z"
   },
   {
    "duration": 12,
    "start_time": "2023-04-23T17:05:13.308Z"
   },
   {
    "duration": 7,
    "start_time": "2023-04-23T17:05:13.323Z"
   },
   {
    "duration": 20,
    "start_time": "2023-04-23T17:05:13.331Z"
   },
   {
    "duration": 6,
    "start_time": "2023-04-23T17:05:13.352Z"
   },
   {
    "duration": 12,
    "start_time": "2023-04-23T17:05:13.359Z"
   },
   {
    "duration": 40,
    "start_time": "2023-04-23T17:05:13.372Z"
   },
   {
    "duration": 52,
    "start_time": "2023-04-23T17:17:00.240Z"
   },
   {
    "duration": 1180,
    "start_time": "2023-04-23T17:17:12.701Z"
   },
   {
    "duration": 56,
    "start_time": "2023-04-23T17:17:13.883Z"
   },
   {
    "duration": 23,
    "start_time": "2023-04-23T17:17:13.940Z"
   },
   {
    "duration": 15,
    "start_time": "2023-04-23T17:17:13.964Z"
   },
   {
    "duration": 44,
    "start_time": "2023-04-23T17:17:13.980Z"
   },
   {
    "duration": 5,
    "start_time": "2023-04-23T17:17:14.027Z"
   },
   {
    "duration": 17,
    "start_time": "2023-04-23T17:17:14.033Z"
   },
   {
    "duration": 23,
    "start_time": "2023-04-23T17:17:14.052Z"
   },
   {
    "duration": 20,
    "start_time": "2023-04-23T17:17:14.077Z"
   },
   {
    "duration": 7,
    "start_time": "2023-04-23T17:17:14.100Z"
   },
   {
    "duration": 12,
    "start_time": "2023-04-23T17:17:14.114Z"
   },
   {
    "duration": 13,
    "start_time": "2023-04-23T17:17:14.130Z"
   },
   {
    "duration": 5,
    "start_time": "2023-04-23T17:17:14.145Z"
   },
   {
    "duration": 7,
    "start_time": "2023-04-23T17:17:14.153Z"
   },
   {
    "duration": 6,
    "start_time": "2023-04-23T17:17:14.162Z"
   },
   {
    "duration": 27,
    "start_time": "2023-04-23T17:17:14.170Z"
   },
   {
    "duration": 11,
    "start_time": "2023-04-23T17:17:14.199Z"
   },
   {
    "duration": 8,
    "start_time": "2023-04-23T17:17:14.218Z"
   },
   {
    "duration": 24,
    "start_time": "2023-04-23T17:17:14.227Z"
   },
   {
    "duration": 7,
    "start_time": "2023-04-23T17:17:14.252Z"
   },
   {
    "duration": 18,
    "start_time": "2023-04-23T17:17:14.261Z"
   },
   {
    "duration": 101,
    "start_time": "2023-04-23T17:17:14.281Z"
   },
   {
    "duration": 73,
    "start_time": "2023-04-23T17:17:35.239Z"
   },
   {
    "duration": 79,
    "start_time": "2023-04-23T17:17:49.580Z"
   },
   {
    "duration": 87,
    "start_time": "2023-04-23T17:18:05.476Z"
   },
   {
    "duration": 75,
    "start_time": "2023-04-23T17:19:30.257Z"
   },
   {
    "duration": 84,
    "start_time": "2023-04-23T17:20:22.863Z"
   },
   {
    "duration": 77,
    "start_time": "2023-04-23T17:20:37.791Z"
   },
   {
    "duration": 55,
    "start_time": "2023-04-23T17:20:51.913Z"
   },
   {
    "duration": 202,
    "start_time": "2023-04-23T17:22:28.075Z"
   },
   {
    "duration": 195,
    "start_time": "2023-04-23T17:22:39.212Z"
   },
   {
    "duration": 178,
    "start_time": "2023-04-23T17:22:44.991Z"
   },
   {
    "duration": 171,
    "start_time": "2023-04-23T17:22:53.573Z"
   },
   {
    "duration": 198,
    "start_time": "2023-04-23T17:23:14.302Z"
   },
   {
    "duration": 228,
    "start_time": "2023-04-23T17:25:40.324Z"
   },
   {
    "duration": 185,
    "start_time": "2023-04-23T17:26:07.837Z"
   },
   {
    "duration": 167,
    "start_time": "2023-04-23T17:26:40.486Z"
   },
   {
    "duration": 68,
    "start_time": "2023-04-23T17:27:01.669Z"
   },
   {
    "duration": 221,
    "start_time": "2023-04-23T17:27:10.135Z"
   },
   {
    "duration": 235,
    "start_time": "2023-04-23T17:27:32.066Z"
   },
   {
    "duration": 4,
    "start_time": "2023-04-23T17:27:36.240Z"
   },
   {
    "duration": 170,
    "start_time": "2023-04-23T17:27:44.235Z"
   },
   {
    "duration": 177,
    "start_time": "2023-04-23T17:27:51.736Z"
   },
   {
    "duration": 228,
    "start_time": "2023-04-23T17:29:55.872Z"
   },
   {
    "duration": 26,
    "start_time": "2023-04-23T17:32:35.621Z"
   },
   {
    "duration": 6,
    "start_time": "2023-04-23T17:32:49.641Z"
   },
   {
    "duration": 4,
    "start_time": "2023-04-23T17:33:21.135Z"
   },
   {
    "duration": 1194,
    "start_time": "2023-04-23T17:33:27.674Z"
   },
   {
    "duration": 58,
    "start_time": "2023-04-23T17:33:28.870Z"
   },
   {
    "duration": 27,
    "start_time": "2023-04-23T17:33:28.929Z"
   },
   {
    "duration": 14,
    "start_time": "2023-04-23T17:33:28.959Z"
   },
   {
    "duration": 55,
    "start_time": "2023-04-23T17:33:28.976Z"
   },
   {
    "duration": 8,
    "start_time": "2023-04-23T17:33:29.038Z"
   },
   {
    "duration": 25,
    "start_time": "2023-04-23T17:33:29.047Z"
   },
   {
    "duration": 15,
    "start_time": "2023-04-23T17:33:29.074Z"
   },
   {
    "duration": 34,
    "start_time": "2023-04-23T17:33:29.091Z"
   },
   {
    "duration": 7,
    "start_time": "2023-04-23T17:33:29.132Z"
   },
   {
    "duration": 9,
    "start_time": "2023-04-23T17:33:29.141Z"
   },
   {
    "duration": 13,
    "start_time": "2023-04-23T17:33:29.151Z"
   },
   {
    "duration": 8,
    "start_time": "2023-04-23T17:33:29.166Z"
   },
   {
    "duration": 34,
    "start_time": "2023-04-23T17:33:29.176Z"
   },
   {
    "duration": 13,
    "start_time": "2023-04-23T17:33:29.211Z"
   },
   {
    "duration": 14,
    "start_time": "2023-04-23T17:33:29.226Z"
   },
   {
    "duration": 6,
    "start_time": "2023-04-23T17:33:29.242Z"
   },
   {
    "duration": 9,
    "start_time": "2023-04-23T17:33:29.249Z"
   },
   {
    "duration": 20,
    "start_time": "2023-04-23T17:33:29.260Z"
   },
   {
    "duration": 9,
    "start_time": "2023-04-23T17:33:29.281Z"
   },
   {
    "duration": 26,
    "start_time": "2023-04-23T17:33:29.291Z"
   },
   {
    "duration": 239,
    "start_time": "2023-04-23T17:33:29.319Z"
   },
   {
    "duration": 4,
    "start_time": "2023-04-23T17:33:29.560Z"
   },
   {
    "duration": 323,
    "start_time": "2023-04-23T17:43:39.454Z"
   },
   {
    "duration": 351,
    "start_time": "2023-04-23T17:43:49.221Z"
   },
   {
    "duration": 333,
    "start_time": "2023-04-23T17:43:54.229Z"
   },
   {
    "duration": 377,
    "start_time": "2023-04-23T17:43:59.213Z"
   },
   {
    "duration": 54,
    "start_time": "2023-04-23T17:49:56.588Z"
   },
   {
    "duration": 56,
    "start_time": "2023-04-23T19:54:17.761Z"
   },
   {
    "duration": 1060,
    "start_time": "2023-04-23T19:54:24.829Z"
   },
   {
    "duration": 49,
    "start_time": "2023-04-23T19:54:25.890Z"
   },
   {
    "duration": 22,
    "start_time": "2023-04-23T19:54:25.941Z"
   },
   {
    "duration": 11,
    "start_time": "2023-04-23T19:54:25.965Z"
   },
   {
    "duration": 27,
    "start_time": "2023-04-23T19:54:25.978Z"
   },
   {
    "duration": 2,
    "start_time": "2023-04-23T19:54:26.007Z"
   },
   {
    "duration": 10,
    "start_time": "2023-04-23T19:54:26.010Z"
   },
   {
    "duration": 12,
    "start_time": "2023-04-23T19:54:26.021Z"
   },
   {
    "duration": 5,
    "start_time": "2023-04-23T19:54:26.035Z"
   },
   {
    "duration": 7,
    "start_time": "2023-04-23T19:54:26.041Z"
   },
   {
    "duration": 6,
    "start_time": "2023-04-23T19:54:26.050Z"
   },
   {
    "duration": 5,
    "start_time": "2023-04-23T19:54:26.057Z"
   },
   {
    "duration": 4,
    "start_time": "2023-04-23T19:54:26.094Z"
   },
   {
    "duration": 6,
    "start_time": "2023-04-23T19:54:26.101Z"
   },
   {
    "duration": 6,
    "start_time": "2023-04-23T19:54:26.108Z"
   },
   {
    "duration": 6,
    "start_time": "2023-04-23T19:54:26.116Z"
   },
   {
    "duration": 5,
    "start_time": "2023-04-23T19:54:26.124Z"
   },
   {
    "duration": 5,
    "start_time": "2023-04-23T19:54:26.130Z"
   },
   {
    "duration": 19,
    "start_time": "2023-04-23T19:54:26.136Z"
   },
   {
    "duration": 14,
    "start_time": "2023-04-23T19:54:26.156Z"
   },
   {
    "duration": 32,
    "start_time": "2023-04-23T19:54:26.172Z"
   },
   {
    "duration": 291,
    "start_time": "2023-04-23T19:54:26.206Z"
   },
   {
    "duration": 50,
    "start_time": "2023-04-23T19:54:26.499Z"
   },
   {
    "duration": 1141,
    "start_time": "2023-04-23T19:55:06.672Z"
   },
   {
    "duration": 49,
    "start_time": "2023-04-23T19:55:07.815Z"
   },
   {
    "duration": 23,
    "start_time": "2023-04-23T19:55:07.866Z"
   },
   {
    "duration": 13,
    "start_time": "2023-04-23T19:55:07.891Z"
   },
   {
    "duration": 29,
    "start_time": "2023-04-23T19:55:07.905Z"
   },
   {
    "duration": 3,
    "start_time": "2023-04-23T19:55:07.936Z"
   },
   {
    "duration": 11,
    "start_time": "2023-04-23T19:55:07.941Z"
   },
   {
    "duration": 12,
    "start_time": "2023-04-23T19:55:07.953Z"
   },
   {
    "duration": 31,
    "start_time": "2023-04-23T19:55:07.966Z"
   },
   {
    "duration": 7,
    "start_time": "2023-04-23T19:55:08.000Z"
   },
   {
    "duration": 6,
    "start_time": "2023-04-23T19:55:08.009Z"
   },
   {
    "duration": 5,
    "start_time": "2023-04-23T19:55:08.017Z"
   },
   {
    "duration": 5,
    "start_time": "2023-04-23T19:55:08.023Z"
   },
   {
    "duration": 5,
    "start_time": "2023-04-23T19:55:08.030Z"
   },
   {
    "duration": 4,
    "start_time": "2023-04-23T19:55:08.037Z"
   },
   {
    "duration": 6,
    "start_time": "2023-04-23T19:55:08.043Z"
   },
   {
    "duration": 6,
    "start_time": "2023-04-23T19:55:08.050Z"
   },
   {
    "duration": 40,
    "start_time": "2023-04-23T19:55:08.058Z"
   },
   {
    "duration": 20,
    "start_time": "2023-04-23T19:55:08.100Z"
   },
   {
    "duration": 6,
    "start_time": "2023-04-23T19:55:08.121Z"
   },
   {
    "duration": 13,
    "start_time": "2023-04-23T19:55:08.129Z"
   },
   {
    "duration": 326,
    "start_time": "2023-04-23T19:55:08.143Z"
   },
   {
    "duration": 49,
    "start_time": "2023-04-23T19:55:08.471Z"
   },
   {
    "duration": 47,
    "start_time": "2023-04-23T19:55:16.775Z"
   },
   {
    "duration": 18,
    "start_time": "2023-04-23T19:55:44.945Z"
   },
   {
    "duration": 880,
    "start_time": "2023-04-23T20:00:53.875Z"
   },
   {
    "duration": 816,
    "start_time": "2023-04-23T20:01:30.520Z"
   },
   {
    "duration": 2719,
    "start_time": "2023-04-23T20:01:52.100Z"
   },
   {
    "duration": 19,
    "start_time": "2023-04-23T20:02:08.497Z"
   },
   {
    "duration": 16,
    "start_time": "2023-04-23T20:04:48.621Z"
   },
   {
    "duration": 286,
    "start_time": "2023-04-23T20:05:19.195Z"
   },
   {
    "duration": 253,
    "start_time": "2023-04-23T20:05:39.791Z"
   },
   {
    "duration": 252,
    "start_time": "2023-04-23T20:05:49.044Z"
   },
   {
    "duration": 9,
    "start_time": "2023-04-23T20:22:48.057Z"
   },
   {
    "duration": 12,
    "start_time": "2023-04-23T20:22:52.568Z"
   },
   {
    "duration": 123,
    "start_time": "2023-04-23T20:22:58.847Z"
   },
   {
    "duration": 7,
    "start_time": "2023-04-23T20:25:01.375Z"
   },
   {
    "duration": 8,
    "start_time": "2023-04-23T20:25:17.405Z"
   },
   {
    "duration": 3,
    "start_time": "2023-04-23T20:25:36.125Z"
   },
   {
    "duration": 11,
    "start_time": "2023-04-23T20:26:41.463Z"
   },
   {
    "duration": 6,
    "start_time": "2023-04-23T20:27:52.408Z"
   },
   {
    "duration": 13,
    "start_time": "2023-04-23T20:29:54.644Z"
   },
   {
    "duration": 31,
    "start_time": "2023-04-23T20:30:28.864Z"
   },
   {
    "duration": 17,
    "start_time": "2023-04-23T20:30:32.563Z"
   },
   {
    "duration": 8,
    "start_time": "2023-04-23T20:30:57.647Z"
   },
   {
    "duration": 42,
    "start_time": "2023-04-23T20:31:05.095Z"
   },
   {
    "duration": 10,
    "start_time": "2023-04-23T20:31:07.517Z"
   },
   {
    "duration": 1079,
    "start_time": "2023-04-23T20:31:14.099Z"
   },
   {
    "duration": 50,
    "start_time": "2023-04-23T20:31:15.180Z"
   },
   {
    "duration": 22,
    "start_time": "2023-04-23T20:31:15.231Z"
   },
   {
    "duration": 14,
    "start_time": "2023-04-23T20:31:15.255Z"
   },
   {
    "duration": 41,
    "start_time": "2023-04-23T20:31:15.270Z"
   },
   {
    "duration": 3,
    "start_time": "2023-04-23T20:31:15.313Z"
   },
   {
    "duration": 11,
    "start_time": "2023-04-23T20:31:15.317Z"
   },
   {
    "duration": 13,
    "start_time": "2023-04-23T20:31:15.330Z"
   },
   {
    "duration": 16,
    "start_time": "2023-04-23T20:31:15.344Z"
   },
   {
    "duration": 6,
    "start_time": "2023-04-23T20:31:15.362Z"
   },
   {
    "duration": 7,
    "start_time": "2023-04-23T20:31:15.394Z"
   },
   {
    "duration": 8,
    "start_time": "2023-04-23T20:31:15.402Z"
   },
   {
    "duration": 5,
    "start_time": "2023-04-23T20:31:15.412Z"
   },
   {
    "duration": 4,
    "start_time": "2023-04-23T20:31:15.419Z"
   },
   {
    "duration": 4,
    "start_time": "2023-04-23T20:31:15.425Z"
   },
   {
    "duration": 5,
    "start_time": "2023-04-23T20:31:15.431Z"
   },
   {
    "duration": 6,
    "start_time": "2023-04-23T20:31:15.437Z"
   },
   {
    "duration": 4,
    "start_time": "2023-04-23T20:31:15.445Z"
   },
   {
    "duration": 56,
    "start_time": "2023-04-23T20:31:15.450Z"
   },
   {
    "duration": 7,
    "start_time": "2023-04-23T20:31:15.507Z"
   },
   {
    "duration": 34,
    "start_time": "2023-04-23T20:31:15.515Z"
   },
   {
    "duration": 315,
    "start_time": "2023-04-23T20:31:15.551Z"
   },
   {
    "duration": 250,
    "start_time": "2023-04-23T20:31:15.867Z"
   },
   {
    "duration": 6,
    "start_time": "2023-04-23T20:31:16.119Z"
   },
   {
    "duration": 12,
    "start_time": "2023-04-23T20:31:16.126Z"
   },
   {
    "duration": 5,
    "start_time": "2023-04-23T20:31:16.139Z"
   },
   {
    "duration": 127,
    "start_time": "2023-04-23T20:31:16.146Z"
   },
   {
    "duration": 9,
    "start_time": "2023-04-23T20:31:16.276Z"
   },
   {
    "duration": 0,
    "start_time": "2023-04-23T20:31:16.286Z"
   },
   {
    "duration": 131,
    "start_time": "2023-04-23T20:37:43.642Z"
   },
   {
    "duration": 8,
    "start_time": "2023-04-23T20:38:37.253Z"
   },
   {
    "duration": 16,
    "start_time": "2023-04-23T20:38:46.194Z"
   },
   {
    "duration": 6,
    "start_time": "2023-04-23T20:40:14.956Z"
   },
   {
    "duration": 10,
    "start_time": "2023-04-23T20:40:19.144Z"
   },
   {
    "duration": 9,
    "start_time": "2023-04-23T20:40:42.811Z"
   },
   {
    "duration": 253,
    "start_time": "2023-04-23T20:41:36.779Z"
   },
   {
    "duration": 8,
    "start_time": "2023-04-23T20:42:19.381Z"
   },
   {
    "duration": 47,
    "start_time": "2023-04-23T20:43:40.955Z"
   },
   {
    "duration": 1060,
    "start_time": "2023-04-23T20:44:13.819Z"
   },
   {
    "duration": 48,
    "start_time": "2023-04-23T20:44:14.881Z"
   },
   {
    "duration": 20,
    "start_time": "2023-04-23T20:44:14.931Z"
   },
   {
    "duration": 11,
    "start_time": "2023-04-23T20:44:14.953Z"
   },
   {
    "duration": 29,
    "start_time": "2023-04-23T20:44:14.965Z"
   },
   {
    "duration": 3,
    "start_time": "2023-04-23T20:44:14.996Z"
   },
   {
    "duration": 31,
    "start_time": "2023-04-23T20:44:15.000Z"
   },
   {
    "duration": 13,
    "start_time": "2023-04-23T20:44:15.032Z"
   },
   {
    "duration": 8,
    "start_time": "2023-04-23T20:44:15.047Z"
   },
   {
    "duration": 7,
    "start_time": "2023-04-23T20:44:15.058Z"
   },
   {
    "duration": 8,
    "start_time": "2023-04-23T20:44:15.066Z"
   },
   {
    "duration": 21,
    "start_time": "2023-04-23T20:44:15.075Z"
   },
   {
    "duration": 4,
    "start_time": "2023-04-23T20:44:15.098Z"
   },
   {
    "duration": 42,
    "start_time": "2023-04-23T20:44:15.104Z"
   },
   {
    "duration": 33,
    "start_time": "2023-04-23T20:44:15.147Z"
   },
   {
    "duration": 29,
    "start_time": "2023-04-23T20:44:15.182Z"
   },
   {
    "duration": 9,
    "start_time": "2023-04-23T20:44:15.213Z"
   },
   {
    "duration": 5,
    "start_time": "2023-04-23T20:44:15.224Z"
   },
   {
    "duration": 14,
    "start_time": "2023-04-23T20:44:15.230Z"
   },
   {
    "duration": 6,
    "start_time": "2023-04-23T20:44:15.246Z"
   },
   {
    "duration": 13,
    "start_time": "2023-04-23T20:44:15.253Z"
   },
   {
    "duration": 314,
    "start_time": "2023-04-23T20:44:15.267Z"
   },
   {
    "duration": 246,
    "start_time": "2023-04-23T20:44:15.582Z"
   },
   {
    "duration": 50,
    "start_time": "2023-04-23T20:44:15.830Z"
   },
   {
    "duration": 0,
    "start_time": "2023-04-23T20:44:15.881Z"
   },
   {
    "duration": 0,
    "start_time": "2023-04-23T20:44:15.882Z"
   },
   {
    "duration": 0,
    "start_time": "2023-04-23T20:44:15.883Z"
   },
   {
    "duration": 7,
    "start_time": "2023-04-23T20:44:30.253Z"
   },
   {
    "duration": 5,
    "start_time": "2023-04-23T20:44:33.755Z"
   },
   {
    "duration": 1096,
    "start_time": "2023-04-23T20:48:15.864Z"
   },
   {
    "duration": 53,
    "start_time": "2023-04-23T20:48:16.961Z"
   },
   {
    "duration": 21,
    "start_time": "2023-04-23T20:48:17.015Z"
   },
   {
    "duration": 14,
    "start_time": "2023-04-23T20:48:17.037Z"
   },
   {
    "duration": 26,
    "start_time": "2023-04-23T20:48:17.052Z"
   },
   {
    "duration": 3,
    "start_time": "2023-04-23T20:48:17.094Z"
   },
   {
    "duration": 11,
    "start_time": "2023-04-23T20:48:17.098Z"
   },
   {
    "duration": 14,
    "start_time": "2023-04-23T20:48:17.110Z"
   },
   {
    "duration": 10,
    "start_time": "2023-04-23T20:48:17.125Z"
   },
   {
    "duration": 9,
    "start_time": "2023-04-23T20:48:17.137Z"
   },
   {
    "duration": 7,
    "start_time": "2023-04-23T20:48:17.147Z"
   },
   {
    "duration": 6,
    "start_time": "2023-04-23T20:48:17.156Z"
   },
   {
    "duration": 33,
    "start_time": "2023-04-23T20:48:17.163Z"
   },
   {
    "duration": 10,
    "start_time": "2023-04-23T20:48:17.198Z"
   },
   {
    "duration": 7,
    "start_time": "2023-04-23T20:48:17.209Z"
   },
   {
    "duration": 7,
    "start_time": "2023-04-23T20:48:17.217Z"
   },
   {
    "duration": 8,
    "start_time": "2023-04-23T20:48:17.225Z"
   },
   {
    "duration": 5,
    "start_time": "2023-04-23T20:48:17.235Z"
   },
   {
    "duration": 19,
    "start_time": "2023-04-23T20:48:17.241Z"
   },
   {
    "duration": 6,
    "start_time": "2023-04-23T20:48:17.261Z"
   },
   {
    "duration": 33,
    "start_time": "2023-04-23T20:48:17.268Z"
   },
   {
    "duration": 349,
    "start_time": "2023-04-23T20:48:17.302Z"
   },
   {
    "duration": 253,
    "start_time": "2023-04-23T20:48:17.653Z"
   },
   {
    "duration": 6,
    "start_time": "2023-04-23T20:48:17.907Z"
   },
   {
    "duration": 6,
    "start_time": "2023-04-23T20:48:17.914Z"
   },
   {
    "duration": 115,
    "start_time": "2023-04-23T20:48:17.921Z"
   },
   {
    "duration": 0,
    "start_time": "2023-04-23T20:48:18.038Z"
   },
   {
    "duration": 0,
    "start_time": "2023-04-23T20:48:18.039Z"
   },
   {
    "duration": 23,
    "start_time": "2023-04-23T20:48:39.249Z"
   },
   {
    "duration": 1035,
    "start_time": "2023-04-23T20:48:44.421Z"
   },
   {
    "duration": 48,
    "start_time": "2023-04-23T20:48:45.460Z"
   },
   {
    "duration": 21,
    "start_time": "2023-04-23T20:48:45.509Z"
   },
   {
    "duration": 12,
    "start_time": "2023-04-23T20:48:45.532Z"
   },
   {
    "duration": 27,
    "start_time": "2023-04-23T20:48:45.545Z"
   },
   {
    "duration": 22,
    "start_time": "2023-04-23T20:48:45.573Z"
   },
   {
    "duration": 10,
    "start_time": "2023-04-23T20:48:45.596Z"
   },
   {
    "duration": 11,
    "start_time": "2023-04-23T20:48:45.607Z"
   },
   {
    "duration": 6,
    "start_time": "2023-04-23T20:48:45.619Z"
   },
   {
    "duration": 4,
    "start_time": "2023-04-23T20:48:45.627Z"
   },
   {
    "duration": 5,
    "start_time": "2023-04-23T20:48:45.633Z"
   },
   {
    "duration": 5,
    "start_time": "2023-04-23T20:48:45.639Z"
   },
   {
    "duration": 4,
    "start_time": "2023-04-23T20:48:45.645Z"
   },
   {
    "duration": 4,
    "start_time": "2023-04-23T20:48:45.650Z"
   },
   {
    "duration": 40,
    "start_time": "2023-04-23T20:48:45.655Z"
   },
   {
    "duration": 4,
    "start_time": "2023-04-23T20:48:45.696Z"
   },
   {
    "duration": 6,
    "start_time": "2023-04-23T20:48:45.701Z"
   },
   {
    "duration": 9,
    "start_time": "2023-04-23T20:48:45.708Z"
   },
   {
    "duration": 14,
    "start_time": "2023-04-23T20:48:45.718Z"
   },
   {
    "duration": 5,
    "start_time": "2023-04-23T20:48:45.733Z"
   },
   {
    "duration": 11,
    "start_time": "2023-04-23T20:48:45.739Z"
   },
   {
    "duration": 301,
    "start_time": "2023-04-23T20:48:45.751Z"
   },
   {
    "duration": 247,
    "start_time": "2023-04-23T20:48:46.053Z"
   },
   {
    "duration": 6,
    "start_time": "2023-04-23T20:48:46.302Z"
   },
   {
    "duration": 14,
    "start_time": "2023-04-23T20:48:46.310Z"
   },
   {
    "duration": 121,
    "start_time": "2023-04-23T20:48:46.326Z"
   },
   {
    "duration": 8,
    "start_time": "2023-04-23T20:48:46.449Z"
   },
   {
    "duration": 0,
    "start_time": "2023-04-23T20:48:46.458Z"
   },
   {
    "duration": 12,
    "start_time": "2023-04-23T20:49:02.282Z"
   },
   {
    "duration": 7,
    "start_time": "2023-04-23T21:00:19.487Z"
   },
   {
    "duration": 8,
    "start_time": "2023-04-23T21:00:29.726Z"
   },
   {
    "duration": 1039,
    "start_time": "2023-04-23T21:00:34.517Z"
   },
   {
    "duration": 47,
    "start_time": "2023-04-23T21:00:35.558Z"
   },
   {
    "duration": 20,
    "start_time": "2023-04-23T21:00:35.607Z"
   },
   {
    "duration": 22,
    "start_time": "2023-04-23T21:00:35.628Z"
   },
   {
    "duration": 29,
    "start_time": "2023-04-23T21:00:35.652Z"
   },
   {
    "duration": 3,
    "start_time": "2023-04-23T21:00:35.682Z"
   },
   {
    "duration": 16,
    "start_time": "2023-04-23T21:00:35.686Z"
   },
   {
    "duration": 28,
    "start_time": "2023-04-23T21:00:35.704Z"
   },
   {
    "duration": 25,
    "start_time": "2023-04-23T21:00:35.733Z"
   },
   {
    "duration": 16,
    "start_time": "2023-04-23T21:00:35.760Z"
   },
   {
    "duration": 24,
    "start_time": "2023-04-23T21:00:35.778Z"
   },
   {
    "duration": 9,
    "start_time": "2023-04-23T21:00:35.803Z"
   },
   {
    "duration": 7,
    "start_time": "2023-04-23T21:00:35.814Z"
   },
   {
    "duration": 7,
    "start_time": "2023-04-23T21:00:35.823Z"
   },
   {
    "duration": 7,
    "start_time": "2023-04-23T21:00:35.831Z"
   },
   {
    "duration": 6,
    "start_time": "2023-04-23T21:00:35.839Z"
   },
   {
    "duration": 14,
    "start_time": "2023-04-23T21:00:35.846Z"
   },
   {
    "duration": 11,
    "start_time": "2023-04-23T21:00:35.861Z"
   },
   {
    "duration": 36,
    "start_time": "2023-04-23T21:00:35.874Z"
   },
   {
    "duration": 6,
    "start_time": "2023-04-23T21:00:35.911Z"
   },
   {
    "duration": 16,
    "start_time": "2023-04-23T21:00:35.919Z"
   },
   {
    "duration": 298,
    "start_time": "2023-04-23T21:00:35.936Z"
   },
   {
    "duration": 237,
    "start_time": "2023-04-23T21:00:36.236Z"
   },
   {
    "duration": 94,
    "start_time": "2023-04-23T21:00:36.474Z"
   },
   {
    "duration": 0,
    "start_time": "2023-04-23T21:00:36.570Z"
   },
   {
    "duration": 0,
    "start_time": "2023-04-23T21:00:36.571Z"
   },
   {
    "duration": 0,
    "start_time": "2023-04-23T21:00:36.572Z"
   },
   {
    "duration": 0,
    "start_time": "2023-04-23T21:00:36.573Z"
   },
   {
    "duration": 0,
    "start_time": "2023-04-23T21:00:36.574Z"
   },
   {
    "duration": 13,
    "start_time": "2023-04-23T21:00:48.406Z"
   },
   {
    "duration": 15,
    "start_time": "2023-04-23T21:00:50.520Z"
   },
   {
    "duration": 1009,
    "start_time": "2023-04-23T21:22:59.249Z"
   },
   {
    "duration": 48,
    "start_time": "2023-04-23T21:23:00.260Z"
   },
   {
    "duration": 20,
    "start_time": "2023-04-23T21:23:00.309Z"
   },
   {
    "duration": 13,
    "start_time": "2023-04-23T21:23:00.331Z"
   },
   {
    "duration": 52,
    "start_time": "2023-04-23T21:23:00.345Z"
   },
   {
    "duration": 20,
    "start_time": "2023-04-23T21:23:00.398Z"
   },
   {
    "duration": 35,
    "start_time": "2023-04-23T21:23:00.419Z"
   },
   {
    "duration": 29,
    "start_time": "2023-04-23T21:23:00.455Z"
   },
   {
    "duration": 33,
    "start_time": "2023-04-23T21:23:00.486Z"
   },
   {
    "duration": 11,
    "start_time": "2023-04-23T21:23:00.521Z"
   },
   {
    "duration": 7,
    "start_time": "2023-04-23T21:23:00.533Z"
   },
   {
    "duration": 29,
    "start_time": "2023-04-23T21:23:00.542Z"
   },
   {
    "duration": 9,
    "start_time": "2023-04-23T21:23:00.572Z"
   },
   {
    "duration": 26,
    "start_time": "2023-04-23T21:23:00.582Z"
   },
   {
    "duration": 14,
    "start_time": "2023-04-23T21:23:00.610Z"
   },
   {
    "duration": 25,
    "start_time": "2023-04-23T21:23:00.625Z"
   },
   {
    "duration": 30,
    "start_time": "2023-04-23T21:23:00.652Z"
   },
   {
    "duration": 29,
    "start_time": "2023-04-23T21:23:00.684Z"
   },
   {
    "duration": 28,
    "start_time": "2023-04-23T21:23:00.715Z"
   },
   {
    "duration": 26,
    "start_time": "2023-04-23T21:23:00.745Z"
   },
   {
    "duration": 49,
    "start_time": "2023-04-23T21:23:00.772Z"
   },
   {
    "duration": 328,
    "start_time": "2023-04-23T21:23:00.823Z"
   },
   {
    "duration": 258,
    "start_time": "2023-04-23T21:23:01.153Z"
   },
   {
    "duration": 98,
    "start_time": "2023-04-23T21:23:01.413Z"
   },
   {
    "duration": 0,
    "start_time": "2023-04-23T21:23:01.512Z"
   },
   {
    "duration": 0,
    "start_time": "2023-04-23T21:23:01.513Z"
   },
   {
    "duration": 0,
    "start_time": "2023-04-23T21:23:01.514Z"
   },
   {
    "duration": 1,
    "start_time": "2023-04-23T21:23:01.515Z"
   },
   {
    "duration": 9,
    "start_time": "2023-04-23T21:24:54.711Z"
   },
   {
    "duration": 25,
    "start_time": "2023-04-23T21:25:14.199Z"
   },
   {
    "duration": 1027,
    "start_time": "2023-04-23T21:25:29.957Z"
   },
   {
    "duration": 49,
    "start_time": "2023-04-23T21:25:30.986Z"
   },
   {
    "duration": 22,
    "start_time": "2023-04-23T21:25:31.036Z"
   },
   {
    "duration": 38,
    "start_time": "2023-04-23T21:25:31.059Z"
   },
   {
    "duration": 45,
    "start_time": "2023-04-23T21:25:31.099Z"
   },
   {
    "duration": 6,
    "start_time": "2023-04-23T21:25:31.146Z"
   },
   {
    "duration": 40,
    "start_time": "2023-04-23T21:25:31.154Z"
   },
   {
    "duration": 55,
    "start_time": "2023-04-23T21:25:31.196Z"
   },
   {
    "duration": 27,
    "start_time": "2023-04-23T21:25:31.253Z"
   },
   {
    "duration": 34,
    "start_time": "2023-04-23T21:25:31.281Z"
   },
   {
    "duration": 27,
    "start_time": "2023-04-23T21:25:31.317Z"
   },
   {
    "duration": 35,
    "start_time": "2023-04-23T21:25:31.346Z"
   },
   {
    "duration": 27,
    "start_time": "2023-04-23T21:25:31.383Z"
   },
   {
    "duration": 45,
    "start_time": "2023-04-23T21:25:31.413Z"
   },
   {
    "duration": 19,
    "start_time": "2023-04-23T21:25:31.460Z"
   },
   {
    "duration": 19,
    "start_time": "2023-04-23T21:25:31.480Z"
   },
   {
    "duration": 25,
    "start_time": "2023-04-23T21:25:31.500Z"
   },
   {
    "duration": 15,
    "start_time": "2023-04-23T21:25:31.526Z"
   },
   {
    "duration": 21,
    "start_time": "2023-04-23T21:25:31.542Z"
   },
   {
    "duration": 19,
    "start_time": "2023-04-23T21:25:31.564Z"
   },
   {
    "duration": 14,
    "start_time": "2023-04-23T21:25:31.584Z"
   },
   {
    "duration": 304,
    "start_time": "2023-04-23T21:25:31.599Z"
   },
   {
    "duration": 105,
    "start_time": "2023-04-23T21:25:31.904Z"
   },
   {
    "duration": 0,
    "start_time": "2023-04-23T21:25:32.010Z"
   },
   {
    "duration": 0,
    "start_time": "2023-04-23T21:25:32.011Z"
   },
   {
    "duration": 0,
    "start_time": "2023-04-23T21:25:32.012Z"
   },
   {
    "duration": 0,
    "start_time": "2023-04-23T21:25:32.013Z"
   },
   {
    "duration": 0,
    "start_time": "2023-04-23T21:25:32.013Z"
   },
   {
    "duration": 18,
    "start_time": "2023-04-23T21:26:01.843Z"
   },
   {
    "duration": 20,
    "start_time": "2023-04-23T21:26:19.558Z"
   },
   {
    "duration": 6,
    "start_time": "2023-04-23T21:35:33.855Z"
   },
   {
    "duration": 14,
    "start_time": "2023-04-23T21:35:44.947Z"
   },
   {
    "duration": 13,
    "start_time": "2023-04-23T21:36:43.561Z"
   },
   {
    "duration": 12,
    "start_time": "2023-04-23T21:42:35.458Z"
   },
   {
    "duration": 44,
    "start_time": "2023-04-23T21:44:29.722Z"
   },
   {
    "duration": 259,
    "start_time": "2023-04-23T21:44:35.383Z"
   },
   {
    "duration": 256,
    "start_time": "2023-04-23T21:47:22.019Z"
   },
   {
    "duration": 265,
    "start_time": "2023-04-23T21:47:44.119Z"
   },
   {
    "duration": 310,
    "start_time": "2023-04-23T21:47:51.026Z"
   },
   {
    "duration": 32,
    "start_time": "2023-04-23T21:53:31.553Z"
   },
   {
    "duration": 29,
    "start_time": "2023-04-23T21:53:49.066Z"
   },
   {
    "duration": 1069,
    "start_time": "2023-04-23T21:54:57.083Z"
   },
   {
    "duration": 47,
    "start_time": "2023-04-23T21:54:58.154Z"
   },
   {
    "duration": 19,
    "start_time": "2023-04-23T21:54:58.203Z"
   },
   {
    "duration": 12,
    "start_time": "2023-04-23T21:54:58.224Z"
   },
   {
    "duration": 25,
    "start_time": "2023-04-23T21:54:58.238Z"
   },
   {
    "duration": 2,
    "start_time": "2023-04-23T21:54:58.264Z"
   },
   {
    "duration": 30,
    "start_time": "2023-04-23T21:54:58.268Z"
   },
   {
    "duration": 12,
    "start_time": "2023-04-23T21:54:58.299Z"
   },
   {
    "duration": 7,
    "start_time": "2023-04-23T21:54:58.312Z"
   },
   {
    "duration": 4,
    "start_time": "2023-04-23T21:54:58.321Z"
   },
   {
    "duration": 5,
    "start_time": "2023-04-23T21:54:58.327Z"
   },
   {
    "duration": 5,
    "start_time": "2023-04-23T21:54:58.333Z"
   },
   {
    "duration": 5,
    "start_time": "2023-04-23T21:54:58.339Z"
   },
   {
    "duration": 3,
    "start_time": "2023-04-23T21:54:58.347Z"
   },
   {
    "duration": 6,
    "start_time": "2023-04-23T21:54:58.352Z"
   },
   {
    "duration": 36,
    "start_time": "2023-04-23T21:54:58.359Z"
   },
   {
    "duration": 4,
    "start_time": "2023-04-23T21:54:58.397Z"
   },
   {
    "duration": 4,
    "start_time": "2023-04-23T21:54:58.403Z"
   },
   {
    "duration": 14,
    "start_time": "2023-04-23T21:54:58.408Z"
   },
   {
    "duration": 6,
    "start_time": "2023-04-23T21:54:58.423Z"
   },
   {
    "duration": 13,
    "start_time": "2023-04-23T21:54:58.430Z"
   },
   {
    "duration": 298,
    "start_time": "2023-04-23T21:54:58.444Z"
   },
   {
    "duration": 253,
    "start_time": "2023-04-23T21:54:58.743Z"
   },
   {
    "duration": 9,
    "start_time": "2023-04-23T21:54:58.998Z"
   },
   {
    "duration": 246,
    "start_time": "2023-04-23T21:54:59.009Z"
   },
   {
    "duration": 94,
    "start_time": "2023-04-23T21:54:59.257Z"
   },
   {
    "duration": 0,
    "start_time": "2023-04-23T21:54:59.352Z"
   },
   {
    "duration": 0,
    "start_time": "2023-04-23T21:54:59.353Z"
   },
   {
    "duration": 0,
    "start_time": "2023-04-23T21:54:59.354Z"
   },
   {
    "duration": 228,
    "start_time": "2023-04-23T21:56:11.035Z"
   },
   {
    "duration": 61,
    "start_time": "2023-04-24T07:27:38.348Z"
   },
   {
    "duration": 1516,
    "start_time": "2023-04-24T07:27:48.346Z"
   },
   {
    "duration": 99,
    "start_time": "2023-04-24T07:27:49.864Z"
   },
   {
    "duration": 25,
    "start_time": "2023-04-24T07:27:49.965Z"
   },
   {
    "duration": 23,
    "start_time": "2023-04-24T07:27:49.992Z"
   },
   {
    "duration": 45,
    "start_time": "2023-04-24T07:27:50.017Z"
   },
   {
    "duration": 3,
    "start_time": "2023-04-24T07:27:50.064Z"
   },
   {
    "duration": 38,
    "start_time": "2023-04-24T07:27:50.068Z"
   },
   {
    "duration": 21,
    "start_time": "2023-04-24T07:27:50.108Z"
   },
   {
    "duration": 21,
    "start_time": "2023-04-24T07:27:50.130Z"
   },
   {
    "duration": 27,
    "start_time": "2023-04-24T07:27:50.153Z"
   },
   {
    "duration": 24,
    "start_time": "2023-04-24T07:27:50.181Z"
   },
   {
    "duration": 19,
    "start_time": "2023-04-24T07:27:50.206Z"
   },
   {
    "duration": 30,
    "start_time": "2023-04-24T07:27:50.226Z"
   },
   {
    "duration": 32,
    "start_time": "2023-04-24T07:27:50.257Z"
   },
   {
    "duration": 43,
    "start_time": "2023-04-24T07:27:50.291Z"
   },
   {
    "duration": 30,
    "start_time": "2023-04-24T07:27:50.335Z"
   },
   {
    "duration": 37,
    "start_time": "2023-04-24T07:27:50.366Z"
   },
   {
    "duration": 21,
    "start_time": "2023-04-24T07:27:50.405Z"
   },
   {
    "duration": 31,
    "start_time": "2023-04-24T07:27:50.427Z"
   },
   {
    "duration": 41,
    "start_time": "2023-04-24T07:27:50.459Z"
   },
   {
    "duration": 29,
    "start_time": "2023-04-24T07:27:50.502Z"
   },
   {
    "duration": 364,
    "start_time": "2023-04-24T07:27:50.532Z"
   },
   {
    "duration": 300,
    "start_time": "2023-04-24T07:27:50.898Z"
   },
   {
    "duration": 10,
    "start_time": "2023-04-24T07:27:51.199Z"
   },
   {
    "duration": 304,
    "start_time": "2023-04-24T07:27:51.211Z"
   },
   {
    "duration": 3,
    "start_time": "2023-04-24T07:27:51.516Z"
   },
   {
    "duration": 1220,
    "start_time": "2023-04-24T07:30:03.925Z"
   },
   {
    "duration": 53,
    "start_time": "2023-04-24T07:30:05.147Z"
   },
   {
    "duration": 20,
    "start_time": "2023-04-24T07:30:05.201Z"
   },
   {
    "duration": 19,
    "start_time": "2023-04-24T07:30:05.222Z"
   },
   {
    "duration": 40,
    "start_time": "2023-04-24T07:30:05.243Z"
   },
   {
    "duration": 3,
    "start_time": "2023-04-24T07:30:05.284Z"
   },
   {
    "duration": 58,
    "start_time": "2023-04-24T07:30:05.289Z"
   },
   {
    "duration": 42,
    "start_time": "2023-04-24T07:30:05.349Z"
   },
   {
    "duration": 17,
    "start_time": "2023-04-24T07:30:05.392Z"
   },
   {
    "duration": 24,
    "start_time": "2023-04-24T07:30:05.411Z"
   },
   {
    "duration": 11,
    "start_time": "2023-04-24T07:30:05.437Z"
   },
   {
    "duration": 15,
    "start_time": "2023-04-24T07:30:05.450Z"
   },
   {
    "duration": 37,
    "start_time": "2023-04-24T07:30:05.467Z"
   },
   {
    "duration": 23,
    "start_time": "2023-04-24T07:30:05.505Z"
   },
   {
    "duration": 17,
    "start_time": "2023-04-24T07:30:05.530Z"
   },
   {
    "duration": 43,
    "start_time": "2023-04-24T07:30:05.549Z"
   },
   {
    "duration": 20,
    "start_time": "2023-04-24T07:30:05.593Z"
   },
   {
    "duration": 11,
    "start_time": "2023-04-24T07:30:05.615Z"
   },
   {
    "duration": 31,
    "start_time": "2023-04-24T07:30:05.628Z"
   },
   {
    "duration": 6,
    "start_time": "2023-04-24T07:30:05.660Z"
   },
   {
    "duration": 30,
    "start_time": "2023-04-24T07:30:05.667Z"
   },
   {
    "duration": 325,
    "start_time": "2023-04-24T07:30:05.698Z"
   },
   {
    "duration": 309,
    "start_time": "2023-04-24T07:30:06.024Z"
   },
   {
    "duration": 10,
    "start_time": "2023-04-24T07:30:06.334Z"
   },
   {
    "duration": 291,
    "start_time": "2023-04-24T07:30:06.346Z"
   },
   {
    "duration": 2,
    "start_time": "2023-04-24T07:30:06.638Z"
   },
   {
    "duration": 277,
    "start_time": "2023-04-24T07:31:00.384Z"
   },
   {
    "duration": 249,
    "start_time": "2023-04-24T07:31:14.270Z"
   },
   {
    "duration": 527,
    "start_time": "2023-04-24T07:32:40.239Z"
   },
   {
    "duration": 1782,
    "start_time": "2023-04-24T07:33:36.488Z"
   },
   {
    "duration": 494,
    "start_time": "2023-04-24T07:33:41.595Z"
   },
   {
    "duration": 450,
    "start_time": "2023-04-24T07:36:08.138Z"
   },
   {
    "duration": 453,
    "start_time": "2023-04-24T07:36:14.297Z"
   },
   {
    "duration": 470,
    "start_time": "2023-04-24T07:36:19.760Z"
   },
   {
    "duration": 129,
    "start_time": "2023-04-24T07:37:39.911Z"
   },
   {
    "duration": 452,
    "start_time": "2023-04-24T07:37:46.328Z"
   },
   {
    "duration": 513,
    "start_time": "2023-04-24T07:38:08.528Z"
   },
   {
    "duration": 496,
    "start_time": "2023-04-24T07:38:24.240Z"
   },
   {
    "duration": 452,
    "start_time": "2023-04-24T07:38:32.196Z"
   },
   {
    "duration": 13,
    "start_time": "2023-04-24T07:46:40.337Z"
   },
   {
    "duration": 118,
    "start_time": "2023-04-24T07:53:08.992Z"
   },
   {
    "duration": 83,
    "start_time": "2023-04-24T07:53:28.547Z"
   },
   {
    "duration": 84,
    "start_time": "2023-04-24T07:53:34.635Z"
   },
   {
    "duration": 75,
    "start_time": "2023-04-24T07:53:43.196Z"
   },
   {
    "duration": 64,
    "start_time": "2023-04-24T07:55:55.854Z"
   },
   {
    "duration": 146,
    "start_time": "2023-04-24T07:58:55.119Z"
   },
   {
    "duration": 645,
    "start_time": "2023-04-24T08:06:39.971Z"
   },
   {
    "duration": 92,
    "start_time": "2023-04-24T08:07:00.068Z"
   },
   {
    "duration": 88,
    "start_time": "2023-04-24T08:07:12.763Z"
   },
   {
    "duration": 1016,
    "start_time": "2023-04-24T08:08:30.352Z"
   },
   {
    "duration": 1002,
    "start_time": "2023-04-24T08:17:27.835Z"
   },
   {
    "duration": 10,
    "start_time": "2023-04-24T08:42:01.035Z"
   },
   {
    "duration": 10,
    "start_time": "2023-04-24T08:42:10.324Z"
   },
   {
    "duration": 7,
    "start_time": "2023-04-24T08:42:23.032Z"
   },
   {
    "duration": 13,
    "start_time": "2023-04-24T08:42:35.193Z"
   },
   {
    "duration": 1631,
    "start_time": "2023-04-24T08:42:41.990Z"
   },
   {
    "duration": 19,
    "start_time": "2023-04-24T08:44:02.225Z"
   },
   {
    "duration": 19,
    "start_time": "2023-04-24T08:44:16.751Z"
   },
   {
    "duration": 449,
    "start_time": "2023-04-24T08:44:24.512Z"
   },
   {
    "duration": 3015,
    "start_time": "2023-04-24T08:47:49.132Z"
   },
   {
    "duration": 170,
    "start_time": "2023-04-24T08:48:09.064Z"
   },
   {
    "duration": 156,
    "start_time": "2023-04-24T08:48:46.633Z"
   },
   {
    "duration": 102,
    "start_time": "2023-04-24T10:57:24.822Z"
   },
   {
    "duration": 8,
    "start_time": "2023-04-24T11:04:08.584Z"
   },
   {
    "duration": 13,
    "start_time": "2023-04-24T11:04:15.225Z"
   },
   {
    "duration": 12,
    "start_time": "2023-04-24T11:04:29.299Z"
   },
   {
    "duration": 1133,
    "start_time": "2023-04-24T11:04:36.329Z"
   },
   {
    "duration": 49,
    "start_time": "2023-04-24T11:04:37.464Z"
   },
   {
    "duration": 20,
    "start_time": "2023-04-24T11:04:37.515Z"
   },
   {
    "duration": 14,
    "start_time": "2023-04-24T11:04:37.537Z"
   },
   {
    "duration": 31,
    "start_time": "2023-04-24T11:04:37.553Z"
   },
   {
    "duration": 3,
    "start_time": "2023-04-24T11:04:37.585Z"
   },
   {
    "duration": 18,
    "start_time": "2023-04-24T11:04:37.589Z"
   },
   {
    "duration": 16,
    "start_time": "2023-04-24T11:04:37.609Z"
   },
   {
    "duration": 12,
    "start_time": "2023-04-24T11:04:37.627Z"
   },
   {
    "duration": 9,
    "start_time": "2023-04-24T11:04:37.642Z"
   },
   {
    "duration": 13,
    "start_time": "2023-04-24T11:04:37.652Z"
   },
   {
    "duration": 7,
    "start_time": "2023-04-24T11:04:37.667Z"
   },
   {
    "duration": 9,
    "start_time": "2023-04-24T11:04:37.676Z"
   },
   {
    "duration": 13,
    "start_time": "2023-04-24T11:04:37.686Z"
   },
   {
    "duration": 11,
    "start_time": "2023-04-24T11:04:37.700Z"
   },
   {
    "duration": 16,
    "start_time": "2023-04-24T11:04:37.712Z"
   },
   {
    "duration": 10,
    "start_time": "2023-04-24T11:04:37.729Z"
   },
   {
    "duration": 19,
    "start_time": "2023-04-24T11:04:37.740Z"
   },
   {
    "duration": 31,
    "start_time": "2023-04-24T11:04:37.760Z"
   },
   {
    "duration": 14,
    "start_time": "2023-04-24T11:04:37.792Z"
   },
   {
    "duration": 17,
    "start_time": "2023-04-24T11:04:37.807Z"
   },
   {
    "duration": 289,
    "start_time": "2023-04-24T11:04:37.825Z"
   },
   {
    "duration": 476,
    "start_time": "2023-04-24T11:04:38.115Z"
   },
   {
    "duration": 244,
    "start_time": "2023-04-24T11:04:38.592Z"
   },
   {
    "duration": 10,
    "start_time": "2023-04-24T11:04:38.838Z"
   },
   {
    "duration": 248,
    "start_time": "2023-04-24T11:04:38.849Z"
   },
   {
    "duration": 143,
    "start_time": "2023-04-24T11:04:39.099Z"
   },
   {
    "duration": 109,
    "start_time": "2023-04-24T11:04:39.245Z"
   },
   {
    "duration": 76,
    "start_time": "2023-04-24T11:05:45.599Z"
   },
   {
    "duration": 13,
    "start_time": "2023-04-24T11:06:01.111Z"
   },
   {
    "duration": 14,
    "start_time": "2023-04-24T11:06:40.762Z"
   },
   {
    "duration": 96,
    "start_time": "2023-04-24T11:06:57.226Z"
   },
   {
    "duration": 154,
    "start_time": "2023-04-24T11:07:05.270Z"
   },
   {
    "duration": 121,
    "start_time": "2023-04-24T11:07:11.819Z"
   },
   {
    "duration": 79,
    "start_time": "2023-04-24T11:07:18.674Z"
   },
   {
    "duration": 411,
    "start_time": "2023-04-24T11:08:06.462Z"
   },
   {
    "duration": 71,
    "start_time": "2023-04-24T11:09:22.189Z"
   },
   {
    "duration": 291,
    "start_time": "2023-04-24T11:09:28.733Z"
   },
   {
    "duration": 382,
    "start_time": "2023-04-24T11:11:30.799Z"
   },
   {
    "duration": 433,
    "start_time": "2023-04-24T11:11:38.578Z"
   },
   {
    "duration": 505,
    "start_time": "2023-04-24T11:12:27.175Z"
   },
   {
    "duration": 415,
    "start_time": "2023-04-24T11:12:43.320Z"
   },
   {
    "duration": 391,
    "start_time": "2023-04-24T11:12:48.087Z"
   },
   {
    "duration": 166,
    "start_time": "2023-04-24T17:33:49.114Z"
   },
   {
    "duration": 174,
    "start_time": "2023-04-24T17:33:56.385Z"
   },
   {
    "duration": 42,
    "start_time": "2023-04-24T17:37:02.563Z"
   },
   {
    "duration": 1404,
    "start_time": "2023-04-24T17:37:12.031Z"
   },
   {
    "duration": 190,
    "start_time": "2023-04-24T17:37:13.437Z"
   },
   {
    "duration": 24,
    "start_time": "2023-04-24T17:37:13.629Z"
   },
   {
    "duration": 16,
    "start_time": "2023-04-24T17:37:13.655Z"
   },
   {
    "duration": 31,
    "start_time": "2023-04-24T17:37:13.673Z"
   },
   {
    "duration": 3,
    "start_time": "2023-04-24T17:37:13.711Z"
   },
   {
    "duration": 19,
    "start_time": "2023-04-24T17:37:13.716Z"
   },
   {
    "duration": 14,
    "start_time": "2023-04-24T17:37:13.736Z"
   },
   {
    "duration": 27,
    "start_time": "2023-04-24T17:37:13.752Z"
   },
   {
    "duration": 7,
    "start_time": "2023-04-24T17:37:13.782Z"
   },
   {
    "duration": 6,
    "start_time": "2023-04-24T17:37:13.791Z"
   },
   {
    "duration": 17,
    "start_time": "2023-04-24T17:37:13.798Z"
   },
   {
    "duration": 11,
    "start_time": "2023-04-24T17:37:13.816Z"
   },
   {
    "duration": 9,
    "start_time": "2023-04-24T17:37:13.829Z"
   },
   {
    "duration": 9,
    "start_time": "2023-04-24T17:37:13.840Z"
   },
   {
    "duration": 5,
    "start_time": "2023-04-24T17:37:13.852Z"
   },
   {
    "duration": 8,
    "start_time": "2023-04-24T17:37:13.859Z"
   },
   {
    "duration": 5,
    "start_time": "2023-04-24T17:37:13.868Z"
   },
   {
    "duration": 41,
    "start_time": "2023-04-24T17:37:13.874Z"
   },
   {
    "duration": 7,
    "start_time": "2023-04-24T17:37:13.917Z"
   },
   {
    "duration": 16,
    "start_time": "2023-04-24T17:37:13.926Z"
   },
   {
    "duration": 352,
    "start_time": "2023-04-24T17:37:13.944Z"
   },
   {
    "duration": 591,
    "start_time": "2023-04-24T17:37:14.297Z"
   },
   {
    "duration": 293,
    "start_time": "2023-04-24T17:37:14.890Z"
   },
   {
    "duration": 12,
    "start_time": "2023-04-24T17:37:15.184Z"
   },
   {
    "duration": 266,
    "start_time": "2023-04-24T17:37:15.197Z"
   },
   {
    "duration": 159,
    "start_time": "2023-04-24T17:37:15.464Z"
   },
   {
    "duration": 559,
    "start_time": "2023-04-24T17:37:15.626Z"
   },
   {
    "duration": 4,
    "start_time": "2023-04-24T17:37:16.186Z"
   },
   {
    "duration": 127,
    "start_time": "2023-04-24T17:41:55.597Z"
   },
   {
    "duration": 186,
    "start_time": "2023-04-24T17:42:23.078Z"
   },
   {
    "duration": 2598,
    "start_time": "2023-04-24T17:42:26.692Z"
   },
   {
    "duration": 2473,
    "start_time": "2023-04-24T17:43:17.646Z"
   },
   {
    "duration": 2313,
    "start_time": "2023-04-24T17:43:45.455Z"
   },
   {
    "duration": 15,
    "start_time": "2023-04-24T17:44:03.891Z"
   },
   {
    "duration": 6,
    "start_time": "2023-04-24T17:45:46.402Z"
   },
   {
    "duration": 6,
    "start_time": "2023-04-24T17:46:09.681Z"
   },
   {
    "duration": 6,
    "start_time": "2023-04-24T17:48:16.890Z"
   },
   {
    "duration": 161,
    "start_time": "2023-04-24T17:48:49.024Z"
   },
   {
    "duration": 129,
    "start_time": "2023-04-24T17:49:20.723Z"
   },
   {
    "duration": 157,
    "start_time": "2023-04-24T17:49:29.143Z"
   },
   {
    "duration": 8,
    "start_time": "2023-04-24T17:51:40.493Z"
   },
   {
    "duration": 154,
    "start_time": "2023-04-24T17:52:16.150Z"
   },
   {
    "duration": 170,
    "start_time": "2023-04-24T17:52:37.192Z"
   },
   {
    "duration": 140,
    "start_time": "2023-04-24T17:52:51.356Z"
   },
   {
    "duration": 5,
    "start_time": "2023-04-24T17:54:18.064Z"
   },
   {
    "duration": 159,
    "start_time": "2023-04-24T17:54:19.525Z"
   },
   {
    "duration": 8,
    "start_time": "2023-04-24T17:54:34.209Z"
   },
   {
    "duration": 171,
    "start_time": "2023-04-24T17:54:35.195Z"
   },
   {
    "duration": 5,
    "start_time": "2023-04-24T17:54:42.731Z"
   },
   {
    "duration": 172,
    "start_time": "2023-04-24T17:55:38.393Z"
   },
   {
    "duration": 177,
    "start_time": "2023-04-24T17:58:39.553Z"
   },
   {
    "duration": 233,
    "start_time": "2023-04-24T17:59:06.825Z"
   },
   {
    "duration": 161,
    "start_time": "2023-04-24T17:59:17.621Z"
   },
   {
    "duration": 5,
    "start_time": "2023-04-24T18:01:27.390Z"
   },
   {
    "duration": 4,
    "start_time": "2023-04-24T18:01:45.085Z"
   },
   {
    "duration": 5,
    "start_time": "2023-04-24T18:02:57.494Z"
   },
   {
    "duration": 4,
    "start_time": "2023-04-24T18:03:11.592Z"
   },
   {
    "duration": 4,
    "start_time": "2023-04-24T18:03:31.297Z"
   },
   {
    "duration": 155,
    "start_time": "2023-04-24T18:05:11.878Z"
   },
   {
    "duration": 138,
    "start_time": "2023-04-24T18:06:08.143Z"
   },
   {
    "duration": 7,
    "start_time": "2023-04-24T18:06:45.598Z"
   },
   {
    "duration": 165,
    "start_time": "2023-04-24T18:06:46.526Z"
   },
   {
    "duration": 5,
    "start_time": "2023-04-24T18:06:47.741Z"
   },
   {
    "duration": 127,
    "start_time": "2023-04-24T18:06:51.263Z"
   },
   {
    "duration": 8,
    "start_time": "2023-04-24T18:07:20.480Z"
   },
   {
    "duration": 176,
    "start_time": "2023-04-24T18:07:22.109Z"
   },
   {
    "duration": 4,
    "start_time": "2023-04-24T18:07:23.493Z"
   },
   {
    "duration": 164,
    "start_time": "2023-04-24T18:07:25.462Z"
   },
   {
    "duration": 7,
    "start_time": "2023-04-24T18:08:07.743Z"
   },
   {
    "duration": 200,
    "start_time": "2023-04-24T18:10:01.709Z"
   },
   {
    "duration": 1051,
    "start_time": "2023-04-24T18:10:10.968Z"
   },
   {
    "duration": 54,
    "start_time": "2023-04-24T18:10:12.021Z"
   },
   {
    "duration": 24,
    "start_time": "2023-04-24T18:10:12.077Z"
   },
   {
    "duration": 14,
    "start_time": "2023-04-24T18:10:12.103Z"
   },
   {
    "duration": 42,
    "start_time": "2023-04-24T18:10:12.118Z"
   },
   {
    "duration": 3,
    "start_time": "2023-04-24T18:10:12.162Z"
   },
   {
    "duration": 15,
    "start_time": "2023-04-24T18:10:12.166Z"
   },
   {
    "duration": 16,
    "start_time": "2023-04-24T18:10:12.183Z"
   },
   {
    "duration": 15,
    "start_time": "2023-04-24T18:10:12.201Z"
   },
   {
    "duration": 7,
    "start_time": "2023-04-24T18:10:12.219Z"
   },
   {
    "duration": 6,
    "start_time": "2023-04-24T18:10:12.227Z"
   },
   {
    "duration": 6,
    "start_time": "2023-04-24T18:10:12.235Z"
   },
   {
    "duration": 7,
    "start_time": "2023-04-24T18:10:12.242Z"
   },
   {
    "duration": 10,
    "start_time": "2023-04-24T18:10:12.251Z"
   },
   {
    "duration": 9,
    "start_time": "2023-04-24T18:10:12.262Z"
   },
   {
    "duration": 13,
    "start_time": "2023-04-24T18:10:12.272Z"
   },
   {
    "duration": 25,
    "start_time": "2023-04-24T18:10:12.287Z"
   },
   {
    "duration": 8,
    "start_time": "2023-04-24T18:10:12.313Z"
   },
   {
    "duration": 17,
    "start_time": "2023-04-24T18:10:12.322Z"
   },
   {
    "duration": 7,
    "start_time": "2023-04-24T18:10:12.341Z"
   },
   {
    "duration": 14,
    "start_time": "2023-04-24T18:10:12.350Z"
   },
   {
    "duration": 373,
    "start_time": "2023-04-24T18:10:12.365Z"
   },
   {
    "duration": 580,
    "start_time": "2023-04-24T18:10:12.740Z"
   },
   {
    "duration": 319,
    "start_time": "2023-04-24T18:10:13.323Z"
   },
   {
    "duration": 12,
    "start_time": "2023-04-24T18:10:13.644Z"
   },
   {
    "duration": 294,
    "start_time": "2023-04-24T18:10:13.658Z"
   },
   {
    "duration": 168,
    "start_time": "2023-04-24T18:10:13.954Z"
   },
   {
    "duration": 528,
    "start_time": "2023-04-24T18:10:14.125Z"
   },
   {
    "duration": 8,
    "start_time": "2023-04-24T18:10:14.654Z"
   },
   {
    "duration": 181,
    "start_time": "2023-04-24T18:10:14.663Z"
   },
   {
    "duration": 5,
    "start_time": "2023-04-24T18:10:14.846Z"
   },
   {
    "duration": 172,
    "start_time": "2023-04-24T18:10:14.852Z"
   },
   {
    "duration": 278,
    "start_time": "2023-04-24T18:10:15.025Z"
   },
   {
    "duration": 1162,
    "start_time": "2023-04-24T18:11:41.377Z"
   },
   {
    "duration": 55,
    "start_time": "2023-04-24T18:11:42.542Z"
   },
   {
    "duration": 25,
    "start_time": "2023-04-24T18:11:42.602Z"
   },
   {
    "duration": 16,
    "start_time": "2023-04-24T18:11:42.629Z"
   },
   {
    "duration": 32,
    "start_time": "2023-04-24T18:11:42.647Z"
   },
   {
    "duration": 3,
    "start_time": "2023-04-24T18:11:42.681Z"
   },
   {
    "duration": 34,
    "start_time": "2023-04-24T18:11:42.685Z"
   },
   {
    "duration": 19,
    "start_time": "2023-04-24T18:11:42.721Z"
   },
   {
    "duration": 8,
    "start_time": "2023-04-24T18:11:42.744Z"
   },
   {
    "duration": 9,
    "start_time": "2023-04-24T18:11:42.754Z"
   },
   {
    "duration": 16,
    "start_time": "2023-04-24T18:11:42.764Z"
   },
   {
    "duration": 33,
    "start_time": "2023-04-24T18:11:42.782Z"
   },
   {
    "duration": 5,
    "start_time": "2023-04-24T18:11:42.817Z"
   },
   {
    "duration": 6,
    "start_time": "2023-04-24T18:11:42.824Z"
   },
   {
    "duration": 7,
    "start_time": "2023-04-24T18:11:42.831Z"
   },
   {
    "duration": 7,
    "start_time": "2023-04-24T18:11:42.840Z"
   },
   {
    "duration": 11,
    "start_time": "2023-04-24T18:11:42.849Z"
   },
   {
    "duration": 5,
    "start_time": "2023-04-24T18:11:42.862Z"
   },
   {
    "duration": 56,
    "start_time": "2023-04-24T18:11:42.869Z"
   },
   {
    "duration": 6,
    "start_time": "2023-04-24T18:11:42.927Z"
   },
   {
    "duration": 16,
    "start_time": "2023-04-24T18:11:42.935Z"
   },
   {
    "duration": 420,
    "start_time": "2023-04-24T18:11:42.953Z"
   },
   {
    "duration": 617,
    "start_time": "2023-04-24T18:11:43.375Z"
   },
   {
    "duration": 317,
    "start_time": "2023-04-24T18:11:43.994Z"
   },
   {
    "duration": 13,
    "start_time": "2023-04-24T18:11:44.314Z"
   },
   {
    "duration": 302,
    "start_time": "2023-04-24T18:11:44.328Z"
   },
   {
    "duration": 179,
    "start_time": "2023-04-24T18:11:44.633Z"
   },
   {
    "duration": 553,
    "start_time": "2023-04-24T18:11:44.813Z"
   },
   {
    "duration": 8,
    "start_time": "2023-04-24T18:11:45.367Z"
   },
   {
    "duration": 195,
    "start_time": "2023-04-24T18:11:45.377Z"
   },
   {
    "duration": 6,
    "start_time": "2023-04-24T18:11:45.574Z"
   },
   {
    "duration": 285,
    "start_time": "2023-04-24T18:11:45.582Z"
   },
   {
    "duration": 0,
    "start_time": "2023-04-24T18:11:45.869Z"
   },
   {
    "duration": 8,
    "start_time": "2023-04-24T18:12:11.681Z"
   },
   {
    "duration": 19,
    "start_time": "2023-04-24T18:12:56.087Z"
   },
   {
    "duration": 16,
    "start_time": "2023-04-24T18:13:50.925Z"
   },
   {
    "duration": 1227,
    "start_time": "2023-04-24T18:13:59.300Z"
   },
   {
    "duration": 66,
    "start_time": "2023-04-24T18:14:00.529Z"
   },
   {
    "duration": 23,
    "start_time": "2023-04-24T18:14:00.597Z"
   },
   {
    "duration": 45,
    "start_time": "2023-04-24T18:14:00.622Z"
   },
   {
    "duration": 82,
    "start_time": "2023-04-24T18:14:00.670Z"
   },
   {
    "duration": 4,
    "start_time": "2023-04-24T18:14:00.753Z"
   },
   {
    "duration": 49,
    "start_time": "2023-04-24T18:14:00.759Z"
   },
   {
    "duration": 41,
    "start_time": "2023-04-24T18:14:00.810Z"
   },
   {
    "duration": 19,
    "start_time": "2023-04-24T18:14:00.852Z"
   },
   {
    "duration": 21,
    "start_time": "2023-04-24T18:14:00.874Z"
   },
   {
    "duration": 22,
    "start_time": "2023-04-24T18:14:00.897Z"
   },
   {
    "duration": 26,
    "start_time": "2023-04-24T18:14:00.921Z"
   },
   {
    "duration": 22,
    "start_time": "2023-04-24T18:14:00.949Z"
   },
   {
    "duration": 24,
    "start_time": "2023-04-24T18:14:00.973Z"
   },
   {
    "duration": 39,
    "start_time": "2023-04-24T18:14:00.999Z"
   },
   {
    "duration": 33,
    "start_time": "2023-04-24T18:14:01.040Z"
   },
   {
    "duration": 38,
    "start_time": "2023-04-24T18:14:01.074Z"
   },
   {
    "duration": 37,
    "start_time": "2023-04-24T18:14:01.114Z"
   },
   {
    "duration": 43,
    "start_time": "2023-04-24T18:14:01.153Z"
   },
   {
    "duration": 22,
    "start_time": "2023-04-24T18:14:01.198Z"
   },
   {
    "duration": 51,
    "start_time": "2023-04-24T18:14:01.222Z"
   },
   {
    "duration": 358,
    "start_time": "2023-04-24T18:14:01.275Z"
   },
   {
    "duration": 581,
    "start_time": "2023-04-24T18:14:01.635Z"
   },
   {
    "duration": 290,
    "start_time": "2023-04-24T18:14:02.218Z"
   },
   {
    "duration": 11,
    "start_time": "2023-04-24T18:14:02.512Z"
   },
   {
    "duration": 299,
    "start_time": "2023-04-24T18:14:02.525Z"
   },
   {
    "duration": 172,
    "start_time": "2023-04-24T18:14:02.826Z"
   },
   {
    "duration": 579,
    "start_time": "2023-04-24T18:14:03.001Z"
   },
   {
    "duration": 9,
    "start_time": "2023-04-24T18:14:03.581Z"
   },
   {
    "duration": 184,
    "start_time": "2023-04-24T18:14:03.591Z"
   },
   {
    "duration": 5,
    "start_time": "2023-04-24T18:14:03.778Z"
   },
   {
    "duration": 200,
    "start_time": "2023-04-24T18:14:03.785Z"
   },
   {
    "duration": 5,
    "start_time": "2023-04-24T18:14:03.987Z"
   },
   {
    "duration": 6,
    "start_time": "2023-04-24T18:14:39.384Z"
   },
   {
    "duration": 1216,
    "start_time": "2023-04-24T18:14:44.524Z"
   },
   {
    "duration": 53,
    "start_time": "2023-04-24T18:14:45.741Z"
   },
   {
    "duration": 23,
    "start_time": "2023-04-24T18:14:45.796Z"
   },
   {
    "duration": 14,
    "start_time": "2023-04-24T18:14:45.821Z"
   },
   {
    "duration": 32,
    "start_time": "2023-04-24T18:14:45.837Z"
   },
   {
    "duration": 3,
    "start_time": "2023-04-24T18:14:45.911Z"
   },
   {
    "duration": 13,
    "start_time": "2023-04-24T18:14:45.916Z"
   },
   {
    "duration": 14,
    "start_time": "2023-04-24T18:14:45.931Z"
   },
   {
    "duration": 8,
    "start_time": "2023-04-24T18:14:45.946Z"
   },
   {
    "duration": 6,
    "start_time": "2023-04-24T18:14:45.956Z"
   },
   {
    "duration": 51,
    "start_time": "2023-04-24T18:14:45.964Z"
   },
   {
    "duration": 4,
    "start_time": "2023-04-24T18:14:46.017Z"
   },
   {
    "duration": 8,
    "start_time": "2023-04-24T18:14:46.022Z"
   },
   {
    "duration": 10,
    "start_time": "2023-04-24T18:14:46.032Z"
   },
   {
    "duration": 6,
    "start_time": "2023-04-24T18:14:46.044Z"
   },
   {
    "duration": 9,
    "start_time": "2023-04-24T18:14:46.052Z"
   },
   {
    "duration": 10,
    "start_time": "2023-04-24T18:14:46.062Z"
   },
   {
    "duration": 10,
    "start_time": "2023-04-24T18:14:46.073Z"
   },
   {
    "duration": 40,
    "start_time": "2023-04-24T18:14:46.085Z"
   },
   {
    "duration": 6,
    "start_time": "2023-04-24T18:14:46.127Z"
   },
   {
    "duration": 16,
    "start_time": "2023-04-24T18:14:46.135Z"
   },
   {
    "duration": 371,
    "start_time": "2023-04-24T18:14:46.153Z"
   },
   {
    "duration": 551,
    "start_time": "2023-04-24T18:14:46.526Z"
   },
   {
    "duration": 307,
    "start_time": "2023-04-24T18:14:47.079Z"
   },
   {
    "duration": 26,
    "start_time": "2023-04-24T18:14:47.389Z"
   },
   {
    "duration": 276,
    "start_time": "2023-04-24T18:14:47.417Z"
   },
   {
    "duration": 162,
    "start_time": "2023-04-24T18:14:47.695Z"
   },
   {
    "duration": 579,
    "start_time": "2023-04-24T18:14:47.860Z"
   },
   {
    "duration": 7,
    "start_time": "2023-04-24T18:14:48.440Z"
   },
   {
    "duration": 184,
    "start_time": "2023-04-24T18:14:48.448Z"
   },
   {
    "duration": 4,
    "start_time": "2023-04-24T18:14:48.634Z"
   },
   {
    "duration": 188,
    "start_time": "2023-04-24T18:14:48.640Z"
   },
   {
    "duration": 4,
    "start_time": "2023-04-24T18:14:48.830Z"
   },
   {
    "duration": 5,
    "start_time": "2023-04-24T18:15:55.077Z"
   },
   {
    "duration": 112,
    "start_time": "2023-04-24T18:22:23.502Z"
   },
   {
    "duration": 12,
    "start_time": "2023-04-24T18:22:51.612Z"
   },
   {
    "duration": 15,
    "start_time": "2023-04-24T18:23:53.899Z"
   },
   {
    "duration": 16,
    "start_time": "2023-04-24T18:24:09.225Z"
   },
   {
    "duration": 15,
    "start_time": "2023-04-24T18:24:19.937Z"
   },
   {
    "duration": 404,
    "start_time": "2023-04-24T18:24:25.056Z"
   },
   {
    "duration": 151,
    "start_time": "2023-04-24T18:27:08.226Z"
   },
   {
    "duration": 16,
    "start_time": "2023-04-24T18:27:20.927Z"
   },
   {
    "duration": 13,
    "start_time": "2023-04-24T18:30:35.367Z"
   },
   {
    "duration": 15,
    "start_time": "2023-04-24T18:30:49.089Z"
   },
   {
    "duration": 15,
    "start_time": "2023-04-24T18:31:36.056Z"
   },
   {
    "duration": 177,
    "start_time": "2023-04-24T18:31:42.654Z"
   },
   {
    "duration": 150,
    "start_time": "2023-04-24T18:31:51.240Z"
   },
   {
    "duration": 205,
    "start_time": "2023-04-24T18:32:15.413Z"
   },
   {
    "duration": 206,
    "start_time": "2023-04-24T18:32:56.362Z"
   },
   {
    "duration": 22,
    "start_time": "2023-04-24T18:34:46.743Z"
   },
   {
    "duration": 20,
    "start_time": "2023-04-24T18:38:36.280Z"
   },
   {
    "duration": 9,
    "start_time": "2023-04-24T18:38:48.883Z"
   },
   {
    "duration": 13,
    "start_time": "2023-04-24T18:40:04.019Z"
   },
   {
    "duration": 864,
    "start_time": "2023-04-24T18:43:29.847Z"
   },
   {
    "duration": 2041,
    "start_time": "2023-04-24T18:43:42.776Z"
   },
   {
    "duration": 31,
    "start_time": "2023-04-24T18:44:04.698Z"
   },
   {
    "duration": 28,
    "start_time": "2023-04-24T18:44:55.028Z"
   },
   {
    "duration": 26,
    "start_time": "2023-04-24T18:46:59.921Z"
   },
   {
    "duration": 40,
    "start_time": "2023-04-24T18:47:10.680Z"
   },
   {
    "duration": 12,
    "start_time": "2023-04-24T19:53:44.370Z"
   },
   {
    "duration": 11,
    "start_time": "2023-04-24T19:53:49.853Z"
   },
   {
    "duration": 15,
    "start_time": "2023-04-24T19:54:04.608Z"
   },
   {
    "duration": 126,
    "start_time": "2023-04-24T19:54:17.666Z"
   },
   {
    "duration": 24,
    "start_time": "2023-04-24T19:55:23.503Z"
   },
   {
    "duration": 10,
    "start_time": "2023-04-24T19:56:50.721Z"
   },
   {
    "duration": 15,
    "start_time": "2023-04-24T19:57:30.158Z"
   },
   {
    "duration": 120,
    "start_time": "2023-04-24T19:57:40.034Z"
   },
   {
    "duration": 24,
    "start_time": "2023-04-24T20:01:54.803Z"
   },
   {
    "duration": 11,
    "start_time": "2023-04-24T20:01:56.412Z"
   },
   {
    "duration": 129,
    "start_time": "2023-04-24T20:08:48.258Z"
   },
   {
    "duration": 131,
    "start_time": "2023-04-24T20:08:57.336Z"
   },
   {
    "duration": 140,
    "start_time": "2023-04-24T20:09:18.485Z"
   },
   {
    "duration": 129,
    "start_time": "2023-04-24T20:12:01.469Z"
   },
   {
    "duration": 183,
    "start_time": "2023-04-24T20:12:11.562Z"
   },
   {
    "duration": 859,
    "start_time": "2023-04-24T20:16:48.485Z"
   },
   {
    "duration": 25,
    "start_time": "2023-04-24T20:17:00.365Z"
   },
   {
    "duration": 737,
    "start_time": "2023-04-24T20:17:03.536Z"
   },
   {
    "duration": 865,
    "start_time": "2023-04-24T20:17:28.892Z"
   },
   {
    "duration": 13,
    "start_time": "2023-04-24T20:17:46.759Z"
   },
   {
    "duration": 13,
    "start_time": "2023-04-24T20:18:04.181Z"
   },
   {
    "duration": 967,
    "start_time": "2023-04-24T20:18:19.377Z"
   },
   {
    "duration": 8164,
    "start_time": "2023-04-24T20:19:02.105Z"
   },
   {
    "duration": 6628,
    "start_time": "2023-04-24T20:19:27.812Z"
   },
   {
    "duration": 2,
    "start_time": "2023-04-24T20:20:12.819Z"
   },
   {
    "duration": 9,
    "start_time": "2023-04-24T20:23:33.770Z"
   },
   {
    "duration": 114,
    "start_time": "2023-04-24T20:23:48.319Z"
   },
   {
    "duration": 9,
    "start_time": "2023-04-24T20:24:33.253Z"
   },
   {
    "duration": 1016,
    "start_time": "2023-04-24T20:38:10.177Z"
   },
   {
    "duration": 1100,
    "start_time": "2023-04-24T20:38:21.699Z"
   },
   {
    "duration": 825,
    "start_time": "2023-04-24T20:39:30.812Z"
   },
   {
    "duration": 322,
    "start_time": "2023-04-24T20:39:46.998Z"
   },
   {
    "duration": 856,
    "start_time": "2023-04-24T20:39:53.025Z"
   },
   {
    "duration": 39,
    "start_time": "2023-04-24T20:55:02.082Z"
   },
   {
    "duration": 13,
    "start_time": "2023-04-24T20:57:37.237Z"
   },
   {
    "duration": 13,
    "start_time": "2023-04-24T20:57:50.510Z"
   },
   {
    "duration": 13,
    "start_time": "2023-04-24T21:12:59.199Z"
   },
   {
    "duration": 15,
    "start_time": "2023-04-24T21:13:20.253Z"
   },
   {
    "duration": 14,
    "start_time": "2023-04-24T21:14:24.919Z"
   },
   {
    "duration": 16,
    "start_time": "2023-04-24T21:19:43.707Z"
   },
   {
    "duration": 16,
    "start_time": "2023-04-24T21:20:23.646Z"
   },
   {
    "duration": 17,
    "start_time": "2023-04-24T21:28:57.497Z"
   },
   {
    "duration": 16,
    "start_time": "2023-04-24T21:30:04.097Z"
   },
   {
    "duration": 14,
    "start_time": "2023-04-24T21:33:08.083Z"
   },
   {
    "duration": 13,
    "start_time": "2023-04-24T21:33:15.698Z"
   },
   {
    "duration": 13,
    "start_time": "2023-04-24T21:33:18.258Z"
   },
   {
    "duration": 13,
    "start_time": "2023-04-24T21:33:22.035Z"
   },
   {
    "duration": 15,
    "start_time": "2023-04-24T21:36:18.977Z"
   },
   {
    "duration": 17,
    "start_time": "2023-04-24T21:41:00.668Z"
   },
   {
    "duration": 14,
    "start_time": "2023-04-24T21:41:05.774Z"
   },
   {
    "duration": 14,
    "start_time": "2023-04-24T21:43:08.059Z"
   },
   {
    "duration": 13,
    "start_time": "2023-04-24T21:44:39.030Z"
   },
   {
    "duration": 24,
    "start_time": "2023-04-24T21:57:06.647Z"
   },
   {
    "duration": 24,
    "start_time": "2023-04-24T21:57:33.109Z"
   },
   {
    "duration": 12,
    "start_time": "2023-04-24T21:57:38.941Z"
   },
   {
    "duration": 1296,
    "start_time": "2023-04-24T21:58:57.315Z"
   },
   {
    "duration": 72,
    "start_time": "2023-04-24T21:58:58.613Z"
   },
   {
    "duration": 24,
    "start_time": "2023-04-24T21:58:58.688Z"
   },
   {
    "duration": 15,
    "start_time": "2023-04-24T21:58:58.715Z"
   },
   {
    "duration": 31,
    "start_time": "2023-04-24T21:58:58.732Z"
   },
   {
    "duration": 4,
    "start_time": "2023-04-24T21:58:58.764Z"
   },
   {
    "duration": 12,
    "start_time": "2023-04-24T21:58:58.769Z"
   },
   {
    "duration": 47,
    "start_time": "2023-04-24T21:58:58.783Z"
   },
   {
    "duration": 12,
    "start_time": "2023-04-24T21:58:58.832Z"
   },
   {
    "duration": 26,
    "start_time": "2023-04-24T21:58:58.848Z"
   },
   {
    "duration": 8,
    "start_time": "2023-04-24T21:58:58.876Z"
   },
   {
    "duration": 4,
    "start_time": "2023-04-24T21:58:58.886Z"
   },
   {
    "duration": 20,
    "start_time": "2023-04-24T21:58:58.893Z"
   },
   {
    "duration": 7,
    "start_time": "2023-04-24T21:58:58.916Z"
   },
   {
    "duration": 9,
    "start_time": "2023-04-24T21:58:58.925Z"
   },
   {
    "duration": 10,
    "start_time": "2023-04-24T21:58:58.936Z"
   },
   {
    "duration": 8,
    "start_time": "2023-04-24T21:58:58.948Z"
   },
   {
    "duration": 6,
    "start_time": "2023-04-24T21:58:58.959Z"
   },
   {
    "duration": 49,
    "start_time": "2023-04-24T21:58:58.967Z"
   },
   {
    "duration": 7,
    "start_time": "2023-04-24T21:58:59.018Z"
   },
   {
    "duration": 16,
    "start_time": "2023-04-24T21:58:59.027Z"
   },
   {
    "duration": 366,
    "start_time": "2023-04-24T21:58:59.045Z"
   },
   {
    "duration": 584,
    "start_time": "2023-04-24T21:58:59.413Z"
   },
   {
    "duration": 306,
    "start_time": "2023-04-24T21:58:59.999Z"
   },
   {
    "duration": 16,
    "start_time": "2023-04-24T21:59:00.306Z"
   },
   {
    "duration": 270,
    "start_time": "2023-04-24T21:59:00.323Z"
   },
   {
    "duration": 180,
    "start_time": "2023-04-24T21:59:00.595Z"
   },
   {
    "duration": 575,
    "start_time": "2023-04-24T21:59:00.778Z"
   },
   {
    "duration": 7,
    "start_time": "2023-04-24T21:59:01.355Z"
   },
   {
    "duration": 213,
    "start_time": "2023-04-24T21:59:01.364Z"
   },
   {
    "duration": 6,
    "start_time": "2023-04-24T21:59:01.578Z"
   },
   {
    "duration": 194,
    "start_time": "2023-04-24T21:59:01.585Z"
   },
   {
    "duration": 5,
    "start_time": "2023-04-24T21:59:01.781Z"
   },
   {
    "duration": 42,
    "start_time": "2023-04-24T21:59:01.787Z"
   },
   {
    "duration": 212,
    "start_time": "2023-04-24T21:59:01.831Z"
   },
   {
    "duration": 25,
    "start_time": "2023-04-24T21:59:02.045Z"
   },
   {
    "duration": 125,
    "start_time": "2023-04-24T21:59:02.072Z"
   },
   {
    "duration": 0,
    "start_time": "2023-04-24T21:59:02.199Z"
   },
   {
    "duration": 0,
    "start_time": "2023-04-24T21:59:02.200Z"
   },
   {
    "duration": 0,
    "start_time": "2023-04-24T21:59:02.202Z"
   },
   {
    "duration": 0,
    "start_time": "2023-04-24T21:59:02.204Z"
   },
   {
    "duration": 11,
    "start_time": "2023-04-24T22:01:23.459Z"
   },
   {
    "duration": 51,
    "start_time": "2023-04-24T22:04:31.518Z"
   },
   {
    "duration": 49,
    "start_time": "2023-04-24T22:07:21.047Z"
   },
   {
    "duration": 9,
    "start_time": "2023-04-25T11:46:32.040Z"
   },
   {
    "duration": 54,
    "start_time": "2023-04-25T11:47:06.671Z"
   },
   {
    "duration": 1422,
    "start_time": "2023-04-25T11:47:19.465Z"
   },
   {
    "duration": 426,
    "start_time": "2023-04-25T11:47:20.889Z"
   },
   {
    "duration": 24,
    "start_time": "2023-04-25T11:47:21.317Z"
   },
   {
    "duration": 15,
    "start_time": "2023-04-25T11:47:21.343Z"
   },
   {
    "duration": 41,
    "start_time": "2023-04-25T11:47:21.360Z"
   },
   {
    "duration": 4,
    "start_time": "2023-04-25T11:47:21.402Z"
   },
   {
    "duration": 27,
    "start_time": "2023-04-25T11:47:21.408Z"
   },
   {
    "duration": 17,
    "start_time": "2023-04-25T11:47:21.437Z"
   },
   {
    "duration": 21,
    "start_time": "2023-04-25T11:47:21.456Z"
   },
   {
    "duration": 34,
    "start_time": "2023-04-25T11:47:21.480Z"
   },
   {
    "duration": 13,
    "start_time": "2023-04-25T11:47:21.516Z"
   },
   {
    "duration": 6,
    "start_time": "2023-04-25T11:47:21.531Z"
   },
   {
    "duration": 9,
    "start_time": "2023-04-25T11:47:21.539Z"
   },
   {
    "duration": 6,
    "start_time": "2023-04-25T11:47:21.550Z"
   },
   {
    "duration": 8,
    "start_time": "2023-04-25T11:47:21.557Z"
   },
   {
    "duration": 10,
    "start_time": "2023-04-25T11:47:21.566Z"
   },
   {
    "duration": 11,
    "start_time": "2023-04-25T11:47:21.578Z"
   },
   {
    "duration": 4,
    "start_time": "2023-04-25T11:47:21.591Z"
   },
   {
    "duration": 19,
    "start_time": "2023-04-25T11:47:21.597Z"
   },
   {
    "duration": 5,
    "start_time": "2023-04-25T11:47:21.618Z"
   },
   {
    "duration": 18,
    "start_time": "2023-04-25T11:47:21.624Z"
   },
   {
    "duration": 360,
    "start_time": "2023-04-25T11:47:21.643Z"
   },
   {
    "duration": 581,
    "start_time": "2023-04-25T11:47:22.004Z"
   },
   {
    "duration": 313,
    "start_time": "2023-04-25T11:47:22.587Z"
   },
   {
    "duration": 11,
    "start_time": "2023-04-25T11:47:22.901Z"
   },
   {
    "duration": 288,
    "start_time": "2023-04-25T11:47:22.913Z"
   },
   {
    "duration": 161,
    "start_time": "2023-04-25T11:47:23.203Z"
   },
   {
    "duration": 613,
    "start_time": "2023-04-25T11:47:23.368Z"
   },
   {
    "duration": 8,
    "start_time": "2023-04-25T11:47:23.985Z"
   },
   {
    "duration": 212,
    "start_time": "2023-04-25T11:47:23.995Z"
   },
   {
    "duration": 5,
    "start_time": "2023-04-25T11:47:24.209Z"
   },
   {
    "duration": 202,
    "start_time": "2023-04-25T11:47:24.215Z"
   },
   {
    "duration": 5,
    "start_time": "2023-04-25T11:47:24.418Z"
   },
   {
    "duration": 63,
    "start_time": "2023-04-25T11:47:24.425Z"
   },
   {
    "duration": 198,
    "start_time": "2023-04-25T11:47:24.490Z"
   },
   {
    "duration": 4,
    "start_time": "2023-04-25T11:47:24.690Z"
   },
   {
    "duration": 370,
    "start_time": "2023-04-25T11:47:24.696Z"
   },
   {
    "duration": 0,
    "start_time": "2023-04-25T11:47:25.068Z"
   },
   {
    "duration": 0,
    "start_time": "2023-04-25T11:47:25.069Z"
   },
   {
    "duration": 0,
    "start_time": "2023-04-25T11:47:25.070Z"
   },
   {
    "duration": 0,
    "start_time": "2023-04-25T11:47:25.071Z"
   },
   {
    "duration": 0,
    "start_time": "2023-04-25T11:47:25.085Z"
   },
   {
    "duration": 280,
    "start_time": "2023-04-25T11:47:40.080Z"
   },
   {
    "duration": 5,
    "start_time": "2023-04-25T11:47:57.121Z"
   },
   {
    "duration": 383,
    "start_time": "2023-04-25T11:48:01.455Z"
   },
   {
    "duration": 4,
    "start_time": "2023-04-25T11:48:13.695Z"
   },
   {
    "duration": 462,
    "start_time": "2023-04-25T11:48:15.027Z"
   },
   {
    "duration": 391,
    "start_time": "2023-04-25T12:08:50.146Z"
   },
   {
    "duration": 13,
    "start_time": "2023-04-25T16:57:08.792Z"
   },
   {
    "duration": 47,
    "start_time": "2023-04-25T16:57:15.495Z"
   },
   {
    "duration": 1624,
    "start_time": "2023-04-25T16:57:21.313Z"
   },
   {
    "duration": 150,
    "start_time": "2023-04-25T16:57:22.938Z"
   },
   {
    "duration": 34,
    "start_time": "2023-04-25T16:57:23.091Z"
   },
   {
    "duration": 37,
    "start_time": "2023-04-25T16:57:23.128Z"
   },
   {
    "duration": 55,
    "start_time": "2023-04-25T16:57:23.167Z"
   },
   {
    "duration": 11,
    "start_time": "2023-04-25T16:57:23.224Z"
   },
   {
    "duration": 65,
    "start_time": "2023-04-25T16:57:23.237Z"
   },
   {
    "duration": 22,
    "start_time": "2023-04-25T16:57:23.304Z"
   },
   {
    "duration": 29,
    "start_time": "2023-04-25T16:57:23.327Z"
   },
   {
    "duration": 26,
    "start_time": "2023-04-25T16:57:23.369Z"
   },
   {
    "duration": 41,
    "start_time": "2023-04-25T16:57:23.397Z"
   },
   {
    "duration": 44,
    "start_time": "2023-04-25T16:57:23.440Z"
   },
   {
    "duration": 15,
    "start_time": "2023-04-25T16:57:23.486Z"
   },
   {
    "duration": 40,
    "start_time": "2023-04-25T16:57:23.503Z"
   },
   {
    "duration": 25,
    "start_time": "2023-04-25T16:57:23.545Z"
   },
   {
    "duration": 27,
    "start_time": "2023-04-25T16:57:23.574Z"
   },
   {
    "duration": 36,
    "start_time": "2023-04-25T16:57:23.603Z"
   },
   {
    "duration": 33,
    "start_time": "2023-04-25T16:57:23.641Z"
   },
   {
    "duration": 45,
    "start_time": "2023-04-25T16:57:23.676Z"
   },
   {
    "duration": 30,
    "start_time": "2023-04-25T16:57:23.723Z"
   },
   {
    "duration": 70,
    "start_time": "2023-04-25T16:57:23.755Z"
   },
   {
    "duration": 392,
    "start_time": "2023-04-25T16:57:23.827Z"
   },
   {
    "duration": 829,
    "start_time": "2023-04-25T16:57:24.221Z"
   },
   {
    "duration": 350,
    "start_time": "2023-04-25T16:57:25.052Z"
   },
   {
    "duration": 12,
    "start_time": "2023-04-25T16:57:25.403Z"
   },
   {
    "duration": 338,
    "start_time": "2023-04-25T16:57:25.416Z"
   },
   {
    "duration": 192,
    "start_time": "2023-04-25T16:57:25.757Z"
   },
   {
    "duration": 660,
    "start_time": "2023-04-25T16:57:25.953Z"
   },
   {
    "duration": 8,
    "start_time": "2023-04-25T16:57:26.615Z"
   },
   {
    "duration": 200,
    "start_time": "2023-04-25T16:57:26.625Z"
   },
   {
    "duration": 5,
    "start_time": "2023-04-25T16:57:26.826Z"
   },
   {
    "duration": 253,
    "start_time": "2023-04-25T16:57:26.832Z"
   },
   {
    "duration": 5,
    "start_time": "2023-04-25T16:57:27.088Z"
   },
   {
    "duration": 65,
    "start_time": "2023-04-25T16:57:27.096Z"
   },
   {
    "duration": 237,
    "start_time": "2023-04-25T16:57:27.163Z"
   },
   {
    "duration": 5,
    "start_time": "2023-04-25T16:57:27.401Z"
   },
   {
    "duration": 424,
    "start_time": "2023-04-25T16:57:27.407Z"
   },
   {
    "duration": 437,
    "start_time": "2023-04-25T16:57:27.833Z"
   },
   {
    "duration": 16,
    "start_time": "2023-04-25T16:57:28.272Z"
   },
   {
    "duration": 33,
    "start_time": "2023-04-25T16:57:28.290Z"
   },
   {
    "duration": 31,
    "start_time": "2023-04-25T16:57:28.325Z"
   },
   {
    "duration": 24,
    "start_time": "2023-04-25T16:57:28.358Z"
   },
   {
    "duration": 154,
    "start_time": "2023-04-25T17:05:42.586Z"
   },
   {
    "duration": 5,
    "start_time": "2023-04-25T17:05:57.526Z"
   },
   {
    "duration": 17,
    "start_time": "2023-04-25T17:10:43.320Z"
   },
   {
    "duration": 35,
    "start_time": "2023-04-25T17:10:49.912Z"
   },
   {
    "duration": 41,
    "start_time": "2023-04-25T17:11:34.778Z"
   },
   {
    "duration": 38,
    "start_time": "2023-04-25T17:11:48.583Z"
   },
   {
    "duration": 50,
    "start_time": "2023-04-25T17:12:01.320Z"
   },
   {
    "duration": 1730,
    "start_time": "2023-04-25T17:12:55.319Z"
   },
   {
    "duration": 1651,
    "start_time": "2023-04-25T17:18:11.730Z"
   },
   {
    "duration": 300,
    "start_time": "2023-04-25T17:19:29.610Z"
   },
   {
    "duration": 20,
    "start_time": "2023-04-25T17:25:49.788Z"
   },
   {
    "duration": 21,
    "start_time": "2023-04-25T17:27:01.574Z"
   },
   {
    "duration": 19,
    "start_time": "2023-04-25T17:28:03.196Z"
   },
   {
    "duration": 5,
    "start_time": "2023-04-25T17:29:08.429Z"
   },
   {
    "duration": 1502,
    "start_time": "2023-04-25T19:52:05.154Z"
   },
   {
    "duration": 206,
    "start_time": "2023-04-25T19:52:06.658Z"
   },
   {
    "duration": 28,
    "start_time": "2023-04-25T19:52:06.866Z"
   },
   {
    "duration": 16,
    "start_time": "2023-04-25T19:52:06.896Z"
   },
   {
    "duration": 58,
    "start_time": "2023-04-25T19:52:06.914Z"
   },
   {
    "duration": 5,
    "start_time": "2023-04-25T19:52:06.974Z"
   },
   {
    "duration": 21,
    "start_time": "2023-04-25T19:52:06.981Z"
   },
   {
    "duration": 20,
    "start_time": "2023-04-25T19:52:07.004Z"
   },
   {
    "duration": 9,
    "start_time": "2023-04-25T19:52:07.027Z"
   },
   {
    "duration": 23,
    "start_time": "2023-04-25T19:52:07.038Z"
   },
   {
    "duration": 18,
    "start_time": "2023-04-25T19:52:07.064Z"
   },
   {
    "duration": 7,
    "start_time": "2023-04-25T19:52:10.631Z"
   },
   {
    "duration": 6,
    "start_time": "2023-04-25T19:52:10.790Z"
   },
   {
    "duration": 7,
    "start_time": "2023-04-25T19:52:10.950Z"
   },
   {
    "duration": 9,
    "start_time": "2023-04-25T19:52:10.960Z"
   },
   {
    "duration": 7,
    "start_time": "2023-04-25T19:52:10.972Z"
   },
   {
    "duration": 9,
    "start_time": "2023-04-25T19:52:10.982Z"
   },
   {
    "duration": 9,
    "start_time": "2023-04-25T19:52:10.995Z"
   },
   {
    "duration": 48,
    "start_time": "2023-04-25T19:52:11.013Z"
   },
   {
    "duration": 8,
    "start_time": "2023-04-25T19:52:11.063Z"
   },
   {
    "duration": 21,
    "start_time": "2023-04-25T19:52:11.074Z"
   },
   {
    "duration": 532,
    "start_time": "2023-04-25T19:52:11.097Z"
   },
   {
    "duration": 946,
    "start_time": "2023-04-25T19:52:11.632Z"
   },
   {
    "duration": 470,
    "start_time": "2023-04-25T19:52:12.581Z"
   },
   {
    "duration": 14,
    "start_time": "2023-04-25T19:52:13.057Z"
   },
   {
    "duration": 379,
    "start_time": "2023-04-25T19:52:13.074Z"
   },
   {
    "duration": 220,
    "start_time": "2023-04-25T19:52:13.456Z"
   },
   {
    "duration": 765,
    "start_time": "2023-04-25T19:52:13.678Z"
   },
   {
    "duration": 12,
    "start_time": "2023-04-25T19:52:14.446Z"
   },
   {
    "duration": 179,
    "start_time": "2023-04-25T19:52:14.460Z"
   },
   {
    "duration": 6,
    "start_time": "2023-04-25T19:52:14.641Z"
   },
   {
    "duration": 178,
    "start_time": "2023-04-25T19:52:14.650Z"
   },
   {
    "duration": 6,
    "start_time": "2023-04-25T19:52:14.830Z"
   },
   {
    "duration": 45,
    "start_time": "2023-04-25T19:52:14.838Z"
   },
   {
    "duration": 326,
    "start_time": "2023-04-25T19:52:14.885Z"
   },
   {
    "duration": 7,
    "start_time": "2023-04-25T19:52:15.214Z"
   },
   {
    "duration": 455,
    "start_time": "2023-04-25T19:52:15.223Z"
   },
   {
    "duration": 430,
    "start_time": "2023-04-25T19:52:15.680Z"
   },
   {
    "duration": 6,
    "start_time": "2023-04-25T19:52:16.112Z"
   },
   {
    "duration": 19,
    "start_time": "2023-04-25T19:52:16.120Z"
   },
   {
    "duration": 15,
    "start_time": "2023-04-25T19:52:16.156Z"
   },
   {
    "duration": 19,
    "start_time": "2023-04-25T19:52:16.173Z"
   },
   {
    "duration": 14,
    "start_time": "2023-04-25T19:52:16.194Z"
   },
   {
    "duration": 54,
    "start_time": "2023-04-25T19:52:16.210Z"
   },
   {
    "duration": 17,
    "start_time": "2023-04-25T19:52:16.266Z"
   },
   {
    "duration": 32,
    "start_time": "2023-04-25T19:52:16.285Z"
   },
   {
    "duration": 1344,
    "start_time": "2023-04-25T20:34:11.245Z"
   },
   {
    "duration": 56,
    "start_time": "2023-04-25T20:34:12.592Z"
   },
   {
    "duration": 29,
    "start_time": "2023-04-25T20:34:12.649Z"
   },
   {
    "duration": 22,
    "start_time": "2023-04-25T20:34:12.681Z"
   },
   {
    "duration": 56,
    "start_time": "2023-04-25T20:34:12.705Z"
   },
   {
    "duration": 4,
    "start_time": "2023-04-25T20:34:12.763Z"
   },
   {
    "duration": 13,
    "start_time": "2023-04-25T20:34:12.768Z"
   },
   {
    "duration": 16,
    "start_time": "2023-04-25T20:34:12.783Z"
   },
   {
    "duration": 8,
    "start_time": "2023-04-25T20:34:12.802Z"
   },
   {
    "duration": 52,
    "start_time": "2023-04-25T20:34:12.814Z"
   },
   {
    "duration": 12,
    "start_time": "2023-04-25T20:34:12.868Z"
   },
   {
    "duration": 4,
    "start_time": "2023-04-25T20:34:12.882Z"
   },
   {
    "duration": 10,
    "start_time": "2023-04-25T20:34:12.888Z"
   },
   {
    "duration": 13,
    "start_time": "2023-04-25T20:34:12.900Z"
   },
   {
    "duration": 7,
    "start_time": "2023-04-25T20:34:12.914Z"
   },
   {
    "duration": 34,
    "start_time": "2023-04-25T20:34:12.923Z"
   },
   {
    "duration": 8,
    "start_time": "2023-04-25T20:34:12.959Z"
   },
   {
    "duration": 6,
    "start_time": "2023-04-25T20:34:12.968Z"
   },
   {
    "duration": 16,
    "start_time": "2023-04-25T20:34:12.976Z"
   },
   {
    "duration": 6,
    "start_time": "2023-04-25T20:34:12.994Z"
   },
   {
    "duration": 54,
    "start_time": "2023-04-25T20:34:13.002Z"
   },
   {
    "duration": 410,
    "start_time": "2023-04-25T20:34:13.058Z"
   },
   {
    "duration": 660,
    "start_time": "2023-04-25T20:34:13.470Z"
   },
   {
    "duration": 370,
    "start_time": "2023-04-25T20:34:14.133Z"
   },
   {
    "duration": 12,
    "start_time": "2023-04-25T20:34:14.505Z"
   },
   {
    "duration": 293,
    "start_time": "2023-04-25T20:34:14.519Z"
   },
   {
    "duration": 160,
    "start_time": "2023-04-25T20:34:14.814Z"
   },
   {
    "duration": 565,
    "start_time": "2023-04-25T20:34:14.978Z"
   },
   {
    "duration": 15,
    "start_time": "2023-04-25T20:34:15.545Z"
   },
   {
    "duration": 177,
    "start_time": "2023-04-25T20:34:15.562Z"
   },
   {
    "duration": 4,
    "start_time": "2023-04-25T20:34:15.741Z"
   },
   {
    "duration": 187,
    "start_time": "2023-04-25T20:34:15.756Z"
   },
   {
    "duration": 10,
    "start_time": "2023-04-25T20:34:15.946Z"
   },
   {
    "duration": 26,
    "start_time": "2023-04-25T20:34:15.958Z"
   },
   {
    "duration": 240,
    "start_time": "2023-04-25T20:34:15.986Z"
   },
   {
    "duration": 5,
    "start_time": "2023-04-25T20:34:16.228Z"
   },
   {
    "duration": 427,
    "start_time": "2023-04-25T20:34:16.235Z"
   },
   {
    "duration": 403,
    "start_time": "2023-04-25T20:34:16.663Z"
   },
   {
    "duration": 4,
    "start_time": "2023-04-25T20:34:17.068Z"
   },
   {
    "duration": 15,
    "start_time": "2023-04-25T20:34:17.074Z"
   },
   {
    "duration": 18,
    "start_time": "2023-04-25T20:34:17.091Z"
   },
   {
    "duration": 14,
    "start_time": "2023-04-25T20:34:17.111Z"
   },
   {
    "duration": 40,
    "start_time": "2023-04-25T20:34:17.126Z"
   },
   {
    "duration": 20,
    "start_time": "2023-04-25T20:34:17.168Z"
   },
   {
    "duration": 16,
    "start_time": "2023-04-25T20:34:17.190Z"
   },
   {
    "duration": 23,
    "start_time": "2023-04-25T20:34:17.207Z"
   },
   {
    "duration": 567,
    "start_time": "2023-04-25T20:37:00.848Z"
   },
   {
    "duration": 625,
    "start_time": "2023-04-25T20:37:51.562Z"
   },
   {
    "duration": 553,
    "start_time": "2023-04-25T20:38:14.338Z"
   },
   {
    "duration": 12,
    "start_time": "2023-04-25T20:38:40.827Z"
   },
   {
    "duration": 295,
    "start_time": "2023-04-25T20:39:58.712Z"
   },
   {
    "duration": 152,
    "start_time": "2023-04-25T20:40:22.325Z"
   },
   {
    "duration": 6,
    "start_time": "2023-04-25T20:42:58.689Z"
   },
   {
    "duration": 1392,
    "start_time": "2023-04-25T20:43:11.054Z"
   },
   {
    "duration": 56,
    "start_time": "2023-04-25T20:43:12.448Z"
   },
   {
    "duration": 27,
    "start_time": "2023-04-25T20:43:12.506Z"
   },
   {
    "duration": 20,
    "start_time": "2023-04-25T20:43:12.536Z"
   },
   {
    "duration": 40,
    "start_time": "2023-04-25T20:43:12.558Z"
   },
   {
    "duration": 5,
    "start_time": "2023-04-25T20:43:12.600Z"
   },
   {
    "duration": 18,
    "start_time": "2023-04-25T20:43:12.607Z"
   },
   {
    "duration": 18,
    "start_time": "2023-04-25T20:43:12.655Z"
   },
   {
    "duration": 11,
    "start_time": "2023-04-25T20:43:12.675Z"
   },
   {
    "duration": 9,
    "start_time": "2023-04-25T20:43:12.690Z"
   },
   {
    "duration": 18,
    "start_time": "2023-04-25T20:43:12.701Z"
   },
   {
    "duration": 5,
    "start_time": "2023-04-25T20:43:12.722Z"
   },
   {
    "duration": 31,
    "start_time": "2023-04-25T20:43:12.729Z"
   },
   {
    "duration": 8,
    "start_time": "2023-04-25T20:43:12.762Z"
   },
   {
    "duration": 10,
    "start_time": "2023-04-25T20:43:12.772Z"
   },
   {
    "duration": 6,
    "start_time": "2023-04-25T20:43:12.784Z"
   },
   {
    "duration": 8,
    "start_time": "2023-04-25T20:43:12.792Z"
   },
   {
    "duration": 8,
    "start_time": "2023-04-25T20:43:12.802Z"
   },
   {
    "duration": 61,
    "start_time": "2023-04-25T20:43:12.812Z"
   },
   {
    "duration": 8,
    "start_time": "2023-04-25T20:43:12.876Z"
   },
   {
    "duration": 22,
    "start_time": "2023-04-25T20:43:12.886Z"
   },
   {
    "duration": 430,
    "start_time": "2023-04-25T20:43:12.910Z"
   },
   {
    "duration": 687,
    "start_time": "2023-04-25T20:43:13.342Z"
   },
   {
    "duration": 371,
    "start_time": "2023-04-25T20:43:14.031Z"
   },
   {
    "duration": 16,
    "start_time": "2023-04-25T20:43:14.403Z"
   },
   {
    "duration": 297,
    "start_time": "2023-04-25T20:43:14.422Z"
   },
   {
    "duration": 172,
    "start_time": "2023-04-25T20:43:14.721Z"
   },
   {
    "duration": 8,
    "start_time": "2023-04-25T20:43:14.896Z"
   },
   {
    "duration": 603,
    "start_time": "2023-04-25T20:43:14.906Z"
   },
   {
    "duration": 8,
    "start_time": "2023-04-25T20:43:15.511Z"
   },
   {
    "duration": 171,
    "start_time": "2023-04-25T20:43:15.521Z"
   },
   {
    "duration": 5,
    "start_time": "2023-04-25T20:43:15.694Z"
   },
   {
    "duration": 180,
    "start_time": "2023-04-25T20:43:15.700Z"
   },
   {
    "duration": 5,
    "start_time": "2023-04-25T20:43:15.881Z"
   },
   {
    "duration": 30,
    "start_time": "2023-04-25T20:43:15.888Z"
   },
   {
    "duration": 236,
    "start_time": "2023-04-25T20:43:15.920Z"
   },
   {
    "duration": 4,
    "start_time": "2023-04-25T20:43:16.158Z"
   },
   {
    "duration": 407,
    "start_time": "2023-04-25T20:43:16.165Z"
   },
   {
    "duration": 458,
    "start_time": "2023-04-25T20:43:16.574Z"
   },
   {
    "duration": 4,
    "start_time": "2023-04-25T20:43:17.034Z"
   },
   {
    "duration": 25,
    "start_time": "2023-04-25T20:43:17.039Z"
   },
   {
    "duration": 13,
    "start_time": "2023-04-25T20:43:17.066Z"
   },
   {
    "duration": 19,
    "start_time": "2023-04-25T20:43:17.080Z"
   },
   {
    "duration": 13,
    "start_time": "2023-04-25T20:43:17.101Z"
   },
   {
    "duration": 43,
    "start_time": "2023-04-25T20:43:17.116Z"
   },
   {
    "duration": 20,
    "start_time": "2023-04-25T20:43:17.160Z"
   },
   {
    "duration": 19,
    "start_time": "2023-04-25T20:43:17.181Z"
   },
   {
    "duration": 7,
    "start_time": "2023-04-25T20:45:25.884Z"
   },
   {
    "duration": 4,
    "start_time": "2023-04-25T20:48:43.332Z"
   },
   {
    "duration": 400,
    "start_time": "2023-04-25T20:48:45.443Z"
   },
   {
    "duration": 5,
    "start_time": "2023-04-25T20:48:57.919Z"
   },
   {
    "duration": 524,
    "start_time": "2023-04-25T20:49:00.005Z"
   },
   {
    "duration": 5,
    "start_time": "2023-04-25T20:49:10.036Z"
   },
   {
    "duration": 434,
    "start_time": "2023-04-25T20:49:12.759Z"
   },
   {
    "duration": 4,
    "start_time": "2023-04-25T20:49:24.503Z"
   },
   {
    "duration": 413,
    "start_time": "2023-04-25T20:49:27.198Z"
   },
   {
    "duration": 1747,
    "start_time": "2023-04-26T19:03:59.138Z"
   },
   {
    "duration": 246,
    "start_time": "2023-04-26T19:04:00.891Z"
   },
   {
    "duration": 31,
    "start_time": "2023-04-26T19:04:01.140Z"
   },
   {
    "duration": 53,
    "start_time": "2023-04-26T19:04:01.173Z"
   },
   {
    "duration": 81,
    "start_time": "2023-04-26T19:04:01.229Z"
   },
   {
    "duration": 3,
    "start_time": "2023-04-26T19:04:01.312Z"
   },
   {
    "duration": 39,
    "start_time": "2023-04-26T19:04:01.319Z"
   },
   {
    "duration": 49,
    "start_time": "2023-04-26T19:04:01.360Z"
   },
   {
    "duration": 25,
    "start_time": "2023-04-26T19:04:01.411Z"
   },
   {
    "duration": 24,
    "start_time": "2023-04-26T19:04:01.439Z"
   },
   {
    "duration": 49,
    "start_time": "2023-04-26T19:04:01.465Z"
   },
   {
    "duration": 25,
    "start_time": "2023-04-26T19:04:01.516Z"
   },
   {
    "duration": 40,
    "start_time": "2023-04-26T19:04:01.544Z"
   },
   {
    "duration": 61,
    "start_time": "2023-04-26T19:04:01.587Z"
   },
   {
    "duration": 27,
    "start_time": "2023-04-26T19:04:01.652Z"
   },
   {
    "duration": 66,
    "start_time": "2023-04-26T19:04:01.682Z"
   },
   {
    "duration": 8,
    "start_time": "2023-04-26T19:05:15.179Z"
   },
   {
    "duration": 1938,
    "start_time": "2023-04-26T19:05:24.265Z"
   },
   {
    "duration": 1838,
    "start_time": "2023-04-26T19:05:34.388Z"
   },
   {
    "duration": 18,
    "start_time": "2023-04-26T19:05:49.381Z"
   },
   {
    "duration": 1366,
    "start_time": "2023-04-27T08:55:38.280Z"
   },
   {
    "duration": 197,
    "start_time": "2023-04-27T08:55:39.648Z"
   },
   {
    "duration": 24,
    "start_time": "2023-04-27T08:55:39.847Z"
   },
   {
    "duration": 14,
    "start_time": "2023-04-27T08:55:39.873Z"
   },
   {
    "duration": 29,
    "start_time": "2023-04-27T08:55:39.889Z"
   },
   {
    "duration": 4,
    "start_time": "2023-04-27T08:55:39.919Z"
   },
   {
    "duration": 33,
    "start_time": "2023-04-27T08:55:39.924Z"
   },
   {
    "duration": 13,
    "start_time": "2023-04-27T08:55:39.958Z"
   },
   {
    "duration": 10,
    "start_time": "2023-04-27T08:55:39.973Z"
   },
   {
    "duration": 6,
    "start_time": "2023-04-27T08:55:39.985Z"
   },
   {
    "duration": 7,
    "start_time": "2023-04-27T08:55:39.993Z"
   },
   {
    "duration": 18,
    "start_time": "2023-04-27T08:55:40.002Z"
   },
   {
    "duration": 17,
    "start_time": "2023-04-27T08:55:40.022Z"
   },
   {
    "duration": 24,
    "start_time": "2023-04-27T08:55:40.041Z"
   },
   {
    "duration": 17,
    "start_time": "2023-04-27T08:55:40.066Z"
   },
   {
    "duration": 19,
    "start_time": "2023-04-27T08:55:40.084Z"
   },
   {
    "duration": 17,
    "start_time": "2023-04-27T08:55:40.105Z"
   },
   {
    "duration": 20,
    "start_time": "2023-04-27T08:55:40.123Z"
   },
   {
    "duration": 23,
    "start_time": "2023-04-27T08:55:40.145Z"
   },
   {
    "duration": 6,
    "start_time": "2023-04-27T08:55:40.170Z"
   },
   {
    "duration": 28,
    "start_time": "2023-04-27T08:55:40.178Z"
   },
   {
    "duration": 372,
    "start_time": "2023-04-27T08:55:40.208Z"
   },
   {
    "duration": 569,
    "start_time": "2023-04-27T08:55:40.581Z"
   },
   {
    "duration": 301,
    "start_time": "2023-04-27T08:55:41.151Z"
   },
   {
    "duration": 11,
    "start_time": "2023-04-27T08:55:41.456Z"
   },
   {
    "duration": 270,
    "start_time": "2023-04-27T08:55:41.469Z"
   },
   {
    "duration": 147,
    "start_time": "2023-04-27T08:55:41.741Z"
   },
   {
    "duration": 6,
    "start_time": "2023-04-27T08:55:41.893Z"
   },
   {
    "duration": 631,
    "start_time": "2023-04-27T08:55:41.901Z"
   },
   {
    "duration": 7,
    "start_time": "2023-04-27T08:55:42.534Z"
   },
   {
    "duration": 170,
    "start_time": "2023-04-27T08:55:42.543Z"
   },
   {
    "duration": 5,
    "start_time": "2023-04-27T08:55:42.715Z"
   },
   {
    "duration": 181,
    "start_time": "2023-04-27T08:55:42.722Z"
   },
   {
    "duration": 5,
    "start_time": "2023-04-27T08:55:42.905Z"
   },
   {
    "duration": 48,
    "start_time": "2023-04-27T08:55:42.911Z"
   },
   {
    "duration": 212,
    "start_time": "2023-04-27T08:55:42.961Z"
   },
   {
    "duration": 5,
    "start_time": "2023-04-27T08:55:43.175Z"
   },
   {
    "duration": 432,
    "start_time": "2023-04-27T08:55:43.182Z"
   },
   {
    "duration": 430,
    "start_time": "2023-04-27T08:55:43.616Z"
   },
   {
    "duration": 13,
    "start_time": "2023-04-27T08:55:44.048Z"
   },
   {
    "duration": 19,
    "start_time": "2023-04-27T08:55:44.063Z"
   },
   {
    "duration": 19,
    "start_time": "2023-04-27T08:55:44.084Z"
   },
   {
    "duration": 17,
    "start_time": "2023-04-27T08:55:44.106Z"
   },
   {
    "duration": 42,
    "start_time": "2023-04-27T08:55:44.126Z"
   },
   {
    "duration": 15,
    "start_time": "2023-04-27T08:55:44.170Z"
   },
   {
    "duration": 17,
    "start_time": "2023-04-27T08:55:44.187Z"
   },
   {
    "duration": 23,
    "start_time": "2023-04-27T08:55:44.206Z"
   },
   {
    "duration": 73,
    "start_time": "2023-04-27T08:57:10.738Z"
   },
   {
    "duration": 8,
    "start_time": "2023-04-27T09:01:37.335Z"
   },
   {
    "duration": 11,
    "start_time": "2023-04-27T09:02:10.046Z"
   },
   {
    "duration": 5,
    "start_time": "2023-04-27T09:08:52.628Z"
   },
   {
    "duration": 6,
    "start_time": "2023-04-27T09:09:07.827Z"
   },
   {
    "duration": 1337,
    "start_time": "2023-04-27T09:09:30.836Z"
   },
   {
    "duration": 67,
    "start_time": "2023-04-27T09:09:32.175Z"
   },
   {
    "duration": 38,
    "start_time": "2023-04-27T09:09:32.244Z"
   },
   {
    "duration": 26,
    "start_time": "2023-04-27T09:09:32.283Z"
   },
   {
    "duration": 33,
    "start_time": "2023-04-27T09:09:32.312Z"
   },
   {
    "duration": 11,
    "start_time": "2023-04-27T09:09:32.347Z"
   },
   {
    "duration": 34,
    "start_time": "2023-04-27T09:09:32.360Z"
   },
   {
    "duration": 24,
    "start_time": "2023-04-27T09:09:32.395Z"
   },
   {
    "duration": 25,
    "start_time": "2023-04-27T09:09:32.420Z"
   },
   {
    "duration": 44,
    "start_time": "2023-04-27T09:09:32.446Z"
   },
   {
    "duration": 25,
    "start_time": "2023-04-27T09:09:32.491Z"
   },
   {
    "duration": 34,
    "start_time": "2023-04-27T09:09:32.518Z"
   },
   {
    "duration": 6,
    "start_time": "2023-04-27T09:09:32.554Z"
   },
   {
    "duration": 11,
    "start_time": "2023-04-27T09:09:32.563Z"
   },
   {
    "duration": 30,
    "start_time": "2023-04-27T09:09:32.575Z"
   },
   {
    "duration": 20,
    "start_time": "2023-04-27T09:09:32.607Z"
   },
   {
    "duration": 23,
    "start_time": "2023-04-27T09:09:32.629Z"
   },
   {
    "duration": 12,
    "start_time": "2023-04-27T09:09:32.654Z"
   },
   {
    "duration": 26,
    "start_time": "2023-04-27T09:09:32.668Z"
   },
   {
    "duration": 14,
    "start_time": "2023-04-27T09:09:32.696Z"
   },
   {
    "duration": 11,
    "start_time": "2023-04-27T09:09:32.712Z"
   },
   {
    "duration": 12,
    "start_time": "2023-04-27T09:09:32.724Z"
   },
   {
    "duration": 27,
    "start_time": "2023-04-27T09:09:32.738Z"
   },
   {
    "duration": 25,
    "start_time": "2023-04-27T09:09:32.767Z"
   },
   {
    "duration": 878,
    "start_time": "2023-04-27T09:09:32.794Z"
   },
   {
    "duration": 0,
    "start_time": "2023-04-27T09:09:33.674Z"
   },
   {
    "duration": 0,
    "start_time": "2023-04-27T09:09:33.675Z"
   },
   {
    "duration": 0,
    "start_time": "2023-04-27T09:09:33.676Z"
   },
   {
    "duration": 0,
    "start_time": "2023-04-27T09:09:33.677Z"
   },
   {
    "duration": 0,
    "start_time": "2023-04-27T09:09:33.679Z"
   },
   {
    "duration": 0,
    "start_time": "2023-04-27T09:09:33.680Z"
   },
   {
    "duration": 0,
    "start_time": "2023-04-27T09:09:33.681Z"
   },
   {
    "duration": 0,
    "start_time": "2023-04-27T09:09:33.682Z"
   },
   {
    "duration": 0,
    "start_time": "2023-04-27T09:09:33.683Z"
   },
   {
    "duration": 0,
    "start_time": "2023-04-27T09:09:33.684Z"
   },
   {
    "duration": 0,
    "start_time": "2023-04-27T09:09:33.685Z"
   },
   {
    "duration": 0,
    "start_time": "2023-04-27T09:09:33.686Z"
   },
   {
    "duration": 0,
    "start_time": "2023-04-27T09:09:33.687Z"
   },
   {
    "duration": 0,
    "start_time": "2023-04-27T09:09:33.688Z"
   },
   {
    "duration": 0,
    "start_time": "2023-04-27T09:09:33.689Z"
   },
   {
    "duration": 0,
    "start_time": "2023-04-27T09:09:33.690Z"
   },
   {
    "duration": 0,
    "start_time": "2023-04-27T09:09:33.691Z"
   },
   {
    "duration": 0,
    "start_time": "2023-04-27T09:09:33.692Z"
   },
   {
    "duration": 0,
    "start_time": "2023-04-27T09:09:33.693Z"
   },
   {
    "duration": 0,
    "start_time": "2023-04-27T09:09:33.695Z"
   },
   {
    "duration": 0,
    "start_time": "2023-04-27T09:09:33.696Z"
   },
   {
    "duration": 0,
    "start_time": "2023-04-27T09:09:33.698Z"
   },
   {
    "duration": 0,
    "start_time": "2023-04-27T09:09:33.699Z"
   },
   {
    "duration": 0,
    "start_time": "2023-04-27T09:09:33.701Z"
   },
   {
    "duration": 0,
    "start_time": "2023-04-27T09:09:33.702Z"
   },
   {
    "duration": 1266,
    "start_time": "2023-04-27T09:19:33.228Z"
   },
   {
    "duration": 53,
    "start_time": "2023-04-27T09:19:34.497Z"
   },
   {
    "duration": 26,
    "start_time": "2023-04-27T09:19:34.552Z"
   },
   {
    "duration": 23,
    "start_time": "2023-04-27T09:19:34.580Z"
   },
   {
    "duration": 51,
    "start_time": "2023-04-27T09:19:34.605Z"
   },
   {
    "duration": 3,
    "start_time": "2023-04-27T09:19:34.657Z"
   },
   {
    "duration": 12,
    "start_time": "2023-04-27T09:19:34.662Z"
   },
   {
    "duration": 26,
    "start_time": "2023-04-27T09:19:34.675Z"
   },
   {
    "duration": 37,
    "start_time": "2023-04-27T09:19:34.703Z"
   },
   {
    "duration": 10,
    "start_time": "2023-04-27T09:19:34.743Z"
   },
   {
    "duration": 32,
    "start_time": "2023-04-27T09:19:34.755Z"
   },
   {
    "duration": 3,
    "start_time": "2023-04-27T09:19:34.789Z"
   },
   {
    "duration": 12,
    "start_time": "2023-04-27T09:19:34.794Z"
   },
   {
    "duration": 5,
    "start_time": "2023-04-27T09:19:34.807Z"
   },
   {
    "duration": 16,
    "start_time": "2023-04-27T09:19:34.814Z"
   },
   {
    "duration": 14,
    "start_time": "2023-04-27T09:19:34.832Z"
   },
   {
    "duration": 8,
    "start_time": "2023-04-27T09:19:34.848Z"
   },
   {
    "duration": 5,
    "start_time": "2023-04-27T09:19:34.858Z"
   },
   {
    "duration": 16,
    "start_time": "2023-04-27T09:19:34.865Z"
   },
   {
    "duration": 4,
    "start_time": "2023-04-27T09:19:34.883Z"
   },
   {
    "duration": 12,
    "start_time": "2023-04-27T09:19:34.889Z"
   },
   {
    "duration": 3,
    "start_time": "2023-04-27T09:19:34.903Z"
   },
   {
    "duration": 18,
    "start_time": "2023-04-27T09:19:34.907Z"
   },
   {
    "duration": 47,
    "start_time": "2023-04-27T09:19:34.927Z"
   },
   {
    "duration": 345,
    "start_time": "2023-04-27T09:19:34.976Z"
   },
   {
    "duration": 635,
    "start_time": "2023-04-27T09:19:35.323Z"
   },
   {
    "duration": 329,
    "start_time": "2023-04-27T09:19:35.960Z"
   },
   {
    "duration": 11,
    "start_time": "2023-04-27T09:19:36.292Z"
   },
   {
    "duration": 294,
    "start_time": "2023-04-27T09:19:36.305Z"
   },
   {
    "duration": 155,
    "start_time": "2023-04-27T09:19:36.601Z"
   },
   {
    "duration": 6,
    "start_time": "2023-04-27T09:19:36.757Z"
   },
   {
    "duration": 541,
    "start_time": "2023-04-27T09:19:36.764Z"
   },
   {
    "duration": 6,
    "start_time": "2023-04-27T09:19:37.307Z"
   },
   {
    "duration": 186,
    "start_time": "2023-04-27T09:19:37.315Z"
   },
   {
    "duration": 4,
    "start_time": "2023-04-27T09:19:37.503Z"
   },
   {
    "duration": 174,
    "start_time": "2023-04-27T09:19:37.509Z"
   },
   {
    "duration": 5,
    "start_time": "2023-04-27T09:19:37.685Z"
   },
   {
    "duration": 43,
    "start_time": "2023-04-27T09:19:37.691Z"
   },
   {
    "duration": 220,
    "start_time": "2023-04-27T09:19:37.736Z"
   },
   {
    "duration": 5,
    "start_time": "2023-04-27T09:19:37.957Z"
   },
   {
    "duration": 423,
    "start_time": "2023-04-27T09:19:37.963Z"
   },
   {
    "duration": 390,
    "start_time": "2023-04-27T09:19:38.388Z"
   },
   {
    "duration": 4,
    "start_time": "2023-04-27T09:19:38.780Z"
   },
   {
    "duration": 16,
    "start_time": "2023-04-27T09:19:38.785Z"
   },
   {
    "duration": 15,
    "start_time": "2023-04-27T09:19:38.802Z"
   },
   {
    "duration": 36,
    "start_time": "2023-04-27T09:19:38.819Z"
   },
   {
    "duration": 18,
    "start_time": "2023-04-27T09:19:38.857Z"
   },
   {
    "duration": 22,
    "start_time": "2023-04-27T09:19:38.877Z"
   },
   {
    "duration": 13,
    "start_time": "2023-04-27T09:19:38.902Z"
   },
   {
    "duration": 40,
    "start_time": "2023-04-27T09:19:38.917Z"
   },
   {
    "duration": 312,
    "start_time": "2023-04-27T09:44:36.281Z"
   },
   {
    "duration": 392,
    "start_time": "2023-04-27T09:45:49.191Z"
   },
   {
    "duration": 235,
    "start_time": "2023-04-27T10:01:14.559Z"
   },
   {
    "duration": 138,
    "start_time": "2023-04-27T10:05:35.872Z"
   },
   {
    "duration": 19,
    "start_time": "2023-04-27T10:05:48.576Z"
   },
   {
    "duration": 194,
    "start_time": "2023-04-27T10:06:23.892Z"
   },
   {
    "duration": 142,
    "start_time": "2023-04-27T10:06:33.055Z"
   },
   {
    "duration": 54,
    "start_time": "2023-04-27T10:07:50.519Z"
   },
   {
    "duration": 109,
    "start_time": "2023-04-27T10:08:01.991Z"
   },
   {
    "duration": 23,
    "start_time": "2023-04-27T10:08:13.434Z"
   },
   {
    "duration": 14,
    "start_time": "2023-04-27T10:08:30.982Z"
   },
   {
    "duration": 52,
    "start_time": "2023-04-27T10:08:37.137Z"
   },
   {
    "duration": 1262,
    "start_time": "2023-04-27T10:08:52.808Z"
   },
   {
    "duration": 73,
    "start_time": "2023-04-27T10:08:54.073Z"
   },
   {
    "duration": 32,
    "start_time": "2023-04-27T10:08:54.148Z"
   },
   {
    "duration": 16,
    "start_time": "2023-04-27T10:08:54.182Z"
   },
   {
    "duration": 30,
    "start_time": "2023-04-27T10:08:54.200Z"
   },
   {
    "duration": 3,
    "start_time": "2023-04-27T10:08:54.232Z"
   },
   {
    "duration": 18,
    "start_time": "2023-04-27T10:08:54.257Z"
   },
   {
    "duration": 24,
    "start_time": "2023-04-27T10:08:54.278Z"
   },
   {
    "duration": 7,
    "start_time": "2023-04-27T10:08:54.304Z"
   },
   {
    "duration": 5,
    "start_time": "2023-04-27T10:08:54.314Z"
   },
   {
    "duration": 40,
    "start_time": "2023-04-27T10:08:54.321Z"
   },
   {
    "duration": 25,
    "start_time": "2023-04-27T10:08:54.363Z"
   },
   {
    "duration": 18,
    "start_time": "2023-04-27T10:08:54.390Z"
   },
   {
    "duration": 10,
    "start_time": "2023-04-27T10:08:54.410Z"
   },
   {
    "duration": 8,
    "start_time": "2023-04-27T10:08:54.422Z"
   },
   {
    "duration": 20,
    "start_time": "2023-04-27T10:08:54.433Z"
   },
   {
    "duration": 13,
    "start_time": "2023-04-27T10:08:54.455Z"
   },
   {
    "duration": 11,
    "start_time": "2023-04-27T10:08:54.470Z"
   },
   {
    "duration": 22,
    "start_time": "2023-04-27T10:08:54.483Z"
   },
   {
    "duration": 2,
    "start_time": "2023-04-27T10:08:54.507Z"
   },
   {
    "duration": 18,
    "start_time": "2023-04-27T10:08:54.512Z"
   },
   {
    "duration": 24,
    "start_time": "2023-04-27T10:08:54.532Z"
   },
   {
    "duration": 17,
    "start_time": "2023-04-27T10:08:54.558Z"
   },
   {
    "duration": 16,
    "start_time": "2023-04-27T10:08:54.577Z"
   },
   {
    "duration": 372,
    "start_time": "2023-04-27T10:08:54.595Z"
   },
   {
    "duration": 637,
    "start_time": "2023-04-27T10:08:54.969Z"
   },
   {
    "duration": 328,
    "start_time": "2023-04-27T10:08:55.608Z"
   },
   {
    "duration": 20,
    "start_time": "2023-04-27T10:08:55.939Z"
   },
   {
    "duration": 273,
    "start_time": "2023-04-27T10:08:55.961Z"
   },
   {
    "duration": 182,
    "start_time": "2023-04-27T10:08:56.237Z"
   },
   {
    "duration": 5,
    "start_time": "2023-04-27T10:08:56.421Z"
   },
   {
    "duration": 587,
    "start_time": "2023-04-27T10:08:56.427Z"
   },
   {
    "duration": 5,
    "start_time": "2023-04-27T10:08:57.016Z"
   },
   {
    "duration": 175,
    "start_time": "2023-04-27T10:08:57.023Z"
   },
   {
    "duration": 4,
    "start_time": "2023-04-27T10:08:57.200Z"
   },
   {
    "duration": 184,
    "start_time": "2023-04-27T10:08:57.206Z"
   },
   {
    "duration": 5,
    "start_time": "2023-04-27T10:08:57.391Z"
   },
   {
    "duration": 36,
    "start_time": "2023-04-27T10:08:57.398Z"
   },
   {
    "duration": 25,
    "start_time": "2023-04-27T10:08:57.436Z"
   },
   {
    "duration": 115,
    "start_time": "2023-04-27T10:08:57.464Z"
   },
   {
    "duration": 0,
    "start_time": "2023-04-27T10:08:57.581Z"
   },
   {
    "duration": 0,
    "start_time": "2023-04-27T10:08:57.582Z"
   },
   {
    "duration": 0,
    "start_time": "2023-04-27T10:08:57.583Z"
   },
   {
    "duration": 0,
    "start_time": "2023-04-27T10:08:57.585Z"
   },
   {
    "duration": 0,
    "start_time": "2023-04-27T10:08:57.586Z"
   },
   {
    "duration": 0,
    "start_time": "2023-04-27T10:08:57.586Z"
   },
   {
    "duration": 0,
    "start_time": "2023-04-27T10:08:57.587Z"
   },
   {
    "duration": 0,
    "start_time": "2023-04-27T10:08:57.588Z"
   },
   {
    "duration": 0,
    "start_time": "2023-04-27T10:08:57.589Z"
   },
   {
    "duration": 0,
    "start_time": "2023-04-27T10:08:57.590Z"
   },
   {
    "duration": 0,
    "start_time": "2023-04-27T10:08:57.591Z"
   },
   {
    "duration": 0,
    "start_time": "2023-04-27T10:08:57.592Z"
   },
   {
    "duration": 0,
    "start_time": "2023-04-27T10:08:57.593Z"
   },
   {
    "duration": 470,
    "start_time": "2023-04-27T10:09:22.072Z"
   },
   {
    "duration": 6,
    "start_time": "2023-04-27T10:09:47.933Z"
   },
   {
    "duration": 483,
    "start_time": "2023-04-27T10:09:50.347Z"
   },
   {
    "duration": 545,
    "start_time": "2023-04-27T10:10:00.300Z"
   },
   {
    "duration": 555,
    "start_time": "2023-04-27T10:10:07.859Z"
   },
   {
    "duration": 525,
    "start_time": "2023-04-27T10:10:56.423Z"
   },
   {
    "duration": 8,
    "start_time": "2023-04-27T10:10:59.014Z"
   },
   {
    "duration": 546,
    "start_time": "2023-04-27T10:11:00.211Z"
   },
   {
    "duration": 507,
    "start_time": "2023-04-27T10:11:57.526Z"
   },
   {
    "duration": 2,
    "start_time": "2023-04-27T10:12:27.735Z"
   },
   {
    "duration": 499,
    "start_time": "2023-04-27T10:12:28.327Z"
   },
   {
    "duration": 1246,
    "start_time": "2023-04-27T10:12:55.426Z"
   },
   {
    "duration": 54,
    "start_time": "2023-04-27T10:12:56.674Z"
   },
   {
    "duration": 24,
    "start_time": "2023-04-27T10:12:56.730Z"
   },
   {
    "duration": 24,
    "start_time": "2023-04-27T10:12:56.756Z"
   },
   {
    "duration": 41,
    "start_time": "2023-04-27T10:12:56.782Z"
   },
   {
    "duration": 3,
    "start_time": "2023-04-27T10:12:56.825Z"
   },
   {
    "duration": 32,
    "start_time": "2023-04-27T10:12:56.830Z"
   },
   {
    "duration": 15,
    "start_time": "2023-04-27T10:12:56.864Z"
   },
   {
    "duration": 18,
    "start_time": "2023-04-27T10:12:56.881Z"
   },
   {
    "duration": 14,
    "start_time": "2023-04-27T10:12:56.902Z"
   },
   {
    "duration": 19,
    "start_time": "2023-04-27T10:12:56.919Z"
   },
   {
    "duration": 8,
    "start_time": "2023-04-27T10:12:56.940Z"
   },
   {
    "duration": 10,
    "start_time": "2023-04-27T10:12:56.950Z"
   },
   {
    "duration": 6,
    "start_time": "2023-04-27T10:12:56.962Z"
   },
   {
    "duration": 9,
    "start_time": "2023-04-27T10:12:56.970Z"
   },
   {
    "duration": 15,
    "start_time": "2023-04-27T10:12:56.981Z"
   },
   {
    "duration": 26,
    "start_time": "2023-04-27T10:12:56.998Z"
   },
   {
    "duration": 5,
    "start_time": "2023-04-27T10:12:57.026Z"
   },
   {
    "duration": 26,
    "start_time": "2023-04-27T10:12:57.033Z"
   },
   {
    "duration": 3,
    "start_time": "2023-04-27T10:12:57.061Z"
   },
   {
    "duration": 16,
    "start_time": "2023-04-27T10:12:57.065Z"
   },
   {
    "duration": 10,
    "start_time": "2023-04-27T10:12:57.082Z"
   },
   {
    "duration": 7,
    "start_time": "2023-04-27T10:12:57.094Z"
   },
   {
    "duration": 20,
    "start_time": "2023-04-27T10:12:57.103Z"
   },
   {
    "duration": 380,
    "start_time": "2023-04-27T10:12:57.125Z"
   },
   {
    "duration": 666,
    "start_time": "2023-04-27T10:12:57.508Z"
   },
   {
    "duration": 322,
    "start_time": "2023-04-27T10:12:58.176Z"
   },
   {
    "duration": 12,
    "start_time": "2023-04-27T10:12:58.502Z"
   },
   {
    "duration": 316,
    "start_time": "2023-04-27T10:12:58.517Z"
   },
   {
    "duration": 183,
    "start_time": "2023-04-27T10:12:58.835Z"
   },
   {
    "duration": 8,
    "start_time": "2023-04-27T10:12:59.021Z"
   },
   {
    "duration": 659,
    "start_time": "2023-04-27T10:12:59.031Z"
   },
   {
    "duration": 9,
    "start_time": "2023-04-27T10:12:59.693Z"
   },
   {
    "duration": 260,
    "start_time": "2023-04-27T10:12:59.704Z"
   },
   {
    "duration": 6,
    "start_time": "2023-04-27T10:12:59.966Z"
   },
   {
    "duration": 274,
    "start_time": "2023-04-27T10:12:59.974Z"
   },
   {
    "duration": 10,
    "start_time": "2023-04-27T10:13:00.250Z"
   },
   {
    "duration": 76,
    "start_time": "2023-04-27T10:13:00.262Z"
   },
   {
    "duration": 47,
    "start_time": "2023-04-27T10:13:00.340Z"
   },
   {
    "duration": 616,
    "start_time": "2023-04-27T10:13:00.388Z"
   },
   {
    "duration": 230,
    "start_time": "2023-04-27T10:13:01.006Z"
   },
   {
    "duration": 5,
    "start_time": "2023-04-27T10:13:01.238Z"
   },
   {
    "duration": 559,
    "start_time": "2023-04-27T10:13:01.245Z"
   },
   {
    "duration": 485,
    "start_time": "2023-04-27T10:13:01.806Z"
   },
   {
    "duration": 6,
    "start_time": "2023-04-27T10:13:02.293Z"
   },
   {
    "duration": 31,
    "start_time": "2023-04-27T10:13:02.300Z"
   },
   {
    "duration": 45,
    "start_time": "2023-04-27T10:13:02.334Z"
   },
   {
    "duration": 45,
    "start_time": "2023-04-27T10:13:02.382Z"
   },
   {
    "duration": 36,
    "start_time": "2023-04-27T10:13:02.430Z"
   },
   {
    "duration": 42,
    "start_time": "2023-04-27T10:13:02.468Z"
   },
   {
    "duration": 119,
    "start_time": "2023-04-27T10:13:02.514Z"
   },
   {
    "duration": 26,
    "start_time": "2023-04-27T10:13:02.634Z"
   },
   {
    "duration": 512,
    "start_time": "2023-04-27T10:13:57.271Z"
   },
   {
    "duration": 500,
    "start_time": "2023-04-27T10:14:10.152Z"
   },
   {
    "duration": 457,
    "start_time": "2023-04-27T10:14:40.172Z"
   },
   {
    "duration": 465,
    "start_time": "2023-04-27T10:14:51.074Z"
   },
   {
    "duration": 503,
    "start_time": "2023-04-27T10:15:40.954Z"
   },
   {
    "duration": 17,
    "start_time": "2023-04-27T10:18:09.572Z"
   },
   {
    "duration": 265,
    "start_time": "2023-04-27T10:20:00.279Z"
   },
   {
    "duration": 351,
    "start_time": "2023-04-27T10:20:32.341Z"
   },
   {
    "duration": 215,
    "start_time": "2023-04-27T10:20:42.997Z"
   },
   {
    "duration": 458,
    "start_time": "2023-04-27T10:23:03.079Z"
   },
   {
    "duration": 453,
    "start_time": "2023-04-27T10:24:19.296Z"
   },
   {
    "duration": 427,
    "start_time": "2023-04-27T10:24:28.513Z"
   },
   {
    "duration": 447,
    "start_time": "2023-04-27T10:25:58.207Z"
   },
   {
    "duration": 548,
    "start_time": "2023-04-27T10:26:18.052Z"
   },
   {
    "duration": 451,
    "start_time": "2023-04-27T10:26:26.366Z"
   },
   {
    "duration": 47,
    "start_time": "2023-04-27T10:26:41.678Z"
   },
   {
    "duration": 90,
    "start_time": "2023-04-27T10:26:45.568Z"
   },
   {
    "duration": 524,
    "start_time": "2023-04-27T10:26:53.688Z"
   },
   {
    "duration": 4,
    "start_time": "2023-04-27T10:29:22.233Z"
   },
   {
    "duration": 398,
    "start_time": "2023-04-27T10:29:25.323Z"
   },
   {
    "duration": 6,
    "start_time": "2023-04-27T10:29:37.029Z"
   },
   {
    "duration": 449,
    "start_time": "2023-04-27T10:29:38.934Z"
   },
   {
    "duration": 15,
    "start_time": "2023-04-27T10:30:21.956Z"
   },
   {
    "duration": 531,
    "start_time": "2023-04-27T10:30:23.601Z"
   },
   {
    "duration": 568,
    "start_time": "2023-04-27T10:30:30.633Z"
   },
   {
    "duration": 452,
    "start_time": "2023-04-27T10:31:11.435Z"
   },
   {
    "duration": 455,
    "start_time": "2023-04-27T10:34:25.674Z"
   },
   {
    "duration": 622,
    "start_time": "2023-04-27T10:34:44.811Z"
   },
   {
    "duration": 520,
    "start_time": "2023-04-27T10:34:55.775Z"
   },
   {
    "duration": 54,
    "start_time": "2023-04-27T16:46:51.574Z"
   },
   {
    "duration": 1513,
    "start_time": "2023-04-27T16:47:08.750Z"
   },
   {
    "duration": 183,
    "start_time": "2023-04-27T16:47:10.265Z"
   },
   {
    "duration": 39,
    "start_time": "2023-04-27T16:47:10.450Z"
   },
   {
    "duration": 15,
    "start_time": "2023-04-27T16:47:10.491Z"
   },
   {
    "duration": 35,
    "start_time": "2023-04-27T16:47:10.507Z"
   },
   {
    "duration": 8,
    "start_time": "2023-04-27T16:47:10.561Z"
   },
   {
    "duration": 17,
    "start_time": "2023-04-27T16:47:10.573Z"
   },
   {
    "duration": 14,
    "start_time": "2023-04-27T16:47:10.591Z"
   },
   {
    "duration": 16,
    "start_time": "2023-04-27T16:47:10.606Z"
   },
   {
    "duration": 15,
    "start_time": "2023-04-27T16:47:10.625Z"
   },
   {
    "duration": 23,
    "start_time": "2023-04-27T16:47:10.641Z"
   },
   {
    "duration": 3,
    "start_time": "2023-04-27T16:47:10.666Z"
   },
   {
    "duration": 17,
    "start_time": "2023-04-27T16:47:10.671Z"
   },
   {
    "duration": 6,
    "start_time": "2023-04-27T16:47:10.690Z"
   },
   {
    "duration": 18,
    "start_time": "2023-04-27T16:47:10.698Z"
   },
   {
    "duration": 10,
    "start_time": "2023-04-27T16:47:10.718Z"
   },
   {
    "duration": 6,
    "start_time": "2023-04-27T16:47:10.730Z"
   },
   {
    "duration": 4,
    "start_time": "2023-04-27T16:47:10.738Z"
   },
   {
    "duration": 27,
    "start_time": "2023-04-27T16:47:10.744Z"
   },
   {
    "duration": 2,
    "start_time": "2023-04-27T16:47:10.772Z"
   },
   {
    "duration": 11,
    "start_time": "2023-04-27T16:47:10.776Z"
   },
   {
    "duration": 2,
    "start_time": "2023-04-27T16:47:10.789Z"
   },
   {
    "duration": 6,
    "start_time": "2023-04-27T16:47:10.792Z"
   },
   {
    "duration": 14,
    "start_time": "2023-04-27T16:47:10.800Z"
   },
   {
    "duration": 380,
    "start_time": "2023-04-27T16:47:10.816Z"
   },
   {
    "duration": 671,
    "start_time": "2023-04-27T16:47:11.198Z"
   },
   {
    "duration": 328,
    "start_time": "2023-04-27T16:47:11.871Z"
   },
   {
    "duration": 11,
    "start_time": "2023-04-27T16:47:12.202Z"
   },
   {
    "duration": 296,
    "start_time": "2023-04-27T16:47:12.214Z"
   },
   {
    "duration": 166,
    "start_time": "2023-04-27T16:47:12.511Z"
   },
   {
    "duration": 7,
    "start_time": "2023-04-27T16:47:12.680Z"
   },
   {
    "duration": 577,
    "start_time": "2023-04-27T16:47:12.689Z"
   },
   {
    "duration": 9,
    "start_time": "2023-04-27T16:47:13.271Z"
   },
   {
    "duration": 168,
    "start_time": "2023-04-27T16:47:13.283Z"
   },
   {
    "duration": 10,
    "start_time": "2023-04-27T16:47:13.453Z"
   },
   {
    "duration": 179,
    "start_time": "2023-04-27T16:47:13.465Z"
   },
   {
    "duration": 4,
    "start_time": "2023-04-27T16:47:13.646Z"
   },
   {
    "duration": 34,
    "start_time": "2023-04-27T16:47:13.662Z"
   },
   {
    "duration": 249,
    "start_time": "2023-04-27T16:47:13.698Z"
   },
   {
    "duration": 547,
    "start_time": "2023-04-27T16:47:13.949Z"
   },
   {
    "duration": 3,
    "start_time": "2023-04-27T16:47:14.498Z"
   },
   {
    "duration": 514,
    "start_time": "2023-04-27T16:47:14.502Z"
   },
   {
    "duration": 0,
    "start_time": "2023-04-27T16:47:15.018Z"
   },
   {
    "duration": 0,
    "start_time": "2023-04-27T16:47:15.019Z"
   },
   {
    "duration": 0,
    "start_time": "2023-04-27T16:47:15.020Z"
   },
   {
    "duration": 0,
    "start_time": "2023-04-27T16:47:15.021Z"
   },
   {
    "duration": 0,
    "start_time": "2023-04-27T16:47:15.022Z"
   },
   {
    "duration": 0,
    "start_time": "2023-04-27T16:47:15.024Z"
   },
   {
    "duration": 0,
    "start_time": "2023-04-27T16:47:15.025Z"
   },
   {
    "duration": 0,
    "start_time": "2023-04-27T16:47:15.026Z"
   },
   {
    "duration": 0,
    "start_time": "2023-04-27T16:47:15.027Z"
   },
   {
    "duration": 338,
    "start_time": "2023-04-27T16:47:25.408Z"
   },
   {
    "duration": 426,
    "start_time": "2023-04-27T16:47:33.302Z"
   },
   {
    "duration": 495,
    "start_time": "2023-04-27T16:47:39.834Z"
   },
   {
    "duration": 396,
    "start_time": "2023-04-27T16:48:13.504Z"
   },
   {
    "duration": 426,
    "start_time": "2023-04-27T16:48:56.460Z"
   },
   {
    "duration": 390,
    "start_time": "2023-04-27T16:49:26.531Z"
   },
   {
    "duration": 543,
    "start_time": "2023-04-27T16:50:28.679Z"
   },
   {
    "duration": 384,
    "start_time": "2023-04-27T16:50:41.161Z"
   },
   {
    "duration": 399,
    "start_time": "2023-04-27T16:50:46.760Z"
   },
   {
    "duration": 412,
    "start_time": "2023-04-27T16:50:56.619Z"
   },
   {
    "duration": 398,
    "start_time": "2023-04-27T16:52:08.442Z"
   },
   {
    "duration": 439,
    "start_time": "2023-04-27T16:52:21.913Z"
   },
   {
    "duration": 380,
    "start_time": "2023-04-27T16:53:48.409Z"
   },
   {
    "duration": 425,
    "start_time": "2023-04-27T16:53:56.243Z"
   },
   {
    "duration": 412,
    "start_time": "2023-04-27T16:54:13.430Z"
   },
   {
    "duration": 161,
    "start_time": "2023-04-27T16:54:23.406Z"
   },
   {
    "duration": 58,
    "start_time": "2023-04-27T16:54:33.988Z"
   },
   {
    "duration": 65,
    "start_time": "2023-04-27T16:54:39.857Z"
   },
   {
    "duration": 503,
    "start_time": "2023-04-27T16:54:44.650Z"
   },
   {
    "duration": 487,
    "start_time": "2023-04-27T16:55:15.804Z"
   },
   {
    "duration": 64,
    "start_time": "2023-04-27T16:55:30.737Z"
   },
   {
    "duration": 66,
    "start_time": "2023-04-27T16:55:34.443Z"
   },
   {
    "duration": 542,
    "start_time": "2023-04-27T16:58:01.090Z"
   },
   {
    "duration": 425,
    "start_time": "2023-04-27T16:58:12.342Z"
   },
   {
    "duration": 433,
    "start_time": "2023-04-27T16:58:54.187Z"
   },
   {
    "duration": 476,
    "start_time": "2023-04-27T16:59:41.827Z"
   },
   {
    "duration": 469,
    "start_time": "2023-04-27T16:59:51.524Z"
   },
   {
    "duration": 402,
    "start_time": "2023-04-27T17:01:34.300Z"
   },
   {
    "duration": 494,
    "start_time": "2023-04-27T17:02:43.694Z"
   },
   {
    "duration": 416,
    "start_time": "2023-04-27T17:03:20.780Z"
   },
   {
    "duration": 433,
    "start_time": "2023-04-27T17:03:28.855Z"
   },
   {
    "duration": 412,
    "start_time": "2023-04-27T17:04:05.204Z"
   },
   {
    "duration": 430,
    "start_time": "2023-04-27T17:04:18.859Z"
   },
   {
    "duration": 19,
    "start_time": "2023-04-27T17:05:46.506Z"
   },
   {
    "duration": 14,
    "start_time": "2023-04-27T17:05:48.658Z"
   },
   {
    "duration": 14,
    "start_time": "2023-04-27T17:05:50.933Z"
   },
   {
    "duration": 3,
    "start_time": "2023-04-27T17:07:47.682Z"
   },
   {
    "duration": 561,
    "start_time": "2023-04-27T17:09:37.674Z"
   },
   {
    "duration": 408,
    "start_time": "2023-04-27T17:11:49.178Z"
   },
   {
    "duration": 409,
    "start_time": "2023-04-27T17:12:06.438Z"
   },
   {
    "duration": 436,
    "start_time": "2023-04-27T17:13:56.121Z"
   },
   {
    "duration": 507,
    "start_time": "2023-04-27T17:15:39.477Z"
   },
   {
    "duration": 424,
    "start_time": "2023-04-27T17:16:28.563Z"
   },
   {
    "duration": 1244,
    "start_time": "2023-04-27T18:25:19.703Z"
   },
   {
    "duration": 54,
    "start_time": "2023-04-27T18:25:20.950Z"
   },
   {
    "duration": 24,
    "start_time": "2023-04-27T18:25:21.006Z"
   },
   {
    "duration": 16,
    "start_time": "2023-04-27T18:25:21.032Z"
   },
   {
    "duration": 36,
    "start_time": "2023-04-27T18:25:21.049Z"
   },
   {
    "duration": 3,
    "start_time": "2023-04-27T18:25:21.087Z"
   },
   {
    "duration": 13,
    "start_time": "2023-04-27T18:25:21.091Z"
   },
   {
    "duration": 13,
    "start_time": "2023-04-27T18:25:21.106Z"
   },
   {
    "duration": 24,
    "start_time": "2023-04-27T18:25:21.120Z"
   },
   {
    "duration": 6,
    "start_time": "2023-04-27T18:25:21.159Z"
   },
   {
    "duration": 20,
    "start_time": "2023-04-27T18:25:21.167Z"
   },
   {
    "duration": 4,
    "start_time": "2023-04-27T18:25:21.189Z"
   },
   {
    "duration": 9,
    "start_time": "2023-04-27T18:25:21.194Z"
   },
   {
    "duration": 8,
    "start_time": "2023-04-27T18:25:21.205Z"
   },
   {
    "duration": 5,
    "start_time": "2023-04-27T18:25:21.214Z"
   },
   {
    "duration": 13,
    "start_time": "2023-04-27T18:25:21.221Z"
   },
   {
    "duration": 30,
    "start_time": "2023-04-27T18:25:21.236Z"
   },
   {
    "duration": 13,
    "start_time": "2023-04-27T18:25:21.268Z"
   },
   {
    "duration": 20,
    "start_time": "2023-04-27T18:25:21.283Z"
   },
   {
    "duration": 2,
    "start_time": "2023-04-27T18:25:21.305Z"
   },
   {
    "duration": 11,
    "start_time": "2023-04-27T18:25:21.309Z"
   },
   {
    "duration": 12,
    "start_time": "2023-04-27T18:25:21.322Z"
   },
   {
    "duration": 13,
    "start_time": "2023-04-27T18:25:21.335Z"
   },
   {
    "duration": 15,
    "start_time": "2023-04-27T18:25:21.350Z"
   },
   {
    "duration": 351,
    "start_time": "2023-04-27T18:25:21.367Z"
   },
   {
    "duration": 606,
    "start_time": "2023-04-27T18:25:21.719Z"
   },
   {
    "duration": 334,
    "start_time": "2023-04-27T18:25:22.327Z"
   },
   {
    "duration": 12,
    "start_time": "2023-04-27T18:25:22.664Z"
   },
   {
    "duration": 287,
    "start_time": "2023-04-27T18:25:22.678Z"
   },
   {
    "duration": 164,
    "start_time": "2023-04-27T18:25:22.967Z"
   },
   {
    "duration": 5,
    "start_time": "2023-04-27T18:25:23.132Z"
   },
   {
    "duration": 573,
    "start_time": "2023-04-27T18:25:23.139Z"
   },
   {
    "duration": 6,
    "start_time": "2023-04-27T18:25:23.713Z"
   },
   {
    "duration": 174,
    "start_time": "2023-04-27T18:25:23.721Z"
   },
   {
    "duration": 4,
    "start_time": "2023-04-27T18:25:23.896Z"
   },
   {
    "duration": 184,
    "start_time": "2023-04-27T18:25:23.902Z"
   },
   {
    "duration": 4,
    "start_time": "2023-04-27T18:25:24.088Z"
   },
   {
    "duration": 26,
    "start_time": "2023-04-27T18:25:24.094Z"
   },
   {
    "duration": 237,
    "start_time": "2023-04-27T18:25:24.122Z"
   },
   {
    "duration": 525,
    "start_time": "2023-04-27T18:25:24.360Z"
   },
   {
    "duration": 3,
    "start_time": "2023-04-27T18:25:24.887Z"
   },
   {
    "duration": 449,
    "start_time": "2023-04-27T18:25:24.892Z"
   },
   {
    "duration": 431,
    "start_time": "2023-04-27T18:25:25.343Z"
   },
   {
    "duration": 5,
    "start_time": "2023-04-27T18:25:25.776Z"
   },
   {
    "duration": 25,
    "start_time": "2023-04-27T18:25:25.783Z"
   },
   {
    "duration": 18,
    "start_time": "2023-04-27T18:25:25.811Z"
   },
   {
    "duration": 38,
    "start_time": "2023-04-27T18:25:25.831Z"
   },
   {
    "duration": 3,
    "start_time": "2023-04-27T18:25:25.871Z"
   },
   {
    "duration": 545,
    "start_time": "2023-04-27T18:25:25.875Z"
   },
   {
    "duration": 13,
    "start_time": "2023-04-27T18:25:26.422Z"
   },
   {
    "duration": 28,
    "start_time": "2023-04-27T18:25:26.437Z"
   },
   {
    "duration": 16,
    "start_time": "2023-04-27T18:25:26.467Z"
   },
   {
    "duration": 18,
    "start_time": "2023-04-27T18:25:26.485Z"
   },
   {
    "duration": 1344,
    "start_time": "2023-04-28T17:51:37.748Z"
   },
   {
    "duration": 104,
    "start_time": "2023-04-28T17:51:39.094Z"
   },
   {
    "duration": 22,
    "start_time": "2023-04-28T17:51:39.199Z"
   },
   {
    "duration": 13,
    "start_time": "2023-04-28T17:51:39.223Z"
   },
   {
    "duration": 34,
    "start_time": "2023-04-28T17:51:39.237Z"
   },
   {
    "duration": 3,
    "start_time": "2023-04-28T17:51:39.273Z"
   },
   {
    "duration": 12,
    "start_time": "2023-04-28T17:51:39.278Z"
   },
   {
    "duration": 14,
    "start_time": "2023-04-28T17:51:39.292Z"
   },
   {
    "duration": 9,
    "start_time": "2023-04-28T17:51:39.307Z"
   },
   {
    "duration": 5,
    "start_time": "2023-04-28T17:51:39.333Z"
   },
   {
    "duration": 6,
    "start_time": "2023-04-28T17:51:39.340Z"
   },
   {
    "duration": 3,
    "start_time": "2023-04-28T17:51:39.348Z"
   },
   {
    "duration": 6,
    "start_time": "2023-04-28T17:51:39.353Z"
   },
   {
    "duration": 10,
    "start_time": "2023-04-28T17:51:39.360Z"
   },
   {
    "duration": 10,
    "start_time": "2023-04-28T17:51:39.371Z"
   },
   {
    "duration": 10,
    "start_time": "2023-04-28T17:51:39.383Z"
   },
   {
    "duration": 9,
    "start_time": "2023-04-28T17:51:39.395Z"
   },
   {
    "duration": 31,
    "start_time": "2023-04-28T17:51:39.406Z"
   },
   {
    "duration": 20,
    "start_time": "2023-04-28T17:51:39.439Z"
   },
   {
    "duration": 2,
    "start_time": "2023-04-28T17:51:39.461Z"
   },
   {
    "duration": 12,
    "start_time": "2023-04-28T17:51:39.464Z"
   },
   {
    "duration": 2,
    "start_time": "2023-04-28T17:51:39.478Z"
   },
   {
    "duration": 11,
    "start_time": "2023-04-28T17:51:39.482Z"
   },
   {
    "duration": 14,
    "start_time": "2023-04-28T17:51:39.494Z"
   },
   {
    "duration": 315,
    "start_time": "2023-04-28T17:51:39.510Z"
   },
   {
    "duration": 526,
    "start_time": "2023-04-28T17:51:39.827Z"
   },
   {
    "duration": 273,
    "start_time": "2023-04-28T17:51:40.355Z"
   },
   {
    "duration": 9,
    "start_time": "2023-04-28T17:51:40.633Z"
   },
   {
    "duration": 254,
    "start_time": "2023-04-28T17:51:40.643Z"
   },
   {
    "duration": 145,
    "start_time": "2023-04-28T17:51:40.899Z"
   },
   {
    "duration": 5,
    "start_time": "2023-04-28T17:51:41.046Z"
   },
   {
    "duration": 548,
    "start_time": "2023-04-28T17:51:41.053Z"
   },
   {
    "duration": 5,
    "start_time": "2023-04-28T17:51:41.603Z"
   },
   {
    "duration": 164,
    "start_time": "2023-04-28T17:51:41.610Z"
   },
   {
    "duration": 4,
    "start_time": "2023-04-28T17:51:41.776Z"
   },
   {
    "duration": 154,
    "start_time": "2023-04-28T17:51:41.781Z"
   },
   {
    "duration": 4,
    "start_time": "2023-04-28T17:51:41.937Z"
   },
   {
    "duration": 31,
    "start_time": "2023-04-28T17:51:41.942Z"
   },
   {
    "duration": 200,
    "start_time": "2023-04-28T17:51:41.974Z"
   },
   {
    "duration": 465,
    "start_time": "2023-04-28T17:51:42.175Z"
   },
   {
    "duration": 3,
    "start_time": "2023-04-28T17:51:42.642Z"
   },
   {
    "duration": 380,
    "start_time": "2023-04-28T17:51:42.646Z"
   },
   {
    "duration": 422,
    "start_time": "2023-04-28T17:51:43.028Z"
   },
   {
    "duration": 535,
    "start_time": "2023-04-28T18:08:52.633Z"
   }
  ],
  "kernelspec": {
   "display_name": "Python 3 (ipykernel)",
   "language": "python",
   "name": "python3"
  },
  "language_info": {
   "codemirror_mode": {
    "name": "ipython",
    "version": 3
   },
   "file_extension": ".py",
   "mimetype": "text/x-python",
   "name": "python",
   "nbconvert_exporter": "python",
   "pygments_lexer": "ipython3",
   "version": "3.9.12"
  },
  "toc": {
   "base_numbering": 1,
   "nav_menu": {
    "height": "117px",
    "width": "190.4px"
   },
   "number_sections": false,
   "sideBar": true,
   "skip_h1_title": true,
   "title_cell": "Table of Contents",
   "title_sidebar": "Оглавление",
   "toc_cell": false,
   "toc_position": {
    "height": "calc(100% - 180px)",
    "left": "10px",
    "top": "150px",
    "width": "271.675px"
   },
   "toc_section_display": true,
   "toc_window_display": true
  }
 },
 "nbformat": 4,
 "nbformat_minor": 2
}
