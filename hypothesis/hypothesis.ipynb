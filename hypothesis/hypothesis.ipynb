{
 "cells": [
  {
   "cell_type": "markdown",
   "metadata": {},
   "source": [
    "# Проект: принятие решений в бизнесе"
   ]
  },
  {
   "cell_type": "markdown",
   "metadata": {},
   "source": [
    "Я — аналитик крупного интернет-магазина. Вместе с отделом маркетинга я подготовила список гипотез для увеличения выручки.\n",
    "Приоритизируем гипотезы, запустим A/B-тест и проанализируем результаты. \n",
    "\n",
    "### Структура данных:\n",
    "    \n",
    "#### Данные для первой части \n",
    "*Файл /datasets/hypothesis.csv*\n",
    "\n",
    "Hypothesis — краткое описание гипотезы;\n",
    "\n",
    "Reach — охват пользователей по 10-балльной шкале;\n",
    "\n",
    "Impact — влияние на пользователей по 10-балльной шкале;\n",
    "\n",
    "Confidence — уверенность в гипотезе по 10-балльной шкале;\n",
    "\n",
    "Efforts — затраты ресурсов на проверку гипотезы по 10-балльной шкале. Чем больше значение Efforts, тем дороже проверка гипотезы.\n",
    "\n",
    "#### Данные для второй части\n",
    "*Файл /datasets/orders.csv*\n",
    "\n",
    "transactionId — идентификатор заказа;\n",
    "\n",
    "visitorId — идентификатор пользователя, совершившего заказ;\n",
    "\n",
    "date — дата, когда был совершён заказ;\n",
    "\n",
    "revenue — выручка заказа;\n",
    "\n",
    "group — группа A/B-теста, в которую попал заказ.\n",
    "\n",
    "*Файл /datasets/visitors.csv* \n",
    "\n",
    "group — группа A/B-теста;\n",
    "\n",
    "visitors — количество пользователей в указанную дату в указанной группе A/B-теста"
   ]
  },
  {
   "cell_type": "markdown",
   "metadata": {},
   "source": [
    "### Изучение и предобработка данных "
   ]
  },
  {
   "cell_type": "markdown",
   "metadata": {},
   "source": [
    "#### 1. Загружаем библиотеки и изучаем данные"
   ]
  },
  {
   "cell_type": "code",
   "execution_count": 1,
   "metadata": {},
   "outputs": [],
   "source": [
    "import pandas as pd\n",
    "import matplotlib.pyplot as plt\n",
    "import seaborn as sns\n",
    "#следующие библиотеки понадобятся для проверки гипотез и анализа A/B-тестов\n",
    "from scipy import stats as st\n",
    "import numpy as np\n",
    "import math as mth\n",
    "import datetime as dt"
   ]
  },
  {
   "cell_type": "code",
   "execution_count": 2,
   "metadata": {},
   "outputs": [],
   "source": [
    "hypothesis = pd.read_csv('/datasets/hypothesis.csv')\n",
    "orders = pd.read_csv('/datasets/orders.csv', sep=',')\n",
    "visitors = pd.read_csv('/datasets/visitors.csv', sep=',')"
   ]
  },
  {
   "cell_type": "code",
   "execution_count": 3,
   "metadata": {},
   "outputs": [
    {
     "name": "stdout",
     "output_type": "stream",
     "text": [
      "<class 'pandas.core.frame.DataFrame'>\n",
      "RangeIndex: 9 entries, 0 to 8\n",
      "Data columns (total 5 columns):\n",
      " #   Column      Non-Null Count  Dtype \n",
      "---  ------      --------------  ----- \n",
      " 0   Hypothesis  9 non-null      object\n",
      " 1   Reach       9 non-null      int64 \n",
      " 2   Impact      9 non-null      int64 \n",
      " 3   Confidence  9 non-null      int64 \n",
      " 4   Efforts     9 non-null      int64 \n",
      "dtypes: int64(4), object(1)\n",
      "memory usage: 488.0+ bytes\n",
      "<class 'pandas.core.frame.DataFrame'>\n",
      "RangeIndex: 1197 entries, 0 to 1196\n",
      "Data columns (total 5 columns):\n",
      " #   Column         Non-Null Count  Dtype \n",
      "---  ------         --------------  ----- \n",
      " 0   transactionId  1197 non-null   int64 \n",
      " 1   visitorId      1197 non-null   int64 \n",
      " 2   date           1197 non-null   object\n",
      " 3   revenue        1197 non-null   int64 \n",
      " 4   group          1197 non-null   object\n",
      "dtypes: int64(3), object(2)\n",
      "memory usage: 46.9+ KB\n",
      "<class 'pandas.core.frame.DataFrame'>\n",
      "RangeIndex: 62 entries, 0 to 61\n",
      "Data columns (total 3 columns):\n",
      " #   Column    Non-Null Count  Dtype \n",
      "---  ------    --------------  ----- \n",
      " 0   date      62 non-null     object\n",
      " 1   group     62 non-null     object\n",
      " 2   visitors  62 non-null     int64 \n",
      "dtypes: int64(1), object(2)\n",
      "memory usage: 1.6+ KB\n"
     ]
    }
   ],
   "source": [
    "hypothesis.info()\n",
    "orders.info()\n",
    "visitors.info()"
   ]
  },
  {
   "cell_type": "markdown",
   "metadata": {},
   "source": [
    "#### 2. Предобработка данных"
   ]
  },
  {
   "cell_type": "code",
   "execution_count": 4,
   "metadata": {},
   "outputs": [
    {
     "data": {
      "text/plain": [
       "0"
      ]
     },
     "execution_count": 4,
     "metadata": {},
     "output_type": "execute_result"
    }
   ],
   "source": [
    "#здесь и далее проверяем на скрытые дубликаты \n",
    "hypothesis.duplicated().sum()"
   ]
  },
  {
   "cell_type": "code",
   "execution_count": 5,
   "metadata": {},
   "outputs": [
    {
     "data": {
      "text/plain": [
       "0"
      ]
     },
     "execution_count": 5,
     "metadata": {},
     "output_type": "execute_result"
    }
   ],
   "source": [
    "orders.duplicated().sum()"
   ]
  },
  {
   "cell_type": "code",
   "execution_count": 6,
   "metadata": {},
   "outputs": [
    {
     "data": {
      "text/plain": [
       "0"
      ]
     },
     "execution_count": 6,
     "metadata": {},
     "output_type": "execute_result"
    }
   ],
   "source": [
    "visitors.duplicated().sum()"
   ]
  },
  {
   "cell_type": "code",
   "execution_count": 7,
   "metadata": {},
   "outputs": [],
   "source": [
    "#преобразовываем типы данных, где это необходимо\n",
    "orders['date'] = pd.to_datetime(orders['date'])\n",
    "visitors['date'] = pd.to_datetime(visitors['date'])"
   ]
  },
  {
   "cell_type": "code",
   "execution_count": 8,
   "metadata": {},
   "outputs": [
    {
     "data": {
      "text/html": [
       "<div>\n",
       "<style scoped>\n",
       "    .dataframe tbody tr th:only-of-type {\n",
       "        vertical-align: middle;\n",
       "    }\n",
       "\n",
       "    .dataframe tbody tr th {\n",
       "        vertical-align: top;\n",
       "    }\n",
       "\n",
       "    .dataframe thead th {\n",
       "        text-align: right;\n",
       "    }\n",
       "</style>\n",
       "<table border=\"1\" class=\"dataframe\">\n",
       "  <thead>\n",
       "    <tr style=\"text-align: right;\">\n",
       "      <th></th>\n",
       "      <th>date</th>\n",
       "    </tr>\n",
       "  </thead>\n",
       "  <tbody>\n",
       "    <tr>\n",
       "      <th>min</th>\n",
       "      <td>2019-08-01</td>\n",
       "    </tr>\n",
       "    <tr>\n",
       "      <th>max</th>\n",
       "      <td>2019-08-31</td>\n",
       "    </tr>\n",
       "  </tbody>\n",
       "</table>\n",
       "</div>"
      ],
      "text/plain": [
       "          date\n",
       "min 2019-08-01\n",
       "max 2019-08-31"
      ]
     },
     "execution_count": 8,
     "metadata": {},
     "output_type": "execute_result"
    }
   ],
   "source": [
    "#удостоверимся, что даты в датасетах `visitors` и `orders` совпадают \n",
    "visitors.agg({'date': ['min', 'max']})"
   ]
  },
  {
   "cell_type": "code",
   "execution_count": 9,
   "metadata": {},
   "outputs": [
    {
     "data": {
      "text/html": [
       "<div>\n",
       "<style scoped>\n",
       "    .dataframe tbody tr th:only-of-type {\n",
       "        vertical-align: middle;\n",
       "    }\n",
       "\n",
       "    .dataframe tbody tr th {\n",
       "        vertical-align: top;\n",
       "    }\n",
       "\n",
       "    .dataframe thead th {\n",
       "        text-align: right;\n",
       "    }\n",
       "</style>\n",
       "<table border=\"1\" class=\"dataframe\">\n",
       "  <thead>\n",
       "    <tr style=\"text-align: right;\">\n",
       "      <th></th>\n",
       "      <th>date</th>\n",
       "    </tr>\n",
       "  </thead>\n",
       "  <tbody>\n",
       "    <tr>\n",
       "      <th>min</th>\n",
       "      <td>2019-08-01</td>\n",
       "    </tr>\n",
       "    <tr>\n",
       "      <th>max</th>\n",
       "      <td>2019-08-31</td>\n",
       "    </tr>\n",
       "  </tbody>\n",
       "</table>\n",
       "</div>"
      ],
      "text/plain": [
       "          date\n",
       "min 2019-08-01\n",
       "max 2019-08-31"
      ]
     },
     "execution_count": 9,
     "metadata": {},
     "output_type": "execute_result"
    }
   ],
   "source": [
    "orders.agg({'date': ['min', 'max']})"
   ]
  },
  {
   "cell_type": "code",
   "execution_count": 10,
   "metadata": {},
   "outputs": [
    {
     "name": "stdout",
     "output_type": "stream",
     "text": [
      "<class 'pandas.core.frame.DataFrame'>\n",
      "RangeIndex: 1197 entries, 0 to 1196\n",
      "Data columns (total 5 columns):\n",
      " #   Column         Non-Null Count  Dtype         \n",
      "---  ------         --------------  -----         \n",
      " 0   transactionId  1197 non-null   int64         \n",
      " 1   visitorId      1197 non-null   int64         \n",
      " 2   date           1197 non-null   datetime64[ns]\n",
      " 3   revenue        1197 non-null   int64         \n",
      " 4   group          1197 non-null   object        \n",
      "dtypes: datetime64[ns](1), int64(3), object(1)\n",
      "memory usage: 46.9+ KB\n",
      "<class 'pandas.core.frame.DataFrame'>\n",
      "RangeIndex: 62 entries, 0 to 61\n",
      "Data columns (total 3 columns):\n",
      " #   Column    Non-Null Count  Dtype         \n",
      "---  ------    --------------  -----         \n",
      " 0   date      62 non-null     datetime64[ns]\n",
      " 1   group     62 non-null     object        \n",
      " 2   visitors  62 non-null     int64         \n",
      "dtypes: datetime64[ns](1), int64(1), object(1)\n",
      "memory usage: 1.6+ KB\n"
     ]
    }
   ],
   "source": [
    "#удостоверимся, что тип данных в столбцах `date` датасетов visitors и orders был заменен корректно\n",
    "orders.info()\n",
    "visitors.info()"
   ]
  },
  {
   "cell_type": "markdown",
   "metadata": {},
   "source": [
    "По результатам предварительного анализа установлено, что в данных отсутствуют пропуски и дубликаты. Мы заменили тип данных в столбцах `date` датасетов orders и visitors. Установили, что минимальные и максимальные даты в указанных датасетах совпадают, - мы анализируем данные за август 2019 года. "
   ]
  },
  {
   "cell_type": "markdown",
   "metadata": {},
   "source": [
    "### Приоритизация гипотез"
   ]
  },
  {
   "cell_type": "markdown",
   "metadata": {},
   "source": [
    "В файле `/datasets/hypothesis.csv` 9 гипотез по увеличению выручки интернет-магазина с указанными параметрами Reach, Impact, Confidence, Effort."
   ]
  },
  {
   "cell_type": "markdown",
   "metadata": {},
   "source": [
    "Ниже рассчитаем фреймворки **ICE** и **RICE**.\n",
    "\n",
    "ICE рассчитаем по следующей формуле: (Impact * Confidence)/Efforts\n",
    "\n",
    "RICE будем рассчитывать по следующей формуле: (Reach * Impact * Confidence)/Efforts"
   ]
  },
  {
   "cell_type": "code",
   "execution_count": 11,
   "metadata": {},
   "outputs": [
    {
     "data": {
      "text/html": [
       "<div>\n",
       "<style scoped>\n",
       "    .dataframe tbody tr th:only-of-type {\n",
       "        vertical-align: middle;\n",
       "    }\n",
       "\n",
       "    .dataframe tbody tr th {\n",
       "        vertical-align: top;\n",
       "    }\n",
       "\n",
       "    .dataframe thead th {\n",
       "        text-align: right;\n",
       "    }\n",
       "</style>\n",
       "<table border=\"1\" class=\"dataframe\">\n",
       "  <thead>\n",
       "    <tr style=\"text-align: right;\">\n",
       "      <th></th>\n",
       "      <th>Hypothesis</th>\n",
       "      <th>Reach</th>\n",
       "      <th>Impact</th>\n",
       "      <th>Confidence</th>\n",
       "      <th>Efforts</th>\n",
       "    </tr>\n",
       "  </thead>\n",
       "  <tbody>\n",
       "    <tr>\n",
       "      <th>0</th>\n",
       "      <td>Добавить два новых канала привлечения трафика, что позволит привлекать на 30% больше пользователей</td>\n",
       "      <td>3</td>\n",
       "      <td>10</td>\n",
       "      <td>8</td>\n",
       "      <td>6</td>\n",
       "    </tr>\n",
       "    <tr>\n",
       "      <th>1</th>\n",
       "      <td>Запустить собственную службу доставки, что сократит срок доставки заказов</td>\n",
       "      <td>2</td>\n",
       "      <td>5</td>\n",
       "      <td>4</td>\n",
       "      <td>10</td>\n",
       "    </tr>\n",
       "    <tr>\n",
       "      <th>2</th>\n",
       "      <td>Добавить блоки рекомендаций товаров на сайт интернет магазина, чтобы повысить конверсию и средний чек заказа</td>\n",
       "      <td>8</td>\n",
       "      <td>3</td>\n",
       "      <td>7</td>\n",
       "      <td>3</td>\n",
       "    </tr>\n",
       "    <tr>\n",
       "      <th>3</th>\n",
       "      <td>Изменить структура категорий, что увеличит конверсию, т.к. пользователи быстрее найдут нужный товар</td>\n",
       "      <td>8</td>\n",
       "      <td>3</td>\n",
       "      <td>3</td>\n",
       "      <td>8</td>\n",
       "    </tr>\n",
       "    <tr>\n",
       "      <th>4</th>\n",
       "      <td>Изменить цвет фона главной страницы, чтобы увеличить вовлеченность пользователей</td>\n",
       "      <td>3</td>\n",
       "      <td>1</td>\n",
       "      <td>1</td>\n",
       "      <td>1</td>\n",
       "    </tr>\n",
       "    <tr>\n",
       "      <th>5</th>\n",
       "      <td>Добавить страницу отзывов клиентов о магазине, что позволит увеличить количество заказов</td>\n",
       "      <td>3</td>\n",
       "      <td>2</td>\n",
       "      <td>2</td>\n",
       "      <td>3</td>\n",
       "    </tr>\n",
       "    <tr>\n",
       "      <th>6</th>\n",
       "      <td>Показать на главной странице баннеры с актуальными акциями и распродажами, чтобы увеличить конверсию</td>\n",
       "      <td>5</td>\n",
       "      <td>3</td>\n",
       "      <td>8</td>\n",
       "      <td>3</td>\n",
       "    </tr>\n",
       "    <tr>\n",
       "      <th>7</th>\n",
       "      <td>Добавить форму подписки на все основные страницы, чтобы собрать базу клиентов для email-рассылок</td>\n",
       "      <td>10</td>\n",
       "      <td>7</td>\n",
       "      <td>8</td>\n",
       "      <td>5</td>\n",
       "    </tr>\n",
       "    <tr>\n",
       "      <th>8</th>\n",
       "      <td>Запустить акцию, дающую скидку на товар в день рождения</td>\n",
       "      <td>1</td>\n",
       "      <td>9</td>\n",
       "      <td>9</td>\n",
       "      <td>5</td>\n",
       "    </tr>\n",
       "  </tbody>\n",
       "</table>\n",
       "</div>"
      ],
      "text/plain": [
       "                                                                                                     Hypothesis  \\\n",
       "0            Добавить два новых канала привлечения трафика, что позволит привлекать на 30% больше пользователей   \n",
       "1                                     Запустить собственную службу доставки, что сократит срок доставки заказов   \n",
       "2  Добавить блоки рекомендаций товаров на сайт интернет магазина, чтобы повысить конверсию и средний чек заказа   \n",
       "3           Изменить структура категорий, что увеличит конверсию, т.к. пользователи быстрее найдут нужный товар   \n",
       "4                              Изменить цвет фона главной страницы, чтобы увеличить вовлеченность пользователей   \n",
       "5                      Добавить страницу отзывов клиентов о магазине, что позволит увеличить количество заказов   \n",
       "6          Показать на главной странице баннеры с актуальными акциями и распродажами, чтобы увеличить конверсию   \n",
       "7              Добавить форму подписки на все основные страницы, чтобы собрать базу клиентов для email-рассылок   \n",
       "8                                                       Запустить акцию, дающую скидку на товар в день рождения   \n",
       "\n",
       "   Reach  Impact  Confidence  Efforts  \n",
       "0      3      10           8        6  \n",
       "1      2       5           4       10  \n",
       "2      8       3           7        3  \n",
       "3      8       3           3        8  \n",
       "4      3       1           1        1  \n",
       "5      3       2           2        3  \n",
       "6      5       3           8        3  \n",
       "7     10       7           8        5  \n",
       "8      1       9           9        5  "
      ]
     },
     "metadata": {},
     "output_type": "display_data"
    }
   ],
   "source": [
    "#прежде, чем начать приоритизировать гипотезы, выведем датасет hypothesis и посмотрим на значения\n",
    "pd.options.display.max_colwidth = 120\n",
    "display(hypothesis)"
   ]
  },
  {
   "cell_type": "markdown",
   "metadata": {},
   "source": [
    "#### 3. Применяем фреймворк ICE для приоритизации гипотез. Отсортируем их по убыванию приоритета."
   ]
  },
  {
   "cell_type": "code",
   "execution_count": 12,
   "metadata": {},
   "outputs": [
    {
     "data": {
      "text/html": [
       "<div>\n",
       "<style scoped>\n",
       "    .dataframe tbody tr th:only-of-type {\n",
       "        vertical-align: middle;\n",
       "    }\n",
       "\n",
       "    .dataframe tbody tr th {\n",
       "        vertical-align: top;\n",
       "    }\n",
       "\n",
       "    .dataframe thead th {\n",
       "        text-align: right;\n",
       "    }\n",
       "</style>\n",
       "<table border=\"1\" class=\"dataframe\">\n",
       "  <thead>\n",
       "    <tr style=\"text-align: right;\">\n",
       "      <th></th>\n",
       "      <th>Hypothesis</th>\n",
       "      <th>ICE</th>\n",
       "    </tr>\n",
       "  </thead>\n",
       "  <tbody>\n",
       "    <tr>\n",
       "      <th>8</th>\n",
       "      <td>Запустить акцию, дающую скидку на товар в день рождения</td>\n",
       "      <td>16.20</td>\n",
       "    </tr>\n",
       "    <tr>\n",
       "      <th>0</th>\n",
       "      <td>Добавить два новых канала привлечения трафика, что позволит привлекать на 30% больше пользователей</td>\n",
       "      <td>13.33</td>\n",
       "    </tr>\n",
       "    <tr>\n",
       "      <th>7</th>\n",
       "      <td>Добавить форму подписки на все основные страницы, чтобы собрать базу клиентов для email-рассылок</td>\n",
       "      <td>11.20</td>\n",
       "    </tr>\n",
       "    <tr>\n",
       "      <th>6</th>\n",
       "      <td>Показать на главной странице баннеры с актуальными акциями и распродажами, чтобы увеличить конверсию</td>\n",
       "      <td>8.00</td>\n",
       "    </tr>\n",
       "    <tr>\n",
       "      <th>2</th>\n",
       "      <td>Добавить блоки рекомендаций товаров на сайт интернет магазина, чтобы повысить конверсию и средний чек заказа</td>\n",
       "      <td>7.00</td>\n",
       "    </tr>\n",
       "    <tr>\n",
       "      <th>1</th>\n",
       "      <td>Запустить собственную службу доставки, что сократит срок доставки заказов</td>\n",
       "      <td>2.00</td>\n",
       "    </tr>\n",
       "    <tr>\n",
       "      <th>5</th>\n",
       "      <td>Добавить страницу отзывов клиентов о магазине, что позволит увеличить количество заказов</td>\n",
       "      <td>1.33</td>\n",
       "    </tr>\n",
       "    <tr>\n",
       "      <th>3</th>\n",
       "      <td>Изменить структура категорий, что увеличит конверсию, т.к. пользователи быстрее найдут нужный товар</td>\n",
       "      <td>1.12</td>\n",
       "    </tr>\n",
       "    <tr>\n",
       "      <th>4</th>\n",
       "      <td>Изменить цвет фона главной страницы, чтобы увеличить вовлеченность пользователей</td>\n",
       "      <td>1.00</td>\n",
       "    </tr>\n",
       "  </tbody>\n",
       "</table>\n",
       "</div>"
      ],
      "text/plain": [
       "                                                                                                     Hypothesis  \\\n",
       "8                                                       Запустить акцию, дающую скидку на товар в день рождения   \n",
       "0            Добавить два новых канала привлечения трафика, что позволит привлекать на 30% больше пользователей   \n",
       "7              Добавить форму подписки на все основные страницы, чтобы собрать базу клиентов для email-рассылок   \n",
       "6          Показать на главной странице баннеры с актуальными акциями и распродажами, чтобы увеличить конверсию   \n",
       "2  Добавить блоки рекомендаций товаров на сайт интернет магазина, чтобы повысить конверсию и средний чек заказа   \n",
       "1                                     Запустить собственную службу доставки, что сократит срок доставки заказов   \n",
       "5                      Добавить страницу отзывов клиентов о магазине, что позволит увеличить количество заказов   \n",
       "3           Изменить структура категорий, что увеличит конверсию, т.к. пользователи быстрее найдут нужный товар   \n",
       "4                              Изменить цвет фона главной страницы, чтобы увеличить вовлеченность пользователей   \n",
       "\n",
       "     ICE  \n",
       "8  16.20  \n",
       "0  13.33  \n",
       "7  11.20  \n",
       "6   8.00  \n",
       "2   7.00  \n",
       "1   2.00  \n",
       "5   1.33  \n",
       "3   1.12  \n",
       "4   1.00  "
      ]
     },
     "metadata": {},
     "output_type": "display_data"
    }
   ],
   "source": [
    "hypothesis['ICE'] = (hypothesis['Impact']*hypothesis['Confidence'])/hypothesis['Efforts']\n",
    "display(hypothesis[['Hypothesis', 'ICE']].sort_values(by='ICE', ascending=False).round(2))"
   ]
  },
  {
   "cell_type": "markdown",
   "metadata": {},
   "source": [
    "Наиболее перспективные гипотезы по ICE: \n",
    "1. Добавить два новых канала привлечения трафика, что позволит привлекать на 30% больше пользователей.\n",
    "2. Добавить форму подписки на все основные страницы, чтобы собрать базу клиентов для email-рассылок.\n",
    "3. Запустить акцию, дающую скидку на товар в день рождения."
   ]
  },
  {
   "cell_type": "markdown",
   "metadata": {},
   "source": [
    "#### 4. Применяем фреймворк RICE для приоритизации гипотез. Отсортируем их по убыванию приоритета."
   ]
  },
  {
   "cell_type": "code",
   "execution_count": 13,
   "metadata": {},
   "outputs": [
    {
     "data": {
      "text/html": [
       "<div>\n",
       "<style scoped>\n",
       "    .dataframe tbody tr th:only-of-type {\n",
       "        vertical-align: middle;\n",
       "    }\n",
       "\n",
       "    .dataframe tbody tr th {\n",
       "        vertical-align: top;\n",
       "    }\n",
       "\n",
       "    .dataframe thead th {\n",
       "        text-align: right;\n",
       "    }\n",
       "</style>\n",
       "<table border=\"1\" class=\"dataframe\">\n",
       "  <thead>\n",
       "    <tr style=\"text-align: right;\">\n",
       "      <th></th>\n",
       "      <th>Hypothesis</th>\n",
       "      <th>RICE</th>\n",
       "    </tr>\n",
       "  </thead>\n",
       "  <tbody>\n",
       "    <tr>\n",
       "      <th>7</th>\n",
       "      <td>Добавить форму подписки на все основные страницы, чтобы собрать базу клиентов для email-рассылок</td>\n",
       "      <td>112.0</td>\n",
       "    </tr>\n",
       "    <tr>\n",
       "      <th>2</th>\n",
       "      <td>Добавить блоки рекомендаций товаров на сайт интернет магазина, чтобы повысить конверсию и средний чек заказа</td>\n",
       "      <td>56.0</td>\n",
       "    </tr>\n",
       "    <tr>\n",
       "      <th>0</th>\n",
       "      <td>Добавить два новых канала привлечения трафика, что позволит привлекать на 30% больше пользователей</td>\n",
       "      <td>40.0</td>\n",
       "    </tr>\n",
       "    <tr>\n",
       "      <th>6</th>\n",
       "      <td>Показать на главной странице баннеры с актуальными акциями и распродажами, чтобы увеличить конверсию</td>\n",
       "      <td>40.0</td>\n",
       "    </tr>\n",
       "    <tr>\n",
       "      <th>8</th>\n",
       "      <td>Запустить акцию, дающую скидку на товар в день рождения</td>\n",
       "      <td>16.2</td>\n",
       "    </tr>\n",
       "    <tr>\n",
       "      <th>3</th>\n",
       "      <td>Изменить структура категорий, что увеличит конверсию, т.к. пользователи быстрее найдут нужный товар</td>\n",
       "      <td>9.0</td>\n",
       "    </tr>\n",
       "    <tr>\n",
       "      <th>1</th>\n",
       "      <td>Запустить собственную службу доставки, что сократит срок доставки заказов</td>\n",
       "      <td>4.0</td>\n",
       "    </tr>\n",
       "    <tr>\n",
       "      <th>5</th>\n",
       "      <td>Добавить страницу отзывов клиентов о магазине, что позволит увеличить количество заказов</td>\n",
       "      <td>4.0</td>\n",
       "    </tr>\n",
       "    <tr>\n",
       "      <th>4</th>\n",
       "      <td>Изменить цвет фона главной страницы, чтобы увеличить вовлеченность пользователей</td>\n",
       "      <td>3.0</td>\n",
       "    </tr>\n",
       "  </tbody>\n",
       "</table>\n",
       "</div>"
      ],
      "text/plain": [
       "                                                                                                     Hypothesis  \\\n",
       "7              Добавить форму подписки на все основные страницы, чтобы собрать базу клиентов для email-рассылок   \n",
       "2  Добавить блоки рекомендаций товаров на сайт интернет магазина, чтобы повысить конверсию и средний чек заказа   \n",
       "0            Добавить два новых канала привлечения трафика, что позволит привлекать на 30% больше пользователей   \n",
       "6          Показать на главной странице баннеры с актуальными акциями и распродажами, чтобы увеличить конверсию   \n",
       "8                                                       Запустить акцию, дающую скидку на товар в день рождения   \n",
       "3           Изменить структура категорий, что увеличит конверсию, т.к. пользователи быстрее найдут нужный товар   \n",
       "1                                     Запустить собственную службу доставки, что сократит срок доставки заказов   \n",
       "5                      Добавить страницу отзывов клиентов о магазине, что позволит увеличить количество заказов   \n",
       "4                              Изменить цвет фона главной страницы, чтобы увеличить вовлеченность пользователей   \n",
       "\n",
       "    RICE  \n",
       "7  112.0  \n",
       "2   56.0  \n",
       "0   40.0  \n",
       "6   40.0  \n",
       "8   16.2  \n",
       "3    9.0  \n",
       "1    4.0  \n",
       "5    4.0  \n",
       "4    3.0  "
      ]
     },
     "metadata": {},
     "output_type": "display_data"
    }
   ],
   "source": [
    "hypothesis['RICE'] = (hypothesis['Reach'] * hypothesis['Impact'] * hypothesis['Confidence'])/hypothesis['Efforts']\n",
    "display(hypothesis[['Hypothesis', 'RICE']].sort_values(by='RICE', ascending=False))"
   ]
  },
  {
   "cell_type": "markdown",
   "metadata": {},
   "source": [
    "Наиболее перспективные гипотезы по RICE: \n",
    "1. Добавить форму подписки на все основные страницы, чтобы собрать базу клиентов для email-рассылок.\n",
    "2. Добавить блоки рекомендаций товаров на сайт интернет магазина, чтобы повысить конверсию и средний чек заказа.\n",
    "3. Добавить два новых канала привлечения трафика, что позволит привлекать на 30% больше пользователей.\n",
    "4. Показать на главной странице баннеры с актуальными акциями и распродажами, чтобы увеличить конверсию."
   ]
  },
  {
   "cell_type": "markdown",
   "metadata": {},
   "source": [
    "Приоритизация гипотез изменилась при применении RICE вместо ICE из-за использования при расчетах параметра Reach. У вырвавшейся вперед при расчете с помощью фреймворка RICE гипотезы показатель Reach равен 10. \n",
    "Для тестирования предлагается взять следующую гипотезу: \"Добавить форму подписки на все основные страницы, чтобы собрать базу клиентов для email-рассылок\"."
   ]
  },
  {
   "cell_type": "markdown",
   "metadata": {},
   "source": [
    "### Анализ A/B-теста"
   ]
  },
  {
   "cell_type": "markdown",
   "metadata": {},
   "source": [
    "Мы провели A/B-тест и получили результаты, которые описаны в файлах `/datasets/orders.csv` и `/datasets/visitors.csv`."
   ]
  },
  {
   "cell_type": "markdown",
   "metadata": {},
   "source": [
    "#### 5. Проверим гипотезу о равенстве долей"
   ]
  },
  {
   "cell_type": "code",
   "execution_count": 14,
   "metadata": {},
   "outputs": [
    {
     "name": "stdout",
     "output_type": "stream",
     "text": [
      "Кол-во посетителей в группе А: 18736\n",
      "Кол-во посетителей в группе B: 18916\n",
      "Кол-во покупок в группе A: 557\n",
      "Кол-во покупок в группе B: 640\n"
     ]
    }
   ],
   "source": [
    "print('Кол-во посетителей в группе А: {}\\n'\n",
    "      'Кол-во посетителей в группе B: {}'.format(visitors[visitors['group']=='A']['visitors'].sum(), \n",
    "                                                 visitors[visitors['group']=='B']['visitors'].sum()))\n",
    "purchasesA = len(orders[orders['group']=='A'])\n",
    "purchasesB = len(orders[orders['group']=='B'])\n",
    "print('Кол-во покупок в группе A: {}'.format(purchasesA))\n",
    "print('Кол-во покупок в группе B: {}'.format(purchasesB))\n"
   ]
  },
  {
   "cell_type": "code",
   "execution_count": 15,
   "metadata": {},
   "outputs": [
    {
     "name": "stdout",
     "output_type": "stream",
     "text": [
      "p-значение:  0.02320723394441848\n",
      "Разница в количестве посетителей в группах A и B статистически значима\n"
     ]
    }
   ],
   "source": [
    "alpha = .05 #критический уровень статистической значимости\n",
    "\n",
    "successes = np.array([557, 640])\n",
    "trials = np.array([18736, 18916])\n",
    "\n",
    "#пропорция успехов в первой группе:\n",
    "p1 = successes[0]/trials[0]\n",
    "\n",
    "#пропорция успехов во второй группе:\n",
    "p2 = successes[1]/trials[1]\n",
    "\n",
    "# пропорция успехов в комбинированном датасете:\n",
    "p_combined = (successes[0] + successes[1]) / (trials[0] + trials[1])\n",
    "\n",
    "# разница пропорций в датасетах\n",
    "difference = p1 - p2 \n",
    "\n",
    "# считаем статистику в ст.отклонениях стандартного нормального распределения\n",
    "z_value = difference / mth.sqrt(p_combined * (1 - p_combined) * (1/trials[0] + 1/trials[1]))\n",
    "\n",
    "# задаем стандартное нормальное распределение (среднее 0, ст.отклонение 1)\n",
    "distr = st.norm(0, 1)  \n",
    "\n",
    "p_value = (1 - distr.cdf(abs(z_value))) * 2\n",
    "\n",
    "print('p-значение: ', p_value)\n",
    "\n",
    "if p_value < alpha:\n",
    "    print('Разница в количестве посетителей в группах A и B статистически значима')\n",
    "else:\n",
    "    print(\n",
    "        'Разница в количестве посетителей в группах A и B статистически не значима'\n",
    "    ) "
   ]
  },
  {
   "cell_type": "code",
   "execution_count": 16,
   "metadata": {},
   "outputs": [
    {
     "name": "stdout",
     "output_type": "stream",
     "text": [
      "group    58\n",
      "dtype: int64\n"
     ]
    }
   ],
   "source": [
    "#проверяем наличие пользователей, которые попадают в обе группы\n",
    "cross_users = orders.groupby('visitorId').agg({'group': pd.Series.nunique}).query('group > 1')\n",
    "print(cross_users.count())"
   ]
  },
  {
   "cell_type": "markdown",
   "metadata": {},
   "source": [
    "По дизайну теста пользователи разбивались на равные группы, но по неизвестной причине некоторые пользователи попали сразу в 2 группы: в реальной жизни нужно идти и разбираться, правда ли это не смещает выборки. Ниже все метрики рассчитываем с учетом пересекающихся пользователей, в самом конце работы удалим пересекающихся пользователей и посмотрим, влияют ли они на метрики."
   ]
  },
  {
   "cell_type": "markdown",
   "metadata": {},
   "source": [
    "Чтобы построить графики, нужно собрать кумулятивные данные. Объявим датафрейм `cumulativeData` со столбцами:\n",
    "\n",
    "`date` — дата;\n",
    "\n",
    "`group` — группа A/B-теста (A или B);\n",
    "\n",
    "`orders` — кумулятивное количество заказов на указанную дату в указанной группе;\n",
    "\n",
    "`buyers` — кумулятивное количество пользователей, совершивших хотя бы один заказ, на указанную дату в указанной группе;\n",
    "\n",
    "`revenue` — кумулятивная выручка на указанную дату в указанной группе (средний чек);\n",
    "\n",
    "`visitors` — кумулятивное количество посетителей интернет-магазина на указанную дату в определённой группе."
   ]
  },
  {
   "cell_type": "code",
   "execution_count": 17,
   "metadata": {},
   "outputs": [
    {
     "data": {
      "text/html": [
       "<div>\n",
       "<style scoped>\n",
       "    .dataframe tbody tr th:only-of-type {\n",
       "        vertical-align: middle;\n",
       "    }\n",
       "\n",
       "    .dataframe tbody tr th {\n",
       "        vertical-align: top;\n",
       "    }\n",
       "\n",
       "    .dataframe thead th {\n",
       "        text-align: right;\n",
       "    }\n",
       "</style>\n",
       "<table border=\"1\" class=\"dataframe\">\n",
       "  <thead>\n",
       "    <tr style=\"text-align: right;\">\n",
       "      <th></th>\n",
       "      <th>date</th>\n",
       "      <th>group</th>\n",
       "      <th>orders</th>\n",
       "      <th>buyers</th>\n",
       "      <th>revenue</th>\n",
       "      <th>visitors</th>\n",
       "    </tr>\n",
       "  </thead>\n",
       "  <tbody>\n",
       "    <tr>\n",
       "      <th>0</th>\n",
       "      <td>2019-08-01</td>\n",
       "      <td>A</td>\n",
       "      <td>24</td>\n",
       "      <td>20</td>\n",
       "      <td>148579</td>\n",
       "      <td>719</td>\n",
       "    </tr>\n",
       "    <tr>\n",
       "      <th>1</th>\n",
       "      <td>2019-08-01</td>\n",
       "      <td>B</td>\n",
       "      <td>21</td>\n",
       "      <td>20</td>\n",
       "      <td>101217</td>\n",
       "      <td>713</td>\n",
       "    </tr>\n",
       "    <tr>\n",
       "      <th>2</th>\n",
       "      <td>2019-08-02</td>\n",
       "      <td>A</td>\n",
       "      <td>44</td>\n",
       "      <td>38</td>\n",
       "      <td>242401</td>\n",
       "      <td>1338</td>\n",
       "    </tr>\n",
       "    <tr>\n",
       "      <th>3</th>\n",
       "      <td>2019-08-02</td>\n",
       "      <td>B</td>\n",
       "      <td>45</td>\n",
       "      <td>43</td>\n",
       "      <td>266748</td>\n",
       "      <td>1294</td>\n",
       "    </tr>\n",
       "    <tr>\n",
       "      <th>4</th>\n",
       "      <td>2019-08-03</td>\n",
       "      <td>A</td>\n",
       "      <td>68</td>\n",
       "      <td>62</td>\n",
       "      <td>354874</td>\n",
       "      <td>1845</td>\n",
       "    </tr>\n",
       "  </tbody>\n",
       "</table>\n",
       "</div>"
      ],
      "text/plain": [
       "        date group  orders  buyers  revenue  visitors\n",
       "0 2019-08-01     A      24      20   148579       719\n",
       "1 2019-08-01     B      21      20   101217       713\n",
       "2 2019-08-02     A      44      38   242401      1338\n",
       "3 2019-08-02     B      45      43   266748      1294\n",
       "4 2019-08-03     A      68      62   354874      1845"
      ]
     },
     "execution_count": 17,
     "metadata": {},
     "output_type": "execute_result"
    }
   ],
   "source": [
    "# создаем массив уникальных пар значений дат и групп теста\n",
    "datesGroups = orders[['date','group']].drop_duplicates()\n",
    "\n",
    "#выводим кумулятивные показатели из orders\n",
    "ordersAggregated = datesGroups.apply(lambda x: orders[np.logical_and(orders['date'] <= x['date'], orders['group']==x['group'])]\\\n",
    ".agg({'date':'max', 'group':'max', 'transactionId':'nunique', 'visitorId':'nunique', 'revenue':'sum'}), axis = 1).sort_values(by=['date', 'group'])\n",
    "\n",
    "#выводим кумулятивные показатели из visitors\n",
    "visitorsAggregated = datesGroups.apply(lambda x: visitors[np.logical_and(visitors['date'] <= x['date'], visitors['group']==x['group'])]\\\n",
    ".agg({'date':'max', 'group':'max', 'visitors':'sum'}), axis = 1).sort_values(by=['date', 'group'])\n",
    "#сводим все накопительные данные в одну таблицу\n",
    "\n",
    "#собрали накопительные данные\n",
    "cumulativeData = ordersAggregated.merge(visitorsAggregated, left_on=['date', 'group'], right_on=['date', 'group'])\n",
    "cumulativeData.columns = ['date', 'group', 'orders', 'buyers', 'revenue', 'visitors']\n",
    "\n",
    "cumulativeData.head()"
   ]
  },
  {
   "cell_type": "markdown",
   "metadata": {},
   "source": [
    "#### 6. Строим график кумулятивной выручки по группам. Делаем выводы и предположения."
   ]
  },
  {
   "cell_type": "code",
   "execution_count": 18,
   "metadata": {},
   "outputs": [
    {
     "data": {
      "image/png": "[encoded data removed]",
      "text/plain": [
       "<Figure size 864x360 with 1 Axes>"
      ]
     },
     "metadata": {
      "needs_background": "light"
     },
     "output_type": "display_data"
    }
   ],
   "source": [
    "# датафрейм с кумулятивным количеством заказов и кумулятивной выручкой по дням в группе А\n",
    "cumulativeRevenueA = cumulativeData[cumulativeData['group']=='A'][['date','revenue', 'orders']]\n",
    "\n",
    "# датафрейм с кумулятивным количеством заказов и кумулятивной выручкой по дням в группе B\n",
    "cumulativeRevenueB = cumulativeData[cumulativeData['group']=='B'][['date','revenue', 'orders']]\n",
    "\n",
    "plt.figure(figsize=(12,5))\n",
    "\n",
    "# Строим график выручки группы А\n",
    "plt.plot(cumulativeRevenueA['date'], cumulativeRevenueA['revenue'], label='A')\n",
    "\n",
    "# Строим график выручки группы B\n",
    "plt.plot(cumulativeRevenueB['date'], cumulativeRevenueB['revenue'], label='B')\n",
    "\n",
    "plt.ylabel('Выручка')\n",
    "plt.xlabel('Дата')\n",
    "plt.title('Графики кумулятивной выручки по группам A/B')\n",
    "plt.legend() \n",
    "plt.show()"
   ]
  },
  {
   "cell_type": "markdown",
   "metadata": {},
   "source": [
    "Группа B стабильно показывает более высокие показатели выручки. Однако \"18\" августа видим аномалию на графике - резкий рост кумулятивной выручки в группе B."
   ]
  },
  {
   "cell_type": "markdown",
   "metadata": {},
   "source": [
    "#### 7. Строим график кумулятивного среднего чека по группам. Делаем выводы и предположения."
   ]
  },
  {
   "cell_type": "code",
   "execution_count": 19,
   "metadata": {},
   "outputs": [
    {
     "data": {
      "image/png": "[encoded data removed]",
      "text/plain": [
       "<Figure size 864x360 with 1 Axes>"
      ]
     },
     "metadata": {
      "needs_background": "light"
     },
     "output_type": "display_data"
    }
   ],
   "source": [
    "#разделим кумулятивную выручку на кумулятивное число заказов\n",
    "plt.figure(figsize=(12,5))\n",
    "plt.plot(cumulativeRevenueA['date'], cumulativeRevenueA['revenue']/cumulativeRevenueA['orders'], label='A')\n",
    "plt.plot(cumulativeRevenueB['date'], cumulativeRevenueB['revenue']/cumulativeRevenueB['orders'], label='B')\n",
    "plt.ylabel('Средний чек')\n",
    "plt.xlabel('Дата')\n",
    "plt.title('Графики кумулятивного среднего чека по группам A/B')\n",
    "plt.legend() \n",
    "plt.show()"
   ]
  },
  {
   "cell_type": "markdown",
   "metadata": {},
   "source": [
    "На данном графике мы видим, что стабильно средний чек в группе B выше, но начиная с \"18\" августа 2019 года в группе B резкий рост среднего чека, что может быть связано с аномалиями."
   ]
  },
  {
   "cell_type": "markdown",
   "metadata": {},
   "source": [
    "#### 8. Строим график относительного изменения кумулятивного среднего чека группы B к группе A. Делаем выводы и предположения."
   ]
  },
  {
   "cell_type": "code",
   "execution_count": 20,
   "metadata": {},
   "outputs": [
    {
     "data": {
      "image/png": "[encoded data removed]",
      "text/plain": [
       "<Figure size 864x360 with 1 Axes>"
      ]
     },
     "metadata": {
      "needs_background": "light"
     },
     "output_type": "display_data"
    }
   ],
   "source": [
    "# собираем данные в одном датафрейме\n",
    "mergedCumulativeRevenue = cumulativeRevenueA.merge(cumulativeRevenueB, left_on='date', right_on='date', \n",
    "                                                   how='left', suffixes=['A', 'B'])\n",
    "\n",
    "plt.figure(figsize=(12,5))\n",
    "\n",
    "# cтроим отношение средних чеков\n",
    "plt.plot(mergedCumulativeRevenue['date'], \n",
    "         (mergedCumulativeRevenue['revenueB']/mergedCumulativeRevenue['ordersB'])/(mergedCumulativeRevenue['revenueA']/mergedCumulativeRevenue['ordersA'])-1)\n",
    "\n",
    "# добавляем ось X\n",
    "plt.axhline(y=0, color='black', linestyle='--') \n",
    "plt.ylabel('Средний чек')\n",
    "plt.xlabel('Дата')\n",
    "plt.title('График относительного изменения кумулятивного среднего чека группы B к группе A')\n",
    "plt.show()"
   ]
  },
  {
   "cell_type": "markdown",
   "metadata": {},
   "source": [
    "Видим очень резкие колебания графика в некоторых точках, - в данных явно есть выбросы, мы найдем их позже. "
   ]
  },
  {
   "cell_type": "markdown",
   "metadata": {},
   "source": [
    "#### 9. Строим график кумулятивного среднего количества заказов на посетителя по группам. Делаем выводы и предположения."
   ]
  },
  {
   "cell_type": "code",
   "execution_count": 21,
   "metadata": {},
   "outputs": [
    {
     "data": {
      "image/png": "[encoded data removed]",
      "text/plain": [
       "<Figure size 864x360 with 1 Axes>"
      ]
     },
     "metadata": {
      "needs_background": "light"
     },
     "output_type": "display_data"
    }
   ],
   "source": [
    "# датафрейм с кумулятивным количеством заказов и кумулятивной выручкой по дням в группе А\n",
    "cumulativeOrdersA = cumulativeData[cumulativeData['group']=='A'][['date','orders', 'visitors']]\n",
    "\n",
    "# датафрейм с кумулятивным количеством заказов и кумулятивной выручкой по дням в группе B\n",
    "cumulativeOrdersB = cumulativeData[cumulativeData['group']=='B'][['date','orders', 'visitors']]\n",
    "\n",
    "plt.figure(figsize=(12,5))\n",
    "\n",
    "# Строим график количества заказов на посетителя в группе А\n",
    "plt.plot(cumulativeOrdersA['date'], cumulativeOrdersA['orders']/cumulativeOrdersA['visitors'], label='A')\n",
    "\n",
    "# Строим график количества заказов на посетителя в группе B\n",
    "plt.plot(cumulativeOrdersB['date'], cumulativeOrdersB['orders']/cumulativeOrdersB['visitors'], label='B')\n",
    "\n",
    "plt.ylabel('Количество заказов')\n",
    "plt.xlabel('Дата')\n",
    "plt.title('Графики кумулятивного среднего количества заказов на посетителя по группам')\n",
    "plt.legend() \n",
    "plt.show()"
   ]
  },
  {
   "cell_type": "markdown",
   "metadata": {},
   "source": [
    "По графику видно, что больше заказов у посетителей в группе B."
   ]
  },
  {
   "cell_type": "markdown",
   "metadata": {},
   "source": [
    "#### 10. Строим график относительного изменения кумулятивного среднего количества заказов на посетителя группы B к группе A. Делаем выводы и предположения."
   ]
  },
  {
   "cell_type": "code",
   "execution_count": 22,
   "metadata": {},
   "outputs": [
    {
     "data": {
      "image/png": "[encoded data removed]",
      "text/plain": [
       "<Figure size 864x360 with 1 Axes>"
      ]
     },
     "metadata": {
      "needs_background": "light"
     },
     "output_type": "display_data"
    }
   ],
   "source": [
    "# собираем данные в одном датафрейме\n",
    "mergedCumulativeOrders = cumulativeOrdersA.merge(cumulativeOrdersB, left_on='date', right_on='date', \n",
    "                                                   how='left', suffixes=['A', 'B'])\n",
    "\n",
    "plt.figure(figsize=(12,5))\n",
    "\n",
    "# cтроим отношение среднего количества заказов\n",
    "plt.plot(mergedCumulativeOrders['date'], \n",
    "         (mergedCumulativeOrders['ordersB']/mergedCumulativeOrders['visitorsB'])/(mergedCumulativeOrders['ordersA']/mergedCumulativeOrders['visitorsA'])-1)\n",
    "\n",
    "# добавляем ось X\n",
    "plt.axhline(y=0, color='black', linestyle='--') \n",
    "plt.ylabel('Среднее количество заказов')\n",
    "plt.xlabel('Дата')\n",
    "plt.title('График относительного изменения кумулятивного среднего количества заказов на посетителя группы B к группе А')\n",
    "plt.show()"
   ]
  },
  {
   "cell_type": "markdown",
   "metadata": {},
   "source": [
    "Видим резкие изменения в начале графика - заказов было очень мало, а затем стало намного больше. Вероятно, была запущена какая-то маркетинговая акция, которая повлияла на рост заказов."
   ]
  },
  {
   "cell_type": "markdown",
   "metadata": {},
   "source": [
    "#### 11. Строим точечный график количества заказов по пользователям. Делаем выводы и предположения."
   ]
  },
  {
   "cell_type": "code",
   "execution_count": 23,
   "metadata": {},
   "outputs": [
    {
     "data": {
      "image/png": "[encoded data removed]",
      "text/plain": [
       "<Figure size 1080x360 with 1 Axes>"
      ]
     },
     "metadata": {
      "needs_background": "light"
     },
     "output_type": "display_data"
    }
   ],
   "source": [
    "ordersByUsers = orders.groupby('visitorId', as_index=False).agg({'transactionId' : pd.Series.nunique})\n",
    "\n",
    "ordersByUsers.columns = ['user_id','orders']\n",
    "\n",
    "ordersByUsers.sort_values(by='orders',ascending=False).head(10)\n",
    "\n",
    "x_values = pd.Series(range(0,len(ordersByUsers)))\n",
    "\n",
    "plt.figure(figsize=(15,5))\n",
    "plt.grid()\n",
    "plt.xlabel('Количество пользователей')\n",
    "plt.ylabel('Количество заказов')\n",
    "plt.title('График количества заказов по пользователям')\n",
    "plt.scatter(x_values, ordersByUsers['orders'], alpha=0.5) ;"
   ]
  },
  {
   "cell_type": "markdown",
   "metadata": {},
   "source": [
    "Исходя из точечного графика большинство пользователей делают не более 4 заказов."
   ]
  },
  {
   "cell_type": "markdown",
   "metadata": {},
   "source": [
    "#### 12. Cчитаем 95-й и 99-й перцентили количества заказов на пользователя. Выбираем границу для определения аномальных пользователей."
   ]
  },
  {
   "cell_type": "code",
   "execution_count": 24,
   "metadata": {},
   "outputs": [
    {
     "name": "stdout",
     "output_type": "stream",
     "text": [
      "Перцентили:\n",
      "95: 2.0\n",
      "99: 4.0\n"
     ]
    }
   ],
   "source": [
    "percentiles = np.percentile(ordersByUsers['orders'], [95, 99])\n",
    "print('Перцентили:\\n95: {}\\n99: {}'.format(percentiles[0],percentiles[1]))"
   ]
  },
  {
   "cell_type": "markdown",
   "metadata": {},
   "source": [
    "Не более 5% пользователей оформляли больше чем 2 заказа. \n",
    "Разумно выбрать 2 заказа на одного пользователя за верхнюю границу числа заказов, и отсеять аномальных пользователей по ней. "
   ]
  },
  {
   "cell_type": "markdown",
   "metadata": {},
   "source": [
    "#### 13. Строим точечный график стоимостей заказов. Делаем выводы и предположения."
   ]
  },
  {
   "cell_type": "code",
   "execution_count": 25,
   "metadata": {},
   "outputs": [
    {
     "data": {
      "image/png": "[encoded data removed]",
      "text/plain": [
       "<Figure size 1080x360 with 1 Axes>"
      ]
     },
     "metadata": {
      "needs_background": "light"
     },
     "output_type": "display_data"
    }
   ],
   "source": [
    "x_values = pd.Series(range(0,len(orders['revenue'])))\n",
    "plt.figure(figsize=(15,5))\n",
    "plt.grid()\n",
    "plt.title('График стоимостей заказов')\n",
    "plt.xlabel('Количество заказов')\n",
    "plt.ylabel('Стоимость заказов')\n",
    "plt.scatter(x_values, orders['revenue'], alpha=0.5);"
   ]
  },
  {
   "cell_type": "markdown",
   "metadata": {},
   "source": [
    "Видим очень большой выброс - стоимость заказа свыше 1 200 000! Уберем этот выброс и посмотрим график снова."
   ]
  },
  {
   "cell_type": "code",
   "execution_count": 26,
   "metadata": {},
   "outputs": [
    {
     "data": {
      "image/png": "[encoded data removed]",
      "text/plain": [
       "<Figure size 1080x360 with 1 Axes>"
      ]
     },
     "metadata": {
      "needs_background": "light"
     },
     "output_type": "display_data"
    }
   ],
   "source": [
    "i_orders = orders[orders['revenue']<=200000]['revenue']\n",
    "xn_values = pd.Series(range(0,len(i_orders)))\n",
    "plt.figure(figsize=(15,5))\n",
    "plt.grid()\n",
    "plt.title('График стоимостей заказов')\n",
    "plt.xlabel('Количество заказов')\n",
    "plt.ylabel('Стоимость заказов')\n",
    "plt.scatter(xn_values, i_orders, alpha=0.5);"
   ]
  },
  {
   "cell_type": "markdown",
   "metadata": {},
   "source": [
    "В среднем стоимость всех заказов находится до 60 000."
   ]
  },
  {
   "cell_type": "markdown",
   "metadata": {},
   "source": [
    "#### 14. Посчитаем 95-й и 99-й перцентили стоимости заказов. Выбераем границу для определения аномальных заказов."
   ]
  },
  {
   "cell_type": "code",
   "execution_count": 27,
   "metadata": {},
   "outputs": [
    {
     "name": "stdout",
     "output_type": "stream",
     "text": [
      "Перцентили:\n",
      "95: 28000.000000000004\n",
      "99: 58233.19999999999\n"
     ]
    }
   ],
   "source": [
    "percentiles = np.percentile(orders['revenue'], [95, 99])\n",
    "print('Перцентили:\\n95: {}\\n99: {}'.format(percentiles[0],percentiles[1]))"
   ]
  },
  {
   "cell_type": "markdown",
   "metadata": {},
   "source": [
    "99% заказов стоят меньше 58233.2, - возьмем эту сумму в качестве определения границы для последующего расчета значений с \"очищенными\" данными."
   ]
  },
  {
   "cell_type": "markdown",
   "metadata": {},
   "source": [
    "#### 15. Считаем статистическую значимость различий в среднем количестве заказов на посетителя между группами по «сырым» данным. Сделаем выводы и предположения."
   ]
  },
  {
   "cell_type": "code",
   "execution_count": 28,
   "metadata": {},
   "outputs": [
    {
     "name": "stdout",
     "output_type": "stream",
     "text": [
      "        date  ordersPerDateA  revenuePerDateA  ordersPerDateB  \\\n",
      "0 2019-08-01              24           148579              21   \n",
      "1 2019-08-02              20            93822              24   \n",
      "2 2019-08-03              24           112473              16   \n",
      "3 2019-08-04              16            70825              17   \n",
      "4 2019-08-05              25           124218              23   \n",
      "\n",
      "   revenuePerDateB  ordersCummulativeA  revenueCummulativeA  \\\n",
      "0           101217                  24               148579   \n",
      "1           165531                  44               242401   \n",
      "2           114248                  68               354874   \n",
      "3           108571                  84               425699   \n",
      "4            92428                 109               549917   \n",
      "\n",
      "   ordersCummulativeB  revenueCummulativeB  visitorsPerDateA  \\\n",
      "0                  21               101217               719   \n",
      "1                  45               266748               619   \n",
      "2                  61               380996               507   \n",
      "3                  78               489567               717   \n",
      "4                 101               581995               756   \n",
      "\n",
      "   visitorsPerDateB  visitorsCummulativeA  visitorsCummulativeB  \n",
      "0               713                   719                   713  \n",
      "1               581                  1338                  1294  \n",
      "2               509                  1845                  1803  \n",
      "3               770                  2562                  2573  \n",
      "4               707                  3318                  3280  \n"
     ]
    }
   ],
   "source": [
    "#готовим данные\n",
    "visitorsADaily = visitors[visitors['group'] == 'A'][['date', 'visitors']]\n",
    "visitorsADaily.columns = ['date', 'visitorsPerDateA']\n",
    "\n",
    "visitorsACummulative = visitorsADaily.apply(\n",
    "    lambda x: visitorsADaily[visitorsADaily['date'] <= x['date']].agg(\n",
    "        {'date': 'max', 'visitorsPerDateA': 'sum'}\n",
    "    ),\n",
    "    axis=1,\n",
    ")\n",
    "visitorsACummulative.columns = ['date', 'visitorsCummulativeA']\n",
    "\n",
    "visitorsBDaily = visitors[visitors['group'] == 'B'][['date', 'visitors']]\n",
    "visitorsBDaily.columns = ['date', 'visitorsPerDateB']\n",
    "\n",
    "visitorsBCummulative = visitorsBDaily.apply(\n",
    "    lambda x: visitorsBDaily[visitorsBDaily['date'] <= x['date']].agg(\n",
    "        {'date': 'max', 'visitorsPerDateB': 'sum'}\n",
    "    ),\n",
    "    axis=1,\n",
    ")\n",
    "visitorsBCummulative.columns = ['date', 'visitorsCummulativeB']\n",
    "\n",
    "ordersADaily = (\n",
    "    orders[orders['group'] == 'A'][['date', 'transactionId', 'visitorId', 'revenue']]\n",
    "    .groupby('date', as_index=False)\n",
    "    .agg({'transactionId': pd.Series.nunique, 'revenue': 'sum'})\n",
    ")\n",
    "ordersADaily.columns = ['date', 'ordersPerDateA', 'revenuePerDateA']\n",
    "\n",
    "ordersACummulative = ordersADaily.apply(\n",
    "    lambda x: ordersADaily[ordersADaily['date'] <= x['date']].agg(\n",
    "        {'date': 'max', 'ordersPerDateA': 'sum', 'revenuePerDateA': 'sum'}\n",
    "    ),\n",
    "    axis=1,\n",
    ").sort_values(by=['date'])\n",
    "ordersACummulative.columns = [\n",
    "    'date',\n",
    "    'ordersCummulativeA',\n",
    "    'revenueCummulativeA',\n",
    "]\n",
    "\n",
    "ordersBDaily = (\n",
    "    orders[orders['group'] == 'B'][['date', 'transactionId', 'visitorId', 'revenue']]\n",
    "    .groupby('date', as_index=False)\n",
    "    .agg({'transactionId': pd.Series.nunique, 'revenue': 'sum'})\n",
    ")\n",
    "ordersBDaily.columns = ['date', 'ordersPerDateB', 'revenuePerDateB']\n",
    "\n",
    "ordersBCummulative = ordersBDaily.apply(\n",
    "    lambda x: ordersBDaily[ordersBDaily['date'] <= x['date']].agg(\n",
    "        {'date': 'max', 'ordersPerDateB': 'sum', 'revenuePerDateB': 'sum'}\n",
    "    ),\n",
    "    axis=1,\n",
    ").sort_values(by=['date'])\n",
    "ordersBCummulative.columns = [\n",
    "    'date',\n",
    "    'ordersCummulativeB',\n",
    "    'revenueCummulativeB',\n",
    "]\n",
    "\n",
    "data = (\n",
    "    ordersADaily.merge(\n",
    "        ordersBDaily, left_on='date', right_on='date', how='left'\n",
    "    )\n",
    "    .merge(ordersACummulative, left_on='date', right_on='date', how='left')\n",
    "    .merge(ordersBCummulative, left_on='date', right_on='date', how='left')\n",
    "    .merge(visitorsADaily, left_on='date', right_on='date', how='left')\n",
    "    .merge(visitorsBDaily, left_on='date', right_on='date', how='left')\n",
    "    .merge(visitorsACummulative, left_on='date', right_on='date', how='left')\n",
    "    .merge(visitorsBCummulative, left_on='date', right_on='date', how='left')\n",
    ")\n",
    "\n",
    "print(data.head(5)) "
   ]
  },
  {
   "cell_type": "code",
   "execution_count": 29,
   "metadata": {},
   "outputs": [],
   "source": [
    "#cоздадим переменные ordersByUsersA и ordersByUsersB со столбцами ['userId', 'orders']. \n",
    "# в них для пользователей, которые заказывали хотя бы 1 раз, укажем число совершённых заказов. \n",
    "\n",
    "ordersByUsersA = (\n",
    "    orders[orders['group'] == 'A']\n",
    "    .groupby('visitorId', as_index=False)\n",
    "    .agg({'transactionId': pd.Series.nunique})\n",
    ")\n",
    "ordersByUsersA.columns = ['userId', 'orders']\n",
    "\n",
    "ordersByUsersB = (\n",
    "    orders[orders['group'] == 'B']\n",
    "    .groupby('visitorId', as_index=False)\n",
    "    .agg({'transactionId': pd.Series.nunique})\n",
    ")\n",
    "ordersByUsersB.columns = ['userId', 'orders'] "
   ]
  },
  {
   "cell_type": "code",
   "execution_count": 30,
   "metadata": {},
   "outputs": [
    {
     "data": {
      "text/plain": [
       "0        0\n",
       "1        0\n",
       "2        0\n",
       "3        0\n",
       "4        0\n",
       "        ..\n",
       "18228    0\n",
       "18229    0\n",
       "18230    0\n",
       "18231    0\n",
       "18232    0\n",
       "Name: orders, Length: 18233, dtype: int64"
      ]
     },
     "execution_count": 30,
     "metadata": {},
     "output_type": "execute_result"
    }
   ],
   "source": [
    "#устанавливаем нули для пользователей, которые ничего не заказывали\n",
    "pd.Series(0, index=np.arange(data['visitorsPerDateA'].sum() - len(ordersByUsersA['orders'])), name='orders')"
   ]
  },
  {
   "cell_type": "code",
   "execution_count": 31,
   "metadata": {},
   "outputs": [],
   "source": [
    "[ordersByUsersA['orders'],pd.Series(0, index=np.arange(data['visitorsPerDateA'].sum() - len(ordersByUsersA['orders'])), name='orders')] \n",
    "sampleA = pd.concat([ordersByUsersA['orders'],pd.Series(0, index=np.arange(data['visitorsPerDateA'].sum() - len(ordersByUsersA['orders'])), name='orders')],axis=0)\n",
    "\n",
    "sampleB = pd.concat([ordersByUsersB['orders'],pd.Series(0, index=np.arange(data['visitorsPerDateB'].sum() - len(ordersByUsersB['orders'])), name='orders')],axis=0) "
   ]
  },
  {
   "cell_type": "markdown",
   "metadata": {},
   "source": [
    "Сформулируем гипотезы.\n",
    "Нулевая гипотеза: \"в среднем количестве заказов на пользователя между группами в \"сырых данных\" нет статистически значимых различий\". Альтернативная гипотеза: \"в среднем количестве заказов на пользователя между группами в \"сырых данных\" есть статистически значимые различия\"."
   ]
  },
  {
   "cell_type": "code",
   "execution_count": 32,
   "metadata": {},
   "outputs": [
    {
     "name": "stdout",
     "output_type": "stream",
     "text": [
      "В среднем количестве заказов на пользователя между группами в \"сырых данных\" есть статистически значимые различия, т.к. P-value составляет: 0.017\n",
      "Значение прироста среднего группы B к конверсии группы A равен: 0.138\n"
     ]
    }
   ],
   "source": [
    "#применяем критерий и отформатируем p-value, - округлим его до трех знаков после запятой\n",
    "#объявляем переменные sampleA и sampleB, в которых пользователям с заказами будет соответствовать число заказов пользователя, а \n",
    "#пользователям без заказов нули\n",
    "ordersByUsersA = (\n",
    "    orders[orders['group'] == 'A']\n",
    "    .groupby('visitorId', as_index=False)\n",
    "    .agg({'transactionId': pd.Series.nunique})\n",
    ")\n",
    "ordersByUsersA.columns = ['userId', 'orders']\n",
    "\n",
    "ordersByUsersB = (\n",
    "    orders[orders['group'] == 'B']\n",
    "    .groupby('visitorId', as_index=False)\n",
    "    .agg({'transactionId': pd.Series.nunique})\n",
    ")\n",
    "ordersByUsersB.columns = ['userId', 'orders']\n",
    "\n",
    "sampleA = pd.concat(\n",
    "    [\n",
    "        ordersByUsersA['orders'],\n",
    "        pd.Series(\n",
    "            0,\n",
    "            index=np.arange(\n",
    "                data['visitorsPerDateA'].sum() - len(ordersByUsersA['orders'])\n",
    "            ),\n",
    "            name='orders',\n",
    "        ),\n",
    "    ],\n",
    "    axis=0,\n",
    ")\n",
    "\n",
    "sampleB = pd.concat(\n",
    "    [\n",
    "        ordersByUsersB['orders'],\n",
    "        pd.Series(\n",
    "            0,\n",
    "            index=np.arange(\n",
    "                data['visitorsPerDateB'].sum() - len(ordersByUsersB['orders'])\n",
    "            ),\n",
    "            name='orders',\n",
    "        ),\n",
    "    ],\n",
    "    axis=0,\n",
    ")\n",
    "#применяем тест Манна-Уитни\n",
    "print('В среднем количестве заказов на пользователя между группами в \"сырых данных\" есть статистически значимые различия, т.к. P-value составляет:', \"{0:.3f}\".format(st.mannwhitneyu(sampleA, sampleB)[1]))\n",
    "#вычисляем и выводим относительное различие в среднем между группами\n",
    "print('Значение прироста среднего группы B к конверсии группы A равен:', \"{0:.3f}\".format(sampleB.mean() / sampleA.mean() - 1))"
   ]
  },
  {
   "cell_type": "markdown",
   "metadata": {},
   "source": [
    "#### 16. Считаем статистическую значимость различий в среднем чеке заказа между группами по «сырым» данным. Делаем выводы и предположения."
   ]
  },
  {
   "cell_type": "markdown",
   "metadata": {},
   "source": [
    "Чтобы рассчитать статистическую значимость различий в среднем чеке между группами по \"сырым\" данным, передадим критерию mannwhitneyu() данные о выручке с заказов (пороговое значение возьмём равное 5%). И найдём относительные различия в среднем чеке между группами.\n",
    "\n",
    "За нулевую гипотезу возьмём что: \"статистически значимых различий в средних чеках между группами нет\"; тогда альтернативная гипотеза будет гласить - статистически значимые различия есть."
   ]
  },
  {
   "cell_type": "code",
   "execution_count": 33,
   "metadata": {},
   "outputs": [
    {
     "name": "stdout",
     "output_type": "stream",
     "text": [
      "Статически значимых отличий в среднем чеке между группами нет, т.к. P-value составляет: 0.729\n",
      "Относительное различие среднего чека между сегментами составляет: 0.259\n"
     ]
    }
   ],
   "source": [
    "print('Статически значимых отличий в среднем чеке между группами нет, т.к. P-value составляет:', '{0:.3f}'.format(st.mannwhitneyu(orders[orders['group']=='A']['revenue'], orders[orders['group']=='B']['revenue'])[1]))\n",
    "print('Относительное различие среднего чека между сегментами составляет:', '{0:.3f}'.format(orders[orders['group']=='B']['revenue'].mean()/orders[orders['group']=='A']['revenue'].mean()-1))"
   ]
  },
  {
   "cell_type": "markdown",
   "metadata": {},
   "source": [
    "#### 17. Считаем статистическую значимость различий в среднем количестве заказов на посетителя между группами по «очищенным» данным. Делаем выводы и предположения."
   ]
  },
  {
   "cell_type": "markdown",
   "metadata": {},
   "source": [
    "Сначала подготовим очищенные от аномалий данные. Сделаем срезы пользователей с числом заказов больше 2 - `usersWithManyOrders` и пользователей, совершивших заказы дороже 58233 - `UsersWithExpensiveOrders`. Объединим их в таблице `abnormalUsers`, удалим дубликаты, отсортируем по возрастанию."
   ]
  },
  {
   "cell_type": "code",
   "execution_count": 36,
   "metadata": {},
   "outputs": [
    {
     "name": "stdout",
     "output_type": "stream",
     "text": [
      "1099    148427295\n",
      "18      199603092\n",
      "23      237748145\n",
      "37      249864742\n",
      "42      366673373\n",
      "dtype: int64\n"
     ]
    }
   ],
   "source": [
    "usersWithManyOrders = pd.concat(\n",
    "    [\n",
    "        ordersByUsersA[ordersByUsersA['orders'] > 2]['userId'],\n",
    "        ordersByUsersB[ordersByUsersB['orders'] > 2]['userId'],\n",
    "    ],\n",
    "    axis=0,\n",
    ")\n",
    "usersWithExpensiveOrders = orders[orders['revenue'] > 58233]['visitorId']\n",
    "abnormalUsers = (\n",
    "    pd.concat([usersWithManyOrders, usersWithExpensiveOrders], axis=0)\n",
    "    .drop_duplicates()\n",
    "    .sort_values()\n",
    ")\n",
    "print(abnormalUsers.head(5))"
   ]
  },
  {
   "cell_type": "code",
   "execution_count": null,
   "metadata": {},
   "outputs": [],
   "source": [
    "ordersByUsersA[ordersByUsersA['orders'] >= np.percentile(ordersByUsers['orders'], 95)]['userId']"
   ]
  },
  {
   "cell_type": "markdown",
   "metadata": {},
   "source": [
    "Нулевая гипотеза: \"статистически значимых различий в конверсии между группами нет\".\n",
    "Альтернативная гипотеза: \"статистически значимые различия есть\"."
   ]
  },
  {
   "cell_type": "code",
   "execution_count": 35,
   "metadata": {},
   "outputs": [
    {
     "name": "stdout",
     "output_type": "stream",
     "text": [
      "0.01007\n",
      "0.174\n"
     ]
    }
   ],
   "source": [
    "#создаем переменные, в которых сохраняем очищенные данные о заказах - не включая аномальных пользователей \n",
    "sampleAFiltered = pd.concat(\n",
    "    [\n",
    "        ordersByUsersA[\n",
    "            np.logical_not(ordersByUsersA['userId'].isin(abnormalUsers))\n",
    "        ]['orders'],\n",
    "        pd.Series(\n",
    "            0,\n",
    "            index=np.arange(\n",
    "                data['visitorsPerDateA'].sum() - len(ordersByUsersA['orders'])\n",
    "            ),\n",
    "            name='orders',\n",
    "        ),\n",
    "    ],\n",
    "    axis=0,\n",
    ")\n",
    "\n",
    "sampleBFiltered = pd.concat(\n",
    "    [\n",
    "        ordersByUsersB[\n",
    "            np.logical_not(ordersByUsersB['userId'].isin(abnormalUsers))\n",
    "        ]['orders'],\n",
    "        pd.Series(\n",
    "            0,\n",
    "            index=np.arange(\n",
    "                data['visitorsPerDateB'].sum() - len(ordersByUsersB['orders'])\n",
    "            ),\n",
    "            name='orders',\n",
    "        ),\n",
    "    ],\n",
    "    axis=0,\n",
    ") \n",
    "#выводим p-value для сравнения среднего между очищенными группами\n",
    "print('{0:.5f}'.format(st.mannwhitneyu(sampleAFiltered, sampleBFiltered)[1]))\n",
    "#выводим относительный прирост среднего очищенной группы B\n",
    "print('{0:.3f}'.format(sampleBFiltered.mean()/sampleAFiltered.mean()-1)) "
   ]
  },
  {
   "cell_type": "markdown",
   "metadata": {},
   "source": [
    "Нулевую гипотезу о том, что статистически значимых различий в конверсии между группами нет, - отвергаем, p-value 0.01 - меньше 0.05. \n",
    "Сегмент B значительно лучше сегмента А."
   ]
  },
  {
   "cell_type": "markdown",
   "metadata": {},
   "source": [
    "#### 18. Считаем статистическую значимость различий в среднем чеке заказа между группами по «очищенным» данным. Сделайте выводы и предположения."
   ]
  },
  {
   "cell_type": "markdown",
   "metadata": {},
   "source": [
    "Нулевая гипотеза: \"статистически значимых различий средних чеков после удаления аномальных пользователей между группами нет\".\n",
    "Альтернативная гипотеза: \"статистически значимые различия есть\"."
   ]
  },
  {
   "cell_type": "code",
   "execution_count": 36,
   "metadata": {},
   "outputs": [
    {
     "name": "stdout",
     "output_type": "stream",
     "text": [
      "0.798\n",
      "-0.020\n"
     ]
    }
   ],
   "source": [
    "#выводим p-value для сравнения средних чеков между очищенными группами\n",
    "print(\n",
    "    '{0:.3f}'.format(\n",
    "        st.mannwhitneyu(\n",
    "            orders[\n",
    "                np.logical_and(\n",
    "                    orders['group'] == 'A',\n",
    "                    np.logical_not(orders['visitorId'].isin(abnormalUsers)),\n",
    "                )\n",
    "            ]['revenue'],\n",
    "            orders[\n",
    "                np.logical_and(\n",
    "                    orders['group'] == 'B',\n",
    "                    np.logical_not(orders['visitorId'].isin(abnormalUsers)),\n",
    "                )\n",
    "            ]['revenue'],\n",
    "        )[1]\n",
    "    )\n",
    ")\n",
    "#выведем относительный прирост среднего чека очищенной группы B\n",
    "print(\n",
    "    \"{0:.3f}\".format(\n",
    "        orders[\n",
    "            np.logical_and(\n",
    "                orders['group'] == 'B',\n",
    "                np.logical_not(orders['visitorId'].isin(abnormalUsers)),\n",
    "            )\n",
    "        ]['revenue'].mean()\n",
    "        / orders[\n",
    "            np.logical_and(\n",
    "                orders['group'] == 'A',\n",
    "                np.logical_not(orders['visitorId'].isin(abnormalUsers)),\n",
    "            )\n",
    "        ]['revenue'].mean()\n",
    "        - 1\n",
    "    )\n",
    ") "
   ]
  },
  {
   "cell_type": "markdown",
   "metadata": {},
   "source": [
    "P-value больше 0.05 - нулевую гипотезу о том, что статистически значимых различий средних чеков после удаления аномальных пользователей между группами нет, - не отвергаем. \n",
    "В сырых данных средний чек группы B ниже среднего чека группы А - такое произошло из-за выбросов, которые мы исключили на данном этапе анализа."
   ]
  },
  {
   "cell_type": "markdown",
   "metadata": {},
   "source": [
    "#### 19. Считаем статистическую значимость различий в среднем количестве заказов на посетителя между группами по «очищенным» данным с учетом исключения пользователей, состоящих в двух группах одновременно."
   ]
  },
  {
   "cell_type": "code",
   "execution_count": 37,
   "metadata": {},
   "outputs": [
    {
     "data": {
      "text/html": [
       "<div>\n",
       "<style scoped>\n",
       "    .dataframe tbody tr th:only-of-type {\n",
       "        vertical-align: middle;\n",
       "    }\n",
       "\n",
       "    .dataframe tbody tr th {\n",
       "        vertical-align: top;\n",
       "    }\n",
       "\n",
       "    .dataframe thead th {\n",
       "        text-align: right;\n",
       "    }\n",
       "</style>\n",
       "<table border=\"1\" class=\"dataframe\">\n",
       "  <thead>\n",
       "    <tr style=\"text-align: right;\">\n",
       "      <th></th>\n",
       "      <th>transactionId</th>\n",
       "      <th>visitorId</th>\n",
       "      <th>date</th>\n",
       "      <th>revenue</th>\n",
       "      <th>group</th>\n",
       "    </tr>\n",
       "  </thead>\n",
       "  <tbody>\n",
       "    <tr>\n",
       "      <th>0</th>\n",
       "      <td>3667963787</td>\n",
       "      <td>3312258926</td>\n",
       "      <td>2019-08-15</td>\n",
       "      <td>1650</td>\n",
       "      <td>B</td>\n",
       "    </tr>\n",
       "    <tr>\n",
       "      <th>1</th>\n",
       "      <td>2804400009</td>\n",
       "      <td>3642806036</td>\n",
       "      <td>2019-08-15</td>\n",
       "      <td>730</td>\n",
       "      <td>B</td>\n",
       "    </tr>\n",
       "    <tr>\n",
       "      <th>2</th>\n",
       "      <td>2961555356</td>\n",
       "      <td>4069496402</td>\n",
       "      <td>2019-08-15</td>\n",
       "      <td>400</td>\n",
       "      <td>A</td>\n",
       "    </tr>\n",
       "    <tr>\n",
       "      <th>3</th>\n",
       "      <td>3797467345</td>\n",
       "      <td>1196621759</td>\n",
       "      <td>2019-08-15</td>\n",
       "      <td>9759</td>\n",
       "      <td>B</td>\n",
       "    </tr>\n",
       "    <tr>\n",
       "      <th>4</th>\n",
       "      <td>2282983706</td>\n",
       "      <td>2322279887</td>\n",
       "      <td>2019-08-15</td>\n",
       "      <td>2308</td>\n",
       "      <td>B</td>\n",
       "    </tr>\n",
       "    <tr>\n",
       "      <th>...</th>\n",
       "      <td>...</td>\n",
       "      <td>...</td>\n",
       "      <td>...</td>\n",
       "      <td>...</td>\n",
       "      <td>...</td>\n",
       "    </tr>\n",
       "    <tr>\n",
       "      <th>1191</th>\n",
       "      <td>3592955527</td>\n",
       "      <td>608641596</td>\n",
       "      <td>2019-08-14</td>\n",
       "      <td>16490</td>\n",
       "      <td>B</td>\n",
       "    </tr>\n",
       "    <tr>\n",
       "      <th>1192</th>\n",
       "      <td>2662137336</td>\n",
       "      <td>3733762160</td>\n",
       "      <td>2019-08-14</td>\n",
       "      <td>6490</td>\n",
       "      <td>B</td>\n",
       "    </tr>\n",
       "    <tr>\n",
       "      <th>1193</th>\n",
       "      <td>2203539145</td>\n",
       "      <td>370388673</td>\n",
       "      <td>2019-08-14</td>\n",
       "      <td>3190</td>\n",
       "      <td>A</td>\n",
       "    </tr>\n",
       "    <tr>\n",
       "      <th>1194</th>\n",
       "      <td>1807773912</td>\n",
       "      <td>573423106</td>\n",
       "      <td>2019-08-14</td>\n",
       "      <td>10550</td>\n",
       "      <td>A</td>\n",
       "    </tr>\n",
       "    <tr>\n",
       "      <th>1196</th>\n",
       "      <td>3936777065</td>\n",
       "      <td>2108080724</td>\n",
       "      <td>2019-08-15</td>\n",
       "      <td>202740</td>\n",
       "      <td>B</td>\n",
       "    </tr>\n",
       "  </tbody>\n",
       "</table>\n",
       "<p>1025 rows × 5 columns</p>\n",
       "</div>"
      ],
      "text/plain": [
       "      transactionId   visitorId       date  revenue group\n",
       "0        3667963787  3312258926 2019-08-15     1650     B\n",
       "1        2804400009  3642806036 2019-08-15      730     B\n",
       "2        2961555356  4069496402 2019-08-15      400     A\n",
       "3        3797467345  1196621759 2019-08-15     9759     B\n",
       "4        2282983706  2322279887 2019-08-15     2308     B\n",
       "...             ...         ...        ...      ...   ...\n",
       "1191     3592955527   608641596 2019-08-14    16490     B\n",
       "1192     2662137336  3733762160 2019-08-14     6490     B\n",
       "1193     2203539145   370388673 2019-08-14     3190     A\n",
       "1194     1807773912   573423106 2019-08-14    10550     A\n",
       "1196     3936777065  2108080724 2019-08-15   202740     B\n",
       "\n",
       "[1025 rows x 5 columns]"
      ]
     },
     "execution_count": 37,
     "metadata": {},
     "output_type": "execute_result"
    }
   ],
   "source": [
    "#пересекающихся пользователей исключаю таким образом\n",
    "orders = orders.drop_duplicates(subset=['visitorId', 'group'], keep=False)\n",
    "orders"
   ]
  },
  {
   "cell_type": "code",
   "execution_count": 38,
   "metadata": {},
   "outputs": [],
   "source": [
    "ordersByUsersA = (\n",
    "    orders[orders['group'] == 'A']\n",
    "    .groupby('visitorId', as_index=False)\n",
    "    .agg({'transactionId': pd.Series.nunique})\n",
    ")\n",
    "ordersByUsersA.columns = ['userId', 'orders']\n",
    "\n",
    "ordersByUsersB = (\n",
    "    orders[orders['group'] == 'B']\n",
    "    .groupby('visitorId', as_index=False)\n",
    "    .agg({'transactionId': pd.Series.nunique})\n",
    ")\n",
    "ordersByUsersB.columns = ['userId', 'orders']\n",
    "\n",
    "sampleA = pd.concat(\n",
    "    [\n",
    "        ordersByUsersA['orders'],\n",
    "        pd.Series(\n",
    "            0,\n",
    "            index=np.arange(\n",
    "                data['visitorsPerDateA'].sum() - len(ordersByUsersA['orders'])\n",
    "            ),\n",
    "            name='orders',\n",
    "        ),\n",
    "    ],\n",
    "    axis=0,\n",
    ")\n",
    "\n",
    "sampleB = pd.concat(\n",
    "    [\n",
    "        ordersByUsersB['orders'],\n",
    "        pd.Series(\n",
    "            0,\n",
    "            index=np.arange(\n",
    "                data['visitorsPerDateB'].sum() - len(ordersByUsersB['orders'])\n",
    "            ),\n",
    "            name='orders',\n",
    "        ),\n",
    "    ],\n",
    "    axis=0,)"
   ]
  },
  {
   "cell_type": "code",
   "execution_count": 39,
   "metadata": {},
   "outputs": [
    {
     "name": "stdout",
     "output_type": "stream",
     "text": [
      "1099     148427295\n",
      "949      887908475\n",
      "744      888512513\n",
      "1103    1164614297\n",
      "1136    1307669133\n",
      "dtype: int64\n"
     ]
    }
   ],
   "source": [
    "usersWithManyOrders = pd.concat(\n",
    "    [\n",
    "        ordersByUsersA[ordersByUsersA['orders'] > 2]['userId'],\n",
    "        ordersByUsersB[ordersByUsersB['orders'] > 2]['userId'],\n",
    "    ],\n",
    "    axis=0,\n",
    ")\n",
    "usersWithExpensiveOrders = orders[orders['revenue'] > 58233]['visitorId']\n",
    "abnormalUsers = (\n",
    "    pd.concat([usersWithManyOrders, usersWithExpensiveOrders], axis=0)\n",
    "    .drop_duplicates()\n",
    "    .sort_values()\n",
    ")\n",
    "print(abnormalUsers.head(5))"
   ]
  },
  {
   "cell_type": "code",
   "execution_count": 40,
   "metadata": {},
   "outputs": [
    {
     "name": "stdout",
     "output_type": "stream",
     "text": [
      "В среднем количестве заказов на пользователя между группами в \"очищенных данных\" с учетом исключения пользователей, состоящих в двух группах, есть статистически значимые различия, т.к. P-value составляет: 0.01666\n",
      "Значение прироста среднего группы B к конверсии группы A равен: 0.160\n"
     ]
    }
   ],
   "source": [
    "sampleAFiltered = pd.concat(\n",
    "    [\n",
    "        ordersByUsersA[\n",
    "            np.logical_not(ordersByUsersA['userId'].isin(abnormalUsers))\n",
    "        ]['orders'],\n",
    "        pd.Series(\n",
    "            0,\n",
    "            index=np.arange(\n",
    "                data['visitorsPerDateA'].sum() - len(ordersByUsersA['orders'])\n",
    "            ),\n",
    "            name='orders',\n",
    "        ),\n",
    "    ],\n",
    "    axis=0,\n",
    ")\n",
    "\n",
    "sampleBFiltered = pd.concat(\n",
    "    [\n",
    "        ordersByUsersB[\n",
    "            np.logical_not(ordersByUsersB['userId'].isin(abnormalUsers))\n",
    "        ]['orders'],\n",
    "        pd.Series(\n",
    "            0,\n",
    "            index=np.arange(\n",
    "                data['visitorsPerDateB'].sum() - len(ordersByUsersB['orders'])\n",
    "            ),\n",
    "            name='orders',\n",
    "        ),\n",
    "    ],\n",
    "    axis=0,\n",
    ") \n",
    "#выводим p-value для сравнения среднего между очищенными группами\n",
    "print('В среднем количестве заказов на пользователя между группами в \"очищенных данных\" с учетом исключения пользователей, состоящих в двух группах, есть статистически значимые различия, т.к. P-value составляет:', '{0:.5f}'.format(st.mannwhitneyu(sampleAFiltered, sampleBFiltered)[1]))\n",
    "#выводим относительный прирост среднего очищенной группы B\n",
    "print('Значение прироста среднего группы B к конверсии группы A равен:', '{0:.3f}'.format(sampleBFiltered.mean()/sampleAFiltered.mean()-1)) "
   ]
  },
  {
   "cell_type": "markdown",
   "metadata": {},
   "source": [
    "#### 20. Считаем статистическую значимость различий в среднем чеке заказа между группами по «очищенным» данным  с учетом исключения пользователей, состоящих в двух группах одновременно. "
   ]
  },
  {
   "cell_type": "code",
   "execution_count": 41,
   "metadata": {},
   "outputs": [
    {
     "name": "stdout",
     "output_type": "stream",
     "text": [
      "0.952\n",
      "0.010\n"
     ]
    }
   ],
   "source": [
    "#выводим p-value для сравнения средних чеков между очищенными группами\n",
    "print(\n",
    "    '{0:.3f}'.format(\n",
    "        st.mannwhitneyu(\n",
    "            orders[\n",
    "                np.logical_and(\n",
    "                    orders['group'] == 'A',\n",
    "                    np.logical_not(orders['visitorId'].isin(abnormalUsers)),\n",
    "                )\n",
    "            ]['revenue'],\n",
    "            orders[\n",
    "                np.logical_and(\n",
    "                    orders['group'] == 'B',\n",
    "                    np.logical_not(orders['visitorId'].isin(abnormalUsers)),\n",
    "                )\n",
    "            ]['revenue'],\n",
    "        )[1]\n",
    "    )\n",
    ")\n",
    "#выведем относительный прирост среднего чека очищенной группы B\n",
    "print(\n",
    "    \"{0:.3f}\".format(\n",
    "        orders[\n",
    "            np.logical_and(\n",
    "                orders['group'] == 'B',\n",
    "                np.logical_not(orders['visitorId'].isin(abnormalUsers)),\n",
    "            )\n",
    "        ]['revenue'].mean()\n",
    "        / orders[\n",
    "            np.logical_and(\n",
    "                orders['group'] == 'A',\n",
    "                np.logical_not(orders['visitorId'].isin(abnormalUsers)),\n",
    "            )\n",
    "        ]['revenue'].mean()\n",
    "        - 1\n",
    "    )\n",
    ") "
   ]
  },
  {
   "cell_type": "markdown",
   "metadata": {},
   "source": [
    "P-value больше 0.05 - нулевую гипотезу о том, что статистически значимых различий средних чеков после удаления аномальных пользователей между группами и удаления пользователей, состоящих в двух группах, нет, - не отвергаем. После удаления аномальных данных и пользователей, состоящих в двух группах средний чек группы B чуть выше среднего чека группы А (этот показатель отличается от того, который мы нашли, удалив только выбросы). "
   ]
  },
  {
   "cell_type": "markdown",
   "metadata": {},
   "source": [
    "### Вывод: тест можно остановить, фиксируем победу группы B. "
   ]
  },
  {
   "cell_type": "markdown",
   "metadata": {},
   "source": [
    "Мы выяснили, что у нас в двух группах есть пересекающиеся пользователи: их 58, удаление пересекающихся пользователей на общий вывод не повлияло. Кумулятивная выручка в группе B выше, чем в группе А, несмотря на то, что средний чек в двух группах примерно одинаков. Заказов стабильно больше в группе B, чем в группе A (это подтверждается как исследованием по \"сырым\" данным, так и по \"очищенным\" данным). "
   ]
  }
 ],
 "metadata": {
  "ExecuteTimeLog": [
   {
    "duration": 1361,
    "start_time": "2023-06-29T19:59:05.756Z"
   },
   {
    "duration": 193,
    "start_time": "2023-06-29T19:59:07.120Z"
   },
   {
    "duration": 33,
    "start_time": "2023-06-29T19:59:49.337Z"
   },
   {
    "duration": 6,
    "start_time": "2023-06-29T20:01:05.440Z"
   },
   {
    "duration": 7,
    "start_time": "2023-06-29T20:01:44.805Z"
   },
   {
    "duration": 97,
    "start_time": "2023-06-29T20:01:57.807Z"
   },
   {
    "duration": 5,
    "start_time": "2023-06-29T20:02:06.074Z"
   },
   {
    "duration": 12,
    "start_time": "2023-06-29T20:03:16.101Z"
   },
   {
    "duration": 1108,
    "start_time": "2023-06-29T20:09:00.371Z"
   },
   {
    "duration": 78,
    "start_time": "2023-06-29T20:09:01.481Z"
   },
   {
    "duration": 26,
    "start_time": "2023-06-29T20:09:01.560Z"
   },
   {
    "duration": 11,
    "start_time": "2023-06-29T20:09:01.588Z"
   },
   {
    "duration": 28,
    "start_time": "2023-06-29T20:09:01.601Z"
   },
   {
    "duration": 39,
    "start_time": "2023-06-29T20:09:01.631Z"
   },
   {
    "duration": 24,
    "start_time": "2023-06-29T20:09:01.672Z"
   },
   {
    "duration": 17,
    "start_time": "2023-06-29T20:09:01.698Z"
   },
   {
    "duration": 8,
    "start_time": "2023-06-29T20:09:12.453Z"
   },
   {
    "duration": 9,
    "start_time": "2023-06-29T20:09:27.204Z"
   },
   {
    "duration": 18,
    "start_time": "2023-06-29T20:15:27.408Z"
   },
   {
    "duration": 10,
    "start_time": "2023-06-29T20:15:32.531Z"
   },
   {
    "duration": 9,
    "start_time": "2023-06-29T20:15:45.096Z"
   },
   {
    "duration": 17,
    "start_time": "2023-06-29T20:16:14.402Z"
   },
   {
    "duration": 4,
    "start_time": "2023-06-29T20:17:05.528Z"
   },
   {
    "duration": 8,
    "start_time": "2023-06-29T20:17:12.457Z"
   },
   {
    "duration": 8,
    "start_time": "2023-06-29T20:17:25.736Z"
   },
   {
    "duration": 15,
    "start_time": "2023-06-29T20:18:51.138Z"
   },
   {
    "duration": 7,
    "start_time": "2023-06-29T20:23:24.737Z"
   },
   {
    "duration": 100,
    "start_time": "2023-06-29T20:30:44.547Z"
   },
   {
    "duration": 1036,
    "start_time": "2023-06-29T20:30:54.541Z"
   },
   {
    "duration": 76,
    "start_time": "2023-06-29T20:30:55.579Z"
   },
   {
    "duration": 21,
    "start_time": "2023-06-29T20:30:55.657Z"
   },
   {
    "duration": 9,
    "start_time": "2023-06-29T20:30:55.680Z"
   },
   {
    "duration": 6,
    "start_time": "2023-06-29T20:30:55.690Z"
   },
   {
    "duration": 4,
    "start_time": "2023-06-29T20:30:55.698Z"
   },
   {
    "duration": 7,
    "start_time": "2023-06-29T20:30:55.703Z"
   },
   {
    "duration": 13,
    "start_time": "2023-06-29T20:30:55.711Z"
   },
   {
    "duration": 10,
    "start_time": "2023-06-29T20:30:55.726Z"
   },
   {
    "duration": 15,
    "start_time": "2023-06-29T20:30:55.738Z"
   },
   {
    "duration": 124,
    "start_time": "2023-06-29T20:30:55.754Z"
   },
   {
    "duration": 7,
    "start_time": "2023-06-29T20:32:20.264Z"
   },
   {
    "duration": 8,
    "start_time": "2023-06-29T20:36:53.631Z"
   },
   {
    "duration": 6,
    "start_time": "2023-06-29T20:39:06.819Z"
   },
   {
    "duration": 1060,
    "start_time": "2023-06-29T20:39:15.897Z"
   },
   {
    "duration": 75,
    "start_time": "2023-06-29T20:39:16.959Z"
   },
   {
    "duration": 20,
    "start_time": "2023-06-29T20:39:17.036Z"
   },
   {
    "duration": 12,
    "start_time": "2023-06-29T20:39:17.058Z"
   },
   {
    "duration": 24,
    "start_time": "2023-06-29T20:39:17.071Z"
   },
   {
    "duration": 12,
    "start_time": "2023-06-29T20:39:17.096Z"
   },
   {
    "duration": 8,
    "start_time": "2023-06-29T20:39:17.110Z"
   },
   {
    "duration": 15,
    "start_time": "2023-06-29T20:39:17.119Z"
   },
   {
    "duration": 7,
    "start_time": "2023-06-29T20:39:17.136Z"
   },
   {
    "duration": 15,
    "start_time": "2023-06-29T20:39:17.145Z"
   },
   {
    "duration": 4,
    "start_time": "2023-06-29T20:39:17.161Z"
   },
   {
    "duration": 7,
    "start_time": "2023-06-29T20:39:17.167Z"
   },
   {
    "duration": 25,
    "start_time": "2023-06-29T20:39:17.175Z"
   },
   {
    "duration": 83,
    "start_time": "2023-06-29T20:39:17.202Z"
   },
   {
    "duration": 5,
    "start_time": "2023-06-29T20:39:56.360Z"
   },
   {
    "duration": 6,
    "start_time": "2023-06-29T20:40:32.001Z"
   },
   {
    "duration": 2,
    "start_time": "2023-06-29T21:02:36.832Z"
   },
   {
    "duration": 103,
    "start_time": "2023-06-29T21:08:08.097Z"
   },
   {
    "duration": 11,
    "start_time": "2023-06-29T21:11:02.807Z"
   },
   {
    "duration": 14,
    "start_time": "2023-06-29T21:16:46.008Z"
   },
   {
    "duration": 85,
    "start_time": "2023-06-29T21:17:43.024Z"
   },
   {
    "duration": 0,
    "start_time": "2023-06-29T21:17:43.112Z"
   },
   {
    "duration": 0,
    "start_time": "2023-06-29T21:17:43.113Z"
   },
   {
    "duration": 0,
    "start_time": "2023-06-29T21:17:43.114Z"
   },
   {
    "duration": 0,
    "start_time": "2023-06-29T21:17:43.115Z"
   },
   {
    "duration": 0,
    "start_time": "2023-06-29T21:17:43.117Z"
   },
   {
    "duration": 0,
    "start_time": "2023-06-29T21:17:43.118Z"
   },
   {
    "duration": 0,
    "start_time": "2023-06-29T21:17:43.119Z"
   },
   {
    "duration": 0,
    "start_time": "2023-06-29T21:17:43.121Z"
   },
   {
    "duration": 1,
    "start_time": "2023-06-29T21:17:43.122Z"
   },
   {
    "duration": 0,
    "start_time": "2023-06-29T21:17:43.124Z"
   },
   {
    "duration": 0,
    "start_time": "2023-06-29T21:17:43.126Z"
   },
   {
    "duration": 0,
    "start_time": "2023-06-29T21:17:43.127Z"
   },
   {
    "duration": 0,
    "start_time": "2023-06-29T21:17:43.128Z"
   },
   {
    "duration": 0,
    "start_time": "2023-06-29T21:17:43.129Z"
   },
   {
    "duration": 0,
    "start_time": "2023-06-29T21:17:43.131Z"
   },
   {
    "duration": 0,
    "start_time": "2023-06-29T21:17:43.132Z"
   },
   {
    "duration": 0,
    "start_time": "2023-06-29T21:17:43.133Z"
   },
   {
    "duration": 0,
    "start_time": "2023-06-29T21:17:43.134Z"
   },
   {
    "duration": 0,
    "start_time": "2023-06-29T21:17:43.136Z"
   },
   {
    "duration": 0,
    "start_time": "2023-06-29T21:17:43.137Z"
   },
   {
    "duration": 0,
    "start_time": "2023-06-29T21:17:43.138Z"
   },
   {
    "duration": 0,
    "start_time": "2023-06-29T21:17:43.139Z"
   },
   {
    "duration": 0,
    "start_time": "2023-06-29T21:17:43.141Z"
   },
   {
    "duration": 71,
    "start_time": "2023-06-29T21:17:43.143Z"
   },
   {
    "duration": 0,
    "start_time": "2023-06-29T21:17:43.215Z"
   },
   {
    "duration": 0,
    "start_time": "2023-06-29T21:17:43.216Z"
   },
   {
    "duration": 0,
    "start_time": "2023-06-29T21:17:43.218Z"
   },
   {
    "duration": 1012,
    "start_time": "2023-06-29T21:18:08.439Z"
   },
   {
    "duration": 79,
    "start_time": "2023-06-29T21:18:09.453Z"
   },
   {
    "duration": 34,
    "start_time": "2023-06-29T21:18:09.534Z"
   },
   {
    "duration": 9,
    "start_time": "2023-06-29T21:18:09.569Z"
   },
   {
    "duration": 5,
    "start_time": "2023-06-29T21:18:09.581Z"
   },
   {
    "duration": 7,
    "start_time": "2023-06-29T21:18:09.588Z"
   },
   {
    "duration": 7,
    "start_time": "2023-06-29T21:18:09.597Z"
   },
   {
    "duration": 18,
    "start_time": "2023-06-29T21:18:09.606Z"
   },
   {
    "duration": 9,
    "start_time": "2023-06-29T21:18:09.625Z"
   },
   {
    "duration": 15,
    "start_time": "2023-06-29T21:18:09.636Z"
   },
   {
    "duration": 5,
    "start_time": "2023-06-29T21:18:09.652Z"
   },
   {
    "duration": 15,
    "start_time": "2023-06-29T21:18:09.658Z"
   },
   {
    "duration": 32,
    "start_time": "2023-06-29T21:18:09.675Z"
   },
   {
    "duration": 9,
    "start_time": "2023-06-29T21:18:09.711Z"
   },
   {
    "duration": 9,
    "start_time": "2023-06-29T21:18:09.722Z"
   },
   {
    "duration": 177,
    "start_time": "2023-06-29T21:18:09.733Z"
   },
   {
    "duration": 0,
    "start_time": "2023-06-29T21:18:09.912Z"
   },
   {
    "duration": 0,
    "start_time": "2023-06-29T21:18:09.912Z"
   },
   {
    "duration": 0,
    "start_time": "2023-06-29T21:18:09.914Z"
   },
   {
    "duration": 0,
    "start_time": "2023-06-29T21:18:09.915Z"
   },
   {
    "duration": 0,
    "start_time": "2023-06-29T21:18:09.915Z"
   },
   {
    "duration": 0,
    "start_time": "2023-06-29T21:18:09.916Z"
   },
   {
    "duration": 0,
    "start_time": "2023-06-29T21:18:09.917Z"
   },
   {
    "duration": 0,
    "start_time": "2023-06-29T21:18:09.918Z"
   },
   {
    "duration": 0,
    "start_time": "2023-06-29T21:18:09.919Z"
   },
   {
    "duration": 0,
    "start_time": "2023-06-29T21:18:09.921Z"
   },
   {
    "duration": 0,
    "start_time": "2023-06-29T21:18:09.922Z"
   },
   {
    "duration": 0,
    "start_time": "2023-06-29T21:18:09.923Z"
   },
   {
    "duration": 9,
    "start_time": "2023-06-29T21:21:52.609Z"
   },
   {
    "duration": 8,
    "start_time": "2023-06-29T21:22:42.453Z"
   },
   {
    "duration": 1241,
    "start_time": "2023-06-29T21:25:01.649Z"
   },
   {
    "duration": 0,
    "start_time": "2023-06-29T21:25:02.892Z"
   },
   {
    "duration": 0,
    "start_time": "2023-06-29T21:25:02.893Z"
   },
   {
    "duration": 0,
    "start_time": "2023-06-29T21:25:02.895Z"
   },
   {
    "duration": 0,
    "start_time": "2023-06-29T21:25:02.896Z"
   },
   {
    "duration": 0,
    "start_time": "2023-06-29T21:25:02.900Z"
   },
   {
    "duration": 0,
    "start_time": "2023-06-29T21:25:02.901Z"
   },
   {
    "duration": 0,
    "start_time": "2023-06-29T21:25:02.902Z"
   },
   {
    "duration": 0,
    "start_time": "2023-06-29T21:25:02.904Z"
   },
   {
    "duration": 0,
    "start_time": "2023-06-29T21:25:02.905Z"
   },
   {
    "duration": 0,
    "start_time": "2023-06-29T21:25:02.906Z"
   },
   {
    "duration": 0,
    "start_time": "2023-06-29T21:25:02.908Z"
   },
   {
    "duration": 0,
    "start_time": "2023-06-29T21:25:02.910Z"
   },
   {
    "duration": 0,
    "start_time": "2023-06-29T21:25:02.911Z"
   },
   {
    "duration": 0,
    "start_time": "2023-06-29T21:25:02.912Z"
   },
   {
    "duration": 1,
    "start_time": "2023-06-29T21:25:02.913Z"
   },
   {
    "duration": 0,
    "start_time": "2023-06-29T21:25:02.915Z"
   },
   {
    "duration": 0,
    "start_time": "2023-06-29T21:25:02.916Z"
   },
   {
    "duration": 0,
    "start_time": "2023-06-29T21:25:02.917Z"
   },
   {
    "duration": 0,
    "start_time": "2023-06-29T21:25:02.918Z"
   },
   {
    "duration": 0,
    "start_time": "2023-06-29T21:25:02.920Z"
   },
   {
    "duration": 0,
    "start_time": "2023-06-29T21:25:02.921Z"
   },
   {
    "duration": 0,
    "start_time": "2023-06-29T21:25:02.922Z"
   },
   {
    "duration": 0,
    "start_time": "2023-06-29T21:25:02.924Z"
   },
   {
    "duration": 0,
    "start_time": "2023-06-29T21:25:02.925Z"
   },
   {
    "duration": 0,
    "start_time": "2023-06-29T21:25:02.926Z"
   },
   {
    "duration": 0,
    "start_time": "2023-06-29T21:25:02.926Z"
   },
   {
    "duration": 6,
    "start_time": "2023-06-29T21:30:45.133Z"
   },
   {
    "duration": 8,
    "start_time": "2023-06-29T21:32:32.262Z"
   },
   {
    "duration": 1175,
    "start_time": "2023-06-29T21:32:57.873Z"
   },
   {
    "duration": 0,
    "start_time": "2023-06-29T21:32:59.050Z"
   },
   {
    "duration": 0,
    "start_time": "2023-06-29T21:32:59.051Z"
   },
   {
    "duration": 0,
    "start_time": "2023-06-29T21:32:59.053Z"
   },
   {
    "duration": 0,
    "start_time": "2023-06-29T21:32:59.054Z"
   },
   {
    "duration": 0,
    "start_time": "2023-06-29T21:32:59.056Z"
   },
   {
    "duration": 0,
    "start_time": "2023-06-29T21:32:59.057Z"
   },
   {
    "duration": 0,
    "start_time": "2023-06-29T21:32:59.058Z"
   },
   {
    "duration": 0,
    "start_time": "2023-06-29T21:32:59.060Z"
   },
   {
    "duration": 0,
    "start_time": "2023-06-29T21:32:59.062Z"
   },
   {
    "duration": 0,
    "start_time": "2023-06-29T21:32:59.063Z"
   },
   {
    "duration": 0,
    "start_time": "2023-06-29T21:32:59.064Z"
   },
   {
    "duration": 0,
    "start_time": "2023-06-29T21:32:59.066Z"
   },
   {
    "duration": 0,
    "start_time": "2023-06-29T21:32:59.067Z"
   },
   {
    "duration": 0,
    "start_time": "2023-06-29T21:32:59.068Z"
   },
   {
    "duration": 0,
    "start_time": "2023-06-29T21:32:59.068Z"
   },
   {
    "duration": 0,
    "start_time": "2023-06-29T21:32:59.069Z"
   },
   {
    "duration": 0,
    "start_time": "2023-06-29T21:32:59.070Z"
   },
   {
    "duration": 0,
    "start_time": "2023-06-29T21:32:59.099Z"
   },
   {
    "duration": 0,
    "start_time": "2023-06-29T21:32:59.100Z"
   },
   {
    "duration": 0,
    "start_time": "2023-06-29T21:32:59.101Z"
   },
   {
    "duration": 0,
    "start_time": "2023-06-29T21:32:59.102Z"
   },
   {
    "duration": 0,
    "start_time": "2023-06-29T21:32:59.103Z"
   },
   {
    "duration": 0,
    "start_time": "2023-06-29T21:32:59.104Z"
   },
   {
    "duration": 0,
    "start_time": "2023-06-29T21:32:59.105Z"
   },
   {
    "duration": 0,
    "start_time": "2023-06-29T21:32:59.106Z"
   },
   {
    "duration": 0,
    "start_time": "2023-06-29T21:32:59.107Z"
   },
   {
    "duration": 0,
    "start_time": "2023-06-29T21:32:59.108Z"
   },
   {
    "duration": 9,
    "start_time": "2023-06-29T21:37:23.096Z"
   },
   {
    "duration": 1165,
    "start_time": "2023-06-29T21:37:34.490Z"
   },
   {
    "duration": 0,
    "start_time": "2023-06-29T21:37:35.657Z"
   },
   {
    "duration": 0,
    "start_time": "2023-06-29T21:37:35.658Z"
   },
   {
    "duration": 0,
    "start_time": "2023-06-29T21:37:35.659Z"
   },
   {
    "duration": 0,
    "start_time": "2023-06-29T21:37:35.660Z"
   },
   {
    "duration": 0,
    "start_time": "2023-06-29T21:37:35.661Z"
   },
   {
    "duration": 0,
    "start_time": "2023-06-29T21:37:35.662Z"
   },
   {
    "duration": 0,
    "start_time": "2023-06-29T21:37:35.663Z"
   },
   {
    "duration": 0,
    "start_time": "2023-06-29T21:37:35.664Z"
   },
   {
    "duration": 0,
    "start_time": "2023-06-29T21:37:35.665Z"
   },
   {
    "duration": 0,
    "start_time": "2023-06-29T21:37:35.666Z"
   },
   {
    "duration": 0,
    "start_time": "2023-06-29T21:37:35.667Z"
   },
   {
    "duration": 0,
    "start_time": "2023-06-29T21:37:35.668Z"
   },
   {
    "duration": 0,
    "start_time": "2023-06-29T21:37:35.669Z"
   },
   {
    "duration": 0,
    "start_time": "2023-06-29T21:37:35.670Z"
   },
   {
    "duration": 0,
    "start_time": "2023-06-29T21:37:35.671Z"
   },
   {
    "duration": 0,
    "start_time": "2023-06-29T21:37:35.672Z"
   },
   {
    "duration": 0,
    "start_time": "2023-06-29T21:37:35.673Z"
   },
   {
    "duration": 0,
    "start_time": "2023-06-29T21:37:35.673Z"
   },
   {
    "duration": 0,
    "start_time": "2023-06-29T21:37:35.674Z"
   },
   {
    "duration": 0,
    "start_time": "2023-06-29T21:37:35.675Z"
   },
   {
    "duration": 0,
    "start_time": "2023-06-29T21:37:35.699Z"
   },
   {
    "duration": 0,
    "start_time": "2023-06-29T21:37:35.700Z"
   },
   {
    "duration": 0,
    "start_time": "2023-06-29T21:37:35.701Z"
   },
   {
    "duration": 0,
    "start_time": "2023-06-29T21:37:35.702Z"
   },
   {
    "duration": 0,
    "start_time": "2023-06-29T21:37:35.703Z"
   },
   {
    "duration": 0,
    "start_time": "2023-06-29T21:37:35.705Z"
   },
   {
    "duration": 1,
    "start_time": "2023-06-29T21:37:35.705Z"
   },
   {
    "duration": 0,
    "start_time": "2023-06-29T21:37:35.707Z"
   },
   {
    "duration": 3,
    "start_time": "2023-06-29T21:37:49.001Z"
   },
   {
    "duration": 1056,
    "start_time": "2023-06-29T21:37:53.091Z"
   },
   {
    "duration": 75,
    "start_time": "2023-06-29T21:37:54.149Z"
   },
   {
    "duration": 21,
    "start_time": "2023-06-29T21:37:54.228Z"
   },
   {
    "duration": 5,
    "start_time": "2023-06-29T21:37:54.251Z"
   },
   {
    "duration": 6,
    "start_time": "2023-06-29T21:37:54.257Z"
   },
   {
    "duration": 4,
    "start_time": "2023-06-29T21:37:54.264Z"
   },
   {
    "duration": 11,
    "start_time": "2023-06-29T21:37:54.269Z"
   },
   {
    "duration": 9,
    "start_time": "2023-06-29T21:37:54.281Z"
   },
   {
    "duration": 8,
    "start_time": "2023-06-29T21:37:54.292Z"
   },
   {
    "duration": 15,
    "start_time": "2023-06-29T21:37:54.301Z"
   },
   {
    "duration": 4,
    "start_time": "2023-06-29T21:37:54.317Z"
   },
   {
    "duration": 9,
    "start_time": "2023-06-29T21:37:54.322Z"
   },
   {
    "duration": 7,
    "start_time": "2023-06-29T21:37:54.332Z"
   },
   {
    "duration": 16,
    "start_time": "2023-06-29T21:37:54.340Z"
   },
   {
    "duration": 7,
    "start_time": "2023-06-29T21:37:54.358Z"
   },
   {
    "duration": 32,
    "start_time": "2023-06-29T21:37:54.367Z"
   },
   {
    "duration": 99,
    "start_time": "2023-06-29T21:37:54.401Z"
   },
   {
    "duration": 0,
    "start_time": "2023-06-29T21:37:54.502Z"
   },
   {
    "duration": 0,
    "start_time": "2023-06-29T21:37:54.503Z"
   },
   {
    "duration": 0,
    "start_time": "2023-06-29T21:37:54.504Z"
   },
   {
    "duration": 0,
    "start_time": "2023-06-29T21:37:54.504Z"
   },
   {
    "duration": 0,
    "start_time": "2023-06-29T21:37:54.505Z"
   },
   {
    "duration": 0,
    "start_time": "2023-06-29T21:37:54.506Z"
   },
   {
    "duration": 0,
    "start_time": "2023-06-29T21:37:54.507Z"
   },
   {
    "duration": 0,
    "start_time": "2023-06-29T21:37:54.507Z"
   },
   {
    "duration": 0,
    "start_time": "2023-06-29T21:37:54.508Z"
   },
   {
    "duration": 0,
    "start_time": "2023-06-29T21:37:54.509Z"
   },
   {
    "duration": 0,
    "start_time": "2023-06-29T21:37:54.510Z"
   },
   {
    "duration": 0,
    "start_time": "2023-06-29T21:37:54.510Z"
   },
   {
    "duration": 25,
    "start_time": "2023-06-29T21:38:34.496Z"
   },
   {
    "duration": 1094,
    "start_time": "2023-06-29T21:39:06.097Z"
   },
   {
    "duration": 75,
    "start_time": "2023-06-29T21:39:07.193Z"
   },
   {
    "duration": 21,
    "start_time": "2023-06-29T21:39:07.270Z"
   },
   {
    "duration": 6,
    "start_time": "2023-06-29T21:39:07.292Z"
   },
   {
    "duration": 8,
    "start_time": "2023-06-29T21:39:07.299Z"
   },
   {
    "duration": 4,
    "start_time": "2023-06-29T21:39:07.308Z"
   },
   {
    "duration": 6,
    "start_time": "2023-06-29T21:39:07.313Z"
   },
   {
    "duration": 11,
    "start_time": "2023-06-29T21:39:07.320Z"
   },
   {
    "duration": 7,
    "start_time": "2023-06-29T21:39:07.332Z"
   },
   {
    "duration": 14,
    "start_time": "2023-06-29T21:39:07.342Z"
   },
   {
    "duration": 5,
    "start_time": "2023-06-29T21:39:07.357Z"
   },
   {
    "duration": 40,
    "start_time": "2023-06-29T21:39:07.363Z"
   },
   {
    "duration": 9,
    "start_time": "2023-06-29T21:39:07.405Z"
   },
   {
    "duration": 10,
    "start_time": "2023-06-29T21:39:07.416Z"
   },
   {
    "duration": 7,
    "start_time": "2023-06-29T21:39:07.427Z"
   },
   {
    "duration": 6,
    "start_time": "2023-06-29T21:39:07.435Z"
   },
   {
    "duration": 117,
    "start_time": "2023-06-29T21:39:07.442Z"
   },
   {
    "duration": 0,
    "start_time": "2023-06-29T21:39:07.560Z"
   },
   {
    "duration": 0,
    "start_time": "2023-06-29T21:39:07.561Z"
   },
   {
    "duration": 0,
    "start_time": "2023-06-29T21:39:07.562Z"
   },
   {
    "duration": 0,
    "start_time": "2023-06-29T21:39:07.563Z"
   },
   {
    "duration": 0,
    "start_time": "2023-06-29T21:39:07.564Z"
   },
   {
    "duration": 0,
    "start_time": "2023-06-29T21:39:07.565Z"
   },
   {
    "duration": 0,
    "start_time": "2023-06-29T21:39:07.566Z"
   },
   {
    "duration": 0,
    "start_time": "2023-06-29T21:39:07.567Z"
   },
   {
    "duration": 0,
    "start_time": "2023-06-29T21:39:07.567Z"
   },
   {
    "duration": 0,
    "start_time": "2023-06-29T21:39:07.568Z"
   },
   {
    "duration": 0,
    "start_time": "2023-06-29T21:39:07.569Z"
   },
   {
    "duration": 0,
    "start_time": "2023-06-29T21:39:07.570Z"
   },
   {
    "duration": 1091,
    "start_time": "2023-06-29T21:40:36.971Z"
   },
   {
    "duration": 78,
    "start_time": "2023-06-29T21:40:38.064Z"
   },
   {
    "duration": 21,
    "start_time": "2023-06-29T21:40:38.143Z"
   },
   {
    "duration": 8,
    "start_time": "2023-06-29T21:40:38.166Z"
   },
   {
    "duration": 13,
    "start_time": "2023-06-29T21:40:38.175Z"
   },
   {
    "duration": 15,
    "start_time": "2023-06-29T21:40:38.189Z"
   },
   {
    "duration": 14,
    "start_time": "2023-06-29T21:40:38.206Z"
   },
   {
    "duration": 441,
    "start_time": "2023-06-29T21:40:38.221Z"
   },
   {
    "duration": 0,
    "start_time": "2023-06-29T21:40:38.664Z"
   },
   {
    "duration": 0,
    "start_time": "2023-06-29T21:40:38.665Z"
   },
   {
    "duration": 0,
    "start_time": "2023-06-29T21:40:38.666Z"
   },
   {
    "duration": 0,
    "start_time": "2023-06-29T21:40:38.667Z"
   },
   {
    "duration": 0,
    "start_time": "2023-06-29T21:40:38.667Z"
   },
   {
    "duration": 0,
    "start_time": "2023-06-29T21:40:38.668Z"
   },
   {
    "duration": 0,
    "start_time": "2023-06-29T21:40:38.669Z"
   },
   {
    "duration": 0,
    "start_time": "2023-06-29T21:40:38.669Z"
   },
   {
    "duration": 0,
    "start_time": "2023-06-29T21:40:38.670Z"
   },
   {
    "duration": 0,
    "start_time": "2023-06-29T21:40:38.671Z"
   },
   {
    "duration": 0,
    "start_time": "2023-06-29T21:40:38.672Z"
   },
   {
    "duration": 0,
    "start_time": "2023-06-29T21:40:38.672Z"
   },
   {
    "duration": 0,
    "start_time": "2023-06-29T21:40:38.673Z"
   },
   {
    "duration": 0,
    "start_time": "2023-06-29T21:40:38.674Z"
   },
   {
    "duration": 0,
    "start_time": "2023-06-29T21:40:38.674Z"
   },
   {
    "duration": 0,
    "start_time": "2023-06-29T21:40:38.675Z"
   },
   {
    "duration": 0,
    "start_time": "2023-06-29T21:40:38.676Z"
   },
   {
    "duration": 0,
    "start_time": "2023-06-29T21:40:38.677Z"
   },
   {
    "duration": 0,
    "start_time": "2023-06-29T21:40:38.678Z"
   },
   {
    "duration": 0,
    "start_time": "2023-06-29T21:40:38.679Z"
   },
   {
    "duration": 0,
    "start_time": "2023-06-29T21:40:38.680Z"
   },
   {
    "duration": 0,
    "start_time": "2023-06-29T21:40:38.680Z"
   },
   {
    "duration": 1047,
    "start_time": "2023-06-29T21:41:42.008Z"
   },
   {
    "duration": 75,
    "start_time": "2023-06-29T21:41:43.056Z"
   },
   {
    "duration": 18,
    "start_time": "2023-06-29T21:41:43.133Z"
   },
   {
    "duration": 5,
    "start_time": "2023-06-29T21:41:43.153Z"
   },
   {
    "duration": 5,
    "start_time": "2023-06-29T21:41:43.159Z"
   },
   {
    "duration": 4,
    "start_time": "2023-06-29T21:41:43.165Z"
   },
   {
    "duration": 4,
    "start_time": "2023-06-29T21:41:43.170Z"
   },
   {
    "duration": 480,
    "start_time": "2023-06-29T21:41:43.175Z"
   },
   {
    "duration": 0,
    "start_time": "2023-06-29T21:41:43.658Z"
   },
   {
    "duration": 0,
    "start_time": "2023-06-29T21:41:43.658Z"
   },
   {
    "duration": 0,
    "start_time": "2023-06-29T21:41:43.659Z"
   },
   {
    "duration": 0,
    "start_time": "2023-06-29T21:41:43.660Z"
   },
   {
    "duration": 0,
    "start_time": "2023-06-29T21:41:43.661Z"
   },
   {
    "duration": 0,
    "start_time": "2023-06-29T21:41:43.662Z"
   },
   {
    "duration": 0,
    "start_time": "2023-06-29T21:41:43.663Z"
   },
   {
    "duration": 0,
    "start_time": "2023-06-29T21:41:43.664Z"
   },
   {
    "duration": 0,
    "start_time": "2023-06-29T21:41:43.665Z"
   },
   {
    "duration": 0,
    "start_time": "2023-06-29T21:41:43.666Z"
   },
   {
    "duration": 0,
    "start_time": "2023-06-29T21:41:43.667Z"
   },
   {
    "duration": 0,
    "start_time": "2023-06-29T21:41:43.668Z"
   },
   {
    "duration": 0,
    "start_time": "2023-06-29T21:41:43.669Z"
   },
   {
    "duration": 0,
    "start_time": "2023-06-29T21:41:43.670Z"
   },
   {
    "duration": 0,
    "start_time": "2023-06-29T21:41:43.670Z"
   },
   {
    "duration": 0,
    "start_time": "2023-06-29T21:41:43.672Z"
   },
   {
    "duration": 0,
    "start_time": "2023-06-29T21:41:43.672Z"
   },
   {
    "duration": 0,
    "start_time": "2023-06-29T21:41:43.673Z"
   },
   {
    "duration": 0,
    "start_time": "2023-06-29T21:41:43.674Z"
   },
   {
    "duration": 0,
    "start_time": "2023-06-29T21:41:43.675Z"
   },
   {
    "duration": 0,
    "start_time": "2023-06-29T21:41:43.676Z"
   },
   {
    "duration": 0,
    "start_time": "2023-06-29T21:41:43.677Z"
   },
   {
    "duration": 311,
    "start_time": "2023-06-29T21:42:11.864Z"
   },
   {
    "duration": 7,
    "start_time": "2023-06-29T21:42:38.207Z"
   },
   {
    "duration": 1083,
    "start_time": "2023-06-29T21:42:43.989Z"
   },
   {
    "duration": 81,
    "start_time": "2023-06-29T21:42:45.074Z"
   },
   {
    "duration": 19,
    "start_time": "2023-06-29T21:42:45.156Z"
   },
   {
    "duration": 13,
    "start_time": "2023-06-29T21:42:45.177Z"
   },
   {
    "duration": 9,
    "start_time": "2023-06-29T21:42:45.191Z"
   },
   {
    "duration": 8,
    "start_time": "2023-06-29T21:42:45.201Z"
   },
   {
    "duration": 6,
    "start_time": "2023-06-29T21:42:45.211Z"
   },
   {
    "duration": 9,
    "start_time": "2023-06-29T21:42:45.218Z"
   },
   {
    "duration": 7,
    "start_time": "2023-06-29T21:42:45.228Z"
   },
   {
    "duration": 20,
    "start_time": "2023-06-29T21:42:45.236Z"
   },
   {
    "duration": 4,
    "start_time": "2023-06-29T21:42:45.257Z"
   },
   {
    "duration": 11,
    "start_time": "2023-06-29T21:42:45.262Z"
   },
   {
    "duration": 10,
    "start_time": "2023-06-29T21:42:45.274Z"
   },
   {
    "duration": 7,
    "start_time": "2023-06-29T21:42:45.299Z"
   },
   {
    "duration": 11,
    "start_time": "2023-06-29T21:42:45.307Z"
   },
   {
    "duration": 10,
    "start_time": "2023-06-29T21:42:45.319Z"
   },
   {
    "duration": 113,
    "start_time": "2023-06-29T21:42:45.331Z"
   },
   {
    "duration": 0,
    "start_time": "2023-06-29T21:42:45.446Z"
   },
   {
    "duration": 0,
    "start_time": "2023-06-29T21:42:45.447Z"
   },
   {
    "duration": 0,
    "start_time": "2023-06-29T21:42:45.448Z"
   },
   {
    "duration": 0,
    "start_time": "2023-06-29T21:42:45.450Z"
   },
   {
    "duration": 0,
    "start_time": "2023-06-29T21:42:45.452Z"
   },
   {
    "duration": 0,
    "start_time": "2023-06-29T21:42:45.453Z"
   },
   {
    "duration": 0,
    "start_time": "2023-06-29T21:42:45.454Z"
   },
   {
    "duration": 0,
    "start_time": "2023-06-29T21:42:45.455Z"
   },
   {
    "duration": 0,
    "start_time": "2023-06-29T21:42:45.457Z"
   },
   {
    "duration": 0,
    "start_time": "2023-06-29T21:42:45.458Z"
   },
   {
    "duration": 0,
    "start_time": "2023-06-29T21:42:45.460Z"
   },
   {
    "duration": 0,
    "start_time": "2023-06-29T21:42:45.461Z"
   },
   {
    "duration": 13,
    "start_time": "2023-06-29T21:43:02.020Z"
   },
   {
    "duration": 72,
    "start_time": "2023-06-29T21:45:10.253Z"
   },
   {
    "duration": 613,
    "start_time": "2023-06-29T21:45:19.003Z"
   },
   {
    "duration": 1085,
    "start_time": "2023-06-29T21:45:43.476Z"
   },
   {
    "duration": 75,
    "start_time": "2023-06-29T21:45:44.563Z"
   },
   {
    "duration": 19,
    "start_time": "2023-06-29T21:45:44.639Z"
   },
   {
    "duration": 8,
    "start_time": "2023-06-29T21:45:44.660Z"
   },
   {
    "duration": 8,
    "start_time": "2023-06-29T21:45:44.670Z"
   },
   {
    "duration": 4,
    "start_time": "2023-06-29T21:45:44.680Z"
   },
   {
    "duration": 5,
    "start_time": "2023-06-29T21:45:44.685Z"
   },
   {
    "duration": 613,
    "start_time": "2023-06-29T21:45:44.692Z"
   },
   {
    "duration": 0,
    "start_time": "2023-06-29T21:45:45.307Z"
   },
   {
    "duration": 0,
    "start_time": "2023-06-29T21:45:45.308Z"
   },
   {
    "duration": 0,
    "start_time": "2023-06-29T21:45:45.309Z"
   },
   {
    "duration": 0,
    "start_time": "2023-06-29T21:45:45.310Z"
   },
   {
    "duration": 0,
    "start_time": "2023-06-29T21:45:45.310Z"
   },
   {
    "duration": 0,
    "start_time": "2023-06-29T21:45:45.311Z"
   },
   {
    "duration": 0,
    "start_time": "2023-06-29T21:45:45.312Z"
   },
   {
    "duration": 0,
    "start_time": "2023-06-29T21:45:45.313Z"
   },
   {
    "duration": 0,
    "start_time": "2023-06-29T21:45:45.314Z"
   },
   {
    "duration": 0,
    "start_time": "2023-06-29T21:45:45.315Z"
   },
   {
    "duration": 0,
    "start_time": "2023-06-29T21:45:45.315Z"
   },
   {
    "duration": 0,
    "start_time": "2023-06-29T21:45:45.316Z"
   },
   {
    "duration": 0,
    "start_time": "2023-06-29T21:45:45.317Z"
   },
   {
    "duration": 0,
    "start_time": "2023-06-29T21:45:45.318Z"
   },
   {
    "duration": 0,
    "start_time": "2023-06-29T21:45:45.319Z"
   },
   {
    "duration": 0,
    "start_time": "2023-06-29T21:45:45.320Z"
   },
   {
    "duration": 0,
    "start_time": "2023-06-29T21:45:45.321Z"
   },
   {
    "duration": 0,
    "start_time": "2023-06-29T21:45:45.322Z"
   },
   {
    "duration": 0,
    "start_time": "2023-06-29T21:45:45.323Z"
   },
   {
    "duration": 0,
    "start_time": "2023-06-29T21:45:45.325Z"
   },
   {
    "duration": 0,
    "start_time": "2023-06-29T21:45:45.326Z"
   },
   {
    "duration": 0,
    "start_time": "2023-06-29T21:45:45.327Z"
   },
   {
    "duration": 412,
    "start_time": "2023-06-29T21:46:03.923Z"
   },
   {
    "duration": 1059,
    "start_time": "2023-06-29T21:46:27.602Z"
   },
   {
    "duration": 78,
    "start_time": "2023-06-29T21:46:28.663Z"
   },
   {
    "duration": 20,
    "start_time": "2023-06-29T21:46:28.742Z"
   },
   {
    "duration": 7,
    "start_time": "2023-06-29T21:46:28.764Z"
   },
   {
    "duration": 13,
    "start_time": "2023-06-29T21:46:28.772Z"
   },
   {
    "duration": 5,
    "start_time": "2023-06-29T21:46:28.786Z"
   },
   {
    "duration": 34,
    "start_time": "2023-06-29T21:46:28.792Z"
   },
   {
    "duration": 24,
    "start_time": "2023-06-29T21:46:28.827Z"
   },
   {
    "duration": 35,
    "start_time": "2023-06-29T21:46:28.852Z"
   },
   {
    "duration": 16,
    "start_time": "2023-06-29T21:46:28.890Z"
   },
   {
    "duration": 4,
    "start_time": "2023-06-29T21:46:28.907Z"
   },
   {
    "duration": 10,
    "start_time": "2023-06-29T21:46:28.912Z"
   },
   {
    "duration": 9,
    "start_time": "2023-06-29T21:46:28.924Z"
   },
   {
    "duration": 11,
    "start_time": "2023-06-29T21:46:28.935Z"
   },
   {
    "duration": 11,
    "start_time": "2023-06-29T21:46:28.947Z"
   },
   {
    "duration": 10,
    "start_time": "2023-06-29T21:46:28.959Z"
   },
   {
    "duration": 106,
    "start_time": "2023-06-29T21:46:28.970Z"
   },
   {
    "duration": 0,
    "start_time": "2023-06-29T21:46:29.077Z"
   },
   {
    "duration": 0,
    "start_time": "2023-06-29T21:46:29.077Z"
   },
   {
    "duration": 0,
    "start_time": "2023-06-29T21:46:29.078Z"
   },
   {
    "duration": 0,
    "start_time": "2023-06-29T21:46:29.079Z"
   },
   {
    "duration": 0,
    "start_time": "2023-06-29T21:46:29.079Z"
   },
   {
    "duration": 0,
    "start_time": "2023-06-29T21:46:29.080Z"
   },
   {
    "duration": 0,
    "start_time": "2023-06-29T21:46:29.081Z"
   },
   {
    "duration": 0,
    "start_time": "2023-06-29T21:46:29.082Z"
   },
   {
    "duration": 0,
    "start_time": "2023-06-29T21:46:29.083Z"
   },
   {
    "duration": 0,
    "start_time": "2023-06-29T21:46:29.084Z"
   },
   {
    "duration": 0,
    "start_time": "2023-06-29T21:46:29.099Z"
   },
   {
    "duration": 0,
    "start_time": "2023-06-29T21:46:29.100Z"
   },
   {
    "duration": 12,
    "start_time": "2023-06-29T21:46:52.543Z"
   },
   {
    "duration": 1164,
    "start_time": "2023-06-29T21:47:59.392Z"
   },
   {
    "duration": 76,
    "start_time": "2023-06-29T21:48:00.558Z"
   },
   {
    "duration": 23,
    "start_time": "2023-06-29T21:48:00.636Z"
   },
   {
    "duration": 24,
    "start_time": "2023-06-29T21:48:00.661Z"
   },
   {
    "duration": 32,
    "start_time": "2023-06-29T21:48:00.688Z"
   },
   {
    "duration": 22,
    "start_time": "2023-06-29T21:48:00.722Z"
   },
   {
    "duration": 27,
    "start_time": "2023-06-29T21:48:00.746Z"
   },
   {
    "duration": 30,
    "start_time": "2023-06-29T21:48:00.774Z"
   },
   {
    "duration": 40,
    "start_time": "2023-06-29T21:48:00.806Z"
   },
   {
    "duration": 31,
    "start_time": "2023-06-29T21:48:00.848Z"
   },
   {
    "duration": 40,
    "start_time": "2023-06-29T21:48:00.881Z"
   },
   {
    "duration": 11,
    "start_time": "2023-06-29T21:48:00.923Z"
   },
   {
    "duration": 17,
    "start_time": "2023-06-29T21:48:00.935Z"
   },
   {
    "duration": 19,
    "start_time": "2023-06-29T21:48:00.954Z"
   },
   {
    "duration": 11,
    "start_time": "2023-06-29T21:48:00.974Z"
   },
   {
    "duration": 310,
    "start_time": "2023-06-29T21:48:00.986Z"
   },
   {
    "duration": 84,
    "start_time": "2023-06-29T21:48:01.299Z"
   },
   {
    "duration": 0,
    "start_time": "2023-06-29T21:48:01.384Z"
   },
   {
    "duration": 0,
    "start_time": "2023-06-29T21:48:01.386Z"
   },
   {
    "duration": 0,
    "start_time": "2023-06-29T21:48:01.387Z"
   },
   {
    "duration": 0,
    "start_time": "2023-06-29T21:48:01.388Z"
   },
   {
    "duration": 0,
    "start_time": "2023-06-29T21:48:01.389Z"
   },
   {
    "duration": 0,
    "start_time": "2023-06-29T21:48:01.389Z"
   },
   {
    "duration": 0,
    "start_time": "2023-06-29T21:48:01.390Z"
   },
   {
    "duration": 0,
    "start_time": "2023-06-29T21:48:01.392Z"
   },
   {
    "duration": 0,
    "start_time": "2023-06-29T21:48:01.393Z"
   },
   {
    "duration": 0,
    "start_time": "2023-06-29T21:48:01.395Z"
   },
   {
    "duration": 0,
    "start_time": "2023-06-29T21:48:01.396Z"
   },
   {
    "duration": 263,
    "start_time": "2023-06-29T21:49:05.109Z"
   },
   {
    "duration": 237,
    "start_time": "2023-06-29T21:49:39.337Z"
   },
   {
    "duration": 1038,
    "start_time": "2023-06-29T21:53:08.818Z"
   },
   {
    "duration": 75,
    "start_time": "2023-06-29T21:53:09.858Z"
   },
   {
    "duration": 21,
    "start_time": "2023-06-29T21:53:09.934Z"
   },
   {
    "duration": 6,
    "start_time": "2023-06-29T21:53:09.957Z"
   },
   {
    "duration": 7,
    "start_time": "2023-06-29T21:53:09.964Z"
   },
   {
    "duration": 4,
    "start_time": "2023-06-29T21:53:09.972Z"
   },
   {
    "duration": 379,
    "start_time": "2023-06-29T21:53:09.977Z"
   },
   {
    "duration": 0,
    "start_time": "2023-06-29T21:53:10.358Z"
   },
   {
    "duration": 0,
    "start_time": "2023-06-29T21:53:10.359Z"
   },
   {
    "duration": 0,
    "start_time": "2023-06-29T21:53:10.360Z"
   },
   {
    "duration": 0,
    "start_time": "2023-06-29T21:53:10.361Z"
   },
   {
    "duration": 0,
    "start_time": "2023-06-29T21:53:10.361Z"
   },
   {
    "duration": 0,
    "start_time": "2023-06-29T21:53:10.362Z"
   },
   {
    "duration": 0,
    "start_time": "2023-06-29T21:53:10.363Z"
   },
   {
    "duration": 0,
    "start_time": "2023-06-29T21:53:10.364Z"
   },
   {
    "duration": 0,
    "start_time": "2023-06-29T21:53:10.364Z"
   },
   {
    "duration": 0,
    "start_time": "2023-06-29T21:53:10.365Z"
   },
   {
    "duration": 0,
    "start_time": "2023-06-29T21:53:10.366Z"
   },
   {
    "duration": 0,
    "start_time": "2023-06-29T21:53:10.367Z"
   },
   {
    "duration": 0,
    "start_time": "2023-06-29T21:53:10.368Z"
   },
   {
    "duration": 0,
    "start_time": "2023-06-29T21:53:10.369Z"
   },
   {
    "duration": 0,
    "start_time": "2023-06-29T21:53:10.369Z"
   },
   {
    "duration": 0,
    "start_time": "2023-06-29T21:53:10.370Z"
   },
   {
    "duration": 0,
    "start_time": "2023-06-29T21:53:10.371Z"
   },
   {
    "duration": 0,
    "start_time": "2023-06-29T21:53:10.372Z"
   },
   {
    "duration": 0,
    "start_time": "2023-06-29T21:53:10.372Z"
   },
   {
    "duration": 0,
    "start_time": "2023-06-29T21:53:10.373Z"
   },
   {
    "duration": 0,
    "start_time": "2023-06-29T21:53:10.374Z"
   },
   {
    "duration": 1082,
    "start_time": "2023-06-29T21:53:25.478Z"
   },
   {
    "duration": 75,
    "start_time": "2023-06-29T21:53:26.562Z"
   },
   {
    "duration": 22,
    "start_time": "2023-06-29T21:53:26.639Z"
   },
   {
    "duration": 5,
    "start_time": "2023-06-29T21:53:26.663Z"
   },
   {
    "duration": 22,
    "start_time": "2023-06-29T21:53:26.670Z"
   },
   {
    "duration": 4,
    "start_time": "2023-06-29T21:53:26.693Z"
   },
   {
    "duration": 6,
    "start_time": "2023-06-29T21:53:26.699Z"
   },
   {
    "duration": 12,
    "start_time": "2023-06-29T21:53:26.706Z"
   },
   {
    "duration": 7,
    "start_time": "2023-06-29T21:53:26.719Z"
   },
   {
    "duration": 18,
    "start_time": "2023-06-29T21:53:26.728Z"
   },
   {
    "duration": 4,
    "start_time": "2023-06-29T21:53:26.747Z"
   },
   {
    "duration": 9,
    "start_time": "2023-06-29T21:53:26.752Z"
   },
   {
    "duration": 9,
    "start_time": "2023-06-29T21:53:26.762Z"
   },
   {
    "duration": 29,
    "start_time": "2023-06-29T21:53:26.772Z"
   },
   {
    "duration": 7,
    "start_time": "2023-06-29T21:53:26.803Z"
   },
   {
    "duration": 259,
    "start_time": "2023-06-29T21:53:26.812Z"
   },
   {
    "duration": 64,
    "start_time": "2023-06-29T21:53:27.073Z"
   },
   {
    "duration": 0,
    "start_time": "2023-06-29T21:53:27.138Z"
   },
   {
    "duration": 0,
    "start_time": "2023-06-29T21:53:27.139Z"
   },
   {
    "duration": 0,
    "start_time": "2023-06-29T21:53:27.140Z"
   },
   {
    "duration": 0,
    "start_time": "2023-06-29T21:53:27.141Z"
   },
   {
    "duration": 0,
    "start_time": "2023-06-29T21:53:27.142Z"
   },
   {
    "duration": 0,
    "start_time": "2023-06-29T21:53:27.143Z"
   },
   {
    "duration": 0,
    "start_time": "2023-06-29T21:53:27.144Z"
   },
   {
    "duration": 0,
    "start_time": "2023-06-29T21:53:27.145Z"
   },
   {
    "duration": 0,
    "start_time": "2023-06-29T21:53:27.145Z"
   },
   {
    "duration": 0,
    "start_time": "2023-06-29T21:53:27.146Z"
   },
   {
    "duration": 0,
    "start_time": "2023-06-29T21:53:27.147Z"
   },
   {
    "duration": 250,
    "start_time": "2023-06-29T21:55:58.705Z"
   },
   {
    "duration": 1047,
    "start_time": "2023-06-29T21:56:03.928Z"
   },
   {
    "duration": 76,
    "start_time": "2023-06-29T21:56:04.976Z"
   },
   {
    "duration": 20,
    "start_time": "2023-06-29T21:56:05.053Z"
   },
   {
    "duration": 13,
    "start_time": "2023-06-29T21:56:05.075Z"
   },
   {
    "duration": 9,
    "start_time": "2023-06-29T21:56:05.089Z"
   },
   {
    "duration": 9,
    "start_time": "2023-06-29T21:56:05.099Z"
   },
   {
    "duration": 7,
    "start_time": "2023-06-29T21:56:05.110Z"
   },
   {
    "duration": 15,
    "start_time": "2023-06-29T21:56:05.118Z"
   },
   {
    "duration": 21,
    "start_time": "2023-06-29T21:56:05.134Z"
   },
   {
    "duration": 18,
    "start_time": "2023-06-29T21:56:05.157Z"
   },
   {
    "duration": 4,
    "start_time": "2023-06-29T21:56:05.176Z"
   },
   {
    "duration": 10,
    "start_time": "2023-06-29T21:56:05.181Z"
   },
   {
    "duration": 6,
    "start_time": "2023-06-29T21:56:05.192Z"
   },
   {
    "duration": 47,
    "start_time": "2023-06-29T21:56:05.199Z"
   },
   {
    "duration": 10,
    "start_time": "2023-06-29T21:56:05.248Z"
   },
   {
    "duration": 278,
    "start_time": "2023-06-29T21:56:05.260Z"
   },
   {
    "duration": 67,
    "start_time": "2023-06-29T21:56:05.540Z"
   },
   {
    "duration": 0,
    "start_time": "2023-06-29T21:56:05.609Z"
   },
   {
    "duration": 0,
    "start_time": "2023-06-29T21:56:05.610Z"
   },
   {
    "duration": 0,
    "start_time": "2023-06-29T21:56:05.611Z"
   },
   {
    "duration": 0,
    "start_time": "2023-06-29T21:56:05.611Z"
   },
   {
    "duration": 0,
    "start_time": "2023-06-29T21:56:05.613Z"
   },
   {
    "duration": 0,
    "start_time": "2023-06-29T21:56:05.614Z"
   },
   {
    "duration": 0,
    "start_time": "2023-06-29T21:56:05.615Z"
   },
   {
    "duration": 0,
    "start_time": "2023-06-29T21:56:05.616Z"
   },
   {
    "duration": 0,
    "start_time": "2023-06-29T21:56:05.617Z"
   },
   {
    "duration": 0,
    "start_time": "2023-06-29T21:56:05.618Z"
   },
   {
    "duration": 0,
    "start_time": "2023-06-29T21:56:05.619Z"
   },
   {
    "duration": 247,
    "start_time": "2023-06-29T21:59:52.560Z"
   },
   {
    "duration": 262,
    "start_time": "2023-06-29T22:00:31.733Z"
   },
   {
    "duration": 262,
    "start_time": "2023-06-29T22:00:58.896Z"
   },
   {
    "duration": 285,
    "start_time": "2023-06-29T22:03:07.214Z"
   },
   {
    "duration": 50,
    "start_time": "2023-06-30T09:51:15.190Z"
   },
   {
    "duration": 1601,
    "start_time": "2023-06-30T09:51:22.085Z"
   },
   {
    "duration": 241,
    "start_time": "2023-06-30T09:51:23.688Z"
   },
   {
    "duration": 22,
    "start_time": "2023-06-30T09:51:23.930Z"
   },
   {
    "duration": 16,
    "start_time": "2023-06-30T09:51:23.954Z"
   },
   {
    "duration": 13,
    "start_time": "2023-06-30T09:51:23.972Z"
   },
   {
    "duration": 5,
    "start_time": "2023-06-30T09:51:23.986Z"
   },
   {
    "duration": 6,
    "start_time": "2023-06-30T09:51:23.992Z"
   },
   {
    "duration": 22,
    "start_time": "2023-06-30T09:51:23.999Z"
   },
   {
    "duration": 13,
    "start_time": "2023-06-30T09:51:24.023Z"
   },
   {
    "duration": 15,
    "start_time": "2023-06-30T09:51:24.037Z"
   },
   {
    "duration": 23,
    "start_time": "2023-06-30T09:51:24.054Z"
   },
   {
    "duration": 12,
    "start_time": "2023-06-30T09:51:24.078Z"
   },
   {
    "duration": 7,
    "start_time": "2023-06-30T09:51:24.092Z"
   },
   {
    "duration": 14,
    "start_time": "2023-06-30T09:51:24.101Z"
   },
   {
    "duration": 16,
    "start_time": "2023-06-30T09:51:24.116Z"
   },
   {
    "duration": 259,
    "start_time": "2023-06-30T09:51:24.133Z"
   },
   {
    "duration": 227,
    "start_time": "2023-06-30T09:51:24.394Z"
   },
   {
    "duration": 252,
    "start_time": "2023-06-30T09:51:24.622Z"
   },
   {
    "duration": 0,
    "start_time": "2023-06-30T09:51:24.875Z"
   },
   {
    "duration": 0,
    "start_time": "2023-06-30T09:51:24.876Z"
   },
   {
    "duration": 0,
    "start_time": "2023-06-30T09:51:24.877Z"
   },
   {
    "duration": 0,
    "start_time": "2023-06-30T09:51:24.878Z"
   },
   {
    "duration": 0,
    "start_time": "2023-06-30T09:51:24.879Z"
   },
   {
    "duration": 0,
    "start_time": "2023-06-30T09:51:24.880Z"
   },
   {
    "duration": 0,
    "start_time": "2023-06-30T09:51:24.881Z"
   },
   {
    "duration": 0,
    "start_time": "2023-06-30T09:51:24.882Z"
   },
   {
    "duration": 0,
    "start_time": "2023-06-30T09:51:24.883Z"
   },
   {
    "duration": 0,
    "start_time": "2023-06-30T09:51:24.884Z"
   },
   {
    "duration": 0,
    "start_time": "2023-06-30T09:51:24.884Z"
   },
   {
    "duration": 154,
    "start_time": "2023-06-30T09:54:16.431Z"
   },
   {
    "duration": 203,
    "start_time": "2023-06-30T09:57:35.651Z"
   },
   {
    "duration": 223,
    "start_time": "2023-06-30T09:57:42.399Z"
   },
   {
    "duration": 185,
    "start_time": "2023-06-30T09:57:48.650Z"
   },
   {
    "duration": 1209,
    "start_time": "2023-06-30T09:57:59.116Z"
   },
   {
    "duration": 80,
    "start_time": "2023-06-30T09:58:00.328Z"
   },
   {
    "duration": 32,
    "start_time": "2023-06-30T09:58:00.410Z"
   },
   {
    "duration": 12,
    "start_time": "2023-06-30T09:58:00.444Z"
   },
   {
    "duration": 24,
    "start_time": "2023-06-30T09:58:00.458Z"
   },
   {
    "duration": 23,
    "start_time": "2023-06-30T09:58:00.484Z"
   },
   {
    "duration": 31,
    "start_time": "2023-06-30T09:58:00.508Z"
   },
   {
    "duration": 30,
    "start_time": "2023-06-30T09:58:00.541Z"
   },
   {
    "duration": 38,
    "start_time": "2023-06-30T09:58:00.572Z"
   },
   {
    "duration": 45,
    "start_time": "2023-06-30T09:58:00.615Z"
   },
   {
    "duration": 25,
    "start_time": "2023-06-30T09:58:00.661Z"
   },
   {
    "duration": 39,
    "start_time": "2023-06-30T09:58:00.687Z"
   },
   {
    "duration": 31,
    "start_time": "2023-06-30T09:58:00.728Z"
   },
   {
    "duration": 29,
    "start_time": "2023-06-30T09:58:00.763Z"
   },
   {
    "duration": 37,
    "start_time": "2023-06-30T09:58:00.794Z"
   },
   {
    "duration": 316,
    "start_time": "2023-06-30T09:58:00.832Z"
   },
   {
    "duration": 334,
    "start_time": "2023-06-30T09:58:01.150Z"
   },
   {
    "duration": 183,
    "start_time": "2023-06-30T09:58:01.486Z"
   },
   {
    "duration": 0,
    "start_time": "2023-06-30T09:58:01.670Z"
   },
   {
    "duration": 0,
    "start_time": "2023-06-30T09:58:01.671Z"
   },
   {
    "duration": 0,
    "start_time": "2023-06-30T09:58:01.673Z"
   },
   {
    "duration": 0,
    "start_time": "2023-06-30T09:58:01.674Z"
   },
   {
    "duration": 0,
    "start_time": "2023-06-30T09:58:01.675Z"
   },
   {
    "duration": 0,
    "start_time": "2023-06-30T09:58:01.676Z"
   },
   {
    "duration": 0,
    "start_time": "2023-06-30T09:58:01.677Z"
   },
   {
    "duration": 0,
    "start_time": "2023-06-30T09:58:01.678Z"
   },
   {
    "duration": 0,
    "start_time": "2023-06-30T09:58:01.679Z"
   },
   {
    "duration": 0,
    "start_time": "2023-06-30T09:58:01.680Z"
   },
   {
    "duration": 0,
    "start_time": "2023-06-30T09:58:01.681Z"
   },
   {
    "duration": 161,
    "start_time": "2023-06-30T10:00:43.400Z"
   },
   {
    "duration": 296,
    "start_time": "2023-06-30T10:01:31.643Z"
   },
   {
    "duration": 185,
    "start_time": "2023-06-30T10:01:45.283Z"
   },
   {
    "duration": 234,
    "start_time": "2023-06-30T10:05:04.737Z"
   },
   {
    "duration": 251,
    "start_time": "2023-06-30T10:05:40.297Z"
   },
   {
    "duration": 231,
    "start_time": "2023-06-30T10:05:50.031Z"
   },
   {
    "duration": 303,
    "start_time": "2023-06-30T10:07:10.200Z"
   },
   {
    "duration": 310,
    "start_time": "2023-06-30T10:07:22.092Z"
   },
   {
    "duration": 306,
    "start_time": "2023-06-30T10:07:35.098Z"
   },
   {
    "duration": 99,
    "start_time": "2023-06-30T10:17:48.467Z"
   },
   {
    "duration": 1164,
    "start_time": "2023-06-30T10:17:55.909Z"
   },
   {
    "duration": 89,
    "start_time": "2023-06-30T10:17:57.075Z"
   },
   {
    "duration": 20,
    "start_time": "2023-06-30T10:17:57.166Z"
   },
   {
    "duration": 16,
    "start_time": "2023-06-30T10:17:57.187Z"
   },
   {
    "duration": 9,
    "start_time": "2023-06-30T10:17:57.205Z"
   },
   {
    "duration": 5,
    "start_time": "2023-06-30T10:17:57.216Z"
   },
   {
    "duration": 11,
    "start_time": "2023-06-30T10:17:57.222Z"
   },
   {
    "duration": 43,
    "start_time": "2023-06-30T10:17:57.235Z"
   },
   {
    "duration": 17,
    "start_time": "2023-06-30T10:17:57.280Z"
   },
   {
    "duration": 31,
    "start_time": "2023-06-30T10:17:57.298Z"
   },
   {
    "duration": 40,
    "start_time": "2023-06-30T10:17:57.331Z"
   },
   {
    "duration": 20,
    "start_time": "2023-06-30T10:17:57.373Z"
   },
   {
    "duration": 21,
    "start_time": "2023-06-30T10:17:57.394Z"
   },
   {
    "duration": 11,
    "start_time": "2023-06-30T10:17:57.419Z"
   },
   {
    "duration": 21,
    "start_time": "2023-06-30T10:17:57.432Z"
   },
   {
    "duration": 297,
    "start_time": "2023-06-30T10:17:57.455Z"
   },
   {
    "duration": 291,
    "start_time": "2023-06-30T10:17:57.754Z"
   },
   {
    "duration": 210,
    "start_time": "2023-06-30T10:17:58.047Z"
   },
   {
    "duration": 309,
    "start_time": "2023-06-30T10:17:58.259Z"
   },
   {
    "duration": 106,
    "start_time": "2023-06-30T10:17:58.570Z"
   },
   {
    "duration": 0,
    "start_time": "2023-06-30T10:17:58.678Z"
   },
   {
    "duration": 0,
    "start_time": "2023-06-30T10:17:58.679Z"
   },
   {
    "duration": 0,
    "start_time": "2023-06-30T10:17:58.680Z"
   },
   {
    "duration": 0,
    "start_time": "2023-06-30T10:17:58.681Z"
   },
   {
    "duration": 0,
    "start_time": "2023-06-30T10:17:58.682Z"
   },
   {
    "duration": 0,
    "start_time": "2023-06-30T10:17:58.682Z"
   },
   {
    "duration": 0,
    "start_time": "2023-06-30T10:17:58.683Z"
   },
   {
    "duration": 0,
    "start_time": "2023-06-30T10:17:58.684Z"
   },
   {
    "duration": 0,
    "start_time": "2023-06-30T10:17:58.699Z"
   },
   {
    "duration": 0,
    "start_time": "2023-06-30T10:17:58.700Z"
   },
   {
    "duration": 10,
    "start_time": "2023-06-30T10:18:10.623Z"
   },
   {
    "duration": 15,
    "start_time": "2023-06-30T10:36:10.461Z"
   },
   {
    "duration": 13,
    "start_time": "2023-06-30T10:36:25.728Z"
   },
   {
    "duration": 1615,
    "start_time": "2023-06-30T10:41:41.815Z"
   },
   {
    "duration": 183,
    "start_time": "2023-06-30T10:42:50.911Z"
   },
   {
    "duration": 192,
    "start_time": "2023-06-30T10:44:48.143Z"
   },
   {
    "duration": 205,
    "start_time": "2023-06-30T10:47:06.515Z"
   },
   {
    "duration": 47,
    "start_time": "2023-06-30T14:37:14.761Z"
   },
   {
    "duration": 1258,
    "start_time": "2023-06-30T14:37:21.606Z"
   },
   {
    "duration": 190,
    "start_time": "2023-06-30T14:37:22.866Z"
   },
   {
    "duration": 29,
    "start_time": "2023-06-30T14:37:23.058Z"
   },
   {
    "duration": 28,
    "start_time": "2023-06-30T14:37:23.089Z"
   },
   {
    "duration": 23,
    "start_time": "2023-06-30T14:37:23.119Z"
   },
   {
    "duration": 23,
    "start_time": "2023-06-30T14:37:23.144Z"
   },
   {
    "duration": 37,
    "start_time": "2023-06-30T14:37:23.168Z"
   },
   {
    "duration": 30,
    "start_time": "2023-06-30T14:37:23.207Z"
   },
   {
    "duration": 26,
    "start_time": "2023-06-30T14:37:23.238Z"
   },
   {
    "duration": 18,
    "start_time": "2023-06-30T14:37:23.266Z"
   },
   {
    "duration": 34,
    "start_time": "2023-06-30T14:37:23.286Z"
   },
   {
    "duration": 21,
    "start_time": "2023-06-30T14:37:23.322Z"
   },
   {
    "duration": 20,
    "start_time": "2023-06-30T14:37:23.344Z"
   },
   {
    "duration": 21,
    "start_time": "2023-06-30T14:37:23.367Z"
   },
   {
    "duration": 9,
    "start_time": "2023-06-30T14:37:23.390Z"
   },
   {
    "duration": 273,
    "start_time": "2023-06-30T14:37:23.401Z"
   },
   {
    "duration": 266,
    "start_time": "2023-06-30T14:37:23.676Z"
   },
   {
    "duration": 186,
    "start_time": "2023-06-30T14:37:23.944Z"
   },
   {
    "duration": 322,
    "start_time": "2023-06-30T14:37:24.131Z"
   },
   {
    "duration": 196,
    "start_time": "2023-06-30T14:37:24.455Z"
   },
   {
    "duration": 2590,
    "start_time": "2023-06-30T14:37:24.652Z"
   },
   {
    "duration": 0,
    "start_time": "2023-06-30T14:37:27.244Z"
   },
   {
    "duration": 0,
    "start_time": "2023-06-30T14:37:27.245Z"
   },
   {
    "duration": 0,
    "start_time": "2023-06-30T14:37:27.246Z"
   },
   {
    "duration": 0,
    "start_time": "2023-06-30T14:37:27.246Z"
   },
   {
    "duration": 0,
    "start_time": "2023-06-30T14:37:27.247Z"
   },
   {
    "duration": 0,
    "start_time": "2023-06-30T14:37:27.248Z"
   },
   {
    "duration": 0,
    "start_time": "2023-06-30T14:37:27.249Z"
   },
   {
    "duration": 0,
    "start_time": "2023-06-30T14:37:27.250Z"
   },
   {
    "duration": 0,
    "start_time": "2023-06-30T14:37:27.251Z"
   },
   {
    "duration": 1342,
    "start_time": "2023-06-30T14:37:42.195Z"
   },
   {
    "duration": 1913,
    "start_time": "2023-06-30T14:40:42.038Z"
   },
   {
    "duration": 1519,
    "start_time": "2023-06-30T14:44:49.352Z"
   },
   {
    "duration": 321,
    "start_time": "2023-06-30T14:53:00.263Z"
   },
   {
    "duration": 256,
    "start_time": "2023-06-30T14:56:18.456Z"
   },
   {
    "duration": 174,
    "start_time": "2023-06-30T14:58:46.657Z"
   },
   {
    "duration": 116,
    "start_time": "2023-06-30T14:59:40.622Z"
   },
   {
    "duration": 108,
    "start_time": "2023-06-30T15:01:40.526Z"
   },
   {
    "duration": 104,
    "start_time": "2023-06-30T15:03:53.867Z"
   },
   {
    "duration": 897,
    "start_time": "2023-06-30T15:05:18.020Z"
   },
   {
    "duration": 8,
    "start_time": "2023-06-30T15:07:47.469Z"
   },
   {
    "duration": 108,
    "start_time": "2023-06-30T15:07:54.440Z"
   },
   {
    "duration": 430,
    "start_time": "2023-06-30T15:08:41.589Z"
   },
   {
    "duration": 363,
    "start_time": "2023-06-30T15:08:46.210Z"
   },
   {
    "duration": 389,
    "start_time": "2023-06-30T15:09:01.015Z"
   },
   {
    "duration": 200,
    "start_time": "2023-06-30T15:09:17.723Z"
   },
   {
    "duration": 114,
    "start_time": "2023-06-30T15:10:09.214Z"
   },
   {
    "duration": 142,
    "start_time": "2023-06-30T15:10:16.642Z"
   },
   {
    "duration": 110,
    "start_time": "2023-06-30T15:10:27.252Z"
   },
   {
    "duration": 93,
    "start_time": "2023-06-30T15:15:42.264Z"
   },
   {
    "duration": 8,
    "start_time": "2023-06-30T15:15:49.044Z"
   },
   {
    "duration": 9,
    "start_time": "2023-06-30T15:16:00.223Z"
   },
   {
    "duration": 8,
    "start_time": "2023-06-30T15:16:28.141Z"
   },
   {
    "duration": 8,
    "start_time": "2023-06-30T15:16:30.405Z"
   },
   {
    "duration": 9,
    "start_time": "2023-06-30T15:16:34.513Z"
   },
   {
    "duration": 8,
    "start_time": "2023-06-30T15:17:11.254Z"
   },
   {
    "duration": 1270,
    "start_time": "2023-06-30T15:17:17.108Z"
   },
   {
    "duration": 75,
    "start_time": "2023-06-30T15:17:18.380Z"
   },
   {
    "duration": 21,
    "start_time": "2023-06-30T15:17:18.457Z"
   },
   {
    "duration": 17,
    "start_time": "2023-06-30T15:17:18.480Z"
   },
   {
    "duration": 21,
    "start_time": "2023-06-30T15:17:18.499Z"
   },
   {
    "duration": 7,
    "start_time": "2023-06-30T15:17:18.522Z"
   },
   {
    "duration": 13,
    "start_time": "2023-06-30T15:17:18.530Z"
   },
   {
    "duration": 10,
    "start_time": "2023-06-30T15:17:18.544Z"
   },
   {
    "duration": 11,
    "start_time": "2023-06-30T15:17:18.555Z"
   },
   {
    "duration": 24,
    "start_time": "2023-06-30T15:17:18.568Z"
   },
   {
    "duration": 5,
    "start_time": "2023-06-30T15:17:18.593Z"
   },
   {
    "duration": 20,
    "start_time": "2023-06-30T15:17:18.600Z"
   },
   {
    "duration": 11,
    "start_time": "2023-06-30T15:17:18.622Z"
   },
   {
    "duration": 18,
    "start_time": "2023-06-30T15:17:18.634Z"
   },
   {
    "duration": 6,
    "start_time": "2023-06-30T15:17:18.654Z"
   },
   {
    "duration": 267,
    "start_time": "2023-06-30T15:17:18.661Z"
   },
   {
    "duration": 286,
    "start_time": "2023-06-30T15:17:18.930Z"
   },
   {
    "duration": 199,
    "start_time": "2023-06-30T15:17:19.218Z"
   },
   {
    "duration": 293,
    "start_time": "2023-06-30T15:17:19.419Z"
   },
   {
    "duration": 229,
    "start_time": "2023-06-30T15:17:19.714Z"
   },
   {
    "duration": 276,
    "start_time": "2023-06-30T15:17:19.944Z"
   },
   {
    "duration": 111,
    "start_time": "2023-06-30T15:17:20.222Z"
   },
   {
    "duration": 0,
    "start_time": "2023-06-30T15:17:20.334Z"
   },
   {
    "duration": 0,
    "start_time": "2023-06-30T15:17:20.336Z"
   },
   {
    "duration": 0,
    "start_time": "2023-06-30T15:17:20.337Z"
   },
   {
    "duration": 0,
    "start_time": "2023-06-30T15:17:20.338Z"
   },
   {
    "duration": 0,
    "start_time": "2023-06-30T15:17:20.339Z"
   },
   {
    "duration": 1,
    "start_time": "2023-06-30T15:17:20.340Z"
   },
   {
    "duration": 0,
    "start_time": "2023-06-30T15:17:20.342Z"
   },
   {
    "duration": 0,
    "start_time": "2023-06-30T15:17:20.343Z"
   },
   {
    "duration": 0,
    "start_time": "2023-06-30T15:17:20.344Z"
   },
   {
    "duration": 13,
    "start_time": "2023-06-30T15:17:42.119Z"
   },
   {
    "duration": 17,
    "start_time": "2023-06-30T15:17:51.910Z"
   },
   {
    "duration": 1589,
    "start_time": "2023-06-30T15:18:00.178Z"
   },
   {
    "duration": 248,
    "start_time": "2023-06-30T15:20:08.734Z"
   },
   {
    "duration": 3,
    "start_time": "2023-06-30T15:24:15.580Z"
   },
   {
    "duration": 5,
    "start_time": "2023-06-30T15:26:29.629Z"
   },
   {
    "duration": 8,
    "start_time": "2023-06-30T15:30:02.635Z"
   },
   {
    "duration": 204,
    "start_time": "2023-06-30T15:30:07.433Z"
   },
   {
    "duration": 294,
    "start_time": "2023-06-30T15:30:27.364Z"
   },
   {
    "duration": 167,
    "start_time": "2023-06-30T15:31:17.077Z"
   },
   {
    "duration": 198,
    "start_time": "2023-06-30T15:31:27.464Z"
   },
   {
    "duration": 144,
    "start_time": "2023-06-30T15:32:39.324Z"
   },
   {
    "duration": 164,
    "start_time": "2023-06-30T15:33:52.766Z"
   },
   {
    "duration": 152,
    "start_time": "2023-06-30T15:33:58.426Z"
   },
   {
    "duration": 285,
    "start_time": "2023-06-30T15:34:15.428Z"
   },
   {
    "duration": 157,
    "start_time": "2023-06-30T15:34:45.272Z"
   },
   {
    "duration": 167,
    "start_time": "2023-06-30T15:34:59.472Z"
   },
   {
    "duration": 196,
    "start_time": "2023-06-30T15:38:02.768Z"
   },
   {
    "duration": 211,
    "start_time": "2023-06-30T15:38:11.127Z"
   },
   {
    "duration": 5,
    "start_time": "2023-06-30T15:40:44.323Z"
   },
   {
    "duration": 14,
    "start_time": "2023-06-30T15:47:21.811Z"
   },
   {
    "duration": 122,
    "start_time": "2023-06-30T15:48:00.846Z"
   },
   {
    "duration": 90,
    "start_time": "2023-06-30T15:54:13.391Z"
   },
   {
    "duration": 94,
    "start_time": "2023-06-30T15:55:03.559Z"
   },
   {
    "duration": 95,
    "start_time": "2023-06-30T15:56:08.869Z"
   },
   {
    "duration": 182,
    "start_time": "2023-06-30T15:56:57.630Z"
   },
   {
    "duration": 124,
    "start_time": "2023-06-30T15:57:32.635Z"
   },
   {
    "duration": 6,
    "start_time": "2023-06-30T15:57:34.106Z"
   },
   {
    "duration": 7,
    "start_time": "2023-06-30T15:58:37.057Z"
   },
   {
    "duration": 14,
    "start_time": "2023-06-30T15:59:16.247Z"
   },
   {
    "duration": 135,
    "start_time": "2023-06-30T16:00:32.697Z"
   },
   {
    "duration": 140,
    "start_time": "2023-06-30T16:01:14.315Z"
   },
   {
    "duration": 9,
    "start_time": "2023-06-30T16:14:27.158Z"
   },
   {
    "duration": 9,
    "start_time": "2023-06-30T16:14:34.865Z"
   },
   {
    "duration": 2176,
    "start_time": "2023-06-30T16:24:52.153Z"
   },
   {
    "duration": 2803,
    "start_time": "2023-06-30T16:25:18.018Z"
   },
   {
    "duration": 2177,
    "start_time": "2023-06-30T16:26:05.172Z"
   },
   {
    "duration": 118,
    "start_time": "2023-06-30T16:26:07.358Z"
   },
   {
    "duration": 49,
    "start_time": "2023-06-30T16:26:07.477Z"
   },
   {
    "duration": 58,
    "start_time": "2023-06-30T16:26:07.538Z"
   },
   {
    "duration": 86,
    "start_time": "2023-06-30T16:26:07.612Z"
   },
   {
    "duration": 59,
    "start_time": "2023-06-30T16:26:07.699Z"
   },
   {
    "duration": 19,
    "start_time": "2023-06-30T16:26:07.760Z"
   },
   {
    "duration": 38,
    "start_time": "2023-06-30T16:26:07.781Z"
   },
   {
    "duration": 58,
    "start_time": "2023-06-30T16:26:07.820Z"
   },
   {
    "duration": 41,
    "start_time": "2023-06-30T16:26:07.880Z"
   },
   {
    "duration": 63,
    "start_time": "2023-06-30T16:26:07.922Z"
   },
   {
    "duration": 12,
    "start_time": "2023-06-30T16:26:07.986Z"
   },
   {
    "duration": 67,
    "start_time": "2023-06-30T16:26:08.007Z"
   },
   {
    "duration": 14,
    "start_time": "2023-06-30T16:26:08.078Z"
   },
   {
    "duration": 42,
    "start_time": "2023-06-30T16:26:08.095Z"
   },
   {
    "duration": 408,
    "start_time": "2023-06-30T16:26:08.140Z"
   },
   {
    "duration": 487,
    "start_time": "2023-06-30T16:26:08.550Z"
   },
   {
    "duration": 304,
    "start_time": "2023-06-30T16:26:09.054Z"
   },
   {
    "duration": 273,
    "start_time": "2023-06-30T16:26:09.359Z"
   },
   {
    "duration": 234,
    "start_time": "2023-06-30T16:26:09.636Z"
   },
   {
    "duration": 349,
    "start_time": "2023-06-30T16:26:09.872Z"
   },
   {
    "duration": 361,
    "start_time": "2023-06-30T16:26:10.223Z"
   },
   {
    "duration": 5,
    "start_time": "2023-06-30T16:26:10.587Z"
   },
   {
    "duration": 288,
    "start_time": "2023-06-30T16:26:10.594Z"
   },
   {
    "duration": 314,
    "start_time": "2023-06-30T16:26:10.884Z"
   },
   {
    "duration": 24,
    "start_time": "2023-06-30T16:26:11.199Z"
   },
   {
    "duration": 270,
    "start_time": "2023-06-30T16:26:11.224Z"
   },
   {
    "duration": 202,
    "start_time": "2023-06-30T16:26:11.496Z"
   },
   {
    "duration": 18,
    "start_time": "2023-06-30T16:26:11.699Z"
   },
   {
    "duration": 42,
    "start_time": "2023-06-30T16:26:11.718Z"
   },
   {
    "duration": 204,
    "start_time": "2023-06-30T16:26:11.763Z"
   },
   {
    "duration": 11,
    "start_time": "2023-06-30T16:26:11.969Z"
   },
   {
    "duration": 3206,
    "start_time": "2023-06-30T16:26:11.982Z"
   },
   {
    "duration": 0,
    "start_time": "2023-06-30T16:26:15.189Z"
   },
   {
    "duration": 0,
    "start_time": "2023-06-30T16:26:15.190Z"
   },
   {
    "duration": 2368,
    "start_time": "2023-06-30T16:27:20.791Z"
   },
   {
    "duration": 16,
    "start_time": "2023-06-30T16:27:52.643Z"
   },
   {
    "duration": 32,
    "start_time": "2023-06-30T16:31:16.189Z"
   },
   {
    "duration": 48,
    "start_time": "2023-06-30T16:31:22.016Z"
   },
   {
    "duration": 14,
    "start_time": "2023-06-30T16:41:13.544Z"
   },
   {
    "duration": 2801,
    "start_time": "2023-06-30T16:41:24.486Z"
   },
   {
    "duration": 2723,
    "start_time": "2023-06-30T16:41:28.538Z"
   },
   {
    "duration": 16,
    "start_time": "2023-06-30T16:43:07.464Z"
   },
   {
    "duration": 1493,
    "start_time": "2023-06-30T16:55:11.032Z"
   },
   {
    "duration": 134,
    "start_time": "2023-06-30T16:55:12.538Z"
   },
   {
    "duration": 23,
    "start_time": "2023-06-30T16:55:12.673Z"
   },
   {
    "duration": 27,
    "start_time": "2023-06-30T16:55:12.698Z"
   },
   {
    "duration": 42,
    "start_time": "2023-06-30T16:55:12.737Z"
   },
   {
    "duration": 7,
    "start_time": "2023-06-30T16:55:12.780Z"
   },
   {
    "duration": 41,
    "start_time": "2023-06-30T16:55:12.788Z"
   },
   {
    "duration": 39,
    "start_time": "2023-06-30T16:55:12.846Z"
   },
   {
    "duration": 10,
    "start_time": "2023-06-30T16:55:12.887Z"
   },
   {
    "duration": 85,
    "start_time": "2023-06-30T16:55:12.900Z"
   },
   {
    "duration": 6,
    "start_time": "2023-06-30T16:55:12.990Z"
   },
   {
    "duration": 61,
    "start_time": "2023-06-30T16:55:12.997Z"
   },
   {
    "duration": 20,
    "start_time": "2023-06-30T16:55:13.060Z"
   },
   {
    "duration": 17,
    "start_time": "2023-06-30T16:55:13.086Z"
   },
   {
    "duration": 73,
    "start_time": "2023-06-30T16:55:13.104Z"
   },
   {
    "duration": 410,
    "start_time": "2023-06-30T16:55:13.179Z"
   },
   {
    "duration": 412,
    "start_time": "2023-06-30T16:55:13.591Z"
   },
   {
    "duration": 236,
    "start_time": "2023-06-30T16:55:14.004Z"
   },
   {
    "duration": 368,
    "start_time": "2023-06-30T16:55:14.241Z"
   },
   {
    "duration": 288,
    "start_time": "2023-06-30T16:55:14.610Z"
   },
   {
    "duration": 366,
    "start_time": "2023-06-30T16:55:14.914Z"
   },
   {
    "duration": 378,
    "start_time": "2023-06-30T16:55:15.281Z"
   },
   {
    "duration": 5,
    "start_time": "2023-06-30T16:55:15.660Z"
   },
   {
    "duration": 261,
    "start_time": "2023-06-30T16:55:15.667Z"
   },
   {
    "duration": 352,
    "start_time": "2023-06-30T16:55:15.930Z"
   },
   {
    "duration": 4,
    "start_time": "2023-06-30T16:55:16.286Z"
   },
   {
    "duration": 393,
    "start_time": "2023-06-30T16:55:16.292Z"
   },
   {
    "duration": 234,
    "start_time": "2023-06-30T16:55:16.693Z"
   },
   {
    "duration": 7,
    "start_time": "2023-06-30T16:55:16.929Z"
   },
   {
    "duration": 49,
    "start_time": "2023-06-30T16:55:16.938Z"
   },
   {
    "duration": 232,
    "start_time": "2023-06-30T16:55:16.989Z"
   },
   {
    "duration": 9,
    "start_time": "2023-06-30T16:55:17.223Z"
   },
   {
    "duration": 49,
    "start_time": "2023-06-30T16:55:17.233Z"
   },
   {
    "duration": 71,
    "start_time": "2023-06-30T16:55:17.284Z"
   },
   {
    "duration": 21,
    "start_time": "2023-06-30T16:55:17.357Z"
   },
   {
    "duration": 1224,
    "start_time": "2023-06-30T17:06:00.133Z"
   },
   {
    "duration": 118,
    "start_time": "2023-06-30T17:06:01.360Z"
   },
   {
    "duration": 48,
    "start_time": "2023-06-30T17:06:01.480Z"
   },
   {
    "duration": 56,
    "start_time": "2023-06-30T17:06:01.530Z"
   },
   {
    "duration": 76,
    "start_time": "2023-06-30T17:06:01.588Z"
   },
   {
    "duration": 32,
    "start_time": "2023-06-30T17:06:01.666Z"
   },
   {
    "duration": 111,
    "start_time": "2023-06-30T17:06:01.702Z"
   },
   {
    "duration": 66,
    "start_time": "2023-06-30T17:06:01.822Z"
   },
   {
    "duration": 50,
    "start_time": "2023-06-30T17:06:01.891Z"
   },
   {
    "duration": 91,
    "start_time": "2023-06-30T17:06:01.942Z"
   },
   {
    "duration": 47,
    "start_time": "2023-06-30T17:06:02.035Z"
   },
   {
    "duration": 78,
    "start_time": "2023-06-30T17:06:02.084Z"
   },
   {
    "duration": 23,
    "start_time": "2023-06-30T17:06:02.166Z"
   },
   {
    "duration": 82,
    "start_time": "2023-06-30T17:06:02.191Z"
   },
   {
    "duration": 78,
    "start_time": "2023-06-30T17:06:02.275Z"
   },
   {
    "duration": 425,
    "start_time": "2023-06-30T17:06:02.354Z"
   },
   {
    "duration": 349,
    "start_time": "2023-06-30T17:06:02.781Z"
   },
   {
    "duration": 235,
    "start_time": "2023-06-30T17:06:03.132Z"
   },
   {
    "duration": 361,
    "start_time": "2023-06-30T17:06:03.368Z"
   },
   {
    "duration": 264,
    "start_time": "2023-06-30T17:06:03.731Z"
   },
   {
    "duration": 365,
    "start_time": "2023-06-30T17:06:03.997Z"
   },
   {
    "duration": 308,
    "start_time": "2023-06-30T17:06:04.364Z"
   },
   {
    "duration": 4,
    "start_time": "2023-06-30T17:06:04.674Z"
   },
   {
    "duration": 290,
    "start_time": "2023-06-30T17:06:04.680Z"
   },
   {
    "duration": 307,
    "start_time": "2023-06-30T17:06:04.975Z"
   },
   {
    "duration": 5,
    "start_time": "2023-06-30T17:06:05.284Z"
   },
   {
    "duration": 370,
    "start_time": "2023-06-30T17:06:05.291Z"
   },
   {
    "duration": 162,
    "start_time": "2023-06-30T17:06:05.662Z"
   },
   {
    "duration": 16,
    "start_time": "2023-06-30T17:06:05.825Z"
   },
   {
    "duration": 29,
    "start_time": "2023-06-30T17:06:05.842Z"
   },
   {
    "duration": 218,
    "start_time": "2023-06-30T17:06:05.872Z"
   },
   {
    "duration": 46,
    "start_time": "2023-06-30T17:06:06.092Z"
   },
   {
    "duration": 99,
    "start_time": "2023-06-30T17:06:06.142Z"
   },
   {
    "duration": 117,
    "start_time": "2023-06-30T17:06:06.246Z"
   },
   {
    "duration": 24,
    "start_time": "2023-06-30T17:06:06.365Z"
   },
   {
    "duration": 179,
    "start_time": "2023-06-30T17:12:31.647Z"
   },
   {
    "duration": 90,
    "start_time": "2023-07-03T09:01:37.649Z"
   },
   {
    "duration": 81,
    "start_time": "2023-07-03T09:01:50.542Z"
   },
   {
    "duration": 0,
    "start_time": "2023-07-03T09:01:50.625Z"
   },
   {
    "duration": 0,
    "start_time": "2023-07-03T09:01:50.627Z"
   },
   {
    "duration": 0,
    "start_time": "2023-07-03T09:01:50.628Z"
   },
   {
    "duration": 0,
    "start_time": "2023-07-03T09:01:50.629Z"
   },
   {
    "duration": 0,
    "start_time": "2023-07-03T09:01:50.629Z"
   },
   {
    "duration": 0,
    "start_time": "2023-07-03T09:01:50.631Z"
   },
   {
    "duration": 0,
    "start_time": "2023-07-03T09:01:50.632Z"
   },
   {
    "duration": 0,
    "start_time": "2023-07-03T09:01:50.634Z"
   },
   {
    "duration": 0,
    "start_time": "2023-07-03T09:01:50.636Z"
   },
   {
    "duration": 0,
    "start_time": "2023-07-03T09:01:50.637Z"
   },
   {
    "duration": 0,
    "start_time": "2023-07-03T09:01:50.639Z"
   },
   {
    "duration": 0,
    "start_time": "2023-07-03T09:01:50.640Z"
   },
   {
    "duration": 0,
    "start_time": "2023-07-03T09:01:50.642Z"
   },
   {
    "duration": 0,
    "start_time": "2023-07-03T09:01:50.644Z"
   },
   {
    "duration": 0,
    "start_time": "2023-07-03T09:01:50.645Z"
   },
   {
    "duration": 0,
    "start_time": "2023-07-03T09:01:50.646Z"
   },
   {
    "duration": 0,
    "start_time": "2023-07-03T09:01:50.648Z"
   },
   {
    "duration": 0,
    "start_time": "2023-07-03T09:01:50.649Z"
   },
   {
    "duration": 0,
    "start_time": "2023-07-03T09:01:50.651Z"
   },
   {
    "duration": 0,
    "start_time": "2023-07-03T09:01:50.651Z"
   },
   {
    "duration": 0,
    "start_time": "2023-07-03T09:01:50.652Z"
   },
   {
    "duration": 0,
    "start_time": "2023-07-03T09:01:50.653Z"
   },
   {
    "duration": 0,
    "start_time": "2023-07-03T09:01:50.654Z"
   },
   {
    "duration": 0,
    "start_time": "2023-07-03T09:01:50.655Z"
   },
   {
    "duration": 0,
    "start_time": "2023-07-03T09:01:50.668Z"
   },
   {
    "duration": 0,
    "start_time": "2023-07-03T09:01:50.669Z"
   },
   {
    "duration": 0,
    "start_time": "2023-07-03T09:01:50.670Z"
   },
   {
    "duration": 0,
    "start_time": "2023-07-03T09:01:50.671Z"
   },
   {
    "duration": 0,
    "start_time": "2023-07-03T09:01:50.672Z"
   },
   {
    "duration": 0,
    "start_time": "2023-07-03T09:01:50.673Z"
   },
   {
    "duration": 0,
    "start_time": "2023-07-03T09:01:50.674Z"
   },
   {
    "duration": 0,
    "start_time": "2023-07-03T09:01:50.675Z"
   },
   {
    "duration": 0,
    "start_time": "2023-07-03T09:01:50.677Z"
   },
   {
    "duration": 107,
    "start_time": "2023-07-03T09:01:50.680Z"
   },
   {
    "duration": 0,
    "start_time": "2023-07-03T09:01:50.788Z"
   },
   {
    "duration": 74,
    "start_time": "2023-07-03T09:02:09.601Z"
   },
   {
    "duration": 54,
    "start_time": "2023-07-03T11:27:57.049Z"
   },
   {
    "duration": 1427,
    "start_time": "2023-07-03T11:28:03.871Z"
   },
   {
    "duration": 192,
    "start_time": "2023-07-03T11:28:05.300Z"
   },
   {
    "duration": 22,
    "start_time": "2023-07-03T11:28:05.494Z"
   },
   {
    "duration": 6,
    "start_time": "2023-07-03T11:28:05.518Z"
   },
   {
    "duration": 34,
    "start_time": "2023-07-03T11:28:05.526Z"
   },
   {
    "duration": 20,
    "start_time": "2023-07-03T11:28:05.562Z"
   },
   {
    "duration": 25,
    "start_time": "2023-07-03T11:28:05.584Z"
   },
   {
    "duration": 21,
    "start_time": "2023-07-03T11:28:05.611Z"
   },
   {
    "duration": 7,
    "start_time": "2023-07-03T11:28:05.634Z"
   },
   {
    "duration": 17,
    "start_time": "2023-07-03T11:28:05.643Z"
   },
   {
    "duration": 13,
    "start_time": "2023-07-03T11:28:05.661Z"
   },
   {
    "duration": 14,
    "start_time": "2023-07-03T11:28:05.677Z"
   },
   {
    "duration": 17,
    "start_time": "2023-07-03T11:28:05.693Z"
   },
   {
    "duration": 22,
    "start_time": "2023-07-03T11:28:05.713Z"
   },
   {
    "duration": 20,
    "start_time": "2023-07-03T11:28:05.736Z"
   },
   {
    "duration": 296,
    "start_time": "2023-07-03T11:28:05.757Z"
   },
   {
    "duration": 279,
    "start_time": "2023-07-03T11:28:06.055Z"
   },
   {
    "duration": 224,
    "start_time": "2023-07-03T11:28:06.336Z"
   },
   {
    "duration": 338,
    "start_time": "2023-07-03T11:28:06.561Z"
   },
   {
    "duration": 218,
    "start_time": "2023-07-03T11:28:06.900Z"
   },
   {
    "duration": 296,
    "start_time": "2023-07-03T11:28:07.120Z"
   },
   {
    "duration": 311,
    "start_time": "2023-07-03T11:28:07.418Z"
   },
   {
    "duration": 4,
    "start_time": "2023-07-03T11:28:07.731Z"
   },
   {
    "duration": 273,
    "start_time": "2023-07-03T11:28:07.737Z"
   },
   {
    "duration": 280,
    "start_time": "2023-07-03T11:28:08.012Z"
   },
   {
    "duration": 6,
    "start_time": "2023-07-03T11:28:08.294Z"
   },
   {
    "duration": 215,
    "start_time": "2023-07-03T11:28:08.301Z"
   },
   {
    "duration": 161,
    "start_time": "2023-07-03T11:28:08.518Z"
   },
   {
    "duration": 9,
    "start_time": "2023-07-03T11:28:08.682Z"
   },
   {
    "duration": 11,
    "start_time": "2023-07-03T11:28:08.693Z"
   },
   {
    "duration": 155,
    "start_time": "2023-07-03T11:28:08.705Z"
   },
   {
    "duration": 18,
    "start_time": "2023-07-03T11:28:08.862Z"
   },
   {
    "duration": 11,
    "start_time": "2023-07-03T11:28:08.881Z"
   },
   {
    "duration": 28,
    "start_time": "2023-07-03T11:28:08.894Z"
   },
   {
    "duration": 12,
    "start_time": "2023-07-03T11:28:08.923Z"
   },
   {
    "duration": 6,
    "start_time": "2023-07-03T11:29:25.590Z"
   },
   {
    "duration": 5,
    "start_time": "2023-07-03T11:29:40.657Z"
   },
   {
    "duration": 1126,
    "start_time": "2023-07-03T11:29:55.333Z"
   },
   {
    "duration": 86,
    "start_time": "2023-07-03T11:29:56.461Z"
   },
   {
    "duration": 24,
    "start_time": "2023-07-03T11:29:56.549Z"
   },
   {
    "duration": 11,
    "start_time": "2023-07-03T11:29:56.575Z"
   },
   {
    "duration": 6,
    "start_time": "2023-07-03T11:29:56.587Z"
   },
   {
    "duration": 5,
    "start_time": "2023-07-03T11:29:56.594Z"
   },
   {
    "duration": 7,
    "start_time": "2023-07-03T11:29:56.600Z"
   },
   {
    "duration": 10,
    "start_time": "2023-07-03T11:29:56.608Z"
   },
   {
    "duration": 6,
    "start_time": "2023-07-03T11:29:56.620Z"
   },
   {
    "duration": 49,
    "start_time": "2023-07-03T11:29:56.629Z"
   },
   {
    "duration": 5,
    "start_time": "2023-07-03T11:29:56.682Z"
   },
   {
    "duration": 12,
    "start_time": "2023-07-03T11:29:56.689Z"
   },
   {
    "duration": 9,
    "start_time": "2023-07-03T11:29:56.702Z"
   },
   {
    "duration": 10,
    "start_time": "2023-07-03T11:29:56.712Z"
   },
   {
    "duration": 8,
    "start_time": "2023-07-03T11:29:56.723Z"
   },
   {
    "duration": 300,
    "start_time": "2023-07-03T11:29:56.733Z"
   },
   {
    "duration": 291,
    "start_time": "2023-07-03T11:29:57.035Z"
   },
   {
    "duration": 195,
    "start_time": "2023-07-03T11:29:57.328Z"
   },
   {
    "duration": 291,
    "start_time": "2023-07-03T11:29:57.525Z"
   },
   {
    "duration": 224,
    "start_time": "2023-07-03T11:29:57.817Z"
   },
   {
    "duration": 341,
    "start_time": "2023-07-03T11:29:58.044Z"
   },
   {
    "duration": 270,
    "start_time": "2023-07-03T11:29:58.386Z"
   },
   {
    "duration": 4,
    "start_time": "2023-07-03T11:29:58.657Z"
   },
   {
    "duration": 164,
    "start_time": "2023-07-03T11:29:58.668Z"
   },
   {
    "duration": 278,
    "start_time": "2023-07-03T11:29:58.833Z"
   },
   {
    "duration": 4,
    "start_time": "2023-07-03T11:29:59.113Z"
   },
   {
    "duration": 207,
    "start_time": "2023-07-03T11:29:59.119Z"
   },
   {
    "duration": 119,
    "start_time": "2023-07-03T11:29:59.329Z"
   },
   {
    "duration": 5,
    "start_time": "2023-07-03T11:29:59.450Z"
   },
   {
    "duration": 19,
    "start_time": "2023-07-03T11:29:59.457Z"
   },
   {
    "duration": 155,
    "start_time": "2023-07-03T11:29:59.479Z"
   },
   {
    "duration": 8,
    "start_time": "2023-07-03T11:29:59.636Z"
   },
   {
    "duration": 8,
    "start_time": "2023-07-03T11:29:59.645Z"
   },
   {
    "duration": 27,
    "start_time": "2023-07-03T11:29:59.667Z"
   },
   {
    "duration": 14,
    "start_time": "2023-07-03T11:29:59.695Z"
   },
   {
    "duration": 10,
    "start_time": "2023-07-03T11:30:13.604Z"
   },
   {
    "duration": 6,
    "start_time": "2023-07-03T11:30:19.862Z"
   },
   {
    "duration": 7,
    "start_time": "2023-07-03T11:31:41.546Z"
   },
   {
    "duration": 1171,
    "start_time": "2023-07-03T11:31:51.406Z"
   },
   {
    "duration": 75,
    "start_time": "2023-07-03T11:31:52.580Z"
   },
   {
    "duration": 22,
    "start_time": "2023-07-03T11:31:52.657Z"
   },
   {
    "duration": 19,
    "start_time": "2023-07-03T11:31:52.681Z"
   },
   {
    "duration": 13,
    "start_time": "2023-07-03T11:31:52.702Z"
   },
   {
    "duration": 4,
    "start_time": "2023-07-03T11:31:52.716Z"
   },
   {
    "duration": 8,
    "start_time": "2023-07-03T11:31:52.722Z"
   },
   {
    "duration": 17,
    "start_time": "2023-07-03T11:31:52.731Z"
   },
   {
    "duration": 21,
    "start_time": "2023-07-03T11:31:52.749Z"
   },
   {
    "duration": 23,
    "start_time": "2023-07-03T11:31:52.774Z"
   },
   {
    "duration": 7,
    "start_time": "2023-07-03T11:31:52.799Z"
   },
   {
    "duration": 22,
    "start_time": "2023-07-03T11:31:52.807Z"
   },
   {
    "duration": 10,
    "start_time": "2023-07-03T11:31:52.830Z"
   },
   {
    "duration": 12,
    "start_time": "2023-07-03T11:31:52.867Z"
   },
   {
    "duration": 12,
    "start_time": "2023-07-03T11:31:52.881Z"
   },
   {
    "duration": 338,
    "start_time": "2023-07-03T11:31:52.895Z"
   },
   {
    "duration": 312,
    "start_time": "2023-07-03T11:31:53.235Z"
   },
   {
    "duration": 208,
    "start_time": "2023-07-03T11:31:53.548Z"
   },
   {
    "duration": 367,
    "start_time": "2023-07-03T11:31:53.758Z"
   },
   {
    "duration": 266,
    "start_time": "2023-07-03T11:31:54.127Z"
   },
   {
    "duration": 321,
    "start_time": "2023-07-03T11:31:54.395Z"
   },
   {
    "duration": 278,
    "start_time": "2023-07-03T11:31:54.717Z"
   },
   {
    "duration": 4,
    "start_time": "2023-07-03T11:31:54.997Z"
   },
   {
    "duration": 190,
    "start_time": "2023-07-03T11:31:55.002Z"
   },
   {
    "duration": 298,
    "start_time": "2023-07-03T11:31:55.194Z"
   },
   {
    "duration": 4,
    "start_time": "2023-07-03T11:31:55.493Z"
   },
   {
    "duration": 209,
    "start_time": "2023-07-03T11:31:55.499Z"
   },
   {
    "duration": 147,
    "start_time": "2023-07-03T11:31:55.711Z"
   },
   {
    "duration": 9,
    "start_time": "2023-07-03T11:31:55.860Z"
   },
   {
    "duration": 8,
    "start_time": "2023-07-03T11:31:55.872Z"
   },
   {
    "duration": 165,
    "start_time": "2023-07-03T11:31:55.881Z"
   },
   {
    "duration": 20,
    "start_time": "2023-07-03T11:31:56.048Z"
   },
   {
    "duration": 8,
    "start_time": "2023-07-03T11:31:56.070Z"
   },
   {
    "duration": 33,
    "start_time": "2023-07-03T11:31:56.079Z"
   },
   {
    "duration": 12,
    "start_time": "2023-07-03T11:31:56.113Z"
   },
   {
    "duration": 71,
    "start_time": "2023-07-03T11:33:16.833Z"
   },
   {
    "duration": 9,
    "start_time": "2023-07-03T11:33:27.283Z"
   },
   {
    "duration": 112,
    "start_time": "2023-07-03T11:33:46.981Z"
   },
   {
    "duration": 8,
    "start_time": "2023-07-03T11:37:26.309Z"
   },
   {
    "duration": 8,
    "start_time": "2023-07-03T11:40:26.363Z"
   },
   {
    "duration": 8,
    "start_time": "2023-07-03T11:40:34.621Z"
   },
   {
    "duration": 4,
    "start_time": "2023-07-03T11:40:53.848Z"
   },
   {
    "duration": 4,
    "start_time": "2023-07-03T11:40:59.257Z"
   },
   {
    "duration": 4,
    "start_time": "2023-07-03T11:41:09.816Z"
   },
   {
    "duration": 9,
    "start_time": "2023-07-03T11:41:21.571Z"
   },
   {
    "duration": 4,
    "start_time": "2023-07-03T11:41:27.280Z"
   },
   {
    "duration": 9,
    "start_time": "2023-07-03T11:41:31.715Z"
   },
   {
    "duration": 3,
    "start_time": "2023-07-03T11:44:19.314Z"
   },
   {
    "duration": 5,
    "start_time": "2023-07-03T11:44:34.058Z"
   },
   {
    "duration": 4,
    "start_time": "2023-07-03T11:44:49.814Z"
   },
   {
    "duration": 4,
    "start_time": "2023-07-03T11:44:59.873Z"
   },
   {
    "duration": 4,
    "start_time": "2023-07-03T11:45:13.046Z"
   },
   {
    "duration": 3,
    "start_time": "2023-07-03T11:45:16.761Z"
   },
   {
    "duration": 63,
    "start_time": "2023-07-03T11:45:28.189Z"
   },
   {
    "duration": 7,
    "start_time": "2023-07-03T11:45:36.346Z"
   },
   {
    "duration": 71,
    "start_time": "2023-07-03T12:00:49.303Z"
   },
   {
    "duration": 4,
    "start_time": "2023-07-03T12:28:12.932Z"
   },
   {
    "duration": 1080,
    "start_time": "2023-07-03T12:28:26.613Z"
   },
   {
    "duration": 77,
    "start_time": "2023-07-03T12:28:27.695Z"
   },
   {
    "duration": 22,
    "start_time": "2023-07-03T12:28:27.774Z"
   },
   {
    "duration": 5,
    "start_time": "2023-07-03T12:28:27.798Z"
   },
   {
    "duration": 35,
    "start_time": "2023-07-03T12:28:27.804Z"
   },
   {
    "duration": 8,
    "start_time": "2023-07-03T12:28:27.840Z"
   },
   {
    "duration": 10,
    "start_time": "2023-07-03T12:28:27.849Z"
   },
   {
    "duration": 14,
    "start_time": "2023-07-03T12:28:27.861Z"
   },
   {
    "duration": 21,
    "start_time": "2023-07-03T12:28:27.877Z"
   },
   {
    "duration": 23,
    "start_time": "2023-07-03T12:28:27.900Z"
   },
   {
    "duration": 5,
    "start_time": "2023-07-03T12:28:27.925Z"
   },
   {
    "duration": 10,
    "start_time": "2023-07-03T12:28:27.931Z"
   },
   {
    "duration": 0,
    "start_time": "2023-07-03T12:28:27.942Z"
   },
   {
    "duration": 0,
    "start_time": "2023-07-03T12:28:27.943Z"
   },
   {
    "duration": 0,
    "start_time": "2023-07-03T12:28:27.944Z"
   },
   {
    "duration": 0,
    "start_time": "2023-07-03T12:28:27.945Z"
   },
   {
    "duration": 0,
    "start_time": "2023-07-03T12:28:27.946Z"
   },
   {
    "duration": 1,
    "start_time": "2023-07-03T12:28:27.946Z"
   },
   {
    "duration": 0,
    "start_time": "2023-07-03T12:28:27.947Z"
   },
   {
    "duration": 0,
    "start_time": "2023-07-03T12:28:27.948Z"
   },
   {
    "duration": 0,
    "start_time": "2023-07-03T12:28:27.949Z"
   },
   {
    "duration": 0,
    "start_time": "2023-07-03T12:28:27.950Z"
   },
   {
    "duration": 0,
    "start_time": "2023-07-03T12:28:27.951Z"
   },
   {
    "duration": 0,
    "start_time": "2023-07-03T12:28:27.952Z"
   },
   {
    "duration": 0,
    "start_time": "2023-07-03T12:28:27.953Z"
   },
   {
    "duration": 0,
    "start_time": "2023-07-03T12:28:27.954Z"
   },
   {
    "duration": 0,
    "start_time": "2023-07-03T12:28:27.955Z"
   },
   {
    "duration": 0,
    "start_time": "2023-07-03T12:28:27.969Z"
   },
   {
    "duration": 0,
    "start_time": "2023-07-03T12:28:27.970Z"
   },
   {
    "duration": 0,
    "start_time": "2023-07-03T12:28:27.972Z"
   },
   {
    "duration": 0,
    "start_time": "2023-07-03T12:28:27.973Z"
   },
   {
    "duration": 0,
    "start_time": "2023-07-03T12:28:27.974Z"
   },
   {
    "duration": 0,
    "start_time": "2023-07-03T12:28:27.975Z"
   },
   {
    "duration": 0,
    "start_time": "2023-07-03T12:28:27.976Z"
   },
   {
    "duration": 0,
    "start_time": "2023-07-03T12:28:27.977Z"
   },
   {
    "duration": 13,
    "start_time": "2023-07-03T12:28:55.136Z"
   },
   {
    "duration": 9,
    "start_time": "2023-07-03T12:29:10.442Z"
   },
   {
    "duration": 52,
    "start_time": "2023-07-03T16:11:50.918Z"
   },
   {
    "duration": 1514,
    "start_time": "2023-07-03T16:11:58.348Z"
   },
   {
    "duration": 208,
    "start_time": "2023-07-03T16:11:59.865Z"
   },
   {
    "duration": 30,
    "start_time": "2023-07-03T16:12:00.077Z"
   },
   {
    "duration": 54,
    "start_time": "2023-07-03T16:12:00.109Z"
   },
   {
    "duration": 67,
    "start_time": "2023-07-03T16:12:00.165Z"
   },
   {
    "duration": 32,
    "start_time": "2023-07-03T16:12:00.234Z"
   },
   {
    "duration": 44,
    "start_time": "2023-07-03T16:12:00.268Z"
   },
   {
    "duration": 39,
    "start_time": "2023-07-03T16:12:00.314Z"
   },
   {
    "duration": 28,
    "start_time": "2023-07-03T16:12:00.355Z"
   },
   {
    "duration": 82,
    "start_time": "2023-07-03T16:12:00.385Z"
   },
   {
    "duration": 32,
    "start_time": "2023-07-03T16:12:00.469Z"
   },
   {
    "duration": 39,
    "start_time": "2023-07-03T16:12:00.503Z"
   },
   {
    "duration": 38,
    "start_time": "2023-07-03T16:12:00.546Z"
   },
   {
    "duration": 60,
    "start_time": "2023-07-03T16:12:00.586Z"
   },
   {
    "duration": 54,
    "start_time": "2023-07-03T16:12:00.648Z"
   },
   {
    "duration": 40,
    "start_time": "2023-07-03T16:12:00.704Z"
   },
   {
    "duration": 353,
    "start_time": "2023-07-03T16:12:00.746Z"
   },
   {
    "duration": 348,
    "start_time": "2023-07-03T16:12:01.100Z"
   },
   {
    "duration": 260,
    "start_time": "2023-07-03T16:12:01.450Z"
   },
   {
    "duration": 413,
    "start_time": "2023-07-03T16:12:01.712Z"
   },
   {
    "duration": 306,
    "start_time": "2023-07-03T16:12:02.128Z"
   },
   {
    "duration": 377,
    "start_time": "2023-07-03T16:12:02.436Z"
   },
   {
    "duration": 319,
    "start_time": "2023-07-03T16:12:02.815Z"
   },
   {
    "duration": 4,
    "start_time": "2023-07-03T16:12:03.136Z"
   },
   {
    "duration": 224,
    "start_time": "2023-07-03T16:12:03.142Z"
   },
   {
    "duration": 325,
    "start_time": "2023-07-03T16:12:03.368Z"
   },
   {
    "duration": 6,
    "start_time": "2023-07-03T16:12:03.696Z"
   },
   {
    "duration": 268,
    "start_time": "2023-07-03T16:12:03.705Z"
   },
   {
    "duration": 272,
    "start_time": "2023-07-03T16:12:03.976Z"
   },
   {
    "duration": 17,
    "start_time": "2023-07-03T16:12:04.251Z"
   },
   {
    "duration": 8,
    "start_time": "2023-07-03T16:12:04.270Z"
   },
   {
    "duration": 176,
    "start_time": "2023-07-03T16:12:04.280Z"
   },
   {
    "duration": 16,
    "start_time": "2023-07-03T16:12:04.459Z"
   },
   {
    "duration": 15,
    "start_time": "2023-07-03T16:12:04.477Z"
   },
   {
    "duration": 34,
    "start_time": "2023-07-03T16:12:04.494Z"
   },
   {
    "duration": 16,
    "start_time": "2023-07-03T16:12:04.530Z"
   },
   {
    "duration": 6,
    "start_time": "2023-07-03T16:12:14.798Z"
   },
   {
    "duration": 7,
    "start_time": "2023-07-03T16:12:20.926Z"
   },
   {
    "duration": 115,
    "start_time": "2023-07-03T16:12:29.468Z"
   },
   {
    "duration": 6,
    "start_time": "2023-07-03T16:12:39.046Z"
   },
   {
    "duration": 6,
    "start_time": "2023-07-03T16:12:54.319Z"
   },
   {
    "duration": 147,
    "start_time": "2023-07-03T16:28:59.382Z"
   },
   {
    "duration": 152,
    "start_time": "2023-07-03T16:29:12.850Z"
   },
   {
    "duration": 160,
    "start_time": "2023-07-03T16:29:18.974Z"
   },
   {
    "duration": 189,
    "start_time": "2023-07-03T16:29:52.260Z"
   },
   {
    "duration": 190,
    "start_time": "2023-07-03T16:30:30.659Z"
   },
   {
    "duration": 159,
    "start_time": "2023-07-03T16:30:58.587Z"
   },
   {
    "duration": 169,
    "start_time": "2023-07-03T16:31:42.246Z"
   },
   {
    "duration": 18,
    "start_time": "2023-07-03T16:33:34.015Z"
   },
   {
    "duration": 12,
    "start_time": "2023-07-03T16:33:40.658Z"
   },
   {
    "duration": 167,
    "start_time": "2023-07-03T16:37:34.370Z"
   },
   {
    "duration": 158,
    "start_time": "2023-07-03T16:37:44.609Z"
   },
   {
    "duration": 218,
    "start_time": "2023-07-03T16:49:44.785Z"
   },
   {
    "duration": 187,
    "start_time": "2023-07-03T16:52:14.717Z"
   },
   {
    "duration": 1344,
    "start_time": "2023-07-03T16:52:45.782Z"
   },
   {
    "duration": 81,
    "start_time": "2023-07-03T16:52:47.129Z"
   },
   {
    "duration": 34,
    "start_time": "2023-07-03T16:52:47.212Z"
   },
   {
    "duration": 8,
    "start_time": "2023-07-03T16:52:47.249Z"
   },
   {
    "duration": 10,
    "start_time": "2023-07-03T16:52:47.259Z"
   },
   {
    "duration": 6,
    "start_time": "2023-07-03T16:52:47.271Z"
   },
   {
    "duration": 12,
    "start_time": "2023-07-03T16:52:47.279Z"
   },
   {
    "duration": 20,
    "start_time": "2023-07-03T16:52:47.293Z"
   },
   {
    "duration": 11,
    "start_time": "2023-07-03T16:52:47.315Z"
   },
   {
    "duration": 49,
    "start_time": "2023-07-03T16:52:47.330Z"
   },
   {
    "duration": 11,
    "start_time": "2023-07-03T16:52:47.384Z"
   },
   {
    "duration": 31,
    "start_time": "2023-07-03T16:52:47.397Z"
   },
   {
    "duration": 38,
    "start_time": "2023-07-03T16:52:47.431Z"
   },
   {
    "duration": 43,
    "start_time": "2023-07-03T16:52:47.471Z"
   },
   {
    "duration": 44,
    "start_time": "2023-07-03T16:52:47.516Z"
   },
   {
    "duration": 237,
    "start_time": "2023-07-03T16:52:47.562Z"
   },
   {
    "duration": 462,
    "start_time": "2023-07-03T16:52:47.802Z"
   },
   {
    "duration": 390,
    "start_time": "2023-07-03T16:52:48.266Z"
   },
   {
    "duration": 275,
    "start_time": "2023-07-03T16:52:48.658Z"
   },
   {
    "duration": 368,
    "start_time": "2023-07-03T16:52:48.936Z"
   },
   {
    "duration": 282,
    "start_time": "2023-07-03T16:52:49.306Z"
   },
   {
    "duration": 362,
    "start_time": "2023-07-03T16:52:49.590Z"
   },
   {
    "duration": 478,
    "start_time": "2023-07-03T16:52:49.954Z"
   },
   {
    "duration": 6,
    "start_time": "2023-07-03T16:52:50.434Z"
   },
   {
    "duration": 234,
    "start_time": "2023-07-03T16:52:50.441Z"
   },
   {
    "duration": 308,
    "start_time": "2023-07-03T16:52:50.677Z"
   },
   {
    "duration": 5,
    "start_time": "2023-07-03T16:52:50.987Z"
   },
   {
    "duration": 253,
    "start_time": "2023-07-03T16:52:50.995Z"
   },
   {
    "duration": 174,
    "start_time": "2023-07-03T16:52:51.250Z"
   },
   {
    "duration": 7,
    "start_time": "2023-07-03T16:52:51.426Z"
   },
   {
    "duration": 15,
    "start_time": "2023-07-03T16:52:51.435Z"
   },
   {
    "duration": 196,
    "start_time": "2023-07-03T16:52:51.452Z"
   },
   {
    "duration": 24,
    "start_time": "2023-07-03T16:52:51.650Z"
   },
   {
    "duration": 21,
    "start_time": "2023-07-03T16:52:51.676Z"
   },
   {
    "duration": 35,
    "start_time": "2023-07-03T16:52:51.699Z"
   },
   {
    "duration": 16,
    "start_time": "2023-07-03T16:52:51.736Z"
   },
   {
    "duration": 84,
    "start_time": "2023-07-03T16:55:33.939Z"
   },
   {
    "duration": 60,
    "start_time": "2023-07-03T16:55:55.253Z"
   },
   {
    "duration": 72,
    "start_time": "2023-07-03T16:56:12.983Z"
   },
   {
    "duration": 13,
    "start_time": "2023-07-03T16:57:01.410Z"
   },
   {
    "duration": 12,
    "start_time": "2023-07-03T16:57:50.338Z"
   },
   {
    "duration": 107,
    "start_time": "2023-07-03T16:59:34.285Z"
   },
   {
    "duration": 15,
    "start_time": "2023-07-03T17:00:12.959Z"
   },
   {
    "duration": 10,
    "start_time": "2023-07-03T17:00:18.064Z"
   },
   {
    "duration": 12,
    "start_time": "2023-07-03T17:01:52.199Z"
   },
   {
    "duration": 1320,
    "start_time": "2023-07-03T17:01:58.527Z"
   },
   {
    "duration": 91,
    "start_time": "2023-07-03T17:01:59.849Z"
   },
   {
    "duration": 29,
    "start_time": "2023-07-03T17:01:59.942Z"
   },
   {
    "duration": 8,
    "start_time": "2023-07-03T17:01:59.974Z"
   },
   {
    "duration": 9,
    "start_time": "2023-07-03T17:01:59.984Z"
   },
   {
    "duration": 42,
    "start_time": "2023-07-03T17:01:59.995Z"
   },
   {
    "duration": 44,
    "start_time": "2023-07-03T17:02:00.039Z"
   },
   {
    "duration": 57,
    "start_time": "2023-07-03T17:02:00.085Z"
   },
   {
    "duration": 60,
    "start_time": "2023-07-03T17:02:00.143Z"
   },
   {
    "duration": 56,
    "start_time": "2023-07-03T17:02:00.206Z"
   },
   {
    "duration": 39,
    "start_time": "2023-07-03T17:02:00.265Z"
   },
   {
    "duration": 46,
    "start_time": "2023-07-03T17:02:00.306Z"
   },
   {
    "duration": 17,
    "start_time": "2023-07-03T17:02:00.355Z"
   },
   {
    "duration": 38,
    "start_time": "2023-07-03T17:02:00.374Z"
   },
   {
    "duration": 42,
    "start_time": "2023-07-03T17:02:00.415Z"
   },
   {
    "duration": 238,
    "start_time": "2023-07-03T17:02:00.460Z"
   },
   {
    "duration": 358,
    "start_time": "2023-07-03T17:02:00.701Z"
   },
   {
    "duration": 349,
    "start_time": "2023-07-03T17:02:01.061Z"
   },
   {
    "duration": 253,
    "start_time": "2023-07-03T17:02:01.412Z"
   },
   {
    "duration": 375,
    "start_time": "2023-07-03T17:02:01.667Z"
   },
   {
    "duration": 289,
    "start_time": "2023-07-03T17:02:02.044Z"
   },
   {
    "duration": 377,
    "start_time": "2023-07-03T17:02:02.337Z"
   },
   {
    "duration": 324,
    "start_time": "2023-07-03T17:02:02.716Z"
   },
   {
    "duration": 5,
    "start_time": "2023-07-03T17:02:03.042Z"
   },
   {
    "duration": 236,
    "start_time": "2023-07-03T17:02:03.049Z"
   },
   {
    "duration": 327,
    "start_time": "2023-07-03T17:02:03.286Z"
   },
   {
    "duration": 5,
    "start_time": "2023-07-03T17:02:03.615Z"
   },
   {
    "duration": 332,
    "start_time": "2023-07-03T17:02:03.623Z"
   },
   {
    "duration": 263,
    "start_time": "2023-07-03T17:02:03.958Z"
   },
   {
    "duration": 7,
    "start_time": "2023-07-03T17:02:04.223Z"
   },
   {
    "duration": 16,
    "start_time": "2023-07-03T17:02:04.232Z"
   },
   {
    "duration": 196,
    "start_time": "2023-07-03T17:02:04.250Z"
   },
   {
    "duration": 22,
    "start_time": "2023-07-03T17:02:04.448Z"
   },
   {
    "duration": 10,
    "start_time": "2023-07-03T17:02:04.472Z"
   },
   {
    "duration": 33,
    "start_time": "2023-07-03T17:02:04.484Z"
   },
   {
    "duration": 14,
    "start_time": "2023-07-03T17:02:04.519Z"
   },
   {
    "duration": 11,
    "start_time": "2023-07-03T17:02:36.093Z"
   },
   {
    "duration": 1331,
    "start_time": "2023-07-03T17:03:11.840Z"
   },
   {
    "duration": 80,
    "start_time": "2023-07-03T17:03:13.174Z"
   },
   {
    "duration": 28,
    "start_time": "2023-07-03T17:03:13.256Z"
   },
   {
    "duration": 19,
    "start_time": "2023-07-03T17:03:13.288Z"
   },
   {
    "duration": 23,
    "start_time": "2023-07-03T17:03:13.309Z"
   },
   {
    "duration": 26,
    "start_time": "2023-07-03T17:03:13.334Z"
   },
   {
    "duration": 15,
    "start_time": "2023-07-03T17:03:13.362Z"
   },
   {
    "duration": 20,
    "start_time": "2023-07-03T17:03:13.380Z"
   },
   {
    "duration": 11,
    "start_time": "2023-07-03T17:03:13.402Z"
   },
   {
    "duration": 37,
    "start_time": "2023-07-03T17:03:13.416Z"
   },
   {
    "duration": 10,
    "start_time": "2023-07-03T17:03:13.455Z"
   },
   {
    "duration": 19,
    "start_time": "2023-07-03T17:03:13.467Z"
   },
   {
    "duration": 16,
    "start_time": "2023-07-03T17:03:13.489Z"
   },
   {
    "duration": 12,
    "start_time": "2023-07-03T17:03:13.507Z"
   },
   {
    "duration": 22,
    "start_time": "2023-07-03T17:03:13.521Z"
   },
   {
    "duration": 222,
    "start_time": "2023-07-03T17:03:13.545Z"
   },
   {
    "duration": 402,
    "start_time": "2023-07-03T17:03:13.769Z"
   },
   {
    "duration": 326,
    "start_time": "2023-07-03T17:03:14.175Z"
   },
   {
    "duration": 240,
    "start_time": "2023-07-03T17:03:14.503Z"
   },
   {
    "duration": 352,
    "start_time": "2023-07-03T17:03:14.745Z"
   },
   {
    "duration": 263,
    "start_time": "2023-07-03T17:03:15.099Z"
   },
   {
    "duration": 338,
    "start_time": "2023-07-03T17:03:15.367Z"
   },
   {
    "duration": 320,
    "start_time": "2023-07-03T17:03:15.707Z"
   },
   {
    "duration": 5,
    "start_time": "2023-07-03T17:03:16.029Z"
   },
   {
    "duration": 192,
    "start_time": "2023-07-03T17:03:16.036Z"
   },
   {
    "duration": 335,
    "start_time": "2023-07-03T17:03:16.230Z"
   },
   {
    "duration": 6,
    "start_time": "2023-07-03T17:03:16.567Z"
   },
   {
    "duration": 248,
    "start_time": "2023-07-03T17:03:16.576Z"
   },
   {
    "duration": 193,
    "start_time": "2023-07-03T17:03:16.827Z"
   },
   {
    "duration": 8,
    "start_time": "2023-07-03T17:03:17.022Z"
   },
   {
    "duration": 26,
    "start_time": "2023-07-03T17:03:17.032Z"
   },
   {
    "duration": 210,
    "start_time": "2023-07-03T17:03:17.060Z"
   },
   {
    "duration": 14,
    "start_time": "2023-07-03T17:03:17.272Z"
   },
   {
    "duration": 15,
    "start_time": "2023-07-03T17:03:17.288Z"
   },
   {
    "duration": 33,
    "start_time": "2023-07-03T17:03:17.305Z"
   },
   {
    "duration": 39,
    "start_time": "2023-07-03T17:03:17.340Z"
   },
   {
    "duration": 166,
    "start_time": "2023-07-03T17:09:00.263Z"
   },
   {
    "duration": 135,
    "start_time": "2023-07-03T17:14:16.295Z"
   },
   {
    "duration": 23,
    "start_time": "2023-07-03T17:14:32.992Z"
   },
   {
    "duration": 212,
    "start_time": "2023-07-03T17:22:06.390Z"
   },
   {
    "duration": 1214,
    "start_time": "2023-07-03T17:37:00.850Z"
   },
   {
    "duration": 149,
    "start_time": "2023-07-03T17:37:11.238Z"
   },
   {
    "duration": 24,
    "start_time": "2023-07-03T17:41:02.507Z"
   },
   {
    "duration": 23,
    "start_time": "2023-07-03T17:43:24.896Z"
   },
   {
    "duration": 55,
    "start_time": "2023-07-03T17:44:55.606Z"
   },
   {
    "duration": 51,
    "start_time": "2023-07-03T17:45:07.771Z"
   },
   {
    "duration": 245,
    "start_time": "2023-07-03T17:46:55.310Z"
   },
   {
    "duration": 274,
    "start_time": "2023-07-03T17:48:18.517Z"
   },
   {
    "duration": 158,
    "start_time": "2023-07-03T17:57:00.017Z"
   },
   {
    "duration": 1072,
    "start_time": "2023-07-03T18:00:44.704Z"
   },
   {
    "duration": 1401,
    "start_time": "2023-07-03T18:00:52.430Z"
   },
   {
    "duration": 83,
    "start_time": "2023-07-03T18:00:53.833Z"
   },
   {
    "duration": 36,
    "start_time": "2023-07-03T18:00:53.919Z"
   },
   {
    "duration": 10,
    "start_time": "2023-07-03T18:00:53.958Z"
   },
   {
    "duration": 14,
    "start_time": "2023-07-03T18:00:53.970Z"
   },
   {
    "duration": 9,
    "start_time": "2023-07-03T18:00:53.987Z"
   },
   {
    "duration": 32,
    "start_time": "2023-07-03T18:00:53.999Z"
   },
   {
    "duration": 18,
    "start_time": "2023-07-03T18:00:54.033Z"
   },
   {
    "duration": 19,
    "start_time": "2023-07-03T18:00:54.053Z"
   },
   {
    "duration": 26,
    "start_time": "2023-07-03T18:00:54.076Z"
   },
   {
    "duration": 26,
    "start_time": "2023-07-03T18:00:54.104Z"
   },
   {
    "duration": 35,
    "start_time": "2023-07-03T18:00:54.133Z"
   },
   {
    "duration": 16,
    "start_time": "2023-07-03T18:00:54.170Z"
   },
   {
    "duration": 21,
    "start_time": "2023-07-03T18:00:54.190Z"
   },
   {
    "duration": 15,
    "start_time": "2023-07-03T18:00:54.213Z"
   },
   {
    "duration": 291,
    "start_time": "2023-07-03T18:00:54.230Z"
   },
   {
    "duration": 0,
    "start_time": "2023-07-03T18:00:54.524Z"
   },
   {
    "duration": 0,
    "start_time": "2023-07-03T18:00:54.525Z"
   },
   {
    "duration": 0,
    "start_time": "2023-07-03T18:00:54.527Z"
   },
   {
    "duration": 0,
    "start_time": "2023-07-03T18:00:54.529Z"
   },
   {
    "duration": 0,
    "start_time": "2023-07-03T18:00:54.530Z"
   },
   {
    "duration": 0,
    "start_time": "2023-07-03T18:00:54.532Z"
   },
   {
    "duration": 0,
    "start_time": "2023-07-03T18:00:54.534Z"
   },
   {
    "duration": 1,
    "start_time": "2023-07-03T18:00:54.535Z"
   },
   {
    "duration": 0,
    "start_time": "2023-07-03T18:00:54.537Z"
   },
   {
    "duration": 0,
    "start_time": "2023-07-03T18:00:54.538Z"
   },
   {
    "duration": 0,
    "start_time": "2023-07-03T18:00:54.568Z"
   },
   {
    "duration": 0,
    "start_time": "2023-07-03T18:00:54.570Z"
   },
   {
    "duration": 0,
    "start_time": "2023-07-03T18:00:54.572Z"
   },
   {
    "duration": 0,
    "start_time": "2023-07-03T18:00:54.573Z"
   },
   {
    "duration": 0,
    "start_time": "2023-07-03T18:00:54.575Z"
   },
   {
    "duration": 0,
    "start_time": "2023-07-03T18:00:54.577Z"
   },
   {
    "duration": 0,
    "start_time": "2023-07-03T18:00:54.580Z"
   },
   {
    "duration": 0,
    "start_time": "2023-07-03T18:00:54.582Z"
   },
   {
    "duration": 0,
    "start_time": "2023-07-03T18:00:54.583Z"
   },
   {
    "duration": 0,
    "start_time": "2023-07-03T18:00:54.585Z"
   },
   {
    "duration": 0,
    "start_time": "2023-07-03T18:00:54.588Z"
   },
   {
    "duration": 0,
    "start_time": "2023-07-03T18:00:54.589Z"
   },
   {
    "duration": 0,
    "start_time": "2023-07-03T18:00:54.590Z"
   },
   {
    "duration": 162,
    "start_time": "2023-07-03T18:01:10.070Z"
   },
   {
    "duration": 1240,
    "start_time": "2023-07-03T18:01:12.184Z"
   },
   {
    "duration": 19,
    "start_time": "2023-07-03T18:01:55.106Z"
   },
   {
    "duration": 13,
    "start_time": "2023-07-03T18:02:01.721Z"
   },
   {
    "duration": 153,
    "start_time": "2023-07-03T18:03:58.273Z"
   },
   {
    "duration": 1394,
    "start_time": "2023-07-03T20:39:54.922Z"
   },
   {
    "duration": 237,
    "start_time": "2023-07-03T20:39:56.318Z"
   },
   {
    "duration": 30,
    "start_time": "2023-07-03T20:39:56.557Z"
   },
   {
    "duration": 6,
    "start_time": "2023-07-03T20:39:56.589Z"
   },
   {
    "duration": 7,
    "start_time": "2023-07-03T20:39:56.598Z"
   },
   {
    "duration": 8,
    "start_time": "2023-07-03T20:39:56.606Z"
   },
   {
    "duration": 21,
    "start_time": "2023-07-03T20:39:56.616Z"
   },
   {
    "duration": 33,
    "start_time": "2023-07-03T20:39:56.638Z"
   },
   {
    "duration": 9,
    "start_time": "2023-07-03T20:39:56.673Z"
   },
   {
    "duration": 18,
    "start_time": "2023-07-03T20:39:56.684Z"
   },
   {
    "duration": 10,
    "start_time": "2023-07-03T20:39:56.704Z"
   },
   {
    "duration": 15,
    "start_time": "2023-07-03T20:39:56.715Z"
   },
   {
    "duration": 39,
    "start_time": "2023-07-03T20:39:56.732Z"
   },
   {
    "duration": 13,
    "start_time": "2023-07-03T20:39:56.776Z"
   },
   {
    "duration": 16,
    "start_time": "2023-07-03T20:39:56.791Z"
   },
   {
    "duration": 161,
    "start_time": "2023-07-03T20:39:56.808Z"
   },
   {
    "duration": 5,
    "start_time": "2023-07-03T20:39:56.971Z"
   },
   {
    "duration": 308,
    "start_time": "2023-07-03T20:39:56.978Z"
   },
   {
    "duration": 318,
    "start_time": "2023-07-03T20:39:57.288Z"
   },
   {
    "duration": 218,
    "start_time": "2023-07-03T20:39:57.608Z"
   },
   {
    "duration": 372,
    "start_time": "2023-07-03T20:39:57.827Z"
   },
   {
    "duration": 226,
    "start_time": "2023-07-03T20:39:58.201Z"
   },
   {
    "duration": 358,
    "start_time": "2023-07-03T20:39:58.429Z"
   },
   {
    "duration": 291,
    "start_time": "2023-07-03T20:39:58.789Z"
   },
   {
    "duration": 5,
    "start_time": "2023-07-03T20:39:59.082Z"
   },
   {
    "duration": 205,
    "start_time": "2023-07-03T20:39:59.088Z"
   },
   {
    "duration": 314,
    "start_time": "2023-07-03T20:39:59.295Z"
   },
   {
    "duration": 5,
    "start_time": "2023-07-03T20:39:59.611Z"
   },
   {
    "duration": 229,
    "start_time": "2023-07-03T20:39:59.618Z"
   },
   {
    "duration": 144,
    "start_time": "2023-07-03T20:39:59.850Z"
   },
   {
    "duration": 8,
    "start_time": "2023-07-03T20:39:59.996Z"
   },
   {
    "duration": 69,
    "start_time": "2023-07-03T20:40:00.006Z"
   },
   {
    "duration": 248,
    "start_time": "2023-07-03T20:40:00.078Z"
   },
   {
    "duration": 12,
    "start_time": "2023-07-03T20:40:00.328Z"
   },
   {
    "duration": 39,
    "start_time": "2023-07-03T20:40:00.342Z"
   },
   {
    "duration": 73,
    "start_time": "2023-07-03T20:40:00.383Z"
   },
   {
    "duration": 43,
    "start_time": "2023-07-03T20:40:00.459Z"
   },
   {
    "duration": 177,
    "start_time": "2023-07-03T20:40:00.503Z"
   },
   {
    "duration": 0,
    "start_time": "2023-07-03T20:40:00.682Z"
   },
   {
    "duration": 4,
    "start_time": "2023-07-03T20:40:09.274Z"
   },
   {
    "duration": 4,
    "start_time": "2023-07-03T20:40:15.405Z"
   },
   {
    "duration": 144,
    "start_time": "2023-07-03T20:40:28.555Z"
   },
   {
    "duration": 39,
    "start_time": "2023-07-03T20:42:38.284Z"
   },
   {
    "duration": 16,
    "start_time": "2023-07-03T20:44:42.878Z"
   },
   {
    "duration": 49,
    "start_time": "2023-07-03T20:45:47.538Z"
   },
   {
    "duration": 2734,
    "start_time": "2023-07-03T20:46:06.145Z"
   },
   {
    "duration": 84,
    "start_time": "2023-07-03T20:46:08.882Z"
   },
   {
    "duration": 38,
    "start_time": "2023-07-03T20:46:08.973Z"
   },
   {
    "duration": 8,
    "start_time": "2023-07-03T20:46:09.014Z"
   },
   {
    "duration": 39,
    "start_time": "2023-07-03T20:46:09.024Z"
   },
   {
    "duration": 39,
    "start_time": "2023-07-03T20:46:09.065Z"
   },
   {
    "duration": 17,
    "start_time": "2023-07-03T20:46:09.106Z"
   },
   {
    "duration": 14,
    "start_time": "2023-07-03T20:46:09.125Z"
   },
   {
    "duration": 16,
    "start_time": "2023-07-03T20:46:09.140Z"
   },
   {
    "duration": 26,
    "start_time": "2023-07-03T20:46:09.159Z"
   },
   {
    "duration": 8,
    "start_time": "2023-07-03T20:46:09.187Z"
   },
   {
    "duration": 21,
    "start_time": "2023-07-03T20:46:09.197Z"
   },
   {
    "duration": 12,
    "start_time": "2023-07-03T20:46:09.221Z"
   },
   {
    "duration": 29,
    "start_time": "2023-07-03T20:46:09.235Z"
   },
   {
    "duration": 15,
    "start_time": "2023-07-03T20:46:09.266Z"
   },
   {
    "duration": 166,
    "start_time": "2023-07-03T20:46:09.283Z"
   },
   {
    "duration": 328,
    "start_time": "2023-07-03T20:46:09.451Z"
   },
   {
    "duration": 320,
    "start_time": "2023-07-03T20:46:09.783Z"
   },
   {
    "duration": 222,
    "start_time": "2023-07-03T20:46:10.105Z"
   },
   {
    "duration": 319,
    "start_time": "2023-07-03T20:46:10.329Z"
   },
   {
    "duration": 258,
    "start_time": "2023-07-03T20:46:10.651Z"
   },
   {
    "duration": 301,
    "start_time": "2023-07-03T20:46:10.911Z"
   },
   {
    "duration": 320,
    "start_time": "2023-07-03T20:46:11.213Z"
   },
   {
    "duration": 5,
    "start_time": "2023-07-03T20:46:11.535Z"
   },
   {
    "duration": 198,
    "start_time": "2023-07-03T20:46:11.542Z"
   },
   {
    "duration": 331,
    "start_time": "2023-07-03T20:46:11.742Z"
   },
   {
    "duration": 10,
    "start_time": "2023-07-03T20:46:12.077Z"
   },
   {
    "duration": 235,
    "start_time": "2023-07-03T20:46:12.090Z"
   },
   {
    "duration": 141,
    "start_time": "2023-07-03T20:46:12.328Z"
   },
   {
    "duration": 12,
    "start_time": "2023-07-03T20:46:12.471Z"
   },
   {
    "duration": 8,
    "start_time": "2023-07-03T20:46:12.485Z"
   },
   {
    "duration": 187,
    "start_time": "2023-07-03T20:46:12.495Z"
   },
   {
    "duration": 13,
    "start_time": "2023-07-03T20:46:12.684Z"
   },
   {
    "duration": 8,
    "start_time": "2023-07-03T20:46:12.699Z"
   },
   {
    "duration": 32,
    "start_time": "2023-07-03T20:46:12.709Z"
   },
   {
    "duration": 20,
    "start_time": "2023-07-03T20:46:12.762Z"
   },
   {
    "duration": 139,
    "start_time": "2023-07-03T20:46:12.784Z"
   },
   {
    "duration": 0,
    "start_time": "2023-07-03T20:46:12.926Z"
   },
   {
    "duration": 22,
    "start_time": "2023-07-03T20:46:32.587Z"
   },
   {
    "duration": 12,
    "start_time": "2023-07-03T20:47:01.136Z"
   },
   {
    "duration": 33,
    "start_time": "2023-07-03T20:47:09.887Z"
   },
   {
    "duration": 9,
    "start_time": "2023-07-03T20:48:16.310Z"
   },
   {
    "duration": 10,
    "start_time": "2023-07-03T20:48:41.660Z"
   },
   {
    "duration": 18,
    "start_time": "2023-07-03T20:48:53.257Z"
   },
   {
    "duration": 6,
    "start_time": "2023-07-03T20:49:01.226Z"
   },
   {
    "duration": 1167,
    "start_time": "2023-07-03T20:50:13.072Z"
   },
   {
    "duration": 1198,
    "start_time": "2023-07-03T20:50:29.477Z"
   },
   {
    "duration": 1044,
    "start_time": "2023-07-03T20:50:42.153Z"
   },
   {
    "duration": 142,
    "start_time": "2023-07-03T20:50:50.375Z"
   },
   {
    "duration": 147,
    "start_time": "2023-07-03T20:51:20.306Z"
   },
   {
    "duration": 141,
    "start_time": "2023-07-03T20:51:29.737Z"
   },
   {
    "duration": 6,
    "start_time": "2023-07-03T20:53:14.884Z"
   },
   {
    "duration": 35,
    "start_time": "2023-07-03T20:53:57.949Z"
   },
   {
    "duration": 20,
    "start_time": "2023-07-03T20:54:36.519Z"
   },
   {
    "duration": 19,
    "start_time": "2023-07-03T20:54:52.028Z"
   },
   {
    "duration": 1099,
    "start_time": "2023-07-03T20:56:50.972Z"
   },
   {
    "duration": 12,
    "start_time": "2023-07-03T20:57:54.879Z"
   },
   {
    "duration": 10,
    "start_time": "2023-07-03T20:58:07.993Z"
   },
   {
    "duration": 1262,
    "start_time": "2023-07-03T20:58:23.501Z"
   },
   {
    "duration": 13,
    "start_time": "2023-07-03T20:59:03.940Z"
   },
   {
    "duration": 12,
    "start_time": "2023-07-03T20:59:46.543Z"
   },
   {
    "duration": 20,
    "start_time": "2023-07-03T20:59:52.391Z"
   },
   {
    "duration": 1247,
    "start_time": "2023-07-03T20:59:59.890Z"
   },
   {
    "duration": 87,
    "start_time": "2023-07-03T21:00:01.139Z"
   },
   {
    "duration": 26,
    "start_time": "2023-07-03T21:00:01.228Z"
   },
   {
    "duration": 39,
    "start_time": "2023-07-03T21:00:01.257Z"
   },
   {
    "duration": 110,
    "start_time": "2023-07-03T21:00:01.297Z"
   },
   {
    "duration": 186,
    "start_time": "2023-07-03T21:00:01.409Z"
   },
   {
    "duration": 114,
    "start_time": "2023-07-03T21:00:01.597Z"
   },
   {
    "duration": 94,
    "start_time": "2023-07-03T21:00:01.713Z"
   },
   {
    "duration": 139,
    "start_time": "2023-07-03T21:00:01.809Z"
   },
   {
    "duration": 357,
    "start_time": "2023-07-03T21:00:01.951Z"
   },
   {
    "duration": 111,
    "start_time": "2023-07-03T21:00:02.310Z"
   },
   {
    "duration": 77,
    "start_time": "2023-07-03T21:00:02.424Z"
   },
   {
    "duration": 79,
    "start_time": "2023-07-03T21:00:02.503Z"
   },
   {
    "duration": 44,
    "start_time": "2023-07-03T21:00:02.584Z"
   },
   {
    "duration": 30,
    "start_time": "2023-07-03T21:00:02.630Z"
   },
   {
    "duration": 226,
    "start_time": "2023-07-03T21:00:02.670Z"
   },
   {
    "duration": 18,
    "start_time": "2023-07-03T21:00:02.898Z"
   },
   {
    "duration": 367,
    "start_time": "2023-07-03T21:00:02.918Z"
   },
   {
    "duration": 344,
    "start_time": "2023-07-03T21:00:03.287Z"
   },
   {
    "duration": 250,
    "start_time": "2023-07-03T21:00:03.633Z"
   },
   {
    "duration": 329,
    "start_time": "2023-07-03T21:00:03.885Z"
   },
   {
    "duration": 305,
    "start_time": "2023-07-03T21:00:04.216Z"
   },
   {
    "duration": 407,
    "start_time": "2023-07-03T21:00:04.524Z"
   },
   {
    "duration": 269,
    "start_time": "2023-07-03T21:00:04.933Z"
   },
   {
    "duration": 4,
    "start_time": "2023-07-03T21:00:05.204Z"
   },
   {
    "duration": 384,
    "start_time": "2023-07-03T21:00:05.210Z"
   },
   {
    "duration": 301,
    "start_time": "2023-07-03T21:00:05.596Z"
   },
   {
    "duration": 4,
    "start_time": "2023-07-03T21:00:05.900Z"
   },
   {
    "duration": 240,
    "start_time": "2023-07-03T21:00:05.906Z"
   },
   {
    "duration": 151,
    "start_time": "2023-07-03T21:00:06.148Z"
   },
   {
    "duration": 7,
    "start_time": "2023-07-03T21:00:06.301Z"
   },
   {
    "duration": 10,
    "start_time": "2023-07-03T21:00:06.309Z"
   },
   {
    "duration": 186,
    "start_time": "2023-07-03T21:00:06.321Z"
   },
   {
    "duration": 11,
    "start_time": "2023-07-03T21:00:06.509Z"
   },
   {
    "duration": 18,
    "start_time": "2023-07-03T21:00:06.522Z"
   },
   {
    "duration": 79,
    "start_time": "2023-07-03T21:00:06.542Z"
   },
   {
    "duration": 35,
    "start_time": "2023-07-03T21:00:06.623Z"
   },
   {
    "duration": 50,
    "start_time": "2023-07-03T21:00:06.661Z"
   },
   {
    "duration": 33,
    "start_time": "2023-07-03T21:00:06.713Z"
   },
   {
    "duration": 16,
    "start_time": "2023-07-03T21:00:54.322Z"
   },
   {
    "duration": 81,
    "start_time": "2023-07-03T21:00:57.494Z"
   },
   {
    "duration": 157,
    "start_time": "2023-07-03T21:01:12.790Z"
   },
   {
    "duration": 15,
    "start_time": "2023-07-03T21:01:16.241Z"
   },
   {
    "duration": 136,
    "start_time": "2023-07-03T21:02:12.345Z"
   },
   {
    "duration": 164,
    "start_time": "2023-07-03T21:02:32.260Z"
   },
   {
    "duration": 60,
    "start_time": "2023-07-03T21:03:38.726Z"
   },
   {
    "duration": 66,
    "start_time": "2023-07-03T21:03:47.056Z"
   },
   {
    "duration": 135,
    "start_time": "2023-07-03T21:04:47.198Z"
   },
   {
    "duration": 21,
    "start_time": "2023-07-03T21:04:51.464Z"
   },
   {
    "duration": 9,
    "start_time": "2023-07-03T21:05:04.352Z"
   },
   {
    "duration": 1280,
    "start_time": "2023-07-03T21:05:16.282Z"
   },
   {
    "duration": 10,
    "start_time": "2023-07-03T21:05:23.281Z"
   },
   {
    "duration": 1198,
    "start_time": "2023-07-03T21:06:38.898Z"
   },
   {
    "duration": 86,
    "start_time": "2023-07-03T21:06:40.098Z"
   },
   {
    "duration": 32,
    "start_time": "2023-07-03T21:06:40.186Z"
   },
   {
    "duration": 9,
    "start_time": "2023-07-03T21:06:40.221Z"
   },
   {
    "duration": 9,
    "start_time": "2023-07-03T21:06:40.232Z"
   },
   {
    "duration": 6,
    "start_time": "2023-07-03T21:06:40.243Z"
   },
   {
    "duration": 17,
    "start_time": "2023-07-03T21:06:40.250Z"
   },
   {
    "duration": 15,
    "start_time": "2023-07-03T21:06:40.268Z"
   },
   {
    "duration": 10,
    "start_time": "2023-07-03T21:06:40.284Z"
   },
   {
    "duration": 19,
    "start_time": "2023-07-03T21:06:40.296Z"
   },
   {
    "duration": 8,
    "start_time": "2023-07-03T21:06:40.317Z"
   },
   {
    "duration": 44,
    "start_time": "2023-07-03T21:06:40.327Z"
   },
   {
    "duration": 12,
    "start_time": "2023-07-03T21:06:40.376Z"
   },
   {
    "duration": 9,
    "start_time": "2023-07-03T21:06:40.389Z"
   },
   {
    "duration": 10,
    "start_time": "2023-07-03T21:06:40.399Z"
   },
   {
    "duration": 178,
    "start_time": "2023-07-03T21:06:40.410Z"
   },
   {
    "duration": 29,
    "start_time": "2023-07-03T21:06:40.589Z"
   },
   {
    "duration": 331,
    "start_time": "2023-07-03T21:06:40.620Z"
   },
   {
    "duration": 305,
    "start_time": "2023-07-03T21:06:40.953Z"
   },
   {
    "duration": 221,
    "start_time": "2023-07-03T21:06:41.259Z"
   },
   {
    "duration": 308,
    "start_time": "2023-07-03T21:06:41.482Z"
   },
   {
    "duration": 230,
    "start_time": "2023-07-03T21:06:41.792Z"
   },
   {
    "duration": 374,
    "start_time": "2023-07-03T21:06:42.024Z"
   },
   {
    "duration": 288,
    "start_time": "2023-07-03T21:06:42.400Z"
   },
   {
    "duration": 5,
    "start_time": "2023-07-03T21:06:42.691Z"
   },
   {
    "duration": 205,
    "start_time": "2023-07-03T21:06:42.698Z"
   },
   {
    "duration": 308,
    "start_time": "2023-07-03T21:06:42.905Z"
   },
   {
    "duration": 4,
    "start_time": "2023-07-03T21:06:43.218Z"
   },
   {
    "duration": 231,
    "start_time": "2023-07-03T21:06:43.225Z"
   },
   {
    "duration": 170,
    "start_time": "2023-07-03T21:06:43.459Z"
   },
   {
    "duration": 7,
    "start_time": "2023-07-03T21:06:43.630Z"
   },
   {
    "duration": 29,
    "start_time": "2023-07-03T21:06:43.639Z"
   },
   {
    "duration": 176,
    "start_time": "2023-07-03T21:06:43.670Z"
   },
   {
    "duration": 23,
    "start_time": "2023-07-03T21:06:43.848Z"
   },
   {
    "duration": 16,
    "start_time": "2023-07-03T21:06:43.872Z"
   },
   {
    "duration": 33,
    "start_time": "2023-07-03T21:06:43.890Z"
   },
   {
    "duration": 43,
    "start_time": "2023-07-03T21:06:43.925Z"
   },
   {
    "duration": 10,
    "start_time": "2023-07-03T21:06:43.969Z"
   },
   {
    "duration": 18,
    "start_time": "2023-07-03T21:06:43.981Z"
   },
   {
    "duration": 24,
    "start_time": "2023-07-03T21:10:18.656Z"
   },
   {
    "duration": 1412,
    "start_time": "2023-07-03T21:10:41.950Z"
   },
   {
    "duration": 108,
    "start_time": "2023-07-03T21:10:43.367Z"
   },
   {
    "duration": 36,
    "start_time": "2023-07-03T21:10:43.477Z"
   },
   {
    "duration": 7,
    "start_time": "2023-07-03T21:10:43.516Z"
   },
   {
    "duration": 7,
    "start_time": "2023-07-03T21:10:43.525Z"
   },
   {
    "duration": 5,
    "start_time": "2023-07-03T21:10:43.535Z"
   },
   {
    "duration": 7,
    "start_time": "2023-07-03T21:10:43.542Z"
   },
   {
    "duration": 52,
    "start_time": "2023-07-03T21:10:43.552Z"
   },
   {
    "duration": 11,
    "start_time": "2023-07-03T21:10:43.609Z"
   },
   {
    "duration": 32,
    "start_time": "2023-07-03T21:10:43.624Z"
   },
   {
    "duration": 17,
    "start_time": "2023-07-03T21:10:43.658Z"
   },
   {
    "duration": 18,
    "start_time": "2023-07-03T21:10:43.677Z"
   },
   {
    "duration": 13,
    "start_time": "2023-07-03T21:10:43.697Z"
   },
   {
    "duration": 21,
    "start_time": "2023-07-03T21:10:43.712Z"
   },
   {
    "duration": 20,
    "start_time": "2023-07-03T21:10:43.735Z"
   },
   {
    "duration": 173,
    "start_time": "2023-07-03T21:10:43.757Z"
   },
   {
    "duration": 7,
    "start_time": "2023-07-03T21:10:43.932Z"
   },
   {
    "duration": 25,
    "start_time": "2023-07-03T21:10:43.941Z"
   },
   {
    "duration": 411,
    "start_time": "2023-07-03T21:10:43.968Z"
   },
   {
    "duration": 365,
    "start_time": "2023-07-03T21:10:44.381Z"
   },
   {
    "duration": 253,
    "start_time": "2023-07-03T21:10:44.748Z"
   },
   {
    "duration": 305,
    "start_time": "2023-07-03T21:10:45.003Z"
   },
   {
    "duration": 263,
    "start_time": "2023-07-03T21:10:45.310Z"
   },
   {
    "duration": 328,
    "start_time": "2023-07-03T21:10:45.575Z"
   },
   {
    "duration": 325,
    "start_time": "2023-07-03T21:10:45.906Z"
   },
   {
    "duration": 4,
    "start_time": "2023-07-03T21:10:46.233Z"
   },
   {
    "duration": 213,
    "start_time": "2023-07-03T21:10:46.239Z"
   },
   {
    "duration": 314,
    "start_time": "2023-07-03T21:10:46.455Z"
   },
   {
    "duration": 7,
    "start_time": "2023-07-03T21:10:46.770Z"
   },
   {
    "duration": 245,
    "start_time": "2023-07-03T21:10:46.779Z"
   },
   {
    "duration": 167,
    "start_time": "2023-07-03T21:10:47.026Z"
   },
   {
    "duration": 8,
    "start_time": "2023-07-03T21:10:47.197Z"
   },
   {
    "duration": 8,
    "start_time": "2023-07-03T21:10:47.206Z"
   },
   {
    "duration": 197,
    "start_time": "2023-07-03T21:10:47.216Z"
   },
   {
    "duration": 20,
    "start_time": "2023-07-03T21:10:47.414Z"
   },
   {
    "duration": 9,
    "start_time": "2023-07-03T21:10:47.436Z"
   },
   {
    "duration": 39,
    "start_time": "2023-07-03T21:10:47.446Z"
   },
   {
    "duration": 26,
    "start_time": "2023-07-03T21:10:47.487Z"
   },
   {
    "duration": 13,
    "start_time": "2023-07-03T21:10:47.515Z"
   },
   {
    "duration": 11,
    "start_time": "2023-07-03T21:10:47.530Z"
   },
   {
    "duration": 14,
    "start_time": "2023-07-03T21:11:17.991Z"
   },
   {
    "duration": 9,
    "start_time": "2023-07-03T21:11:20.924Z"
   },
   {
    "duration": 14,
    "start_time": "2023-07-03T21:11:22.842Z"
   },
   {
    "duration": 17,
    "start_time": "2023-07-03T21:12:16.217Z"
   },
   {
    "duration": 8,
    "start_time": "2023-07-03T21:12:18.700Z"
   },
   {
    "duration": 14,
    "start_time": "2023-07-03T21:12:20.083Z"
   },
   {
    "duration": 14,
    "start_time": "2023-07-03T21:12:39.911Z"
   },
   {
    "duration": 7,
    "start_time": "2023-07-03T21:12:43.334Z"
   },
   {
    "duration": 1181,
    "start_time": "2023-07-03T21:12:48.674Z"
   },
   {
    "duration": 81,
    "start_time": "2023-07-03T21:12:49.858Z"
   },
   {
    "duration": 34,
    "start_time": "2023-07-03T21:12:49.941Z"
   },
   {
    "duration": 8,
    "start_time": "2023-07-03T21:12:49.977Z"
   },
   {
    "duration": 7,
    "start_time": "2023-07-03T21:12:49.987Z"
   },
   {
    "duration": 6,
    "start_time": "2023-07-03T21:12:49.995Z"
   },
   {
    "duration": 6,
    "start_time": "2023-07-03T21:12:50.002Z"
   },
   {
    "duration": 23,
    "start_time": "2023-07-03T21:12:50.010Z"
   },
   {
    "duration": 38,
    "start_time": "2023-07-03T21:12:50.035Z"
   },
   {
    "duration": 20,
    "start_time": "2023-07-03T21:12:50.074Z"
   },
   {
    "duration": 8,
    "start_time": "2023-07-03T21:12:50.096Z"
   },
   {
    "duration": 16,
    "start_time": "2023-07-03T21:12:50.106Z"
   },
   {
    "duration": 10,
    "start_time": "2023-07-03T21:12:50.124Z"
   },
   {
    "duration": 16,
    "start_time": "2023-07-03T21:12:50.160Z"
   },
   {
    "duration": 7,
    "start_time": "2023-07-03T21:12:50.178Z"
   },
   {
    "duration": 166,
    "start_time": "2023-07-03T21:12:50.187Z"
   },
   {
    "duration": 12,
    "start_time": "2023-07-03T21:12:50.355Z"
   },
   {
    "duration": 19,
    "start_time": "2023-07-03T21:12:50.369Z"
   },
   {
    "duration": 317,
    "start_time": "2023-07-03T21:12:50.389Z"
   },
   {
    "duration": 312,
    "start_time": "2023-07-03T21:12:50.708Z"
   },
   {
    "duration": 216,
    "start_time": "2023-07-03T21:12:51.022Z"
   },
   {
    "duration": 354,
    "start_time": "2023-07-03T21:12:51.240Z"
   },
   {
    "duration": 237,
    "start_time": "2023-07-03T21:12:51.596Z"
   },
   {
    "duration": 353,
    "start_time": "2023-07-03T21:12:51.834Z"
   },
   {
    "duration": 316,
    "start_time": "2023-07-03T21:12:52.189Z"
   },
   {
    "duration": 4,
    "start_time": "2023-07-03T21:12:52.507Z"
   },
   {
    "duration": 184,
    "start_time": "2023-07-03T21:12:52.512Z"
   },
   {
    "duration": 287,
    "start_time": "2023-07-03T21:12:52.698Z"
   },
   {
    "duration": 5,
    "start_time": "2023-07-03T21:12:52.987Z"
   },
   {
    "duration": 245,
    "start_time": "2023-07-03T21:12:52.994Z"
   },
   {
    "duration": 133,
    "start_time": "2023-07-03T21:12:53.240Z"
   },
   {
    "duration": 7,
    "start_time": "2023-07-03T21:12:53.378Z"
   },
   {
    "duration": 6,
    "start_time": "2023-07-03T21:12:53.387Z"
   },
   {
    "duration": 187,
    "start_time": "2023-07-03T21:12:53.394Z"
   },
   {
    "duration": 12,
    "start_time": "2023-07-03T21:12:53.582Z"
   },
   {
    "duration": 9,
    "start_time": "2023-07-03T21:12:53.596Z"
   },
   {
    "duration": 33,
    "start_time": "2023-07-03T21:12:53.606Z"
   },
   {
    "duration": 36,
    "start_time": "2023-07-03T21:12:53.641Z"
   },
   {
    "duration": 9,
    "start_time": "2023-07-03T21:12:53.678Z"
   },
   {
    "duration": 7,
    "start_time": "2023-07-03T21:12:53.689Z"
   },
   {
    "duration": 1167,
    "start_time": "2023-07-03T21:13:19.998Z"
   },
   {
    "duration": 78,
    "start_time": "2023-07-03T21:13:21.167Z"
   },
   {
    "duration": 32,
    "start_time": "2023-07-03T21:13:21.247Z"
   },
   {
    "duration": 7,
    "start_time": "2023-07-03T21:13:21.282Z"
   },
   {
    "duration": 6,
    "start_time": "2023-07-03T21:13:21.290Z"
   },
   {
    "duration": 11,
    "start_time": "2023-07-03T21:13:21.297Z"
   },
   {
    "duration": 11,
    "start_time": "2023-07-03T21:13:21.310Z"
   },
   {
    "duration": 15,
    "start_time": "2023-07-03T21:13:21.323Z"
   },
   {
    "duration": 28,
    "start_time": "2023-07-03T21:13:21.340Z"
   },
   {
    "duration": 32,
    "start_time": "2023-07-03T21:13:21.372Z"
   },
   {
    "duration": 30,
    "start_time": "2023-07-03T21:13:21.406Z"
   },
   {
    "duration": 14,
    "start_time": "2023-07-03T21:13:21.438Z"
   },
   {
    "duration": 12,
    "start_time": "2023-07-03T21:13:21.453Z"
   },
   {
    "duration": 18,
    "start_time": "2023-07-03T21:13:21.466Z"
   },
   {
    "duration": 16,
    "start_time": "2023-07-03T21:13:21.486Z"
   },
   {
    "duration": 180,
    "start_time": "2023-07-03T21:13:21.506Z"
   },
   {
    "duration": 7,
    "start_time": "2023-07-03T21:13:21.689Z"
   },
   {
    "duration": 15,
    "start_time": "2023-07-03T21:13:21.698Z"
   },
   {
    "duration": 366,
    "start_time": "2023-07-03T21:13:21.715Z"
   },
   {
    "duration": 289,
    "start_time": "2023-07-03T21:13:22.083Z"
   },
   {
    "duration": 213,
    "start_time": "2023-07-03T21:13:22.373Z"
   },
   {
    "duration": 297,
    "start_time": "2023-07-03T21:13:22.588Z"
   },
   {
    "duration": 239,
    "start_time": "2023-07-03T21:13:22.887Z"
   },
   {
    "duration": 411,
    "start_time": "2023-07-03T21:13:23.128Z"
   },
   {
    "duration": 407,
    "start_time": "2023-07-03T21:13:23.541Z"
   },
   {
    "duration": 22,
    "start_time": "2023-07-03T21:13:23.949Z"
   },
   {
    "duration": 211,
    "start_time": "2023-07-03T21:13:23.979Z"
   },
   {
    "duration": 337,
    "start_time": "2023-07-03T21:13:24.195Z"
   },
   {
    "duration": 6,
    "start_time": "2023-07-03T21:13:24.534Z"
   },
   {
    "duration": 267,
    "start_time": "2023-07-03T21:13:24.541Z"
   },
   {
    "duration": 170,
    "start_time": "2023-07-03T21:13:24.810Z"
   },
   {
    "duration": 7,
    "start_time": "2023-07-03T21:13:24.982Z"
   },
   {
    "duration": 10,
    "start_time": "2023-07-03T21:13:24.991Z"
   },
   {
    "duration": 173,
    "start_time": "2023-07-03T21:13:25.003Z"
   },
   {
    "duration": 12,
    "start_time": "2023-07-03T21:13:25.178Z"
   },
   {
    "duration": 35,
    "start_time": "2023-07-03T21:13:25.192Z"
   },
   {
    "duration": 41,
    "start_time": "2023-07-03T21:13:25.230Z"
   },
   {
    "duration": 16,
    "start_time": "2023-07-03T21:13:25.274Z"
   },
   {
    "duration": 23,
    "start_time": "2023-07-03T21:13:25.292Z"
   },
   {
    "duration": 17,
    "start_time": "2023-07-03T21:13:25.317Z"
   },
   {
    "duration": 5,
    "start_time": "2023-07-03T21:13:48.975Z"
   },
   {
    "duration": 14,
    "start_time": "2023-07-03T21:17:36.301Z"
   },
   {
    "duration": 143,
    "start_time": "2023-07-03T21:17:48.414Z"
   },
   {
    "duration": 147,
    "start_time": "2023-07-03T21:18:09.374Z"
   },
   {
    "duration": 109,
    "start_time": "2023-07-03T21:18:28.681Z"
   },
   {
    "duration": 15,
    "start_time": "2023-07-03T21:20:05.634Z"
   },
   {
    "duration": 14,
    "start_time": "2023-07-03T21:20:17.613Z"
   },
   {
    "duration": 1111,
    "start_time": "2023-07-03T21:20:22.996Z"
   },
   {
    "duration": 96,
    "start_time": "2023-07-03T21:20:24.109Z"
   },
   {
    "duration": 28,
    "start_time": "2023-07-03T21:20:24.207Z"
   },
   {
    "duration": 7,
    "start_time": "2023-07-03T21:20:24.237Z"
   },
   {
    "duration": 21,
    "start_time": "2023-07-03T21:20:24.246Z"
   },
   {
    "duration": 7,
    "start_time": "2023-07-03T21:20:24.269Z"
   },
   {
    "duration": 8,
    "start_time": "2023-07-03T21:20:24.279Z"
   },
   {
    "duration": 13,
    "start_time": "2023-07-03T21:20:24.289Z"
   },
   {
    "duration": 9,
    "start_time": "2023-07-03T21:20:24.304Z"
   },
   {
    "duration": 21,
    "start_time": "2023-07-03T21:20:24.316Z"
   },
   {
    "duration": 36,
    "start_time": "2023-07-03T21:20:24.340Z"
   },
   {
    "duration": 13,
    "start_time": "2023-07-03T21:20:24.377Z"
   },
   {
    "duration": 10,
    "start_time": "2023-07-03T21:20:24.391Z"
   },
   {
    "duration": 7,
    "start_time": "2023-07-03T21:20:24.403Z"
   },
   {
    "duration": 23,
    "start_time": "2023-07-03T21:20:24.412Z"
   },
   {
    "duration": 143,
    "start_time": "2023-07-03T21:20:24.436Z"
   },
   {
    "duration": 13,
    "start_time": "2023-07-03T21:20:24.580Z"
   },
   {
    "duration": 303,
    "start_time": "2023-07-03T21:20:24.594Z"
   },
   {
    "duration": 288,
    "start_time": "2023-07-03T21:20:24.898Z"
   },
   {
    "duration": 194,
    "start_time": "2023-07-03T21:20:25.188Z"
   },
   {
    "duration": 295,
    "start_time": "2023-07-03T21:20:25.383Z"
   },
   {
    "duration": 216,
    "start_time": "2023-07-03T21:20:25.680Z"
   },
   {
    "duration": 285,
    "start_time": "2023-07-03T21:20:25.897Z"
   },
   {
    "duration": 258,
    "start_time": "2023-07-03T21:20:26.183Z"
   },
   {
    "duration": 4,
    "start_time": "2023-07-03T21:20:26.442Z"
   },
   {
    "duration": 166,
    "start_time": "2023-07-03T21:20:26.448Z"
   },
   {
    "duration": 281,
    "start_time": "2023-07-03T21:20:26.616Z"
   },
   {
    "duration": 5,
    "start_time": "2023-07-03T21:20:26.900Z"
   },
   {
    "duration": 205,
    "start_time": "2023-07-03T21:20:26.906Z"
   },
   {
    "duration": 159,
    "start_time": "2023-07-03T21:20:27.113Z"
   },
   {
    "duration": 6,
    "start_time": "2023-07-03T21:20:27.274Z"
   },
   {
    "duration": 12,
    "start_time": "2023-07-03T21:20:27.281Z"
   },
   {
    "duration": 159,
    "start_time": "2023-07-03T21:20:27.295Z"
   },
   {
    "duration": 25,
    "start_time": "2023-07-03T21:20:27.459Z"
   },
   {
    "duration": 9,
    "start_time": "2023-07-03T21:20:27.486Z"
   },
   {
    "duration": 26,
    "start_time": "2023-07-03T21:20:27.497Z"
   },
   {
    "duration": 12,
    "start_time": "2023-07-03T21:20:27.525Z"
   },
   {
    "duration": 35,
    "start_time": "2023-07-03T21:20:27.538Z"
   },
   {
    "duration": 9,
    "start_time": "2023-07-03T21:20:27.575Z"
   },
   {
    "duration": 13,
    "start_time": "2023-07-03T21:20:42.226Z"
   },
   {
    "duration": 1064,
    "start_time": "2023-07-03T21:20:47.685Z"
   },
   {
    "duration": 81,
    "start_time": "2023-07-03T21:20:48.750Z"
   },
   {
    "duration": 22,
    "start_time": "2023-07-03T21:20:48.833Z"
   },
   {
    "duration": 17,
    "start_time": "2023-07-03T21:20:48.857Z"
   },
   {
    "duration": 5,
    "start_time": "2023-07-03T21:20:48.876Z"
   },
   {
    "duration": 6,
    "start_time": "2023-07-03T21:20:48.882Z"
   },
   {
    "duration": 7,
    "start_time": "2023-07-03T21:20:48.890Z"
   },
   {
    "duration": 10,
    "start_time": "2023-07-03T21:20:48.898Z"
   },
   {
    "duration": 7,
    "start_time": "2023-07-03T21:20:48.909Z"
   },
   {
    "duration": 16,
    "start_time": "2023-07-03T21:20:48.919Z"
   },
   {
    "duration": 34,
    "start_time": "2023-07-03T21:20:48.936Z"
   },
   {
    "duration": 15,
    "start_time": "2023-07-03T21:20:48.971Z"
   },
   {
    "duration": 9,
    "start_time": "2023-07-03T21:20:48.988Z"
   },
   {
    "duration": 23,
    "start_time": "2023-07-03T21:20:48.999Z"
   },
   {
    "duration": 13,
    "start_time": "2023-07-03T21:20:49.024Z"
   },
   {
    "duration": 146,
    "start_time": "2023-07-03T21:20:49.038Z"
   },
   {
    "duration": 12,
    "start_time": "2023-07-03T21:20:49.186Z"
   },
   {
    "duration": 13,
    "start_time": "2023-07-03T21:20:49.200Z"
   },
   {
    "duration": 304,
    "start_time": "2023-07-03T21:20:49.215Z"
   },
   {
    "duration": 306,
    "start_time": "2023-07-03T21:20:49.521Z"
   },
   {
    "duration": 224,
    "start_time": "2023-07-03T21:20:49.829Z"
   },
   {
    "duration": 338,
    "start_time": "2023-07-03T21:20:50.055Z"
   },
   {
    "duration": 230,
    "start_time": "2023-07-03T21:20:50.395Z"
   },
   {
    "duration": 361,
    "start_time": "2023-07-03T21:20:50.627Z"
   },
   {
    "duration": 316,
    "start_time": "2023-07-03T21:20:50.989Z"
   },
   {
    "duration": 5,
    "start_time": "2023-07-03T21:20:51.306Z"
   },
   {
    "duration": 206,
    "start_time": "2023-07-03T21:20:51.312Z"
   },
   {
    "duration": 283,
    "start_time": "2023-07-03T21:20:51.521Z"
   },
   {
    "duration": 4,
    "start_time": "2023-07-03T21:20:51.806Z"
   },
   {
    "duration": 217,
    "start_time": "2023-07-03T21:20:51.812Z"
   },
   {
    "duration": 141,
    "start_time": "2023-07-03T21:20:52.031Z"
   },
   {
    "duration": 7,
    "start_time": "2023-07-03T21:20:52.174Z"
   },
   {
    "duration": 28,
    "start_time": "2023-07-03T21:20:52.182Z"
   },
   {
    "duration": 165,
    "start_time": "2023-07-03T21:20:52.212Z"
   },
   {
    "duration": 12,
    "start_time": "2023-07-03T21:20:52.379Z"
   },
   {
    "duration": 9,
    "start_time": "2023-07-03T21:20:52.392Z"
   },
   {
    "duration": 28,
    "start_time": "2023-07-03T21:20:52.402Z"
   },
   {
    "duration": 40,
    "start_time": "2023-07-03T21:20:52.431Z"
   },
   {
    "duration": 9,
    "start_time": "2023-07-03T21:20:52.474Z"
   },
   {
    "duration": 14,
    "start_time": "2023-07-03T21:20:52.484Z"
   },
   {
    "duration": 18,
    "start_time": "2023-07-03T21:21:31.331Z"
   },
   {
    "duration": 15,
    "start_time": "2023-07-03T21:21:38.693Z"
   },
   {
    "duration": 374,
    "start_time": "2023-07-03T21:21:47.627Z"
   },
   {
    "duration": 14,
    "start_time": "2023-07-03T21:21:55.875Z"
   },
   {
    "duration": 15,
    "start_time": "2023-07-03T21:22:02.073Z"
   },
   {
    "duration": 14,
    "start_time": "2023-07-03T21:23:24.437Z"
   },
   {
    "duration": 1118,
    "start_time": "2023-07-03T21:24:11.676Z"
   },
   {
    "duration": 78,
    "start_time": "2023-07-03T21:24:12.796Z"
   },
   {
    "duration": 23,
    "start_time": "2023-07-03T21:24:12.876Z"
   },
   {
    "duration": 8,
    "start_time": "2023-07-03T21:24:12.901Z"
   },
   {
    "duration": 7,
    "start_time": "2023-07-03T21:24:12.911Z"
   },
   {
    "duration": 4,
    "start_time": "2023-07-03T21:24:12.919Z"
   },
   {
    "duration": 11,
    "start_time": "2023-07-03T21:24:12.924Z"
   },
   {
    "duration": 37,
    "start_time": "2023-07-03T21:24:12.937Z"
   },
   {
    "duration": 8,
    "start_time": "2023-07-03T21:24:12.976Z"
   },
   {
    "duration": 17,
    "start_time": "2023-07-03T21:24:12.985Z"
   },
   {
    "duration": 13,
    "start_time": "2023-07-03T21:24:13.004Z"
   },
   {
    "duration": 14,
    "start_time": "2023-07-03T21:24:13.020Z"
   },
   {
    "duration": 11,
    "start_time": "2023-07-03T21:24:13.036Z"
   },
   {
    "duration": 15,
    "start_time": "2023-07-03T21:24:13.060Z"
   },
   {
    "duration": 7,
    "start_time": "2023-07-03T21:24:13.077Z"
   },
   {
    "duration": 169,
    "start_time": "2023-07-03T21:24:13.085Z"
   },
   {
    "duration": 20,
    "start_time": "2023-07-03T21:24:13.256Z"
   },
   {
    "duration": 16,
    "start_time": "2023-07-03T21:24:13.277Z"
   },
   {
    "duration": 307,
    "start_time": "2023-07-03T21:24:13.294Z"
   },
   {
    "duration": 280,
    "start_time": "2023-07-03T21:24:13.602Z"
   },
   {
    "duration": 225,
    "start_time": "2023-07-03T21:24:13.883Z"
   },
   {
    "duration": 290,
    "start_time": "2023-07-03T21:24:14.110Z"
   },
   {
    "duration": 212,
    "start_time": "2023-07-03T21:24:14.401Z"
   },
   {
    "duration": 295,
    "start_time": "2023-07-03T21:24:14.615Z"
   },
   {
    "duration": 319,
    "start_time": "2023-07-03T21:24:14.911Z"
   },
   {
    "duration": 6,
    "start_time": "2023-07-03T21:24:15.232Z"
   },
   {
    "duration": 206,
    "start_time": "2023-07-03T21:24:15.240Z"
   },
   {
    "duration": 284,
    "start_time": "2023-07-03T21:24:15.448Z"
   },
   {
    "duration": 4,
    "start_time": "2023-07-03T21:24:15.734Z"
   },
   {
    "duration": 243,
    "start_time": "2023-07-03T21:24:15.740Z"
   },
   {
    "duration": 161,
    "start_time": "2023-07-03T21:24:15.985Z"
   },
   {
    "duration": 25,
    "start_time": "2023-07-03T21:24:16.147Z"
   },
   {
    "duration": 10,
    "start_time": "2023-07-03T21:24:16.176Z"
   },
   {
    "duration": 147,
    "start_time": "2023-07-03T21:24:16.188Z"
   },
   {
    "duration": 26,
    "start_time": "2023-07-03T21:24:16.337Z"
   },
   {
    "duration": 11,
    "start_time": "2023-07-03T21:24:16.364Z"
   },
   {
    "duration": 24,
    "start_time": "2023-07-03T21:24:16.377Z"
   },
   {
    "duration": 13,
    "start_time": "2023-07-03T21:24:16.402Z"
   },
   {
    "duration": 10,
    "start_time": "2023-07-03T21:24:16.416Z"
   },
   {
    "duration": 11,
    "start_time": "2023-07-03T21:24:16.427Z"
   },
   {
    "duration": 1151,
    "start_time": "2023-07-03T21:25:44.428Z"
   },
   {
    "duration": 76,
    "start_time": "2023-07-03T21:25:45.582Z"
   },
   {
    "duration": 25,
    "start_time": "2023-07-03T21:25:45.663Z"
   },
   {
    "duration": 7,
    "start_time": "2023-07-03T21:25:45.690Z"
   },
   {
    "duration": 16,
    "start_time": "2023-07-03T21:25:45.699Z"
   },
   {
    "duration": 18,
    "start_time": "2023-07-03T21:25:45.717Z"
   },
   {
    "duration": 37,
    "start_time": "2023-07-03T21:25:45.737Z"
   },
   {
    "duration": 14,
    "start_time": "2023-07-03T21:25:45.776Z"
   },
   {
    "duration": 24,
    "start_time": "2023-07-03T21:25:45.792Z"
   },
   {
    "duration": 19,
    "start_time": "2023-07-03T21:25:45.820Z"
   },
   {
    "duration": 16,
    "start_time": "2023-07-03T21:25:45.841Z"
   },
   {
    "duration": 26,
    "start_time": "2023-07-03T21:25:45.858Z"
   },
   {
    "duration": 11,
    "start_time": "2023-07-03T21:25:45.885Z"
   },
   {
    "duration": 11,
    "start_time": "2023-07-03T21:25:45.898Z"
   },
   {
    "duration": 10,
    "start_time": "2023-07-03T21:25:45.910Z"
   },
   {
    "duration": 182,
    "start_time": "2023-07-03T21:25:45.921Z"
   },
   {
    "duration": 292,
    "start_time": "2023-07-03T21:25:46.105Z"
   },
   {
    "duration": 308,
    "start_time": "2023-07-03T21:25:46.398Z"
   },
   {
    "duration": 213,
    "start_time": "2023-07-03T21:25:46.707Z"
   },
   {
    "duration": 313,
    "start_time": "2023-07-03T21:25:46.922Z"
   },
   {
    "duration": 241,
    "start_time": "2023-07-03T21:25:47.237Z"
   },
   {
    "duration": 321,
    "start_time": "2023-07-03T21:25:47.480Z"
   },
   {
    "duration": 277,
    "start_time": "2023-07-03T21:25:47.803Z"
   },
   {
    "duration": 5,
    "start_time": "2023-07-03T21:25:48.082Z"
   },
   {
    "duration": 176,
    "start_time": "2023-07-03T21:25:48.089Z"
   },
   {
    "duration": 279,
    "start_time": "2023-07-03T21:25:48.266Z"
   },
   {
    "duration": 5,
    "start_time": "2023-07-03T21:25:48.546Z"
   },
   {
    "duration": 240,
    "start_time": "2023-07-03T21:25:48.554Z"
   },
   {
    "duration": 144,
    "start_time": "2023-07-03T21:25:48.796Z"
   },
   {
    "duration": 28,
    "start_time": "2023-07-03T21:25:48.942Z"
   },
   {
    "duration": 7,
    "start_time": "2023-07-03T21:25:48.973Z"
   },
   {
    "duration": 165,
    "start_time": "2023-07-03T21:25:48.982Z"
   },
   {
    "duration": 23,
    "start_time": "2023-07-03T21:25:49.149Z"
   },
   {
    "duration": 8,
    "start_time": "2023-07-03T21:25:49.174Z"
   },
   {
    "duration": 25,
    "start_time": "2023-07-03T21:25:49.183Z"
   },
   {
    "duration": 15,
    "start_time": "2023-07-03T21:25:49.210Z"
   },
   {
    "duration": 34,
    "start_time": "2023-07-03T21:25:49.227Z"
   },
   {
    "duration": 14,
    "start_time": "2023-07-03T21:25:49.263Z"
   },
   {
    "duration": 1251,
    "start_time": "2023-07-03T21:30:59.477Z"
   },
   {
    "duration": 85,
    "start_time": "2023-07-03T21:31:00.731Z"
   },
   {
    "duration": 27,
    "start_time": "2023-07-03T21:31:00.818Z"
   },
   {
    "duration": 32,
    "start_time": "2023-07-03T21:31:00.847Z"
   },
   {
    "duration": 47,
    "start_time": "2023-07-03T21:31:00.882Z"
   },
   {
    "duration": 75,
    "start_time": "2023-07-03T21:31:00.931Z"
   },
   {
    "duration": 70,
    "start_time": "2023-07-03T21:31:01.008Z"
   },
   {
    "duration": 114,
    "start_time": "2023-07-03T21:31:01.080Z"
   },
   {
    "duration": 53,
    "start_time": "2023-07-03T21:31:01.196Z"
   },
   {
    "duration": 46,
    "start_time": "2023-07-03T21:31:01.251Z"
   },
   {
    "duration": 37,
    "start_time": "2023-07-03T21:31:01.299Z"
   },
   {
    "duration": 61,
    "start_time": "2023-07-03T21:31:01.339Z"
   },
   {
    "duration": 18,
    "start_time": "2023-07-03T21:31:01.402Z"
   },
   {
    "duration": 33,
    "start_time": "2023-07-03T21:31:01.423Z"
   },
   {
    "duration": 53,
    "start_time": "2023-07-03T21:31:01.463Z"
   },
   {
    "duration": 202,
    "start_time": "2023-07-03T21:31:01.519Z"
   },
   {
    "duration": 323,
    "start_time": "2023-07-03T21:31:01.722Z"
   },
   {
    "duration": 348,
    "start_time": "2023-07-03T21:31:02.047Z"
   },
   {
    "duration": 230,
    "start_time": "2023-07-03T21:31:02.397Z"
   },
   {
    "duration": 385,
    "start_time": "2023-07-03T21:31:02.629Z"
   },
   {
    "duration": 226,
    "start_time": "2023-07-03T21:31:03.016Z"
   },
   {
    "duration": 361,
    "start_time": "2023-07-03T21:31:03.244Z"
   },
   {
    "duration": 287,
    "start_time": "2023-07-03T21:31:03.606Z"
   },
   {
    "duration": 5,
    "start_time": "2023-07-03T21:31:03.895Z"
   },
   {
    "duration": 231,
    "start_time": "2023-07-03T21:31:03.901Z"
   },
   {
    "duration": 349,
    "start_time": "2023-07-03T21:31:04.136Z"
   },
   {
    "duration": 6,
    "start_time": "2023-07-03T21:31:04.488Z"
   },
   {
    "duration": 246,
    "start_time": "2023-07-03T21:31:04.497Z"
   },
   {
    "duration": 150,
    "start_time": "2023-07-03T21:31:04.745Z"
   },
   {
    "duration": 7,
    "start_time": "2023-07-03T21:31:04.896Z"
   },
   {
    "duration": 7,
    "start_time": "2023-07-03T21:31:04.905Z"
   },
   {
    "duration": 188,
    "start_time": "2023-07-03T21:31:04.913Z"
   },
   {
    "duration": 11,
    "start_time": "2023-07-03T21:31:05.103Z"
   },
   {
    "duration": 9,
    "start_time": "2023-07-03T21:31:05.116Z"
   },
   {
    "duration": 54,
    "start_time": "2023-07-03T21:31:05.127Z"
   },
   {
    "duration": 15,
    "start_time": "2023-07-03T21:31:05.183Z"
   },
   {
    "duration": 16,
    "start_time": "2023-07-03T21:31:05.200Z"
   },
   {
    "duration": 79,
    "start_time": "2023-07-03T21:31:05.218Z"
   },
   {
    "duration": 0,
    "start_time": "2023-07-03T21:31:05.299Z"
   },
   {
    "duration": 0,
    "start_time": "2023-07-03T21:31:05.301Z"
   },
   {
    "duration": 43,
    "start_time": "2023-07-03T21:31:08.623Z"
   },
   {
    "duration": 167,
    "start_time": "2023-07-03T21:31:36.033Z"
   },
   {
    "duration": 9,
    "start_time": "2023-07-03T21:31:37.932Z"
   },
   {
    "duration": 1302,
    "start_time": "2023-07-03T21:31:44.353Z"
   },
   {
    "duration": 102,
    "start_time": "2023-07-03T21:31:45.657Z"
   },
   {
    "duration": 45,
    "start_time": "2023-07-03T21:31:45.762Z"
   },
   {
    "duration": 10,
    "start_time": "2023-07-03T21:31:45.811Z"
   },
   {
    "duration": 12,
    "start_time": "2023-07-03T21:31:45.823Z"
   },
   {
    "duration": 31,
    "start_time": "2023-07-03T21:31:45.837Z"
   },
   {
    "duration": 12,
    "start_time": "2023-07-03T21:31:45.870Z"
   },
   {
    "duration": 14,
    "start_time": "2023-07-03T21:31:45.886Z"
   },
   {
    "duration": 16,
    "start_time": "2023-07-03T21:31:45.902Z"
   },
   {
    "duration": 22,
    "start_time": "2023-07-03T21:31:45.921Z"
   },
   {
    "duration": 32,
    "start_time": "2023-07-03T21:31:45.945Z"
   },
   {
    "duration": 21,
    "start_time": "2023-07-03T21:31:45.980Z"
   },
   {
    "duration": 15,
    "start_time": "2023-07-03T21:31:46.005Z"
   },
   {
    "duration": 21,
    "start_time": "2023-07-03T21:31:46.022Z"
   },
   {
    "duration": 34,
    "start_time": "2023-07-03T21:31:46.045Z"
   },
   {
    "duration": 156,
    "start_time": "2023-07-03T21:31:46.085Z"
   },
   {
    "duration": 335,
    "start_time": "2023-07-03T21:31:46.243Z"
   },
   {
    "duration": 331,
    "start_time": "2023-07-03T21:31:46.580Z"
   },
   {
    "duration": 230,
    "start_time": "2023-07-03T21:31:46.913Z"
   },
   {
    "duration": 353,
    "start_time": "2023-07-03T21:31:47.145Z"
   },
   {
    "duration": 246,
    "start_time": "2023-07-03T21:31:47.500Z"
   },
   {
    "duration": 354,
    "start_time": "2023-07-03T21:31:47.749Z"
   },
   {
    "duration": 299,
    "start_time": "2023-07-03T21:31:48.105Z"
   },
   {
    "duration": 5,
    "start_time": "2023-07-03T21:31:48.406Z"
   },
   {
    "duration": 183,
    "start_time": "2023-07-03T21:31:48.412Z"
   },
   {
    "duration": 316,
    "start_time": "2023-07-03T21:31:48.597Z"
   },
   {
    "duration": 5,
    "start_time": "2023-07-03T21:31:48.915Z"
   },
   {
    "duration": 267,
    "start_time": "2023-07-03T21:31:48.925Z"
   },
   {
    "duration": 193,
    "start_time": "2023-07-03T21:31:49.194Z"
   },
   {
    "duration": 8,
    "start_time": "2023-07-03T21:31:49.393Z"
   },
   {
    "duration": 9,
    "start_time": "2023-07-03T21:31:49.402Z"
   },
   {
    "duration": 172,
    "start_time": "2023-07-03T21:31:49.413Z"
   },
   {
    "duration": 14,
    "start_time": "2023-07-03T21:31:49.586Z"
   },
   {
    "duration": 11,
    "start_time": "2023-07-03T21:31:49.601Z"
   },
   {
    "duration": 35,
    "start_time": "2023-07-03T21:31:49.614Z"
   },
   {
    "duration": 27,
    "start_time": "2023-07-03T21:31:49.650Z"
   },
   {
    "duration": 21,
    "start_time": "2023-07-03T21:31:49.679Z"
   },
   {
    "duration": 194,
    "start_time": "2023-07-03T21:31:49.702Z"
   },
   {
    "duration": 12,
    "start_time": "2023-07-03T21:31:49.898Z"
   },
   {
    "duration": 54,
    "start_time": "2023-07-03T21:31:49.913Z"
   },
   {
    "duration": 26,
    "start_time": "2023-07-03T21:35:28.503Z"
   },
   {
    "duration": 19,
    "start_time": "2023-07-03T21:37:27.951Z"
   },
   {
    "duration": 1332,
    "start_time": "2023-07-03T21:40:16.449Z"
   },
   {
    "duration": 77,
    "start_time": "2023-07-03T21:40:17.783Z"
   },
   {
    "duration": 30,
    "start_time": "2023-07-03T21:40:17.865Z"
   },
   {
    "duration": 7,
    "start_time": "2023-07-03T21:40:17.897Z"
   },
   {
    "duration": 7,
    "start_time": "2023-07-03T21:40:17.906Z"
   },
   {
    "duration": 5,
    "start_time": "2023-07-03T21:40:17.915Z"
   },
   {
    "duration": 44,
    "start_time": "2023-07-03T21:40:17.922Z"
   },
   {
    "duration": 13,
    "start_time": "2023-07-03T21:40:17.969Z"
   },
   {
    "duration": 11,
    "start_time": "2023-07-03T21:40:17.984Z"
   },
   {
    "duration": 17,
    "start_time": "2023-07-03T21:40:17.997Z"
   },
   {
    "duration": 8,
    "start_time": "2023-07-03T21:40:18.015Z"
   },
   {
    "duration": 45,
    "start_time": "2023-07-03T21:40:18.025Z"
   },
   {
    "duration": 17,
    "start_time": "2023-07-03T21:40:18.073Z"
   },
   {
    "duration": 11,
    "start_time": "2023-07-03T21:40:18.094Z"
   },
   {
    "duration": 10,
    "start_time": "2023-07-03T21:40:18.108Z"
   },
   {
    "duration": 193,
    "start_time": "2023-07-03T21:40:18.120Z"
   },
   {
    "duration": 309,
    "start_time": "2023-07-03T21:40:18.315Z"
   },
   {
    "duration": 309,
    "start_time": "2023-07-03T21:40:18.626Z"
   },
   {
    "duration": 229,
    "start_time": "2023-07-03T21:40:18.937Z"
   },
   {
    "duration": 324,
    "start_time": "2023-07-03T21:40:19.172Z"
   },
   {
    "duration": 285,
    "start_time": "2023-07-03T21:40:19.498Z"
   },
   {
    "duration": 320,
    "start_time": "2023-07-03T21:40:19.785Z"
   },
   {
    "duration": 294,
    "start_time": "2023-07-03T21:40:20.107Z"
   },
   {
    "duration": 5,
    "start_time": "2023-07-03T21:40:20.404Z"
   },
   {
    "duration": 186,
    "start_time": "2023-07-03T21:40:20.411Z"
   },
   {
    "duration": 298,
    "start_time": "2023-07-03T21:40:20.600Z"
   },
   {
    "duration": 5,
    "start_time": "2023-07-03T21:40:20.900Z"
   },
   {
    "duration": 271,
    "start_time": "2023-07-03T21:40:20.906Z"
   },
   {
    "duration": 145,
    "start_time": "2023-07-03T21:40:21.180Z"
   },
   {
    "duration": 10,
    "start_time": "2023-07-03T21:40:21.327Z"
   },
   {
    "duration": 15,
    "start_time": "2023-07-03T21:40:21.338Z"
   },
   {
    "duration": 196,
    "start_time": "2023-07-03T21:40:21.358Z"
   },
   {
    "duration": 13,
    "start_time": "2023-07-03T21:40:21.559Z"
   },
   {
    "duration": 9,
    "start_time": "2023-07-03T21:40:21.579Z"
   },
   {
    "duration": 26,
    "start_time": "2023-07-03T21:40:21.590Z"
   },
   {
    "duration": 13,
    "start_time": "2023-07-03T21:40:21.618Z"
   },
   {
    "duration": 20,
    "start_time": "2023-07-03T21:40:21.659Z"
   },
   {
    "duration": 185,
    "start_time": "2023-07-03T21:40:21.681Z"
   },
   {
    "duration": 14,
    "start_time": "2023-07-03T21:40:21.868Z"
   },
   {
    "duration": 31,
    "start_time": "2023-07-03T21:40:21.884Z"
   },
   {
    "duration": 14,
    "start_time": "2023-07-03T21:40:21.918Z"
   },
   {
    "duration": 1289,
    "start_time": "2023-07-04T14:55:18.809Z"
   },
   {
    "duration": 236,
    "start_time": "2023-07-04T14:55:20.100Z"
   },
   {
    "duration": 23,
    "start_time": "2023-07-04T14:55:20.337Z"
   },
   {
    "duration": 9,
    "start_time": "2023-07-04T14:55:20.362Z"
   },
   {
    "duration": 20,
    "start_time": "2023-07-04T14:55:20.373Z"
   },
   {
    "duration": 13,
    "start_time": "2023-07-04T14:55:20.395Z"
   },
   {
    "duration": 6,
    "start_time": "2023-07-04T14:55:21.201Z"
   },
   {
    "duration": 13,
    "start_time": "2023-07-04T14:55:21.350Z"
   },
   {
    "duration": 11,
    "start_time": "2023-07-04T14:55:21.522Z"
   },
   {
    "duration": 18,
    "start_time": "2023-07-04T14:55:21.681Z"
   },
   {
    "duration": 10,
    "start_time": "2023-07-04T14:55:22.958Z"
   },
   {
    "duration": 18,
    "start_time": "2023-07-04T14:55:23.268Z"
   },
   {
    "duration": 11,
    "start_time": "2023-07-04T14:55:24.236Z"
   },
   {
    "duration": 9,
    "start_time": "2023-07-04T14:55:26.026Z"
   },
   {
    "duration": 15,
    "start_time": "2023-07-04T14:55:26.228Z"
   },
   {
    "duration": 158,
    "start_time": "2023-07-04T14:55:26.413Z"
   },
   {
    "duration": 283,
    "start_time": "2023-07-04T14:55:27.748Z"
   },
   {
    "duration": 281,
    "start_time": "2023-07-04T14:55:28.397Z"
   },
   {
    "duration": 202,
    "start_time": "2023-07-04T14:55:29.862Z"
   },
   {
    "duration": 395,
    "start_time": "2023-07-04T14:55:30.655Z"
   },
   {
    "duration": 224,
    "start_time": "2023-07-04T14:55:31.431Z"
   },
   {
    "duration": 301,
    "start_time": "2023-07-04T14:55:32.221Z"
   },
   {
    "duration": 287,
    "start_time": "2023-07-04T14:55:33.259Z"
   },
   {
    "duration": 4,
    "start_time": "2023-07-04T14:55:34.073Z"
   },
   {
    "duration": 161,
    "start_time": "2023-07-04T14:55:34.871Z"
   },
   {
    "duration": 255,
    "start_time": "2023-07-04T14:55:35.461Z"
   },
   {
    "duration": 6,
    "start_time": "2023-07-04T14:55:36.067Z"
   },
   {
    "duration": 238,
    "start_time": "2023-07-04T14:55:37.090Z"
   },
   {
    "duration": 134,
    "start_time": "2023-07-04T14:55:37.330Z"
   },
   {
    "duration": 6,
    "start_time": "2023-07-04T14:55:37.475Z"
   },
   {
    "duration": 9,
    "start_time": "2023-07-04T14:55:37.690Z"
   },
   {
    "duration": 165,
    "start_time": "2023-07-04T14:55:38.689Z"
   },
   {
    "duration": 12,
    "start_time": "2023-07-04T14:55:41.331Z"
   },
   {
    "duration": 100,
    "start_time": "2023-07-04T14:56:14.570Z"
   },
   {
    "duration": 9,
    "start_time": "2023-07-04T14:57:16.695Z"
   },
   {
    "duration": 9,
    "start_time": "2023-07-04T14:57:53.093Z"
   }
  ],
  "kernelspec": {
   "display_name": "Python 3",
   "language": "python",
   "name": "python3"
  },
  "language_info": {
   "codemirror_mode": {
    "name": "ipython",
    "version": 3
   },
   "file_extension": ".py",
   "mimetype": "text/x-python",
   "name": "python",
   "nbconvert_exporter": "python",
   "pygments_lexer": "ipython3",
   "version": "3.8.5"
  },
  "toc": {
   "base_numbering": 1,
   "nav_menu": {},
   "number_sections": false,
   "sideBar": true,
   "skip_h1_title": true,
   "title_cell": "Table of Contents",
   "title_sidebar": "Contents",
   "toc_cell": false,
   "toc_position": {
    "height": "calc(100% - 180px)",
    "left": "10px",
    "top": "150px",
    "width": "371px"
   },
   "toc_section_display": true,
   "toc_window_display": true
  }
 },
 "nbformat": 4,
 "nbformat_minor": 2
}
