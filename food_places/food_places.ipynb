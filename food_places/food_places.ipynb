{
 "cells": [
  {
   "cell_type": "markdown",
   "metadata": {},
   "source": [
    "# Проектная работа: Иccледование рынка заведений общественного питания Москвы"
   ]
  },
  {
   "cell_type": "markdown",
   "metadata": {},
   "source": [
    "## Описание проекта"
   ]
  },
  {
   "cell_type": "markdown",
   "metadata": {},
   "source": [
    "Инвесторы из фонда «Shut Up and Take My Money» решили попробовать себя в новой области и открыть заведение общественного питания в Москве. Заказчики ещё не знают, что это будет за место: кафе, ресторан, пиццерия, паб или бар, — и какими будут расположение, меню и цены.\n",
    "Необходимо подготовить исследование рынка Москвы, найти интересные особенности и презентовать полученные результаты, которые в будущем помогут в выборе подходящего инвесторам места.\n",
    "\n",
    "Доступен датасет с заведениями общественного питания Москвы, составленный на основе данных сервисов Яндекс Карты и Яндекс Бизнес на лето 2022 года. Информация, размещённая в сервисе Яндекс Бизнес, могла быть добавлена пользователями или найдена в общедоступных источниках. Она носит исключительно справочный характер."
   ]
  },
  {
   "cell_type": "markdown",
   "metadata": {},
   "source": [
    "В файле `moscow_places.csv` содержится различная информация о заведениях: название, часы работы, средний чек, рейтинг, административный район, в котором находится заведение и т.д."
   ]
  },
  {
   "cell_type": "markdown",
   "metadata": {},
   "source": [
    "## Оглавление проекта"
   ]
  },
  {
   "cell_type": "markdown",
   "metadata": {},
   "source": [
    "1. [Открытие данных](#start)\n",
    "2. [Предобработка данных](#continue)\n",
    "    * [Обработка пропущенных значений](#lost)\n",
    "    * [Обработка дубликатов](#duplicates)\n",
    "    * [Добавление столбцов](#rows)\n",
    "3. [Анализ данных](#middle)\n",
    "    * [Исследование категорий объектов общественного питания](#categories)\n",
    "    * [Исследование количества посадочных мест в местах по категориям](#quantity)\n",
    "    * [Исследование соотношения сетевых и несетевых заведений](#chain)\n",
    "    * [Исследование соотношения количества сетевых и несетевых заведений по категориям объектов](#chain_2)\n",
    "    * [Исследование топ-15 популярных сетей в Москве](#top15chains)\n",
    "    * [Изучение общего количества заведений и количества заведений каждой категории по административным районам Москвы](#quantity_moscow)\n",
    "    * [Распределение средних рейтингов по категориям заведений](#rating)\n",
    "    * [Фоновая картограмма (хороплет) со средним рейтингом заведений каждого района](#map)\n",
    "    * [Исследование топ-15 улиц по количеству заведений](#top15streets)\n",
    "    * [Изучение значений средних чеков заведений по округам Москвы](#middle_check)\n",
    "    * [Исследование зависимости рейтинга и среднего чека в заведениях](#rate_check)\n",
    "4. [Детализация исследования: открытие кофейни](#final)\n",
    "    * [Исследование количества и расположения кофеен в датасете, а также рейтинга кофеен по районам](#cafesquantity)\n",
    "    * [Исследование наличия круглосуточных кофеен](#cafes24_7)\n",
    "    * [Исследование стоимости чашки капучино в кофейнях по районам](#cap_sum)"
   ]
  },
  {
   "cell_type": "markdown",
   "metadata": {},
   "source": [
    "### Загрузка данных и изучение общей информации <a class=\"anchor\" id=\"start\"></a>"
   ]
  },
  {
   "cell_type": "markdown",
   "metadata": {},
   "source": [
    "#### 1. Загрузка библиотек "
   ]
  },
  {
   "cell_type": "code",
   "execution_count": 5,
   "metadata": {},
   "outputs": [
    {
     "ename": "ModuleNotFoundError",
     "evalue": "No module named 'folium'",
     "output_type": "error",
     "traceback": [
      "\u001b[1;31m---------------------------------------------------------------------------\u001b[0m",
      "\u001b[1;31mModuleNotFoundError\u001b[0m                       Traceback (most recent call last)",
      "\u001b[1;32m<ipython-input-5-fd76b5aed4ee>\u001b[0m in \u001b[0;36m<module>\u001b[1;34m\u001b[0m\n\u001b[0;32m      3\u001b[0m \u001b[1;32mimport\u001b[0m \u001b[0mmatplotlib\u001b[0m\u001b[1;33m.\u001b[0m\u001b[0mpyplot\u001b[0m \u001b[1;32mas\u001b[0m \u001b[0mplt\u001b[0m\u001b[1;33m\u001b[0m\u001b[1;33m\u001b[0m\u001b[0m\n\u001b[0;32m      4\u001b[0m \u001b[1;32mimport\u001b[0m \u001b[0mseaborn\u001b[0m \u001b[1;32mas\u001b[0m \u001b[0msns\u001b[0m\u001b[1;33m\u001b[0m\u001b[1;33m\u001b[0m\u001b[0m\n\u001b[1;32m----> 5\u001b[1;33m \u001b[1;32mimport\u001b[0m \u001b[0mfolium\u001b[0m\u001b[1;33m\u001b[0m\u001b[1;33m\u001b[0m\u001b[0m\n\u001b[0m\u001b[0;32m      6\u001b[0m \u001b[1;32mfrom\u001b[0m \u001b[0mfolium\u001b[0m \u001b[1;32mimport\u001b[0m \u001b[0mMarker\u001b[0m\u001b[1;33m,\u001b[0m \u001b[0mMap\u001b[0m\u001b[1;33m\u001b[0m\u001b[1;33m\u001b[0m\u001b[0m\n\u001b[0;32m      7\u001b[0m \u001b[1;32mimport\u001b[0m \u001b[0mpandas\u001b[0m \u001b[1;32mas\u001b[0m \u001b[0mpd\u001b[0m\u001b[1;33m\u001b[0m\u001b[1;33m\u001b[0m\u001b[0m\n",
      "\u001b[1;31mModuleNotFoundError\u001b[0m: No module named 'folium'"
     ]
    }
   ],
   "source": [
    "import pandas as pd\n",
    "#импортируем все библиотеки, которые могут понадобиться для построения графиков\n",
    "import matplotlib.pyplot as plt\n",
    "import seaborn as sns\n",
    "import folium\n",
    "from folium import Marker, Map\n",
    "import pandas as pd\n",
    "import numpy as np\n",
    "import datetime as dt\n",
    "from datetime import datetime\n",
    "import plotly.io as pio\n",
    "pio.renderers.default = \"svg\"\n",
    "svg_renderer = pio.renderers[\"svg\"]\n",
    "svg_renderer.scale = 1.2"
   ]
  },
  {
   "cell_type": "markdown",
   "metadata": {},
   "source": [
    "#### 2. Изучение общей информации"
   ]
  },
  {
   "cell_type": "code",
   "execution_count": null,
   "metadata": {},
   "outputs": [],
   "source": [
    "try: \n",
    "    df = pd.read_csv('/datasets/moscow_places.csv')\n",
    "except:\n",
    "    df = pd.read_csv('moscow_places.csv')"
   ]
  },
  {
   "cell_type": "code",
   "execution_count": null,
   "metadata": {},
   "outputs": [],
   "source": [
    "#изучим информацию о данных\n",
    "df.info()"
   ]
  },
  {
   "cell_type": "code",
   "execution_count": null,
   "metadata": {
    "scrolled": false
   },
   "outputs": [],
   "source": [
    "#изучим первые 20 строк данных\n",
    "df.head(20)"
   ]
  },
  {
   "cell_type": "markdown",
   "metadata": {},
   "source": [
    "В датасете представлено 8406 заведений. \n",
    "\n",
    "В столбцах `hours`, `price`, `avg_bill`, `middle_avg_bill`, `middle_coffee_cup`, `seats` есть пропущенные значения. Заполнить пропущенные значения в столбцах `hours` и `seats` не представляется возможным, так как мы не можем проверить часы работы заведения и количество посадочных мест, если данные не были указаны владельцем заведения или кем-то из пользователей. \n",
    "Средняя стоимость заказа также может быть не указана, если заведение, например, новое. Также можно обратить внимание, что зачастую значения отсутствуют одновременно в трех столбцах `price`, `avg_bill`, `middle_avg_bill`. "
   ]
  },
  {
   "cell_type": "markdown",
   "metadata": {},
   "source": [
    "### Предобработка данных <a id=\"continue\"></a>"
   ]
  },
  {
   "cell_type": "markdown",
   "metadata": {},
   "source": [
    "#### 3. Проверка пропущенных значений  <a id=\"lost\"></a>"
   ]
  },
  {
   "cell_type": "code",
   "execution_count": null,
   "metadata": {},
   "outputs": [],
   "source": [
    "#проверяем пропущенные значения\n",
    "df.isna().sum()"
   ]
  },
  {
   "cell_type": "code",
   "execution_count": null,
   "metadata": {},
   "outputs": [],
   "source": [
    "#посмотрим на процентное соотношение пропусков\n",
    "pd.DataFrame(round(df.isna().mean().sort_values(ascending=False)*100,1)).style.background_gradient('coolwarm')"
   ]
  },
  {
   "cell_type": "markdown",
   "metadata": {},
   "source": [
    "#### 4. Проверка дубликатов в датасете<a id=\"duplicates\"></a>"
   ]
  },
  {
   "cell_type": "code",
   "execution_count": null,
   "metadata": {},
   "outputs": [],
   "source": [
    "#проверяем скрытые полные дубликаты\n",
    "print('Количество скрытых полных дубликатов в датасете:', df.duplicated().sum())"
   ]
  },
  {
   "cell_type": "code",
   "execution_count": null,
   "metadata": {},
   "outputs": [],
   "source": [
    "#приведем названия заведений в столбце к нижнему регистру, т.к. одно название может быть написано по-разному\n",
    "df['name'] = df['name'].str.lower()"
   ]
  },
  {
   "cell_type": "code",
   "execution_count": null,
   "metadata": {},
   "outputs": [],
   "source": [
    "#проверим все категории, которые есть в датасете\n",
    "df['category'].unique()"
   ]
  },
  {
   "cell_type": "code",
   "execution_count": null,
   "metadata": {},
   "outputs": [],
   "source": [
    "#исключим из наименований категорию заведения\n",
    "sort = ['кафе ', 'ресторан ', 'столовая ',\n",
    "             'булочная', 'кофейня ', 'пиццерия ',\n",
    "             'быстрое питание ', 'бар, паб ']\n",
    "for i in sort:\n",
    "    df['name'] = df['name'].str.replace(i, '')"
   ]
  },
  {
   "cell_type": "code",
   "execution_count": null,
   "metadata": {},
   "outputs": [],
   "source": [
    "#проверим дубликаты по 2 столбцам - названию заведения и адресу\n",
    "df.duplicated(subset=['name', 'address']).sum()"
   ]
  },
  {
   "cell_type": "code",
   "execution_count": null,
   "metadata": {},
   "outputs": [],
   "source": [
    "#удаляем дубликаты\n",
    "df = df.drop_duplicates(['name', 'address'])"
   ]
  },
  {
   "cell_type": "code",
   "execution_count": null,
   "metadata": {},
   "outputs": [],
   "source": [
    "#проверяем удаление дубликатов\n",
    "df.duplicated(subset=['name', 'address']).sum()"
   ]
  },
  {
   "cell_type": "markdown",
   "metadata": {},
   "source": [
    "Пропуски оставляем как есть, так как заполнить их средними значениями невозможно, либо мы не обладаем какими-то данными (выше упомянули посадочные места и время работы)."
   ]
  },
  {
   "cell_type": "markdown",
   "metadata": {},
   "source": [
    "#### 5. Создаем столбец `street` с названиями улиц из столбца с адресом <a id=\"rows\"></a>"
   ]
  },
  {
   "cell_type": "code",
   "execution_count": null,
   "metadata": {},
   "outputs": [],
   "source": [
    "#применим метод split\n",
    "df['street'] = df['address'].str.split(', ').str[1]"
   ]
  },
  {
   "cell_type": "code",
   "execution_count": null,
   "metadata": {},
   "outputs": [],
   "source": [
    "#обработать корректно весь массив не выходит, поэтому для будущего исследования запомним, что не для каждого заведения улица указана корректно\n",
    "df['street'].head(30)"
   ]
  },
  {
   "cell_type": "markdown",
   "metadata": {},
   "source": [
    "#### 6. Создаем столбец `is_24/7` с обозначением, что заведение работает ежедневно и круглосуточно (24/7)\n",
    "логическое значение True — если заведение работает ежедневно и круглосуточно; логическое значение False — в противоположном случае."
   ]
  },
  {
   "cell_type": "code",
   "execution_count": null,
   "metadata": {},
   "outputs": [],
   "source": [
    "#создадим функцию для заполнения столбца данными\n",
    "def hours_24(value):\n",
    "    if value['hours'] == 'ежедневно, круглосуточно':\n",
    "        return 'True'\n",
    "    if value['hours'] == 'Неизвестно':\n",
    "        return 'Неизвестно'\n",
    "    else:\n",
    "        return 'False'"
   ]
  },
  {
   "cell_type": "code",
   "execution_count": null,
   "metadata": {},
   "outputs": [],
   "source": [
    "df['is_24/7'] = df.apply(hours_24, axis=1)"
   ]
  },
  {
   "cell_type": "markdown",
   "metadata": {},
   "source": [
    "**Промежуточный вывод по результатам предобработки данных:**\n",
    "- всего в изначальном датасете у нас было 8406 мест, после предобработки данных осталось 8400 мест;\n",
    "- в столбцах `hours`, `price`, `avg_bill`, `middle_avg_bill`, `middle_coffee_cup`, `seats` есть пропущенные значения, однако не заполняем пропуски и оставляем их как есть, пропущенные значения могли появиться, т.к. мало данных о заведении (оно новое, либо никто еще не успел указать данные в открытых источниках), либо, если владелец сам не указал информацию о заведении;\n",
    "- дополнили таблицу 2 столбцами - `street` с названием улицы, на которой расположено заведение, и `is_24/7`, в котором могут содержаться три вида значений: \"ежедневно, круглосуточно\", если заведение работает 24/7, если в столбце `hours` указано \"неизвестно\", то аналогичное значение будет и в столбце `is_24/7`, а если в столбце `hours` отсутствуют сведения, то в столбец `is_24/7` подтянется False."
   ]
  },
  {
   "cell_type": "markdown",
   "metadata": {},
   "source": [
    "### Анализ данных <a id=\"middle\"></a>"
   ]
  },
  {
   "cell_type": "markdown",
   "metadata": {},
   "source": [
    "#### 7. Исследование категорий объектов общественного питания <a id=\"categories\"></a>"
   ]
  },
  {
   "cell_type": "code",
   "execution_count": null,
   "metadata": {},
   "outputs": [],
   "source": [
    "# готовим данные для графика\n",
    "categories = pd.DataFrame(df['category'].value_counts()).reset_index()\n",
    "# строим диаграмму с сегментами\n",
    "fig = go.Figure(data=[go.Pie(labels=categories['index'], # указываем значения, которые появятся на метках сегментов\n",
    "                             values=categories['category'], # указываем данные, которые отобразятся на графике\n",
    "                             pull = [0.1, 0])]) # добавляем аргумент, который выделит сегмент-лидер на графике\n",
    "fig.update_layout(title='Количество объектов общественного питания по категориям', # указываем заголовок графика\n",
    "                  width=800, # указываем размеры графика\n",
    "                  height=600,\n",
    "                  annotations=[dict(x=1.12, # вручную настраиваем аннотацию легенды\n",
    "                                    y=1.05,\n",
    "                                    text='Категории объектов',\n",
    "                                    showarrow=False)])\n",
    "fig.show() # выводим график"
   ]
  },
  {
   "cell_type": "code",
   "execution_count": null,
   "metadata": {},
   "outputs": [],
   "source": [
    "fig = px.bar(categories, \n",
    "             x='index', \n",
    "             y='category', \n",
    "             text='category',\n",
    "             labels='category')\n",
    "fig.update_layout(title='Количество заведений по категориям',\n",
    "                  yaxis_title='Количество заведений',\n",
    "                  xaxis_title='Категория заведений')\n",
    "fig.show()"
   ]
  },
  {
   "cell_type": "markdown",
   "metadata": {},
   "source": [
    "Больше всего в датасете заведений в категории \"кафе\" - 2377 заведений, а именно 28.3% от общего числа заведений, затем идут рестораны - 2039 заведений, а именно 24.3% от общего числа заведений, затем кофейни - 1413 заведений, т.е. 16.8% от общего числа заведений, затем 764 бара/паба, затем пиццерии - 633 заведения, заведения быстрого питания - 603, столовая - 315, булочная - 256. "
   ]
  },
  {
   "cell_type": "markdown",
   "metadata": {},
   "source": [
    "#### 8. Исследование количества посадочных мест в местах по категориям: рестораны, кофейни, пиццерии, бары и т.д. <a id=\"quantity\"></a>"
   ]
  },
  {
   "cell_type": "code",
   "execution_count": null,
   "metadata": {},
   "outputs": [],
   "source": [
    "#посмотрим в общем на распределение значений, применив describe()\n",
    "df['seats'].describe()"
   ]
  },
  {
   "cell_type": "markdown",
   "metadata": {},
   "source": [
    "Видим, что заведения бывают ну очень большими - 1288 посадочных мест, но в среднем количество посадочных мест - 108."
   ]
  },
  {
   "cell_type": "code",
   "execution_count": null,
   "metadata": {},
   "outputs": [],
   "source": [
    "#создадим переменную seats\n",
    "#группируем по категориям, применим median()\n",
    "seats = df.groupby('category').agg({'seats': 'median'}).sort_values('seats', ascending=False)\n",
    "seats"
   ]
  },
  {
   "cell_type": "code",
   "execution_count": null,
   "metadata": {},
   "outputs": [],
   "source": [
    "#строим график\n",
    "plt.figure(figsize=(15, 8))\n",
    "sns.set_style('darkgrid')\n",
    "#применим boxplot для построения графика, чтобы оценить распределения\n",
    "sns.boxplot(x='category', y='seats', data=df, hue_order='seats')\n",
    "plt.title('Распределение количества посадочных мест в зависимости от категории заведения')\n",
    "plt.xlabel('Категория')\n",
    "plt.ylabel('Количество посадочных мест')\n",
    "plt.show()"
   ]
  },
  {
   "cell_type": "markdown",
   "metadata": {},
   "source": [
    "Из графика видно, что меньше всего посадочных мест в заведениях со следующими категориями: пиццерия, булочная, кафе. Больше всего посадочных мест в ресторанах, барах/пабах и кофейнях. При этом в кафе, ресторанах и барах часто очень много посадочных мест - больше медианного значения."
   ]
  },
  {
   "cell_type": "markdown",
   "metadata": {},
   "source": [
    "#### 9. Исследование соотношения сетевых и несетевых заведений в датасете <a id=\"chain\"></a>"
   ]
  },
  {
   "cell_type": "code",
   "execution_count": null,
   "metadata": {},
   "outputs": [],
   "source": [
    "#посмотрим в целом на количество сетевых заведений и заведений, которые не являются сетевыми\n",
    "net = df.groupby('chain').agg({'name': 'count'}).rename(columns={'name': 'count'}).sort_values('count', ascending=False)\n",
    "chain = ['Несетевые заведения', 'Сетевые заведения']\n",
    "values = [5197, 3203]"
   ]
  },
  {
   "cell_type": "code",
   "execution_count": null,
   "metadata": {},
   "outputs": [],
   "source": [
    "#изобразим распределение заведений на графике\n",
    "fig = go.Figure(data=[go.Pie(labels=chain, values=values)])\n",
    "fig.show()"
   ]
  },
  {
   "cell_type": "markdown",
   "metadata": {},
   "source": [
    "Сетевых заведений - 38.1% от всех заведений, а несетевые заведения составляют 61.9% от всего датасета. "
   ]
  },
  {
   "cell_type": "markdown",
   "metadata": {},
   "source": [
    "#### 10. Какие категории заведений чаще являются сетевыми? <a id=\"chain_2\"></a>"
   ]
  },
  {
   "cell_type": "code",
   "execution_count": null,
   "metadata": {},
   "outputs": [],
   "source": [
    "chain = df.groupby('category').agg({'chain':['count','sum']}).reset_index()\n",
    "# считаем количество заведений по категориям и сколько из них сетевые\n",
    "\n",
    "chain.columns = ['category','total_amnt','chain']\n",
    "# переименовывем столбцы\n",
    "\n",
    "chain['percent%'] = (chain['chain']/chain['total_amnt']*100).round(1)\n",
    "# считаем долю сетевых от всех заведений в категориях, выводим на экран\n",
    "\n",
    "chain = chain.sort_values(by='percent%',ascending=False)\n",
    "display(chain.style.background_gradient(subset=['total_amnt','percent%'],cmap='Blues', axis=0))\n",
    "\n",
    "#для сортировки графика\n",
    "order_list = df.groupby(['category'])['chain'].mean().sort_values(ascending=True).index"
   ]
  },
  {
   "cell_type": "code",
   "execution_count": null,
   "metadata": {},
   "outputs": [],
   "source": [
    "fig = px.bar(chain,\n",
    "             x='total_amnt',\n",
    "             y='category',\n",
    "             text= 'percent%',\n",
    "             color='percent%',\n",
    "             category_orders={\"chain\":['сетевое', 'несетевое']},\n",
    "             height=500,\n",
    "             width=700\n",
    "             )\n",
    "fig.update_layout(title = 'График, отражающий количество сетевых заведений в каждой категории',\n",
    "                  xaxis_title = 'Общее количество заведений',\n",
    "                  yaxis_title = 'Категории',\n",
    "                  yaxis={'categoryarray':order_list}\n",
    "                  )\n",
    "fig.show()"
   ]
  },
  {
   "cell_type": "code",
   "execution_count": null,
   "metadata": {},
   "outputs": [],
   "source": [
    "fig = px.bar(chain,\n",
    "             x='total_amnt',\n",
    "             y='category',\n",
    "             text= 'percent%',\n",
    "             color='percent%',\n",
    "             category_orders={\"chain\":['сетевое', 'несетевое']},\n",
    "             height=500,\n",
    "             width=700\n",
    "             )\n",
    "fig.update_layout(title = 'График, отражающий количество сетевых заведений в каждой категории',\n",
    "                  xaxis_title = 'Общее количество заведений',\n",
    "                  yaxis_title = 'Категории',\n",
    "                  yaxis={'categoryorder':'total ascending'}\n",
    "                  )\n",
    "fig.show()"
   ]
  },
  {
   "cell_type": "markdown",
   "metadata": {},
   "source": [
    "Исходя из графика можем сделать вывод, что больше всего сетевых заведений в категориях булочная, пиццерия, кофейня. В булочных сетевых заведений свыше 61.3%, в пиццериях - 52.1%, в кофейнях - 51%, а вот меньше всего сетевых заведений в категории бар,паб - всего 22%."
   ]
  },
  {
   "cell_type": "code",
   "execution_count": null,
   "metadata": {},
   "outputs": [],
   "source": [
    "chain = df.groupby('category').agg({'chain':['count','sum']}).reset_index()\n",
    "# считаем количество заведений по категориям и сколько из них сетевые\n",
    "\n",
    "chain.columns = ['category','total_amnt','chain']\n",
    "# переименовывем столбцы\n",
    "\n",
    "chain['percent%'] = (chain['chain']/chain['total_amnt']*100).round(1)\n",
    "# считаем долю сетевых от всех заведений в категориях, выводим на экран\n",
    "\n",
    "chain = chain.sort_values(by='percent%',ascending=False)\n",
    "display(chain.style.background_gradient(subset=['total_amnt','percent%'],cmap='Blues', axis=0))\n",
    "\n",
    "order = list(chain['category'])\n",
    "# список для сортировки графика"
   ]
  },
  {
   "cell_type": "markdown",
   "metadata": {},
   "source": [
    "#### 11. Исследование топ-15 популярных сетей в Москве <a id=\"top15chains\"></a>"
   ]
  },
  {
   "cell_type": "code",
   "execution_count": null,
   "metadata": {},
   "outputs": [],
   "source": [
    "#создадим переменную top_15_chain\n",
    "#сделаем срез по сетевым заведениям, группируем по наименованию, считаем количество, сортируем по количеству\n",
    "top_15_chain = df.query('chain == 1') \\\n",
    "                   .groupby('name') \\\n",
    "                   .agg(count=('name', 'count')) \\\n",
    "                   .sort_values(by='count', ascending=False) \\\n",
    "                   .reset_index() \\\n",
    "                   .head(15)"
   ]
  },
  {
   "cell_type": "code",
   "execution_count": null,
   "metadata": {},
   "outputs": [],
   "source": [
    "#строим график, чтобы посмотреть количество заведений в топ-15 сетях\n",
    "plt.figure(figsize=(10, 6))\n",
    "sns.barplot(x='name', \n",
    "            y='count', \n",
    "            data=top_15_chain) \n",
    "\n",
    "plt.title('Топ-15 популярных сетей в Москве')\n",
    "plt.xlabel('Наименование заведения')\n",
    "plt.ylabel('Количество заведений', fontsize=12)\n",
    "\n",
    "plt.xticks(rotation=75)\n",
    "plt.show()"
   ]
  },
  {
   "cell_type": "code",
   "execution_count": null,
   "metadata": {},
   "outputs": [],
   "source": [
    "#создаем переменную, чтобы посмотреть категории топ-15 сетей в Москве\n",
    "top_chain_names = top_15_chain['name']\n",
    "\n",
    "top_15_chain_category = df.query('chain == 1 and name in @top_chain_names') \\\n",
    "                            .groupby(['category', 'name']) \\\n",
    "                            .agg(count=('name', 'count')) \\\n",
    "                            .reset_index() "
   ]
  },
  {
   "cell_type": "code",
   "execution_count": null,
   "metadata": {},
   "outputs": [],
   "source": [
    "fig = px.bar(top_15_chain_category, \n",
    "             x='category', \n",
    "             y='count', \n",
    "             color='name')\n",
    "fig.update_layout(title='Количество заведений из популярных сетей по категориям',\n",
    "                  yaxis_title='Количество заведений',\n",
    "                  xaxis_title='Категория заведений')\n",
    "fig.show()"
   ]
  },
  {
   "cell_type": "markdown",
   "metadata": {},
   "source": [
    "Все топ-15 популярных сетей в Москве мне знакомы, кроме cofefest и хинкальной. Большинство сетей находятся в категории кофейня, лидером среди сетевых заведений в категории кофейня является Шоколадница, при этом заведений Шоколадницы в целом больше всего в Москве - 119.\n",
    "\n",
    "Додо пицца и домино'с пицца уверенно заполнили рынок пиццерий в Москве: у додо 74 пиццерии, а у домино'с - 76. \n",
    "\n",
    "Обратила внимание, что заведения сети Буханка находятся как в категориях кофейня и кафе, так и в категории булочная. Аналогично с хинкальными - они есть сразу в нескольких категориях: ресторан, кафе, бар, паб, быстрое питание. Яндекс Лавка внезапно оказалась в категории ресторанов вместе с Prime. "
   ]
  },
  {
   "cell_type": "markdown",
   "metadata": {},
   "source": [
    "#### 12. Изучение общего количества заведений и количества заведений каждой категории по административным районам Москвы <a id=\"quantity_moscow\"></a>"
   ]
  },
  {
   "cell_type": "code",
   "execution_count": null,
   "metadata": {},
   "outputs": [],
   "source": [
    "print('В Москве присутствуют следующие административные районы:', df['district'].unique())"
   ]
  },
  {
   "cell_type": "code",
   "execution_count": null,
   "metadata": {},
   "outputs": [],
   "source": [
    "#в переменной districtcount группируемся по округу и категории, считаем количество заведений \n",
    "districtcount = df.groupby(['district', 'category']).agg(count=('name', 'count')).sort_values(by='count', ascending=False).reset_index()\n",
    "districtcount"
   ]
  },
  {
   "cell_type": "code",
   "execution_count": null,
   "metadata": {},
   "outputs": [],
   "source": [
    "#строим график\n",
    "fig = px.bar(districtcount.sort_values(by='count', ascending=False), \n",
    "             x='district', \n",
    "             y='count', \n",
    "             color='category')\n",
    "fig.update_layout(xaxis_title='Район',\n",
    "                  yaxis_title='Количество заведений')\n",
    "fig.show()"
   ]
  },
  {
   "cell_type": "markdown",
   "metadata": {},
   "source": [
    "Больше всего заведений в Центральном административном округе Москвы и большинство из этих заведений - рестораны, на втором месте среди категорий заведений кафе, затем кофейни и чуть меньше баров/пабов. В ЮАО, САО, СВАО примерно одинаковое количество как самих заведений, так и примерно одинаковое распределение этих заведений по категориям. Меньше всего заведений в СЗАО. "
   ]
  },
  {
   "cell_type": "markdown",
   "metadata": {},
   "source": [
    "#### 13. Распределение средних рейтингов по категориям заведений <a id=\"rating\"></a>"
   ]
  },
  {
   "cell_type": "code",
   "execution_count": null,
   "metadata": {},
   "outputs": [],
   "source": [
    "rating_mean = pd.pivot_table(df,\n",
    "              index='category',\n",
    "              values='rating',\n",
    "              aggfunc=np.mean).sort_values('rating', ascending=False)\n",
    "rating_mean"
   ]
  },
  {
   "cell_type": "code",
   "execution_count": null,
   "metadata": {},
   "outputs": [],
   "source": [
    "plt.figure(figsize=(15, 8))\n",
    "sns.set_style('darkgrid')\n",
    "sns.boxplot(x='category', y='rating', data=df, hue_order='rating_mean')\n",
    "plt.title('Распределение средних рейтингов по категориям заведений')\n",
    "plt.xlabel('Категория')\n",
    "plt.ylabel('Рейтинг')\n",
    "plt.show()"
   ]
  },
  {
   "cell_type": "markdown",
   "metadata": {},
   "source": [
    "Исходя из графика можем сделать следующие выводы: усредненные рейтинги по категориям заведений отличаются не очень сильно, самые высоко оцененные заведения - бары, пабы. Самая низкая средняя оценка у заведений быстрого питания. \n",
    "\n",
    "При построении boxplot'а видим следующее: булочные редко оценивают совсем плохо, аналогично с пиццериями. Барами, пабами бывают недовольны, но в целом мы можем увидеть, что оценивают такие места высоко, что не скажешь о кафе, ресторанах и заведениях быстрого питания - там много недовольных, поэтому и средняя оценка ниже. "
   ]
  },
  {
   "cell_type": "markdown",
   "metadata": {},
   "source": [
    "#### 14. Построение фоновой картограммы (хороплета) со средним рейтингом заведений каждого района <a id=\"map\"></a>"
   ]
  },
  {
   "cell_type": "markdown",
   "metadata": {},
   "source": [
    "Границы районов Москвы, которые встречаются в датасете, хранятся в файле admin_level_geomap.geojson."
   ]
  },
  {
   "cell_type": "code",
   "execution_count": null,
   "metadata": {},
   "outputs": [],
   "source": [
    "#создаем переменную\n",
    "rating_df = df.groupby('district', as_index=False)['rating'].agg('mean').round(1)\n",
    "rating_df"
   ]
  },
  {
   "cell_type": "code",
   "execution_count": null,
   "metadata": {},
   "outputs": [],
   "source": [
    "# подключаем модуль для работы с JSON-форматом\n",
    "import json\n",
    "\n",
    "# читаем файл и сохраняем в переменной\n",
    "with open('/datasets/admin_level_geomap.geojson', 'r') as f:\n",
    "    geo_json = json.load(f)"
   ]
  },
  {
   "cell_type": "code",
   "execution_count": null,
   "metadata": {
    "scrolled": false
   },
   "outputs": [],
   "source": [
    "# импортируем карту и хороплет\n",
    "from folium import Map, Choropleth\n",
    "\n",
    "# загружаем JSON-файл с границами округов Москвы\n",
    "state_geo = '/datasets/admin_level_geomap.geojson'\n",
    "# moscow_lat - широта центра Москвы, moscow_lng - долгота центра Москвы\n",
    "moscow_lat, moscow_lng = 55.751244, 37.618423\n",
    "\n",
    "# создаём карту Москвы\n",
    "m = Map(location=[moscow_lat, moscow_lng], zoom_start=10)\n",
    "\n",
    "# создаём хороплет с помощью конструктора Choropleth и добавляем его на карту\n",
    "Choropleth(\n",
    "    geo_data=state_geo,\n",
    "    data=rating_df,\n",
    "    columns=['district', 'rating'],\n",
    "    key_on='feature.name',\n",
    "    fill_color='OrRd',\n",
    "    fill_opacity=0.8,\n",
    "    legend_name='Средний рейтинг заведений по районам',\n",
    ").add_to(m)\n",
    "\n",
    "# выводим карту\n",
    "m"
   ]
  },
  {
   "cell_type": "markdown",
   "metadata": {},
   "source": [
    "Самый высокий средний рейтинг в заведениях Центрального административного округа, а вот в ЮВАО и СВАО либо очень требовательные посетители, либо качество заведений ниже - в этих округах средний рейтинг заведений около 4.1."
   ]
  },
  {
   "cell_type": "markdown",
   "metadata": {},
   "source": [
    "#### 15. Отображаем все заведения датасета на карте с помощью кластеров средствами библиотеки folium "
   ]
  },
  {
   "cell_type": "code",
   "execution_count": null,
   "metadata": {
    "scrolled": false
   },
   "outputs": [],
   "source": [
    "# импортируем карту и маркер\n",
    "from folium import Map, Marker\n",
    "# импортируем кластер\n",
    "from folium.plugins import MarkerCluster\n",
    "\n",
    "# moscow_lat - широта центра Москвы, moscow_lng - долгота центра Москвы\n",
    "moscow_lat, moscow_lng = 55.751244, 37.618423\n",
    "\n",
    "# создаём карту Москвы\n",
    "m = Map(location=[moscow_lat, moscow_lng], zoom_start=10)\n",
    "# создаём пустой кластер, добавляем его на карту\n",
    "marker_cluster = MarkerCluster().add_to(m)\n",
    "\n",
    "# пишем функцию, которая принимает строку датафрейма,\n",
    "# создаёт маркер в текущей точке и добавляет его в кластер marker_cluster\n",
    "def create_clusters(row):\n",
    "    Marker(\n",
    "        [row['lat'], row['lng']],\n",
    "        popup=f\"{row['name']} {row['rating']}\",\n",
    "    ).add_to(marker_cluster)\n",
    "\n",
    "# применяем функцию create_clusters() к каждой строке датафрейма\n",
    "df.apply(create_clusters, axis=1)\n",
    "\n",
    "# выводим карту\n",
    "m"
   ]
  },
  {
   "cell_type": "code",
   "execution_count": null,
   "metadata": {},
   "outputs": [],
   "source": [
    "print(df.groupby('district')['name'].count().sort_values(ascending=False))"
   ]
  },
  {
   "cell_type": "markdown",
   "metadata": {},
   "source": [
    "#### 16. Исследование топ-15 улиц по количеству заведений <a id=\"top_15_streets\"></a>"
   ]
  },
  {
   "cell_type": "code",
   "execution_count": null,
   "metadata": {},
   "outputs": [],
   "source": [
    "#создаем переменную top_15_streets, группируемся по улице, считаем количество заведений\n",
    "top_15_streets = df.groupby('street') \\\n",
    "                   .agg(count=('name', 'count')) \\\n",
    "                   .sort_values(by='count', ascending=False) \\\n",
    "                   .reset_index() \\\n",
    "                   .head(15)\n",
    "top_15_streets"
   ]
  },
  {
   "cell_type": "code",
   "execution_count": null,
   "metadata": {},
   "outputs": [],
   "source": [
    "top_streets = top_15_streets['street']\n",
    "\n",
    "top_15_streets_category = df.query('street in @top_streets') \\\n",
    "                            .groupby(['street','category']) \\\n",
    "                            .agg(count=('name', 'count')) \\\n",
    "                            .sort_values(by='count', ascending=False) \\\n",
    "                            .reset_index()"
   ]
  },
  {
   "cell_type": "code",
   "execution_count": null,
   "metadata": {},
   "outputs": [],
   "source": [
    "fig = px.bar(top_15_streets_category, \n",
    "             x='street', \n",
    "             y='count', \n",
    "             color='category').update_xaxes(categoryorder='total descending')\n",
    " \n",
    "fig.update_layout(title='Распределение количества заведений и их категорий по топ-15 улицам Москвы по количеству заведений',\n",
    "                  yaxis_title='Количество заведений',\n",
    "                  xaxis_title='Улицы')\n",
    "fig.show()"
   ]
  },
  {
   "cell_type": "markdown",
   "metadata": {},
   "source": [
    "Больше всего заведений на проспекте Мира - 183, из них большую часть составляют кафе, рестораны, кофейни. Также много заведений на Профсоюзной улице, проспекте Вернадского, Ленинском проспекте. В целом распределение категорий заведений по топ-15 улицам по количеству заведений одинаковое, за исключением МКАДа - на МКАДе подавляющее большинство заведений - кафе. "
   ]
  },
  {
   "cell_type": "markdown",
   "metadata": {},
   "source": [
    "#### 17. Поиск улиц, на которых находится только один объект общепита. "
   ]
  },
  {
   "cell_type": "code",
   "execution_count": null,
   "metadata": {},
   "outputs": [],
   "source": [
    "#сгруппируем датафрейм по улице и сделаем срез\n",
    "one_name_street = df.groupby('street') \\\n",
    "                            .agg(count=('name', 'count')) \\\n",
    "                            .sort_values(by='count', ascending=False) \\\n",
    "                            .reset_index() \\\n",
    "                            .query('count == 1')['street']\n",
    "df_one_name = df.query('street in @one_name_street')"
   ]
  },
  {
   "cell_type": "code",
   "execution_count": null,
   "metadata": {},
   "outputs": [],
   "source": [
    "#через display посмотрим на нашу таблицу\n",
    "display(df_one_name)"
   ]
  },
  {
   "cell_type": "markdown",
   "metadata": {},
   "source": [
    "В датасете 458 улиц, на которых только 1 заведение."
   ]
  },
  {
   "cell_type": "code",
   "execution_count": null,
   "metadata": {},
   "outputs": [],
   "source": [
    "#посмотрим на категории заведений\n",
    "categories_df_one_name = df_one_name.groupby('category') \\\n",
    "                                   .agg(count=('name', 'count')) \\\n",
    "                                   .sort_values(by='count', ascending=False) \\\n",
    "                                   .reset_index()"
   ]
  },
  {
   "cell_type": "code",
   "execution_count": null,
   "metadata": {},
   "outputs": [],
   "source": [
    "fig = go.Figure(data=[go.Pie(labels=categories_df_one_name['category'], values=categories_df_one_name['count'])])\n",
    "fig.update_layout(title='Распределение заведений по категориям, которые в единственном числе находятся на улицах Москвы', \n",
    "                  width=800, \n",
    "                  height=500,\n",
    "                  annotations=[dict(x=1.12, \n",
    "                                    y=1.05,\n",
    "                                    text='Категории объектов',\n",
    "                                    showarrow=False)])\n",
    "fig.show() "
   ]
  },
  {
   "cell_type": "code",
   "execution_count": null,
   "metadata": {},
   "outputs": [],
   "source": [
    "plt.figure(figsize=(10, 6))\n",
    "sns.barplot(x='category', \n",
    "            y='count', \n",
    "            data=categories_df_one_name) \n",
    "plt.title('Распределение заведений по категориям, которые в единственном числе находятся на улице в Москве')\n",
    "plt.xlabel('Категория заведения')\n",
    "plt.ylabel('Количество заведений', fontsize=12)\n",
    "\n",
    "plt.xticks(rotation=75)\n",
    "plt.show()"
   ]
  },
  {
   "cell_type": "markdown",
   "metadata": {},
   "source": [
    "Заведения, которые находятся в единственном числе на улице, - разных категорий, среди них есть и кафе, и рестораны, и кофейни, и бары. "
   ]
  },
  {
   "cell_type": "code",
   "execution_count": null,
   "metadata": {},
   "outputs": [],
   "source": [
    "#посмотрим, в каких округах Москвы расположены такие заведения\n",
    "districts_df_one_name = df_one_name.groupby('district') \\\n",
    "                                   .agg(count=('name', 'count')) \\\n",
    "                                   .sort_values(by='count', ascending=False) \\\n",
    "                                   .reset_index()"
   ]
  },
  {
   "cell_type": "code",
   "execution_count": null,
   "metadata": {},
   "outputs": [],
   "source": [
    "fig = go.Figure(data=[go.Pie(labels=districts_df_one_name['district'], values=districts_df_one_name['count'])])\n",
    "fig.update_layout(title='Распределение заведений по округам, которые в единственном числе находятся на улице', \n",
    "                  width=900, \n",
    "                  height=500,\n",
    "                  annotations=[dict(x=1.12, \n",
    "                                    y=1.05,\n",
    "                                    text='Категории объектов',\n",
    "                                    showarrow=False)])\n",
    "fig.show() "
   ]
  },
  {
   "cell_type": "code",
   "execution_count": null,
   "metadata": {},
   "outputs": [],
   "source": [
    "plt.figure(figsize=(10, 6))\n",
    "sns.barplot(x='district', \n",
    "            y='count', \n",
    "            data=districts_df_one_name) \n",
    "plt.title('Распределение заведений по округам, которые в единственном числе находятся на улице')\n",
    "plt.xlabel('Район')\n",
    "plt.ylabel('Количество заведений', fontsize=12)\n",
    "\n",
    "plt.xticks(rotation=75)\n",
    "plt.show()"
   ]
  },
  {
   "cell_type": "markdown",
   "metadata": {},
   "source": [
    "Один объект общепита часто находится на улицах Центрального административного округа Москвы - 31.7%, также много единственных объектов на улице в Москве в округах СВАО, ВАО и САО - 12%, 11.4% и 11.4% соответственно. "
   ]
  },
  {
   "cell_type": "markdown",
   "metadata": {},
   "source": [
    "#### 18. Изучение значений средних чеков заведений по округам Москвы <a id=\"middle_check\"></a>"
   ]
  },
  {
   "cell_type": "code",
   "execution_count": null,
   "metadata": {},
   "outputs": [],
   "source": [
    "#создадим переменную\n",
    "avg_bill = df.groupby('district')['middle_avg_bill'].median().sort_values()"
   ]
  },
  {
   "cell_type": "code",
   "execution_count": null,
   "metadata": {},
   "outputs": [],
   "source": [
    "display(avg_bill.sort_values(ascending=False))"
   ]
  },
  {
   "cell_type": "code",
   "execution_count": null,
   "metadata": {
    "scrolled": false
   },
   "outputs": [],
   "source": [
    "# создаём карту Москвы\n",
    "m = Map(location=[moscow_lat, moscow_lng], zoom_start=10)\n",
    "\n",
    "# создаём хороплет с помощью конструктора Choropleth и добавляем его на карту\n",
    "Choropleth(\n",
    "    geo_data=state_geo,\n",
    "    data=avg_bill,\n",
    "    columns=['district', 'middle_avg_bill'],\n",
    "    key_on='feature.name',\n",
    "    fill_color='Purples',\n",
    "    fill_opacity=0.8,\n",
    "    legend_name='Средний чек заведений по районам',\n",
    ").add_to(m)\n",
    "\n",
    "# выводим карту\n",
    "m"
   ]
  },
  {
   "cell_type": "markdown",
   "metadata": {},
   "source": [
    "Предсказуемо самый высокий средний чек в Центральном административном округе Москвы - дорогие заведения и дорогая аренда. Затем идет Западный административный округ - также неудивительно, т.к. на Рублевке и в Раменках очень дорогие цены в заведениях. Средние цены в округах ВАО и САО. А самый низкий средний медианный чек в округах ЮАО, ЮВАО и СВАО."
   ]
  },
  {
   "cell_type": "markdown",
   "metadata": {},
   "source": [
    "#### 19. Исследование зависимости рейтинга и среднего чека в заведениях (необязательное задание) <a id=\"rate_check\"></a>"
   ]
  },
  {
   "cell_type": "code",
   "execution_count": null,
   "metadata": {},
   "outputs": [],
   "source": [
    "(\n",
    "    df.pivot_table(index='rating', values='middle_avg_bill')\n",
    "    .plot(grid=True, style='o', figsize=(5, 5))\n",
    ")\n",
    "plt.show()\n",
    "print('Корреляция рейтинга заведения и числа с оценкой среднего чека, которое указано только для значений из столбца avg_bill:', df['rating'].corr(df['middle_avg_bill']))"
   ]
  },
  {
   "cell_type": "markdown",
   "metadata": {},
   "source": [
    "Можно сделать вывод, что размер среднего чека на оценку заведения пользователями не влияет."
   ]
  },
  {
   "cell_type": "markdown",
   "metadata": {},
   "source": [
    "**Вывод по результатам проведенного анализа:**\n",
    "1. Больше всего заведений расположено в Центральном административном округе Москвы, в этом же округе самый высокий средний чек и самый высокий рейтинг заведений.\n",
    "2. Больше всего в Москве открыто кафе, ресторанов и кофеен.\n",
    "3. Среднее количество посадочных мест - 108, однако медиана во всех категориях заведений ниже.\n",
    "4. В Москве сетевые заведения составляют 38.1% всего количества, чаще это заведения категорий булочная, пиццерия, кофейня, несетевых заведений - 61.9%.\n",
    "5. Усредненные рейтинги по категориям заведений отличаются не очень сильно, самые высоко оцененные заведения - бары, пабы. Самая низкая средняя оценка у заведений быстрого питания. \n",
    "6. Больше всего заведений на проспекте Мира - 183, из них большую часть составляют кафе, рестораны, кофейни. Также много заведений на Профсоюзной улице, проспекте Вернадского, Ленинском проспекте. На МКАДе в основном открыты кафе. В Москве целых 458 улиц, на которых всего 1 заведение."
   ]
  },
  {
   "cell_type": "markdown",
   "metadata": {},
   "source": [
    "### Детализация исследования: открытие кофейни <a id=\"final\"></a>"
   ]
  },
  {
   "cell_type": "markdown",
   "metadata": {},
   "source": [
    "Основателям фонда «Shut Up and Take My Money» не даёт покоя успех сериала «Друзья». Их мечта — открыть такую же крутую и доступную, как «Central Perk», кофейню в Москве. Будем считать, что заказчики не боятся конкуренции в этой сфере, ведь кофеен в больших городах уже достаточно. Попробуйте определить, осуществима ли мечта клиентов.\n",
    "\n",
    "Ответьте на следующие вопросы:\n",
    "- Сколько всего кофеен в датасете? В каких районах их больше всего, каковы особенности их расположения?\n",
    "- Есть ли круглосуточные кофейни?\n",
    "- Какие у кофеен рейтинги? Как они распределяются по районам?\n",
    "- На какую стоимость чашки капучино стоит ориентироваться при открытии и почему?\n",
    "\n",
    "По желанию вы можете расширить список вопросов для исследования, добавив собственные.\n",
    "Постройте визуализации. Попробуйте дать рекомендацию для открытия нового заведения. Это творческое задание: здесь нет правильного или неправильного ответа, но ваше решение должно быть чем-то обосновано. Объяснить свою рекомендацию можно текстом с описанием или маркерами на географической карте."
   ]
  },
  {
   "cell_type": "markdown",
   "metadata": {},
   "source": [
    "#### 20. Исследование количества и расположения кофеен в датасете, а также рейтинга кофеен по районам <a id=\"cafesquantity\"></a>"
   ]
  },
  {
   "cell_type": "code",
   "execution_count": null,
   "metadata": {},
   "outputs": [],
   "source": [
    "cafes = df.query('category == \"кофейня\"')\n",
    "print('Всего кофеен в датасете:', len(cafes))"
   ]
  },
  {
   "cell_type": "markdown",
   "metadata": {},
   "source": [
    "16% всех представленных заведений в датасете составляют кофейни - вот это конкуренция."
   ]
  },
  {
   "cell_type": "code",
   "execution_count": null,
   "metadata": {
    "scrolled": false
   },
   "outputs": [],
   "source": [
    "# импортируем собственные иконки\n",
    "from folium.features import CustomIcon\n",
    "\n",
    "#создаем карту Москвы    \n",
    "m = Map(location=[moscow_lat, moscow_lng], zoom_start=10)\n",
    "\n",
    "# создаём хороплет с помощью конструктора Choropleth и добавляем его на карту\n",
    "Choropleth(\n",
    "    geo_data=state_geo,\n",
    "    data=cafes,\n",
    "    columns=['district', 'rating'],\n",
    "    key_on='feature.name',\n",
    "    fill_color='OrRd',\n",
    "    fill_opacity=0.8,\n",
    "    legend_name='Средний рейтинг кофеен по районам',\n",
    ").add_to(m)\n",
    "\n",
    "# создаём пустой кластер, добавляем его на карту\n",
    "marker_cluster = MarkerCluster().add_to(m)\n",
    "\n",
    "def create_clusters(row):\n",
    "    # сохраняем URL-адрес изображения со значком кафе с icons8,\n",
    "    # это путь к файлу на сервере icons8\n",
    "    icon_url = 'https://img.icons8.com/?size=512&id=YqniqtUYqD68&format=png'  \n",
    "    # создаём объект с собственной иконкой размером 30x30\n",
    "    icon = CustomIcon(icon_url, icon_size=(30, 30))\n",
    "\n",
    "# создаём маркер с иконкой icon и добавляем его в кластер\n",
    "    Marker(\n",
    "        [row['lat'], row['lng']],\n",
    "        popup=f\"{row['name']} {row['rating']}\",\n",
    "        icon=icon,\n",
    "    ).add_to(marker_cluster)\n",
    "\n",
    "# применяем функцию для создания кластеров к каждой строке датафрейма\n",
    "cafes.apply(create_clusters, axis=1)\n",
    "\n",
    "# выводим карту\n",
    "m"
   ]
  },
  {
   "cell_type": "code",
   "execution_count": null,
   "metadata": {},
   "outputs": [],
   "source": [
    "#посмотрим на количество кофеен в округах\n",
    "print(cafes.groupby('district')['name'].count().sort_values(ascending=False))"
   ]
  },
  {
   "cell_type": "code",
   "execution_count": null,
   "metadata": {},
   "outputs": [],
   "source": [
    "#сделаем расчет по рейтингам\n",
    "rating_cafes = cafes.groupby('district', as_index=False)['rating'].agg('mean').round(1).sort_values(by='rating', ascending=False)\n",
    "rating_cafes"
   ]
  },
  {
   "cell_type": "markdown",
   "metadata": {},
   "source": [
    "Построив хороплет видим, что большинство кофеен находится в Центральном административном округе - очень много кофеен в Замоскворечье, а также в самом центре - вокруг Кремля и Красной площади. Чуть меньше кофеен находится в Северном, Северо-Западном, Южном и Восточном округах. \n",
    "\n",
    "Кофейни часто находятся в торговых центрах или расположены в жилых комплексах.\n",
    "\n",
    "При этом в ЦАО у кофеен в основном низкий рейтинг - 4.3. - 4.4. (при этом ранее мы установили, что средний рейтинг всех категорий заведений в ЦАО самый высокий), а вот в СВАО и ВАО у кофеен очень высокие рейтинги."
   ]
  },
  {
   "cell_type": "markdown",
   "metadata": {},
   "source": [
    "#### 21. Исследование наличия круглосуточных кофеен <a id=\"cafes24_7\"></a>"
   ]
  },
  {
   "cell_type": "code",
   "execution_count": null,
   "metadata": {},
   "outputs": [],
   "source": [
    "cafes_24_7 = cafes.query('hours == \"ежедневно, круглосуточно\"')\n",
    "print('Всего круглосуточных кофеен в датасете:', len(cafes_24_7))"
   ]
  },
  {
   "cell_type": "markdown",
   "metadata": {},
   "source": [
    "#### 22. Исследование стоимости чашки капучино в кофейнях по районам <a id=\"cap_sum\"></a>"
   ]
  },
  {
   "cell_type": "code",
   "execution_count": null,
   "metadata": {},
   "outputs": [],
   "source": [
    "coffee_cup = cafes.query('middle_coffee_cup != 0') \\\n",
    "                                    .groupby('district') \\\n",
    "                                    .agg(mean_middle_coffee_cup=('middle_coffee_cup', 'mean')) \\\n",
    "                                    .sort_values(by='mean_middle_coffee_cup', ascending=False) \\\n",
    "                                    .reset_index()"
   ]
  },
  {
   "cell_type": "code",
   "execution_count": null,
   "metadata": {},
   "outputs": [],
   "source": [
    "m = Map(location=[moscow_lat, moscow_lng], zoom_start=10)\n",
    "\n",
    "Choropleth(\n",
    "    geo_data=state_geo,\n",
    "    data=coffee_cup,\n",
    "    columns=['district', 'mean_middle_coffee_cup'],\n",
    "    key_on='feature.name',\n",
    "    fill_opacity=0.8,\n",
    "    legend_name='Стоимость чашки капучино по округам',\n",
    ").add_to(m)\n",
    "\n",
    "m"
   ]
  },
  {
   "cell_type": "markdown",
   "metadata": {},
   "source": [
    "#### 23. Исследование количества посадочных мест в кофейнях (необязательное задание)"
   ]
  },
  {
   "cell_type": "code",
   "execution_count": null,
   "metadata": {},
   "outputs": [],
   "source": [
    "plt.figure(figsize=(15, 8))\n",
    "plt.hist(cafes['seats'], bins=100)\n",
    "plt.title('Количество посадочных мест в кофейнях')\n",
    "plt.xlabel('Количество посадочных мест')\n",
    "plt.ylabel('Количество значений')\n",
    "plt.show()"
   ]
  },
  {
   "cell_type": "markdown",
   "metadata": {},
   "source": [
    "**По результатам исследовательского анализа и детализации исследования хочу дать следующие рекомендации для открытия кофейни:**\n",
    "1. Рекомендуется открывать кофейню в Восточном административном округе Москвы: в этом округе цена чашки капучино выше среднего, а это значит, что инвестиции в открытие отобьются быстрее. \n",
    "2. В этом округе конкуренция меньше, чем в 5 других округах (заведений меньше).\n",
    "3. Средний рейтинг кофеен в этом округе выше, чем в остальных. \n",
    "4. В ВАО много новостроек и много зеленых зон, соответственно, много семей с детьми, много велосипедистов, много людей с собаками, соответственно, будет большая проходимость. "
   ]
  },
  {
   "cell_type": "markdown",
   "metadata": {},
   "source": [
    "Ниже указала с помощью \"капли\" 2 рекомендуемых места для открытия кофейни:\n",
    "1. Первое с координатами: 37.701956,55.830013 на входе в Лосиный остров. Во-первых, на входе в парк нет ни одного заведения. Во-вторых, рядом 2 здания институтов: МГГЭУ и РГСУ, а значит, что будут ходить студенты. Плюс рядом район Метрогородка, где много домов, а заведений общественного питания также нет. Заведение сразу на выходе с МЦК. Ну и рядом парк \"Друзья леса\" - все сходится.\n",
    "2. Второе с координатами: 55.826347, 37.571022. Это точка не в ВАО, а в САО - на границе со СВАО. Рядом нет кофеен, при этом по близости есть метро, несколько парков и большой институт. \n",
    "\n",
    "Кофейни на 80 посадочных мест (медиана по кофейням) будет достаточно. "
   ]
  },
  {
   "cell_type": "code",
   "execution_count": null,
   "metadata": {},
   "outputs": [],
   "source": [
    "# подключаем библиотеку\n",
    "import folium\n",
    "\n",
    "# сохраняем координаты рекомендуемого места (ВАО) для открытия кофейни в переменные\n",
    "friends_cafe_lat, friends_cafe_lng = 55.830617, 37.702896\n",
    "# сохраняем координаты рекомендуемого места (САО) для открытия кофейни в переменные\n",
    "friends_cafe_2_lat, friends_cafe_2_lng = 55.826347, 37.571022\n",
    "\n",
    "# создаём карту с центром в точке расположения рекомендуемого мной места и начальным зумом 17\n",
    "m = folium.Map(location=[friends_cafe_lat, friends_cafe_lng], zoom_start=17)\n",
    "# создаём маркер в точке расположения Большого театра и сразу добавляем на карту\n",
    "folium.Marker([friends_cafe_lat, friends_cafe_lng]).add_to(m)\n",
    "folium.Marker([friends_cafe_2_lat, friends_cafe_2_lng]).add_to(m)\n",
    "\n",
    "# выводим карту\n",
    "m"
   ]
  },
  {
   "cell_type": "markdown",
   "metadata": {},
   "source": [
    "Ссылка на презентацию: https://disk.yandex.ru/i/SXRXzTDX22QXRw"
   ]
  }
 ],
 "metadata": {
  "ExecuteTimeLog": [
   {
    "duration": 52,
    "start_time": "2023-07-18T12:30:08.087Z"
   },
   {
    "duration": 283,
    "start_time": "2023-07-18T12:33:44.646Z"
   },
   {
    "duration": 2,
    "start_time": "2023-07-18T12:33:56.590Z"
   },
   {
    "duration": 5,
    "start_time": "2023-07-18T12:43:20.050Z"
   },
   {
    "duration": 1769,
    "start_time": "2023-07-18T12:43:20.058Z"
   },
   {
    "duration": 135,
    "start_time": "2023-07-18T12:43:21.830Z"
   },
   {
    "duration": 19,
    "start_time": "2023-07-18T12:43:33.621Z"
   },
   {
    "duration": 112,
    "start_time": "2023-07-18T12:44:27.454Z"
   },
   {
    "duration": 4,
    "start_time": "2023-07-18T12:44:49.808Z"
   },
   {
    "duration": 1573,
    "start_time": "2023-07-18T12:44:49.814Z"
   },
   {
    "duration": 64,
    "start_time": "2023-07-18T12:44:51.390Z"
   },
   {
    "duration": 11,
    "start_time": "2023-07-18T12:44:51.457Z"
   },
   {
    "duration": 216,
    "start_time": "2023-07-18T12:45:18.171Z"
   },
   {
    "duration": 64,
    "start_time": "2023-07-18T12:45:25.404Z"
   },
   {
    "duration": 13,
    "start_time": "2023-07-18T12:45:27.794Z"
   },
   {
    "duration": 63,
    "start_time": "2023-07-18T12:47:02.950Z"
   },
   {
    "duration": 12,
    "start_time": "2023-07-18T12:47:04.088Z"
   },
   {
    "duration": 63,
    "start_time": "2023-07-18T12:47:11.717Z"
   },
   {
    "duration": 14,
    "start_time": "2023-07-18T12:47:12.274Z"
   },
   {
    "duration": 10,
    "start_time": "2023-07-18T12:52:04.586Z"
   },
   {
    "duration": 4,
    "start_time": "2023-07-18T12:52:12.298Z"
   },
   {
    "duration": 1669,
    "start_time": "2023-07-18T12:52:12.303Z"
   },
   {
    "duration": 62,
    "start_time": "2023-07-18T12:52:13.974Z"
   },
   {
    "duration": 16,
    "start_time": "2023-07-18T12:52:14.038Z"
   },
   {
    "duration": 116,
    "start_time": "2023-07-18T12:52:14.056Z"
   },
   {
    "duration": 10,
    "start_time": "2023-07-18T12:52:24.673Z"
   },
   {
    "duration": 17,
    "start_time": "2023-07-18T12:52:51.101Z"
   },
   {
    "duration": 14,
    "start_time": "2023-07-18T12:53:19.262Z"
   },
   {
    "duration": 21,
    "start_time": "2023-07-18T12:53:41.868Z"
   },
   {
    "duration": 7,
    "start_time": "2023-07-18T13:02:26.981Z"
   },
   {
    "duration": 5,
    "start_time": "2023-07-18T13:02:37.373Z"
   },
   {
    "duration": 5,
    "start_time": "2023-07-18T13:02:46.066Z"
   },
   {
    "duration": 11,
    "start_time": "2023-07-18T13:03:07.074Z"
   },
   {
    "duration": 5,
    "start_time": "2023-07-18T13:03:11.294Z"
   },
   {
    "duration": 46,
    "start_time": "2023-07-18T18:13:03.043Z"
   },
   {
    "duration": 3,
    "start_time": "2023-07-18T18:13:10.567Z"
   },
   {
    "duration": 1652,
    "start_time": "2023-07-18T18:13:10.572Z"
   },
   {
    "duration": 111,
    "start_time": "2023-07-18T18:13:12.226Z"
   },
   {
    "duration": 15,
    "start_time": "2023-07-18T18:13:12.339Z"
   },
   {
    "duration": 11,
    "start_time": "2023-07-18T18:13:12.356Z"
   },
   {
    "duration": 16,
    "start_time": "2023-07-18T18:13:12.369Z"
   },
   {
    "duration": 25,
    "start_time": "2023-07-18T18:13:12.387Z"
   },
   {
    "duration": 18,
    "start_time": "2023-07-18T18:13:55.282Z"
   },
   {
    "duration": 8,
    "start_time": "2023-07-18T18:16:38.130Z"
   },
   {
    "duration": 4,
    "start_time": "2023-07-18T18:17:02.031Z"
   },
   {
    "duration": 1540,
    "start_time": "2023-07-18T18:17:02.036Z"
   },
   {
    "duration": 66,
    "start_time": "2023-07-18T18:17:03.578Z"
   },
   {
    "duration": 14,
    "start_time": "2023-07-18T18:17:03.646Z"
   },
   {
    "duration": 34,
    "start_time": "2023-07-18T18:17:03.662Z"
   },
   {
    "duration": 12,
    "start_time": "2023-07-18T18:17:03.698Z"
   },
   {
    "duration": 50,
    "start_time": "2023-07-18T18:17:03.712Z"
   },
   {
    "duration": 22,
    "start_time": "2023-07-18T18:27:03.203Z"
   },
   {
    "duration": 17,
    "start_time": "2023-07-18T18:27:31.162Z"
   },
   {
    "duration": 21,
    "start_time": "2023-07-18T18:32:18.832Z"
   },
   {
    "duration": 8,
    "start_time": "2023-07-18T20:16:40.163Z"
   },
   {
    "duration": 8,
    "start_time": "2023-07-18T20:17:46.804Z"
   },
   {
    "duration": 4,
    "start_time": "2023-07-18T20:17:55.298Z"
   },
   {
    "duration": 1722,
    "start_time": "2023-07-18T20:17:55.304Z"
   },
   {
    "duration": 233,
    "start_time": "2023-07-18T20:17:57.029Z"
   },
   {
    "duration": 17,
    "start_time": "2023-07-18T20:17:57.264Z"
   },
   {
    "duration": 32,
    "start_time": "2023-07-18T20:17:57.284Z"
   },
   {
    "duration": 11,
    "start_time": "2023-07-18T20:17:57.317Z"
   },
   {
    "duration": 44,
    "start_time": "2023-07-18T20:17:57.330Z"
   },
   {
    "duration": 20,
    "start_time": "2023-07-18T20:17:57.376Z"
   },
   {
    "duration": 18,
    "start_time": "2023-07-18T20:18:08.313Z"
   },
   {
    "duration": 7,
    "start_time": "2023-07-18T20:18:35.723Z"
   },
   {
    "duration": 135,
    "start_time": "2023-07-18T20:18:50.833Z"
   },
   {
    "duration": 70,
    "start_time": "2023-07-18T20:19:03.705Z"
   },
   {
    "duration": 7,
    "start_time": "2023-07-18T20:19:17.323Z"
   },
   {
    "duration": 10,
    "start_time": "2023-07-18T20:23:37.407Z"
   },
   {
    "duration": 12,
    "start_time": "2023-07-18T20:23:44.166Z"
   },
   {
    "duration": 7,
    "start_time": "2023-07-18T20:27:12.494Z"
   },
   {
    "duration": 7,
    "start_time": "2023-07-18T20:27:30.145Z"
   },
   {
    "duration": 10,
    "start_time": "2023-07-18T20:27:50.492Z"
   },
   {
    "duration": 10,
    "start_time": "2023-07-18T20:27:58.558Z"
   },
   {
    "duration": 7,
    "start_time": "2023-07-18T20:28:08.491Z"
   },
   {
    "duration": 15,
    "start_time": "2023-07-18T20:28:22.308Z"
   },
   {
    "duration": 988,
    "start_time": "2023-07-18T20:30:08.194Z"
   },
   {
    "duration": 11,
    "start_time": "2023-07-18T20:30:16.252Z"
   },
   {
    "duration": 9,
    "start_time": "2023-07-18T20:30:49.410Z"
   },
   {
    "duration": 9,
    "start_time": "2023-07-18T20:31:10.048Z"
   },
   {
    "duration": 8,
    "start_time": "2023-07-18T20:31:16.920Z"
   },
   {
    "duration": 10,
    "start_time": "2023-07-18T20:31:28.955Z"
   },
   {
    "duration": 9,
    "start_time": "2023-07-18T20:31:34.625Z"
   },
   {
    "duration": 12,
    "start_time": "2023-07-18T20:31:44.997Z"
   },
   {
    "duration": 25,
    "start_time": "2023-07-18T20:32:09.876Z"
   },
   {
    "duration": 6,
    "start_time": "2023-07-18T20:32:11.764Z"
   },
   {
    "duration": 17,
    "start_time": "2023-07-18T20:32:18.312Z"
   },
   {
    "duration": 6,
    "start_time": "2023-07-18T20:32:19.869Z"
   },
   {
    "duration": 133,
    "start_time": "2023-07-18T20:33:20.596Z"
   },
   {
    "duration": 10,
    "start_time": "2023-07-18T20:33:21.622Z"
   },
   {
    "duration": 27,
    "start_time": "2023-07-18T20:33:32.511Z"
   },
   {
    "duration": 8,
    "start_time": "2023-07-18T20:33:34.179Z"
   },
   {
    "duration": 18,
    "start_time": "2023-07-18T20:35:27.013Z"
   },
   {
    "duration": 7,
    "start_time": "2023-07-18T20:35:27.767Z"
   },
   {
    "duration": 17,
    "start_time": "2023-07-18T20:35:34.718Z"
   },
   {
    "duration": 7,
    "start_time": "2023-07-18T20:35:35.355Z"
   },
   {
    "duration": 5,
    "start_time": "2023-07-18T20:37:34.584Z"
   },
   {
    "duration": 1766,
    "start_time": "2023-07-18T20:37:34.591Z"
   },
   {
    "duration": 74,
    "start_time": "2023-07-18T20:37:36.360Z"
   },
   {
    "duration": 18,
    "start_time": "2023-07-18T20:37:36.436Z"
   },
   {
    "duration": 50,
    "start_time": "2023-07-18T20:37:36.457Z"
   },
   {
    "duration": 13,
    "start_time": "2023-07-18T20:37:36.510Z"
   },
   {
    "duration": 21,
    "start_time": "2023-07-18T20:37:36.525Z"
   },
   {
    "duration": 36,
    "start_time": "2023-07-18T20:37:36.548Z"
   },
   {
    "duration": 185,
    "start_time": "2023-07-18T20:37:36.586Z"
   },
   {
    "duration": 0,
    "start_time": "2023-07-18T20:37:36.773Z"
   },
   {
    "duration": 0,
    "start_time": "2023-07-18T20:37:36.774Z"
   },
   {
    "duration": 7,
    "start_time": "2023-07-18T20:44:02.186Z"
   },
   {
    "duration": 29,
    "start_time": "2023-07-18T20:44:10.885Z"
   },
   {
    "duration": 6,
    "start_time": "2023-07-18T21:07:01.010Z"
   },
   {
    "duration": 1792,
    "start_time": "2023-07-18T21:07:01.020Z"
   },
   {
    "duration": 76,
    "start_time": "2023-07-18T21:07:02.813Z"
   },
   {
    "duration": 19,
    "start_time": "2023-07-18T21:07:02.894Z"
   },
   {
    "duration": 35,
    "start_time": "2023-07-18T21:07:02.915Z"
   },
   {
    "duration": 24,
    "start_time": "2023-07-18T21:07:02.952Z"
   },
   {
    "duration": 27,
    "start_time": "2023-07-18T21:07:02.977Z"
   },
   {
    "duration": 8,
    "start_time": "2023-07-18T21:07:03.006Z"
   },
   {
    "duration": 41,
    "start_time": "2023-07-18T21:07:03.016Z"
   },
   {
    "duration": 165,
    "start_time": "2023-07-18T21:07:03.059Z"
   },
   {
    "duration": 0,
    "start_time": "2023-07-18T21:07:03.226Z"
   },
   {
    "duration": 1,
    "start_time": "2023-07-18T21:07:03.227Z"
   },
   {
    "duration": 12,
    "start_time": "2023-07-18T21:07:31.656Z"
   },
   {
    "duration": 9,
    "start_time": "2023-07-18T21:07:36.682Z"
   },
   {
    "duration": 10,
    "start_time": "2023-07-18T21:07:45.418Z"
   },
   {
    "duration": 12,
    "start_time": "2023-07-18T21:07:52.123Z"
   },
   {
    "duration": 9,
    "start_time": "2023-07-18T21:08:02.344Z"
   },
   {
    "duration": 9,
    "start_time": "2023-07-18T21:08:11.894Z"
   },
   {
    "duration": 12,
    "start_time": "2023-07-18T21:08:18.414Z"
   },
   {
    "duration": 39,
    "start_time": "2023-07-18T21:09:03.063Z"
   },
   {
    "duration": 11,
    "start_time": "2023-07-18T21:10:32.936Z"
   },
   {
    "duration": 7,
    "start_time": "2023-07-18T21:10:41.825Z"
   },
   {
    "duration": 12,
    "start_time": "2023-07-18T21:11:00.228Z"
   },
   {
    "duration": 5,
    "start_time": "2023-07-18T21:11:06.730Z"
   },
   {
    "duration": 1654,
    "start_time": "2023-07-18T21:11:06.738Z"
   },
   {
    "duration": 92,
    "start_time": "2023-07-18T21:11:08.394Z"
   },
   {
    "duration": 16,
    "start_time": "2023-07-18T21:11:08.489Z"
   },
   {
    "duration": 35,
    "start_time": "2023-07-18T21:11:08.508Z"
   },
   {
    "duration": 11,
    "start_time": "2023-07-18T21:11:08.545Z"
   },
   {
    "duration": 24,
    "start_time": "2023-07-18T21:11:08.570Z"
   },
   {
    "duration": 12,
    "start_time": "2023-07-18T21:11:08.596Z"
   },
   {
    "duration": 18,
    "start_time": "2023-07-18T21:11:08.611Z"
   },
   {
    "duration": 63,
    "start_time": "2023-07-18T21:11:08.633Z"
   },
   {
    "duration": 18,
    "start_time": "2023-07-18T21:11:08.698Z"
   },
   {
    "duration": 9,
    "start_time": "2023-07-18T21:11:08.718Z"
   },
   {
    "duration": 11,
    "start_time": "2023-07-18T21:12:23.940Z"
   },
   {
    "duration": 12,
    "start_time": "2023-07-18T21:16:07.394Z"
   },
   {
    "duration": 3,
    "start_time": "2023-07-19T14:08:11.053Z"
   },
   {
    "duration": 1522,
    "start_time": "2023-07-19T14:08:11.058Z"
   },
   {
    "duration": 104,
    "start_time": "2023-07-19T14:08:12.582Z"
   },
   {
    "duration": 13,
    "start_time": "2023-07-19T14:08:12.687Z"
   },
   {
    "duration": 38,
    "start_time": "2023-07-19T14:08:12.702Z"
   },
   {
    "duration": 21,
    "start_time": "2023-07-19T14:08:12.741Z"
   },
   {
    "duration": 29,
    "start_time": "2023-07-19T14:08:12.763Z"
   },
   {
    "duration": 21,
    "start_time": "2023-07-19T14:08:12.794Z"
   },
   {
    "duration": 27,
    "start_time": "2023-07-19T14:08:12.816Z"
   },
   {
    "duration": 45,
    "start_time": "2023-07-19T14:08:12.844Z"
   },
   {
    "duration": 29,
    "start_time": "2023-07-19T14:08:12.891Z"
   },
   {
    "duration": 3,
    "start_time": "2023-07-19T14:14:36.216Z"
   },
   {
    "duration": 1498,
    "start_time": "2023-07-19T14:15:16.100Z"
   },
   {
    "duration": 3,
    "start_time": "2023-07-19T14:15:33.693Z"
   },
   {
    "duration": 1409,
    "start_time": "2023-07-19T14:15:33.697Z"
   },
   {
    "duration": 76,
    "start_time": "2023-07-19T14:15:35.108Z"
   },
   {
    "duration": 14,
    "start_time": "2023-07-19T14:15:35.187Z"
   },
   {
    "duration": 31,
    "start_time": "2023-07-19T14:15:35.203Z"
   },
   {
    "duration": 31,
    "start_time": "2023-07-19T14:15:35.235Z"
   },
   {
    "duration": 21,
    "start_time": "2023-07-19T14:15:35.268Z"
   },
   {
    "duration": 22,
    "start_time": "2023-07-19T14:15:35.291Z"
   },
   {
    "duration": 48,
    "start_time": "2023-07-19T14:15:35.315Z"
   },
   {
    "duration": 43,
    "start_time": "2023-07-19T14:15:35.366Z"
   },
   {
    "duration": 36,
    "start_time": "2023-07-19T14:15:35.411Z"
   },
   {
    "duration": 20,
    "start_time": "2023-07-19T14:15:35.449Z"
   },
   {
    "duration": 1407,
    "start_time": "2023-07-19T14:15:35.471Z"
   },
   {
    "duration": 3,
    "start_time": "2023-07-19T14:17:25.605Z"
   },
   {
    "duration": 877,
    "start_time": "2023-07-19T14:17:26.297Z"
   },
   {
    "duration": 71,
    "start_time": "2023-07-19T14:18:23.566Z"
   },
   {
    "duration": 15,
    "start_time": "2023-07-19T14:18:31.261Z"
   },
   {
    "duration": 19,
    "start_time": "2023-07-19T14:18:42.203Z"
   },
   {
    "duration": 20,
    "start_time": "2023-07-19T14:22:27.998Z"
   },
   {
    "duration": 44,
    "start_time": "2023-07-19T14:24:16.033Z"
   },
   {
    "duration": 12,
    "start_time": "2023-07-19T14:29:07.018Z"
   },
   {
    "duration": 148,
    "start_time": "2023-07-19T14:31:41.977Z"
   },
   {
    "duration": 20,
    "start_time": "2023-07-19T14:32:36.362Z"
   },
   {
    "duration": 17,
    "start_time": "2023-07-19T14:32:47.166Z"
   },
   {
    "duration": 12,
    "start_time": "2023-07-19T14:34:16.606Z"
   },
   {
    "duration": 118,
    "start_time": "2023-07-19T14:35:13.219Z"
   },
   {
    "duration": 143,
    "start_time": "2023-07-19T14:35:28.907Z"
   },
   {
    "duration": 13,
    "start_time": "2023-07-19T14:36:24.565Z"
   },
   {
    "duration": 51,
    "start_time": "2023-07-19T17:09:52.037Z"
   },
   {
    "duration": 16,
    "start_time": "2023-07-19T17:09:56.821Z"
   },
   {
    "duration": 1734,
    "start_time": "2023-07-19T17:09:56.839Z"
   },
   {
    "duration": 153,
    "start_time": "2023-07-19T17:09:58.574Z"
   },
   {
    "duration": 15,
    "start_time": "2023-07-19T17:09:58.740Z"
   },
   {
    "duration": 32,
    "start_time": "2023-07-19T17:09:58.758Z"
   },
   {
    "duration": 7,
    "start_time": "2023-07-19T17:09:58.791Z"
   },
   {
    "duration": 49,
    "start_time": "2023-07-19T17:09:58.810Z"
   },
   {
    "duration": 9,
    "start_time": "2023-07-19T17:09:58.860Z"
   },
   {
    "duration": 8,
    "start_time": "2023-07-19T17:09:58.870Z"
   },
   {
    "duration": 14,
    "start_time": "2023-07-19T17:09:58.880Z"
   },
   {
    "duration": 51,
    "start_time": "2023-07-19T17:09:58.896Z"
   },
   {
    "duration": 5,
    "start_time": "2023-07-19T17:09:58.949Z"
   },
   {
    "duration": 103,
    "start_time": "2023-07-19T17:09:58.956Z"
   },
   {
    "duration": 267,
    "start_time": "2023-07-19T17:09:59.062Z"
   },
   {
    "duration": 14,
    "start_time": "2023-07-19T17:09:59.331Z"
   },
   {
    "duration": 8,
    "start_time": "2023-07-19T17:10:29.048Z"
   },
   {
    "duration": 315,
    "start_time": "2023-07-19T17:13:45.325Z"
   },
   {
    "duration": 5,
    "start_time": "2023-07-19T17:14:08.839Z"
   },
   {
    "duration": 188,
    "start_time": "2023-07-19T17:18:43.487Z"
   },
   {
    "duration": 8,
    "start_time": "2023-07-19T17:19:07.951Z"
   },
   {
    "duration": 227,
    "start_time": "2023-07-19T17:19:21.943Z"
   },
   {
    "duration": 344,
    "start_time": "2023-07-19T17:19:29.350Z"
   },
   {
    "duration": 355,
    "start_time": "2023-07-19T17:22:01.158Z"
   },
   {
    "duration": 173,
    "start_time": "2023-07-19T17:24:38.973Z"
   },
   {
    "duration": 25,
    "start_time": "2023-07-19T17:25:30.225Z"
   },
   {
    "duration": 11,
    "start_time": "2023-07-19T17:26:14.950Z"
   },
   {
    "duration": 63,
    "start_time": "2023-07-19T17:26:23.978Z"
   },
   {
    "duration": 15,
    "start_time": "2023-07-19T17:27:26.130Z"
   },
   {
    "duration": 41,
    "start_time": "2023-07-19T17:27:41.488Z"
   },
   {
    "duration": 23,
    "start_time": "2023-07-19T17:28:51.860Z"
   },
   {
    "duration": 25,
    "start_time": "2023-07-19T17:29:01.439Z"
   },
   {
    "duration": 14,
    "start_time": "2023-07-19T17:29:10.151Z"
   },
   {
    "duration": 30,
    "start_time": "2023-07-19T17:29:21.039Z"
   },
   {
    "duration": 4,
    "start_time": "2023-07-19T17:29:50.763Z"
   },
   {
    "duration": 4,
    "start_time": "2023-07-25T15:16:01.715Z"
   },
   {
    "duration": 1734,
    "start_time": "2023-07-25T15:16:01.720Z"
   },
   {
    "duration": 137,
    "start_time": "2023-07-25T15:16:03.459Z"
   },
   {
    "duration": 28,
    "start_time": "2023-07-25T15:16:03.599Z"
   },
   {
    "duration": 66,
    "start_time": "2023-07-25T15:16:03.629Z"
   },
   {
    "duration": 44,
    "start_time": "2023-07-25T15:16:03.696Z"
   },
   {
    "duration": 21,
    "start_time": "2023-07-25T15:16:03.741Z"
   },
   {
    "duration": 16,
    "start_time": "2023-07-25T15:16:03.764Z"
   },
   {
    "duration": 9,
    "start_time": "2023-07-25T15:16:03.781Z"
   },
   {
    "duration": 31,
    "start_time": "2023-07-25T15:16:03.792Z"
   },
   {
    "duration": 11,
    "start_time": "2023-07-25T15:16:03.824Z"
   },
   {
    "duration": 23,
    "start_time": "2023-07-25T15:16:03.836Z"
   },
   {
    "duration": 97,
    "start_time": "2023-07-25T15:16:03.860Z"
   },
   {
    "duration": 222,
    "start_time": "2023-07-25T15:16:03.960Z"
   },
   {
    "duration": 9,
    "start_time": "2023-07-25T15:16:04.184Z"
   },
   {
    "duration": 245,
    "start_time": "2023-07-25T15:16:04.195Z"
   },
   {
    "duration": 23,
    "start_time": "2023-07-25T15:16:59.429Z"
   },
   {
    "duration": 15,
    "start_time": "2023-07-25T15:17:25.115Z"
   },
   {
    "duration": 17,
    "start_time": "2023-07-25T15:17:41.623Z"
   },
   {
    "duration": 18,
    "start_time": "2023-07-25T15:19:55.464Z"
   },
   {
    "duration": 10,
    "start_time": "2023-07-25T15:27:22.211Z"
   },
   {
    "duration": 10,
    "start_time": "2023-07-25T15:27:31.914Z"
   },
   {
    "duration": 19,
    "start_time": "2023-07-25T15:34:58.399Z"
   },
   {
    "duration": 4,
    "start_time": "2023-07-25T15:35:12.740Z"
   },
   {
    "duration": 1341,
    "start_time": "2023-07-25T15:35:12.746Z"
   },
   {
    "duration": 70,
    "start_time": "2023-07-25T15:35:14.089Z"
   },
   {
    "duration": 11,
    "start_time": "2023-07-25T15:35:14.161Z"
   },
   {
    "duration": 43,
    "start_time": "2023-07-25T15:35:14.174Z"
   },
   {
    "duration": 9,
    "start_time": "2023-07-25T15:35:14.218Z"
   },
   {
    "duration": 21,
    "start_time": "2023-07-25T15:35:14.228Z"
   },
   {
    "duration": 14,
    "start_time": "2023-07-25T15:35:14.250Z"
   },
   {
    "duration": 16,
    "start_time": "2023-07-25T15:35:14.265Z"
   },
   {
    "duration": 14,
    "start_time": "2023-07-25T15:35:14.283Z"
   },
   {
    "duration": 26,
    "start_time": "2023-07-25T15:35:14.298Z"
   },
   {
    "duration": 3,
    "start_time": "2023-07-25T15:35:14.325Z"
   },
   {
    "duration": 79,
    "start_time": "2023-07-25T15:35:14.330Z"
   },
   {
    "duration": 204,
    "start_time": "2023-07-25T15:35:14.412Z"
   },
   {
    "duration": 9,
    "start_time": "2023-07-25T15:35:14.618Z"
   },
   {
    "duration": 13,
    "start_time": "2023-07-25T15:35:14.628Z"
   },
   {
    "duration": 210,
    "start_time": "2023-07-25T15:35:14.642Z"
   },
   {
    "duration": 11,
    "start_time": "2023-07-25T15:35:35.518Z"
   },
   {
    "duration": 249,
    "start_time": "2023-07-25T15:47:35.415Z"
   },
   {
    "duration": 302,
    "start_time": "2023-07-25T15:48:43.194Z"
   },
   {
    "duration": 250,
    "start_time": "2023-07-25T15:49:32.547Z"
   },
   {
    "duration": 45,
    "start_time": "2023-07-25T16:01:34.497Z"
   },
   {
    "duration": 211,
    "start_time": "2023-07-25T16:01:55.539Z"
   },
   {
    "duration": 329,
    "start_time": "2023-07-25T16:02:35.556Z"
   },
   {
    "duration": 235,
    "start_time": "2023-07-25T16:03:16.823Z"
   },
   {
    "duration": 245,
    "start_time": "2023-07-25T16:03:39.136Z"
   },
   {
    "duration": 18,
    "start_time": "2023-07-25T16:06:29.499Z"
   },
   {
    "duration": 15,
    "start_time": "2023-07-25T16:06:55.963Z"
   },
   {
    "duration": 10,
    "start_time": "2023-07-25T16:08:32.131Z"
   },
   {
    "duration": 108,
    "start_time": "2023-07-25T16:18:48.150Z"
   },
   {
    "duration": 100,
    "start_time": "2023-07-25T16:19:11.055Z"
   },
   {
    "duration": 12,
    "start_time": "2023-07-25T16:19:19.414Z"
   },
   {
    "duration": 9,
    "start_time": "2023-07-25T16:19:40.528Z"
   },
   {
    "duration": 17,
    "start_time": "2023-07-25T16:19:56.934Z"
   },
   {
    "duration": 12,
    "start_time": "2023-07-25T16:20:11.055Z"
   },
   {
    "duration": 14,
    "start_time": "2023-07-25T16:20:26.324Z"
   },
   {
    "duration": 21,
    "start_time": "2023-07-25T16:21:44.818Z"
   },
   {
    "duration": 4,
    "start_time": "2023-07-25T16:21:51.045Z"
   },
   {
    "duration": 1458,
    "start_time": "2023-07-25T16:21:51.051Z"
   },
   {
    "duration": 73,
    "start_time": "2023-07-25T16:21:52.511Z"
   },
   {
    "duration": 31,
    "start_time": "2023-07-25T16:21:52.586Z"
   },
   {
    "duration": 38,
    "start_time": "2023-07-25T16:21:52.623Z"
   },
   {
    "duration": 27,
    "start_time": "2023-07-25T16:21:52.663Z"
   },
   {
    "duration": 63,
    "start_time": "2023-07-25T16:21:52.691Z"
   },
   {
    "duration": 10,
    "start_time": "2023-07-25T16:21:52.756Z"
   },
   {
    "duration": 22,
    "start_time": "2023-07-25T16:21:52.768Z"
   },
   {
    "duration": 48,
    "start_time": "2023-07-25T16:21:52.792Z"
   },
   {
    "duration": 6,
    "start_time": "2023-07-25T16:21:52.844Z"
   },
   {
    "duration": 18,
    "start_time": "2023-07-25T16:21:52.852Z"
   },
   {
    "duration": 99,
    "start_time": "2023-07-25T16:21:52.872Z"
   },
   {
    "duration": 168,
    "start_time": "2023-07-25T16:21:52.972Z"
   },
   {
    "duration": 9,
    "start_time": "2023-07-25T16:21:53.142Z"
   },
   {
    "duration": 15,
    "start_time": "2023-07-25T16:21:53.152Z"
   },
   {
    "duration": 8,
    "start_time": "2023-07-25T16:21:53.169Z"
   },
   {
    "duration": 363,
    "start_time": "2023-07-25T16:21:53.178Z"
   },
   {
    "duration": 14,
    "start_time": "2023-07-25T16:21:53.544Z"
   },
   {
    "duration": 15,
    "start_time": "2023-07-25T16:22:12.122Z"
   },
   {
    "duration": 173,
    "start_time": "2023-07-25T16:23:31.999Z"
   },
   {
    "duration": 32,
    "start_time": "2023-07-25T16:24:21.805Z"
   },
   {
    "duration": 402,
    "start_time": "2023-07-25T16:24:42.390Z"
   },
   {
    "duration": 4,
    "start_time": "2023-07-25T16:29:24.070Z"
   },
   {
    "duration": 90,
    "start_time": "2023-07-25T16:30:13.638Z"
   },
   {
    "duration": 9,
    "start_time": "2023-07-25T16:39:38.650Z"
   },
   {
    "duration": 19,
    "start_time": "2023-07-25T16:39:46.330Z"
   },
   {
    "duration": 15,
    "start_time": "2023-07-25T16:41:26.978Z"
   },
   {
    "duration": 13,
    "start_time": "2023-07-25T16:43:30.244Z"
   },
   {
    "duration": 44,
    "start_time": "2023-07-26T16:19:59.401Z"
   },
   {
    "duration": 3,
    "start_time": "2023-07-26T16:20:03.390Z"
   },
   {
    "duration": 1668,
    "start_time": "2023-07-26T16:20:03.397Z"
   },
   {
    "duration": 261,
    "start_time": "2023-07-26T16:20:05.068Z"
   },
   {
    "duration": 17,
    "start_time": "2023-07-26T16:20:05.330Z"
   },
   {
    "duration": 32,
    "start_time": "2023-07-26T16:20:05.349Z"
   },
   {
    "duration": 8,
    "start_time": "2023-07-26T16:20:05.383Z"
   },
   {
    "duration": 54,
    "start_time": "2023-07-26T16:20:05.392Z"
   },
   {
    "duration": 9,
    "start_time": "2023-07-26T16:20:05.448Z"
   },
   {
    "duration": 28,
    "start_time": "2023-07-26T16:20:05.458Z"
   },
   {
    "duration": 27,
    "start_time": "2023-07-26T16:20:05.488Z"
   },
   {
    "duration": 32,
    "start_time": "2023-07-26T16:20:05.517Z"
   },
   {
    "duration": 26,
    "start_time": "2023-07-26T16:20:05.551Z"
   },
   {
    "duration": 91,
    "start_time": "2023-07-26T16:20:05.579Z"
   },
   {
    "duration": 177,
    "start_time": "2023-07-26T16:20:05.672Z"
   },
   {
    "duration": 13,
    "start_time": "2023-07-26T16:20:05.852Z"
   },
   {
    "duration": 15,
    "start_time": "2023-07-26T16:20:05.867Z"
   },
   {
    "duration": 21,
    "start_time": "2023-07-26T16:20:05.884Z"
   },
   {
    "duration": 331,
    "start_time": "2023-07-26T16:20:05.907Z"
   },
   {
    "duration": 131,
    "start_time": "2023-07-26T16:20:06.240Z"
   },
   {
    "duration": 0,
    "start_time": "2023-07-26T16:20:06.373Z"
   },
   {
    "duration": 3,
    "start_time": "2023-07-26T16:24:23.138Z"
   },
   {
    "duration": 1506,
    "start_time": "2023-07-26T16:24:23.144Z"
   },
   {
    "duration": 61,
    "start_time": "2023-07-26T16:24:24.652Z"
   },
   {
    "duration": 15,
    "start_time": "2023-07-26T16:24:24.715Z"
   },
   {
    "duration": 26,
    "start_time": "2023-07-26T16:24:24.732Z"
   },
   {
    "duration": 8,
    "start_time": "2023-07-26T16:24:24.759Z"
   },
   {
    "duration": 27,
    "start_time": "2023-07-26T16:24:24.769Z"
   },
   {
    "duration": 9,
    "start_time": "2023-07-26T16:24:24.798Z"
   },
   {
    "duration": 12,
    "start_time": "2023-07-26T16:24:24.808Z"
   },
   {
    "duration": 28,
    "start_time": "2023-07-26T16:24:24.822Z"
   },
   {
    "duration": 14,
    "start_time": "2023-07-26T16:24:24.852Z"
   },
   {
    "duration": 25,
    "start_time": "2023-07-26T16:24:24.868Z"
   },
   {
    "duration": 81,
    "start_time": "2023-07-26T16:24:24.894Z"
   },
   {
    "duration": 151,
    "start_time": "2023-07-26T16:24:24.977Z"
   },
   {
    "duration": 9,
    "start_time": "2023-07-26T16:24:25.130Z"
   },
   {
    "duration": 6,
    "start_time": "2023-07-26T16:24:25.141Z"
   },
   {
    "duration": 342,
    "start_time": "2023-07-26T16:24:25.157Z"
   },
   {
    "duration": 11,
    "start_time": "2023-07-26T16:24:25.501Z"
   },
   {
    "duration": 380,
    "start_time": "2023-07-26T16:24:25.513Z"
   },
   {
    "duration": 123,
    "start_time": "2023-07-26T16:24:25.895Z"
   },
   {
    "duration": 0,
    "start_time": "2023-07-26T16:24:26.020Z"
   },
   {
    "duration": 12,
    "start_time": "2023-07-26T16:26:45.704Z"
   },
   {
    "duration": 10,
    "start_time": "2023-07-26T16:29:20.985Z"
   },
   {
    "duration": 12,
    "start_time": "2023-07-26T16:29:31.464Z"
   },
   {
    "duration": 10,
    "start_time": "2023-07-26T16:29:43.616Z"
   },
   {
    "duration": 20,
    "start_time": "2023-07-26T16:29:52.825Z"
   },
   {
    "duration": 21,
    "start_time": "2023-07-26T16:31:13.225Z"
   },
   {
    "duration": 19,
    "start_time": "2023-07-26T16:31:20.920Z"
   },
   {
    "duration": 11,
    "start_time": "2023-07-26T16:32:12.810Z"
   },
   {
    "duration": 15,
    "start_time": "2023-07-26T16:32:25.953Z"
   },
   {
    "duration": 4,
    "start_time": "2023-07-26T16:40:31.606Z"
   },
   {
    "duration": 1476,
    "start_time": "2023-07-26T16:40:31.612Z"
   },
   {
    "duration": 63,
    "start_time": "2023-07-26T16:40:33.089Z"
   },
   {
    "duration": 15,
    "start_time": "2023-07-26T16:40:33.154Z"
   },
   {
    "duration": 25,
    "start_time": "2023-07-26T16:40:33.171Z"
   },
   {
    "duration": 8,
    "start_time": "2023-07-26T16:40:33.198Z"
   },
   {
    "duration": 21,
    "start_time": "2023-07-26T16:40:33.208Z"
   },
   {
    "duration": 34,
    "start_time": "2023-07-26T16:40:33.231Z"
   },
   {
    "duration": 20,
    "start_time": "2023-07-26T16:40:33.267Z"
   },
   {
    "duration": 37,
    "start_time": "2023-07-26T16:40:33.289Z"
   },
   {
    "duration": 17,
    "start_time": "2023-07-26T16:40:33.327Z"
   },
   {
    "duration": 15,
    "start_time": "2023-07-26T16:40:33.346Z"
   },
   {
    "duration": 14,
    "start_time": "2023-07-26T16:40:33.364Z"
   },
   {
    "duration": 84,
    "start_time": "2023-07-26T16:40:33.379Z"
   },
   {
    "duration": 159,
    "start_time": "2023-07-26T16:40:33.465Z"
   },
   {
    "duration": 11,
    "start_time": "2023-07-26T16:40:33.626Z"
   },
   {
    "duration": 20,
    "start_time": "2023-07-26T16:40:33.639Z"
   },
   {
    "duration": 402,
    "start_time": "2023-07-26T16:40:33.661Z"
   },
   {
    "duration": 13,
    "start_time": "2023-07-26T16:40:34.065Z"
   },
   {
    "duration": 411,
    "start_time": "2023-07-26T16:40:34.080Z"
   },
   {
    "duration": 17,
    "start_time": "2023-07-26T16:40:34.494Z"
   },
   {
    "duration": 18,
    "start_time": "2023-07-26T16:40:34.513Z"
   },
   {
    "duration": 2,
    "start_time": "2023-07-26T16:41:07.717Z"
   },
   {
    "duration": 1537,
    "start_time": "2023-07-26T16:41:07.722Z"
   },
   {
    "duration": 61,
    "start_time": "2023-07-26T16:41:09.261Z"
   },
   {
    "duration": 13,
    "start_time": "2023-07-26T16:41:09.324Z"
   },
   {
    "duration": 26,
    "start_time": "2023-07-26T16:41:09.339Z"
   },
   {
    "duration": 8,
    "start_time": "2023-07-26T16:41:09.368Z"
   },
   {
    "duration": 17,
    "start_time": "2023-07-26T16:41:09.377Z"
   },
   {
    "duration": 7,
    "start_time": "2023-07-26T16:41:09.396Z"
   },
   {
    "duration": 10,
    "start_time": "2023-07-26T16:41:09.405Z"
   },
   {
    "duration": 17,
    "start_time": "2023-07-26T16:41:09.416Z"
   },
   {
    "duration": 38,
    "start_time": "2023-07-26T16:41:09.434Z"
   },
   {
    "duration": 7,
    "start_time": "2023-07-26T16:41:09.474Z"
   },
   {
    "duration": 28,
    "start_time": "2023-07-26T16:41:09.482Z"
   },
   {
    "duration": 75,
    "start_time": "2023-07-26T16:41:09.511Z"
   },
   {
    "duration": 173,
    "start_time": "2023-07-26T16:41:09.589Z"
   },
   {
    "duration": 9,
    "start_time": "2023-07-26T16:41:09.764Z"
   },
   {
    "duration": 17,
    "start_time": "2023-07-26T16:41:09.775Z"
   },
   {
    "duration": 340,
    "start_time": "2023-07-26T16:41:09.794Z"
   },
   {
    "duration": 21,
    "start_time": "2023-07-26T16:41:10.136Z"
   },
   {
    "duration": 337,
    "start_time": "2023-07-26T16:41:10.158Z"
   },
   {
    "duration": 15,
    "start_time": "2023-07-26T16:41:10.497Z"
   },
   {
    "duration": 18,
    "start_time": "2023-07-26T16:41:10.513Z"
   },
   {
    "duration": 5,
    "start_time": "2023-07-26T16:43:11.119Z"
   },
   {
    "duration": 113,
    "start_time": "2023-07-26T16:44:26.389Z"
   },
   {
    "duration": 44,
    "start_time": "2023-07-26T16:44:34.072Z"
   },
   {
    "duration": 4,
    "start_time": "2023-07-26T16:44:40.215Z"
   },
   {
    "duration": 1426,
    "start_time": "2023-07-26T16:44:40.220Z"
   },
   {
    "duration": 61,
    "start_time": "2023-07-26T16:44:41.648Z"
   },
   {
    "duration": 15,
    "start_time": "2023-07-26T16:44:41.711Z"
   },
   {
    "duration": 26,
    "start_time": "2023-07-26T16:44:41.727Z"
   },
   {
    "duration": 8,
    "start_time": "2023-07-26T16:44:41.755Z"
   },
   {
    "duration": 20,
    "start_time": "2023-07-26T16:44:41.765Z"
   },
   {
    "duration": 8,
    "start_time": "2023-07-26T16:44:41.787Z"
   },
   {
    "duration": 9,
    "start_time": "2023-07-26T16:44:41.796Z"
   },
   {
    "duration": 55,
    "start_time": "2023-07-26T16:44:41.807Z"
   },
   {
    "duration": 9,
    "start_time": "2023-07-26T16:44:41.864Z"
   },
   {
    "duration": 15,
    "start_time": "2023-07-26T16:44:41.874Z"
   },
   {
    "duration": 8,
    "start_time": "2023-07-26T16:44:41.890Z"
   },
   {
    "duration": 5,
    "start_time": "2023-07-26T16:44:41.900Z"
   },
   {
    "duration": 90,
    "start_time": "2023-07-26T16:44:41.906Z"
   },
   {
    "duration": 154,
    "start_time": "2023-07-26T16:44:41.998Z"
   },
   {
    "duration": 9,
    "start_time": "2023-07-26T16:44:42.153Z"
   },
   {
    "duration": 7,
    "start_time": "2023-07-26T16:44:42.164Z"
   },
   {
    "duration": 357,
    "start_time": "2023-07-26T16:44:42.172Z"
   },
   {
    "duration": 11,
    "start_time": "2023-07-26T16:44:42.530Z"
   },
   {
    "duration": 351,
    "start_time": "2023-07-26T16:44:42.543Z"
   },
   {
    "duration": 15,
    "start_time": "2023-07-26T16:44:42.895Z"
   },
   {
    "duration": 15,
    "start_time": "2023-07-26T16:44:42.912Z"
   },
   {
    "duration": 16,
    "start_time": "2023-07-26T16:45:23.587Z"
   },
   {
    "duration": 8,
    "start_time": "2023-07-26T16:45:57.050Z"
   },
   {
    "duration": 11,
    "start_time": "2023-07-26T16:46:01.818Z"
   },
   {
    "duration": 1306,
    "start_time": "2023-07-26T16:51:32.846Z"
   },
   {
    "duration": 1628,
    "start_time": "2023-07-26T16:52:02.049Z"
   },
   {
    "duration": 18,
    "start_time": "2023-07-26T16:52:11.892Z"
   },
   {
    "duration": 11,
    "start_time": "2023-07-26T16:53:50.308Z"
   },
   {
    "duration": 11,
    "start_time": "2023-07-26T16:54:15.038Z"
   },
   {
    "duration": 20,
    "start_time": "2023-07-26T16:54:20.283Z"
   },
   {
    "duration": 17,
    "start_time": "2023-07-26T16:55:04.509Z"
   },
   {
    "duration": 17,
    "start_time": "2023-07-26T16:55:26.957Z"
   },
   {
    "duration": 4,
    "start_time": "2023-07-26T18:05:44.589Z"
   },
   {
    "duration": 2084,
    "start_time": "2023-07-26T18:05:44.595Z"
   },
   {
    "duration": 127,
    "start_time": "2023-07-26T18:05:46.681Z"
   },
   {
    "duration": 28,
    "start_time": "2023-07-26T18:05:46.811Z"
   },
   {
    "duration": 28,
    "start_time": "2023-07-26T18:05:46.841Z"
   },
   {
    "duration": 9,
    "start_time": "2023-07-26T18:05:46.871Z"
   },
   {
    "duration": 58,
    "start_time": "2023-07-26T18:05:46.881Z"
   },
   {
    "duration": 8,
    "start_time": "2023-07-26T18:05:46.941Z"
   },
   {
    "duration": 27,
    "start_time": "2023-07-26T18:05:46.951Z"
   },
   {
    "duration": 84,
    "start_time": "2023-07-26T18:05:46.979Z"
   },
   {
    "duration": 10,
    "start_time": "2023-07-26T18:05:47.065Z"
   },
   {
    "duration": 18,
    "start_time": "2023-07-26T18:05:47.077Z"
   },
   {
    "duration": 11,
    "start_time": "2023-07-26T18:05:47.111Z"
   },
   {
    "duration": 17,
    "start_time": "2023-07-26T18:05:47.125Z"
   },
   {
    "duration": 113,
    "start_time": "2023-07-26T18:05:47.144Z"
   },
   {
    "duration": 201,
    "start_time": "2023-07-26T18:05:47.259Z"
   },
   {
    "duration": 12,
    "start_time": "2023-07-26T18:05:47.461Z"
   },
   {
    "duration": 19,
    "start_time": "2023-07-26T18:05:47.475Z"
   },
   {
    "duration": 430,
    "start_time": "2023-07-26T18:05:47.511Z"
   },
   {
    "duration": 12,
    "start_time": "2023-07-26T18:05:47.943Z"
   },
   {
    "duration": 426,
    "start_time": "2023-07-26T18:05:47.957Z"
   },
   {
    "duration": 12,
    "start_time": "2023-07-26T18:05:48.386Z"
   },
   {
    "duration": 142,
    "start_time": "2023-07-26T18:05:48.409Z"
   },
   {
    "duration": 0,
    "start_time": "2023-07-26T18:05:48.553Z"
   },
   {
    "duration": 8,
    "start_time": "2023-07-26T18:06:26.821Z"
   },
   {
    "duration": 6,
    "start_time": "2023-07-26T18:07:34.630Z"
   },
   {
    "duration": 4,
    "start_time": "2023-07-26T18:07:44.885Z"
   },
   {
    "duration": 5,
    "start_time": "2023-07-26T18:07:51.994Z"
   },
   {
    "duration": 19,
    "start_time": "2023-07-26T18:11:05.605Z"
   },
   {
    "duration": 14,
    "start_time": "2023-07-26T18:11:27.720Z"
   },
   {
    "duration": 12,
    "start_time": "2023-07-26T18:11:36.346Z"
   },
   {
    "duration": 20,
    "start_time": "2023-07-26T18:12:42.771Z"
   },
   {
    "duration": 13,
    "start_time": "2023-07-26T18:12:54.292Z"
   },
   {
    "duration": 18,
    "start_time": "2023-07-26T18:13:47.025Z"
   },
   {
    "duration": 12,
    "start_time": "2023-07-26T18:14:29.087Z"
   },
   {
    "duration": 16,
    "start_time": "2023-07-26T18:14:52.702Z"
   },
   {
    "duration": 4,
    "start_time": "2023-07-26T18:15:07.856Z"
   },
   {
    "duration": 1864,
    "start_time": "2023-07-26T18:15:07.863Z"
   },
   {
    "duration": 71,
    "start_time": "2023-07-26T18:15:09.729Z"
   },
   {
    "duration": 16,
    "start_time": "2023-07-26T18:15:09.802Z"
   },
   {
    "duration": 30,
    "start_time": "2023-07-26T18:15:09.821Z"
   },
   {
    "duration": 14,
    "start_time": "2023-07-26T18:15:09.853Z"
   },
   {
    "duration": 47,
    "start_time": "2023-07-26T18:15:09.868Z"
   },
   {
    "duration": 8,
    "start_time": "2023-07-26T18:15:09.916Z"
   },
   {
    "duration": 14,
    "start_time": "2023-07-26T18:15:09.926Z"
   },
   {
    "duration": 80,
    "start_time": "2023-07-26T18:15:09.942Z"
   },
   {
    "duration": 16,
    "start_time": "2023-07-26T18:15:10.026Z"
   },
   {
    "duration": 31,
    "start_time": "2023-07-26T18:15:10.044Z"
   },
   {
    "duration": 31,
    "start_time": "2023-07-26T18:15:10.077Z"
   },
   {
    "duration": 7,
    "start_time": "2023-07-26T18:15:10.110Z"
   },
   {
    "duration": 111,
    "start_time": "2023-07-26T18:15:10.119Z"
   },
   {
    "duration": 357,
    "start_time": "2023-07-26T18:15:10.232Z"
   },
   {
    "duration": 18,
    "start_time": "2023-07-26T18:15:10.592Z"
   },
   {
    "duration": 11,
    "start_time": "2023-07-26T18:15:10.612Z"
   },
   {
    "duration": 537,
    "start_time": "2023-07-26T18:15:10.626Z"
   },
   {
    "duration": 11,
    "start_time": "2023-07-26T18:15:11.165Z"
   },
   {
    "duration": 324,
    "start_time": "2023-07-26T18:15:11.177Z"
   },
   {
    "duration": 16,
    "start_time": "2023-07-26T18:15:11.503Z"
   },
   {
    "duration": 21,
    "start_time": "2023-07-26T18:15:11.521Z"
   },
   {
    "duration": 25,
    "start_time": "2023-07-26T18:15:11.544Z"
   },
   {
    "duration": 126,
    "start_time": "2023-07-26T18:17:26.589Z"
   },
   {
    "duration": 10,
    "start_time": "2023-07-26T18:17:41.787Z"
   },
   {
    "duration": 11,
    "start_time": "2023-07-26T18:17:50.255Z"
   },
   {
    "duration": 4,
    "start_time": "2023-07-26T18:17:55.647Z"
   },
   {
    "duration": 1610,
    "start_time": "2023-07-26T18:17:55.653Z"
   },
   {
    "duration": 68,
    "start_time": "2023-07-26T18:17:57.265Z"
   },
   {
    "duration": 17,
    "start_time": "2023-07-26T18:17:57.337Z"
   },
   {
    "duration": 41,
    "start_time": "2023-07-26T18:17:57.356Z"
   },
   {
    "duration": 13,
    "start_time": "2023-07-26T18:17:57.400Z"
   },
   {
    "duration": 40,
    "start_time": "2023-07-26T18:17:57.415Z"
   },
   {
    "duration": 8,
    "start_time": "2023-07-26T18:17:57.457Z"
   },
   {
    "duration": 9,
    "start_time": "2023-07-26T18:17:57.467Z"
   },
   {
    "duration": 53,
    "start_time": "2023-07-26T18:17:57.479Z"
   },
   {
    "duration": 9,
    "start_time": "2023-07-26T18:17:57.534Z"
   },
   {
    "duration": 18,
    "start_time": "2023-07-26T18:17:57.545Z"
   },
   {
    "duration": 9,
    "start_time": "2023-07-26T18:17:57.565Z"
   },
   {
    "duration": 33,
    "start_time": "2023-07-26T18:17:57.576Z"
   },
   {
    "duration": 7,
    "start_time": "2023-07-26T18:17:57.611Z"
   },
   {
    "duration": 8,
    "start_time": "2023-07-26T18:17:57.620Z"
   },
   {
    "duration": 101,
    "start_time": "2023-07-26T18:17:57.629Z"
   },
   {
    "duration": 166,
    "start_time": "2023-07-26T18:17:57.732Z"
   },
   {
    "duration": 10,
    "start_time": "2023-07-26T18:17:57.900Z"
   },
   {
    "duration": 7,
    "start_time": "2023-07-26T18:17:57.912Z"
   },
   {
    "duration": 487,
    "start_time": "2023-07-26T18:17:57.921Z"
   },
   {
    "duration": 12,
    "start_time": "2023-07-26T18:17:58.410Z"
   },
   {
    "duration": 337,
    "start_time": "2023-07-26T18:17:58.423Z"
   },
   {
    "duration": 14,
    "start_time": "2023-07-26T18:17:58.761Z"
   },
   {
    "duration": 8,
    "start_time": "2023-07-26T18:17:58.776Z"
   },
   {
    "duration": 40,
    "start_time": "2023-07-26T18:17:58.785Z"
   },
   {
    "duration": 14,
    "start_time": "2023-07-26T18:22:32.092Z"
   },
   {
    "duration": 12,
    "start_time": "2023-07-26T18:22:41.040Z"
   },
   {
    "duration": 235,
    "start_time": "2023-07-26T18:24:33.392Z"
   },
   {
    "duration": 258,
    "start_time": "2023-07-26T18:24:45.162Z"
   },
   {
    "duration": 228,
    "start_time": "2023-07-26T18:24:53.236Z"
   },
   {
    "duration": 156,
    "start_time": "2023-07-26T18:26:40.001Z"
   },
   {
    "duration": 23,
    "start_time": "2023-07-26T18:26:58.298Z"
   },
   {
    "duration": 23,
    "start_time": "2023-07-26T18:27:06.707Z"
   },
   {
    "duration": 238,
    "start_time": "2023-07-26T18:27:17.132Z"
   },
   {
    "duration": 50,
    "start_time": "2023-07-26T18:29:35.133Z"
   },
   {
    "duration": 30,
    "start_time": "2023-07-26T18:30:25.158Z"
   },
   {
    "duration": 61,
    "start_time": "2023-07-26T18:37:46.536Z"
   },
   {
    "duration": 37,
    "start_time": "2023-07-26T18:38:24.610Z"
   },
   {
    "duration": 21,
    "start_time": "2023-07-26T18:39:12.126Z"
   },
   {
    "duration": 4,
    "start_time": "2023-07-26T18:39:22.324Z"
   },
   {
    "duration": 1695,
    "start_time": "2023-07-26T18:39:22.342Z"
   },
   {
    "duration": 64,
    "start_time": "2023-07-26T18:39:24.040Z"
   },
   {
    "duration": 28,
    "start_time": "2023-07-26T18:39:24.106Z"
   },
   {
    "duration": 36,
    "start_time": "2023-07-26T18:39:24.135Z"
   },
   {
    "duration": 25,
    "start_time": "2023-07-26T18:39:24.174Z"
   },
   {
    "duration": 38,
    "start_time": "2023-07-26T18:39:24.201Z"
   },
   {
    "duration": 8,
    "start_time": "2023-07-26T18:39:24.240Z"
   },
   {
    "duration": 14,
    "start_time": "2023-07-26T18:39:24.250Z"
   },
   {
    "duration": 46,
    "start_time": "2023-07-26T18:39:24.266Z"
   },
   {
    "duration": 14,
    "start_time": "2023-07-26T18:39:24.315Z"
   },
   {
    "duration": 22,
    "start_time": "2023-07-26T18:39:24.330Z"
   },
   {
    "duration": 14,
    "start_time": "2023-07-26T18:39:24.353Z"
   },
   {
    "duration": 42,
    "start_time": "2023-07-26T18:39:24.370Z"
   },
   {
    "duration": 26,
    "start_time": "2023-07-26T18:39:24.420Z"
   },
   {
    "duration": 6,
    "start_time": "2023-07-26T18:39:24.448Z"
   },
   {
    "duration": 110,
    "start_time": "2023-07-26T18:39:24.456Z"
   },
   {
    "duration": 195,
    "start_time": "2023-07-26T18:39:24.568Z"
   },
   {
    "duration": 10,
    "start_time": "2023-07-26T18:39:24.764Z"
   },
   {
    "duration": 40,
    "start_time": "2023-07-26T18:39:24.776Z"
   },
   {
    "duration": 449,
    "start_time": "2023-07-26T18:39:24.820Z"
   },
   {
    "duration": 13,
    "start_time": "2023-07-26T18:39:25.272Z"
   },
   {
    "duration": 450,
    "start_time": "2023-07-26T18:39:25.287Z"
   },
   {
    "duration": 75,
    "start_time": "2023-07-26T18:39:25.739Z"
   },
   {
    "duration": 234,
    "start_time": "2023-07-26T18:39:25.817Z"
   },
   {
    "duration": 7,
    "start_time": "2023-07-26T18:41:42.954Z"
   },
   {
    "duration": 5,
    "start_time": "2023-07-26T18:42:30.735Z"
   },
   {
    "duration": 10,
    "start_time": "2023-07-27T13:10:12.357Z"
   },
   {
    "duration": 3763,
    "start_time": "2023-07-27T13:10:12.368Z"
   },
   {
    "duration": 120,
    "start_time": "2023-07-27T13:10:16.133Z"
   },
   {
    "duration": 14,
    "start_time": "2023-07-27T13:10:16.255Z"
   },
   {
    "duration": 26,
    "start_time": "2023-07-27T13:10:16.271Z"
   },
   {
    "duration": 7,
    "start_time": "2023-07-27T13:10:16.299Z"
   },
   {
    "duration": 31,
    "start_time": "2023-07-27T13:10:16.307Z"
   },
   {
    "duration": 9,
    "start_time": "2023-07-27T13:10:16.339Z"
   },
   {
    "duration": 8,
    "start_time": "2023-07-27T13:10:16.350Z"
   },
   {
    "duration": 46,
    "start_time": "2023-07-27T13:10:16.359Z"
   },
   {
    "duration": 9,
    "start_time": "2023-07-27T13:10:16.407Z"
   },
   {
    "duration": 14,
    "start_time": "2023-07-27T13:10:16.417Z"
   },
   {
    "duration": 16,
    "start_time": "2023-07-27T13:10:16.432Z"
   },
   {
    "duration": 20,
    "start_time": "2023-07-27T13:10:16.450Z"
   },
   {
    "duration": 7,
    "start_time": "2023-07-27T13:10:16.472Z"
   },
   {
    "duration": 5,
    "start_time": "2023-07-27T13:10:16.481Z"
   },
   {
    "duration": 89,
    "start_time": "2023-07-27T13:10:16.487Z"
   },
   {
    "duration": 307,
    "start_time": "2023-07-27T13:10:16.577Z"
   },
   {
    "duration": 8,
    "start_time": "2023-07-27T13:10:16.886Z"
   },
   {
    "duration": 10,
    "start_time": "2023-07-27T13:10:16.896Z"
   },
   {
    "duration": 499,
    "start_time": "2023-07-27T13:10:16.908Z"
   },
   {
    "duration": 10,
    "start_time": "2023-07-27T13:10:17.409Z"
   },
   {
    "duration": 256,
    "start_time": "2023-07-27T13:10:17.421Z"
   },
   {
    "duration": 58,
    "start_time": "2023-07-27T13:10:17.679Z"
   },
   {
    "duration": 5,
    "start_time": "2023-07-27T13:10:17.739Z"
   },
   {
    "duration": 17,
    "start_time": "2023-07-27T13:10:17.745Z"
   },
   {
    "duration": 13,
    "start_time": "2023-07-27T13:11:03.149Z"
   },
   {
    "duration": 11,
    "start_time": "2023-07-27T13:11:58.416Z"
   },
   {
    "duration": 10,
    "start_time": "2023-07-27T13:12:19.173Z"
   },
   {
    "duration": 11,
    "start_time": "2023-07-27T13:12:24.338Z"
   },
   {
    "duration": 127,
    "start_time": "2023-07-27T13:12:40.646Z"
   },
   {
    "duration": 12,
    "start_time": "2023-07-27T13:13:30.749Z"
   },
   {
    "duration": 13,
    "start_time": "2023-07-27T13:13:36.474Z"
   },
   {
    "duration": 4,
    "start_time": "2023-07-27T13:15:50.169Z"
   },
   {
    "duration": 1430,
    "start_time": "2023-07-27T13:15:50.174Z"
   },
   {
    "duration": 63,
    "start_time": "2023-07-27T13:15:51.606Z"
   },
   {
    "duration": 12,
    "start_time": "2023-07-27T13:15:51.671Z"
   },
   {
    "duration": 49,
    "start_time": "2023-07-27T13:15:51.685Z"
   },
   {
    "duration": 36,
    "start_time": "2023-07-27T13:15:51.735Z"
   },
   {
    "duration": 38,
    "start_time": "2023-07-27T13:15:51.772Z"
   },
   {
    "duration": 25,
    "start_time": "2023-07-27T13:15:51.812Z"
   },
   {
    "duration": 25,
    "start_time": "2023-07-27T13:15:51.840Z"
   },
   {
    "duration": 49,
    "start_time": "2023-07-27T13:15:51.866Z"
   },
   {
    "duration": 27,
    "start_time": "2023-07-27T13:15:51.917Z"
   },
   {
    "duration": 34,
    "start_time": "2023-07-27T13:15:51.945Z"
   },
   {
    "duration": 27,
    "start_time": "2023-07-27T13:15:51.981Z"
   },
   {
    "duration": 42,
    "start_time": "2023-07-27T13:15:52.010Z"
   },
   {
    "duration": 35,
    "start_time": "2023-07-27T13:15:52.054Z"
   },
   {
    "duration": 33,
    "start_time": "2023-07-27T13:15:52.090Z"
   },
   {
    "duration": 102,
    "start_time": "2023-07-27T13:15:52.124Z"
   },
   {
    "duration": 177,
    "start_time": "2023-07-27T13:15:52.227Z"
   },
   {
    "duration": 8,
    "start_time": "2023-07-27T13:15:52.406Z"
   },
   {
    "duration": 25,
    "start_time": "2023-07-27T13:15:52.415Z"
   },
   {
    "duration": 404,
    "start_time": "2023-07-27T13:15:52.442Z"
   },
   {
    "duration": 10,
    "start_time": "2023-07-27T13:15:52.848Z"
   },
   {
    "duration": 260,
    "start_time": "2023-07-27T13:15:52.859Z"
   },
   {
    "duration": 41,
    "start_time": "2023-07-27T13:15:53.122Z"
   },
   {
    "duration": 7,
    "start_time": "2023-07-27T13:15:53.165Z"
   },
   {
    "duration": 37,
    "start_time": "2023-07-27T13:15:53.174Z"
   },
   {
    "duration": 175,
    "start_time": "2023-07-27T13:15:53.212Z"
   },
   {
    "duration": 156,
    "start_time": "2023-07-27T13:15:53.388Z"
   },
   {
    "duration": 35,
    "start_time": "2023-07-27T13:16:21.908Z"
   },
   {
    "duration": 122,
    "start_time": "2023-07-27T13:16:24.670Z"
   },
   {
    "duration": 110,
    "start_time": "2023-07-27T13:17:44.854Z"
   },
   {
    "duration": 17,
    "start_time": "2023-07-27T13:20:54.785Z"
   },
   {
    "duration": 8530,
    "start_time": "2023-07-27T13:21:46.585Z"
   },
   {
    "duration": 8894,
    "start_time": "2023-07-27T13:25:56.685Z"
   },
   {
    "duration": 4,
    "start_time": "2023-07-27T13:26:10.253Z"
   },
   {
    "duration": 1445,
    "start_time": "2023-07-27T13:26:10.259Z"
   },
   {
    "duration": 64,
    "start_time": "2023-07-27T13:26:11.706Z"
   },
   {
    "duration": 15,
    "start_time": "2023-07-27T13:26:11.771Z"
   },
   {
    "duration": 24,
    "start_time": "2023-07-27T13:26:11.788Z"
   },
   {
    "duration": 10,
    "start_time": "2023-07-27T13:26:11.814Z"
   },
   {
    "duration": 28,
    "start_time": "2023-07-27T13:26:11.826Z"
   },
   {
    "duration": 7,
    "start_time": "2023-07-27T13:26:11.855Z"
   },
   {
    "duration": 13,
    "start_time": "2023-07-27T13:26:11.864Z"
   },
   {
    "duration": 84,
    "start_time": "2023-07-27T13:26:11.879Z"
   },
   {
    "duration": 11,
    "start_time": "2023-07-27T13:26:11.967Z"
   },
   {
    "duration": 23,
    "start_time": "2023-07-27T13:26:11.980Z"
   },
   {
    "duration": 10,
    "start_time": "2023-07-27T13:26:12.005Z"
   },
   {
    "duration": 15,
    "start_time": "2023-07-27T13:26:12.017Z"
   },
   {
    "duration": 16,
    "start_time": "2023-07-27T13:26:12.034Z"
   },
   {
    "duration": 12,
    "start_time": "2023-07-27T13:26:12.051Z"
   },
   {
    "duration": 133,
    "start_time": "2023-07-27T13:26:12.066Z"
   },
   {
    "duration": 165,
    "start_time": "2023-07-27T13:26:12.201Z"
   },
   {
    "duration": 9,
    "start_time": "2023-07-27T13:26:12.367Z"
   },
   {
    "duration": 6,
    "start_time": "2023-07-27T13:26:12.378Z"
   },
   {
    "duration": 436,
    "start_time": "2023-07-27T13:26:12.386Z"
   },
   {
    "duration": 9,
    "start_time": "2023-07-27T13:26:12.824Z"
   },
   {
    "duration": 262,
    "start_time": "2023-07-27T13:26:12.835Z"
   },
   {
    "duration": 50,
    "start_time": "2023-07-27T13:26:13.099Z"
   },
   {
    "duration": 4,
    "start_time": "2023-07-27T13:26:13.151Z"
   },
   {
    "duration": 19,
    "start_time": "2023-07-27T13:26:13.157Z"
   },
   {
    "duration": 48,
    "start_time": "2023-07-27T13:26:13.178Z"
   },
   {
    "duration": 93,
    "start_time": "2023-07-27T13:26:13.228Z"
   },
   {
    "duration": 8950,
    "start_time": "2023-07-27T13:26:13.323Z"
   },
   {
    "duration": 41,
    "start_time": "2023-07-27T13:28:00.186Z"
   },
   {
    "duration": 227,
    "start_time": "2023-07-27T13:30:12.176Z"
   },
   {
    "duration": 4,
    "start_time": "2023-07-27T13:30:18.117Z"
   },
   {
    "duration": 1533,
    "start_time": "2023-07-27T13:30:18.122Z"
   },
   {
    "duration": 62,
    "start_time": "2023-07-27T13:30:19.657Z"
   },
   {
    "duration": 15,
    "start_time": "2023-07-27T13:30:19.721Z"
   },
   {
    "duration": 23,
    "start_time": "2023-07-27T13:30:19.737Z"
   },
   {
    "duration": 8,
    "start_time": "2023-07-27T13:30:19.761Z"
   },
   {
    "duration": 39,
    "start_time": "2023-07-27T13:30:19.770Z"
   },
   {
    "duration": 7,
    "start_time": "2023-07-27T13:30:19.810Z"
   },
   {
    "duration": 9,
    "start_time": "2023-07-27T13:30:19.820Z"
   },
   {
    "duration": 69,
    "start_time": "2023-07-27T13:30:19.831Z"
   },
   {
    "duration": 8,
    "start_time": "2023-07-27T13:30:19.902Z"
   },
   {
    "duration": 38,
    "start_time": "2023-07-27T13:30:19.911Z"
   },
   {
    "duration": 7,
    "start_time": "2023-07-27T13:30:19.951Z"
   },
   {
    "duration": 22,
    "start_time": "2023-07-27T13:30:19.959Z"
   },
   {
    "duration": 5,
    "start_time": "2023-07-27T13:30:19.983Z"
   },
   {
    "duration": 6,
    "start_time": "2023-07-27T13:30:19.989Z"
   },
   {
    "duration": 82,
    "start_time": "2023-07-27T13:30:19.996Z"
   },
   {
    "duration": 185,
    "start_time": "2023-07-27T13:30:20.081Z"
   },
   {
    "duration": 9,
    "start_time": "2023-07-27T13:30:20.268Z"
   },
   {
    "duration": 33,
    "start_time": "2023-07-27T13:30:20.279Z"
   },
   {
    "duration": 363,
    "start_time": "2023-07-27T13:30:20.314Z"
   },
   {
    "duration": 9,
    "start_time": "2023-07-27T13:30:20.679Z"
   },
   {
    "duration": 282,
    "start_time": "2023-07-27T13:30:20.690Z"
   },
   {
    "duration": 4,
    "start_time": "2023-07-27T13:30:20.975Z"
   },
   {
    "duration": 27,
    "start_time": "2023-07-27T13:30:20.980Z"
   },
   {
    "duration": 48,
    "start_time": "2023-07-27T13:30:21.009Z"
   },
   {
    "duration": 89,
    "start_time": "2023-07-27T13:30:21.058Z"
   },
   {
    "duration": 8566,
    "start_time": "2023-07-27T13:30:21.148Z"
   },
   {
    "duration": 103,
    "start_time": "2023-07-27T13:30:29.716Z"
   },
   {
    "duration": 272,
    "start_time": "2023-07-27T13:30:29.821Z"
   },
   {
    "duration": 15,
    "start_time": "2023-07-27T13:30:45.061Z"
   },
   {
    "duration": 10,
    "start_time": "2023-07-27T13:32:52.657Z"
   },
   {
    "duration": 17,
    "start_time": "2023-07-27T13:33:02.684Z"
   },
   {
    "duration": 12,
    "start_time": "2023-07-27T13:33:16.273Z"
   },
   {
    "duration": 16,
    "start_time": "2023-07-27T13:33:21.973Z"
   },
   {
    "duration": 15,
    "start_time": "2023-07-27T13:33:46.969Z"
   },
   {
    "duration": 15,
    "start_time": "2023-07-27T13:34:18.365Z"
   },
   {
    "duration": 10,
    "start_time": "2023-07-27T14:05:36.197Z"
   },
   {
    "duration": 678,
    "start_time": "2023-07-27T14:07:30.570Z"
   },
   {
    "duration": 12,
    "start_time": "2023-07-27T14:07:44.950Z"
   },
   {
    "duration": 409,
    "start_time": "2023-07-27T14:10:40.258Z"
   },
   {
    "duration": 375,
    "start_time": "2023-07-27T14:11:21.881Z"
   },
   {
    "duration": 3443,
    "start_time": "2023-07-27T14:12:18.866Z"
   },
   {
    "duration": 408,
    "start_time": "2023-07-27T14:12:39.494Z"
   },
   {
    "duration": 11,
    "start_time": "2023-07-27T14:16:24.701Z"
   },
   {
    "duration": 14,
    "start_time": "2023-07-27T14:16:32.470Z"
   },
   {
    "duration": 16,
    "start_time": "2023-07-27T14:16:46.260Z"
   },
   {
    "duration": 17,
    "start_time": "2023-07-27T14:17:00.549Z"
   },
   {
    "duration": 8,
    "start_time": "2023-07-27T14:22:07.307Z"
   },
   {
    "duration": 288,
    "start_time": "2023-07-27T14:23:18.593Z"
   },
   {
    "duration": 118,
    "start_time": "2023-07-27T14:24:13.145Z"
   },
   {
    "duration": 175,
    "start_time": "2023-07-27T14:24:48.566Z"
   },
   {
    "duration": 104,
    "start_time": "2023-07-27T14:27:25.945Z"
   },
   {
    "duration": 225,
    "start_time": "2023-07-27T14:27:46.517Z"
   },
   {
    "duration": 33,
    "start_time": "2023-07-27T14:27:53.198Z"
   },
   {
    "duration": 9,
    "start_time": "2023-07-27T14:28:01.318Z"
   },
   {
    "duration": 14,
    "start_time": "2023-07-27T14:28:20.537Z"
   },
   {
    "duration": 9,
    "start_time": "2023-07-27T14:28:21.568Z"
   },
   {
    "duration": 34,
    "start_time": "2023-07-27T14:28:27.472Z"
   },
   {
    "duration": 9,
    "start_time": "2023-07-27T14:28:29.148Z"
   },
   {
    "duration": 39,
    "start_time": "2023-07-27T14:29:02.300Z"
   },
   {
    "duration": 9,
    "start_time": "2023-07-27T14:29:03.090Z"
   },
   {
    "duration": 34,
    "start_time": "2023-07-27T14:29:14.705Z"
   },
   {
    "duration": 9,
    "start_time": "2023-07-27T14:29:15.986Z"
   },
   {
    "duration": 51,
    "start_time": "2023-07-27T14:32:16.497Z"
   },
   {
    "duration": 416,
    "start_time": "2023-07-27T14:33:50.052Z"
   },
   {
    "duration": 7,
    "start_time": "2023-07-27T14:34:53.083Z"
   },
   {
    "duration": 8,
    "start_time": "2023-07-27T14:34:57.459Z"
   },
   {
    "duration": 322,
    "start_time": "2023-07-27T14:35:05.790Z"
   },
   {
    "duration": 368,
    "start_time": "2023-07-27T14:35:14.992Z"
   },
   {
    "duration": 165,
    "start_time": "2023-07-27T14:35:37.799Z"
   },
   {
    "duration": 28,
    "start_time": "2023-07-27T14:38:23.970Z"
   },
   {
    "duration": 16,
    "start_time": "2023-07-27T14:42:49.521Z"
   },
   {
    "duration": 19,
    "start_time": "2023-07-27T14:43:16.357Z"
   },
   {
    "duration": 18,
    "start_time": "2023-07-27T14:43:29.190Z"
   },
   {
    "duration": 10,
    "start_time": "2023-07-27T14:44:17.620Z"
   },
   {
    "duration": 481,
    "start_time": "2023-07-27T14:45:30.212Z"
   },
   {
    "duration": 10,
    "start_time": "2023-07-27T14:45:30.846Z"
   },
   {
    "duration": 112,
    "start_time": "2023-07-27T14:45:50.278Z"
   },
   {
    "duration": 115,
    "start_time": "2023-07-27T14:45:55.815Z"
   },
   {
    "duration": 39,
    "start_time": "2023-07-27T14:46:12.917Z"
   },
   {
    "duration": 10,
    "start_time": "2023-07-27T14:46:15.499Z"
   },
   {
    "duration": 59,
    "start_time": "2023-07-27T14:46:43.059Z"
   },
   {
    "duration": 48,
    "start_time": "2023-07-27T14:46:47.535Z"
   },
   {
    "duration": 43,
    "start_time": "2023-07-27T14:47:20.556Z"
   },
   {
    "duration": 10,
    "start_time": "2023-07-27T14:47:21.546Z"
   },
   {
    "duration": 19,
    "start_time": "2023-07-27T14:47:23.915Z"
   },
   {
    "duration": 11,
    "start_time": "2023-07-27T14:53:24.912Z"
   },
   {
    "duration": 30,
    "start_time": "2023-07-27T14:53:32.008Z"
   },
   {
    "duration": 9,
    "start_time": "2023-07-27T14:54:15.220Z"
   },
   {
    "duration": 227,
    "start_time": "2023-07-27T14:55:34.477Z"
   },
   {
    "duration": 271,
    "start_time": "2023-07-27T14:56:05.048Z"
   },
   {
    "duration": 304,
    "start_time": "2023-07-27T14:56:37.414Z"
   },
   {
    "duration": 80,
    "start_time": "2023-07-27T14:59:51.620Z"
   },
   {
    "duration": 64,
    "start_time": "2023-07-27T15:00:00.402Z"
   },
   {
    "duration": 32,
    "start_time": "2023-07-27T15:00:32.085Z"
   },
   {
    "duration": 21,
    "start_time": "2023-07-27T15:01:14.014Z"
   },
   {
    "duration": 15,
    "start_time": "2023-07-27T15:02:31.615Z"
   },
   {
    "duration": 102,
    "start_time": "2023-07-27T15:02:32.886Z"
   },
   {
    "duration": 13,
    "start_time": "2023-07-27T17:50:15.554Z"
   },
   {
    "duration": 1643,
    "start_time": "2023-07-27T17:50:15.584Z"
   },
   {
    "duration": 622,
    "start_time": "2023-07-27T17:50:17.230Z"
   },
   {
    "duration": 23,
    "start_time": "2023-07-27T17:50:17.854Z"
   },
   {
    "duration": 29,
    "start_time": "2023-07-27T17:50:17.879Z"
   },
   {
    "duration": 7,
    "start_time": "2023-07-27T17:50:17.911Z"
   },
   {
    "duration": 36,
    "start_time": "2023-07-27T17:50:17.919Z"
   },
   {
    "duration": 13,
    "start_time": "2023-07-27T17:50:17.958Z"
   },
   {
    "duration": 9,
    "start_time": "2023-07-27T17:50:17.982Z"
   },
   {
    "duration": 50,
    "start_time": "2023-07-27T17:50:17.992Z"
   },
   {
    "duration": 30,
    "start_time": "2023-07-27T17:50:18.044Z"
   },
   {
    "duration": 12,
    "start_time": "2023-07-27T17:50:18.076Z"
   },
   {
    "duration": 8,
    "start_time": "2023-07-27T17:50:18.090Z"
   },
   {
    "duration": 19,
    "start_time": "2023-07-27T17:50:18.100Z"
   },
   {
    "duration": 5,
    "start_time": "2023-07-27T17:50:18.122Z"
   },
   {
    "duration": 8,
    "start_time": "2023-07-27T17:50:18.129Z"
   },
   {
    "duration": 96,
    "start_time": "2023-07-27T17:50:18.138Z"
   },
   {
    "duration": 186,
    "start_time": "2023-07-27T17:50:18.235Z"
   },
   {
    "duration": 11,
    "start_time": "2023-07-27T17:50:18.422Z"
   },
   {
    "duration": 8,
    "start_time": "2023-07-27T17:50:18.435Z"
   },
   {
    "duration": 497,
    "start_time": "2023-07-27T17:50:18.445Z"
   },
   {
    "duration": 32,
    "start_time": "2023-07-27T17:50:18.944Z"
   },
   {
    "duration": 344,
    "start_time": "2023-07-27T17:50:18.978Z"
   },
   {
    "duration": 17,
    "start_time": "2023-07-27T17:50:19.323Z"
   },
   {
    "duration": 288,
    "start_time": "2023-07-27T17:50:19.342Z"
   },
   {
    "duration": 26,
    "start_time": "2023-07-27T17:50:19.632Z"
   },
   {
    "duration": 307,
    "start_time": "2023-07-27T17:50:19.660Z"
   },
   {
    "duration": 5,
    "start_time": "2023-07-27T17:50:19.969Z"
   },
   {
    "duration": 115,
    "start_time": "2023-07-27T17:50:19.978Z"
   },
   {
    "duration": 43,
    "start_time": "2023-07-27T17:50:20.095Z"
   },
   {
    "duration": 31,
    "start_time": "2023-07-27T17:50:20.140Z"
   },
   {
    "duration": 143,
    "start_time": "2023-07-27T17:50:20.173Z"
   },
   {
    "duration": 101,
    "start_time": "2023-07-27T17:50:20.318Z"
   },
   {
    "duration": 19,
    "start_time": "2023-07-27T17:50:30.982Z"
   },
   {
    "duration": 104,
    "start_time": "2023-07-27T17:50:31.002Z"
   },
   {
    "duration": 273,
    "start_time": "2023-07-27T17:50:31.107Z"
   },
   {
    "duration": 0,
    "start_time": "2023-07-27T17:50:31.384Z"
   },
   {
    "duration": 0,
    "start_time": "2023-07-27T17:50:31.385Z"
   },
   {
    "duration": 10632,
    "start_time": "2023-07-27T17:50:51.477Z"
   },
   {
    "duration": 4,
    "start_time": "2023-07-29T14:21:44.649Z"
   },
   {
    "duration": 1913,
    "start_time": "2023-07-29T14:21:44.672Z"
   },
   {
    "duration": 128,
    "start_time": "2023-07-29T14:21:46.590Z"
   },
   {
    "duration": 32,
    "start_time": "2023-07-29T14:21:46.721Z"
   },
   {
    "duration": 46,
    "start_time": "2023-07-29T14:21:46.755Z"
   },
   {
    "duration": 12,
    "start_time": "2023-07-29T14:21:46.804Z"
   },
   {
    "duration": 47,
    "start_time": "2023-07-29T14:21:46.818Z"
   },
   {
    "duration": 12,
    "start_time": "2023-07-29T14:21:46.867Z"
   },
   {
    "duration": 20,
    "start_time": "2023-07-29T14:21:46.882Z"
   },
   {
    "duration": 86,
    "start_time": "2023-07-29T14:21:46.904Z"
   },
   {
    "duration": 13,
    "start_time": "2023-07-29T14:21:46.992Z"
   },
   {
    "duration": 22,
    "start_time": "2023-07-29T14:21:47.008Z"
   },
   {
    "duration": 30,
    "start_time": "2023-07-29T14:21:47.033Z"
   },
   {
    "duration": 60,
    "start_time": "2023-07-29T14:21:47.065Z"
   },
   {
    "duration": 14,
    "start_time": "2023-07-29T14:21:47.129Z"
   },
   {
    "duration": 31,
    "start_time": "2023-07-29T14:21:47.145Z"
   },
   {
    "duration": 152,
    "start_time": "2023-07-29T14:21:47.179Z"
   },
   {
    "duration": 5,
    "start_time": "2023-07-29T14:22:07.382Z"
   },
   {
    "duration": 1766,
    "start_time": "2023-07-29T14:22:07.391Z"
   },
   {
    "duration": 82,
    "start_time": "2023-07-29T14:22:09.160Z"
   },
   {
    "duration": 30,
    "start_time": "2023-07-29T14:22:09.244Z"
   },
   {
    "duration": 46,
    "start_time": "2023-07-29T14:22:09.276Z"
   },
   {
    "duration": 13,
    "start_time": "2023-07-29T14:22:09.326Z"
   },
   {
    "duration": 38,
    "start_time": "2023-07-29T14:22:09.341Z"
   },
   {
    "duration": 20,
    "start_time": "2023-07-29T14:22:09.381Z"
   },
   {
    "duration": 12,
    "start_time": "2023-07-29T14:22:09.403Z"
   },
   {
    "duration": 65,
    "start_time": "2023-07-29T14:22:09.417Z"
   },
   {
    "duration": 11,
    "start_time": "2023-07-29T14:22:09.483Z"
   },
   {
    "duration": 10,
    "start_time": "2023-07-29T14:22:09.495Z"
   },
   {
    "duration": 25,
    "start_time": "2023-07-29T14:22:09.507Z"
   },
   {
    "duration": 34,
    "start_time": "2023-07-29T14:22:09.535Z"
   },
   {
    "duration": 16,
    "start_time": "2023-07-29T14:22:09.573Z"
   },
   {
    "duration": 10,
    "start_time": "2023-07-29T14:22:09.591Z"
   },
   {
    "duration": 133,
    "start_time": "2023-07-29T14:22:09.603Z"
   },
   {
    "duration": 209,
    "start_time": "2023-07-29T14:22:09.738Z"
   },
   {
    "duration": 14,
    "start_time": "2023-07-29T14:22:09.950Z"
   },
   {
    "duration": 31,
    "start_time": "2023-07-29T14:22:09.969Z"
   },
   {
    "duration": 569,
    "start_time": "2023-07-29T14:22:10.001Z"
   },
   {
    "duration": 17,
    "start_time": "2023-07-29T14:22:10.572Z"
   },
   {
    "duration": 331,
    "start_time": "2023-07-29T14:22:10.591Z"
   },
   {
    "duration": 37,
    "start_time": "2023-07-29T14:22:10.924Z"
   },
   {
    "duration": 349,
    "start_time": "2023-07-29T14:22:10.963Z"
   },
   {
    "duration": 39,
    "start_time": "2023-07-29T14:22:11.314Z"
   },
   {
    "duration": 352,
    "start_time": "2023-07-29T14:22:11.361Z"
   },
   {
    "duration": 5,
    "start_time": "2023-07-29T14:22:11.716Z"
   },
   {
    "duration": 73,
    "start_time": "2023-07-29T14:22:11.723Z"
   },
   {
    "duration": 99,
    "start_time": "2023-07-29T14:22:11.798Z"
   },
   {
    "duration": 18,
    "start_time": "2023-07-29T14:22:11.900Z"
   },
   {
    "duration": 42,
    "start_time": "2023-07-29T14:22:11.920Z"
   },
   {
    "duration": 6,
    "start_time": "2023-07-29T14:22:24.719Z"
   },
   {
    "duration": 2256,
    "start_time": "2023-07-29T14:22:24.728Z"
   },
   {
    "duration": 100,
    "start_time": "2023-07-29T14:22:26.986Z"
   },
   {
    "duration": 29,
    "start_time": "2023-07-29T14:22:27.094Z"
   },
   {
    "duration": 56,
    "start_time": "2023-07-29T14:22:27.126Z"
   },
   {
    "duration": 52,
    "start_time": "2023-07-29T14:22:27.186Z"
   },
   {
    "duration": 25,
    "start_time": "2023-07-29T14:22:27.240Z"
   },
   {
    "duration": 33,
    "start_time": "2023-07-29T14:22:27.267Z"
   },
   {
    "duration": 20,
    "start_time": "2023-07-29T14:22:27.304Z"
   },
   {
    "duration": 85,
    "start_time": "2023-07-29T14:22:27.326Z"
   },
   {
    "duration": 20,
    "start_time": "2023-07-29T14:22:27.414Z"
   },
   {
    "duration": 24,
    "start_time": "2023-07-29T14:22:27.436Z"
   },
   {
    "duration": 53,
    "start_time": "2023-07-29T14:22:27.463Z"
   },
   {
    "duration": 41,
    "start_time": "2023-07-29T14:22:27.521Z"
   },
   {
    "duration": 38,
    "start_time": "2023-07-29T14:22:27.565Z"
   },
   {
    "duration": 16,
    "start_time": "2023-07-29T14:22:27.605Z"
   },
   {
    "duration": 121,
    "start_time": "2023-07-29T14:22:27.624Z"
   },
   {
    "duration": 6,
    "start_time": "2023-07-29T14:22:32.040Z"
   },
   {
    "duration": 2111,
    "start_time": "2023-07-29T14:22:32.050Z"
   },
   {
    "duration": 126,
    "start_time": "2023-07-29T14:22:34.164Z"
   },
   {
    "duration": 27,
    "start_time": "2023-07-29T14:22:34.294Z"
   },
   {
    "duration": 55,
    "start_time": "2023-07-29T14:22:34.324Z"
   },
   {
    "duration": 33,
    "start_time": "2023-07-29T14:22:34.381Z"
   },
   {
    "duration": 38,
    "start_time": "2023-07-29T14:22:34.417Z"
   },
   {
    "duration": 12,
    "start_time": "2023-07-29T14:22:34.458Z"
   },
   {
    "duration": 40,
    "start_time": "2023-07-29T14:22:34.472Z"
   },
   {
    "duration": 87,
    "start_time": "2023-07-29T14:22:34.516Z"
   },
   {
    "duration": 15,
    "start_time": "2023-07-29T14:22:34.606Z"
   },
   {
    "duration": 15,
    "start_time": "2023-07-29T14:22:34.624Z"
   },
   {
    "duration": 33,
    "start_time": "2023-07-29T14:22:34.641Z"
   },
   {
    "duration": 54,
    "start_time": "2023-07-29T14:22:34.676Z"
   },
   {
    "duration": 12,
    "start_time": "2023-07-29T14:22:34.733Z"
   },
   {
    "duration": 6,
    "start_time": "2023-07-29T14:22:34.747Z"
   },
   {
    "duration": 189,
    "start_time": "2023-07-29T14:22:34.755Z"
   },
   {
    "duration": 202,
    "start_time": "2023-07-29T14:22:34.947Z"
   },
   {
    "duration": 16,
    "start_time": "2023-07-29T14:22:35.151Z"
   },
   {
    "duration": 39,
    "start_time": "2023-07-29T14:22:35.169Z"
   },
   {
    "duration": 593,
    "start_time": "2023-07-29T14:22:35.211Z"
   },
   {
    "duration": 14,
    "start_time": "2023-07-29T14:22:35.806Z"
   },
   {
    "duration": 375,
    "start_time": "2023-07-29T14:22:35.823Z"
   },
   {
    "duration": 22,
    "start_time": "2023-07-29T14:22:36.200Z"
   },
   {
    "duration": 423,
    "start_time": "2023-07-29T14:22:36.225Z"
   },
   {
    "duration": 25,
    "start_time": "2023-07-29T14:22:36.650Z"
   },
   {
    "duration": 358,
    "start_time": "2023-07-29T14:22:36.678Z"
   },
   {
    "duration": 13,
    "start_time": "2023-07-29T14:22:37.040Z"
   },
   {
    "duration": 64,
    "start_time": "2023-07-29T14:22:37.055Z"
   },
   {
    "duration": 62,
    "start_time": "2023-07-29T14:22:37.121Z"
   },
   {
    "duration": 17,
    "start_time": "2023-07-29T14:22:37.186Z"
   },
   {
    "duration": 36,
    "start_time": "2023-07-29T14:22:37.205Z"
   },
   {
    "duration": 188,
    "start_time": "2023-07-29T14:22:37.243Z"
   },
   {
    "duration": 12258,
    "start_time": "2023-07-29T14:22:37.433Z"
   },
   {
    "duration": 20,
    "start_time": "2023-07-29T14:22:49.695Z"
   },
   {
    "duration": 72,
    "start_time": "2023-07-29T14:22:49.717Z"
   },
   {
    "duration": 442,
    "start_time": "2023-07-29T14:22:49.792Z"
   },
   {
    "duration": 0,
    "start_time": "2023-07-29T14:22:50.236Z"
   },
   {
    "duration": 0,
    "start_time": "2023-07-29T14:22:50.239Z"
   },
   {
    "duration": 22,
    "start_time": "2023-07-29T14:25:44.181Z"
   },
   {
    "duration": 61,
    "start_time": "2023-07-29T14:26:02.773Z"
   },
   {
    "duration": 33,
    "start_time": "2023-07-29T14:27:15.370Z"
   },
   {
    "duration": 12,
    "start_time": "2023-07-29T14:27:30.332Z"
   },
   {
    "duration": 21,
    "start_time": "2023-07-29T14:27:44.517Z"
   },
   {
    "duration": 64,
    "start_time": "2023-07-29T14:28:39.183Z"
   },
   {
    "duration": 7,
    "start_time": "2023-07-29T14:35:28.366Z"
   },
   {
    "duration": 333,
    "start_time": "2023-07-29T14:36:53.010Z"
   },
   {
    "duration": 88,
    "start_time": "2023-07-29T14:37:02.036Z"
   },
   {
    "duration": 326,
    "start_time": "2023-07-29T14:37:07.484Z"
   },
   {
    "duration": 377,
    "start_time": "2023-07-29T14:37:28.323Z"
   },
   {
    "duration": 24,
    "start_time": "2023-07-29T14:37:43.179Z"
   },
   {
    "duration": 592,
    "start_time": "2023-07-29T14:38:59.014Z"
   },
   {
    "duration": 29,
    "start_time": "2023-07-29T14:39:34.612Z"
   },
   {
    "duration": 63,
    "start_time": "2023-07-29T14:39:37.183Z"
   },
   {
    "duration": 31,
    "start_time": "2023-07-29T14:40:15.894Z"
   },
   {
    "duration": 201,
    "start_time": "2023-07-29T14:40:17.708Z"
   },
   {
    "duration": 22,
    "start_time": "2023-07-29T14:41:17.650Z"
   },
   {
    "duration": 10,
    "start_time": "2023-07-29T14:41:28.544Z"
   },
   {
    "duration": 223,
    "start_time": "2023-07-29T14:41:47.170Z"
   },
   {
    "duration": 3,
    "start_time": "2023-07-29T14:42:03.280Z"
   },
   {
    "duration": 1686,
    "start_time": "2023-07-29T14:42:03.285Z"
   },
   {
    "duration": 69,
    "start_time": "2023-07-29T14:42:04.974Z"
   },
   {
    "duration": 158,
    "start_time": "2023-07-29T14:42:05.046Z"
   },
   {
    "duration": 183,
    "start_time": "2023-07-29T14:42:05.206Z"
   },
   {
    "duration": 34,
    "start_time": "2023-07-29T14:42:05.392Z"
   },
   {
    "duration": 40,
    "start_time": "2023-07-29T14:42:05.429Z"
   },
   {
    "duration": 42,
    "start_time": "2023-07-29T14:42:05.473Z"
   },
   {
    "duration": 58,
    "start_time": "2023-07-29T14:42:05.517Z"
   },
   {
    "duration": 76,
    "start_time": "2023-07-29T14:42:05.578Z"
   },
   {
    "duration": 15,
    "start_time": "2023-07-29T14:42:05.656Z"
   },
   {
    "duration": 48,
    "start_time": "2023-07-29T14:42:05.674Z"
   },
   {
    "duration": 51,
    "start_time": "2023-07-29T14:42:05.726Z"
   },
   {
    "duration": 207,
    "start_time": "2023-07-29T14:42:05.779Z"
   },
   {
    "duration": 86,
    "start_time": "2023-07-29T14:42:05.988Z"
   },
   {
    "duration": 41,
    "start_time": "2023-07-29T14:42:06.077Z"
   },
   {
    "duration": 194,
    "start_time": "2023-07-29T14:42:06.121Z"
   },
   {
    "duration": 177,
    "start_time": "2023-07-29T14:42:06.317Z"
   },
   {
    "duration": 10,
    "start_time": "2023-07-29T14:42:06.496Z"
   },
   {
    "duration": 68,
    "start_time": "2023-07-29T14:42:06.508Z"
   },
   {
    "duration": 452,
    "start_time": "2023-07-29T14:42:06.579Z"
   },
   {
    "duration": 14,
    "start_time": "2023-07-29T14:42:07.032Z"
   },
   {
    "duration": 456,
    "start_time": "2023-07-29T14:42:07.053Z"
   },
   {
    "duration": 20,
    "start_time": "2023-07-29T14:42:07.510Z"
   },
   {
    "duration": 315,
    "start_time": "2023-07-29T14:42:07.532Z"
   },
   {
    "duration": 25,
    "start_time": "2023-07-29T14:42:07.849Z"
   },
   {
    "duration": 317,
    "start_time": "2023-07-29T14:42:07.876Z"
   },
   {
    "duration": 6,
    "start_time": "2023-07-29T14:42:08.195Z"
   },
   {
    "duration": 78,
    "start_time": "2023-07-29T14:42:08.203Z"
   },
   {
    "duration": 21,
    "start_time": "2023-07-29T14:42:08.283Z"
   },
   {
    "duration": 77,
    "start_time": "2023-07-29T14:42:08.307Z"
   },
   {
    "duration": 146,
    "start_time": "2023-07-29T14:42:08.386Z"
   },
   {
    "duration": 11551,
    "start_time": "2023-07-29T14:42:08.534Z"
   },
   {
    "duration": 17,
    "start_time": "2023-07-29T14:42:20.087Z"
   },
   {
    "duration": 414,
    "start_time": "2023-07-29T14:42:20.153Z"
   },
   {
    "duration": 0,
    "start_time": "2023-07-29T14:42:20.569Z"
   },
   {
    "duration": 0,
    "start_time": "2023-07-29T14:42:20.571Z"
   },
   {
    "duration": 0,
    "start_time": "2023-07-29T14:42:20.573Z"
   },
   {
    "duration": 244,
    "start_time": "2023-07-29T14:42:37.766Z"
   },
   {
    "duration": 22,
    "start_time": "2023-07-29T14:42:49.584Z"
   },
   {
    "duration": 210,
    "start_time": "2023-07-29T14:43:00.768Z"
   },
   {
    "duration": 21,
    "start_time": "2023-07-29T14:45:21.002Z"
   },
   {
    "duration": 231,
    "start_time": "2023-07-29T14:45:33.293Z"
   },
   {
    "duration": 3,
    "start_time": "2023-07-29T14:45:39.496Z"
   },
   {
    "duration": 1702,
    "start_time": "2023-07-29T14:45:39.501Z"
   },
   {
    "duration": 76,
    "start_time": "2023-07-29T14:45:41.205Z"
   },
   {
    "duration": 40,
    "start_time": "2023-07-29T14:45:41.283Z"
   },
   {
    "duration": 66,
    "start_time": "2023-07-29T14:45:41.327Z"
   },
   {
    "duration": 24,
    "start_time": "2023-07-29T14:45:41.395Z"
   },
   {
    "duration": 38,
    "start_time": "2023-07-29T14:45:41.421Z"
   },
   {
    "duration": 32,
    "start_time": "2023-07-29T14:45:41.461Z"
   },
   {
    "duration": 19,
    "start_time": "2023-07-29T14:45:41.495Z"
   },
   {
    "duration": 78,
    "start_time": "2023-07-29T14:45:41.516Z"
   },
   {
    "duration": 17,
    "start_time": "2023-07-29T14:45:41.597Z"
   },
   {
    "duration": 12,
    "start_time": "2023-07-29T14:45:41.617Z"
   },
   {
    "duration": 36,
    "start_time": "2023-07-29T14:45:41.631Z"
   },
   {
    "duration": 35,
    "start_time": "2023-07-29T14:45:41.669Z"
   },
   {
    "duration": 14,
    "start_time": "2023-07-29T14:45:41.706Z"
   },
   {
    "duration": 29,
    "start_time": "2023-07-29T14:45:41.722Z"
   },
   {
    "duration": 146,
    "start_time": "2023-07-29T14:45:41.753Z"
   },
   {
    "duration": 217,
    "start_time": "2023-07-29T14:45:41.901Z"
   },
   {
    "duration": 12,
    "start_time": "2023-07-29T14:45:42.121Z"
   },
   {
    "duration": 18,
    "start_time": "2023-07-29T14:45:42.135Z"
   },
   {
    "duration": 381,
    "start_time": "2023-07-29T14:45:42.156Z"
   },
   {
    "duration": 15,
    "start_time": "2023-07-29T14:45:42.539Z"
   },
   {
    "duration": 552,
    "start_time": "2023-07-29T14:45:42.556Z"
   },
   {
    "duration": 18,
    "start_time": "2023-07-29T14:45:43.110Z"
   },
   {
    "duration": 350,
    "start_time": "2023-07-29T14:45:43.130Z"
   },
   {
    "duration": 19,
    "start_time": "2023-07-29T14:45:43.487Z"
   },
   {
    "duration": 610,
    "start_time": "2023-07-29T14:45:43.508Z"
   },
   {
    "duration": 5,
    "start_time": "2023-07-29T14:45:44.120Z"
   },
   {
    "duration": 89,
    "start_time": "2023-07-29T14:45:44.131Z"
   },
   {
    "duration": 13,
    "start_time": "2023-07-29T14:45:44.222Z"
   },
   {
    "duration": 48,
    "start_time": "2023-07-29T14:45:44.236Z"
   },
   {
    "duration": 113,
    "start_time": "2023-07-29T14:45:44.286Z"
   },
   {
    "duration": 11929,
    "start_time": "2023-07-29T14:45:44.401Z"
   },
   {
    "duration": 37,
    "start_time": "2023-07-29T14:45:56.333Z"
   },
   {
    "duration": 426,
    "start_time": "2023-07-29T14:45:56.372Z"
   },
   {
    "duration": 0,
    "start_time": "2023-07-29T14:45:56.799Z"
   },
   {
    "duration": 0,
    "start_time": "2023-07-29T14:45:56.801Z"
   },
   {
    "duration": 0,
    "start_time": "2023-07-29T14:45:56.802Z"
   },
   {
    "duration": 309,
    "start_time": "2023-07-29T14:46:48.320Z"
   },
   {
    "duration": 249,
    "start_time": "2023-07-29T14:46:54.295Z"
   },
   {
    "duration": 16,
    "start_time": "2023-07-29T14:47:37.429Z"
   },
   {
    "duration": 16,
    "start_time": "2023-07-29T14:48:58.878Z"
   },
   {
    "duration": 235,
    "start_time": "2023-07-29T14:49:13.489Z"
   },
   {
    "duration": 27,
    "start_time": "2023-07-29T14:49:22.674Z"
   },
   {
    "duration": 30,
    "start_time": "2023-07-29T14:51:31.467Z"
   },
   {
    "duration": 10,
    "start_time": "2023-07-29T14:51:44.128Z"
   },
   {
    "duration": 21,
    "start_time": "2023-07-29T14:51:50.218Z"
   },
   {
    "duration": 10,
    "start_time": "2023-07-29T14:52:09.978Z"
   },
   {
    "duration": 21,
    "start_time": "2023-07-29T14:52:10.508Z"
   },
   {
    "duration": 372,
    "start_time": "2023-07-29T14:52:48.177Z"
   },
   {
    "duration": 294,
    "start_time": "2023-07-29T14:53:53.366Z"
   },
   {
    "duration": 11,
    "start_time": "2023-07-29T14:58:45.637Z"
   },
   {
    "duration": 337,
    "start_time": "2023-07-29T14:58:46.648Z"
   },
   {
    "duration": 568,
    "start_time": "2023-07-29T14:58:49.777Z"
   },
   {
    "duration": 29,
    "start_time": "2023-07-29T14:58:59.074Z"
   },
   {
    "duration": 5,
    "start_time": "2023-07-29T14:59:08.528Z"
   },
   {
    "duration": 1875,
    "start_time": "2023-07-29T14:59:08.535Z"
   },
   {
    "duration": 81,
    "start_time": "2023-07-29T14:59:10.413Z"
   },
   {
    "duration": 19,
    "start_time": "2023-07-29T14:59:10.497Z"
   },
   {
    "duration": 47,
    "start_time": "2023-07-29T14:59:10.518Z"
   },
   {
    "duration": 23,
    "start_time": "2023-07-29T14:59:10.568Z"
   },
   {
    "duration": 29,
    "start_time": "2023-07-29T14:59:10.594Z"
   },
   {
    "duration": 10,
    "start_time": "2023-07-29T14:59:10.625Z"
   },
   {
    "duration": 30,
    "start_time": "2023-07-29T14:59:10.637Z"
   },
   {
    "duration": 56,
    "start_time": "2023-07-29T14:59:10.670Z"
   },
   {
    "duration": 10,
    "start_time": "2023-07-29T14:59:10.727Z"
   },
   {
    "duration": 18,
    "start_time": "2023-07-29T14:59:10.739Z"
   },
   {
    "duration": 33,
    "start_time": "2023-07-29T14:59:10.759Z"
   },
   {
    "duration": 18,
    "start_time": "2023-07-29T14:59:10.794Z"
   },
   {
    "duration": 9,
    "start_time": "2023-07-29T14:59:10.814Z"
   },
   {
    "duration": 7,
    "start_time": "2023-07-29T14:59:10.825Z"
   },
   {
    "duration": 109,
    "start_time": "2023-07-29T14:59:10.834Z"
   },
   {
    "duration": 199,
    "start_time": "2023-07-29T14:59:10.945Z"
   },
   {
    "duration": 16,
    "start_time": "2023-07-29T14:59:11.147Z"
   },
   {
    "duration": 50,
    "start_time": "2023-07-29T14:59:11.165Z"
   },
   {
    "duration": 290,
    "start_time": "2023-07-29T14:59:11.217Z"
   },
   {
    "duration": 0,
    "start_time": "2023-07-29T14:59:11.510Z"
   },
   {
    "duration": 0,
    "start_time": "2023-07-29T14:59:11.511Z"
   },
   {
    "duration": 0,
    "start_time": "2023-07-29T14:59:11.512Z"
   },
   {
    "duration": 0,
    "start_time": "2023-07-29T14:59:11.513Z"
   },
   {
    "duration": 0,
    "start_time": "2023-07-29T14:59:11.514Z"
   },
   {
    "duration": 0,
    "start_time": "2023-07-29T14:59:11.516Z"
   },
   {
    "duration": 0,
    "start_time": "2023-07-29T14:59:11.517Z"
   },
   {
    "duration": 0,
    "start_time": "2023-07-29T14:59:11.518Z"
   },
   {
    "duration": 0,
    "start_time": "2023-07-29T14:59:11.520Z"
   },
   {
    "duration": 0,
    "start_time": "2023-07-29T14:59:11.521Z"
   },
   {
    "duration": 0,
    "start_time": "2023-07-29T14:59:11.522Z"
   },
   {
    "duration": 1,
    "start_time": "2023-07-29T14:59:11.552Z"
   },
   {
    "duration": 0,
    "start_time": "2023-07-29T14:59:11.554Z"
   },
   {
    "duration": 0,
    "start_time": "2023-07-29T14:59:11.556Z"
   },
   {
    "duration": 0,
    "start_time": "2023-07-29T14:59:11.557Z"
   },
   {
    "duration": 0,
    "start_time": "2023-07-29T14:59:11.558Z"
   },
   {
    "duration": 0,
    "start_time": "2023-07-29T14:59:11.560Z"
   },
   {
    "duration": 7,
    "start_time": "2023-07-29T14:59:33.538Z"
   },
   {
    "duration": 32,
    "start_time": "2023-07-29T14:59:34.540Z"
   },
   {
    "duration": 451,
    "start_time": "2023-07-29T14:59:41.323Z"
   },
   {
    "duration": 17,
    "start_time": "2023-07-29T15:00:00.399Z"
   },
   {
    "duration": 12,
    "start_time": "2023-07-29T15:03:02.635Z"
   },
   {
    "duration": 334,
    "start_time": "2023-07-29T15:03:15.160Z"
   },
   {
    "duration": 14,
    "start_time": "2023-07-29T15:06:25.051Z"
   },
   {
    "duration": 17,
    "start_time": "2023-07-29T15:07:50.385Z"
   },
   {
    "duration": 11,
    "start_time": "2023-07-29T15:08:23.582Z"
   },
   {
    "duration": 3684,
    "start_time": "2023-07-29T15:09:42.150Z"
   },
   {
    "duration": 8,
    "start_time": "2023-07-29T15:11:20.634Z"
   },
   {
    "duration": 4,
    "start_time": "2023-07-29T15:11:22.599Z"
   },
   {
    "duration": 11,
    "start_time": "2023-07-29T15:11:33.583Z"
   },
   {
    "duration": 8,
    "start_time": "2023-07-29T15:11:55.793Z"
   },
   {
    "duration": 10,
    "start_time": "2023-07-29T15:11:56.384Z"
   },
   {
    "duration": 23,
    "start_time": "2023-07-29T15:17:41.661Z"
   },
   {
    "duration": 17,
    "start_time": "2023-07-29T15:17:45.188Z"
   },
   {
    "duration": 343,
    "start_time": "2023-07-29T15:17:53.457Z"
   },
   {
    "duration": 360,
    "start_time": "2023-07-29T15:18:20.873Z"
   },
   {
    "duration": 345,
    "start_time": "2023-07-29T15:18:29.284Z"
   },
   {
    "duration": 338,
    "start_time": "2023-07-29T15:19:52.390Z"
   },
   {
    "duration": 25,
    "start_time": "2023-07-29T15:20:38.299Z"
   },
   {
    "duration": 582,
    "start_time": "2023-07-29T15:20:39.231Z"
   },
   {
    "duration": 29,
    "start_time": "2023-07-29T15:21:36.806Z"
   },
   {
    "duration": 4,
    "start_time": "2023-07-29T15:33:03.646Z"
   },
   {
    "duration": 1631,
    "start_time": "2023-07-29T15:33:03.668Z"
   },
   {
    "duration": 86,
    "start_time": "2023-07-29T15:33:05.302Z"
   },
   {
    "duration": 19,
    "start_time": "2023-07-29T15:33:05.391Z"
   },
   {
    "duration": 70,
    "start_time": "2023-07-29T15:33:05.413Z"
   },
   {
    "duration": 10,
    "start_time": "2023-07-29T15:33:05.485Z"
   },
   {
    "duration": 28,
    "start_time": "2023-07-29T15:33:05.497Z"
   },
   {
    "duration": 36,
    "start_time": "2023-07-29T15:33:05.529Z"
   },
   {
    "duration": 26,
    "start_time": "2023-07-29T15:33:05.568Z"
   },
   {
    "duration": 52,
    "start_time": "2023-07-29T15:33:05.596Z"
   },
   {
    "duration": 37,
    "start_time": "2023-07-29T15:33:05.650Z"
   },
   {
    "duration": 13,
    "start_time": "2023-07-29T15:33:05.689Z"
   },
   {
    "duration": 14,
    "start_time": "2023-07-29T15:33:05.704Z"
   },
   {
    "duration": 22,
    "start_time": "2023-07-29T15:33:05.720Z"
   },
   {
    "duration": 32,
    "start_time": "2023-07-29T15:33:05.744Z"
   },
   {
    "duration": 10,
    "start_time": "2023-07-29T15:33:05.778Z"
   },
   {
    "duration": 94,
    "start_time": "2023-07-29T15:33:05.790Z"
   },
   {
    "duration": 220,
    "start_time": "2023-07-29T15:33:05.886Z"
   },
   {
    "duration": 12,
    "start_time": "2023-07-29T15:33:06.108Z"
   },
   {
    "duration": 39,
    "start_time": "2023-07-29T15:33:06.123Z"
   },
   {
    "duration": 627,
    "start_time": "2023-07-29T15:33:06.165Z"
   },
   {
    "duration": 10,
    "start_time": "2023-07-29T15:33:06.795Z"
   },
   {
    "duration": 76,
    "start_time": "2023-07-29T15:33:06.807Z"
   },
   {
    "duration": 344,
    "start_time": "2023-07-29T15:33:06.888Z"
   },
   {
    "duration": 41,
    "start_time": "2023-07-29T15:33:07.234Z"
   },
   {
    "duration": 366,
    "start_time": "2023-07-29T15:33:07.278Z"
   },
   {
    "duration": 30,
    "start_time": "2023-07-29T15:33:07.646Z"
   },
   {
    "duration": 344,
    "start_time": "2023-07-29T15:33:07.678Z"
   },
   {
    "duration": 5,
    "start_time": "2023-07-29T15:33:08.024Z"
   },
   {
    "duration": 72,
    "start_time": "2023-07-29T15:33:08.031Z"
   },
   {
    "duration": 15,
    "start_time": "2023-07-29T15:33:08.104Z"
   },
   {
    "duration": 53,
    "start_time": "2023-07-29T15:33:08.121Z"
   },
   {
    "duration": 138,
    "start_time": "2023-07-29T15:33:08.176Z"
   },
   {
    "duration": 11578,
    "start_time": "2023-07-29T15:33:08.317Z"
   },
   {
    "duration": 55,
    "start_time": "2023-07-29T15:33:19.897Z"
   },
   {
    "duration": 333,
    "start_time": "2023-07-29T15:33:19.954Z"
   },
   {
    "duration": 0,
    "start_time": "2023-07-29T15:33:20.290Z"
   },
   {
    "duration": 0,
    "start_time": "2023-07-29T15:33:20.292Z"
   },
   {
    "duration": 0,
    "start_time": "2023-07-29T15:33:20.295Z"
   },
   {
    "duration": 13,
    "start_time": "2023-07-29T15:37:43.733Z"
   },
   {
    "duration": 16,
    "start_time": "2023-07-29T15:37:52.335Z"
   },
   {
    "duration": 31,
    "start_time": "2023-07-29T15:38:47.887Z"
   },
   {
    "duration": 26,
    "start_time": "2023-07-29T15:39:55.452Z"
   },
   {
    "duration": 6,
    "start_time": "2023-07-29T15:40:05.835Z"
   },
   {
    "duration": 1636,
    "start_time": "2023-07-29T15:40:05.843Z"
   },
   {
    "duration": 68,
    "start_time": "2023-07-29T15:40:07.481Z"
   },
   {
    "duration": 22,
    "start_time": "2023-07-29T15:40:07.551Z"
   },
   {
    "duration": 37,
    "start_time": "2023-07-29T15:40:07.576Z"
   },
   {
    "duration": 26,
    "start_time": "2023-07-29T15:40:07.616Z"
   },
   {
    "duration": 43,
    "start_time": "2023-07-29T15:40:07.644Z"
   },
   {
    "duration": 12,
    "start_time": "2023-07-29T15:40:07.689Z"
   },
   {
    "duration": 16,
    "start_time": "2023-07-29T15:40:07.703Z"
   },
   {
    "duration": 84,
    "start_time": "2023-07-29T15:40:07.721Z"
   },
   {
    "duration": 11,
    "start_time": "2023-07-29T15:40:07.807Z"
   },
   {
    "duration": 22,
    "start_time": "2023-07-29T15:40:07.821Z"
   },
   {
    "duration": 25,
    "start_time": "2023-07-29T15:40:07.852Z"
   },
   {
    "duration": 29,
    "start_time": "2023-07-29T15:40:07.881Z"
   },
   {
    "duration": 14,
    "start_time": "2023-07-29T15:40:07.912Z"
   },
   {
    "duration": 8,
    "start_time": "2023-07-29T15:40:07.929Z"
   },
   {
    "duration": 147,
    "start_time": "2023-07-29T15:40:07.939Z"
   },
   {
    "duration": 219,
    "start_time": "2023-07-29T15:40:08.089Z"
   },
   {
    "duration": 14,
    "start_time": "2023-07-29T15:40:08.310Z"
   },
   {
    "duration": 51,
    "start_time": "2023-07-29T15:40:08.326Z"
   },
   {
    "duration": 672,
    "start_time": "2023-07-29T15:40:08.384Z"
   },
   {
    "duration": 23,
    "start_time": "2023-07-29T15:40:09.058Z"
   },
   {
    "duration": 23,
    "start_time": "2023-07-29T15:40:09.083Z"
   },
   {
    "duration": 360,
    "start_time": "2023-07-29T15:40:09.108Z"
   },
   {
    "duration": 22,
    "start_time": "2023-07-29T15:40:09.470Z"
   },
   {
    "duration": 360,
    "start_time": "2023-07-29T15:40:09.493Z"
   },
   {
    "duration": 25,
    "start_time": "2023-07-29T15:40:09.856Z"
   },
   {
    "duration": 319,
    "start_time": "2023-07-29T15:40:09.883Z"
   },
   {
    "duration": 6,
    "start_time": "2023-07-29T15:40:10.204Z"
   },
   {
    "duration": 206,
    "start_time": "2023-07-29T15:40:10.212Z"
   },
   {
    "duration": 0,
    "start_time": "2023-07-29T15:40:10.419Z"
   },
   {
    "duration": 0,
    "start_time": "2023-07-29T15:40:10.421Z"
   },
   {
    "duration": 0,
    "start_time": "2023-07-29T15:40:10.422Z"
   },
   {
    "duration": 0,
    "start_time": "2023-07-29T15:40:10.424Z"
   },
   {
    "duration": 0,
    "start_time": "2023-07-29T15:40:10.425Z"
   },
   {
    "duration": 0,
    "start_time": "2023-07-29T15:40:10.427Z"
   },
   {
    "duration": 0,
    "start_time": "2023-07-29T15:40:10.428Z"
   },
   {
    "duration": 0,
    "start_time": "2023-07-29T15:40:10.429Z"
   },
   {
    "duration": 0,
    "start_time": "2023-07-29T15:40:10.453Z"
   },
   {
    "duration": 20,
    "start_time": "2023-07-29T15:40:24.958Z"
   },
   {
    "duration": 91,
    "start_time": "2023-07-29T15:41:05.344Z"
   },
   {
    "duration": 23,
    "start_time": "2023-07-29T15:41:33.149Z"
   },
   {
    "duration": 30,
    "start_time": "2023-07-29T15:43:23.536Z"
   },
   {
    "duration": 141,
    "start_time": "2023-07-29T15:44:34.041Z"
   },
   {
    "duration": 5,
    "start_time": "2023-07-29T16:15:50.793Z"
   },
   {
    "duration": 1624,
    "start_time": "2023-07-29T16:15:50.800Z"
   },
   {
    "duration": 66,
    "start_time": "2023-07-29T16:15:52.425Z"
   },
   {
    "duration": 16,
    "start_time": "2023-07-29T16:15:52.493Z"
   },
   {
    "duration": 45,
    "start_time": "2023-07-29T16:15:52.511Z"
   },
   {
    "duration": 9,
    "start_time": "2023-07-29T16:15:52.558Z"
   },
   {
    "duration": 28,
    "start_time": "2023-07-29T16:15:52.569Z"
   },
   {
    "duration": 8,
    "start_time": "2023-07-29T16:15:52.600Z"
   },
   {
    "duration": 33,
    "start_time": "2023-07-29T16:15:52.610Z"
   },
   {
    "duration": 46,
    "start_time": "2023-07-29T16:15:52.645Z"
   },
   {
    "duration": 11,
    "start_time": "2023-07-29T16:15:52.693Z"
   },
   {
    "duration": 12,
    "start_time": "2023-07-29T16:15:52.706Z"
   },
   {
    "duration": 31,
    "start_time": "2023-07-29T16:15:52.720Z"
   },
   {
    "duration": 29,
    "start_time": "2023-07-29T16:15:52.756Z"
   },
   {
    "duration": 19,
    "start_time": "2023-07-29T16:15:52.788Z"
   },
   {
    "duration": 15,
    "start_time": "2023-07-29T16:15:52.810Z"
   },
   {
    "duration": 107,
    "start_time": "2023-07-29T16:15:52.827Z"
   },
   {
    "duration": 174,
    "start_time": "2023-07-29T16:15:52.936Z"
   },
   {
    "duration": 11,
    "start_time": "2023-07-29T16:15:53.112Z"
   },
   {
    "duration": 30,
    "start_time": "2023-07-29T16:15:53.125Z"
   },
   {
    "duration": 512,
    "start_time": "2023-07-29T16:15:53.157Z"
   },
   {
    "duration": 9,
    "start_time": "2023-07-29T16:15:53.672Z"
   },
   {
    "duration": 15,
    "start_time": "2023-07-29T16:15:53.683Z"
   },
   {
    "duration": 320,
    "start_time": "2023-07-29T16:15:53.700Z"
   },
   {
    "duration": 31,
    "start_time": "2023-07-29T16:15:54.023Z"
   },
   {
    "duration": 293,
    "start_time": "2023-07-29T16:15:54.056Z"
   },
   {
    "duration": 18,
    "start_time": "2023-07-29T16:15:54.352Z"
   },
   {
    "duration": 300,
    "start_time": "2023-07-29T16:15:54.372Z"
   },
   {
    "duration": 5,
    "start_time": "2023-07-29T16:15:54.674Z"
   },
   {
    "duration": 28,
    "start_time": "2023-07-29T16:15:54.681Z"
   },
   {
    "duration": 106,
    "start_time": "2023-07-29T16:15:54.711Z"
   },
   {
    "duration": 33,
    "start_time": "2023-07-29T16:15:54.819Z"
   },
   {
    "duration": 35,
    "start_time": "2023-07-29T16:15:54.854Z"
   },
   {
    "duration": 217,
    "start_time": "2023-07-29T16:15:54.891Z"
   },
   {
    "duration": 10581,
    "start_time": "2023-07-29T16:15:55.110Z"
   },
   {
    "duration": 20,
    "start_time": "2023-07-29T16:16:05.693Z"
   },
   {
    "duration": 337,
    "start_time": "2023-07-29T16:16:05.753Z"
   },
   {
    "duration": 0,
    "start_time": "2023-07-29T16:16:06.092Z"
   },
   {
    "duration": 0,
    "start_time": "2023-07-29T16:16:06.094Z"
   },
   {
    "duration": 0,
    "start_time": "2023-07-29T16:16:06.095Z"
   },
   {
    "duration": 21,
    "start_time": "2023-07-29T16:23:17.431Z"
   },
   {
    "duration": 22,
    "start_time": "2023-07-29T16:26:26.083Z"
   },
   {
    "duration": 174,
    "start_time": "2023-07-29T16:26:40.410Z"
   },
   {
    "duration": 19,
    "start_time": "2023-07-29T16:32:48.448Z"
   },
   {
    "duration": 24,
    "start_time": "2023-07-29T16:32:54.437Z"
   },
   {
    "duration": 18,
    "start_time": "2023-07-29T16:33:15.270Z"
   },
   {
    "duration": 344,
    "start_time": "2023-07-29T16:33:57.738Z"
   },
   {
    "duration": 10,
    "start_time": "2023-07-29T16:34:25.588Z"
   },
   {
    "duration": 557,
    "start_time": "2023-07-29T16:35:29.331Z"
   },
   {
    "duration": 339,
    "start_time": "2023-07-29T16:35:51.556Z"
   },
   {
    "duration": 12,
    "start_time": "2023-07-29T16:36:29.132Z"
   },
   {
    "duration": 20,
    "start_time": "2023-07-29T16:36:37.208Z"
   },
   {
    "duration": 20,
    "start_time": "2023-07-29T16:37:25.462Z"
   },
   {
    "duration": 88,
    "start_time": "2023-07-29T16:37:34.939Z"
   },
   {
    "duration": 26,
    "start_time": "2023-07-29T16:37:40.162Z"
   },
   {
    "duration": 391,
    "start_time": "2023-07-29T16:38:33.203Z"
   },
   {
    "duration": 20,
    "start_time": "2023-07-29T16:51:31.760Z"
   },
   {
    "duration": 17,
    "start_time": "2023-07-29T16:51:32.251Z"
   },
   {
    "duration": 37,
    "start_time": "2023-07-29T16:51:42.832Z"
   },
   {
    "duration": 34,
    "start_time": "2023-07-29T16:54:06.352Z"
   },
   {
    "duration": 15,
    "start_time": "2023-07-29T16:54:10.130Z"
   },
   {
    "duration": 40,
    "start_time": "2023-07-29T16:57:36.944Z"
   },
   {
    "duration": 19,
    "start_time": "2023-07-29T16:57:39.328Z"
   },
   {
    "duration": 13,
    "start_time": "2023-07-29T16:57:41.528Z"
   },
   {
    "duration": 16,
    "start_time": "2023-07-29T16:58:02.890Z"
   },
   {
    "duration": 8,
    "start_time": "2023-07-29T16:58:03.816Z"
   },
   {
    "duration": 18,
    "start_time": "2023-07-29T16:58:26.500Z"
   },
   {
    "duration": 12,
    "start_time": "2023-07-29T16:58:27.514Z"
   },
   {
    "duration": 105,
    "start_time": "2023-07-29T16:59:31.840Z"
   },
   {
    "duration": 88,
    "start_time": "2023-07-29T17:01:00.582Z"
   },
   {
    "duration": 103,
    "start_time": "2023-07-29T17:02:05.233Z"
   },
   {
    "duration": 20,
    "start_time": "2023-07-29T17:02:15.028Z"
   },
   {
    "duration": 86,
    "start_time": "2023-07-29T17:02:15.788Z"
   },
   {
    "duration": 126,
    "start_time": "2023-07-29T17:02:33.850Z"
   },
   {
    "duration": 35,
    "start_time": "2023-07-29T17:03:02.331Z"
   },
   {
    "duration": 77,
    "start_time": "2023-07-29T17:03:02.958Z"
   },
   {
    "duration": 130,
    "start_time": "2023-07-29T17:03:34.329Z"
   },
   {
    "duration": 22,
    "start_time": "2023-07-29T17:03:52.378Z"
   },
   {
    "duration": 111,
    "start_time": "2023-07-29T17:03:52.880Z"
   },
   {
    "duration": 21,
    "start_time": "2023-07-29T17:04:27.415Z"
   },
   {
    "duration": 102,
    "start_time": "2023-07-29T17:04:27.438Z"
   },
   {
    "duration": 101,
    "start_time": "2023-07-29T17:08:08.033Z"
   },
   {
    "duration": 18,
    "start_time": "2023-07-29T17:11:22.081Z"
   },
   {
    "duration": 26,
    "start_time": "2023-07-29T17:11:27.467Z"
   },
   {
    "duration": 22,
    "start_time": "2023-07-29T17:11:32.407Z"
   },
   {
    "duration": 102,
    "start_time": "2023-07-29T17:11:42.936Z"
   },
   {
    "duration": 45,
    "start_time": "2023-07-29T17:11:57.599Z"
   },
   {
    "duration": 27,
    "start_time": "2023-07-29T17:12:08.593Z"
   },
   {
    "duration": 27,
    "start_time": "2023-07-29T17:16:52.732Z"
   },
   {
    "duration": 90,
    "start_time": "2023-07-29T17:17:38.602Z"
   },
   {
    "duration": 37,
    "start_time": "2023-07-29T17:17:43.337Z"
   },
   {
    "duration": 22,
    "start_time": "2023-07-29T17:17:54.400Z"
   },
   {
    "duration": 19,
    "start_time": "2023-07-29T17:18:01.420Z"
   },
   {
    "duration": 23,
    "start_time": "2023-07-29T17:22:04.411Z"
   },
   {
    "duration": 78,
    "start_time": "2023-07-29T17:23:32.341Z"
   },
   {
    "duration": 21,
    "start_time": "2023-07-29T17:23:43.443Z"
   },
   {
    "duration": 29,
    "start_time": "2023-07-29T17:23:52.541Z"
   },
   {
    "duration": 29,
    "start_time": "2023-07-29T17:25:24.936Z"
   },
   {
    "duration": 15,
    "start_time": "2023-07-29T17:25:26.716Z"
   },
   {
    "duration": 35,
    "start_time": "2023-07-29T17:25:36.773Z"
   },
   {
    "duration": 14,
    "start_time": "2023-07-29T17:26:25.412Z"
   },
   {
    "duration": 21,
    "start_time": "2023-07-29T17:26:29.467Z"
   },
   {
    "duration": 28,
    "start_time": "2023-07-29T17:26:30.812Z"
   },
   {
    "duration": 12,
    "start_time": "2023-07-29T17:28:11.805Z"
   },
   {
    "duration": 16,
    "start_time": "2023-07-29T17:28:45.654Z"
   },
   {
    "duration": 14,
    "start_time": "2023-07-29T17:30:23.579Z"
   },
   {
    "duration": 3,
    "start_time": "2023-07-30T07:44:34.939Z"
   },
   {
    "duration": 1551,
    "start_time": "2023-07-30T07:44:34.944Z"
   },
   {
    "duration": 108,
    "start_time": "2023-07-30T07:44:36.497Z"
   },
   {
    "duration": 13,
    "start_time": "2023-07-30T07:44:36.607Z"
   },
   {
    "duration": 27,
    "start_time": "2023-07-30T07:44:36.622Z"
   },
   {
    "duration": 7,
    "start_time": "2023-07-30T07:44:36.650Z"
   },
   {
    "duration": 22,
    "start_time": "2023-07-30T07:44:36.658Z"
   },
   {
    "duration": 7,
    "start_time": "2023-07-30T07:44:36.699Z"
   },
   {
    "duration": 10,
    "start_time": "2023-07-30T07:44:36.707Z"
   },
   {
    "duration": 39,
    "start_time": "2023-07-30T07:44:36.718Z"
   },
   {
    "duration": 7,
    "start_time": "2023-07-30T07:44:36.760Z"
   },
   {
    "duration": 17,
    "start_time": "2023-07-30T07:44:36.768Z"
   },
   {
    "duration": 21,
    "start_time": "2023-07-30T07:44:36.799Z"
   },
   {
    "duration": 18,
    "start_time": "2023-07-30T07:44:36.822Z"
   },
   {
    "duration": 5,
    "start_time": "2023-07-30T07:44:36.842Z"
   },
   {
    "duration": 4,
    "start_time": "2023-07-30T07:44:36.848Z"
   },
   {
    "duration": 92,
    "start_time": "2023-07-30T07:44:36.854Z"
   },
   {
    "duration": 147,
    "start_time": "2023-07-30T07:44:36.947Z"
   },
   {
    "duration": 8,
    "start_time": "2023-07-30T07:44:37.096Z"
   },
   {
    "duration": 14,
    "start_time": "2023-07-30T07:44:37.105Z"
   },
   {
    "duration": 434,
    "start_time": "2023-07-30T07:44:37.121Z"
   },
   {
    "duration": 7,
    "start_time": "2023-07-30T07:44:37.557Z"
   },
   {
    "duration": 16,
    "start_time": "2023-07-30T07:44:37.565Z"
   },
   {
    "duration": 256,
    "start_time": "2023-07-30T07:44:37.583Z"
   },
   {
    "duration": 15,
    "start_time": "2023-07-30T07:44:37.841Z"
   },
   {
    "duration": 252,
    "start_time": "2023-07-30T07:44:37.857Z"
   },
   {
    "duration": 19,
    "start_time": "2023-07-30T07:44:38.111Z"
   },
   {
    "duration": 267,
    "start_time": "2023-07-30T07:44:38.132Z"
   },
   {
    "duration": 4,
    "start_time": "2023-07-30T07:44:38.402Z"
   },
   {
    "duration": 26,
    "start_time": "2023-07-30T07:44:38.408Z"
   },
   {
    "duration": 79,
    "start_time": "2023-07-30T07:44:38.436Z"
   },
   {
    "duration": 16,
    "start_time": "2023-07-30T07:44:38.517Z"
   },
   {
    "duration": 266,
    "start_time": "2023-07-30T07:44:38.534Z"
   },
   {
    "duration": 14,
    "start_time": "2023-07-30T07:44:38.802Z"
   },
   {
    "duration": 173,
    "start_time": "2023-07-30T07:44:38.818Z"
   },
   {
    "duration": 116,
    "start_time": "2023-07-30T07:44:38.993Z"
   },
   {
    "duration": 8977,
    "start_time": "2023-07-30T07:44:39.110Z"
   },
   {
    "duration": 30,
    "start_time": "2023-07-30T07:44:48.089Z"
   },
   {
    "duration": 16,
    "start_time": "2023-07-30T07:44:48.121Z"
   },
   {
    "duration": 179,
    "start_time": "2023-07-30T07:44:48.139Z"
   },
   {
    "duration": 15,
    "start_time": "2023-07-30T07:44:48.319Z"
   },
   {
    "duration": 74,
    "start_time": "2023-07-30T07:44:48.335Z"
   },
   {
    "duration": 18,
    "start_time": "2023-07-30T07:44:48.410Z"
   },
   {
    "duration": 20,
    "start_time": "2023-07-30T07:44:48.429Z"
   },
   {
    "duration": 53,
    "start_time": "2023-07-30T07:44:48.450Z"
   },
   {
    "duration": 148,
    "start_time": "2023-07-30T07:44:48.504Z"
   },
   {
    "duration": 10,
    "start_time": "2023-07-30T07:57:03.810Z"
   },
   {
    "duration": 11,
    "start_time": "2023-07-30T07:57:25.252Z"
   },
   {
    "duration": 122,
    "start_time": "2023-07-30T08:01:09.735Z"
   },
   {
    "duration": 340,
    "start_time": "2023-07-30T08:13:13.197Z"
   },
   {
    "duration": 160,
    "start_time": "2023-07-30T08:13:36.316Z"
   },
   {
    "duration": 158,
    "start_time": "2023-07-30T08:13:47.768Z"
   },
   {
    "duration": 159,
    "start_time": "2023-07-30T08:16:33.381Z"
   },
   {
    "duration": 159,
    "start_time": "2023-07-30T08:17:28.770Z"
   },
   {
    "duration": 171,
    "start_time": "2023-07-30T08:18:14.396Z"
   },
   {
    "duration": 340,
    "start_time": "2023-07-30T08:36:05.630Z"
   },
   {
    "duration": 14,
    "start_time": "2023-07-30T08:36:21.369Z"
   },
   {
    "duration": 8,
    "start_time": "2023-07-30T08:36:33.381Z"
   },
   {
    "duration": 10,
    "start_time": "2023-07-30T08:36:44.722Z"
   },
   {
    "duration": 30,
    "start_time": "2023-07-30T08:36:50.269Z"
   },
   {
    "duration": 15,
    "start_time": "2023-07-30T08:36:59.277Z"
   },
   {
    "duration": 14,
    "start_time": "2023-07-30T08:37:08.769Z"
   },
   {
    "duration": 9,
    "start_time": "2023-07-30T08:37:20.029Z"
   },
   {
    "duration": 1076,
    "start_time": "2023-07-30T08:46:18.381Z"
   },
   {
    "duration": 1390,
    "start_time": "2023-07-30T08:46:45.296Z"
   },
   {
    "duration": 1346,
    "start_time": "2023-07-30T08:47:10.629Z"
   },
   {
    "duration": 1295,
    "start_time": "2023-07-30T08:47:44.196Z"
   },
   {
    "duration": 1215,
    "start_time": "2023-07-30T08:48:08.068Z"
   },
   {
    "duration": 19,
    "start_time": "2023-07-30T08:49:09.356Z"
   },
   {
    "duration": 26,
    "start_time": "2023-07-30T08:49:21.656Z"
   },
   {
    "duration": 1645,
    "start_time": "2023-07-30T08:49:38.427Z"
   },
   {
    "duration": 15,
    "start_time": "2023-07-30T08:50:12.583Z"
   },
   {
    "duration": 3,
    "start_time": "2023-07-30T08:50:51.484Z"
   },
   {
    "duration": 1378,
    "start_time": "2023-07-30T08:50:51.491Z"
   },
   {
    "duration": 62,
    "start_time": "2023-07-30T08:50:52.871Z"
   },
   {
    "duration": 14,
    "start_time": "2023-07-30T08:50:52.935Z"
   },
   {
    "duration": 25,
    "start_time": "2023-07-30T08:50:52.952Z"
   },
   {
    "duration": 22,
    "start_time": "2023-07-30T08:50:52.979Z"
   },
   {
    "duration": 15,
    "start_time": "2023-07-30T08:50:53.003Z"
   },
   {
    "duration": 6,
    "start_time": "2023-07-30T08:50:53.020Z"
   },
   {
    "duration": 24,
    "start_time": "2023-07-30T08:50:53.028Z"
   },
   {
    "duration": 55,
    "start_time": "2023-07-30T08:50:53.053Z"
   },
   {
    "duration": 8,
    "start_time": "2023-07-30T08:50:53.111Z"
   },
   {
    "duration": 10,
    "start_time": "2023-07-30T08:50:53.121Z"
   },
   {
    "duration": 20,
    "start_time": "2023-07-30T08:50:53.132Z"
   },
   {
    "duration": 15,
    "start_time": "2023-07-30T08:50:53.153Z"
   },
   {
    "duration": 26,
    "start_time": "2023-07-30T08:50:53.170Z"
   },
   {
    "duration": 18,
    "start_time": "2023-07-30T08:50:53.198Z"
   },
   {
    "duration": 97,
    "start_time": "2023-07-30T08:50:53.217Z"
   },
   {
    "duration": 162,
    "start_time": "2023-07-30T08:50:53.316Z"
   },
   {
    "duration": 10,
    "start_time": "2023-07-30T08:50:53.479Z"
   },
   {
    "duration": 27,
    "start_time": "2023-07-30T08:50:53.490Z"
   },
   {
    "duration": 613,
    "start_time": "2023-07-30T08:50:53.519Z"
   },
   {
    "duration": 7,
    "start_time": "2023-07-30T08:50:54.133Z"
   },
   {
    "duration": 11,
    "start_time": "2023-07-30T08:50:54.141Z"
   },
   {
    "duration": 272,
    "start_time": "2023-07-30T08:50:54.153Z"
   },
   {
    "duration": 14,
    "start_time": "2023-07-30T08:50:54.427Z"
   },
   {
    "duration": 260,
    "start_time": "2023-07-30T08:50:54.442Z"
   },
   {
    "duration": 14,
    "start_time": "2023-07-30T08:50:54.704Z"
   },
   {
    "duration": 240,
    "start_time": "2023-07-30T08:50:54.719Z"
   },
   {
    "duration": 4,
    "start_time": "2023-07-30T08:50:54.962Z"
   },
   {
    "duration": 30,
    "start_time": "2023-07-30T08:50:54.967Z"
   },
   {
    "duration": 66,
    "start_time": "2023-07-30T08:50:54.998Z"
   },
   {
    "duration": 11,
    "start_time": "2023-07-30T08:50:55.066Z"
   },
   {
    "duration": 266,
    "start_time": "2023-07-30T08:50:55.079Z"
   },
   {
    "duration": 15,
    "start_time": "2023-07-30T08:50:55.347Z"
   },
   {
    "duration": 236,
    "start_time": "2023-07-30T08:50:55.364Z"
   },
   {
    "duration": 137,
    "start_time": "2023-07-30T08:50:55.601Z"
   },
   {
    "duration": 9830,
    "start_time": "2023-07-30T08:50:55.739Z"
   },
   {
    "duration": 37,
    "start_time": "2023-07-30T08:51:05.571Z"
   },
   {
    "duration": 38,
    "start_time": "2023-07-30T08:51:05.609Z"
   },
   {
    "duration": 178,
    "start_time": "2023-07-30T08:51:05.649Z"
   },
   {
    "duration": 74,
    "start_time": "2023-07-30T08:51:05.829Z"
   },
   {
    "duration": 34,
    "start_time": "2023-07-30T08:51:05.905Z"
   },
   {
    "duration": 13,
    "start_time": "2023-07-30T08:51:05.941Z"
   },
   {
    "duration": 53,
    "start_time": "2023-07-30T08:51:05.956Z"
   },
   {
    "duration": 52,
    "start_time": "2023-07-30T08:51:06.010Z"
   },
   {
    "duration": 41,
    "start_time": "2023-07-30T08:51:06.064Z"
   },
   {
    "duration": 42,
    "start_time": "2023-07-30T08:51:06.107Z"
   },
   {
    "duration": 141,
    "start_time": "2023-07-30T08:51:06.151Z"
   },
   {
    "duration": 173,
    "start_time": "2023-07-30T08:51:06.294Z"
   },
   {
    "duration": 5,
    "start_time": "2023-07-30T08:51:06.468Z"
   },
   {
    "duration": 1143,
    "start_time": "2023-07-30T08:51:06.474Z"
   },
   {
    "duration": 2662,
    "start_time": "2023-07-30T08:51:53.056Z"
   },
   {
    "duration": 2571,
    "start_time": "2023-07-30T08:52:01.717Z"
   },
   {
    "duration": 39,
    "start_time": "2023-07-30T08:53:16.278Z"
   },
   {
    "duration": 9,
    "start_time": "2023-07-30T08:53:39.110Z"
   },
   {
    "duration": 3,
    "start_time": "2023-07-30T08:53:55.693Z"
   },
   {
    "duration": 1408,
    "start_time": "2023-07-30T08:53:55.698Z"
   },
   {
    "duration": 61,
    "start_time": "2023-07-30T08:53:57.108Z"
   },
   {
    "duration": 12,
    "start_time": "2023-07-30T08:53:57.171Z"
   },
   {
    "duration": 31,
    "start_time": "2023-07-30T08:53:57.185Z"
   },
   {
    "duration": 7,
    "start_time": "2023-07-30T08:53:57.217Z"
   },
   {
    "duration": 16,
    "start_time": "2023-07-30T08:53:57.225Z"
   },
   {
    "duration": 6,
    "start_time": "2023-07-30T08:53:57.243Z"
   },
   {
    "duration": 18,
    "start_time": "2023-07-30T08:53:57.250Z"
   },
   {
    "duration": 40,
    "start_time": "2023-07-30T08:53:57.270Z"
   },
   {
    "duration": 8,
    "start_time": "2023-07-30T08:53:57.313Z"
   },
   {
    "duration": 7,
    "start_time": "2023-07-30T08:53:57.322Z"
   },
   {
    "duration": 13,
    "start_time": "2023-07-30T08:53:57.330Z"
   },
   {
    "duration": 14,
    "start_time": "2023-07-30T08:53:57.344Z"
   },
   {
    "duration": 4,
    "start_time": "2023-07-30T08:53:57.360Z"
   },
   {
    "duration": 10,
    "start_time": "2023-07-30T08:53:57.365Z"
   },
   {
    "duration": 92,
    "start_time": "2023-07-30T08:53:57.377Z"
   },
   {
    "duration": 155,
    "start_time": "2023-07-30T08:53:57.471Z"
   },
   {
    "duration": 7,
    "start_time": "2023-07-30T08:53:57.628Z"
   },
   {
    "duration": 10,
    "start_time": "2023-07-30T08:53:57.636Z"
   },
   {
    "duration": 369,
    "start_time": "2023-07-30T08:53:57.647Z"
   },
   {
    "duration": 6,
    "start_time": "2023-07-30T08:53:58.017Z"
   },
   {
    "duration": 10,
    "start_time": "2023-07-30T08:53:58.025Z"
   },
   {
    "duration": 262,
    "start_time": "2023-07-30T08:53:58.036Z"
   },
   {
    "duration": 14,
    "start_time": "2023-07-30T08:53:58.300Z"
   },
   {
    "duration": 243,
    "start_time": "2023-07-30T08:53:58.315Z"
   },
   {
    "duration": 14,
    "start_time": "2023-07-30T08:53:58.559Z"
   },
   {
    "duration": 246,
    "start_time": "2023-07-30T08:53:58.574Z"
   },
   {
    "duration": 4,
    "start_time": "2023-07-30T08:53:58.823Z"
   },
   {
    "duration": 27,
    "start_time": "2023-07-30T08:53:58.828Z"
   },
   {
    "duration": 75,
    "start_time": "2023-07-30T08:53:58.856Z"
   },
   {
    "duration": 13,
    "start_time": "2023-07-30T08:53:58.932Z"
   },
   {
    "duration": 275,
    "start_time": "2023-07-30T08:53:58.946Z"
   },
   {
    "duration": 11,
    "start_time": "2023-07-30T08:53:59.222Z"
   },
   {
    "duration": 105,
    "start_time": "2023-07-30T08:53:59.234Z"
   },
   {
    "duration": 90,
    "start_time": "2023-07-30T08:53:59.340Z"
   },
   {
    "duration": 8440,
    "start_time": "2023-07-30T08:53:59.432Z"
   },
   {
    "duration": 40,
    "start_time": "2023-07-30T08:54:07.874Z"
   },
   {
    "duration": 13,
    "start_time": "2023-07-30T08:54:07.915Z"
   },
   {
    "duration": 186,
    "start_time": "2023-07-30T08:54:07.930Z"
   },
   {
    "duration": 23,
    "start_time": "2023-07-30T08:54:08.118Z"
   },
   {
    "duration": 65,
    "start_time": "2023-07-30T08:54:08.143Z"
   },
   {
    "duration": 16,
    "start_time": "2023-07-30T08:54:08.210Z"
   },
   {
    "duration": 14,
    "start_time": "2023-07-30T08:54:08.227Z"
   },
   {
    "duration": 19,
    "start_time": "2023-07-30T08:54:08.243Z"
   },
   {
    "duration": 23,
    "start_time": "2023-07-30T08:54:08.263Z"
   },
   {
    "duration": 5,
    "start_time": "2023-07-30T08:54:08.288Z"
   },
   {
    "duration": 142,
    "start_time": "2023-07-30T08:54:08.295Z"
   },
   {
    "duration": 177,
    "start_time": "2023-07-30T08:54:08.438Z"
   },
   {
    "duration": 14,
    "start_time": "2023-07-30T08:54:08.616Z"
   },
   {
    "duration": 8,
    "start_time": "2023-07-30T08:54:08.631Z"
   },
   {
    "duration": 1072,
    "start_time": "2023-07-30T08:54:08.640Z"
   },
   {
    "duration": 179,
    "start_time": "2023-07-30T08:54:56.364Z"
   },
   {
    "duration": 3,
    "start_time": "2023-07-30T08:55:04.816Z"
   },
   {
    "duration": 1476,
    "start_time": "2023-07-30T08:55:04.821Z"
   },
   {
    "duration": 63,
    "start_time": "2023-07-30T08:55:06.299Z"
   },
   {
    "duration": 14,
    "start_time": "2023-07-30T08:55:06.364Z"
   },
   {
    "duration": 35,
    "start_time": "2023-07-30T08:55:06.380Z"
   },
   {
    "duration": 9,
    "start_time": "2023-07-30T08:55:06.417Z"
   },
   {
    "duration": 19,
    "start_time": "2023-07-30T08:55:06.427Z"
   },
   {
    "duration": 16,
    "start_time": "2023-07-30T08:55:06.448Z"
   },
   {
    "duration": 6,
    "start_time": "2023-07-30T08:55:06.466Z"
   },
   {
    "duration": 43,
    "start_time": "2023-07-30T08:55:06.474Z"
   },
   {
    "duration": 8,
    "start_time": "2023-07-30T08:55:06.520Z"
   },
   {
    "duration": 29,
    "start_time": "2023-07-30T08:55:06.529Z"
   },
   {
    "duration": 18,
    "start_time": "2023-07-30T08:55:06.560Z"
   },
   {
    "duration": 18,
    "start_time": "2023-07-30T08:55:06.580Z"
   },
   {
    "duration": 11,
    "start_time": "2023-07-30T08:55:06.600Z"
   },
   {
    "duration": 4,
    "start_time": "2023-07-30T08:55:06.613Z"
   },
   {
    "duration": 80,
    "start_time": "2023-07-30T08:55:06.619Z"
   },
   {
    "duration": 144,
    "start_time": "2023-07-30T08:55:06.701Z"
   },
   {
    "duration": 7,
    "start_time": "2023-07-30T08:55:06.847Z"
   },
   {
    "duration": 14,
    "start_time": "2023-07-30T08:55:06.855Z"
   },
   {
    "duration": 396,
    "start_time": "2023-07-30T08:55:06.870Z"
   },
   {
    "duration": 7,
    "start_time": "2023-07-30T08:55:07.267Z"
   },
   {
    "duration": 13,
    "start_time": "2023-07-30T08:55:07.275Z"
   },
   {
    "duration": 255,
    "start_time": "2023-07-30T08:55:07.299Z"
   },
   {
    "duration": 15,
    "start_time": "2023-07-30T08:55:07.555Z"
   },
   {
    "duration": 244,
    "start_time": "2023-07-30T08:55:07.572Z"
   },
   {
    "duration": 14,
    "start_time": "2023-07-30T08:55:07.818Z"
   },
   {
    "duration": 247,
    "start_time": "2023-07-30T08:55:07.833Z"
   },
   {
    "duration": 4,
    "start_time": "2023-07-30T08:55:08.083Z"
   },
   {
    "duration": 23,
    "start_time": "2023-07-30T08:55:08.099Z"
   },
   {
    "duration": 80,
    "start_time": "2023-07-30T08:55:08.124Z"
   },
   {
    "duration": 13,
    "start_time": "2023-07-30T08:55:08.206Z"
   },
   {
    "duration": 267,
    "start_time": "2023-07-30T08:55:08.220Z"
   },
   {
    "duration": 17,
    "start_time": "2023-07-30T08:55:08.489Z"
   },
   {
    "duration": 111,
    "start_time": "2023-07-30T08:55:08.508Z"
   },
   {
    "duration": 90,
    "start_time": "2023-07-30T08:55:08.621Z"
   },
   {
    "duration": 9180,
    "start_time": "2023-07-30T08:55:08.712Z"
   },
   {
    "duration": 20,
    "start_time": "2023-07-30T08:55:17.893Z"
   },
   {
    "duration": 13,
    "start_time": "2023-07-30T08:55:17.915Z"
   },
   {
    "duration": 179,
    "start_time": "2023-07-30T08:55:17.930Z"
   },
   {
    "duration": 17,
    "start_time": "2023-07-30T08:55:18.110Z"
   },
   {
    "duration": 35,
    "start_time": "2023-07-30T08:55:18.128Z"
   },
   {
    "duration": 43,
    "start_time": "2023-07-30T08:55:18.164Z"
   },
   {
    "duration": 20,
    "start_time": "2023-07-30T08:55:18.208Z"
   },
   {
    "duration": 16,
    "start_time": "2023-07-30T08:55:18.230Z"
   },
   {
    "duration": 11,
    "start_time": "2023-07-30T08:55:18.247Z"
   },
   {
    "duration": 15,
    "start_time": "2023-07-30T08:55:18.259Z"
   },
   {
    "duration": 112,
    "start_time": "2023-07-30T08:55:18.275Z"
   },
   {
    "duration": 151,
    "start_time": "2023-07-30T08:55:18.389Z"
   },
   {
    "duration": 6,
    "start_time": "2023-07-30T08:55:18.541Z"
   },
   {
    "duration": 1064,
    "start_time": "2023-07-30T08:55:18.548Z"
   },
   {
    "duration": 163,
    "start_time": "2023-07-30T08:57:06.884Z"
   },
   {
    "duration": 12,
    "start_time": "2023-07-30T08:57:58.815Z"
   },
   {
    "duration": 20,
    "start_time": "2023-07-30T09:01:17.722Z"
   },
   {
    "duration": 24,
    "start_time": "2023-07-30T09:01:32.451Z"
   },
   {
    "duration": 1177,
    "start_time": "2023-07-30T09:01:49.764Z"
   },
   {
    "duration": 10,
    "start_time": "2023-07-30T09:14:33.320Z"
   },
   {
    "duration": 125,
    "start_time": "2023-07-30T09:15:55.504Z"
   },
   {
    "duration": 14,
    "start_time": "2023-07-30T09:19:07.395Z"
   },
   {
    "duration": 5,
    "start_time": "2023-07-30T09:19:20.812Z"
   },
   {
    "duration": 4,
    "start_time": "2023-07-30T09:19:31.004Z"
   },
   {
    "duration": 5,
    "start_time": "2023-07-30T09:19:41.712Z"
   },
   {
    "duration": 72,
    "start_time": "2023-07-30T09:20:33.099Z"
   },
   {
    "duration": 28,
    "start_time": "2023-07-30T09:20:39.851Z"
   },
   {
    "duration": 5,
    "start_time": "2023-07-30T09:21:04.759Z"
   },
   {
    "duration": 30,
    "start_time": "2023-07-30T09:21:21.917Z"
   },
   {
    "duration": 6,
    "start_time": "2023-07-30T09:21:54.288Z"
   },
   {
    "duration": 7,
    "start_time": "2023-07-30T09:22:16.167Z"
   },
   {
    "duration": 1299,
    "start_time": "2023-07-30T09:24:31.780Z"
   },
   {
    "duration": 1240,
    "start_time": "2023-07-30T09:26:02.298Z"
   },
   {
    "duration": 3,
    "start_time": "2023-07-30T09:26:19.703Z"
   },
   {
    "duration": 1363,
    "start_time": "2023-07-30T09:26:19.708Z"
   },
   {
    "duration": 60,
    "start_time": "2023-07-30T09:26:21.073Z"
   },
   {
    "duration": 12,
    "start_time": "2023-07-30T09:26:21.135Z"
   },
   {
    "duration": 22,
    "start_time": "2023-07-30T09:26:21.149Z"
   },
   {
    "duration": 8,
    "start_time": "2023-07-30T09:26:21.172Z"
   },
   {
    "duration": 31,
    "start_time": "2023-07-30T09:26:21.181Z"
   },
   {
    "duration": 15,
    "start_time": "2023-07-30T09:26:21.213Z"
   },
   {
    "duration": 12,
    "start_time": "2023-07-30T09:26:21.230Z"
   },
   {
    "duration": 42,
    "start_time": "2023-07-30T09:26:21.243Z"
   },
   {
    "duration": 7,
    "start_time": "2023-07-30T09:26:21.288Z"
   },
   {
    "duration": 13,
    "start_time": "2023-07-30T09:26:21.299Z"
   },
   {
    "duration": 8,
    "start_time": "2023-07-30T09:26:21.313Z"
   },
   {
    "duration": 13,
    "start_time": "2023-07-30T09:26:21.322Z"
   },
   {
    "duration": 7,
    "start_time": "2023-07-30T09:26:21.337Z"
   },
   {
    "duration": 6,
    "start_time": "2023-07-30T09:26:21.346Z"
   },
   {
    "duration": 85,
    "start_time": "2023-07-30T09:26:21.353Z"
   },
   {
    "duration": 153,
    "start_time": "2023-07-30T09:26:21.439Z"
   },
   {
    "duration": 8,
    "start_time": "2023-07-30T09:26:21.594Z"
   },
   {
    "duration": 15,
    "start_time": "2023-07-30T09:26:21.603Z"
   },
   {
    "duration": 385,
    "start_time": "2023-07-30T09:26:21.619Z"
   },
   {
    "duration": 7,
    "start_time": "2023-07-30T09:26:22.006Z"
   },
   {
    "duration": 10,
    "start_time": "2023-07-30T09:26:22.014Z"
   },
   {
    "duration": 251,
    "start_time": "2023-07-30T09:26:22.026Z"
   },
   {
    "duration": 20,
    "start_time": "2023-07-30T09:26:22.279Z"
   },
   {
    "duration": 236,
    "start_time": "2023-07-30T09:26:22.301Z"
   },
   {
    "duration": 14,
    "start_time": "2023-07-30T09:26:22.539Z"
   },
   {
    "duration": 246,
    "start_time": "2023-07-30T09:26:22.555Z"
   },
   {
    "duration": 4,
    "start_time": "2023-07-30T09:26:22.804Z"
   },
   {
    "duration": 21,
    "start_time": "2023-07-30T09:26:22.809Z"
   },
   {
    "duration": 80,
    "start_time": "2023-07-30T09:26:22.831Z"
   },
   {
    "duration": 13,
    "start_time": "2023-07-30T09:26:22.913Z"
   },
   {
    "duration": 262,
    "start_time": "2023-07-30T09:26:22.927Z"
   },
   {
    "duration": 13,
    "start_time": "2023-07-30T09:26:23.190Z"
   },
   {
    "duration": 112,
    "start_time": "2023-07-30T09:26:23.204Z"
   },
   {
    "duration": 88,
    "start_time": "2023-07-30T09:26:23.318Z"
   },
   {
    "duration": 8568,
    "start_time": "2023-07-30T09:26:23.408Z"
   },
   {
    "duration": 26,
    "start_time": "2023-07-30T09:26:31.979Z"
   },
   {
    "duration": 31,
    "start_time": "2023-07-30T09:26:32.007Z"
   },
   {
    "duration": 163,
    "start_time": "2023-07-30T09:26:32.040Z"
   },
   {
    "duration": 17,
    "start_time": "2023-07-30T09:26:32.205Z"
   },
   {
    "duration": 89,
    "start_time": "2023-07-30T09:26:32.224Z"
   },
   {
    "duration": 24,
    "start_time": "2023-07-30T09:26:32.314Z"
   },
   {
    "duration": 19,
    "start_time": "2023-07-30T09:26:32.339Z"
   },
   {
    "duration": 29,
    "start_time": "2023-07-30T09:26:32.359Z"
   },
   {
    "duration": 29,
    "start_time": "2023-07-30T09:26:32.390Z"
   },
   {
    "duration": 10,
    "start_time": "2023-07-30T09:26:32.420Z"
   },
   {
    "duration": 284,
    "start_time": "2023-07-30T09:26:32.432Z"
   },
   {
    "duration": 167,
    "start_time": "2023-07-30T09:26:32.717Z"
   },
   {
    "duration": 16,
    "start_time": "2023-07-30T09:26:32.885Z"
   },
   {
    "duration": 11863,
    "start_time": "2023-07-30T09:26:32.902Z"
   },
   {
    "duration": 8,
    "start_time": "2023-07-30T09:26:44.767Z"
   },
   {
    "duration": 12551,
    "start_time": "2023-07-30T09:31:35.076Z"
   },
   {
    "duration": 6,
    "start_time": "2023-07-30T09:32:51.080Z"
   },
   {
    "duration": 11913,
    "start_time": "2023-07-30T09:32:52.587Z"
   },
   {
    "duration": 3,
    "start_time": "2023-07-30T09:38:56.774Z"
   },
   {
    "duration": 1374,
    "start_time": "2023-07-30T09:38:56.779Z"
   },
   {
    "duration": 65,
    "start_time": "2023-07-30T09:38:58.155Z"
   },
   {
    "duration": 12,
    "start_time": "2023-07-30T09:38:58.222Z"
   },
   {
    "duration": 31,
    "start_time": "2023-07-30T09:38:58.235Z"
   },
   {
    "duration": 17,
    "start_time": "2023-07-30T09:38:58.267Z"
   },
   {
    "duration": 22,
    "start_time": "2023-07-30T09:38:58.286Z"
   },
   {
    "duration": 7,
    "start_time": "2023-07-30T09:38:58.309Z"
   },
   {
    "duration": 16,
    "start_time": "2023-07-30T09:38:58.318Z"
   },
   {
    "duration": 41,
    "start_time": "2023-07-30T09:38:58.335Z"
   },
   {
    "duration": 8,
    "start_time": "2023-07-30T09:38:58.377Z"
   },
   {
    "duration": 13,
    "start_time": "2023-07-30T09:38:58.386Z"
   },
   {
    "duration": 7,
    "start_time": "2023-07-30T09:38:58.400Z"
   },
   {
    "duration": 31,
    "start_time": "2023-07-30T09:38:58.408Z"
   },
   {
    "duration": 6,
    "start_time": "2023-07-30T09:38:58.440Z"
   },
   {
    "duration": 11,
    "start_time": "2023-07-30T09:38:58.447Z"
   },
   {
    "duration": 84,
    "start_time": "2023-07-30T09:38:58.459Z"
   },
   {
    "duration": 150,
    "start_time": "2023-07-30T09:38:58.544Z"
   },
   {
    "duration": 9,
    "start_time": "2023-07-30T09:38:58.696Z"
   },
   {
    "duration": 20,
    "start_time": "2023-07-30T09:38:58.706Z"
   },
   {
    "duration": 376,
    "start_time": "2023-07-30T09:38:58.728Z"
   },
   {
    "duration": 7,
    "start_time": "2023-07-30T09:38:59.105Z"
   },
   {
    "duration": 32,
    "start_time": "2023-07-30T09:38:59.114Z"
   },
   {
    "duration": 252,
    "start_time": "2023-07-30T09:38:59.149Z"
   },
   {
    "duration": 14,
    "start_time": "2023-07-30T09:38:59.403Z"
   },
   {
    "duration": 239,
    "start_time": "2023-07-30T09:38:59.418Z"
   },
   {
    "duration": 15,
    "start_time": "2023-07-30T09:38:59.658Z"
   },
   {
    "duration": 239,
    "start_time": "2023-07-30T09:38:59.674Z"
   },
   {
    "duration": 3,
    "start_time": "2023-07-30T09:38:59.915Z"
   },
   {
    "duration": 23,
    "start_time": "2023-07-30T09:38:59.919Z"
   },
   {
    "duration": 76,
    "start_time": "2023-07-30T09:38:59.943Z"
   },
   {
    "duration": 12,
    "start_time": "2023-07-30T09:39:00.020Z"
   },
   {
    "duration": 267,
    "start_time": "2023-07-30T09:39:00.034Z"
   },
   {
    "duration": 12,
    "start_time": "2023-07-30T09:39:00.302Z"
   },
   {
    "duration": 125,
    "start_time": "2023-07-30T09:39:00.315Z"
   },
   {
    "duration": 88,
    "start_time": "2023-07-30T09:39:00.441Z"
   },
   {
    "duration": 8466,
    "start_time": "2023-07-30T09:39:00.530Z"
   },
   {
    "duration": 20,
    "start_time": "2023-07-30T09:39:08.998Z"
   },
   {
    "duration": 15,
    "start_time": "2023-07-30T09:39:09.020Z"
   },
   {
    "duration": 169,
    "start_time": "2023-07-30T09:39:09.037Z"
   },
   {
    "duration": 15,
    "start_time": "2023-07-30T09:39:09.207Z"
   },
   {
    "duration": 76,
    "start_time": "2023-07-30T09:39:09.224Z"
   },
   {
    "duration": 10,
    "start_time": "2023-07-30T09:39:09.302Z"
   },
   {
    "duration": 12,
    "start_time": "2023-07-30T09:39:09.313Z"
   },
   {
    "duration": 18,
    "start_time": "2023-07-30T09:39:09.327Z"
   },
   {
    "duration": 59,
    "start_time": "2023-07-30T09:39:09.346Z"
   },
   {
    "duration": 9,
    "start_time": "2023-07-30T09:39:09.407Z"
   },
   {
    "duration": 121,
    "start_time": "2023-07-30T09:39:09.418Z"
   },
   {
    "duration": 164,
    "start_time": "2023-07-30T09:39:09.540Z"
   },
   {
    "duration": 6,
    "start_time": "2023-07-30T09:39:09.705Z"
   },
   {
    "duration": 11924,
    "start_time": "2023-07-30T09:39:09.712Z"
   },
   {
    "duration": 7,
    "start_time": "2023-07-30T09:39:21.638Z"
   },
   {
    "duration": 11809,
    "start_time": "2023-07-30T09:42:25.407Z"
   },
   {
    "duration": 10740,
    "start_time": "2023-07-30T09:47:19.363Z"
   },
   {
    "duration": 13,
    "start_time": "2023-07-30T09:53:51.371Z"
   },
   {
    "duration": 171,
    "start_time": "2023-07-30T09:55:05.532Z"
   },
   {
    "duration": 12,
    "start_time": "2023-07-30T09:55:30.957Z"
   },
   {
    "duration": 12,
    "start_time": "2023-07-30T09:55:36.924Z"
   },
   {
    "duration": 12,
    "start_time": "2023-07-30T09:55:38.061Z"
   },
   {
    "duration": 1329,
    "start_time": "2023-07-30T09:55:42.785Z"
   },
   {
    "duration": 110,
    "start_time": "2023-07-30T09:55:50.306Z"
   },
   {
    "duration": 129,
    "start_time": "2023-07-30T09:57:32.110Z"
   },
   {
    "duration": 11546,
    "start_time": "2023-07-30T10:03:21.157Z"
   },
   {
    "duration": 2213,
    "start_time": "2023-07-30T10:04:15.009Z"
   },
   {
    "duration": 12,
    "start_time": "2023-07-30T10:09:13.652Z"
   },
   {
    "duration": 113,
    "start_time": "2023-07-30T10:09:15.394Z"
   },
   {
    "duration": 75,
    "start_time": "2023-07-30T10:24:44.177Z"
   },
   {
    "duration": 122,
    "start_time": "2023-07-30T10:25:57.685Z"
   },
   {
    "duration": 193,
    "start_time": "2023-07-30T10:26:39.052Z"
   },
   {
    "duration": 233,
    "start_time": "2023-07-30T10:32:05.853Z"
   },
   {
    "duration": 187,
    "start_time": "2023-07-30T10:37:03.343Z"
   },
   {
    "duration": 1335,
    "start_time": "2023-07-30T10:43:10.350Z"
   },
   {
    "duration": 64,
    "start_time": "2023-07-30T10:43:11.686Z"
   },
   {
    "duration": 13,
    "start_time": "2023-07-30T10:43:11.754Z"
   },
   {
    "duration": 24,
    "start_time": "2023-07-30T10:43:11.769Z"
   },
   {
    "duration": 9,
    "start_time": "2023-07-30T10:43:11.794Z"
   },
   {
    "duration": 14,
    "start_time": "2023-07-30T10:43:11.804Z"
   },
   {
    "duration": 10,
    "start_time": "2023-07-30T10:43:11.820Z"
   },
   {
    "duration": 11,
    "start_time": "2023-07-30T10:43:11.832Z"
   },
   {
    "duration": 63,
    "start_time": "2023-07-30T10:43:11.846Z"
   },
   {
    "duration": 11,
    "start_time": "2023-07-30T10:43:11.911Z"
   },
   {
    "duration": 8,
    "start_time": "2023-07-30T10:43:11.923Z"
   },
   {
    "duration": 9,
    "start_time": "2023-07-30T10:43:11.933Z"
   },
   {
    "duration": 15,
    "start_time": "2023-07-30T10:43:11.943Z"
   },
   {
    "duration": 7,
    "start_time": "2023-07-30T10:43:11.959Z"
   },
   {
    "duration": 38,
    "start_time": "2023-07-30T10:43:11.968Z"
   },
   {
    "duration": 80,
    "start_time": "2023-07-30T10:43:12.008Z"
   },
   {
    "duration": 161,
    "start_time": "2023-07-30T10:43:12.090Z"
   },
   {
    "duration": 10,
    "start_time": "2023-07-30T10:43:12.253Z"
   },
   {
    "duration": 36,
    "start_time": "2023-07-30T10:43:12.264Z"
   },
   {
    "duration": 397,
    "start_time": "2023-07-30T10:43:12.302Z"
   },
   {
    "duration": 7,
    "start_time": "2023-07-30T10:43:12.701Z"
   },
   {
    "duration": 11,
    "start_time": "2023-07-30T10:43:12.710Z"
   },
   {
    "duration": 277,
    "start_time": "2023-07-30T10:43:12.722Z"
   },
   {
    "duration": 15,
    "start_time": "2023-07-30T10:43:13.001Z"
   },
   {
    "duration": 264,
    "start_time": "2023-07-30T10:43:13.017Z"
   },
   {
    "duration": 21,
    "start_time": "2023-07-30T10:43:13.282Z"
   },
   {
    "duration": 259,
    "start_time": "2023-07-30T10:43:13.306Z"
   },
   {
    "duration": 5,
    "start_time": "2023-07-30T10:43:13.566Z"
   },
   {
    "duration": 31,
    "start_time": "2023-07-30T10:43:13.572Z"
   },
   {
    "duration": 69,
    "start_time": "2023-07-30T10:43:13.604Z"
   },
   {
    "duration": 34,
    "start_time": "2023-07-30T10:43:13.675Z"
   },
   {
    "duration": 268,
    "start_time": "2023-07-30T10:43:13.710Z"
   },
   {
    "duration": 20,
    "start_time": "2023-07-30T10:43:13.979Z"
   },
   {
    "duration": 115,
    "start_time": "2023-07-30T10:43:14.001Z"
   },
   {
    "duration": 94,
    "start_time": "2023-07-30T10:43:14.118Z"
   },
   {
    "duration": 8603,
    "start_time": "2023-07-30T10:43:14.213Z"
   },
   {
    "duration": 21,
    "start_time": "2023-07-30T10:43:22.818Z"
   },
   {
    "duration": 70,
    "start_time": "2023-07-30T10:43:22.841Z"
   },
   {
    "duration": 115,
    "start_time": "2023-07-30T10:43:22.913Z"
   },
   {
    "duration": 14,
    "start_time": "2023-07-30T10:43:23.030Z"
   },
   {
    "duration": 74,
    "start_time": "2023-07-30T10:43:23.046Z"
   },
   {
    "duration": 9,
    "start_time": "2023-07-30T10:43:23.121Z"
   },
   {
    "duration": 12,
    "start_time": "2023-07-30T10:43:23.131Z"
   },
   {
    "duration": 56,
    "start_time": "2023-07-30T10:43:23.145Z"
   },
   {
    "duration": 11,
    "start_time": "2023-07-30T10:43:23.202Z"
   },
   {
    "duration": 5,
    "start_time": "2023-07-30T10:43:23.215Z"
   },
   {
    "duration": 106,
    "start_time": "2023-07-30T10:43:23.222Z"
   },
   {
    "duration": 175,
    "start_time": "2023-07-30T10:43:23.329Z"
   },
   {
    "duration": 19,
    "start_time": "2023-07-30T10:43:23.506Z"
   },
   {
    "duration": 1951,
    "start_time": "2023-07-30T10:43:23.527Z"
   },
   {
    "duration": 20,
    "start_time": "2023-07-30T10:43:25.479Z"
   },
   {
    "duration": 15,
    "start_time": "2023-07-30T10:43:25.501Z"
   },
   {
    "duration": 134,
    "start_time": "2023-07-30T10:43:25.518Z"
   },
   {
    "duration": 2262,
    "start_time": "2023-07-30T16:31:17.194Z"
   },
   {
    "duration": 151,
    "start_time": "2023-07-30T16:31:19.459Z"
   },
   {
    "duration": 19,
    "start_time": "2023-07-30T16:31:19.611Z"
   },
   {
    "duration": 36,
    "start_time": "2023-07-30T16:31:19.632Z"
   },
   {
    "duration": 16,
    "start_time": "2023-07-30T16:31:19.671Z"
   },
   {
    "duration": 33,
    "start_time": "2023-07-30T16:31:19.689Z"
   },
   {
    "duration": 10,
    "start_time": "2023-07-30T16:31:19.724Z"
   },
   {
    "duration": 13,
    "start_time": "2023-07-30T16:31:19.736Z"
   },
   {
    "duration": 73,
    "start_time": "2023-07-30T16:31:19.751Z"
   },
   {
    "duration": 13,
    "start_time": "2023-07-30T16:31:19.827Z"
   },
   {
    "duration": 19,
    "start_time": "2023-07-30T16:31:19.842Z"
   },
   {
    "duration": 47,
    "start_time": "2023-07-30T16:31:19.863Z"
   },
   {
    "duration": 30,
    "start_time": "2023-07-30T16:31:19.912Z"
   },
   {
    "duration": 24,
    "start_time": "2023-07-30T16:31:19.944Z"
   },
   {
    "duration": 29,
    "start_time": "2023-07-30T16:31:19.971Z"
   },
   {
    "duration": 131,
    "start_time": "2023-07-30T16:31:20.002Z"
   },
   {
    "duration": 240,
    "start_time": "2023-07-30T16:31:20.135Z"
   },
   {
    "duration": 13,
    "start_time": "2023-07-30T16:31:20.377Z"
   },
   {
    "duration": 43,
    "start_time": "2023-07-30T16:31:20.392Z"
   },
   {
    "duration": 534,
    "start_time": "2023-07-30T16:31:20.437Z"
   },
   {
    "duration": 14,
    "start_time": "2023-07-30T16:31:20.974Z"
   },
   {
    "duration": 37,
    "start_time": "2023-07-30T16:31:20.991Z"
   },
   {
    "duration": 396,
    "start_time": "2023-07-30T16:31:21.031Z"
   },
   {
    "duration": 23,
    "start_time": "2023-07-30T16:31:21.429Z"
   },
   {
    "duration": 323,
    "start_time": "2023-07-30T16:31:21.457Z"
   },
   {
    "duration": 24,
    "start_time": "2023-07-30T16:31:21.784Z"
   },
   {
    "duration": 323,
    "start_time": "2023-07-30T16:31:21.811Z"
   },
   {
    "duration": 5,
    "start_time": "2023-07-30T16:31:22.136Z"
   },
   {
    "duration": 46,
    "start_time": "2023-07-30T16:31:22.142Z"
   },
   {
    "duration": 88,
    "start_time": "2023-07-30T16:31:22.190Z"
   },
   {
    "duration": 23,
    "start_time": "2023-07-30T16:31:22.280Z"
   },
   {
    "duration": 385,
    "start_time": "2023-07-30T16:31:22.305Z"
   },
   {
    "duration": 22,
    "start_time": "2023-07-30T16:31:22.695Z"
   },
   {
    "duration": 300,
    "start_time": "2023-07-30T16:31:22.719Z"
   },
   {
    "duration": 120,
    "start_time": "2023-07-30T16:31:23.022Z"
   },
   {
    "duration": 11836,
    "start_time": "2023-07-30T16:31:23.144Z"
   },
   {
    "duration": 39,
    "start_time": "2023-07-30T16:31:34.990Z"
   },
   {
    "duration": 54,
    "start_time": "2023-07-30T16:31:35.030Z"
   },
   {
    "duration": 348,
    "start_time": "2023-07-30T16:31:35.086Z"
   },
   {
    "duration": 20,
    "start_time": "2023-07-30T16:31:35.436Z"
   },
   {
    "duration": 78,
    "start_time": "2023-07-30T16:31:35.461Z"
   },
   {
    "duration": 32,
    "start_time": "2023-07-30T16:31:35.542Z"
   },
   {
    "duration": 48,
    "start_time": "2023-07-30T16:31:35.577Z"
   },
   {
    "duration": 40,
    "start_time": "2023-07-30T16:31:35.627Z"
   },
   {
    "duration": 43,
    "start_time": "2023-07-30T16:31:35.669Z"
   },
   {
    "duration": 11,
    "start_time": "2023-07-30T16:31:35.714Z"
   },
   {
    "duration": 143,
    "start_time": "2023-07-30T16:31:35.727Z"
   },
   {
    "duration": 241,
    "start_time": "2023-07-30T16:31:35.872Z"
   },
   {
    "duration": 8,
    "start_time": "2023-07-30T16:31:36.116Z"
   },
   {
    "duration": 2962,
    "start_time": "2023-07-30T16:31:36.126Z"
   },
   {
    "duration": 15,
    "start_time": "2023-07-30T16:31:39.090Z"
   },
   {
    "duration": 20,
    "start_time": "2023-07-30T16:31:39.107Z"
   },
   {
    "duration": 216,
    "start_time": "2023-07-30T16:31:39.129Z"
   },
   {
    "duration": 4,
    "start_time": "2023-07-30T16:43:15.142Z"
   },
   {
    "duration": 1739,
    "start_time": "2023-07-30T16:43:21.795Z"
   },
   {
    "duration": 128,
    "start_time": "2023-07-30T16:43:23.536Z"
   },
   {
    "duration": 25,
    "start_time": "2023-07-30T16:43:23.666Z"
   },
   {
    "duration": 46,
    "start_time": "2023-07-30T16:43:23.694Z"
   },
   {
    "duration": 8,
    "start_time": "2023-07-30T16:43:23.743Z"
   },
   {
    "duration": 23,
    "start_time": "2023-07-30T16:43:23.753Z"
   },
   {
    "duration": 43,
    "start_time": "2023-07-30T16:43:23.778Z"
   },
   {
    "duration": 22,
    "start_time": "2023-07-30T16:43:23.823Z"
   },
   {
    "duration": 65,
    "start_time": "2023-07-30T16:43:23.847Z"
   },
   {
    "duration": 9,
    "start_time": "2023-07-30T16:43:23.914Z"
   },
   {
    "duration": 13,
    "start_time": "2023-07-30T16:43:23.925Z"
   },
   {
    "duration": 8,
    "start_time": "2023-07-30T16:43:23.940Z"
   },
   {
    "duration": 33,
    "start_time": "2023-07-30T16:43:23.950Z"
   },
   {
    "duration": 22,
    "start_time": "2023-07-30T16:43:23.988Z"
   },
   {
    "duration": 7,
    "start_time": "2023-07-30T16:43:24.012Z"
   },
   {
    "duration": 108,
    "start_time": "2023-07-30T16:43:24.021Z"
   },
   {
    "duration": 208,
    "start_time": "2023-07-30T16:43:24.131Z"
   },
   {
    "duration": 9,
    "start_time": "2023-07-30T16:43:24.341Z"
   },
   {
    "duration": 11,
    "start_time": "2023-07-30T16:43:24.352Z"
   },
   {
    "duration": 546,
    "start_time": "2023-07-30T16:43:24.364Z"
   },
   {
    "duration": 9,
    "start_time": "2023-07-30T16:43:24.912Z"
   },
   {
    "duration": 24,
    "start_time": "2023-07-30T16:43:24.923Z"
   },
   {
    "duration": 353,
    "start_time": "2023-07-30T16:43:24.949Z"
   },
   {
    "duration": 17,
    "start_time": "2023-07-30T16:43:25.305Z"
   },
   {
    "duration": 358,
    "start_time": "2023-07-30T16:43:25.324Z"
   },
   {
    "duration": 26,
    "start_time": "2023-07-30T16:43:25.684Z"
   },
   {
    "duration": 326,
    "start_time": "2023-07-30T16:43:25.712Z"
   },
   {
    "duration": 5,
    "start_time": "2023-07-30T16:43:26.039Z"
   },
   {
    "duration": 51,
    "start_time": "2023-07-30T16:43:26.046Z"
   },
   {
    "duration": 109,
    "start_time": "2023-07-30T16:43:26.100Z"
   },
   {
    "duration": 15,
    "start_time": "2023-07-30T16:43:26.211Z"
   },
   {
    "duration": 415,
    "start_time": "2023-07-30T16:43:26.228Z"
   },
   {
    "duration": 27,
    "start_time": "2023-07-30T16:43:26.646Z"
   },
   {
    "duration": 159,
    "start_time": "2023-07-30T16:43:26.675Z"
   },
   {
    "duration": 117,
    "start_time": "2023-07-30T16:43:26.836Z"
   },
   {
    "duration": 11629,
    "start_time": "2023-07-30T16:43:26.955Z"
   },
   {
    "duration": 27,
    "start_time": "2023-07-30T16:43:38.586Z"
   },
   {
    "duration": 61,
    "start_time": "2023-07-30T16:43:38.615Z"
   },
   {
    "duration": 295,
    "start_time": "2023-07-30T16:43:38.679Z"
   },
   {
    "duration": 27,
    "start_time": "2023-07-30T16:43:38.976Z"
   },
   {
    "duration": 90,
    "start_time": "2023-07-30T16:43:39.008Z"
   },
   {
    "duration": 21,
    "start_time": "2023-07-30T16:43:39.100Z"
   },
   {
    "duration": 36,
    "start_time": "2023-07-30T16:43:39.123Z"
   },
   {
    "duration": 40,
    "start_time": "2023-07-30T16:43:39.161Z"
   },
   {
    "duration": 41,
    "start_time": "2023-07-30T16:43:39.204Z"
   },
   {
    "duration": 10,
    "start_time": "2023-07-30T16:43:39.247Z"
   },
   {
    "duration": 184,
    "start_time": "2023-07-30T16:43:39.259Z"
   },
   {
    "duration": 219,
    "start_time": "2023-07-30T16:43:39.445Z"
   },
   {
    "duration": 12,
    "start_time": "2023-07-30T16:43:39.666Z"
   },
   {
    "duration": 2804,
    "start_time": "2023-07-30T16:43:39.681Z"
   },
   {
    "duration": 10,
    "start_time": "2023-07-30T16:43:42.492Z"
   },
   {
    "duration": 38,
    "start_time": "2023-07-30T16:43:42.504Z"
   },
   {
    "duration": 164,
    "start_time": "2023-07-30T16:43:42.544Z"
   },
   {
    "duration": 34,
    "start_time": "2023-07-30T16:54:26.821Z"
   },
   {
    "duration": 29,
    "start_time": "2023-07-30T17:00:35.215Z"
   },
   {
    "duration": 26,
    "start_time": "2023-07-30T17:02:20.970Z"
   },
   {
    "duration": 36,
    "start_time": "2023-07-30T17:02:29.899Z"
   },
   {
    "duration": 15,
    "start_time": "2023-07-30T17:20:06.468Z"
   },
   {
    "duration": 2369,
    "start_time": "2023-07-30T17:20:27.748Z"
   },
   {
    "duration": 286,
    "start_time": "2023-07-30T17:20:30.127Z"
   },
   {
    "duration": 33,
    "start_time": "2023-07-30T17:20:30.421Z"
   },
   {
    "duration": 179,
    "start_time": "2023-07-30T17:20:30.457Z"
   },
   {
    "duration": 100,
    "start_time": "2023-07-30T17:20:30.648Z"
   },
   {
    "duration": 195,
    "start_time": "2023-07-30T17:20:30.755Z"
   },
   {
    "duration": 106,
    "start_time": "2023-07-30T17:20:30.954Z"
   },
   {
    "duration": 99,
    "start_time": "2023-07-30T17:20:31.063Z"
   },
   {
    "duration": 217,
    "start_time": "2023-07-30T17:20:31.165Z"
   },
   {
    "duration": 75,
    "start_time": "2023-07-30T17:20:31.386Z"
   },
   {
    "duration": 95,
    "start_time": "2023-07-30T17:20:31.464Z"
   },
   {
    "duration": 96,
    "start_time": "2023-07-30T17:20:31.561Z"
   },
   {
    "duration": 50,
    "start_time": "2023-07-30T17:20:31.659Z"
   },
   {
    "duration": 94,
    "start_time": "2023-07-30T17:20:31.712Z"
   },
   {
    "duration": 63,
    "start_time": "2023-07-30T17:20:31.808Z"
   },
   {
    "duration": 322,
    "start_time": "2023-07-30T17:20:31.875Z"
   },
   {
    "duration": 461,
    "start_time": "2023-07-30T17:20:32.199Z"
   },
   {
    "duration": 26,
    "start_time": "2023-07-30T17:20:32.662Z"
   },
   {
    "duration": 182,
    "start_time": "2023-07-30T17:20:32.691Z"
   },
   {
    "duration": 807,
    "start_time": "2023-07-30T17:20:32.876Z"
   },
   {
    "duration": 15,
    "start_time": "2023-07-30T17:20:33.685Z"
   },
   {
    "duration": 80,
    "start_time": "2023-07-30T17:20:33.705Z"
   },
   {
    "duration": 558,
    "start_time": "2023-07-30T17:20:33.787Z"
   },
   {
    "duration": 29,
    "start_time": "2023-07-30T17:20:34.355Z"
   },
   {
    "duration": 562,
    "start_time": "2023-07-30T17:20:34.389Z"
   },
   {
    "duration": 37,
    "start_time": "2023-07-30T17:20:34.953Z"
   },
   {
    "duration": 551,
    "start_time": "2023-07-30T17:20:34.997Z"
   },
   {
    "duration": 9,
    "start_time": "2023-07-30T17:20:35.557Z"
   },
   {
    "duration": 107,
    "start_time": "2023-07-30T17:20:35.572Z"
   },
   {
    "duration": 237,
    "start_time": "2023-07-30T17:20:35.686Z"
   },
   {
    "duration": 20,
    "start_time": "2023-07-30T17:20:35.926Z"
   },
   {
    "duration": 648,
    "start_time": "2023-07-30T17:20:35.949Z"
   },
   {
    "duration": 25,
    "start_time": "2023-07-30T17:20:36.603Z"
   },
   {
    "duration": 346,
    "start_time": "2023-07-30T17:20:36.634Z"
   },
   {
    "duration": 226,
    "start_time": "2023-07-30T17:20:36.987Z"
   },
   {
    "duration": 15451,
    "start_time": "2023-07-30T17:20:37.216Z"
   },
   {
    "duration": 35,
    "start_time": "2023-07-30T17:20:52.745Z"
   },
   {
    "duration": 205,
    "start_time": "2023-07-30T17:20:52.786Z"
   },
   {
    "duration": 244,
    "start_time": "2023-07-30T17:20:52.996Z"
   },
   {
    "duration": 59,
    "start_time": "2023-07-30T17:20:53.241Z"
   },
   {
    "duration": 93,
    "start_time": "2023-07-30T17:20:53.303Z"
   },
   {
    "duration": 79,
    "start_time": "2023-07-30T17:20:53.399Z"
   },
   {
    "duration": 115,
    "start_time": "2023-07-30T17:20:53.481Z"
   },
   {
    "duration": 89,
    "start_time": "2023-07-30T17:20:53.600Z"
   },
   {
    "duration": 61,
    "start_time": "2023-07-30T17:20:53.693Z"
   },
   {
    "duration": 9,
    "start_time": "2023-07-30T17:20:53.756Z"
   },
   {
    "duration": 298,
    "start_time": "2023-07-30T17:20:53.767Z"
   },
   {
    "duration": 364,
    "start_time": "2023-07-30T17:20:54.068Z"
   },
   {
    "duration": 14,
    "start_time": "2023-07-30T17:20:54.447Z"
   },
   {
    "duration": 3724,
    "start_time": "2023-07-30T17:20:54.463Z"
   },
   {
    "duration": 9,
    "start_time": "2023-07-30T17:20:58.189Z"
   },
   {
    "duration": 62,
    "start_time": "2023-07-30T17:20:58.200Z"
   },
   {
    "duration": 223,
    "start_time": "2023-07-30T17:20:58.265Z"
   },
   {
    "duration": 10,
    "start_time": "2023-07-30T17:20:58.490Z"
   },
   {
    "duration": 34,
    "start_time": "2023-07-30T17:22:11.797Z"
   },
   {
    "duration": 2377,
    "start_time": "2023-07-30T17:22:49.914Z"
   },
   {
    "duration": 2276,
    "start_time": "2023-07-30T17:23:17.802Z"
   },
   {
    "duration": 33,
    "start_time": "2023-07-30T17:23:36.868Z"
   },
   {
    "duration": 30,
    "start_time": "2023-07-30T17:24:26.194Z"
   },
   {
    "duration": 113,
    "start_time": "2023-07-30T17:26:32.782Z"
   },
   {
    "duration": 371,
    "start_time": "2023-07-30T17:26:44.240Z"
   },
   {
    "duration": 616,
    "start_time": "2023-07-30T17:27:32.822Z"
   },
   {
    "duration": 452,
    "start_time": "2023-07-30T17:28:37.899Z"
   },
   {
    "duration": 16,
    "start_time": "2023-07-30T17:51:14.938Z"
   },
   {
    "duration": 14,
    "start_time": "2023-07-30T17:51:37.492Z"
   },
   {
    "duration": 11,
    "start_time": "2023-07-30T17:51:59.133Z"
   },
   {
    "duration": 25,
    "start_time": "2023-07-30T17:53:01.362Z"
   },
   {
    "duration": 1772,
    "start_time": "2023-07-30T19:00:15.666Z"
   },
   {
    "duration": 89,
    "start_time": "2023-07-30T19:00:17.440Z"
   },
   {
    "duration": 16,
    "start_time": "2023-07-30T19:00:17.530Z"
   },
   {
    "duration": 56,
    "start_time": "2023-07-30T19:00:17.548Z"
   },
   {
    "duration": 34,
    "start_time": "2023-07-30T19:00:17.606Z"
   },
   {
    "duration": 96,
    "start_time": "2023-07-30T19:00:17.641Z"
   },
   {
    "duration": 24,
    "start_time": "2023-07-30T19:00:17.739Z"
   },
   {
    "duration": 60,
    "start_time": "2023-07-30T19:00:17.765Z"
   },
   {
    "duration": 67,
    "start_time": "2023-07-30T19:00:17.827Z"
   },
   {
    "duration": 19,
    "start_time": "2023-07-30T19:00:17.905Z"
   },
   {
    "duration": 18,
    "start_time": "2023-07-30T19:00:17.926Z"
   },
   {
    "duration": 17,
    "start_time": "2023-07-30T19:00:17.946Z"
   },
   {
    "duration": 72,
    "start_time": "2023-07-30T19:00:17.964Z"
   },
   {
    "duration": 6,
    "start_time": "2023-07-30T19:00:18.038Z"
   },
   {
    "duration": 9,
    "start_time": "2023-07-30T19:00:18.046Z"
   },
   {
    "duration": 164,
    "start_time": "2023-07-30T19:00:18.056Z"
   },
   {
    "duration": 181,
    "start_time": "2023-07-30T19:00:18.222Z"
   },
   {
    "duration": 11,
    "start_time": "2023-07-30T19:00:18.405Z"
   },
   {
    "duration": 59,
    "start_time": "2023-07-30T19:00:18.418Z"
   },
   {
    "duration": 558,
    "start_time": "2023-07-30T19:00:18.483Z"
   },
   {
    "duration": 8,
    "start_time": "2023-07-30T19:00:19.042Z"
   },
   {
    "duration": 29,
    "start_time": "2023-07-30T19:00:19.052Z"
   },
   {
    "duration": 404,
    "start_time": "2023-07-30T19:00:19.087Z"
   },
   {
    "duration": 29,
    "start_time": "2023-07-30T19:00:19.494Z"
   },
   {
    "duration": 365,
    "start_time": "2023-07-30T19:00:19.525Z"
   },
   {
    "duration": 28,
    "start_time": "2023-07-30T19:00:19.892Z"
   },
   {
    "duration": 332,
    "start_time": "2023-07-30T19:00:19.922Z"
   },
   {
    "duration": 5,
    "start_time": "2023-07-30T19:00:20.258Z"
   },
   {
    "duration": 71,
    "start_time": "2023-07-30T19:00:20.271Z"
   },
   {
    "duration": 100,
    "start_time": "2023-07-30T19:00:20.344Z"
   },
   {
    "duration": 33,
    "start_time": "2023-07-30T19:00:20.446Z"
   },
   {
    "duration": 400,
    "start_time": "2023-07-30T19:00:20.482Z"
   },
   {
    "duration": 25,
    "start_time": "2023-07-30T19:00:20.884Z"
   },
   {
    "duration": 217,
    "start_time": "2023-07-30T19:00:20.912Z"
   },
   {
    "duration": 134,
    "start_time": "2023-07-30T19:00:21.132Z"
   },
   {
    "duration": 13258,
    "start_time": "2023-07-30T19:00:21.270Z"
   },
   {
    "duration": 45,
    "start_time": "2023-07-30T19:00:34.530Z"
   },
   {
    "duration": 36,
    "start_time": "2023-07-30T19:00:34.577Z"
   },
   {
    "duration": 284,
    "start_time": "2023-07-30T19:00:34.619Z"
   },
   {
    "duration": 20,
    "start_time": "2023-07-30T19:00:34.911Z"
   },
   {
    "duration": 47,
    "start_time": "2023-07-30T19:00:34.974Z"
   },
   {
    "duration": 22,
    "start_time": "2023-07-30T19:00:35.023Z"
   },
   {
    "duration": 14,
    "start_time": "2023-07-30T19:00:35.047Z"
   },
   {
    "duration": 52,
    "start_time": "2023-07-30T19:00:35.063Z"
   },
   {
    "duration": 24,
    "start_time": "2023-07-30T19:00:35.117Z"
   },
   {
    "duration": 8,
    "start_time": "2023-07-30T19:00:35.143Z"
   },
   {
    "duration": 184,
    "start_time": "2023-07-30T19:00:35.153Z"
   },
   {
    "duration": 261,
    "start_time": "2023-07-30T19:00:35.339Z"
   },
   {
    "duration": 11,
    "start_time": "2023-07-30T19:00:35.602Z"
   },
   {
    "duration": 3140,
    "start_time": "2023-07-30T19:00:35.615Z"
   },
   {
    "duration": 20,
    "start_time": "2023-07-30T19:00:38.758Z"
   },
   {
    "duration": 137,
    "start_time": "2023-07-30T19:00:38.780Z"
   },
   {
    "duration": 218,
    "start_time": "2023-07-30T19:00:38.920Z"
   },
   {
    "duration": 462,
    "start_time": "2023-07-30T19:00:39.140Z"
   },
   {
    "duration": 17,
    "start_time": "2023-07-30T19:00:39.617Z"
   },
   {
    "duration": 1611,
    "start_time": "2023-07-31T07:28:38.688Z"
   },
   {
    "duration": 120,
    "start_time": "2023-07-31T07:28:40.301Z"
   },
   {
    "duration": 15,
    "start_time": "2023-07-31T07:28:40.423Z"
   },
   {
    "duration": 35,
    "start_time": "2023-07-31T07:28:40.440Z"
   },
   {
    "duration": 8,
    "start_time": "2023-07-31T07:28:40.476Z"
   },
   {
    "duration": 33,
    "start_time": "2023-07-31T07:28:40.486Z"
   },
   {
    "duration": 8,
    "start_time": "2023-07-31T07:28:40.520Z"
   },
   {
    "duration": 17,
    "start_time": "2023-07-31T07:28:40.530Z"
   },
   {
    "duration": 66,
    "start_time": "2023-07-31T07:28:40.548Z"
   },
   {
    "duration": 9,
    "start_time": "2023-07-31T07:28:40.616Z"
   },
   {
    "duration": 11,
    "start_time": "2023-07-31T07:28:40.626Z"
   },
   {
    "duration": 12,
    "start_time": "2023-07-31T07:28:40.638Z"
   },
   {
    "duration": 25,
    "start_time": "2023-07-31T07:28:40.651Z"
   },
   {
    "duration": 5,
    "start_time": "2023-07-31T07:28:40.678Z"
   },
   {
    "duration": 9,
    "start_time": "2023-07-31T07:28:40.685Z"
   },
   {
    "duration": 120,
    "start_time": "2023-07-31T07:28:40.696Z"
   },
   {
    "duration": 228,
    "start_time": "2023-07-31T07:28:40.819Z"
   },
   {
    "duration": 9,
    "start_time": "2023-07-31T07:28:41.048Z"
   },
   {
    "duration": 16,
    "start_time": "2023-07-31T07:28:41.059Z"
   },
   {
    "duration": 369,
    "start_time": "2023-07-31T07:28:41.076Z"
   },
   {
    "duration": 8,
    "start_time": "2023-07-31T07:28:41.446Z"
   },
   {
    "duration": 354,
    "start_time": "2023-07-31T07:28:41.455Z"
   },
   {
    "duration": 473,
    "start_time": "2023-07-31T07:28:41.810Z"
   },
   {
    "duration": 17,
    "start_time": "2023-07-31T07:28:42.285Z"
   },
   {
    "duration": 498,
    "start_time": "2023-07-31T07:28:42.305Z"
   },
   {
    "duration": 17,
    "start_time": "2023-07-31T07:28:42.805Z"
   },
   {
    "duration": 302,
    "start_time": "2023-07-31T07:28:42.824Z"
   },
   {
    "duration": 5,
    "start_time": "2023-07-31T07:28:43.131Z"
   },
   {
    "duration": 39,
    "start_time": "2023-07-31T07:28:43.138Z"
   },
   {
    "duration": 75,
    "start_time": "2023-07-31T07:28:43.179Z"
   },
   {
    "duration": 28,
    "start_time": "2023-07-31T07:28:43.255Z"
   },
   {
    "duration": 316,
    "start_time": "2023-07-31T07:28:43.284Z"
   },
   {
    "duration": 12,
    "start_time": "2023-07-31T07:28:43.602Z"
   },
   {
    "duration": 208,
    "start_time": "2023-07-31T07:28:43.616Z"
   },
   {
    "duration": 119,
    "start_time": "2023-07-31T07:28:43.826Z"
   },
   {
    "duration": 10784,
    "start_time": "2023-07-31T07:28:43.947Z"
   },
   {
    "duration": 46,
    "start_time": "2023-07-31T07:28:54.734Z"
   },
   {
    "duration": 34,
    "start_time": "2023-07-31T07:28:54.782Z"
   },
   {
    "duration": 167,
    "start_time": "2023-07-31T07:28:54.818Z"
   },
   {
    "duration": 16,
    "start_time": "2023-07-31T07:28:54.987Z"
   },
   {
    "duration": 75,
    "start_time": "2023-07-31T07:28:55.005Z"
   },
   {
    "duration": 11,
    "start_time": "2023-07-31T07:28:55.082Z"
   },
   {
    "duration": 24,
    "start_time": "2023-07-31T07:28:55.094Z"
   },
   {
    "duration": 17,
    "start_time": "2023-07-31T07:28:55.120Z"
   },
   {
    "duration": 40,
    "start_time": "2023-07-31T07:28:55.139Z"
   },
   {
    "duration": 14,
    "start_time": "2023-07-31T07:28:55.181Z"
   },
   {
    "duration": 130,
    "start_time": "2023-07-31T07:28:55.197Z"
   },
   {
    "duration": 218,
    "start_time": "2023-07-31T07:28:55.329Z"
   },
   {
    "duration": 8,
    "start_time": "2023-07-31T07:28:55.548Z"
   },
   {
    "duration": 2527,
    "start_time": "2023-07-31T07:28:55.570Z"
   },
   {
    "duration": 7,
    "start_time": "2023-07-31T07:28:58.099Z"
   },
   {
    "duration": 25,
    "start_time": "2023-07-31T07:28:58.108Z"
   },
   {
    "duration": 129,
    "start_time": "2023-07-31T07:28:58.171Z"
   },
   {
    "duration": 348,
    "start_time": "2023-07-31T07:28:58.302Z"
   },
   {
    "duration": 22,
    "start_time": "2023-07-31T07:28:58.651Z"
   },
   {
    "duration": 55,
    "start_time": "2023-07-31T17:30:13.520Z"
   },
   {
    "duration": 1747,
    "start_time": "2023-07-31T17:30:19.764Z"
   },
   {
    "duration": 114,
    "start_time": "2023-07-31T17:30:21.513Z"
   },
   {
    "duration": 15,
    "start_time": "2023-07-31T17:30:21.629Z"
   },
   {
    "duration": 33,
    "start_time": "2023-07-31T17:30:21.646Z"
   },
   {
    "duration": 10,
    "start_time": "2023-07-31T17:30:21.682Z"
   },
   {
    "duration": 19,
    "start_time": "2023-07-31T17:30:21.694Z"
   },
   {
    "duration": 7,
    "start_time": "2023-07-31T17:30:21.715Z"
   },
   {
    "duration": 37,
    "start_time": "2023-07-31T17:30:21.724Z"
   },
   {
    "duration": 50,
    "start_time": "2023-07-31T17:30:21.766Z"
   },
   {
    "duration": 8,
    "start_time": "2023-07-31T17:30:21.818Z"
   },
   {
    "duration": 9,
    "start_time": "2023-07-31T17:30:21.828Z"
   },
   {
    "duration": 9,
    "start_time": "2023-07-31T17:30:21.838Z"
   },
   {
    "duration": 30,
    "start_time": "2023-07-31T17:30:21.848Z"
   },
   {
    "duration": 30,
    "start_time": "2023-07-31T17:30:21.881Z"
   },
   {
    "duration": 22,
    "start_time": "2023-07-31T17:30:21.913Z"
   },
   {
    "duration": 10,
    "start_time": "2023-07-31T17:30:21.937Z"
   },
   {
    "duration": 104,
    "start_time": "2023-07-31T17:30:21.948Z"
   },
   {
    "duration": 176,
    "start_time": "2023-07-31T17:30:22.054Z"
   },
   {
    "duration": 11,
    "start_time": "2023-07-31T17:30:22.232Z"
   },
   {
    "duration": 21,
    "start_time": "2023-07-31T17:30:22.245Z"
   },
   {
    "duration": 503,
    "start_time": "2023-07-31T17:30:22.267Z"
   },
   {
    "duration": 10,
    "start_time": "2023-07-31T17:30:22.772Z"
   },
   {
    "duration": 27,
    "start_time": "2023-07-31T17:30:22.784Z"
   },
   {
    "duration": 302,
    "start_time": "2023-07-31T17:30:22.813Z"
   },
   {
    "duration": 19,
    "start_time": "2023-07-31T17:30:23.117Z"
   },
   {
    "duration": 314,
    "start_time": "2023-07-31T17:30:23.138Z"
   },
   {
    "duration": 20,
    "start_time": "2023-07-31T17:30:23.458Z"
   },
   {
    "duration": 298,
    "start_time": "2023-07-31T17:30:23.480Z"
   },
   {
    "duration": 4,
    "start_time": "2023-07-31T17:30:23.780Z"
   },
   {
    "duration": 23,
    "start_time": "2023-07-31T17:30:23.786Z"
   },
   {
    "duration": 95,
    "start_time": "2023-07-31T17:30:23.811Z"
   },
   {
    "duration": 14,
    "start_time": "2023-07-31T17:30:23.908Z"
   },
   {
    "duration": 308,
    "start_time": "2023-07-31T17:30:23.924Z"
   },
   {
    "duration": 31,
    "start_time": "2023-07-31T17:30:24.234Z"
   },
   {
    "duration": 292,
    "start_time": "2023-07-31T17:30:24.271Z"
   },
   {
    "duration": 104,
    "start_time": "2023-07-31T17:30:24.566Z"
   },
   {
    "duration": 10667,
    "start_time": "2023-07-31T17:30:24.672Z"
   },
   {
    "duration": 40,
    "start_time": "2023-07-31T17:30:35.342Z"
   },
   {
    "duration": 73,
    "start_time": "2023-07-31T17:30:35.384Z"
   },
   {
    "duration": 144,
    "start_time": "2023-07-31T17:30:35.460Z"
   },
   {
    "duration": 26,
    "start_time": "2023-07-31T17:30:35.651Z"
   },
   {
    "duration": 32,
    "start_time": "2023-07-31T17:30:35.678Z"
   },
   {
    "duration": 40,
    "start_time": "2023-07-31T17:30:35.712Z"
   },
   {
    "duration": 14,
    "start_time": "2023-07-31T17:30:35.755Z"
   },
   {
    "duration": 29,
    "start_time": "2023-07-31T17:30:35.771Z"
   },
   {
    "duration": 25,
    "start_time": "2023-07-31T17:30:35.802Z"
   },
   {
    "duration": 9,
    "start_time": "2023-07-31T17:30:35.829Z"
   },
   {
    "duration": 144,
    "start_time": "2023-07-31T17:30:35.840Z"
   },
   {
    "duration": 216,
    "start_time": "2023-07-31T17:30:35.985Z"
   },
   {
    "duration": 7,
    "start_time": "2023-07-31T17:30:36.203Z"
   },
   {
    "duration": 2558,
    "start_time": "2023-07-31T17:30:36.211Z"
   },
   {
    "duration": 7,
    "start_time": "2023-07-31T17:30:38.771Z"
   },
   {
    "duration": 22,
    "start_time": "2023-07-31T17:30:38.780Z"
   },
   {
    "duration": 158,
    "start_time": "2023-07-31T17:30:38.803Z"
   },
   {
    "duration": 353,
    "start_time": "2023-07-31T17:30:38.963Z"
   },
   {
    "duration": 15,
    "start_time": "2023-07-31T17:30:39.319Z"
   },
   {
    "duration": 7,
    "start_time": "2023-07-31T17:51:06.711Z"
   },
   {
    "duration": 183,
    "start_time": "2023-07-31T17:51:30.397Z"
   },
   {
    "duration": 7,
    "start_time": "2023-07-31T17:51:36.608Z"
   },
   {
    "duration": 6,
    "start_time": "2023-07-31T17:53:41.558Z"
   },
   {
    "duration": 1535,
    "start_time": "2023-07-31T18:04:05.048Z"
   },
   {
    "duration": 64,
    "start_time": "2023-07-31T18:04:06.585Z"
   },
   {
    "duration": 15,
    "start_time": "2023-07-31T18:04:06.651Z"
   },
   {
    "duration": 33,
    "start_time": "2023-07-31T18:04:06.668Z"
   },
   {
    "duration": 9,
    "start_time": "2023-07-31T18:04:06.702Z"
   },
   {
    "duration": 20,
    "start_time": "2023-07-31T18:04:06.712Z"
   },
   {
    "duration": 9,
    "start_time": "2023-07-31T18:04:06.752Z"
   },
   {
    "duration": 6,
    "start_time": "2023-07-31T18:04:06.763Z"
   },
   {
    "duration": 44,
    "start_time": "2023-07-31T18:04:06.771Z"
   },
   {
    "duration": 34,
    "start_time": "2023-07-31T18:04:06.819Z"
   },
   {
    "duration": 15,
    "start_time": "2023-07-31T18:04:06.855Z"
   },
   {
    "duration": 18,
    "start_time": "2023-07-31T18:04:06.871Z"
   },
   {
    "duration": 16,
    "start_time": "2023-07-31T18:04:06.890Z"
   },
   {
    "duration": 18,
    "start_time": "2023-07-31T18:04:06.908Z"
   },
   {
    "duration": 6,
    "start_time": "2023-07-31T18:04:06.927Z"
   },
   {
    "duration": 103,
    "start_time": "2023-07-31T18:04:06.934Z"
   },
   {
    "duration": 1489,
    "start_time": "2023-07-31T18:04:36.808Z"
   },
   {
    "duration": 74,
    "start_time": "2023-07-31T18:04:38.299Z"
   },
   {
    "duration": 17,
    "start_time": "2023-07-31T18:04:38.376Z"
   },
   {
    "duration": 34,
    "start_time": "2023-07-31T18:04:38.396Z"
   },
   {
    "duration": 27,
    "start_time": "2023-07-31T18:04:38.432Z"
   },
   {
    "duration": 27,
    "start_time": "2023-07-31T18:04:38.461Z"
   },
   {
    "duration": 9,
    "start_time": "2023-07-31T18:04:38.490Z"
   },
   {
    "duration": 13,
    "start_time": "2023-07-31T18:04:38.501Z"
   },
   {
    "duration": 61,
    "start_time": "2023-07-31T18:04:38.516Z"
   },
   {
    "duration": 9,
    "start_time": "2023-07-31T18:04:38.580Z"
   },
   {
    "duration": 11,
    "start_time": "2023-07-31T18:04:38.591Z"
   },
   {
    "duration": 10,
    "start_time": "2023-07-31T18:04:38.604Z"
   },
   {
    "duration": 36,
    "start_time": "2023-07-31T18:04:38.616Z"
   },
   {
    "duration": 7,
    "start_time": "2023-07-31T18:04:38.654Z"
   },
   {
    "duration": 4,
    "start_time": "2023-07-31T18:04:38.663Z"
   },
   {
    "duration": 95,
    "start_time": "2023-07-31T18:04:38.669Z"
   },
   {
    "duration": 1617,
    "start_time": "2023-07-31T18:05:09.749Z"
   },
   {
    "duration": 65,
    "start_time": "2023-07-31T18:05:11.369Z"
   },
   {
    "duration": 14,
    "start_time": "2023-07-31T18:05:11.436Z"
   },
   {
    "duration": 32,
    "start_time": "2023-07-31T18:05:11.452Z"
   },
   {
    "duration": 8,
    "start_time": "2023-07-31T18:05:11.487Z"
   },
   {
    "duration": 20,
    "start_time": "2023-07-31T18:05:11.497Z"
   },
   {
    "duration": 8,
    "start_time": "2023-07-31T18:05:11.519Z"
   },
   {
    "duration": 27,
    "start_time": "2023-07-31T18:05:11.528Z"
   },
   {
    "duration": 66,
    "start_time": "2023-07-31T18:05:11.557Z"
   },
   {
    "duration": 28,
    "start_time": "2023-07-31T18:05:11.625Z"
   },
   {
    "duration": 10,
    "start_time": "2023-07-31T18:05:11.655Z"
   },
   {
    "duration": 10,
    "start_time": "2023-07-31T18:05:11.667Z"
   },
   {
    "duration": 16,
    "start_time": "2023-07-31T18:05:11.679Z"
   },
   {
    "duration": 8,
    "start_time": "2023-07-31T18:05:11.699Z"
   },
   {
    "duration": 6,
    "start_time": "2023-07-31T18:05:11.709Z"
   },
   {
    "duration": 127,
    "start_time": "2023-07-31T18:05:11.717Z"
   },
   {
    "duration": 334,
    "start_time": "2023-07-31T18:05:11.846Z"
   },
   {
    "duration": 10,
    "start_time": "2023-07-31T18:05:12.182Z"
   },
   {
    "duration": 17,
    "start_time": "2023-07-31T18:05:12.194Z"
   },
   {
    "duration": 502,
    "start_time": "2023-07-31T18:05:12.212Z"
   },
   {
    "duration": 8,
    "start_time": "2023-07-31T18:05:12.716Z"
   },
   {
    "duration": 19,
    "start_time": "2023-07-31T18:05:12.726Z"
   },
   {
    "duration": 290,
    "start_time": "2023-07-31T18:05:12.752Z"
   },
   {
    "duration": 22,
    "start_time": "2023-07-31T18:05:13.043Z"
   },
   {
    "duration": 303,
    "start_time": "2023-07-31T18:05:13.067Z"
   },
   {
    "duration": 16,
    "start_time": "2023-07-31T18:05:13.372Z"
   },
   {
    "duration": 327,
    "start_time": "2023-07-31T18:05:13.390Z"
   },
   {
    "duration": 5,
    "start_time": "2023-07-31T18:05:13.719Z"
   },
   {
    "duration": 36,
    "start_time": "2023-07-31T18:05:13.726Z"
   },
   {
    "duration": 88,
    "start_time": "2023-07-31T18:05:13.764Z"
   },
   {
    "duration": 18,
    "start_time": "2023-07-31T18:05:13.854Z"
   },
   {
    "duration": 331,
    "start_time": "2023-07-31T18:05:13.874Z"
   },
   {
    "duration": 14,
    "start_time": "2023-07-31T18:05:14.207Z"
   },
   {
    "duration": 156,
    "start_time": "2023-07-31T18:05:14.223Z"
   },
   {
    "duration": 114,
    "start_time": "2023-07-31T18:05:14.381Z"
   },
   {
    "duration": 1545,
    "start_time": "2023-07-31T18:21:39.869Z"
   },
   {
    "duration": 115,
    "start_time": "2023-07-31T18:21:41.416Z"
   },
   {
    "duration": 15,
    "start_time": "2023-07-31T18:21:41.533Z"
   },
   {
    "duration": 33,
    "start_time": "2023-07-31T18:21:41.549Z"
   },
   {
    "duration": 8,
    "start_time": "2023-07-31T18:21:41.584Z"
   },
   {
    "duration": 19,
    "start_time": "2023-07-31T18:21:41.593Z"
   },
   {
    "duration": 8,
    "start_time": "2023-07-31T18:21:41.614Z"
   },
   {
    "duration": 12,
    "start_time": "2023-07-31T18:21:41.623Z"
   },
   {
    "duration": 45,
    "start_time": "2023-07-31T18:21:41.652Z"
   },
   {
    "duration": 9,
    "start_time": "2023-07-31T18:21:41.699Z"
   },
   {
    "duration": 11,
    "start_time": "2023-07-31T18:21:41.710Z"
   },
   {
    "duration": 10,
    "start_time": "2023-07-31T18:21:41.723Z"
   },
   {
    "duration": 25,
    "start_time": "2023-07-31T18:21:41.754Z"
   },
   {
    "duration": 5,
    "start_time": "2023-07-31T18:21:41.784Z"
   },
   {
    "duration": 9,
    "start_time": "2023-07-31T18:21:41.791Z"
   },
   {
    "duration": 96,
    "start_time": "2023-07-31T18:21:41.801Z"
   },
   {
    "duration": 248,
    "start_time": "2023-07-31T18:21:41.899Z"
   },
   {
    "duration": 13,
    "start_time": "2023-07-31T18:21:42.149Z"
   },
   {
    "duration": 19,
    "start_time": "2023-07-31T18:21:42.164Z"
   },
   {
    "duration": 480,
    "start_time": "2023-07-31T18:21:42.184Z"
   },
   {
    "duration": 8,
    "start_time": "2023-07-31T18:21:42.666Z"
   },
   {
    "duration": 8,
    "start_time": "2023-07-31T18:21:42.676Z"
   },
   {
    "duration": 302,
    "start_time": "2023-07-31T18:21:42.686Z"
   },
   {
    "duration": 17,
    "start_time": "2023-07-31T18:21:42.990Z"
   },
   {
    "duration": 321,
    "start_time": "2023-07-31T18:21:43.009Z"
   },
   {
    "duration": 38,
    "start_time": "2023-07-31T18:21:43.332Z"
   },
   {
    "duration": 301,
    "start_time": "2023-07-31T18:21:43.372Z"
   },
   {
    "duration": 5,
    "start_time": "2023-07-31T18:21:43.675Z"
   },
   {
    "duration": 30,
    "start_time": "2023-07-31T18:21:43.682Z"
   },
   {
    "duration": 93,
    "start_time": "2023-07-31T18:21:43.713Z"
   },
   {
    "duration": 14,
    "start_time": "2023-07-31T18:21:43.808Z"
   },
   {
    "duration": 342,
    "start_time": "2023-07-31T18:21:43.824Z"
   },
   {
    "duration": 14,
    "start_time": "2023-07-31T18:21:44.168Z"
   },
   {
    "duration": 294,
    "start_time": "2023-07-31T18:21:44.184Z"
   },
   {
    "duration": 99,
    "start_time": "2023-07-31T18:21:44.480Z"
   },
   {
    "duration": 10765,
    "start_time": "2023-07-31T18:21:44.581Z"
   },
   {
    "duration": 18,
    "start_time": "2023-07-31T18:21:55.351Z"
   },
   {
    "duration": 88,
    "start_time": "2023-07-31T18:21:55.371Z"
   },
   {
    "duration": 17,
    "start_time": "2023-07-31T18:21:55.461Z"
   },
   {
    "duration": 191,
    "start_time": "2023-07-31T18:21:55.480Z"
   },
   {
    "duration": 19,
    "start_time": "2023-07-31T18:21:55.675Z"
   },
   {
    "duration": 65,
    "start_time": "2023-07-31T18:21:55.696Z"
   },
   {
    "duration": 13,
    "start_time": "2023-07-31T18:21:55.766Z"
   },
   {
    "duration": 18,
    "start_time": "2023-07-31T18:21:55.781Z"
   },
   {
    "duration": 24,
    "start_time": "2023-07-31T18:21:55.800Z"
   },
   {
    "duration": 15,
    "start_time": "2023-07-31T18:21:55.827Z"
   },
   {
    "duration": 19,
    "start_time": "2023-07-31T18:21:55.844Z"
   },
   {
    "duration": 129,
    "start_time": "2023-07-31T18:21:55.867Z"
   },
   {
    "duration": 220,
    "start_time": "2023-07-31T18:21:55.997Z"
   },
   {
    "duration": 7,
    "start_time": "2023-07-31T18:21:56.218Z"
   },
   {
    "duration": 2565,
    "start_time": "2023-07-31T18:21:56.227Z"
   },
   {
    "duration": 6,
    "start_time": "2023-07-31T18:21:58.794Z"
   },
   {
    "duration": 54,
    "start_time": "2023-07-31T18:21:58.802Z"
   },
   {
    "duration": 61,
    "start_time": "2023-07-31T18:21:58.857Z"
   },
   {
    "duration": 179,
    "start_time": "2023-07-31T18:21:58.921Z"
   },
   {
    "duration": 381,
    "start_time": "2023-07-31T18:21:59.102Z"
   },
   {
    "duration": 17,
    "start_time": "2023-07-31T18:21:59.485Z"
   },
   {
    "duration": 16,
    "start_time": "2023-07-31T18:29:45.456Z"
   },
   {
    "duration": 46,
    "start_time": "2023-08-02T17:42:40.514Z"
   },
   {
    "duration": 1509,
    "start_time": "2023-08-02T17:43:26.218Z"
   },
   {
    "duration": 100,
    "start_time": "2023-08-02T17:43:27.729Z"
   },
   {
    "duration": 11,
    "start_time": "2023-08-02T17:43:27.830Z"
   },
   {
    "duration": 24,
    "start_time": "2023-08-02T17:43:27.843Z"
   },
   {
    "duration": 7,
    "start_time": "2023-08-02T17:43:27.868Z"
   },
   {
    "duration": 15,
    "start_time": "2023-08-02T17:43:27.876Z"
   },
   {
    "duration": 5,
    "start_time": "2023-08-02T17:43:27.892Z"
   },
   {
    "duration": 7,
    "start_time": "2023-08-02T17:43:27.899Z"
   },
   {
    "duration": 51,
    "start_time": "2023-08-02T17:43:27.907Z"
   },
   {
    "duration": 7,
    "start_time": "2023-08-02T17:43:27.960Z"
   },
   {
    "duration": 21,
    "start_time": "2023-08-02T17:43:27.969Z"
   },
   {
    "duration": 14,
    "start_time": "2023-08-02T17:43:27.991Z"
   },
   {
    "duration": 18,
    "start_time": "2023-08-02T17:43:28.006Z"
   },
   {
    "duration": 9,
    "start_time": "2023-08-02T17:43:28.025Z"
   },
   {
    "duration": 16,
    "start_time": "2023-08-02T17:43:28.035Z"
   },
   {
    "duration": 3,
    "start_time": "2023-08-02T17:43:28.053Z"
   },
   {
    "duration": 85,
    "start_time": "2023-08-02T17:43:28.057Z"
   },
   {
    "duration": 161,
    "start_time": "2023-08-02T17:43:28.144Z"
   },
   {
    "duration": 8,
    "start_time": "2023-08-02T17:43:28.307Z"
   },
   {
    "duration": 12,
    "start_time": "2023-08-02T17:43:28.316Z"
   },
   {
    "duration": 347,
    "start_time": "2023-08-02T17:43:28.330Z"
   },
   {
    "duration": 6,
    "start_time": "2023-08-02T17:43:28.679Z"
   },
   {
    "duration": 7,
    "start_time": "2023-08-02T17:43:28.687Z"
   },
   {
    "duration": 245,
    "start_time": "2023-08-02T17:43:28.695Z"
   },
   {
    "duration": 14,
    "start_time": "2023-08-02T17:43:28.941Z"
   },
   {
    "duration": 237,
    "start_time": "2023-08-02T17:43:28.956Z"
   },
   {
    "duration": 12,
    "start_time": "2023-08-02T17:43:29.195Z"
   },
   {
    "duration": 239,
    "start_time": "2023-08-02T17:43:29.219Z"
   },
   {
    "duration": 4,
    "start_time": "2023-08-02T17:43:29.459Z"
   },
   {
    "duration": 22,
    "start_time": "2023-08-02T17:43:29.464Z"
   },
   {
    "duration": 80,
    "start_time": "2023-08-02T17:43:29.487Z"
   },
   {
    "duration": 11,
    "start_time": "2023-08-02T17:43:29.569Z"
   },
   {
    "duration": 247,
    "start_time": "2023-08-02T17:43:29.582Z"
   },
   {
    "duration": 10,
    "start_time": "2023-08-02T17:43:29.831Z"
   },
   {
    "duration": 163,
    "start_time": "2023-08-02T17:43:29.843Z"
   },
   {
    "duration": 87,
    "start_time": "2023-08-02T17:43:30.008Z"
   },
   {
    "duration": 8800,
    "start_time": "2023-08-02T17:43:30.096Z"
   },
   {
    "duration": 6,
    "start_time": "2023-08-02T17:43:38.898Z"
   },
   {
    "duration": 21,
    "start_time": "2023-08-02T17:43:38.920Z"
   },
   {
    "duration": 12,
    "start_time": "2023-08-02T17:43:38.942Z"
   },
   {
    "duration": 164,
    "start_time": "2023-08-02T17:43:38.956Z"
   },
   {
    "duration": 15,
    "start_time": "2023-08-02T17:43:39.121Z"
   },
   {
    "duration": 21,
    "start_time": "2023-08-02T17:43:39.137Z"
   },
   {
    "duration": 9,
    "start_time": "2023-08-02T17:43:39.159Z"
   },
   {
    "duration": 55,
    "start_time": "2023-08-02T17:43:39.171Z"
   },
   {
    "duration": 12,
    "start_time": "2023-08-02T17:43:39.228Z"
   },
   {
    "duration": 21,
    "start_time": "2023-08-02T17:43:39.241Z"
   },
   {
    "duration": 13,
    "start_time": "2023-08-02T17:43:39.263Z"
   },
   {
    "duration": 119,
    "start_time": "2023-08-02T17:43:39.278Z"
   },
   {
    "duration": 182,
    "start_time": "2023-08-02T17:43:39.399Z"
   },
   {
    "duration": 6,
    "start_time": "2023-08-02T17:43:39.583Z"
   },
   {
    "duration": 2055,
    "start_time": "2023-08-02T17:43:39.591Z"
   },
   {
    "duration": 5,
    "start_time": "2023-08-02T17:43:41.648Z"
   },
   {
    "duration": 18,
    "start_time": "2023-08-02T17:43:41.655Z"
   },
   {
    "duration": 59,
    "start_time": "2023-08-02T17:43:41.675Z"
   },
   {
    "duration": 128,
    "start_time": "2023-08-02T17:43:41.736Z"
   },
   {
    "duration": 315,
    "start_time": "2023-08-02T17:43:41.865Z"
   },
   {
    "duration": 9,
    "start_time": "2023-08-02T17:43:42.182Z"
   },
   {
    "duration": 186,
    "start_time": "2023-08-02T17:43:48.448Z"
   },
   {
    "duration": 1316,
    "start_time": "2023-08-02T17:50:08.610Z"
   },
   {
    "duration": 58,
    "start_time": "2023-08-02T17:50:09.927Z"
   },
   {
    "duration": 12,
    "start_time": "2023-08-02T17:50:09.987Z"
   },
   {
    "duration": 26,
    "start_time": "2023-08-02T17:50:10.001Z"
   },
   {
    "duration": 13,
    "start_time": "2023-08-02T17:50:10.028Z"
   },
   {
    "duration": 36,
    "start_time": "2023-08-02T17:50:10.042Z"
   },
   {
    "duration": 15,
    "start_time": "2023-08-02T17:50:10.080Z"
   },
   {
    "duration": 11,
    "start_time": "2023-08-02T17:50:10.096Z"
   },
   {
    "duration": 26,
    "start_time": "2023-08-02T17:50:10.108Z"
   },
   {
    "duration": 43,
    "start_time": "2023-08-02T17:50:10.136Z"
   },
   {
    "duration": 8,
    "start_time": "2023-08-02T17:50:10.180Z"
   },
   {
    "duration": 10,
    "start_time": "2023-08-02T17:50:10.189Z"
   },
   {
    "duration": 8,
    "start_time": "2023-08-02T17:50:10.200Z"
   },
   {
    "duration": 21,
    "start_time": "2023-08-02T17:50:10.209Z"
   },
   {
    "duration": 5,
    "start_time": "2023-08-02T17:50:10.231Z"
   },
   {
    "duration": 24,
    "start_time": "2023-08-02T17:50:10.237Z"
   },
   {
    "duration": 3,
    "start_time": "2023-08-02T17:50:10.262Z"
   },
   {
    "duration": 80,
    "start_time": "2023-08-02T17:50:10.266Z"
   },
   {
    "duration": 151,
    "start_time": "2023-08-02T17:50:10.348Z"
   },
   {
    "duration": 9,
    "start_time": "2023-08-02T17:50:10.500Z"
   },
   {
    "duration": 18,
    "start_time": "2023-08-02T17:50:10.510Z"
   },
   {
    "duration": 347,
    "start_time": "2023-08-02T17:50:10.530Z"
   },
   {
    "duration": 6,
    "start_time": "2023-08-02T17:50:10.878Z"
   },
   {
    "duration": 53,
    "start_time": "2023-08-02T17:50:10.885Z"
   },
   {
    "duration": 258,
    "start_time": "2023-08-02T17:50:10.939Z"
   },
   {
    "duration": 13,
    "start_time": "2023-08-02T17:50:11.199Z"
   },
   {
    "duration": 231,
    "start_time": "2023-08-02T17:50:11.214Z"
   },
   {
    "duration": 13,
    "start_time": "2023-08-02T17:50:11.448Z"
   },
   {
    "duration": 392,
    "start_time": "2023-08-02T17:50:11.463Z"
   },
   {
    "duration": 4,
    "start_time": "2023-08-02T17:50:11.856Z"
   },
   {
    "duration": 73,
    "start_time": "2023-08-02T17:50:11.861Z"
   },
   {
    "duration": 63,
    "start_time": "2023-08-02T17:50:11.935Z"
   },
   {
    "duration": 14,
    "start_time": "2023-08-02T17:50:12.020Z"
   },
   {
    "duration": 255,
    "start_time": "2023-08-02T17:50:12.035Z"
   },
   {
    "duration": 11,
    "start_time": "2023-08-02T17:50:12.292Z"
   },
   {
    "duration": 105,
    "start_time": "2023-08-02T17:50:12.319Z"
   },
   {
    "duration": 80,
    "start_time": "2023-08-02T17:50:12.425Z"
   },
   {
    "duration": 8862,
    "start_time": "2023-08-02T17:50:12.507Z"
   },
   {
    "duration": 7,
    "start_time": "2023-08-02T17:50:21.371Z"
   },
   {
    "duration": 52,
    "start_time": "2023-08-02T17:50:21.379Z"
   },
   {
    "duration": 16,
    "start_time": "2023-08-02T17:50:21.432Z"
   },
   {
    "duration": 114,
    "start_time": "2023-08-02T17:50:21.449Z"
   },
   {
    "duration": 66,
    "start_time": "2023-08-02T17:50:21.565Z"
   },
   {
    "duration": 19,
    "start_time": "2023-08-02T17:50:21.632Z"
   },
   {
    "duration": 15,
    "start_time": "2023-08-02T17:50:21.652Z"
   },
   {
    "duration": 9,
    "start_time": "2023-08-02T17:50:21.669Z"
   },
   {
    "duration": 42,
    "start_time": "2023-08-02T17:50:21.679Z"
   },
   {
    "duration": 12,
    "start_time": "2023-08-02T17:50:21.723Z"
   },
   {
    "duration": 4,
    "start_time": "2023-08-02T17:50:21.737Z"
   },
   {
    "duration": 111,
    "start_time": "2023-08-02T17:50:21.742Z"
   },
   {
    "duration": 156,
    "start_time": "2023-08-02T17:50:21.854Z"
   },
   {
    "duration": 10,
    "start_time": "2023-08-02T17:50:22.011Z"
   },
   {
    "duration": 1863,
    "start_time": "2023-08-02T17:50:22.022Z"
   },
   {
    "duration": 5,
    "start_time": "2023-08-02T17:50:23.886Z"
   },
   {
    "duration": 28,
    "start_time": "2023-08-02T17:50:23.892Z"
   },
   {
    "duration": 11,
    "start_time": "2023-08-02T17:50:23.921Z"
   },
   {
    "duration": 109,
    "start_time": "2023-08-02T17:50:23.933Z"
   },
   {
    "duration": 260,
    "start_time": "2023-08-02T17:50:24.044Z"
   },
   {
    "duration": 9,
    "start_time": "2023-08-02T17:50:24.305Z"
   },
   {
    "duration": 1306,
    "start_time": "2023-08-02T17:51:23.223Z"
   },
   {
    "duration": 58,
    "start_time": "2023-08-02T17:51:24.531Z"
   },
   {
    "duration": 11,
    "start_time": "2023-08-02T17:51:24.591Z"
   },
   {
    "duration": 26,
    "start_time": "2023-08-02T17:51:24.604Z"
   },
   {
    "duration": 9,
    "start_time": "2023-08-02T17:51:24.632Z"
   },
   {
    "duration": 39,
    "start_time": "2023-08-02T17:51:24.643Z"
   },
   {
    "duration": 14,
    "start_time": "2023-08-02T17:51:24.684Z"
   },
   {
    "duration": 25,
    "start_time": "2023-08-02T17:51:24.700Z"
   },
   {
    "duration": 11,
    "start_time": "2023-08-02T17:51:24.726Z"
   },
   {
    "duration": 36,
    "start_time": "2023-08-02T17:51:24.739Z"
   },
   {
    "duration": 7,
    "start_time": "2023-08-02T17:51:24.776Z"
   },
   {
    "duration": 15,
    "start_time": "2023-08-02T17:51:24.784Z"
   },
   {
    "duration": 9,
    "start_time": "2023-08-02T17:51:24.801Z"
   },
   {
    "duration": 15,
    "start_time": "2023-08-02T17:51:24.820Z"
   },
   {
    "duration": 27,
    "start_time": "2023-08-02T17:51:24.836Z"
   },
   {
    "duration": 27,
    "start_time": "2023-08-02T17:51:24.864Z"
   },
   {
    "duration": 2,
    "start_time": "2023-08-02T17:51:24.893Z"
   },
   {
    "duration": 69,
    "start_time": "2023-08-02T17:51:24.897Z"
   },
   {
    "duration": 151,
    "start_time": "2023-08-02T17:51:24.967Z"
   },
   {
    "duration": 7,
    "start_time": "2023-08-02T17:51:25.119Z"
   },
   {
    "duration": 10,
    "start_time": "2023-08-02T17:51:25.127Z"
   },
   {
    "duration": 392,
    "start_time": "2023-08-02T17:51:25.138Z"
   },
   {
    "duration": 6,
    "start_time": "2023-08-02T17:51:25.532Z"
   },
   {
    "duration": 15,
    "start_time": "2023-08-02T17:51:25.540Z"
   },
   {
    "duration": 248,
    "start_time": "2023-08-02T17:51:25.556Z"
   },
   {
    "duration": 20,
    "start_time": "2023-08-02T17:51:25.806Z"
   },
   {
    "duration": 226,
    "start_time": "2023-08-02T17:51:25.827Z"
   },
   {
    "duration": 13,
    "start_time": "2023-08-02T17:51:26.056Z"
   },
   {
    "duration": 223,
    "start_time": "2023-08-02T17:51:26.071Z"
   },
   {
    "duration": 4,
    "start_time": "2023-08-02T17:51:26.296Z"
   },
   {
    "duration": 28,
    "start_time": "2023-08-02T17:51:26.302Z"
   },
   {
    "duration": 60,
    "start_time": "2023-08-02T17:51:26.331Z"
   },
   {
    "duration": 33,
    "start_time": "2023-08-02T17:51:26.393Z"
   },
   {
    "duration": 237,
    "start_time": "2023-08-02T17:51:26.427Z"
   },
   {
    "duration": 10,
    "start_time": "2023-08-02T17:51:26.665Z"
   },
   {
    "duration": 139,
    "start_time": "2023-08-02T17:51:26.676Z"
   },
   {
    "duration": 81,
    "start_time": "2023-08-02T17:51:26.816Z"
   },
   {
    "duration": 7885,
    "start_time": "2023-08-02T17:51:26.898Z"
   },
   {
    "duration": 7,
    "start_time": "2023-08-02T17:51:34.784Z"
   },
   {
    "duration": 37,
    "start_time": "2023-08-02T17:51:34.792Z"
   },
   {
    "duration": 13,
    "start_time": "2023-08-02T17:51:34.830Z"
   },
   {
    "duration": 118,
    "start_time": "2023-08-02T17:51:34.844Z"
   },
   {
    "duration": 69,
    "start_time": "2023-08-02T17:51:34.964Z"
   },
   {
    "duration": 38,
    "start_time": "2023-08-02T17:51:35.035Z"
   },
   {
    "duration": 35,
    "start_time": "2023-08-02T17:51:35.074Z"
   },
   {
    "duration": 28,
    "start_time": "2023-08-02T17:51:35.110Z"
   },
   {
    "duration": 12,
    "start_time": "2023-08-02T17:51:35.139Z"
   },
   {
    "duration": 44,
    "start_time": "2023-08-02T17:51:35.153Z"
   },
   {
    "duration": 16,
    "start_time": "2023-08-02T17:51:35.199Z"
   },
   {
    "duration": 136,
    "start_time": "2023-08-02T17:51:35.217Z"
   },
   {
    "duration": 168,
    "start_time": "2023-08-02T17:51:35.355Z"
   },
   {
    "duration": 7,
    "start_time": "2023-08-02T17:51:35.525Z"
   },
   {
    "duration": 1892,
    "start_time": "2023-08-02T17:51:35.533Z"
   },
   {
    "duration": 6,
    "start_time": "2023-08-02T17:51:37.426Z"
   },
   {
    "duration": 10,
    "start_time": "2023-08-02T17:51:37.434Z"
   },
   {
    "duration": 13,
    "start_time": "2023-08-02T17:51:37.445Z"
   },
   {
    "duration": 132,
    "start_time": "2023-08-02T17:51:37.460Z"
   },
   {
    "duration": 275,
    "start_time": "2023-08-02T17:51:37.593Z"
   },
   {
    "duration": 10,
    "start_time": "2023-08-02T17:51:37.870Z"
   },
   {
    "duration": 11,
    "start_time": "2023-08-02T17:54:52.774Z"
   },
   {
    "duration": 168,
    "start_time": "2023-08-02T18:05:20.080Z"
   },
   {
    "duration": 332,
    "start_time": "2023-08-02T18:05:33.888Z"
   },
   {
    "duration": 149,
    "start_time": "2023-08-02T18:05:58.331Z"
   },
   {
    "duration": 157,
    "start_time": "2023-08-02T18:06:07.335Z"
   },
   {
    "duration": 175,
    "start_time": "2023-08-02T18:06:58.069Z"
   },
   {
    "duration": 21,
    "start_time": "2023-08-02T18:07:58.208Z"
   },
   {
    "duration": 43,
    "start_time": "2023-08-02T18:08:09.074Z"
   },
   {
    "duration": 60,
    "start_time": "2023-08-02T18:09:41.844Z"
   },
   {
    "duration": 62,
    "start_time": "2023-08-02T18:10:24.583Z"
   },
   {
    "duration": 62,
    "start_time": "2023-08-02T18:10:34.801Z"
   },
   {
    "duration": 61,
    "start_time": "2023-08-02T18:11:14.455Z"
   },
   {
    "duration": 45,
    "start_time": "2023-08-02T18:11:28.971Z"
   },
   {
    "duration": 41,
    "start_time": "2023-08-02T18:12:36.726Z"
   },
   {
    "duration": 40,
    "start_time": "2023-08-02T18:12:59.672Z"
   },
   {
    "duration": 21,
    "start_time": "2023-08-02T18:14:29.589Z"
   },
   {
    "duration": 14,
    "start_time": "2023-08-02T18:14:46.639Z"
   },
   {
    "duration": 5,
    "start_time": "2023-08-02T18:14:47.434Z"
   },
   {
    "duration": 22,
    "start_time": "2023-08-02T18:14:50.661Z"
   },
   {
    "duration": 43,
    "start_time": "2023-08-02T18:21:57.440Z"
   },
   {
    "duration": 13,
    "start_time": "2023-08-02T18:30:34.958Z"
   },
   {
    "duration": 64,
    "start_time": "2023-08-02T18:30:35.691Z"
   },
   {
    "duration": 15,
    "start_time": "2023-08-02T18:30:51.646Z"
   },
   {
    "duration": 13,
    "start_time": "2023-08-02T18:30:54.052Z"
   },
   {
    "duration": 51,
    "start_time": "2023-08-02T18:30:54.796Z"
   },
   {
    "duration": 15,
    "start_time": "2023-08-02T18:31:07.549Z"
   },
   {
    "duration": 13,
    "start_time": "2023-08-02T18:31:10.086Z"
   },
   {
    "duration": 61,
    "start_time": "2023-08-02T18:31:28.970Z"
   },
   {
    "duration": 15,
    "start_time": "2023-08-02T18:33:55.379Z"
   },
   {
    "duration": 66,
    "start_time": "2023-08-02T18:34:00.622Z"
   },
   {
    "duration": 13,
    "start_time": "2023-08-02T18:35:11.284Z"
   },
   {
    "duration": 64,
    "start_time": "2023-08-02T18:35:12.328Z"
   },
   {
    "duration": 13,
    "start_time": "2023-08-02T18:35:24.299Z"
   },
   {
    "duration": 59,
    "start_time": "2023-08-02T18:35:25.727Z"
   },
   {
    "duration": 63,
    "start_time": "2023-08-02T18:37:26.035Z"
   },
   {
    "duration": 25,
    "start_time": "2023-08-02T18:43:07.323Z"
   },
   {
    "duration": 206,
    "start_time": "2023-08-02T18:44:05.296Z"
   },
   {
    "duration": 163,
    "start_time": "2023-08-02T18:44:12.189Z"
   },
   {
    "duration": 171,
    "start_time": "2023-08-02T18:45:01.405Z"
   },
   {
    "duration": 82,
    "start_time": "2023-08-02T18:45:54.066Z"
   },
   {
    "duration": 90,
    "start_time": "2023-08-02T18:46:00.969Z"
   },
   {
    "duration": 133,
    "start_time": "2023-08-02T18:46:06.338Z"
   },
   {
    "duration": 181,
    "start_time": "2023-08-02T18:46:15.591Z"
   },
   {
    "duration": 179,
    "start_time": "2023-08-02T18:46:20.657Z"
   },
   {
    "duration": 216,
    "start_time": "2023-08-02T18:48:21.694Z"
   },
   {
    "duration": 15,
    "start_time": "2023-08-02T18:51:31.711Z"
   },
   {
    "duration": 211,
    "start_time": "2023-08-02T18:51:49.655Z"
   },
   {
    "duration": 5,
    "start_time": "2023-08-02T18:53:10.816Z"
   },
   {
    "duration": 4,
    "start_time": "2023-08-02T18:53:30.101Z"
   },
   {
    "duration": 11,
    "start_time": "2023-08-02T18:56:04.668Z"
   },
   {
    "duration": 14,
    "start_time": "2023-08-02T18:56:20.653Z"
   },
   {
    "duration": 11,
    "start_time": "2023-08-02T18:56:33.620Z"
   },
   {
    "duration": 1855,
    "start_time": "2023-08-03T08:10:07.981Z"
   },
   {
    "duration": 112,
    "start_time": "2023-08-03T08:10:09.838Z"
   },
   {
    "duration": 19,
    "start_time": "2023-08-03T08:10:09.952Z"
   },
   {
    "duration": 55,
    "start_time": "2023-08-03T08:10:09.973Z"
   },
   {
    "duration": 25,
    "start_time": "2023-08-03T08:10:10.031Z"
   },
   {
    "duration": 47,
    "start_time": "2023-08-03T08:10:10.058Z"
   },
   {
    "duration": 19,
    "start_time": "2023-08-03T08:10:10.107Z"
   },
   {
    "duration": 8,
    "start_time": "2023-08-03T08:10:10.128Z"
   },
   {
    "duration": 8,
    "start_time": "2023-08-03T08:10:10.152Z"
   },
   {
    "duration": 56,
    "start_time": "2023-08-03T08:10:10.162Z"
   },
   {
    "duration": 10,
    "start_time": "2023-08-03T08:10:10.220Z"
   },
   {
    "duration": 31,
    "start_time": "2023-08-03T08:10:10.232Z"
   },
   {
    "duration": 20,
    "start_time": "2023-08-03T08:10:10.265Z"
   },
   {
    "duration": 41,
    "start_time": "2023-08-03T08:10:10.289Z"
   },
   {
    "duration": 31,
    "start_time": "2023-08-03T08:10:10.332Z"
   },
   {
    "duration": 49,
    "start_time": "2023-08-03T08:10:10.365Z"
   },
   {
    "duration": 4,
    "start_time": "2023-08-03T08:10:10.416Z"
   },
   {
    "duration": 97,
    "start_time": "2023-08-03T08:10:10.422Z"
   },
   {
    "duration": 298,
    "start_time": "2023-08-03T08:10:10.521Z"
   },
   {
    "duration": 387,
    "start_time": "2023-08-03T08:10:10.821Z"
   },
   {
    "duration": 10,
    "start_time": "2023-08-03T08:10:11.210Z"
   },
   {
    "duration": 170,
    "start_time": "2023-08-03T08:10:11.221Z"
   },
   {
    "duration": 308,
    "start_time": "2023-08-03T08:10:11.393Z"
   },
   {
    "duration": 8,
    "start_time": "2023-08-03T08:10:11.703Z"
   },
   {
    "duration": 17,
    "start_time": "2023-08-03T08:10:11.713Z"
   },
   {
    "duration": 306,
    "start_time": "2023-08-03T08:10:11.733Z"
   },
   {
    "duration": 25,
    "start_time": "2023-08-03T08:10:12.041Z"
   },
   {
    "duration": 299,
    "start_time": "2023-08-03T08:10:12.067Z"
   },
   {
    "duration": 17,
    "start_time": "2023-08-03T08:10:12.368Z"
   },
   {
    "duration": 112,
    "start_time": "2023-08-03T08:10:12.387Z"
   },
   {
    "duration": 4,
    "start_time": "2023-08-03T08:10:12.501Z"
   },
   {
    "duration": 28,
    "start_time": "2023-08-03T08:10:12.506Z"
   },
   {
    "duration": 90,
    "start_time": "2023-08-03T08:10:12.536Z"
   },
   {
    "duration": 34,
    "start_time": "2023-08-03T08:10:12.628Z"
   },
   {
    "duration": 444,
    "start_time": "2023-08-03T08:10:12.664Z"
   },
   {
    "duration": 14,
    "start_time": "2023-08-03T08:10:13.110Z"
   },
   {
    "duration": 264,
    "start_time": "2023-08-03T08:10:13.126Z"
   },
   {
    "duration": 93,
    "start_time": "2023-08-03T08:10:13.392Z"
   },
   {
    "duration": 10469,
    "start_time": "2023-08-03T08:10:13.487Z"
   },
   {
    "duration": 10,
    "start_time": "2023-08-03T08:10:23.959Z"
   },
   {
    "duration": 80,
    "start_time": "2023-08-03T08:10:23.973Z"
   },
   {
    "duration": 17,
    "start_time": "2023-08-03T08:10:24.055Z"
   },
   {
    "duration": 184,
    "start_time": "2023-08-03T08:10:24.074Z"
   },
   {
    "duration": 21,
    "start_time": "2023-08-03T08:10:24.260Z"
   },
   {
    "duration": 77,
    "start_time": "2023-08-03T08:10:24.283Z"
   },
   {
    "duration": 18,
    "start_time": "2023-08-03T08:10:24.362Z"
   },
   {
    "duration": 27,
    "start_time": "2023-08-03T08:10:24.382Z"
   },
   {
    "duration": 245,
    "start_time": "2023-08-03T08:10:24.411Z"
   },
   {
    "duration": 12,
    "start_time": "2023-08-03T08:10:24.658Z"
   },
   {
    "duration": 16,
    "start_time": "2023-08-03T08:10:24.672Z"
   },
   {
    "duration": 286,
    "start_time": "2023-08-03T08:10:24.690Z"
   },
   {
    "duration": 6,
    "start_time": "2023-08-03T08:10:24.978Z"
   },
   {
    "duration": 12,
    "start_time": "2023-08-03T08:10:24.986Z"
   },
   {
    "duration": 127,
    "start_time": "2023-08-03T08:10:25.000Z"
   },
   {
    "duration": 238,
    "start_time": "2023-08-03T08:10:25.129Z"
   },
   {
    "duration": 8,
    "start_time": "2023-08-03T08:10:25.370Z"
   },
   {
    "duration": 2419,
    "start_time": "2023-08-03T08:10:25.379Z"
   },
   {
    "duration": 7,
    "start_time": "2023-08-03T08:10:27.800Z"
   },
   {
    "duration": 51,
    "start_time": "2023-08-03T08:10:27.808Z"
   },
   {
    "duration": 6,
    "start_time": "2023-08-03T08:10:27.861Z"
   },
   {
    "duration": 25,
    "start_time": "2023-08-03T08:10:27.869Z"
   },
   {
    "duration": 164,
    "start_time": "2023-08-03T08:10:27.896Z"
   },
   {
    "duration": 643,
    "start_time": "2023-08-03T08:10:28.062Z"
   },
   {
    "duration": 12,
    "start_time": "2023-08-03T08:10:28.707Z"
   },
   {
    "duration": 183,
    "start_time": "2023-08-03T08:13:11.179Z"
   },
   {
    "duration": 21,
    "start_time": "2023-08-03T08:19:30.341Z"
   },
   {
    "duration": 19,
    "start_time": "2023-08-03T08:19:53.771Z"
   },
   {
    "duration": 18,
    "start_time": "2023-08-03T08:20:06.898Z"
   },
   {
    "duration": 18,
    "start_time": "2023-08-03T08:20:16.128Z"
   },
   {
    "duration": 29,
    "start_time": "2023-08-03T08:20:17.650Z"
   },
   {
    "duration": 19,
    "start_time": "2023-08-03T08:20:33.705Z"
   },
   {
    "duration": 210,
    "start_time": "2023-08-03T08:28:09.673Z"
   },
   {
    "duration": 23,
    "start_time": "2023-08-03T08:28:20.566Z"
   },
   {
    "duration": 26,
    "start_time": "2023-08-03T08:28:48.132Z"
   },
   {
    "duration": 21,
    "start_time": "2023-08-03T08:28:57.503Z"
   },
   {
    "duration": 24,
    "start_time": "2023-08-03T08:36:58.532Z"
   },
   {
    "duration": 26,
    "start_time": "2023-08-03T08:36:59.149Z"
   },
   {
    "duration": 20,
    "start_time": "2023-08-03T08:37:10.732Z"
   },
   {
    "duration": 1629,
    "start_time": "2023-08-03T10:37:50.774Z"
   },
   {
    "duration": 67,
    "start_time": "2023-08-03T10:37:52.405Z"
   },
   {
    "duration": 20,
    "start_time": "2023-08-03T10:37:52.475Z"
   },
   {
    "duration": 37,
    "start_time": "2023-08-03T10:37:52.498Z"
   },
   {
    "duration": 22,
    "start_time": "2023-08-03T10:37:52.537Z"
   },
   {
    "duration": 59,
    "start_time": "2023-08-03T10:37:52.561Z"
   },
   {
    "duration": 17,
    "start_time": "2023-08-03T10:37:52.621Z"
   },
   {
    "duration": 13,
    "start_time": "2023-08-03T10:37:52.639Z"
   },
   {
    "duration": 10,
    "start_time": "2023-08-03T10:37:52.653Z"
   },
   {
    "duration": 57,
    "start_time": "2023-08-03T10:37:52.666Z"
   },
   {
    "duration": 12,
    "start_time": "2023-08-03T10:37:52.725Z"
   },
   {
    "duration": 17,
    "start_time": "2023-08-03T10:37:52.738Z"
   },
   {
    "duration": 56,
    "start_time": "2023-08-03T10:37:52.757Z"
   },
   {
    "duration": 19,
    "start_time": "2023-08-03T10:37:52.815Z"
   },
   {
    "duration": 14,
    "start_time": "2023-08-03T10:37:52.837Z"
   },
   {
    "duration": 53,
    "start_time": "2023-08-03T10:37:52.853Z"
   },
   {
    "duration": 6,
    "start_time": "2023-08-03T10:37:52.908Z"
   },
   {
    "duration": 92,
    "start_time": "2023-08-03T10:37:52.916Z"
   },
   {
    "duration": 168,
    "start_time": "2023-08-03T10:37:53.011Z"
   },
   {
    "duration": 392,
    "start_time": "2023-08-03T10:37:53.180Z"
   },
   {
    "duration": 11,
    "start_time": "2023-08-03T10:37:53.573Z"
   },
   {
    "duration": 13,
    "start_time": "2023-08-03T10:37:53.587Z"
   },
   {
    "duration": 335,
    "start_time": "2023-08-03T10:37:53.602Z"
   },
   {
    "duration": 14,
    "start_time": "2023-08-03T10:37:53.939Z"
   },
   {
    "duration": 23,
    "start_time": "2023-08-03T10:37:53.954Z"
   },
   {
    "duration": 28,
    "start_time": "2023-08-03T10:37:53.979Z"
   },
   {
    "duration": 186,
    "start_time": "2023-08-03T10:37:54.009Z"
   },
   {
    "duration": 0,
    "start_time": "2023-08-03T10:37:54.199Z"
   },
   {
    "duration": 0,
    "start_time": "2023-08-03T10:37:54.200Z"
   },
   {
    "duration": 0,
    "start_time": "2023-08-03T10:37:54.201Z"
   },
   {
    "duration": 0,
    "start_time": "2023-08-03T10:37:54.203Z"
   },
   {
    "duration": 0,
    "start_time": "2023-08-03T10:37:54.204Z"
   },
   {
    "duration": 0,
    "start_time": "2023-08-03T10:37:54.205Z"
   },
   {
    "duration": 0,
    "start_time": "2023-08-03T10:37:54.206Z"
   },
   {
    "duration": 0,
    "start_time": "2023-08-03T10:37:54.207Z"
   },
   {
    "duration": 0,
    "start_time": "2023-08-03T10:37:54.208Z"
   },
   {
    "duration": 0,
    "start_time": "2023-08-03T10:37:54.209Z"
   },
   {
    "duration": 0,
    "start_time": "2023-08-03T10:37:54.211Z"
   },
   {
    "duration": 0,
    "start_time": "2023-08-03T10:37:54.211Z"
   },
   {
    "duration": 0,
    "start_time": "2023-08-03T10:37:54.212Z"
   },
   {
    "duration": 0,
    "start_time": "2023-08-03T10:37:54.214Z"
   },
   {
    "duration": 0,
    "start_time": "2023-08-03T10:37:54.215Z"
   },
   {
    "duration": 0,
    "start_time": "2023-08-03T10:37:54.215Z"
   },
   {
    "duration": 0,
    "start_time": "2023-08-03T10:37:54.216Z"
   },
   {
    "duration": 0,
    "start_time": "2023-08-03T10:37:54.217Z"
   },
   {
    "duration": 0,
    "start_time": "2023-08-03T10:37:54.218Z"
   },
   {
    "duration": 1,
    "start_time": "2023-08-03T10:37:54.252Z"
   },
   {
    "duration": 0,
    "start_time": "2023-08-03T10:37:54.254Z"
   },
   {
    "duration": 0,
    "start_time": "2023-08-03T10:37:54.255Z"
   },
   {
    "duration": 0,
    "start_time": "2023-08-03T10:37:54.256Z"
   },
   {
    "duration": 0,
    "start_time": "2023-08-03T10:37:54.257Z"
   },
   {
    "duration": 0,
    "start_time": "2023-08-03T10:37:54.258Z"
   },
   {
    "duration": 0,
    "start_time": "2023-08-03T10:37:54.259Z"
   },
   {
    "duration": 0,
    "start_time": "2023-08-03T10:37:54.260Z"
   },
   {
    "duration": 0,
    "start_time": "2023-08-03T10:37:54.261Z"
   },
   {
    "duration": 0,
    "start_time": "2023-08-03T10:37:54.262Z"
   },
   {
    "duration": 0,
    "start_time": "2023-08-03T10:37:54.263Z"
   },
   {
    "duration": 0,
    "start_time": "2023-08-03T10:37:54.264Z"
   },
   {
    "duration": 0,
    "start_time": "2023-08-03T10:37:54.266Z"
   },
   {
    "duration": 0,
    "start_time": "2023-08-03T10:37:54.267Z"
   },
   {
    "duration": 0,
    "start_time": "2023-08-03T10:37:54.268Z"
   },
   {
    "duration": 0,
    "start_time": "2023-08-03T10:37:54.269Z"
   },
   {
    "duration": 0,
    "start_time": "2023-08-03T10:37:54.271Z"
   },
   {
    "duration": 0,
    "start_time": "2023-08-03T10:37:54.272Z"
   },
   {
    "duration": 0,
    "start_time": "2023-08-03T10:37:54.273Z"
   },
   {
    "duration": 1499,
    "start_time": "2023-08-03T16:26:35.546Z"
   },
   {
    "duration": 154,
    "start_time": "2023-08-03T16:26:37.047Z"
   },
   {
    "duration": 13,
    "start_time": "2023-08-03T16:26:37.203Z"
   },
   {
    "duration": 23,
    "start_time": "2023-08-03T16:26:37.218Z"
   },
   {
    "duration": 7,
    "start_time": "2023-08-03T16:26:37.243Z"
   },
   {
    "duration": 39,
    "start_time": "2023-08-03T16:26:37.251Z"
   },
   {
    "duration": 14,
    "start_time": "2023-08-03T16:26:37.291Z"
   },
   {
    "duration": 9,
    "start_time": "2023-08-03T16:26:37.306Z"
   },
   {
    "duration": 22,
    "start_time": "2023-08-03T16:26:37.316Z"
   },
   {
    "duration": 38,
    "start_time": "2023-08-03T16:26:37.341Z"
   },
   {
    "duration": 11,
    "start_time": "2023-08-03T16:26:37.387Z"
   },
   {
    "duration": 7,
    "start_time": "2023-08-03T16:26:37.399Z"
   },
   {
    "duration": 7,
    "start_time": "2023-08-03T16:26:37.408Z"
   },
   {
    "duration": 15,
    "start_time": "2023-08-03T16:26:37.416Z"
   },
   {
    "duration": 19,
    "start_time": "2023-08-03T16:26:37.433Z"
   },
   {
    "duration": 39,
    "start_time": "2023-08-03T16:26:37.453Z"
   },
   {
    "duration": 3,
    "start_time": "2023-08-03T16:26:37.494Z"
   },
   {
    "duration": 75,
    "start_time": "2023-08-03T16:26:37.498Z"
   },
   {
    "duration": 179,
    "start_time": "2023-08-03T16:26:37.575Z"
   },
   {
    "duration": 323,
    "start_time": "2023-08-03T16:26:37.756Z"
   },
   {
    "duration": 10,
    "start_time": "2023-08-03T16:26:38.081Z"
   },
   {
    "duration": 9,
    "start_time": "2023-08-03T16:26:38.092Z"
   },
   {
    "duration": 263,
    "start_time": "2023-08-03T16:26:38.102Z"
   },
   {
    "duration": 7,
    "start_time": "2023-08-03T16:26:38.366Z"
   },
   {
    "duration": 16,
    "start_time": "2023-08-03T16:26:38.375Z"
   },
   {
    "duration": 19,
    "start_time": "2023-08-03T16:26:38.392Z"
   },
   {
    "duration": 163,
    "start_time": "2023-08-03T16:26:38.412Z"
   },
   {
    "duration": 0,
    "start_time": "2023-08-03T16:26:38.578Z"
   },
   {
    "duration": 0,
    "start_time": "2023-08-03T16:26:38.581Z"
   },
   {
    "duration": 0,
    "start_time": "2023-08-03T16:26:38.586Z"
   },
   {
    "duration": 0,
    "start_time": "2023-08-03T16:26:38.587Z"
   },
   {
    "duration": 0,
    "start_time": "2023-08-03T16:26:38.589Z"
   },
   {
    "duration": 0,
    "start_time": "2023-08-03T16:26:38.590Z"
   },
   {
    "duration": 0,
    "start_time": "2023-08-03T16:26:38.591Z"
   },
   {
    "duration": 0,
    "start_time": "2023-08-03T16:26:38.593Z"
   },
   {
    "duration": 0,
    "start_time": "2023-08-03T16:26:38.594Z"
   },
   {
    "duration": 0,
    "start_time": "2023-08-03T16:26:38.596Z"
   },
   {
    "duration": 0,
    "start_time": "2023-08-03T16:26:38.597Z"
   },
   {
    "duration": 0,
    "start_time": "2023-08-03T16:26:38.598Z"
   },
   {
    "duration": 0,
    "start_time": "2023-08-03T16:26:38.599Z"
   },
   {
    "duration": 0,
    "start_time": "2023-08-03T16:26:38.601Z"
   },
   {
    "duration": 0,
    "start_time": "2023-08-03T16:26:38.602Z"
   },
   {
    "duration": 0,
    "start_time": "2023-08-03T16:26:38.604Z"
   },
   {
    "duration": 0,
    "start_time": "2023-08-03T16:26:38.605Z"
   },
   {
    "duration": 0,
    "start_time": "2023-08-03T16:26:38.607Z"
   },
   {
    "duration": 0,
    "start_time": "2023-08-03T16:26:38.608Z"
   },
   {
    "duration": 0,
    "start_time": "2023-08-03T16:26:38.609Z"
   },
   {
    "duration": 0,
    "start_time": "2023-08-03T16:26:38.611Z"
   },
   {
    "duration": 0,
    "start_time": "2023-08-03T16:26:38.612Z"
   },
   {
    "duration": 0,
    "start_time": "2023-08-03T16:26:38.613Z"
   },
   {
    "duration": 0,
    "start_time": "2023-08-03T16:26:38.615Z"
   },
   {
    "duration": 0,
    "start_time": "2023-08-03T16:26:38.616Z"
   },
   {
    "duration": 0,
    "start_time": "2023-08-03T16:26:38.616Z"
   },
   {
    "duration": 0,
    "start_time": "2023-08-03T16:26:38.618Z"
   },
   {
    "duration": 0,
    "start_time": "2023-08-03T16:26:38.619Z"
   },
   {
    "duration": 0,
    "start_time": "2023-08-03T16:26:38.620Z"
   },
   {
    "duration": 0,
    "start_time": "2023-08-03T16:26:38.621Z"
   },
   {
    "duration": 0,
    "start_time": "2023-08-03T16:26:38.622Z"
   },
   {
    "duration": 0,
    "start_time": "2023-08-03T16:26:38.623Z"
   },
   {
    "duration": 0,
    "start_time": "2023-08-03T16:26:38.624Z"
   },
   {
    "duration": 0,
    "start_time": "2023-08-03T16:26:38.625Z"
   },
   {
    "duration": 0,
    "start_time": "2023-08-03T16:26:38.687Z"
   },
   {
    "duration": 0,
    "start_time": "2023-08-03T16:26:38.689Z"
   },
   {
    "duration": 0,
    "start_time": "2023-08-03T16:26:38.691Z"
   },
   {
    "duration": 0,
    "start_time": "2023-08-03T16:26:38.693Z"
   },
   {
    "duration": 15,
    "start_time": "2023-08-03T16:34:02.333Z"
   },
   {
    "duration": 40,
    "start_time": "2023-08-03T16:34:09.696Z"
   },
   {
    "duration": 5,
    "start_time": "2023-08-03T16:34:19.958Z"
   },
   {
    "duration": 9,
    "start_time": "2023-08-03T16:34:34.138Z"
   },
   {
    "duration": 2272,
    "start_time": "2023-08-03T16:37:19.921Z"
   },
   {
    "duration": 1763,
    "start_time": "2023-08-03T16:37:32.611Z"
   },
   {
    "duration": 14,
    "start_time": "2023-08-03T16:40:37.700Z"
   },
   {
    "duration": 49,
    "start_time": "2023-08-03T16:40:48.054Z"
   },
   {
    "duration": 27,
    "start_time": "2023-08-03T16:41:17.288Z"
   },
   {
    "duration": 19,
    "start_time": "2023-08-03T16:43:10.316Z"
   },
   {
    "duration": 19,
    "start_time": "2023-08-03T16:43:28.269Z"
   },
   {
    "duration": 15,
    "start_time": "2023-08-03T16:43:32.700Z"
   },
   {
    "duration": 16,
    "start_time": "2023-08-03T16:43:40.908Z"
   },
   {
    "duration": 11,
    "start_time": "2023-08-03T16:43:58.164Z"
   },
   {
    "duration": 8,
    "start_time": "2023-08-03T16:44:14.554Z"
   },
   {
    "duration": 53,
    "start_time": "2023-08-03T16:45:05.746Z"
   },
   {
    "duration": 8,
    "start_time": "2023-08-03T16:45:41.350Z"
   },
   {
    "duration": 47,
    "start_time": "2023-08-03T16:45:42.225Z"
   },
   {
    "duration": 8,
    "start_time": "2023-08-03T16:45:48.265Z"
   },
   {
    "duration": 45,
    "start_time": "2023-08-03T16:45:50.305Z"
   },
   {
    "duration": 11,
    "start_time": "2023-08-03T16:46:01.701Z"
   },
   {
    "duration": 56,
    "start_time": "2023-08-03T16:46:02.425Z"
   },
   {
    "duration": 7,
    "start_time": "2023-08-03T16:46:08.305Z"
   },
   {
    "duration": 55,
    "start_time": "2023-08-03T16:46:08.807Z"
   },
   {
    "duration": 18,
    "start_time": "2023-08-03T16:47:15.636Z"
   },
   {
    "duration": 76,
    "start_time": "2023-08-03T16:47:17.823Z"
   },
   {
    "duration": 9,
    "start_time": "2023-08-03T16:47:58.449Z"
   },
   {
    "duration": 48,
    "start_time": "2023-08-03T16:47:59.091Z"
   },
   {
    "duration": 56,
    "start_time": "2023-08-03T16:48:05.748Z"
   },
   {
    "duration": 55,
    "start_time": "2023-08-03T16:48:19.262Z"
   },
   {
    "duration": 8,
    "start_time": "2023-08-03T16:49:12.915Z"
   },
   {
    "duration": 49,
    "start_time": "2023-08-03T16:49:13.531Z"
   },
   {
    "duration": 47,
    "start_time": "2023-08-03T16:49:22.430Z"
   },
   {
    "duration": 8,
    "start_time": "2023-08-03T16:49:40.215Z"
   },
   {
    "duration": 49,
    "start_time": "2023-08-03T16:49:40.809Z"
   },
   {
    "duration": 13,
    "start_time": "2023-08-03T16:49:47.693Z"
   },
   {
    "duration": 50,
    "start_time": "2023-08-03T16:49:48.129Z"
   },
   {
    "duration": 8,
    "start_time": "2023-08-03T16:49:53.062Z"
   },
   {
    "duration": 48,
    "start_time": "2023-08-03T16:49:53.521Z"
   },
   {
    "duration": 156,
    "start_time": "2023-08-03T16:51:05.260Z"
   },
   {
    "duration": 7,
    "start_time": "2023-08-03T16:51:12.359Z"
   },
   {
    "duration": 60,
    "start_time": "2023-08-03T16:51:13.019Z"
   },
   {
    "duration": 59,
    "start_time": "2023-08-03T16:51:32.003Z"
   },
   {
    "duration": 47,
    "start_time": "2023-08-03T16:51:42.520Z"
   },
   {
    "duration": 9,
    "start_time": "2023-08-03T16:52:31.652Z"
   },
   {
    "duration": 73,
    "start_time": "2023-08-03T16:52:32.219Z"
   },
   {
    "duration": 10,
    "start_time": "2023-08-03T16:52:36.870Z"
   },
   {
    "duration": 69,
    "start_time": "2023-08-03T16:52:37.562Z"
   },
   {
    "duration": 9,
    "start_time": "2023-08-03T16:53:06.547Z"
   },
   {
    "duration": 50,
    "start_time": "2023-08-03T16:53:07.619Z"
   },
   {
    "duration": 13,
    "start_time": "2023-08-03T16:55:19.149Z"
   },
   {
    "duration": 58,
    "start_time": "2023-08-03T16:56:14.452Z"
   },
   {
    "duration": 13,
    "start_time": "2023-08-03T16:57:01.349Z"
   },
   {
    "duration": 19,
    "start_time": "2023-08-03T16:57:19.372Z"
   },
   {
    "duration": 71,
    "start_time": "2023-08-03T16:57:20.596Z"
   },
   {
    "duration": 28,
    "start_time": "2023-08-03T16:58:52.594Z"
   },
   {
    "duration": 13,
    "start_time": "2023-08-03T16:58:59.212Z"
   },
   {
    "duration": 17,
    "start_time": "2023-08-03T17:00:20.829Z"
   },
   {
    "duration": 65,
    "start_time": "2023-08-03T17:00:21.605Z"
   },
   {
    "duration": 78,
    "start_time": "2023-08-03T17:03:12.826Z"
   },
   {
    "duration": 2509,
    "start_time": "2023-08-03T17:05:42.104Z"
   },
   {
    "duration": 2534,
    "start_time": "2023-08-03T17:05:59.216Z"
   },
   {
    "duration": 3047,
    "start_time": "2023-08-03T17:06:44.019Z"
   },
   {
    "duration": 2973,
    "start_time": "2023-08-03T17:06:58.553Z"
   },
   {
    "duration": 2339,
    "start_time": "2023-08-03T17:09:04.561Z"
   },
   {
    "duration": 2496,
    "start_time": "2023-08-03T17:09:35.835Z"
   },
   {
    "duration": 17,
    "start_time": "2023-08-03T17:09:53.438Z"
   },
   {
    "duration": 83,
    "start_time": "2023-08-03T17:09:55.000Z"
   },
   {
    "duration": 1536,
    "start_time": "2023-08-03T17:12:39.603Z"
   },
   {
    "duration": 67,
    "start_time": "2023-08-03T17:12:41.141Z"
   },
   {
    "duration": 15,
    "start_time": "2023-08-03T17:12:41.210Z"
   },
   {
    "duration": 26,
    "start_time": "2023-08-03T17:12:41.227Z"
   },
   {
    "duration": 8,
    "start_time": "2023-08-03T17:12:41.255Z"
   },
   {
    "duration": 42,
    "start_time": "2023-08-03T17:12:41.290Z"
   },
   {
    "duration": 17,
    "start_time": "2023-08-03T17:12:41.334Z"
   },
   {
    "duration": 9,
    "start_time": "2023-08-03T17:12:41.353Z"
   },
   {
    "duration": 26,
    "start_time": "2023-08-03T17:12:41.364Z"
   },
   {
    "duration": 49,
    "start_time": "2023-08-03T17:12:41.403Z"
   },
   {
    "duration": 9,
    "start_time": "2023-08-03T17:12:41.454Z"
   },
   {
    "duration": 26,
    "start_time": "2023-08-03T17:12:41.466Z"
   },
   {
    "duration": 13,
    "start_time": "2023-08-03T17:12:41.495Z"
   },
   {
    "duration": 17,
    "start_time": "2023-08-03T17:12:41.509Z"
   },
   {
    "duration": 5,
    "start_time": "2023-08-03T17:12:41.527Z"
   },
   {
    "duration": 25,
    "start_time": "2023-08-03T17:12:41.534Z"
   },
   {
    "duration": 3,
    "start_time": "2023-08-03T17:12:41.560Z"
   },
   {
    "duration": 79,
    "start_time": "2023-08-03T17:12:41.589Z"
   },
   {
    "duration": 195,
    "start_time": "2023-08-03T17:12:41.670Z"
   },
   {
    "duration": 354,
    "start_time": "2023-08-03T17:12:41.867Z"
   },
   {
    "duration": 12,
    "start_time": "2023-08-03T17:12:42.223Z"
   },
   {
    "duration": 14,
    "start_time": "2023-08-03T17:12:42.237Z"
   },
   {
    "duration": 325,
    "start_time": "2023-08-03T17:12:42.253Z"
   },
   {
    "duration": 13,
    "start_time": "2023-08-03T17:12:42.579Z"
   },
   {
    "duration": 23,
    "start_time": "2023-08-03T17:12:42.594Z"
   },
   {
    "duration": 20,
    "start_time": "2023-08-03T17:12:42.619Z"
   },
   {
    "duration": 186,
    "start_time": "2023-08-03T17:12:42.641Z"
   },
   {
    "duration": 0,
    "start_time": "2023-08-03T17:12:42.831Z"
   },
   {
    "duration": 0,
    "start_time": "2023-08-03T17:12:42.832Z"
   },
   {
    "duration": 0,
    "start_time": "2023-08-03T17:12:42.833Z"
   },
   {
    "duration": 0,
    "start_time": "2023-08-03T17:12:42.834Z"
   },
   {
    "duration": 0,
    "start_time": "2023-08-03T17:12:42.835Z"
   },
   {
    "duration": 0,
    "start_time": "2023-08-03T17:12:42.836Z"
   },
   {
    "duration": 0,
    "start_time": "2023-08-03T17:12:42.837Z"
   },
   {
    "duration": 0,
    "start_time": "2023-08-03T17:12:42.838Z"
   },
   {
    "duration": 0,
    "start_time": "2023-08-03T17:12:42.839Z"
   },
   {
    "duration": 0,
    "start_time": "2023-08-03T17:12:42.840Z"
   },
   {
    "duration": 0,
    "start_time": "2023-08-03T17:12:42.841Z"
   },
   {
    "duration": 0,
    "start_time": "2023-08-03T17:12:42.842Z"
   },
   {
    "duration": 0,
    "start_time": "2023-08-03T17:12:42.844Z"
   },
   {
    "duration": 0,
    "start_time": "2023-08-03T17:12:42.845Z"
   },
   {
    "duration": 0,
    "start_time": "2023-08-03T17:12:42.846Z"
   },
   {
    "duration": 0,
    "start_time": "2023-08-03T17:12:42.848Z"
   },
   {
    "duration": 0,
    "start_time": "2023-08-03T17:12:42.849Z"
   },
   {
    "duration": 0,
    "start_time": "2023-08-03T17:12:42.851Z"
   },
   {
    "duration": 0,
    "start_time": "2023-08-03T17:12:42.852Z"
   },
   {
    "duration": 0,
    "start_time": "2023-08-03T17:12:42.853Z"
   },
   {
    "duration": 0,
    "start_time": "2023-08-03T17:12:42.893Z"
   },
   {
    "duration": 0,
    "start_time": "2023-08-03T17:12:42.894Z"
   },
   {
    "duration": 0,
    "start_time": "2023-08-03T17:12:42.895Z"
   },
   {
    "duration": 0,
    "start_time": "2023-08-03T17:12:42.896Z"
   },
   {
    "duration": 0,
    "start_time": "2023-08-03T17:12:42.896Z"
   },
   {
    "duration": 0,
    "start_time": "2023-08-03T17:12:42.897Z"
   },
   {
    "duration": 0,
    "start_time": "2023-08-03T17:12:42.898Z"
   },
   {
    "duration": 0,
    "start_time": "2023-08-03T17:12:42.899Z"
   },
   {
    "duration": 0,
    "start_time": "2023-08-03T17:12:42.900Z"
   },
   {
    "duration": 0,
    "start_time": "2023-08-03T17:12:42.901Z"
   },
   {
    "duration": 0,
    "start_time": "2023-08-03T17:12:42.903Z"
   },
   {
    "duration": 0,
    "start_time": "2023-08-03T17:12:42.905Z"
   },
   {
    "duration": 0,
    "start_time": "2023-08-03T17:12:42.906Z"
   },
   {
    "duration": 0,
    "start_time": "2023-08-03T17:12:42.907Z"
   },
   {
    "duration": 0,
    "start_time": "2023-08-03T17:12:42.908Z"
   },
   {
    "duration": 0,
    "start_time": "2023-08-03T17:12:42.909Z"
   },
   {
    "duration": 0,
    "start_time": "2023-08-03T17:12:42.909Z"
   },
   {
    "duration": 0,
    "start_time": "2023-08-03T17:12:42.910Z"
   },
   {
    "duration": 102,
    "start_time": "2023-08-03T17:17:02.410Z"
   },
   {
    "duration": 1672,
    "start_time": "2023-08-03T17:17:21.351Z"
   },
   {
    "duration": 89,
    "start_time": "2023-08-03T17:17:23.025Z"
   },
   {
    "duration": 16,
    "start_time": "2023-08-03T17:17:23.116Z"
   },
   {
    "duration": 45,
    "start_time": "2023-08-03T17:17:23.133Z"
   },
   {
    "duration": 19,
    "start_time": "2023-08-03T17:17:23.180Z"
   },
   {
    "duration": 44,
    "start_time": "2023-08-03T17:17:23.201Z"
   },
   {
    "duration": 17,
    "start_time": "2023-08-03T17:17:23.248Z"
   },
   {
    "duration": 9,
    "start_time": "2023-08-03T17:17:23.266Z"
   },
   {
    "duration": 29,
    "start_time": "2023-08-03T17:17:23.276Z"
   },
   {
    "duration": 74,
    "start_time": "2023-08-03T17:17:23.309Z"
   },
   {
    "duration": 23,
    "start_time": "2023-08-03T17:17:23.385Z"
   },
   {
    "duration": 30,
    "start_time": "2023-08-03T17:17:23.410Z"
   },
   {
    "duration": 23,
    "start_time": "2023-08-03T17:17:23.443Z"
   },
   {
    "duration": 30,
    "start_time": "2023-08-03T17:17:23.468Z"
   },
   {
    "duration": 26,
    "start_time": "2023-08-03T17:17:23.509Z"
   },
   {
    "duration": 61,
    "start_time": "2023-08-03T17:17:23.537Z"
   },
   {
    "duration": 6,
    "start_time": "2023-08-03T17:17:23.600Z"
   },
   {
    "duration": 151,
    "start_time": "2023-08-03T17:17:23.607Z"
   },
   {
    "duration": 211,
    "start_time": "2023-08-03T17:17:23.760Z"
   },
   {
    "duration": 380,
    "start_time": "2023-08-03T17:17:23.973Z"
   },
   {
    "duration": 9,
    "start_time": "2023-08-03T17:17:24.355Z"
   },
   {
    "duration": 39,
    "start_time": "2023-08-03T17:17:24.365Z"
   },
   {
    "duration": 339,
    "start_time": "2023-08-03T17:17:24.406Z"
   },
   {
    "duration": 10,
    "start_time": "2023-08-03T17:17:24.747Z"
   },
   {
    "duration": 33,
    "start_time": "2023-08-03T17:17:24.759Z"
   },
   {
    "duration": 21,
    "start_time": "2023-08-03T17:17:24.794Z"
   },
   {
    "duration": 283,
    "start_time": "2023-08-03T17:17:24.817Z"
   },
   {
    "duration": 0,
    "start_time": "2023-08-03T17:17:25.104Z"
   },
   {
    "duration": 0,
    "start_time": "2023-08-03T17:17:25.108Z"
   },
   {
    "duration": 0,
    "start_time": "2023-08-03T17:17:25.113Z"
   },
   {
    "duration": 0,
    "start_time": "2023-08-03T17:17:25.115Z"
   },
   {
    "duration": 0,
    "start_time": "2023-08-03T17:17:25.116Z"
   },
   {
    "duration": 0,
    "start_time": "2023-08-03T17:17:25.119Z"
   },
   {
    "duration": 0,
    "start_time": "2023-08-03T17:17:25.120Z"
   },
   {
    "duration": 0,
    "start_time": "2023-08-03T17:17:25.122Z"
   },
   {
    "duration": 0,
    "start_time": "2023-08-03T17:17:25.123Z"
   },
   {
    "duration": 0,
    "start_time": "2023-08-03T17:17:25.124Z"
   },
   {
    "duration": 0,
    "start_time": "2023-08-03T17:17:25.126Z"
   },
   {
    "duration": 0,
    "start_time": "2023-08-03T17:17:25.127Z"
   },
   {
    "duration": 0,
    "start_time": "2023-08-03T17:17:25.128Z"
   },
   {
    "duration": 0,
    "start_time": "2023-08-03T17:17:25.130Z"
   },
   {
    "duration": 0,
    "start_time": "2023-08-03T17:17:25.132Z"
   },
   {
    "duration": 0,
    "start_time": "2023-08-03T17:17:25.133Z"
   },
   {
    "duration": 0,
    "start_time": "2023-08-03T17:17:25.134Z"
   },
   {
    "duration": 0,
    "start_time": "2023-08-03T17:17:25.135Z"
   },
   {
    "duration": 0,
    "start_time": "2023-08-03T17:17:25.136Z"
   },
   {
    "duration": 0,
    "start_time": "2023-08-03T17:17:25.138Z"
   },
   {
    "duration": 0,
    "start_time": "2023-08-03T17:17:25.141Z"
   },
   {
    "duration": 0,
    "start_time": "2023-08-03T17:17:25.142Z"
   },
   {
    "duration": 0,
    "start_time": "2023-08-03T17:17:25.143Z"
   },
   {
    "duration": 0,
    "start_time": "2023-08-03T17:17:25.144Z"
   },
   {
    "duration": 0,
    "start_time": "2023-08-03T17:17:25.146Z"
   },
   {
    "duration": 0,
    "start_time": "2023-08-03T17:17:25.148Z"
   },
   {
    "duration": 0,
    "start_time": "2023-08-03T17:17:25.193Z"
   },
   {
    "duration": 0,
    "start_time": "2023-08-03T17:17:25.194Z"
   },
   {
    "duration": 0,
    "start_time": "2023-08-03T17:17:25.196Z"
   },
   {
    "duration": 0,
    "start_time": "2023-08-03T17:17:25.199Z"
   },
   {
    "duration": 0,
    "start_time": "2023-08-03T17:17:25.200Z"
   },
   {
    "duration": 0,
    "start_time": "2023-08-03T17:17:25.202Z"
   },
   {
    "duration": 0,
    "start_time": "2023-08-03T17:17:25.203Z"
   },
   {
    "duration": 0,
    "start_time": "2023-08-03T17:17:25.205Z"
   },
   {
    "duration": 0,
    "start_time": "2023-08-03T17:17:25.206Z"
   },
   {
    "duration": 0,
    "start_time": "2023-08-03T17:17:25.207Z"
   },
   {
    "duration": 0,
    "start_time": "2023-08-03T17:17:25.208Z"
   },
   {
    "duration": 0,
    "start_time": "2023-08-03T17:17:25.209Z"
   },
   {
    "duration": 63,
    "start_time": "2023-08-03T17:17:48.442Z"
   },
   {
    "duration": 1601,
    "start_time": "2023-08-03T17:17:54.264Z"
   },
   {
    "duration": 82,
    "start_time": "2023-08-03T17:17:55.866Z"
   },
   {
    "duration": 19,
    "start_time": "2023-08-03T17:17:55.950Z"
   },
   {
    "duration": 62,
    "start_time": "2023-08-03T17:17:55.971Z"
   },
   {
    "duration": 32,
    "start_time": "2023-08-03T17:17:56.035Z"
   },
   {
    "duration": 59,
    "start_time": "2023-08-03T17:17:56.069Z"
   },
   {
    "duration": 33,
    "start_time": "2023-08-03T17:17:56.130Z"
   },
   {
    "duration": 52,
    "start_time": "2023-08-03T17:17:56.164Z"
   },
   {
    "duration": 36,
    "start_time": "2023-08-03T17:17:56.221Z"
   },
   {
    "duration": 76,
    "start_time": "2023-08-03T17:17:56.260Z"
   },
   {
    "duration": 8,
    "start_time": "2023-08-03T17:17:56.338Z"
   },
   {
    "duration": 29,
    "start_time": "2023-08-03T17:17:56.348Z"
   },
   {
    "duration": 41,
    "start_time": "2023-08-03T17:17:56.379Z"
   },
   {
    "duration": 41,
    "start_time": "2023-08-03T17:17:56.422Z"
   },
   {
    "duration": 35,
    "start_time": "2023-08-03T17:17:56.464Z"
   },
   {
    "duration": 27,
    "start_time": "2023-08-03T17:17:56.500Z"
   },
   {
    "duration": 66,
    "start_time": "2023-08-03T17:17:56.528Z"
   },
   {
    "duration": 92,
    "start_time": "2023-08-03T17:17:56.599Z"
   },
   {
    "duration": 172,
    "start_time": "2023-08-03T17:17:56.698Z"
   },
   {
    "duration": 380,
    "start_time": "2023-08-03T17:17:56.872Z"
   },
   {
    "duration": 9,
    "start_time": "2023-08-03T17:17:57.254Z"
   },
   {
    "duration": 33,
    "start_time": "2023-08-03T17:17:57.265Z"
   },
   {
    "duration": 304,
    "start_time": "2023-08-03T17:17:57.303Z"
   },
   {
    "duration": 11,
    "start_time": "2023-08-03T17:17:57.609Z"
   },
   {
    "duration": 26,
    "start_time": "2023-08-03T17:17:57.623Z"
   },
   {
    "duration": 46,
    "start_time": "2023-08-03T17:17:57.652Z"
   },
   {
    "duration": 53,
    "start_time": "2023-08-03T17:17:57.703Z"
   },
   {
    "duration": 16,
    "start_time": "2023-08-03T17:17:57.760Z"
   },
   {
    "duration": 297,
    "start_time": "2023-08-03T17:17:57.778Z"
   },
   {
    "duration": 19,
    "start_time": "2023-08-03T17:17:58.077Z"
   },
   {
    "duration": 119,
    "start_time": "2023-08-03T17:17:58.098Z"
   },
   {
    "duration": 6,
    "start_time": "2023-08-03T17:17:58.219Z"
   },
   {
    "duration": 55,
    "start_time": "2023-08-03T17:17:58.227Z"
   },
   {
    "duration": 91,
    "start_time": "2023-08-03T17:17:58.284Z"
   },
   {
    "duration": 23,
    "start_time": "2023-08-03T17:17:58.377Z"
   },
   {
    "duration": 321,
    "start_time": "2023-08-03T17:17:58.405Z"
   },
   {
    "duration": 14,
    "start_time": "2023-08-03T17:17:58.729Z"
   },
   {
    "duration": 199,
    "start_time": "2023-08-03T17:17:58.744Z"
   },
   {
    "duration": 110,
    "start_time": "2023-08-03T17:17:58.944Z"
   },
   {
    "duration": 10840,
    "start_time": "2023-08-03T17:17:59.055Z"
   },
   {
    "duration": 12,
    "start_time": "2023-08-03T17:18:09.896Z"
   },
   {
    "duration": 83,
    "start_time": "2023-08-03T17:18:09.910Z"
   },
   {
    "duration": 22,
    "start_time": "2023-08-03T17:18:09.996Z"
   },
   {
    "duration": 222,
    "start_time": "2023-08-03T17:18:10.021Z"
   },
   {
    "duration": 61,
    "start_time": "2023-08-03T17:18:10.245Z"
   },
   {
    "duration": 47,
    "start_time": "2023-08-03T17:18:10.308Z"
   },
   {
    "duration": 50,
    "start_time": "2023-08-03T17:18:10.357Z"
   },
   {
    "duration": 69,
    "start_time": "2023-08-03T17:18:10.409Z"
   },
   {
    "duration": 288,
    "start_time": "2023-08-03T17:18:10.480Z"
   },
   {
    "duration": 27,
    "start_time": "2023-08-03T17:18:10.770Z"
   },
   {
    "duration": 39,
    "start_time": "2023-08-03T17:18:10.798Z"
   },
   {
    "duration": 313,
    "start_time": "2023-08-03T17:18:10.839Z"
   },
   {
    "duration": 5,
    "start_time": "2023-08-03T17:18:11.154Z"
   },
   {
    "duration": 40,
    "start_time": "2023-08-03T17:18:11.160Z"
   },
   {
    "duration": 172,
    "start_time": "2023-08-03T17:18:11.202Z"
   },
   {
    "duration": 216,
    "start_time": "2023-08-03T17:18:11.375Z"
   },
   {
    "duration": 15,
    "start_time": "2023-08-03T17:18:11.593Z"
   },
   {
    "duration": 2615,
    "start_time": "2023-08-03T17:18:11.611Z"
   },
   {
    "duration": 7,
    "start_time": "2023-08-03T17:18:14.228Z"
   },
   {
    "duration": 55,
    "start_time": "2023-08-03T17:18:14.237Z"
   },
   {
    "duration": 9,
    "start_time": "2023-08-03T17:18:14.306Z"
   },
   {
    "duration": 45,
    "start_time": "2023-08-03T17:18:14.317Z"
   },
   {
    "duration": 139,
    "start_time": "2023-08-03T17:18:14.364Z"
   },
   {
    "duration": 614,
    "start_time": "2023-08-03T17:18:14.505Z"
   },
   {
    "duration": 14,
    "start_time": "2023-08-03T17:18:15.123Z"
   },
   {
    "duration": 191,
    "start_time": "2023-08-03T17:27:44.345Z"
   },
   {
    "duration": 19,
    "start_time": "2023-08-03T17:27:53.607Z"
   },
   {
    "duration": 19,
    "start_time": "2023-08-03T17:28:01.408Z"
   },
   {
    "duration": 26,
    "start_time": "2023-08-03T17:28:09.715Z"
   },
   {
    "duration": 18,
    "start_time": "2023-08-03T17:28:13.219Z"
   },
   {
    "duration": 21,
    "start_time": "2023-08-03T17:28:29.887Z"
   },
   {
    "duration": 20,
    "start_time": "2023-08-03T17:29:59.058Z"
   },
   {
    "duration": 19,
    "start_time": "2023-08-03T17:30:09.563Z"
   },
   {
    "duration": 60,
    "start_time": "2023-08-03T17:30:21.841Z"
   },
   {
    "duration": 21,
    "start_time": "2023-08-03T17:33:05.564Z"
   },
   {
    "duration": 18,
    "start_time": "2023-08-03T17:33:13.428Z"
   },
   {
    "duration": 59,
    "start_time": "2023-08-03T17:33:40.348Z"
   },
   {
    "duration": 25,
    "start_time": "2023-08-03T18:09:13.205Z"
   },
   {
    "duration": 26,
    "start_time": "2023-08-03T18:09:38.812Z"
   },
   {
    "duration": 13,
    "start_time": "2023-08-03T18:11:17.303Z"
   },
   {
    "duration": 56,
    "start_time": "2023-08-03T18:11:20.509Z"
   },
   {
    "duration": 31,
    "start_time": "2023-08-03T18:12:39.862Z"
   },
   {
    "duration": 23,
    "start_time": "2023-08-03T18:12:42.344Z"
   },
   {
    "duration": 94,
    "start_time": "2023-08-03T18:13:22.617Z"
   },
   {
    "duration": 21,
    "start_time": "2023-08-03T18:13:29.743Z"
   },
   {
    "duration": 30,
    "start_time": "2023-08-03T18:13:54.304Z"
   },
   {
    "duration": 110,
    "start_time": "2023-08-03T18:14:03.981Z"
   },
   {
    "duration": 24,
    "start_time": "2023-08-03T18:14:09.020Z"
   },
   {
    "duration": 16,
    "start_time": "2023-08-03T18:14:51.924Z"
   },
   {
    "duration": 16,
    "start_time": "2023-08-03T18:15:01.949Z"
   },
   {
    "duration": 64,
    "start_time": "2023-08-03T18:15:04.508Z"
   },
   {
    "duration": 10,
    "start_time": "2023-08-03T18:20:36.728Z"
   },
   {
    "duration": 54,
    "start_time": "2023-08-03T18:20:37.989Z"
   },
   {
    "duration": 159,
    "start_time": "2023-08-03T18:24:52.139Z"
   },
   {
    "duration": 125,
    "start_time": "2023-08-03T18:31:47.940Z"
   },
   {
    "duration": 1343,
    "start_time": "2023-08-04T05:19:40.418Z"
   },
   {
    "duration": 106,
    "start_time": "2023-08-04T05:19:41.763Z"
   },
   {
    "duration": 13,
    "start_time": "2023-08-04T05:19:41.870Z"
   },
   {
    "duration": 30,
    "start_time": "2023-08-04T05:19:41.885Z"
   },
   {
    "duration": 8,
    "start_time": "2023-08-04T05:19:41.916Z"
   },
   {
    "duration": 33,
    "start_time": "2023-08-04T05:19:41.925Z"
   },
   {
    "duration": 14,
    "start_time": "2023-08-04T05:19:41.959Z"
   },
   {
    "duration": 6,
    "start_time": "2023-08-04T05:19:41.975Z"
   },
   {
    "duration": 20,
    "start_time": "2023-08-04T05:19:41.982Z"
   },
   {
    "duration": 42,
    "start_time": "2023-08-04T05:19:42.004Z"
   },
   {
    "duration": 8,
    "start_time": "2023-08-04T05:19:42.048Z"
   },
   {
    "duration": 19,
    "start_time": "2023-08-04T05:19:42.057Z"
   },
   {
    "duration": 25,
    "start_time": "2023-08-04T05:19:42.077Z"
   },
   {
    "duration": 15,
    "start_time": "2023-08-04T05:19:42.104Z"
   },
   {
    "duration": 8,
    "start_time": "2023-08-04T05:19:42.120Z"
   },
   {
    "duration": 31,
    "start_time": "2023-08-04T05:19:42.129Z"
   },
   {
    "duration": 2,
    "start_time": "2023-08-04T05:19:42.162Z"
   },
   {
    "duration": 81,
    "start_time": "2023-08-04T05:19:42.166Z"
   },
   {
    "duration": 232,
    "start_time": "2023-08-04T05:19:42.249Z"
   },
   {
    "duration": 324,
    "start_time": "2023-08-04T05:19:42.482Z"
   },
   {
    "duration": 8,
    "start_time": "2023-08-04T05:19:42.807Z"
   },
   {
    "duration": 68,
    "start_time": "2023-08-04T05:19:42.816Z"
   },
   {
    "duration": 247,
    "start_time": "2023-08-04T05:19:42.885Z"
   },
   {
    "duration": 7,
    "start_time": "2023-08-04T05:19:43.133Z"
   },
   {
    "duration": 11,
    "start_time": "2023-08-04T05:19:43.141Z"
   },
   {
    "duration": 10,
    "start_time": "2023-08-04T05:19:43.153Z"
   },
   {
    "duration": 67,
    "start_time": "2023-08-04T05:19:43.164Z"
   },
   {
    "duration": 15,
    "start_time": "2023-08-04T05:19:43.235Z"
   },
   {
    "duration": 248,
    "start_time": "2023-08-04T05:19:43.252Z"
   },
   {
    "duration": 14,
    "start_time": "2023-08-04T05:19:43.502Z"
   },
   {
    "duration": 96,
    "start_time": "2023-08-04T05:19:43.518Z"
   },
   {
    "duration": 3,
    "start_time": "2023-08-04T05:19:43.616Z"
   },
   {
    "duration": 19,
    "start_time": "2023-08-04T05:19:43.621Z"
   },
   {
    "duration": 84,
    "start_time": "2023-08-04T05:19:43.642Z"
   },
   {
    "duration": 13,
    "start_time": "2023-08-04T05:19:43.727Z"
   },
   {
    "duration": 252,
    "start_time": "2023-08-04T05:19:43.742Z"
   },
   {
    "duration": 14,
    "start_time": "2023-08-04T05:19:43.995Z"
   },
   {
    "duration": 191,
    "start_time": "2023-08-04T05:19:44.010Z"
   },
   {
    "duration": 85,
    "start_time": "2023-08-04T05:19:44.202Z"
   },
   {
    "duration": 8553,
    "start_time": "2023-08-04T05:19:44.289Z"
   },
   {
    "duration": 7,
    "start_time": "2023-08-04T05:19:52.844Z"
   },
   {
    "duration": 59,
    "start_time": "2023-08-04T05:19:52.852Z"
   },
   {
    "duration": 13,
    "start_time": "2023-08-04T05:19:52.913Z"
   },
   {
    "duration": 173,
    "start_time": "2023-08-04T05:19:52.927Z"
   },
   {
    "duration": 15,
    "start_time": "2023-08-04T05:19:53.101Z"
   },
   {
    "duration": 79,
    "start_time": "2023-08-04T05:19:53.117Z"
   },
   {
    "duration": 19,
    "start_time": "2023-08-04T05:19:53.197Z"
   },
   {
    "duration": 13,
    "start_time": "2023-08-04T05:19:53.217Z"
   },
   {
    "duration": 194,
    "start_time": "2023-08-04T05:19:53.231Z"
   },
   {
    "duration": 10,
    "start_time": "2023-08-04T05:19:53.427Z"
   },
   {
    "duration": 16,
    "start_time": "2023-08-04T05:19:53.438Z"
   },
   {
    "duration": 246,
    "start_time": "2023-08-04T05:19:53.455Z"
   },
   {
    "duration": 5,
    "start_time": "2023-08-04T05:19:53.702Z"
   },
   {
    "duration": 10,
    "start_time": "2023-08-04T05:19:53.708Z"
   },
   {
    "duration": 113,
    "start_time": "2023-08-04T05:19:53.719Z"
   },
   {
    "duration": 168,
    "start_time": "2023-08-04T05:19:53.833Z"
   },
   {
    "duration": 5,
    "start_time": "2023-08-04T05:19:54.003Z"
   },
   {
    "duration": 2045,
    "start_time": "2023-08-04T05:19:54.010Z"
   },
   {
    "duration": 6,
    "start_time": "2023-08-04T05:19:56.056Z"
   },
   {
    "duration": 44,
    "start_time": "2023-08-04T05:19:56.063Z"
   },
   {
    "duration": 6,
    "start_time": "2023-08-04T05:19:56.109Z"
   },
   {
    "duration": 17,
    "start_time": "2023-08-04T05:19:56.116Z"
   },
   {
    "duration": 110,
    "start_time": "2023-08-04T05:19:56.134Z"
   },
   {
    "duration": 452,
    "start_time": "2023-08-04T05:19:56.245Z"
   },
   {
    "duration": 10,
    "start_time": "2023-08-04T05:19:56.698Z"
   },
   {
    "duration": 20,
    "start_time": "2023-08-04T05:25:22.170Z"
   },
   {
    "duration": 1596,
    "start_time": "2023-08-04T07:38:54.683Z"
   },
   {
    "duration": 114,
    "start_time": "2023-08-04T07:38:56.281Z"
   },
   {
    "duration": 13,
    "start_time": "2023-08-04T07:38:56.397Z"
   },
   {
    "duration": 25,
    "start_time": "2023-08-04T07:38:56.413Z"
   },
   {
    "duration": 8,
    "start_time": "2023-08-04T07:38:56.439Z"
   },
   {
    "duration": 49,
    "start_time": "2023-08-04T07:38:56.449Z"
   },
   {
    "duration": 14,
    "start_time": "2023-08-04T07:38:56.500Z"
   },
   {
    "duration": 7,
    "start_time": "2023-08-04T07:38:56.515Z"
   },
   {
    "duration": 7,
    "start_time": "2023-08-04T07:38:56.524Z"
   },
   {
    "duration": 64,
    "start_time": "2023-08-04T07:38:56.533Z"
   },
   {
    "duration": 8,
    "start_time": "2023-08-04T07:38:56.599Z"
   },
   {
    "duration": 10,
    "start_time": "2023-08-04T07:38:56.609Z"
   },
   {
    "duration": 10,
    "start_time": "2023-08-04T07:38:56.621Z"
   },
   {
    "duration": 17,
    "start_time": "2023-08-04T07:38:56.633Z"
   },
   {
    "duration": 39,
    "start_time": "2023-08-04T07:38:56.653Z"
   },
   {
    "duration": 25,
    "start_time": "2023-08-04T07:38:56.694Z"
   },
   {
    "duration": 3,
    "start_time": "2023-08-04T07:38:56.720Z"
   },
   {
    "duration": 79,
    "start_time": "2023-08-04T07:38:56.725Z"
   },
   {
    "duration": 179,
    "start_time": "2023-08-04T07:38:56.806Z"
   },
   {
    "duration": 376,
    "start_time": "2023-08-04T07:38:56.987Z"
   },
   {
    "duration": 10,
    "start_time": "2023-08-04T07:38:57.364Z"
   },
   {
    "duration": 22,
    "start_time": "2023-08-04T07:38:57.375Z"
   },
   {
    "duration": 278,
    "start_time": "2023-08-04T07:38:57.399Z"
   },
   {
    "duration": 13,
    "start_time": "2023-08-04T07:38:57.678Z"
   },
   {
    "duration": 8,
    "start_time": "2023-08-04T07:38:57.692Z"
   },
   {
    "duration": 9,
    "start_time": "2023-08-04T07:38:57.701Z"
   },
   {
    "duration": 46,
    "start_time": "2023-08-04T07:38:57.711Z"
   },
   {
    "duration": 42,
    "start_time": "2023-08-04T07:38:57.762Z"
   },
   {
    "duration": 19,
    "start_time": "2023-08-04T07:38:57.806Z"
   },
   {
    "duration": 15,
    "start_time": "2023-08-04T07:38:57.827Z"
   },
   {
    "duration": 286,
    "start_time": "2023-08-04T07:38:57.844Z"
   },
   {
    "duration": 15,
    "start_time": "2023-08-04T07:38:58.132Z"
   },
   {
    "duration": 97,
    "start_time": "2023-08-04T07:38:58.148Z"
   },
   {
    "duration": 4,
    "start_time": "2023-08-04T07:38:58.247Z"
   },
   {
    "duration": 41,
    "start_time": "2023-08-04T07:38:58.252Z"
   },
   {
    "duration": 64,
    "start_time": "2023-08-04T07:38:58.295Z"
   },
   {
    "duration": 30,
    "start_time": "2023-08-04T07:38:58.361Z"
   },
   {
    "duration": 262,
    "start_time": "2023-08-04T07:38:58.393Z"
   },
   {
    "duration": 12,
    "start_time": "2023-08-04T07:38:58.657Z"
   },
   {
    "duration": 188,
    "start_time": "2023-08-04T07:38:58.671Z"
   },
   {
    "duration": 90,
    "start_time": "2023-08-04T07:38:58.861Z"
   },
   {
    "duration": 9357,
    "start_time": "2023-08-04T07:38:58.952Z"
   },
   {
    "duration": 7,
    "start_time": "2023-08-04T07:39:08.312Z"
   },
   {
    "duration": 71,
    "start_time": "2023-08-04T07:39:08.321Z"
   },
   {
    "duration": 16,
    "start_time": "2023-08-04T07:39:08.394Z"
   },
   {
    "duration": 193,
    "start_time": "2023-08-04T07:39:08.412Z"
   },
   {
    "duration": 18,
    "start_time": "2023-08-04T07:39:08.607Z"
   },
   {
    "duration": 35,
    "start_time": "2023-08-04T07:39:08.626Z"
   },
   {
    "duration": 24,
    "start_time": "2023-08-04T07:39:08.688Z"
   },
   {
    "duration": 64,
    "start_time": "2023-08-04T07:39:08.714Z"
   },
   {
    "duration": 235,
    "start_time": "2023-08-04T07:39:08.779Z"
   },
   {
    "duration": 11,
    "start_time": "2023-08-04T07:39:09.015Z"
   },
   {
    "duration": 24,
    "start_time": "2023-08-04T07:39:09.028Z"
   },
   {
    "duration": 278,
    "start_time": "2023-08-04T07:39:09.053Z"
   },
   {
    "duration": 5,
    "start_time": "2023-08-04T07:39:09.333Z"
   },
   {
    "duration": 46,
    "start_time": "2023-08-04T07:39:09.339Z"
   },
   {
    "duration": 148,
    "start_time": "2023-08-04T07:39:09.387Z"
   },
   {
    "duration": 184,
    "start_time": "2023-08-04T07:39:09.537Z"
   },
   {
    "duration": 6,
    "start_time": "2023-08-04T07:39:09.723Z"
   },
   {
    "duration": 2287,
    "start_time": "2023-08-04T07:39:09.731Z"
   },
   {
    "duration": 7,
    "start_time": "2023-08-04T07:39:12.020Z"
   },
   {
    "duration": 60,
    "start_time": "2023-08-04T07:39:12.029Z"
   },
   {
    "duration": 8,
    "start_time": "2023-08-04T07:39:12.091Z"
   },
   {
    "duration": 35,
    "start_time": "2023-08-04T07:39:12.101Z"
   },
   {
    "duration": 125,
    "start_time": "2023-08-04T07:39:12.138Z"
   },
   {
    "duration": 513,
    "start_time": "2023-08-04T07:39:12.265Z"
   },
   {
    "duration": 14,
    "start_time": "2023-08-04T07:39:12.780Z"
   },
   {
    "duration": 52,
    "start_time": "2023-08-04T07:41:57.907Z"
   },
   {
    "duration": 120,
    "start_time": "2023-08-04T07:42:37.514Z"
   },
   {
    "duration": 62,
    "start_time": "2023-08-04T07:42:45.050Z"
   },
   {
    "duration": 49,
    "start_time": "2023-08-04T07:44:00.810Z"
   },
   {
    "duration": 49,
    "start_time": "2023-08-04T07:45:23.193Z"
   },
   {
    "duration": 5,
    "start_time": "2023-08-04T07:52:10.739Z"
   },
   {
    "duration": 47,
    "start_time": "2023-08-04T07:52:14.397Z"
   },
   {
    "duration": 18,
    "start_time": "2023-08-04T07:52:28.768Z"
   },
   {
    "duration": 51,
    "start_time": "2023-08-04T07:52:29.483Z"
   },
   {
    "duration": 55,
    "start_time": "2023-08-04T07:53:02.074Z"
   },
   {
    "duration": 19,
    "start_time": "2023-08-04T07:54:13.929Z"
   },
   {
    "duration": 170,
    "start_time": "2023-08-04T07:54:45.899Z"
   },
   {
    "duration": 50,
    "start_time": "2023-08-04T07:54:57.499Z"
   },
   {
    "duration": 349,
    "start_time": "2023-08-04T07:57:22.701Z"
   },
   {
    "duration": 211,
    "start_time": "2023-08-04T07:57:57.137Z"
   },
   {
    "duration": 47,
    "start_time": "2023-08-04T07:58:48.026Z"
   },
   {
    "duration": 19,
    "start_time": "2023-08-04T07:59:09.207Z"
   },
   {
    "duration": 48,
    "start_time": "2023-08-04T07:59:09.850Z"
   },
   {
    "duration": 28,
    "start_time": "2023-08-04T08:00:57.773Z"
   },
   {
    "duration": 21,
    "start_time": "2023-08-04T08:01:09.445Z"
   },
   {
    "duration": 47,
    "start_time": "2023-08-04T08:01:18.107Z"
   },
   {
    "duration": 47,
    "start_time": "2023-08-04T08:04:47.749Z"
   },
   {
    "duration": 47,
    "start_time": "2023-08-04T08:04:57.081Z"
   },
   {
    "duration": 1629,
    "start_time": "2023-08-04T08:35:12.763Z"
   },
   {
    "duration": 250,
    "start_time": "2023-08-04T08:35:14.394Z"
   },
   {
    "duration": 15,
    "start_time": "2023-08-04T08:35:14.645Z"
   },
   {
    "duration": 49,
    "start_time": "2023-08-04T08:35:14.662Z"
   },
   {
    "duration": 8,
    "start_time": "2023-08-04T08:35:14.712Z"
   },
   {
    "duration": 27,
    "start_time": "2023-08-04T08:35:14.722Z"
   },
   {
    "duration": 14,
    "start_time": "2023-08-04T08:35:14.751Z"
   },
   {
    "duration": 13,
    "start_time": "2023-08-04T08:35:14.766Z"
   },
   {
    "duration": 7,
    "start_time": "2023-08-04T08:35:14.781Z"
   },
   {
    "duration": 38,
    "start_time": "2023-08-04T08:35:14.790Z"
   },
   {
    "duration": 8,
    "start_time": "2023-08-04T08:35:14.830Z"
   },
   {
    "duration": 27,
    "start_time": "2023-08-04T08:35:14.839Z"
   },
   {
    "duration": 14,
    "start_time": "2023-08-04T08:35:14.867Z"
   },
   {
    "duration": 16,
    "start_time": "2023-08-04T08:35:14.882Z"
   },
   {
    "duration": 12,
    "start_time": "2023-08-04T08:35:14.900Z"
   },
   {
    "duration": 25,
    "start_time": "2023-08-04T08:35:14.914Z"
   },
   {
    "duration": 4,
    "start_time": "2023-08-04T08:35:14.940Z"
   },
   {
    "duration": 101,
    "start_time": "2023-08-04T08:35:14.945Z"
   },
   {
    "duration": 254,
    "start_time": "2023-08-04T08:35:15.048Z"
   },
   {
    "duration": 356,
    "start_time": "2023-08-04T08:35:15.303Z"
   },
   {
    "duration": 20,
    "start_time": "2023-08-04T08:35:15.660Z"
   },
   {
    "duration": 10,
    "start_time": "2023-08-04T08:35:15.682Z"
   },
   {
    "duration": 283,
    "start_time": "2023-08-04T08:35:15.693Z"
   },
   {
    "duration": 7,
    "start_time": "2023-08-04T08:35:15.978Z"
   },
   {
    "duration": 14,
    "start_time": "2023-08-04T08:35:15.987Z"
   },
   {
    "duration": 22,
    "start_time": "2023-08-04T08:35:16.002Z"
   },
   {
    "duration": 84,
    "start_time": "2023-08-04T08:35:16.025Z"
   },
   {
    "duration": 18,
    "start_time": "2023-08-04T08:35:16.113Z"
   },
   {
    "duration": 14,
    "start_time": "2023-08-04T08:35:16.133Z"
   },
   {
    "duration": 296,
    "start_time": "2023-08-04T08:35:16.149Z"
   },
   {
    "duration": 16,
    "start_time": "2023-08-04T08:35:16.446Z"
   },
   {
    "duration": 107,
    "start_time": "2023-08-04T08:35:16.474Z"
   },
   {
    "duration": 5,
    "start_time": "2023-08-04T08:35:16.582Z"
   },
   {
    "duration": 31,
    "start_time": "2023-08-04T08:35:16.588Z"
   },
   {
    "duration": 74,
    "start_time": "2023-08-04T08:35:16.621Z"
   },
   {
    "duration": 15,
    "start_time": "2023-08-04T08:35:16.697Z"
   },
   {
    "duration": 286,
    "start_time": "2023-08-04T08:35:16.714Z"
   },
   {
    "duration": 13,
    "start_time": "2023-08-04T08:35:17.002Z"
   },
   {
    "duration": 218,
    "start_time": "2023-08-04T08:35:17.016Z"
   },
   {
    "duration": 95,
    "start_time": "2023-08-04T08:35:17.235Z"
   },
   {
    "duration": 9402,
    "start_time": "2023-08-04T08:35:17.332Z"
   },
   {
    "duration": 9,
    "start_time": "2023-08-04T08:35:26.736Z"
   },
   {
    "duration": 44,
    "start_time": "2023-08-04T08:35:26.746Z"
   },
   {
    "duration": 15,
    "start_time": "2023-08-04T08:35:26.791Z"
   },
   {
    "duration": 178,
    "start_time": "2023-08-04T08:35:26.808Z"
   },
   {
    "duration": 17,
    "start_time": "2023-08-04T08:35:26.988Z"
   },
   {
    "duration": 83,
    "start_time": "2023-08-04T08:35:27.006Z"
   },
   {
    "duration": 11,
    "start_time": "2023-08-04T08:35:27.091Z"
   },
   {
    "duration": 22,
    "start_time": "2023-08-04T08:35:27.103Z"
   },
   {
    "duration": 232,
    "start_time": "2023-08-04T08:35:27.127Z"
   },
   {
    "duration": 15,
    "start_time": "2023-08-04T08:35:27.361Z"
   },
   {
    "duration": 24,
    "start_time": "2023-08-04T08:35:27.378Z"
   },
   {
    "duration": 255,
    "start_time": "2023-08-04T08:35:27.404Z"
   },
   {
    "duration": 4,
    "start_time": "2023-08-04T08:35:27.661Z"
   },
   {
    "duration": 33,
    "start_time": "2023-08-04T08:35:27.666Z"
   },
   {
    "duration": 116,
    "start_time": "2023-08-04T08:35:27.701Z"
   },
   {
    "duration": 190,
    "start_time": "2023-08-04T08:35:27.818Z"
   },
   {
    "duration": 7,
    "start_time": "2023-08-04T08:35:28.010Z"
   },
   {
    "duration": 2265,
    "start_time": "2023-08-04T08:35:28.019Z"
   },
   {
    "duration": 7,
    "start_time": "2023-08-04T08:35:30.286Z"
   },
   {
    "duration": 64,
    "start_time": "2023-08-04T08:35:30.294Z"
   },
   {
    "duration": 32,
    "start_time": "2023-08-04T08:35:30.375Z"
   },
   {
    "duration": 90,
    "start_time": "2023-08-04T08:35:30.409Z"
   },
   {
    "duration": 143,
    "start_time": "2023-08-04T08:35:30.501Z"
   },
   {
    "duration": 512,
    "start_time": "2023-08-04T08:35:30.645Z"
   },
   {
    "duration": 22,
    "start_time": "2023-08-04T08:35:31.159Z"
   },
   {
    "duration": 145,
    "start_time": "2023-08-04T08:37:16.903Z"
   },
   {
    "duration": 66,
    "start_time": "2023-08-04T08:37:46.889Z"
   },
   {
    "duration": 160,
    "start_time": "2023-08-04T08:38:16.852Z"
   },
   {
    "duration": 48,
    "start_time": "2023-08-04T08:38:40.728Z"
   },
   {
    "duration": 74,
    "start_time": "2023-08-04T08:38:53.780Z"
   },
   {
    "duration": 1432,
    "start_time": "2023-08-04T08:39:45.351Z"
   },
   {
    "duration": 64,
    "start_time": "2023-08-04T08:39:46.785Z"
   },
   {
    "duration": 16,
    "start_time": "2023-08-04T08:39:46.850Z"
   },
   {
    "duration": 30,
    "start_time": "2023-08-04T08:39:46.868Z"
   },
   {
    "duration": 10,
    "start_time": "2023-08-04T08:39:46.899Z"
   },
   {
    "duration": 53,
    "start_time": "2023-08-04T08:39:46.911Z"
   },
   {
    "duration": 15,
    "start_time": "2023-08-04T08:39:46.966Z"
   },
   {
    "duration": 9,
    "start_time": "2023-08-04T08:39:46.983Z"
   },
   {
    "duration": 10,
    "start_time": "2023-08-04T08:39:46.994Z"
   },
   {
    "duration": 43,
    "start_time": "2023-08-04T08:39:47.006Z"
   },
   {
    "duration": 23,
    "start_time": "2023-08-04T08:39:47.051Z"
   },
   {
    "duration": 8,
    "start_time": "2023-08-04T08:39:47.076Z"
   },
   {
    "duration": 8,
    "start_time": "2023-08-04T08:39:47.085Z"
   },
   {
    "duration": 16,
    "start_time": "2023-08-04T08:39:47.095Z"
   },
   {
    "duration": 4,
    "start_time": "2023-08-04T08:39:47.113Z"
   },
   {
    "duration": 62,
    "start_time": "2023-08-04T08:39:47.119Z"
   },
   {
    "duration": 3,
    "start_time": "2023-08-04T08:39:47.182Z"
   },
   {
    "duration": 90,
    "start_time": "2023-08-04T08:39:47.187Z"
   },
   {
    "duration": 227,
    "start_time": "2023-08-04T08:39:47.279Z"
   },
   {
    "duration": 380,
    "start_time": "2023-08-04T08:39:47.508Z"
   },
   {
    "duration": 9,
    "start_time": "2023-08-04T08:39:47.890Z"
   },
   {
    "duration": 34,
    "start_time": "2023-08-04T08:39:47.901Z"
   },
   {
    "duration": 299,
    "start_time": "2023-08-04T08:39:47.937Z"
   },
   {
    "duration": 8,
    "start_time": "2023-08-04T08:39:48.238Z"
   },
   {
    "duration": 9,
    "start_time": "2023-08-04T08:39:48.248Z"
   },
   {
    "duration": 34,
    "start_time": "2023-08-04T08:39:48.259Z"
   },
   {
    "duration": 51,
    "start_time": "2023-08-04T08:39:48.294Z"
   },
   {
    "duration": 52,
    "start_time": "2023-08-04T08:39:48.375Z"
   },
   {
    "duration": 19,
    "start_time": "2023-08-04T08:39:48.429Z"
   },
   {
    "duration": 38,
    "start_time": "2023-08-04T08:39:48.450Z"
   },
   {
    "duration": 275,
    "start_time": "2023-08-04T08:39:48.490Z"
   },
   {
    "duration": 25,
    "start_time": "2023-08-04T08:39:48.767Z"
   },
   {
    "duration": 114,
    "start_time": "2023-08-04T08:39:48.794Z"
   },
   {
    "duration": 5,
    "start_time": "2023-08-04T08:39:48.910Z"
   },
   {
    "duration": 20,
    "start_time": "2023-08-04T08:39:48.917Z"
   },
   {
    "duration": 88,
    "start_time": "2023-08-04T08:39:48.939Z"
   },
   {
    "duration": 13,
    "start_time": "2023-08-04T08:39:49.028Z"
   },
   {
    "duration": 294,
    "start_time": "2023-08-04T08:39:49.043Z"
   },
   {
    "duration": 12,
    "start_time": "2023-08-04T08:39:49.339Z"
   },
   {
    "duration": 148,
    "start_time": "2023-08-04T08:39:49.353Z"
   },
   {
    "duration": 112,
    "start_time": "2023-08-04T08:39:49.503Z"
   },
   {
    "duration": 10085,
    "start_time": "2023-08-04T08:39:49.617Z"
   },
   {
    "duration": 9,
    "start_time": "2023-08-04T08:39:59.704Z"
   },
   {
    "duration": 70,
    "start_time": "2023-08-04T08:39:59.714Z"
   },
   {
    "duration": 22,
    "start_time": "2023-08-04T08:39:59.786Z"
   },
   {
    "duration": 181,
    "start_time": "2023-08-04T08:39:59.810Z"
   },
   {
    "duration": 17,
    "start_time": "2023-08-04T08:39:59.993Z"
   },
   {
    "duration": 91,
    "start_time": "2023-08-04T08:40:00.011Z"
   },
   {
    "duration": 44,
    "start_time": "2023-08-04T08:40:00.104Z"
   },
   {
    "duration": 79,
    "start_time": "2023-08-04T08:40:00.150Z"
   },
   {
    "duration": 314,
    "start_time": "2023-08-04T08:40:00.231Z"
   },
   {
    "duration": 11,
    "start_time": "2023-08-04T08:40:00.546Z"
   },
   {
    "duration": 39,
    "start_time": "2023-08-04T08:40:00.558Z"
   },
   {
    "duration": 299,
    "start_time": "2023-08-04T08:40:00.599Z"
   },
   {
    "duration": 5,
    "start_time": "2023-08-04T08:40:00.899Z"
   },
   {
    "duration": 47,
    "start_time": "2023-08-04T08:40:00.906Z"
   },
   {
    "duration": 178,
    "start_time": "2023-08-04T08:40:00.955Z"
   },
   {
    "duration": 191,
    "start_time": "2023-08-04T08:40:01.135Z"
   },
   {
    "duration": 7,
    "start_time": "2023-08-04T08:40:01.328Z"
   },
   {
    "duration": 2390,
    "start_time": "2023-08-04T08:40:01.336Z"
   },
   {
    "duration": 6,
    "start_time": "2023-08-04T08:40:03.728Z"
   },
   {
    "duration": 49,
    "start_time": "2023-08-04T08:40:03.735Z"
   },
   {
    "duration": 19,
    "start_time": "2023-08-04T08:40:03.786Z"
   },
   {
    "duration": 33,
    "start_time": "2023-08-04T08:40:03.807Z"
   },
   {
    "duration": 364,
    "start_time": "2023-08-04T08:40:03.842Z"
   },
   {
    "duration": 324,
    "start_time": "2023-08-04T08:40:04.208Z"
   },
   {
    "duration": 11,
    "start_time": "2023-08-04T08:40:04.534Z"
   },
   {
    "duration": 49,
    "start_time": "2023-08-04T08:41:32.132Z"
   },
   {
    "duration": 47,
    "start_time": "2023-08-04T08:41:56.186Z"
   }
  ],
  "kernelspec": {
   "display_name": "Python 3",
   "language": "python",
   "name": "python3"
  },
  "language_info": {
   "codemirror_mode": {
    "name": "ipython",
    "version": 3
   },
   "file_extension": ".py",
   "mimetype": "text/x-python",
   "name": "python",
   "nbconvert_exporter": "python",
   "pygments_lexer": "ipython3",
   "version": "3.8.5"
  },
  "toc": {
   "base_numbering": 1,
   "nav_menu": {},
   "number_sections": false,
   "sideBar": true,
   "skip_h1_title": true,
   "title_cell": "Table of Contents",
   "title_sidebar": "Contents",
   "toc_cell": false,
   "toc_position": {},
   "toc_section_display": true,
   "toc_window_display": false
  }
 },
 "nbformat": 4,
 "nbformat_minor": 2
}
